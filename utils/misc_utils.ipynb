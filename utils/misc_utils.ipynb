{
 "cells": [
  {
   "cell_type": "code",
   "execution_count": null,
   "metadata": {
    "collapsed": true
   },
   "outputs": [],
   "source": [
    "import numpy as np\n",
    "import pandas as pd"
   ]
  },
  {
   "cell_type": "markdown",
   "metadata": {},
   "source": [
    "## label pre-sets"
   ]
  },
  {
   "cell_type": "code",
   "execution_count": 2,
   "metadata": {
    "collapsed": true
   },
   "outputs": [],
   "source": [
    "BETTER_TYPE_DICT = {\"WILDTYPE\": \"WILDTYPE\", \"WILDTYPE_SNP_INDIV\": \"SNP\", \"WILDTYPE_BUT_HAS_SNP\": \"WILDTYPE\", \n",
    "                    \"WILDTYPE_SNP_PLUS_HAPLO\": \"SNP\", \"FLIPPED\": \"FLIPPED\", \"WILDTYPE_BUT_HAS_SNP_DELETION\": \"DELETION\",\n",
    "                    \"WILDTYPE_DELETION\": \"DELETION\", \"FLIPPED_DELETION\": \"DELETION\", \"CONTROL_DELETION\": \"DELETION\",\n",
    "                    \"CONTROL\": \"CONTROL\", \"CONTROL_BUT_HAS_SNP\": \"CONTROL\", \n",
    "                    \"CONTROL_SNP_INDIV\": \"CONTROL_SNP\", \"CONTROL_SNP_PLUS_HAPLO\": \"CONTROL_SNP\", \n",
    "                    \"CONTROL_FLIPPED\": \"CONTROL\",\n",
    "                    \"SCRAMBLED\": \"SCRAMBLED\", \"RANDOM\": \"RANDOM\"}"
   ]
  },
  {
   "cell_type": "markdown",
   "metadata": {},
   "source": [
    "## label functions"
   ]
  },
  {
   "cell_type": "code",
   "execution_count": 3,
   "metadata": {
    "collapsed": true
   },
   "outputs": [],
   "source": [
    "def better_type(row):\n",
    "    old_type = row.oligo_type\n",
    "    new_type = BETTER_TYPE_DICT[old_type]\n",
    "    return new_type"
   ]
  },
  {
   "cell_type": "markdown",
   "metadata": {},
   "source": [
    "## short pandas functions"
   ]
  },
  {
   "cell_type": "code",
   "execution_count": 4,
   "metadata": {
    "collapsed": true
   },
   "outputs": [],
   "source": [
    "def get_item(row, d, key_col):\n",
    "    try:\n",
    "        return d[row[key_col]]\n",
    "    except:\n",
    "        return \"no pvalue calculated\""
   ]
  },
  {
   "cell_type": "code",
   "execution_count": null,
   "metadata": {
    "collapsed": true
   },
   "outputs": [],
   "source": [
    "def active_in_only_one(row):\n",
    "    if row[\"combined_class\"].count(\"sig active\") == 1:\n",
    "        return True\n",
    "    else:\n",
    "        return False\n",
    "    \n",
    "def active_in_only_two(row):\n",
    "    if row[\"combined_class\"].count(\"sig active\") == 2:\n",
    "        return True\n",
    "    else:\n",
    "        return False\n",
    "\n",
    "def active_in_only_three(row):\n",
    "    if row[\"combined_class\"].count(\"sig active\") == 3:\n",
    "        return True\n",
    "    else:\n",
    "        return False"
   ]
  },
  {
   "cell_type": "code",
   "execution_count": null,
   "metadata": {
    "collapsed": true
   },
   "outputs": [],
   "source": [
    "def get_cage_id(row):\n",
    "    if row.oligo_type != \"RANDOM\":\n",
    "        cage_id = row.seq_name.split(\"__\")[1].split(\",\")[0]\n",
    "    else:\n",
    "        cage_id = \"none\"\n",
    "    return cage_id"
   ]
  },
  {
   "cell_type": "markdown",
   "metadata": {
    "collapsed": true
   },
   "source": [
    "## other utils"
   ]
  },
  {
   "cell_type": "code",
   "execution_count": 1,
   "metadata": {
    "collapsed": true
   },
   "outputs": [],
   "source": [
    "def calculate_tissue_specificity(df):\n",
    "    array = df.as_matrix()\n",
    "    array_max = np.max(array, axis=1)\n",
    "    tmp = array.T / array_max\n",
    "    tmp = 1 - tmp.T\n",
    "    specificities = np.sum(tmp, axis=1)/(array.shape[1])\n",
    "    return specificities"
   ]
  },
  {
   "cell_type": "code",
   "execution_count": 2,
   "metadata": {
    "collapsed": true
   },
   "outputs": [],
   "source": [
    "def scale_range(data, minTo, maxTo):\n",
    "    \"\"\"\n",
    "    function to scale data linearly to a new min/max value set\n",
    "    \n",
    "    parameters\n",
    "    ----------\n",
    "    data: array like, list of numbers\n",
    "    minTo: float, minimum of new range desired\n",
    "    maxTo: float, maximum of new range desired\n",
    "    \n",
    "    returns\n",
    "    -------\n",
    "    scaled_data: array like, new list of numbers (appropriately scaled)\n",
    "    \"\"\"\n",
    "    minFrom = np.nanmin(data)\n",
    "    maxFrom = np.nanmax(data)\n",
    "    \n",
    "    scaled_data = []\n",
    "    \n",
    "    for point in data:\n",
    "        new_point = minTo + (maxTo - minTo) * ((point - minFrom)/(maxFrom - minFrom))\n",
    "        scaled_data.append(new_point)\n",
    "    \n",
    "    return scaled_data"
   ]
  },
  {
   "cell_type": "code",
   "execution_count": null,
   "metadata": {
    "collapsed": true
   },
   "outputs": [],
   "source": []
  }
 ],
 "metadata": {
  "kernelspec": {
   "display_name": "Python 3",
   "language": "python",
   "name": "python3"
  },
  "language_info": {
   "codemirror_mode": {
    "name": "ipython",
    "version": 3
   },
   "file_extension": ".py",
   "mimetype": "text/x-python",
   "name": "python",
   "nbconvert_exporter": "python",
   "pygments_lexer": "ipython3",
   "version": "3.6.2"
  }
 },
 "nbformat": 4,
 "nbformat_minor": 2
}
