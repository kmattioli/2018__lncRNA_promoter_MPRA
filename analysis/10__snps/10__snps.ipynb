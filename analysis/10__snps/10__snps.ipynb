{
 "cells": [
  {
   "cell_type": "markdown",
   "metadata": {},
   "source": [
    "# 10__snps\n",
    "# finding regulatory SNPs in MPRA data\n",
    "\n",
    "in this notebook, i call regulatory SNPs by comparing the barcode activities for a reference tile to the barcode activities for the alternative tile. i do this per replicate and then combine the p-values and adjust them (see supplemental methods).\n",
    "\n",
    "------\n",
    "\n",
    "figures in this notebook:\n",
    "- **Fig S15**: volcano plots in HepG2 & K562\n",
    "- **Fig S13**: control SNP swarm plots in HepG2 & K562\n",
    "- **Fig S18**: GWAS SNP swarm plots in HepG2 & K562\n",
    "- **Fig 4B and S14**: scatter plots between number of motifs predicted to be disrupted by FIMO and SNP effect sizes in HepG2 and K562\n",
    "- **Fig 4C**: scatter plot showing effect size differences between HepG2 & K562\n",
    "- **Fig S16B**: barplot showing significant SNPs found when down-sampling replicates in HepG2\n",
    "- **Fig S17**: boxplot showing effect sizes across biotypes"
   ]
  },
  {
   "cell_type": "code",
   "execution_count": 1,
   "metadata": {
    "collapsed": true
   },
   "outputs": [],
   "source": [
    "import warnings\n",
    "warnings.filterwarnings('ignore')\n",
    "\n",
    "import numpy as np\n",
    "import matplotlib as mpl\n",
    "import matplotlib.pyplot as plt\n",
    "import pandas as pd\n",
    "import seaborn as sns\n",
    "import sys\n",
    "import time\n",
    "\n",
    "from decimal import Decimal\n",
    "from scipy import stats\n",
    "from scipy.stats import spearmanr\n",
    "from statsmodels.sandbox.stats import multicomp\n",
    "\n",
    "# import utils\n",
    "sys.path.append(\"../../utils\")\n",
    "from plotting_utils import *\n",
    "from misc_utils import *\n",
    "from norm_utils import *\n",
    "from snp_utils import *\n",
    "\n",
    "%matplotlib inline"
   ]
  },
  {
   "cell_type": "code",
   "execution_count": 2,
   "metadata": {
    "collapsed": true
   },
   "outputs": [],
   "source": [
    "sns.set(**PAPER_PRESET)\n",
    "fontsize = PAPER_FONTSIZE\n",
    "np.random.seed(SEED)"
   ]
  },
  {
   "cell_type": "markdown",
   "metadata": {},
   "source": [
    "## variables"
   ]
  },
  {
   "cell_type": "code",
   "execution_count": 3,
   "metadata": {
    "collapsed": true
   },
   "outputs": [],
   "source": [
    "index_dir = \"../../data/00__index\"\n",
    "activ_dir = \"../../data/02__activs\"\n",
    "pval_dir = \"../../data/03__pvals\""
   ]
  },
  {
   "cell_type": "code",
   "execution_count": 4,
   "metadata": {
    "collapsed": true
   },
   "outputs": [],
   "source": [
    "pool1_index_f = \"%s/tss_oligo_pool.index.txt\" % index_dir\n",
    "pool2_index_f = \"%s/dels_oligo_pool.index.txt\" % index_dir"
   ]
  },
  {
   "cell_type": "code",
   "execution_count": 5,
   "metadata": {
    "collapsed": true
   },
   "outputs": [],
   "source": [
    "hepg2_pool1_activ_f = \"%s/POOL1__pMPRA1__HepG2__activities_per_barcode.txt\" % activ_dir\n",
    "k562_pool1_activ_f = \"%s/POOL1__pMPRA1__K562__activities_per_barcode.txt\" % activ_dir\n",
    "hepg2_pool2_activ_f = \"%s/POOL2__pMPRA1__HepG2__activities_per_barcode.txt\" % activ_dir\n",
    "k562_pool2_activ_f = \"%s/POOL2__pMPRA1__K562__activities_per_barcode.txt\" % activ_dir"
   ]
  },
  {
   "cell_type": "code",
   "execution_count": 6,
   "metadata": {
    "collapsed": true
   },
   "outputs": [],
   "source": [
    "hepg2_pool1_pvals_f = \"%s/POOL1__pMPRA1__HepG2__pvals.txt\" % pval_dir\n",
    "k562_pool1_pvals_f = \"%s/POOL1__pMPRA1__K562__pvals.txt\" % pval_dir\n",
    "hepg2_pool2_pvals_f = \"%s/POOL2__pMPRA1__HepG2__pvals.txt\" % pval_dir\n",
    "k562_pool2_pvals_f = \"%s/POOL2__pMPRA1__K562__pvals.txt\" % pval_dir"
   ]
  },
  {
   "cell_type": "code",
   "execution_count": 7,
   "metadata": {
    "collapsed": true
   },
   "outputs": [],
   "source": [
    "# number of times to downsample hepg2\n",
    "n_samples = 100"
   ]
  },
  {
   "cell_type": "code",
   "execution_count": 8,
   "metadata": {
    "collapsed": true
   },
   "outputs": [],
   "source": [
    "fimo_f = \"../../data/04__coverage/pool1_n_motifs_map.txt\""
   ]
  },
  {
   "cell_type": "code",
   "execution_count": 9,
   "metadata": {
    "collapsed": true
   },
   "outputs": [],
   "source": [
    "annot_f = \"../../misc/00__tss_properties/mpra_id_to_biotype_map.txt\""
   ]
  },
  {
   "cell_type": "markdown",
   "metadata": {},
   "source": [
    "## 1. import data"
   ]
  },
  {
   "cell_type": "code",
   "execution_count": 10,
   "metadata": {
    "collapsed": true
   },
   "outputs": [],
   "source": [
    "pool1_index = pd.read_table(pool1_index_f, sep=\"\\t\")\n",
    "pool2_index = pd.read_table(pool2_index_f, sep=\"\\t\")"
   ]
  },
  {
   "cell_type": "code",
   "execution_count": 11,
   "metadata": {
    "collapsed": true
   },
   "outputs": [],
   "source": [
    "hepg2_pool1_activ = pd.read_table(hepg2_pool1_activ_f, sep=\"\\t\")\n",
    "k562_pool1_activ = pd.read_table(k562_pool1_activ_f, sep=\"\\t\")\n",
    "hepg2_pool2_activ = pd.read_table(hepg2_pool2_activ_f, sep=\"\\t\")\n",
    "k562_pool2_activ = pd.read_table(k562_pool2_activ_f, sep=\"\\t\")"
   ]
  },
  {
   "cell_type": "code",
   "execution_count": 12,
   "metadata": {},
   "outputs": [
    {
     "data": {
      "text/html": [
       "<div>\n",
       "<style>\n",
       "    .dataframe thead tr:only-child th {\n",
       "        text-align: right;\n",
       "    }\n",
       "\n",
       "    .dataframe thead th {\n",
       "        text-align: left;\n",
       "    }\n",
       "\n",
       "    .dataframe tbody tr th {\n",
       "        vertical-align: top;\n",
       "    }\n",
       "</style>\n",
       "<table border=\"1\" class=\"dataframe\">\n",
       "  <thead>\n",
       "    <tr style=\"text-align: right;\">\n",
       "      <th></th>\n",
       "      <th>barcode</th>\n",
       "      <th>rna_3</th>\n",
       "      <th>rna_4</th>\n",
       "      <th>rna_5</th>\n",
       "      <th>rna_6</th>\n",
       "      <th>rna_7</th>\n",
       "      <th>rna_8</th>\n",
       "      <th>rna_9</th>\n",
       "      <th>rna_10</th>\n",
       "      <th>rna_11</th>\n",
       "      <th>rna_12</th>\n",
       "      <th>rna_13</th>\n",
       "      <th>rna_14</th>\n",
       "      <th>rep_mean</th>\n",
       "    </tr>\n",
       "  </thead>\n",
       "  <tbody>\n",
       "    <tr>\n",
       "      <th>0</th>\n",
       "      <td>AAAACAAAGTC</td>\n",
       "      <td>-0.232915</td>\n",
       "      <td>-0.409743</td>\n",
       "      <td>-0.830252</td>\n",
       "      <td>-0.558582</td>\n",
       "      <td>0.259745</td>\n",
       "      <td>0.471566</td>\n",
       "      <td>0.137889</td>\n",
       "      <td>0.605610</td>\n",
       "      <td>-0.115982</td>\n",
       "      <td>0.389549</td>\n",
       "      <td>0.251261</td>\n",
       "      <td>0.360733</td>\n",
       "      <td>0.027407</td>\n",
       "    </tr>\n",
       "    <tr>\n",
       "      <th>1</th>\n",
       "      <td>AAAACAAAGTT</td>\n",
       "      <td>-1.641943</td>\n",
       "      <td>-1.786002</td>\n",
       "      <td>NaN</td>\n",
       "      <td>NaN</td>\n",
       "      <td>NaN</td>\n",
       "      <td>-1.472057</td>\n",
       "      <td>-2.748240</td>\n",
       "      <td>0.123337</td>\n",
       "      <td>-3.569422</td>\n",
       "      <td>-0.959375</td>\n",
       "      <td>-2.188633</td>\n",
       "      <td>-1.877116</td>\n",
       "      <td>-1.791050</td>\n",
       "    </tr>\n",
       "    <tr>\n",
       "      <th>2</th>\n",
       "      <td>AAAACAAATGT</td>\n",
       "      <td>0.445553</td>\n",
       "      <td>0.331374</td>\n",
       "      <td>0.022147</td>\n",
       "      <td>-0.308519</td>\n",
       "      <td>0.782481</td>\n",
       "      <td>0.935864</td>\n",
       "      <td>0.411982</td>\n",
       "      <td>0.688970</td>\n",
       "      <td>0.972243</td>\n",
       "      <td>0.836551</td>\n",
       "      <td>0.892322</td>\n",
       "      <td>0.819801</td>\n",
       "      <td>0.569231</td>\n",
       "    </tr>\n",
       "    <tr>\n",
       "      <th>3</th>\n",
       "      <td>AAAACAACGTC</td>\n",
       "      <td>-0.010666</td>\n",
       "      <td>1.834886</td>\n",
       "      <td>1.047326</td>\n",
       "      <td>-0.196539</td>\n",
       "      <td>0.456452</td>\n",
       "      <td>0.568126</td>\n",
       "      <td>0.930430</td>\n",
       "      <td>1.951003</td>\n",
       "      <td>0.654473</td>\n",
       "      <td>1.429290</td>\n",
       "      <td>2.026544</td>\n",
       "      <td>1.170410</td>\n",
       "      <td>0.988478</td>\n",
       "    </tr>\n",
       "    <tr>\n",
       "      <th>4</th>\n",
       "      <td>AAAACAACGTG</td>\n",
       "      <td>0.339223</td>\n",
       "      <td>0.864835</td>\n",
       "      <td>-1.879958</td>\n",
       "      <td>-0.186074</td>\n",
       "      <td>0.235210</td>\n",
       "      <td>-1.084751</td>\n",
       "      <td>1.190649</td>\n",
       "      <td>1.043910</td>\n",
       "      <td>-1.136628</td>\n",
       "      <td>0.028256</td>\n",
       "      <td>0.408414</td>\n",
       "      <td>0.148594</td>\n",
       "      <td>-0.002360</td>\n",
       "    </tr>\n",
       "  </tbody>\n",
       "</table>\n",
       "</div>"
      ],
      "text/plain": [
       "       barcode     rna_3     rna_4     rna_5     rna_6     rna_7     rna_8  \\\n",
       "0  AAAACAAAGTC -0.232915 -0.409743 -0.830252 -0.558582  0.259745  0.471566   \n",
       "1  AAAACAAAGTT -1.641943 -1.786002       NaN       NaN       NaN -1.472057   \n",
       "2  AAAACAAATGT  0.445553  0.331374  0.022147 -0.308519  0.782481  0.935864   \n",
       "3  AAAACAACGTC -0.010666  1.834886  1.047326 -0.196539  0.456452  0.568126   \n",
       "4  AAAACAACGTG  0.339223  0.864835 -1.879958 -0.186074  0.235210 -1.084751   \n",
       "\n",
       "      rna_9    rna_10    rna_11    rna_12    rna_13    rna_14  rep_mean  \n",
       "0  0.137889  0.605610 -0.115982  0.389549  0.251261  0.360733  0.027407  \n",
       "1 -2.748240  0.123337 -3.569422 -0.959375 -2.188633 -1.877116 -1.791050  \n",
       "2  0.411982  0.688970  0.972243  0.836551  0.892322  0.819801  0.569231  \n",
       "3  0.930430  1.951003  0.654473  1.429290  2.026544  1.170410  0.988478  \n",
       "4  1.190649  1.043910 -1.136628  0.028256  0.408414  0.148594 -0.002360  "
      ]
     },
     "execution_count": 12,
     "metadata": {},
     "output_type": "execute_result"
    }
   ],
   "source": [
    "hepg2_pool1_reps = [x for x in hepg2_pool1_activ.columns if x != \"barcode\"]\n",
    "k562_pool1_reps = [x for x in k562_pool1_activ.columns if x != \"barcode\"]\n",
    "hepg2_pool2_reps = [x for x in hepg2_pool2_activ.columns if x != \"barcode\"]\n",
    "k562_pool2_reps = [x for x in k562_pool2_activ.columns if x != \"barcode\"]\n",
    "\n",
    "hepg2_pool1_activ[\"rep_mean\"] = np.nanmean(hepg2_pool1_activ[hepg2_pool1_reps], axis=1)\n",
    "k562_pool1_activ[\"rep_mean\"] = np.nanmean(k562_pool1_activ[k562_pool1_reps], axis=1)\n",
    "hepg2_pool2_activ[\"rep_mean\"] = np.nanmean(hepg2_pool2_activ[hepg2_pool2_reps], axis=1)\n",
    "k562_pool2_activ[\"rep_mean\"] = np.nanmean(k562_pool2_activ[k562_pool2_reps], axis=1)\n",
    "\n",
    "hepg2_pool1_activ.head()"
   ]
  },
  {
   "cell_type": "code",
   "execution_count": 13,
   "metadata": {
    "collapsed": true
   },
   "outputs": [],
   "source": [
    "pool1_index_elem = pool1_index[[\"oligo_type\", \"dupe_info\", \"seq_name\", \"tile_name\", \"chr\", \"locus_start\", \"locus_end\",\n",
    "                                \"strand\", \"element\", \"unique_id\", \"SNP\"]].drop_duplicates()\n",
    "pool2_index_elem = pool2_index[[\"oligo_type\", \"dupe_info\", \"seq_name\", \"tile_name\", \"chr\", \"locus_start\", \"locus_end\",\n",
    "                                \"strand\", \"element\", \"unique_id\", \"SNP\"]].drop_duplicates()"
   ]
  },
  {
   "cell_type": "code",
   "execution_count": 14,
   "metadata": {
    "collapsed": true
   },
   "outputs": [],
   "source": [
    "hepg2_pool1_pvals = pd.read_table(hepg2_pool1_pvals_f, sep=\"\\t\")\n",
    "k562_pool1_pvals = pd.read_table(k562_pool1_pvals_f, sep=\"\\t\")\n",
    "hepg2_pool2_pvals = pd.read_table(hepg2_pool2_pvals_f, sep=\"\\t\")\n",
    "k562_pool2_pvals = pd.read_table(k562_pool2_pvals_f, sep=\"\\t\")"
   ]
  },
  {
   "cell_type": "code",
   "execution_count": 15,
   "metadata": {},
   "outputs": [
    {
     "data": {
      "text/html": [
       "<div>\n",
       "<style>\n",
       "    .dataframe thead tr:only-child th {\n",
       "        text-align: right;\n",
       "    }\n",
       "\n",
       "    .dataframe thead th {\n",
       "        text-align: left;\n",
       "    }\n",
       "\n",
       "    .dataframe tbody tr th {\n",
       "        vertical-align: top;\n",
       "    }\n",
       "</style>\n",
       "<table border=\"1\" class=\"dataframe\">\n",
       "  <thead>\n",
       "    <tr style=\"text-align: right;\">\n",
       "      <th></th>\n",
       "      <th>seqID</th>\n",
       "      <th>n_motifs</th>\n",
       "    </tr>\n",
       "  </thead>\n",
       "  <tbody>\n",
       "    <tr>\n",
       "      <th>0</th>\n",
       "      <td>CONTROL_BUT_HAS_SNP__control.flip.sense__chr11...</td>\n",
       "      <td>10</td>\n",
       "    </tr>\n",
       "    <tr>\n",
       "      <th>1</th>\n",
       "      <td>CONTROL_BUT_HAS_SNP__control.flip.sense__chr16...</td>\n",
       "      <td>50</td>\n",
       "    </tr>\n",
       "    <tr>\n",
       "      <th>2</th>\n",
       "      <td>CONTROL_BUT_HAS_SNP__control.flip.sense__chr17...</td>\n",
       "      <td>24</td>\n",
       "    </tr>\n",
       "    <tr>\n",
       "      <th>3</th>\n",
       "      <td>CONTROL_BUT_HAS_SNP__control.flip.sense__chr17...</td>\n",
       "      <td>12</td>\n",
       "    </tr>\n",
       "    <tr>\n",
       "      <th>4</th>\n",
       "      <td>CONTROL_BUT_HAS_SNP__control.flip.sense__chr1:...</td>\n",
       "      <td>16</td>\n",
       "    </tr>\n",
       "  </tbody>\n",
       "</table>\n",
       "</div>"
      ],
      "text/plain": [
       "                                               seqID  n_motifs\n",
       "0  CONTROL_BUT_HAS_SNP__control.flip.sense__chr11...        10\n",
       "1  CONTROL_BUT_HAS_SNP__control.flip.sense__chr16...        50\n",
       "2  CONTROL_BUT_HAS_SNP__control.flip.sense__chr17...        24\n",
       "3  CONTROL_BUT_HAS_SNP__control.flip.sense__chr17...        12\n",
       "4  CONTROL_BUT_HAS_SNP__control.flip.sense__chr1:...        16"
      ]
     },
     "execution_count": 15,
     "metadata": {},
     "output_type": "execute_result"
    }
   ],
   "source": [
    "fimo = pd.read_table(fimo_f, sep=\"\\t\", header=None)\n",
    "fimo.columns = [\"seqID\", \"n_motifs\"]\n",
    "fimo.head()"
   ]
  },
  {
   "cell_type": "code",
   "execution_count": 16,
   "metadata": {},
   "outputs": [
    {
     "data": {
      "text/html": [
       "<div>\n",
       "<style>\n",
       "    .dataframe thead tr:only-child th {\n",
       "        text-align: right;\n",
       "    }\n",
       "\n",
       "    .dataframe thead th {\n",
       "        text-align: left;\n",
       "    }\n",
       "\n",
       "    .dataframe tbody tr th {\n",
       "        vertical-align: top;\n",
       "    }\n",
       "</style>\n",
       "<table border=\"1\" class=\"dataframe\">\n",
       "  <thead>\n",
       "    <tr style=\"text-align: right;\">\n",
       "      <th></th>\n",
       "      <th>seqID</th>\n",
       "      <th>PromType2</th>\n",
       "    </tr>\n",
       "  </thead>\n",
       "  <tbody>\n",
       "    <tr>\n",
       "      <th>0</th>\n",
       "      <td>WILDTYPE__Antisense.noflip.NA__chr1:100435456....</td>\n",
       "      <td>div_lnc</td>\n",
       "    </tr>\n",
       "    <tr>\n",
       "      <th>1</th>\n",
       "      <td>WILDTYPE__Lincrna.flip.sense__chr1:100731637.....</td>\n",
       "      <td>div_lnc</td>\n",
       "    </tr>\n",
       "    <tr>\n",
       "      <th>2</th>\n",
       "      <td>FLIPPED__Lincrna.flip.antisense__chr1:10073163...</td>\n",
       "      <td>div_lnc</td>\n",
       "    </tr>\n",
       "    <tr>\n",
       "      <th>3</th>\n",
       "      <td>FLIPPED__mrna.flip.antisense__chr1:100731714.....</td>\n",
       "      <td>div_pc</td>\n",
       "    </tr>\n",
       "    <tr>\n",
       "      <th>4</th>\n",
       "      <td>WILDTYPE__mrna.flip.sense__chr1:100731714..100...</td>\n",
       "      <td>div_pc</td>\n",
       "    </tr>\n",
       "  </tbody>\n",
       "</table>\n",
       "</div>"
      ],
      "text/plain": [
       "                                               seqID PromType2\n",
       "0  WILDTYPE__Antisense.noflip.NA__chr1:100435456....   div_lnc\n",
       "1  WILDTYPE__Lincrna.flip.sense__chr1:100731637.....   div_lnc\n",
       "2  FLIPPED__Lincrna.flip.antisense__chr1:10073163...   div_lnc\n",
       "3  FLIPPED__mrna.flip.antisense__chr1:100731714.....    div_pc\n",
       "4  WILDTYPE__mrna.flip.sense__chr1:100731714..100...    div_pc"
      ]
     },
     "execution_count": 16,
     "metadata": {},
     "output_type": "execute_result"
    }
   ],
   "source": [
    "annot = pd.read_table(annot_f, sep=\"\\t\")\n",
    "annot.head()"
   ]
  },
  {
   "cell_type": "markdown",
   "metadata": {},
   "source": [
    "## 2. merge w/ index"
   ]
  },
  {
   "cell_type": "code",
   "execution_count": 17,
   "metadata": {},
   "outputs": [
    {
     "data": {
      "text/html": [
       "<div>\n",
       "<style>\n",
       "    .dataframe thead tr:only-child th {\n",
       "        text-align: right;\n",
       "    }\n",
       "\n",
       "    .dataframe thead th {\n",
       "        text-align: left;\n",
       "    }\n",
       "\n",
       "    .dataframe tbody tr th {\n",
       "        vertical-align: top;\n",
       "    }\n",
       "</style>\n",
       "<table border=\"1\" class=\"dataframe\">\n",
       "  <thead>\n",
       "    <tr style=\"text-align: right;\">\n",
       "      <th></th>\n",
       "      <th>full_oligo</th>\n",
       "      <th>oligo_type</th>\n",
       "      <th>oligo_id</th>\n",
       "      <th>dupe_info</th>\n",
       "      <th>seq_name</th>\n",
       "      <th>tile_name</th>\n",
       "      <th>chr</th>\n",
       "      <th>locus_start</th>\n",
       "      <th>locus_end</th>\n",
       "      <th>strand</th>\n",
       "      <th>...</th>\n",
       "      <th>rna_6</th>\n",
       "      <th>rna_7</th>\n",
       "      <th>rna_8</th>\n",
       "      <th>rna_9</th>\n",
       "      <th>rna_10</th>\n",
       "      <th>rna_11</th>\n",
       "      <th>rna_12</th>\n",
       "      <th>rna_13</th>\n",
       "      <th>rna_14</th>\n",
       "      <th>rep_mean</th>\n",
       "    </tr>\n",
       "  </thead>\n",
       "  <tbody>\n",
       "    <tr>\n",
       "      <th>0</th>\n",
       "      <td>ACTGGCCGCTTCACTGGTGCAGCCCAGGCGTTTCCGGGTTCCCGCG...</td>\n",
       "      <td>WILDTYPE</td>\n",
       "      <td>1.1.0.0.1</td>\n",
       "      <td>none</td>\n",
       "      <td>Antisense.noflip.NA__chr1:100435456..100435570,-</td>\n",
       "      <td>Antisense.noflip.NA__chr1:100435456..100435570...</td>\n",
       "      <td>chr1</td>\n",
       "      <td>100435456.0</td>\n",
       "      <td>100435570.0</td>\n",
       "      <td>-</td>\n",
       "      <td>...</td>\n",
       "      <td>1.770474</td>\n",
       "      <td>1.895198</td>\n",
       "      <td>1.878385</td>\n",
       "      <td>1.933633</td>\n",
       "      <td>2.220131</td>\n",
       "      <td>1.960955</td>\n",
       "      <td>1.973998</td>\n",
       "      <td>1.990893</td>\n",
       "      <td>2.121866</td>\n",
       "      <td>2.013580</td>\n",
       "    </tr>\n",
       "    <tr>\n",
       "      <th>1</th>\n",
       "      <td>ACTGGCCGCTTCACTGGTGCAGCCCAGGCGTTTCCGGGTTCCCGCG...</td>\n",
       "      <td>WILDTYPE</td>\n",
       "      <td>1.1.0.0.2</td>\n",
       "      <td>none</td>\n",
       "      <td>Antisense.noflip.NA__chr1:100435456..100435570,-</td>\n",
       "      <td>Antisense.noflip.NA__chr1:100435456..100435570...</td>\n",
       "      <td>chr1</td>\n",
       "      <td>100435456.0</td>\n",
       "      <td>100435570.0</td>\n",
       "      <td>-</td>\n",
       "      <td>...</td>\n",
       "      <td>1.903111</td>\n",
       "      <td>1.733053</td>\n",
       "      <td>1.594202</td>\n",
       "      <td>1.724073</td>\n",
       "      <td>1.804927</td>\n",
       "      <td>1.627770</td>\n",
       "      <td>1.753076</td>\n",
       "      <td>1.677350</td>\n",
       "      <td>1.972532</td>\n",
       "      <td>1.728979</td>\n",
       "    </tr>\n",
       "    <tr>\n",
       "      <th>2</th>\n",
       "      <td>ACTGGCCGCTTCACTGGTGCAGCCCAGGCGTTTCCGGGTTCCCGCG...</td>\n",
       "      <td>WILDTYPE</td>\n",
       "      <td>1.1.0.0.3</td>\n",
       "      <td>none</td>\n",
       "      <td>Antisense.noflip.NA__chr1:100435456..100435570,-</td>\n",
       "      <td>Antisense.noflip.NA__chr1:100435456..100435570...</td>\n",
       "      <td>chr1</td>\n",
       "      <td>100435456.0</td>\n",
       "      <td>100435570.0</td>\n",
       "      <td>-</td>\n",
       "      <td>...</td>\n",
       "      <td>1.098191</td>\n",
       "      <td>1.308489</td>\n",
       "      <td>1.409376</td>\n",
       "      <td>1.769699</td>\n",
       "      <td>1.729734</td>\n",
       "      <td>1.432375</td>\n",
       "      <td>1.585704</td>\n",
       "      <td>1.384201</td>\n",
       "      <td>1.684251</td>\n",
       "      <td>1.505785</td>\n",
       "    </tr>\n",
       "    <tr>\n",
       "      <th>3</th>\n",
       "      <td>ACTGGCCGCTTCACTGGTGCAGCCCAGGCGTTTCCGGGTTCCCGCG...</td>\n",
       "      <td>WILDTYPE</td>\n",
       "      <td>1.1.0.0.4</td>\n",
       "      <td>none</td>\n",
       "      <td>Antisense.noflip.NA__chr1:100435456..100435570,-</td>\n",
       "      <td>Antisense.noflip.NA__chr1:100435456..100435570...</td>\n",
       "      <td>chr1</td>\n",
       "      <td>100435456.0</td>\n",
       "      <td>100435570.0</td>\n",
       "      <td>-</td>\n",
       "      <td>...</td>\n",
       "      <td>1.653971</td>\n",
       "      <td>1.756965</td>\n",
       "      <td>1.772167</td>\n",
       "      <td>1.389426</td>\n",
       "      <td>1.887075</td>\n",
       "      <td>1.648490</td>\n",
       "      <td>1.716837</td>\n",
       "      <td>1.679619</td>\n",
       "      <td>1.670818</td>\n",
       "      <td>1.695738</td>\n",
       "    </tr>\n",
       "    <tr>\n",
       "      <th>4</th>\n",
       "      <td>ACTGGCCGCTTCACTGGTGCAGCCCAGGCGTTTCCGGGTTCCCGCG...</td>\n",
       "      <td>WILDTYPE</td>\n",
       "      <td>1.1.0.0.5</td>\n",
       "      <td>none</td>\n",
       "      <td>Antisense.noflip.NA__chr1:100435456..100435570,-</td>\n",
       "      <td>Antisense.noflip.NA__chr1:100435456..100435570...</td>\n",
       "      <td>chr1</td>\n",
       "      <td>100435456.0</td>\n",
       "      <td>100435570.0</td>\n",
       "      <td>-</td>\n",
       "      <td>...</td>\n",
       "      <td>0.909410</td>\n",
       "      <td>1.529894</td>\n",
       "      <td>1.110386</td>\n",
       "      <td>2.122635</td>\n",
       "      <td>1.330243</td>\n",
       "      <td>1.268685</td>\n",
       "      <td>0.992613</td>\n",
       "      <td>2.040454</td>\n",
       "      <td>0.431626</td>\n",
       "      <td>1.361815</td>\n",
       "    </tr>\n",
       "  </tbody>\n",
       "</table>\n",
       "<p>5 rows × 35 columns</p>\n",
       "</div>"
      ],
      "text/plain": [
       "                                          full_oligo oligo_type   oligo_id  \\\n",
       "0  ACTGGCCGCTTCACTGGTGCAGCCCAGGCGTTTCCGGGTTCCCGCG...   WILDTYPE  1.1.0.0.1   \n",
       "1  ACTGGCCGCTTCACTGGTGCAGCCCAGGCGTTTCCGGGTTCCCGCG...   WILDTYPE  1.1.0.0.2   \n",
       "2  ACTGGCCGCTTCACTGGTGCAGCCCAGGCGTTTCCGGGTTCCCGCG...   WILDTYPE  1.1.0.0.3   \n",
       "3  ACTGGCCGCTTCACTGGTGCAGCCCAGGCGTTTCCGGGTTCCCGCG...   WILDTYPE  1.1.0.0.4   \n",
       "4  ACTGGCCGCTTCACTGGTGCAGCCCAGGCGTTTCCGGGTTCCCGCG...   WILDTYPE  1.1.0.0.5   \n",
       "\n",
       "  dupe_info                                          seq_name  \\\n",
       "0      none  Antisense.noflip.NA__chr1:100435456..100435570,-   \n",
       "1      none  Antisense.noflip.NA__chr1:100435456..100435570,-   \n",
       "2      none  Antisense.noflip.NA__chr1:100435456..100435570,-   \n",
       "3      none  Antisense.noflip.NA__chr1:100435456..100435570,-   \n",
       "4      none  Antisense.noflip.NA__chr1:100435456..100435570,-   \n",
       "\n",
       "                                           tile_name   chr  locus_start  \\\n",
       "0  Antisense.noflip.NA__chr1:100435456..100435570...  chr1  100435456.0   \n",
       "1  Antisense.noflip.NA__chr1:100435456..100435570...  chr1  100435456.0   \n",
       "2  Antisense.noflip.NA__chr1:100435456..100435570...  chr1  100435456.0   \n",
       "3  Antisense.noflip.NA__chr1:100435456..100435570...  chr1  100435456.0   \n",
       "4  Antisense.noflip.NA__chr1:100435456..100435570...  chr1  100435456.0   \n",
       "\n",
       "     locus_end strand    ...        rna_6     rna_7     rna_8     rna_9  \\\n",
       "0  100435570.0      -    ...     1.770474  1.895198  1.878385  1.933633   \n",
       "1  100435570.0      -    ...     1.903111  1.733053  1.594202  1.724073   \n",
       "2  100435570.0      -    ...     1.098191  1.308489  1.409376  1.769699   \n",
       "3  100435570.0      -    ...     1.653971  1.756965  1.772167  1.389426   \n",
       "4  100435570.0      -    ...     0.909410  1.529894  1.110386  2.122635   \n",
       "\n",
       "     rna_10    rna_11    rna_12    rna_13    rna_14  rep_mean  \n",
       "0  2.220131  1.960955  1.973998  1.990893  2.121866  2.013580  \n",
       "1  1.804927  1.627770  1.753076  1.677350  1.972532  1.728979  \n",
       "2  1.729734  1.432375  1.585704  1.384201  1.684251  1.505785  \n",
       "3  1.887075  1.648490  1.716837  1.679619  1.670818  1.695738  \n",
       "4  1.330243  1.268685  0.992613  2.040454  0.431626  1.361815  \n",
       "\n",
       "[5 rows x 35 columns]"
      ]
     },
     "execution_count": 17,
     "metadata": {},
     "output_type": "execute_result"
    }
   ],
   "source": [
    "hepg2_pool1_data = pool1_index.merge(hepg2_pool1_activ, on=\"barcode\", how=\"outer\")\n",
    "k562_pool1_data = pool1_index.merge(k562_pool1_activ, on=\"barcode\", how=\"outer\")\n",
    "hepg2_pool2_data = pool2_index.merge(hepg2_pool2_activ, on=\"barcode\", how=\"outer\")\n",
    "k562_pool2_data = pool2_index.merge(k562_pool2_activ, on=\"barcode\", how=\"outer\")\n",
    "hepg2_pool1_data.head()"
   ]
  },
  {
   "cell_type": "markdown",
   "metadata": {},
   "source": [
    "## 3. extract SNP pairs"
   ]
  },
  {
   "cell_type": "markdown",
   "metadata": {},
   "source": [
    "create map of wt unique_id : snp unique_ids"
   ]
  },
  {
   "cell_type": "code",
   "execution_count": 18,
   "metadata": {
    "collapsed": true
   },
   "outputs": [],
   "source": [
    "hepg2_pool1_wt_w_snp_seqs = hepg2_pool1_data[hepg2_pool1_data[\"oligo_type\"].isin([\"WILDTYPE_BUT_HAS_SNP\", \n",
    "                                                                                  \"CONTROL_BUT_HAS_SNP\"])]\n",
    "k562_pool1_wt_w_snp_seqs = k562_pool1_data[k562_pool1_data[\"oligo_type\"].isin([\"WILDTYPE_BUT_HAS_SNP\", \n",
    "                                                                               \"CONTROL_BUT_HAS_SNP\"])]\n",
    "hepg2_pool2_wt_w_snp_seqs = hepg2_pool2_data[hepg2_pool2_data[\"oligo_type\"].isin([\"WILDTYPE_BUT_HAS_SNP\", \n",
    "                                                                                  \"CONTROL_BUT_HAS_SNP\"])]\n",
    "k562_pool2_wt_w_snp_seqs = k562_pool2_data[k562_pool2_data[\"oligo_type\"].isin([\"WILDTYPE_BUT_HAS_SNP\", \n",
    "                                                                               \"CONTROL_BUT_HAS_SNP\"])]"
   ]
  },
  {
   "cell_type": "code",
   "execution_count": 19,
   "metadata": {
    "collapsed": true
   },
   "outputs": [],
   "source": [
    "hepg2_pool1_wt_w_snp_seqs = hepg2_pool1_wt_w_snp_seqs[[\"oligo_type\", \"dupe_info\", \"seq_name\", \"tile_name\", \"chr\", \n",
    "                                                       \"locus_start\", \"locus_end\", \"strand\", \"element\", \"unique_id\", \n",
    "                                                       \"SNP\"]].drop_duplicates()\n",
    "k562_pool1_wt_w_snp_seqs = k562_pool1_wt_w_snp_seqs[[\"oligo_type\", \"dupe_info\", \"seq_name\", \"tile_name\", \"chr\", \n",
    "                                                     \"locus_start\", \"locus_end\", \"strand\", \"element\", \"unique_id\", \n",
    "                                                     \"SNP\"]].drop_duplicates()\n",
    "hepg2_pool2_wt_w_snp_seqs = hepg2_pool2_wt_w_snp_seqs[[\"oligo_type\", \"dupe_info\", \"seq_name\", \"tile_name\", \"chr\", \n",
    "                                                       \"locus_start\", \"locus_end\", \"strand\", \"element\", \"unique_id\", \n",
    "                                                       \"SNP\"]].drop_duplicates()\n",
    "k562_pool2_wt_w_snp_seqs = k562_pool2_wt_w_snp_seqs[[\"oligo_type\", \"dupe_info\", \"seq_name\", \"tile_name\", \"chr\", \n",
    "                                                     \"locus_start\", \"locus_end\", \"strand\", \"element\", \"unique_id\", \n",
    "                                                     \"SNP\"]].drop_duplicates()"
   ]
  },
  {
   "cell_type": "code",
   "execution_count": 20,
   "metadata": {
    "collapsed": true
   },
   "outputs": [],
   "source": [
    "hepg2_pool1_wt_df = hepg2_pool1_wt_w_snp_seqs.copy()\n",
    "k562_pool1_wt_df = k562_pool1_wt_w_snp_seqs.copy()\n",
    "hepg2_pool2_wt_df = hepg2_pool2_wt_w_snp_seqs.copy()\n",
    "k562_pool2_wt_df = k562_pool2_wt_w_snp_seqs.copy()"
   ]
  },
  {
   "cell_type": "code",
   "execution_count": 21,
   "metadata": {},
   "outputs": [
    {
     "name": "stdout",
     "output_type": "stream",
     "text": [
      "mapping HepG2 pool1 SNPs\n",
      "mapping K562 pool1 SNPs\n",
      "mapping HepG2 pool2 SNPs\n",
      "mapping K562 pool2 SNPs\n"
     ]
    }
   ],
   "source": [
    "print(\"mapping HepG2 pool1 SNPs\")\n",
    "hepg2_pool1_snp_map = map_snps(hepg2_pool1_wt_w_snp_seqs, pool1_index_elem)\n",
    "print(\"mapping K562 pool1 SNPs\")\n",
    "k562_pool1_snp_map = map_snps(k562_pool1_wt_w_snp_seqs, pool1_index_elem)\n",
    "print(\"mapping HepG2 pool2 SNPs\")\n",
    "hepg2_pool2_snp_map = map_snps(hepg2_pool2_wt_w_snp_seqs, pool2_index_elem)\n",
    "print(\"mapping K562 pool2 SNPs\")\n",
    "k562_pool2_snp_map = map_snps(k562_pool2_wt_w_snp_seqs, pool2_index_elem)"
   ]
  },
  {
   "cell_type": "markdown",
   "metadata": {},
   "source": [
    "## 4. calculate p-values (wilcox test using mean across replicates, 1 for each barcode)"
   ]
  },
  {
   "cell_type": "code",
   "execution_count": 22,
   "metadata": {
    "collapsed": true
   },
   "outputs": [],
   "source": [
    "hepg2_pool1_log2fc_cols = [x for x in hepg2_pool1_pvals.columns if \"_log2fc\" in x]\n",
    "k562_pool1_log2fc_cols = [x for x in k562_pool1_pvals.columns if \"_log2fc\" in x]\n",
    "hepg2_pool2_log2fc_cols = [x for x in hepg2_pool2_pvals.columns if \"_log2fc\" in x]\n",
    "k562_pool2_log2fc_cols = [x for x in k562_pool2_pvals.columns if \"_log2fc\" in x]"
   ]
  },
  {
   "cell_type": "code",
   "execution_count": 23,
   "metadata": {
    "collapsed": true
   },
   "outputs": [],
   "source": [
    "hepg2_pool1_pvals[\"mean_log2fc\"] = hepg2_pool1_pvals[hepg2_pool1_log2fc_cols].mean(axis=1)\n",
    "k562_pool1_pvals[\"mean_log2fc\"] = k562_pool1_pvals[k562_pool1_log2fc_cols].mean(axis=1)\n",
    "hepg2_pool2_pvals[\"mean_log2fc\"] = hepg2_pool2_pvals[hepg2_pool2_log2fc_cols].mean(axis=1)\n",
    "k562_pool2_pvals[\"mean_log2fc\"] = k562_pool2_pvals[k562_pool2_log2fc_cols].mean(axis=1)"
   ]
  },
  {
   "cell_type": "markdown",
   "metadata": {},
   "source": [
    "note if HepG2 -- to compare to other cell types, downsample to 4 reps. do this 100x and take minimum."
   ]
  },
  {
   "cell_type": "markdown",
   "metadata": {},
   "source": [
    "### active"
   ]
  },
  {
   "cell_type": "code",
   "execution_count": 24,
   "metadata": {
    "collapsed": true
   },
   "outputs": [],
   "source": [
    "min_barcodes = 20\n",
    "activ_alpha = 0.5\n",
    "active_l2fc_thresh = 0.5\n",
    "repr_l2fc_thresh = -0.5"
   ]
  },
  {
   "cell_type": "code",
   "execution_count": 25,
   "metadata": {},
   "outputs": [
    {
     "name": "stdout",
     "output_type": "stream",
     "text": [
      "active SNPs, reps: ['rna_1', 'rna_2', 'rna_3', 'rna_4']\n",
      "...rna_1 pvals...\n",
      "1783\n",
      "1783\n",
      "...rna_2 pvals...\n",
      "1783\n",
      "1783\n",
      "...rna_3 pvals...\n",
      "1783\n",
      "1783\n",
      "...rna_4 pvals...\n",
      "1783\n",
      "1783\n",
      "[]\n"
     ]
    }
   ],
   "source": [
    "k562_pool1_active_snp_data = get_snp_results(k562_pool1_reps, k562_pool1_snp_map, k562_pool1_data, k562_pool1_pvals,\n",
    "                                             min_barcodes, activ_alpha, active_l2fc_thresh, repr_l2fc_thresh, \n",
    "                                             \"active\", \"POOL1\", 0)"
   ]
  },
  {
   "cell_type": "code",
   "execution_count": 26,
   "metadata": {},
   "outputs": [
    {
     "name": "stdout",
     "output_type": "stream",
     "text": [
      "active SNPs, reps: ['rna_1', 'rna_2', 'rna_3', 'rna_4']\n",
      "...rna_1 pvals...\n",
      "199\n",
      "199\n",
      "...rna_2 pvals...\n",
      "199\n",
      "199\n",
      "...rna_3 pvals...\n",
      "199\n",
      "199\n",
      "...rna_4 pvals...\n",
      "199\n",
      "199\n",
      "[]\n"
     ]
    }
   ],
   "source": [
    "k562_pool2_active_snp_data = get_snp_results(k562_pool2_reps, k562_pool2_snp_map, k562_pool2_data, k562_pool2_pvals,\n",
    "                                             min_barcodes, activ_alpha, active_l2fc_thresh, repr_l2fc_thresh, \n",
    "                                             \"active\", \"POOL2\", 0)"
   ]
  },
  {
   "cell_type": "code",
   "execution_count": 27,
   "metadata": {},
   "outputs": [
    {
     "name": "stdout",
     "output_type": "stream",
     "text": [
      "active SNPs, reps: ['rna_3', 'rna_4', 'rna_5', 'rna_6', 'rna_7', 'rna_8', 'rna_9', 'rna_10', 'rna_11', 'rna_12', 'rna_13', 'rna_14']\n",
      "...rna_3 pvals...\n",
      "1783\n",
      "1783\n",
      "...rna_4 pvals...\n",
      "1783\n",
      "1783\n",
      "...rna_5 pvals...\n",
      "1783\n",
      "1783\n",
      "...rna_6 pvals...\n",
      "1783\n",
      "1783\n",
      "...rna_7 pvals...\n",
      "1783\n",
      "1783\n",
      "...rna_8 pvals...\n",
      "1783\n",
      "1783\n",
      "...rna_9 pvals...\n",
      "1783\n",
      "1783\n",
      "...rna_10 pvals...\n",
      "1783\n",
      "1783\n",
      "...rna_11 pvals...\n",
      "1783\n",
      "1783\n",
      "...rna_12 pvals...\n",
      "1783\n",
      "1783\n",
      "...rna_13 pvals...\n",
      "1783\n",
      "1783\n",
      "...rna_14 pvals...\n",
      "1783\n",
      "1783\n",
      "['samp_0_combined_padj', 'samp_1_combined_padj', 'samp_2_combined_padj', 'samp_3_combined_padj', 'samp_4_combined_padj', 'samp_5_combined_padj', 'samp_6_combined_padj', 'samp_7_combined_padj', 'samp_8_combined_padj', 'samp_9_combined_padj', 'samp_10_combined_padj', 'samp_11_combined_padj', 'samp_12_combined_padj', 'samp_13_combined_padj', 'samp_14_combined_padj', 'samp_15_combined_padj', 'samp_16_combined_padj', 'samp_17_combined_padj', 'samp_18_combined_padj', 'samp_19_combined_padj', 'samp_20_combined_padj', 'samp_21_combined_padj', 'samp_22_combined_padj', 'samp_23_combined_padj', 'samp_24_combined_padj', 'samp_25_combined_padj', 'samp_26_combined_padj', 'samp_27_combined_padj', 'samp_28_combined_padj', 'samp_29_combined_padj', 'samp_30_combined_padj', 'samp_31_combined_padj', 'samp_32_combined_padj', 'samp_33_combined_padj', 'samp_34_combined_padj', 'samp_35_combined_padj', 'samp_36_combined_padj', 'samp_37_combined_padj', 'samp_38_combined_padj', 'samp_39_combined_padj', 'samp_40_combined_padj', 'samp_41_combined_padj', 'samp_42_combined_padj', 'samp_43_combined_padj', 'samp_44_combined_padj', 'samp_45_combined_padj', 'samp_46_combined_padj', 'samp_47_combined_padj', 'samp_48_combined_padj', 'samp_49_combined_padj', 'samp_50_combined_padj', 'samp_51_combined_padj', 'samp_52_combined_padj', 'samp_53_combined_padj', 'samp_54_combined_padj', 'samp_55_combined_padj', 'samp_56_combined_padj', 'samp_57_combined_padj', 'samp_58_combined_padj', 'samp_59_combined_padj', 'samp_60_combined_padj', 'samp_61_combined_padj', 'samp_62_combined_padj', 'samp_63_combined_padj', 'samp_64_combined_padj', 'samp_65_combined_padj', 'samp_66_combined_padj', 'samp_67_combined_padj', 'samp_68_combined_padj', 'samp_69_combined_padj', 'samp_70_combined_padj', 'samp_71_combined_padj', 'samp_72_combined_padj', 'samp_73_combined_padj', 'samp_74_combined_padj', 'samp_75_combined_padj', 'samp_76_combined_padj', 'samp_77_combined_padj', 'samp_78_combined_padj', 'samp_79_combined_padj', 'samp_80_combined_padj', 'samp_81_combined_padj', 'samp_82_combined_padj', 'samp_83_combined_padj', 'samp_84_combined_padj', 'samp_85_combined_padj', 'samp_86_combined_padj', 'samp_87_combined_padj', 'samp_88_combined_padj', 'samp_89_combined_padj', 'samp_90_combined_padj', 'samp_91_combined_padj', 'samp_92_combined_padj', 'samp_93_combined_padj', 'samp_94_combined_padj', 'samp_95_combined_padj', 'samp_96_combined_padj', 'samp_97_combined_padj', 'samp_98_combined_padj', 'samp_99_combined_padj']\n"
     ]
    }
   ],
   "source": [
    "hepg2_pool1_active_snp_data = get_snp_results(hepg2_pool1_reps, hepg2_pool1_snp_map, hepg2_pool1_data, hepg2_pool1_pvals,\n",
    "                                              min_barcodes, activ_alpha, active_l2fc_thresh, repr_l2fc_thresh, \n",
    "                                              \"active\", \"POOL1\", n_samples)"
   ]
  },
  {
   "cell_type": "code",
   "execution_count": 28,
   "metadata": {},
   "outputs": [
    {
     "name": "stdout",
     "output_type": "stream",
     "text": [
      "active SNPs, reps: ['rna_3', 'rna_4', 'rna_5', 'rna_6', 'rna_7', 'rna_8', 'rna_9', 'rna_10']\n",
      "...rna_3 pvals...\n",
      "199\n",
      "199\n",
      "...rna_4 pvals...\n",
      "199\n",
      "199\n",
      "...rna_5 pvals...\n",
      "199\n",
      "199\n",
      "...rna_6 pvals...\n",
      "199\n",
      "199\n",
      "...rna_7 pvals...\n",
      "199\n",
      "199\n",
      "...rna_8 pvals...\n",
      "199\n",
      "199\n",
      "...rna_9 pvals...\n",
      "199\n",
      "199\n",
      "...rna_10 pvals...\n",
      "199\n",
      "199\n",
      "[]\n"
     ]
    }
   ],
   "source": [
    "hepg2_pool2_active_snp_data = get_snp_results(hepg2_pool2_reps, hepg2_pool2_snp_map, hepg2_pool2_data, hepg2_pool2_pvals,\n",
    "                                              min_barcodes, activ_alpha, active_l2fc_thresh, repr_l2fc_thresh, \n",
    "                                              \"active\", \"POOL2\", 0)"
   ]
  },
  {
   "cell_type": "markdown",
   "metadata": {},
   "source": [
    "### repressive"
   ]
  },
  {
   "cell_type": "code",
   "execution_count": 29,
   "metadata": {},
   "outputs": [
    {
     "name": "stdout",
     "output_type": "stream",
     "text": [
      "repressive SNPs, reps: ['rna_1', 'rna_2', 'rna_3', 'rna_4']\n",
      "...rna_1 pvals...\n",
      "1783\n",
      "1783\n",
      "...rna_2 pvals...\n",
      "1783\n",
      "1783\n",
      "...rna_3 pvals...\n",
      "1783\n",
      "1783\n",
      "...rna_4 pvals...\n",
      "1783\n",
      "1783\n",
      "[]\n"
     ]
    }
   ],
   "source": [
    "k562_pool1_repressive_snp_data = get_snp_results(k562_pool1_reps, k562_pool1_snp_map, k562_pool1_data, k562_pool1_pvals,\n",
    "                                                min_barcodes, activ_alpha, active_l2fc_thresh, repr_l2fc_thresh, \n",
    "                                                \"repressive\", \"POOL1\", 0)"
   ]
  },
  {
   "cell_type": "code",
   "execution_count": null,
   "metadata": {},
   "outputs": [
    {
     "name": "stdout",
     "output_type": "stream",
     "text": [
      "repressive SNPs, reps: ['rna_1', 'rna_2', 'rna_3', 'rna_4']\n",
      "...rna_1 pvals...\n",
      "199\n",
      "199\n",
      "...rna_2 pvals...\n",
      "199\n",
      "199\n",
      "...rna_3 pvals...\n",
      "199\n",
      "199\n",
      "...rna_4 pvals...\n",
      "199\n",
      "199\n",
      "[]\n"
     ]
    }
   ],
   "source": [
    "k562_pool2_repressive_snp_data = get_snp_results(k562_pool2_reps, k562_pool2_snp_map, k562_pool2_data, k562_pool2_pvals,\n",
    "                                                 min_barcodes, activ_alpha, active_l2fc_thresh, repr_l2fc_thresh, \n",
    "                                                 \"repressive\", \"POOL2\", 0)"
   ]
  },
  {
   "cell_type": "code",
   "execution_count": null,
   "metadata": {},
   "outputs": [
    {
     "name": "stdout",
     "output_type": "stream",
     "text": [
      "repressive SNPs, reps: ['rna_3', 'rna_4', 'rna_5', 'rna_6', 'rna_7', 'rna_8', 'rna_9', 'rna_10', 'rna_11', 'rna_12', 'rna_13', 'rna_14']\n",
      "...rna_3 pvals...\n",
      "1783\n",
      "1783\n",
      "...rna_4 pvals...\n",
      "1783\n",
      "1783\n",
      "...rna_5 pvals...\n",
      "1783\n",
      "1783\n",
      "...rna_6 pvals...\n",
      "1783\n",
      "1783\n",
      "...rna_7 pvals...\n",
      "1783\n",
      "1783\n",
      "...rna_8 pvals...\n",
      "1783\n",
      "1783\n",
      "...rna_9 pvals...\n",
      "1783\n",
      "1783\n",
      "...rna_10 pvals...\n",
      "1783\n",
      "1783\n",
      "...rna_11 pvals...\n",
      "1783\n",
      "1783\n",
      "...rna_12 pvals...\n",
      "1783\n",
      "1783\n",
      "...rna_13 pvals...\n"
     ]
    }
   ],
   "source": [
    "hepg2_pool1_repressive_snp_data = get_snp_results(hepg2_pool1_reps, hepg2_pool1_snp_map, hepg2_pool1_data, hepg2_pool1_pvals,\n",
    "                                                  min_barcodes, activ_alpha, active_l2fc_thresh, repr_l2fc_thresh, \n",
    "                                                  \"repressive\", \"POOL1\", n_samples)"
   ]
  },
  {
   "cell_type": "code",
   "execution_count": null,
   "metadata": {},
   "outputs": [],
   "source": [
    "hepg2_pool2_repressive_snp_data = get_snp_results(hepg2_pool2_reps, hepg2_pool2_snp_map, hepg2_pool2_data, hepg2_pool2_pvals,\n",
    "                                                  min_barcodes, activ_alpha, active_l2fc_thresh, repr_l2fc_thresh, \n",
    "                                                  \"repressive\", \"POOL2\", 0)"
   ]
  },
  {
   "cell_type": "markdown",
   "metadata": {},
   "source": [
    "### combine and find sig SNPs"
   ]
  },
  {
   "cell_type": "code",
   "execution_count": null,
   "metadata": {
    "collapsed": true
   },
   "outputs": [],
   "source": [
    "hepg2_pool1_log2fc_cols = [x for x in hepg2_pool1_active_snp_data.columns if \"_l2fc\" in x and \"combined\" not in x]\n",
    "k562_pool1_log2fc_cols = [x for x in k562_pool1_active_snp_data.columns if \"_l2fc\" in x and \"combined\" not in x]\n",
    "hepg2_pool2_log2fc_cols = [x for x in hepg2_pool2_active_snp_data.columns if \"_l2fc\" in x and \"combined\" not in x]\n",
    "k562_pool2_log2fc_cols = [x for x in k562_pool2_active_snp_data.columns if \"_l2fc\" in x and \"combined\" not in x]"
   ]
  },
  {
   "cell_type": "code",
   "execution_count": null,
   "metadata": {},
   "outputs": [],
   "source": [
    "k562_pool1_log2fc_cols"
   ]
  },
  {
   "cell_type": "code",
   "execution_count": null,
   "metadata": {
    "collapsed": true
   },
   "outputs": [],
   "source": [
    "# filter - require the same direction in at least 75% of non-na replicates\n",
    "def sig_status(row, col, thresh, l2fc_cols):\n",
    "    if \"NA\" in str(row[col]) or pd.isnull(row[col]):\n",
    "        return \"NA__too_many_rep_NAs\"\n",
    "    elif row[col] < thresh:\n",
    "        l2fcs = list(row[l2fc_cols])\n",
    "        neg = [x for x in l2fcs if x < 0]\n",
    "        pos = [x for x in l2fcs if x > 0]\n",
    "        perc_neg = len(neg)/float(len(neg)+len(pos))\n",
    "        perc_pos = len(pos)/float(len(neg)+len(pos))\n",
    "        if perc_neg > 0.75 or perc_pos > 0.75:\n",
    "            return \"sig\"\n",
    "        else:\n",
    "            return \"not sig\"\n",
    "    else:\n",
    "        return \"not sig\""
   ]
  },
  {
   "cell_type": "code",
   "execution_count": null,
   "metadata": {},
   "outputs": [],
   "source": [
    "nums = [0, 1, 2, 3]\n",
    "active_dfs = [k562_pool1_active_snp_data, k562_pool2_active_snp_data, hepg2_pool1_active_snp_data, hepg2_pool2_active_snp_data]\n",
    "repressive_dfs = [k562_pool1_repressive_snp_data, k562_pool2_repressive_snp_data, hepg2_pool1_repressive_snp_data, hepg2_pool2_repressive_snp_data]\n",
    "all_reps = [k562_pool1_reps, k562_pool2_reps, hepg2_pool1_reps, hepg2_pool2_reps]\n",
    "all_rep_l2fcs = [k562_pool1_log2fc_cols, k562_pool2_log2fc_cols, hepg2_pool1_log2fc_cols, hepg2_pool2_log2fc_cols]\n",
    "\n",
    "for i, active_df, repressive_df, reps, rep_l2fcs in zip(nums, active_dfs, repressive_dfs, all_reps, all_rep_l2fcs):\n",
    "    print(i)\n",
    "    active_df[\"combined_sig\"] = active_df.apply(sig_status, col=\"combined_padj\", thresh=0.05, \n",
    "                                                l2fc_cols=rep_l2fcs, axis=1)\n",
    "    repressive_df[\"combined_sig\"] = repressive_df.apply(sig_status, col=\"combined_padj\", thresh=0.05, \n",
    "                                                        l2fc_cols=rep_l2fcs, axis=1)\n",
    "\n",
    "    for rep in reps:\n",
    "        active_df[\"%s_sig\" % rep] = active_df.apply(sig_status, col=\"%s_padj\" % rep, thresh=0.05, \n",
    "                                                    l2fc_cols=rep_l2fcs, axis=1)\n",
    "        repressive_df[\"%s_sig\" % rep] = repressive_df.apply(sig_status, col=\"%s_padj\" % rep, thresh=0.05, \n",
    "                                                            l2fc_cols=rep_l2fcs, axis=1)\n"
   ]
  },
  {
   "cell_type": "code",
   "execution_count": null,
   "metadata": {},
   "outputs": [],
   "source": [
    "hepg2_pool1_active_snp_data.combined_sig.value_counts()"
   ]
  },
  {
   "cell_type": "code",
   "execution_count": null,
   "metadata": {},
   "outputs": [],
   "source": [
    "hepg2_pool1_active_snp_data.downsamp_sig.value_counts()"
   ]
  },
  {
   "cell_type": "code",
   "execution_count": null,
   "metadata": {},
   "outputs": [],
   "source": [
    "hepg2_pool1_repressive_snp_data.combined_sig.value_counts()"
   ]
  },
  {
   "cell_type": "markdown",
   "metadata": {},
   "source": [
    "## 5. make summary plot for snps (pool1 active only)"
   ]
  },
  {
   "cell_type": "code",
   "execution_count": null,
   "metadata": {
    "collapsed": true
   },
   "outputs": [],
   "source": [
    "hepg2_pool1_active_snp_data[\"type\"] = hepg2_pool1_active_snp_data.apply(snp_type, col=\"combined_sig\", axis=1)\n",
    "k562_pool1_active_snp_data[\"type\"] = k562_pool1_active_snp_data.apply(snp_type, col=\"combined_sig\", axis=1)\n",
    "hepg2_pool2_active_snp_data[\"type\"] = hepg2_pool2_active_snp_data.apply(snp_type, col=\"combined_sig\", axis=1)\n",
    "k562_pool2_active_snp_data[\"type\"] = k562_pool2_active_snp_data.apply(snp_type, col=\"combined_sig\", axis=1)\n",
    "\n",
    "hepg2_pool1_active_snp_data[\"downsamp_type\"] = hepg2_pool1_active_snp_data.apply(snp_type, col=\"combined_sig\", axis=1)"
   ]
  },
  {
   "cell_type": "code",
   "execution_count": null,
   "metadata": {
    "collapsed": true
   },
   "outputs": [],
   "source": [
    "palette = {\"not sig\": \"gray\", \"sig\": sns.color_palette()[2]}"
   ]
  },
  {
   "cell_type": "code",
   "execution_count": null,
   "metadata": {},
   "outputs": [],
   "source": [
    "for active_snp_data, cell in zip([hepg2_pool1_active_snp_data, k562_pool1_active_snp_data], [\"HepG2\", \"K562\"]):\n",
    "    print(cell)\n",
    "    snp_data = active_snp_data[(~active_snp_data[\"combined_sig\"].str.contains(\"NA\")) &\n",
    "                           (~active_snp_data[\"unique_id\"].str.contains(\"CONTROL\")) &\n",
    "                           (~active_snp_data[\"unique_id\"].str.contains(\"HAPLO\"))].copy()\n",
    "    snp_data[\"combined_neg_log_pval\"] = -np.log10(snp_data[\"combined_pval\"].astype(float))\n",
    "    print(snp_data.combined_sig.value_counts())\n",
    "    g = sns.lmplot(data=snp_data, x=\"combined_l2fc\", y=\"combined_neg_log_pval\", hue=\"combined_sig\", fit_reg=False,\n",
    "                   palette=palette, size=2.2, scatter_kws={\"s\": 25})\n",
    "    g.set_axis_labels(\"SNP log2(alt/ref)\", \"-log10(p-value)\")\n",
    "    plt.show()\n",
    "    plt.close()\n",
    "    g.savefig(\"Fig_S15_%s.pdf\" % cell, dpi=\"figure\", bbox_inches=\"tight\")"
   ]
  },
  {
   "cell_type": "markdown",
   "metadata": {},
   "source": [
    "## 6. make control snp plots (in pool 1)"
   ]
  },
  {
   "cell_type": "code",
   "execution_count": null,
   "metadata": {},
   "outputs": [],
   "source": [
    "hepg2_pool1_active_snp_data = hepg2_pool1_active_snp_data.merge(pool1_index_elem[[\"unique_id\", \"SNP\"]], \n",
    "                                                                on=\"unique_id\", how=\"left\")\n",
    "k562_pool1_active_snp_data = k562_pool1_active_snp_data.merge(pool1_index_elem[[\"unique_id\", \"SNP\"]], \n",
    "                                                              on=\"unique_id\", how=\"left\")\n",
    "print(len(hepg2_pool1_active_snp_data))\n",
    "print(len(k562_pool1_active_snp_data))\n",
    "\n",
    "hepg2_pool1_repressive_snp_data = hepg2_pool1_repressive_snp_data.merge(pool1_index_elem[[\"unique_id\", \"SNP\"]], \n",
    "                                                                        on=\"unique_id\", how=\"left\")\n",
    "k562_pool1_repressive_snp_data = k562_pool1_repressive_snp_data.merge(pool1_index_elem[[\"unique_id\", \"SNP\"]], \n",
    "                                                                        on=\"unique_id\", how=\"left\")\n",
    "print(len(hepg2_pool1_repressive_snp_data))\n",
    "print(len(k562_pool1_repressive_snp_data))"
   ]
  },
  {
   "cell_type": "code",
   "execution_count": null,
   "metadata": {
    "collapsed": true
   },
   "outputs": [],
   "source": [
    "hepg2_pool1_active_sig_data = hepg2_pool1_active_snp_data[hepg2_pool1_active_snp_data[\"combined_sig\"] == \"sig\"]\n",
    "hepg2_pool1_repressive_sig_data = hepg2_pool1_repressive_snp_data[hepg2_pool1_repressive_snp_data[\"combined_sig\"] == \"sig\"]\n",
    "\n",
    "k562_pool1_active_sig_data = k562_pool1_active_snp_data[k562_pool1_active_snp_data[\"combined_sig\"] == \"sig\"]\n",
    "k562_pool1_repressive_sig_data = k562_pool1_repressive_snp_data[k562_pool1_repressive_snp_data[\"combined_sig\"] == \"sig\"]"
   ]
  },
  {
   "cell_type": "code",
   "execution_count": null,
   "metadata": {
    "collapsed": true
   },
   "outputs": [],
   "source": [
    "hepg2_pool1_snp_data_all = hepg2_pool1_active_snp_data.append(hepg2_pool1_repressive_snp_data)\n",
    "hepg2_pool1_ctrl_data_all = hepg2_pool1_snp_data_all[hepg2_pool1_snp_data_all[\"wt_id\"].str.contains(\"CONTROL\")]\n",
    "hepg2_pool1_ctrl_data_all_grp = hepg2_pool1_ctrl_data_all.groupby([\"unique_id\", \"wt_id\", \"SNP\"])[\"combined_sig\"].apply(list).reset_index()\n",
    "\n",
    "k562_pool1_snp_data_all = k562_pool1_active_snp_data.append(k562_pool1_repressive_snp_data)\n",
    "k562_pool1_ctrl_data_all = k562_pool1_snp_data_all[k562_pool1_snp_data_all[\"wt_id\"].str.contains(\"CONTROL\")]\n",
    "k562_pool1_ctrl_data_all_grp = k562_pool1_ctrl_data_all.groupby([\"unique_id\", \"wt_id\", \"SNP\"])[\"combined_sig\"].apply(list).reset_index()"
   ]
  },
  {
   "cell_type": "code",
   "execution_count": null,
   "metadata": {},
   "outputs": [],
   "source": [
    "hepg2_pool1_ctrl_snps = hepg2_pool1_active_snp_data[hepg2_pool1_active_snp_data[\"unique_id\"].str.contains(\"CONTROL\")]\n",
    "k562_pool1_ctrl_snps = k562_pool1_active_snp_data[k562_pool1_active_snp_data[\"unique_id\"].str.contains(\"CONTROL\")]\n",
    "\n",
    "print(len(hepg2_pool1_ctrl_snps))\n",
    "print(len(k562_pool1_ctrl_snps))"
   ]
  },
  {
   "cell_type": "code",
   "execution_count": null,
   "metadata": {
    "collapsed": true
   },
   "outputs": [],
   "source": [
    "hepg2_pool1_ctrl_snps_filt = hepg2_pool1_ctrl_snps[~hepg2_pool1_ctrl_snps[\"combined_sig\"].str.contains(\"NA\")]\n",
    "k562_pool1_ctrl_snps_filt = k562_pool1_ctrl_snps[~k562_pool1_ctrl_snps[\"combined_sig\"].str.contains(\"NA\")]"
   ]
  },
  {
   "cell_type": "code",
   "execution_count": null,
   "metadata": {
    "collapsed": true
   },
   "outputs": [],
   "source": [
    "hepg2_pool1_data[\"wt_or_snp\"] = hepg2_pool1_data.apply(wt_or_snp, axis=1)\n",
    "k562_pool1_data[\"wt_or_snp\"] = k562_pool1_data.apply(wt_or_snp, axis=1)"
   ]
  },
  {
   "cell_type": "code",
   "execution_count": null,
   "metadata": {},
   "outputs": [],
   "source": [
    "print(\"HepG2\")\n",
    "paired_swarmplots_w_pval(7, 4, (7.2, 10), hepg2_pool1_ctrl_snps_filt, hepg2_pool1_data, fontsize, \".\", \"Fig_S13_1\", \n",
    "                         True)"
   ]
  },
  {
   "cell_type": "code",
   "execution_count": null,
   "metadata": {},
   "outputs": [],
   "source": [
    "print(\"K562\")\n",
    "paired_swarmplots_w_pval(7, 4, (7.2, 10), k562_pool1_ctrl_snps_filt, k562_pool1_data, fontsize, \".\", \"Fig_S13_2\", \n",
    "                         True)"
   ]
  },
  {
   "cell_type": "markdown",
   "metadata": {},
   "source": [
    "## 7. make GWAS SNP plots"
   ]
  },
  {
   "cell_type": "code",
   "execution_count": 51,
   "metadata": {
    "collapsed": true
   },
   "outputs": [],
   "source": [
    "hepg2_pool1_gwas = hepg2_pool1_active_sig_data[hepg2_pool1_active_sig_data[\"SNP\"].isin([\"rs3101018\", \"rs3785098\", \"rs4456788\"])]\n",
    "k562_pool1_gwas = k562_pool1_active_sig_data[k562_pool1_active_sig_data[\"SNP\"].isin([\"rs3101018\", \"rs3785098\", \"rs4456788\"])]"
   ]
  },
  {
   "cell_type": "code",
   "execution_count": 52,
   "metadata": {},
   "outputs": [
    {
     "name": "stdout",
     "output_type": "stream",
     "text": [
      "HepG2\n"
     ]
    },
    {
     "data": {
      "image/png": "[encoded data removed]",
      "text/plain": [
       "<matplotlib.figure.Figure at 0x2b9c7fa256d8>"
      ]
     },
     "metadata": {},
     "output_type": "display_data"
    }
   ],
   "source": [
    "print(\"HepG2\")\n",
    "paired_swarmplots_w_pval(1, 3, (4.5, 2), hepg2_pool1_gwas, hepg2_pool1_data, fontsize, \".\", \"Fig_S18_1_tall\", True)"
   ]
  },
  {
   "cell_type": "code",
   "execution_count": 53,
   "metadata": {},
   "outputs": [
    {
     "data": {
      "image/png": "[encoded data removed]",
      "text/plain": [
       "<matplotlib.figure.Figure at 0x2b9c7fa252b0>"
      ]
     },
     "metadata": {},
     "output_type": "display_data"
    }
   ],
   "source": [
    "paired_swarmplots_w_pval(1, 3, (4.5, 1.5), hepg2_pool1_gwas, hepg2_pool1_data, fontsize, \".\", \"Fig_S18_1_short\", True)"
   ]
  },
  {
   "cell_type": "code",
   "execution_count": 54,
   "metadata": {},
   "outputs": [
    {
     "data": {
      "text/html": [
       "<div>\n",
       "<style>\n",
       "    .dataframe thead tr:only-child th {\n",
       "        text-align: right;\n",
       "    }\n",
       "\n",
       "    .dataframe thead th {\n",
       "        text-align: left;\n",
       "    }\n",
       "\n",
       "    .dataframe tbody tr th {\n",
       "        vertical-align: top;\n",
       "    }\n",
       "</style>\n",
       "<table border=\"1\" class=\"dataframe\">\n",
       "  <thead>\n",
       "    <tr style=\"text-align: right;\">\n",
       "      <th></th>\n",
       "      <th>unique_id</th>\n",
       "      <th>rna_3_pval</th>\n",
       "      <th>rna_3_wt_med</th>\n",
       "      <th>rna_3_snp_med</th>\n",
       "      <th>rna_3_l2fc</th>\n",
       "      <th>wt_id</th>\n",
       "      <th>rna_4_pval</th>\n",
       "      <th>rna_4_wt_med</th>\n",
       "      <th>rna_4_snp_med</th>\n",
       "      <th>rna_4_l2fc</th>\n",
       "      <th>...</th>\n",
       "      <th>rna_8_sig</th>\n",
       "      <th>rna_9_sig</th>\n",
       "      <th>rna_10_sig</th>\n",
       "      <th>rna_11_sig</th>\n",
       "      <th>rna_12_sig</th>\n",
       "      <th>rna_13_sig</th>\n",
       "      <th>rna_14_sig</th>\n",
       "      <th>type</th>\n",
       "      <th>downsamp_type</th>\n",
       "      <th>SNP</th>\n",
       "    </tr>\n",
       "  </thead>\n",
       "  <tbody>\n",
       "    <tr>\n",
       "      <th>1512</th>\n",
       "      <td>WILDTYPE_SNP_INDIV__Enhancer.noflip.NA__chr6:3...</td>\n",
       "      <td>2.32766e-08</td>\n",
       "      <td>-0.168719</td>\n",
       "      <td>-1.20543</td>\n",
       "      <td>-1.036711</td>\n",
       "      <td>WILDTYPE_BUT_HAS_SNP__Enhancer.noflip.NA__chr6...</td>\n",
       "      <td>5.49048e-07</td>\n",
       "      <td>-0.105808</td>\n",
       "      <td>-0.847367</td>\n",
       "      <td>-0.741559</td>\n",
       "      <td>...</td>\n",
       "      <td>sig</td>\n",
       "      <td>sig</td>\n",
       "      <td>sig</td>\n",
       "      <td>sig</td>\n",
       "      <td>sig</td>\n",
       "      <td>sig</td>\n",
       "      <td>sig</td>\n",
       "      <td>sig indiv</td>\n",
       "      <td>sig indiv</td>\n",
       "      <td>rs3101018</td>\n",
       "    </tr>\n",
       "    <tr>\n",
       "      <th>1708</th>\n",
       "      <td>WILDTYPE_SNP_INDIV__Enhancer.noflip.NA__chr21:...</td>\n",
       "      <td>0.000413458</td>\n",
       "      <td>1.288504</td>\n",
       "      <td>0.45365</td>\n",
       "      <td>-0.834855</td>\n",
       "      <td>WILDTYPE_BUT_HAS_SNP__Enhancer.noflip.NA__chr2...</td>\n",
       "      <td>0.000587433</td>\n",
       "      <td>1.592249</td>\n",
       "      <td>0.665087</td>\n",
       "      <td>-0.927162</td>\n",
       "      <td>...</td>\n",
       "      <td>not sig</td>\n",
       "      <td>not sig</td>\n",
       "      <td>sig</td>\n",
       "      <td>sig</td>\n",
       "      <td>not sig</td>\n",
       "      <td>not sig</td>\n",
       "      <td>sig</td>\n",
       "      <td>sig indiv</td>\n",
       "      <td>sig indiv</td>\n",
       "      <td>rs4456788</td>\n",
       "    </tr>\n",
       "    <tr>\n",
       "      <th>1777</th>\n",
       "      <td>CONTROL_SNP_INDIV__control.flip.sense__chr16:6...</td>\n",
       "      <td>0.0473975</td>\n",
       "      <td>-0.232201</td>\n",
       "      <td>-0.03981</td>\n",
       "      <td>0.192391</td>\n",
       "      <td>CONTROL_BUT_HAS_SNP__control.flip.sense__chr16...</td>\n",
       "      <td>0.00623376</td>\n",
       "      <td>-0.367854</td>\n",
       "      <td>0.126794</td>\n",
       "      <td>0.494648</td>\n",
       "      <td>...</td>\n",
       "      <td>not sig</td>\n",
       "      <td>not sig</td>\n",
       "      <td>not sig</td>\n",
       "      <td>not sig</td>\n",
       "      <td>not sig</td>\n",
       "      <td>not sig</td>\n",
       "      <td>not sig</td>\n",
       "      <td>sig control</td>\n",
       "      <td>sig control</td>\n",
       "      <td>rs3785098</td>\n",
       "    </tr>\n",
       "  </tbody>\n",
       "</table>\n",
       "<p>3 rows × 85 columns</p>\n",
       "</div>"
      ],
      "text/plain": [
       "                                              unique_id   rna_3_pval  \\\n",
       "1512  WILDTYPE_SNP_INDIV__Enhancer.noflip.NA__chr6:3...  2.32766e-08   \n",
       "1708  WILDTYPE_SNP_INDIV__Enhancer.noflip.NA__chr21:...  0.000413458   \n",
       "1777  CONTROL_SNP_INDIV__control.flip.sense__chr16:6...    0.0473975   \n",
       "\n",
       "      rna_3_wt_med  rna_3_snp_med  rna_3_l2fc  \\\n",
       "1512     -0.168719       -1.20543   -1.036711   \n",
       "1708      1.288504        0.45365   -0.834855   \n",
       "1777     -0.232201       -0.03981    0.192391   \n",
       "\n",
       "                                                  wt_id   rna_4_pval  \\\n",
       "1512  WILDTYPE_BUT_HAS_SNP__Enhancer.noflip.NA__chr6...  5.49048e-07   \n",
       "1708  WILDTYPE_BUT_HAS_SNP__Enhancer.noflip.NA__chr2...  0.000587433   \n",
       "1777  CONTROL_BUT_HAS_SNP__control.flip.sense__chr16...   0.00623376   \n",
       "\n",
       "      rna_4_wt_med  rna_4_snp_med  rna_4_l2fc    ...     rna_8_sig  rna_9_sig  \\\n",
       "1512     -0.105808      -0.847367   -0.741559    ...           sig        sig   \n",
       "1708      1.592249       0.665087   -0.927162    ...       not sig    not sig   \n",
       "1777     -0.367854       0.126794    0.494648    ...       not sig    not sig   \n",
       "\n",
       "      rna_10_sig  rna_11_sig rna_12_sig  rna_13_sig  rna_14_sig         type  \\\n",
       "1512         sig         sig        sig         sig         sig    sig indiv   \n",
       "1708         sig         sig    not sig     not sig         sig    sig indiv   \n",
       "1777     not sig     not sig    not sig     not sig     not sig  sig control   \n",
       "\n",
       "     downsamp_type        SNP  \n",
       "1512     sig indiv  rs3101018  \n",
       "1708     sig indiv  rs4456788  \n",
       "1777   sig control  rs3785098  \n",
       "\n",
       "[3 rows x 85 columns]"
      ]
     },
     "execution_count": 54,
     "metadata": {},
     "output_type": "execute_result"
    }
   ],
   "source": [
    "hepg2_pool1_gwas.head()"
   ]
  },
  {
   "cell_type": "code",
   "execution_count": 55,
   "metadata": {},
   "outputs": [
    {
     "name": "stdout",
     "output_type": "stream",
     "text": [
      "K562\n"
     ]
    },
    {
     "data": {
      "image/png": "[encoded data removed]",
      "text/plain": [
       "<matplotlib.figure.Figure at 0x2b9c831671d0>"
      ]
     },
     "metadata": {},
     "output_type": "display_data"
    }
   ],
   "source": [
    "print(\"K562\")\n",
    "paired_swarmplots_w_pval(1, 3, (4.5, 2), k562_pool1_gwas, k562_pool1_data, fontsize, \".\", \"Fig_S18_2_tall\", True)"
   ]
  },
  {
   "cell_type": "code",
   "execution_count": 56,
   "metadata": {},
   "outputs": [
    {
     "data": {
      "image/png": "[encoded data removed]",
      "text/plain": [
       "<matplotlib.figure.Figure at 0x2b9c7f330470>"
      ]
     },
     "metadata": {},
     "output_type": "display_data"
    }
   ],
   "source": [
    "paired_swarmplots_w_pval(1, 3, (4.5, 1.5), k562_pool1_gwas, k562_pool1_data, fontsize, \".\", \"Fig_S18_2_short\", True)"
   ]
  },
  {
   "cell_type": "markdown",
   "metadata": {},
   "source": [
    "## 8. write files"
   ]
  },
  {
   "cell_type": "code",
   "execution_count": 57,
   "metadata": {
    "collapsed": true
   },
   "outputs": [],
   "source": [
    "out_dir = \"../../data/07__snps\""
   ]
  },
  {
   "cell_type": "code",
   "execution_count": 58,
   "metadata": {
    "collapsed": true
   },
   "outputs": [],
   "source": [
    "hepg2_pool2_active_snp_data = hepg2_pool2_active_snp_data.merge(pool2_index_elem[[\"unique_id\", \"SNP\"]], \n",
    "                                                                on=\"unique_id\", how=\"left\")\n",
    "k562_pool2_active_snp_data = k562_pool2_active_snp_data.merge(pool2_index_elem[[\"unique_id\", \"SNP\"]], \n",
    "                                                              on=\"unique_id\", how=\"left\")\n",
    "\n",
    "hepg2_pool2_repressive_snp_data = hepg2_pool2_repressive_snp_data.merge(pool2_index_elem[[\"unique_id\", \"SNP\"]], \n",
    "                                                                        on=\"unique_id\", how=\"left\")\n",
    "k562_pool2_repressive_snp_data = k562_pool2_repressive_snp_data.merge(pool2_index_elem[[\"unique_id\", \"SNP\"]], \n",
    "                                                                      on=\"unique_id\", how=\"left\")"
   ]
  },
  {
   "cell_type": "code",
   "execution_count": 59,
   "metadata": {
    "collapsed": true
   },
   "outputs": [],
   "source": [
    "active_dfs = [k562_pool1_active_snp_data, k562_pool2_active_snp_data, hepg2_pool1_active_snp_data, hepg2_pool2_active_snp_data]\n",
    "repressive_dfs = [k562_pool1_repressive_snp_data, k562_pool2_repressive_snp_data, hepg2_pool1_repressive_snp_data, hepg2_pool2_repressive_snp_data]\n",
    "all_reps = [k562_pool1_reps, k562_pool2_reps, hepg2_pool1_reps, hepg2_pool2_reps]\n",
    "cells = [\"K562\", \"K562\", \"HepG2\", \"HepG2\"]\n",
    "pools = [\"POOL1\", \"POOL2\", \"POOL1\", \"POOL2\"]"
   ]
  },
  {
   "cell_type": "code",
   "execution_count": 60,
   "metadata": {},
   "outputs": [
    {
     "name": "stdout",
     "output_type": "stream",
     "text": [
      "K562 POOL1\n",
      "K562 POOL2\n",
      "HepG2 POOL1\n",
      "HepG2 POOL2\n"
     ]
    }
   ],
   "source": [
    "for active_df, repressive_df, reps, cell, pool in zip(active_dfs, repressive_dfs, all_reps, cells, pools):\n",
    "    print(\"%s %s\" % (cell, pool))\n",
    "    col_order = [\"unique_id\", \"wt_id\", \"SNP\"]\n",
    "    wt_meds = [x + \"_wt_med\" for x in reps]\n",
    "    wt_meds.extend([\"combined_wt_med\"])\n",
    "    snp_meds = [x + \"_snp_med\" for x in reps]\n",
    "    snp_meds.extend([\"combined_snp_med\"])\n",
    "    l2fcs = [x + \"_l2fc\" for x in reps]\n",
    "    l2fcs.extend([\"combined_l2fc\"])\n",
    "    pvals = [x + \"_pval\" for x in reps]\n",
    "    pvals.extend([\"combined_pval\"])\n",
    "    padjs = [x + \"_padj\" for x in reps]\n",
    "    padjs.extend([\"combined_padj\"])\n",
    "    sigs = [x + \"_sig\" for x in reps]\n",
    "    sigs.extend([\"combined_sig\"])\n",
    "    if cell == \"HepG2\" and pool == \"POOL1\":\n",
    "        sigs.extend([\"downsamp_sig\"])\n",
    "    \n",
    "    col_order.extend(wt_meds)\n",
    "    col_order.extend(snp_meds)\n",
    "    col_order.extend(l2fcs)\n",
    "    col_order.extend(pvals)\n",
    "    col_order.extend(padjs)\n",
    "    col_order.extend(sigs)\n",
    "    \n",
    "    active_df = active_df[col_order]\n",
    "    repressive_df = repressive_df[col_order]\n",
    "    \n",
    "    active_f = \"%s/%s__%s_active_snp_results.txt\" % (out_dir, cell, pool)\n",
    "    repressive_f = \"%s/%s__%s_repressive_snp_results.txt\" % (out_dir, cell, pool)\n",
    "    \n",
    "    active_df.to_csv(active_f, sep=\"\\t\", index=False)\n",
    "    repressive_df.to_csv(repressive_f, sep=\"\\t\", index=False)"
   ]
  },
  {
   "cell_type": "markdown",
   "metadata": {},
   "source": [
    "## 9. create nicer table for supplement"
   ]
  },
  {
   "cell_type": "code",
   "execution_count": 61,
   "metadata": {},
   "outputs": [
    {
     "name": "stdout",
     "output_type": "stream",
     "text": [
      "1783\n"
     ]
    },
    {
     "data": {
      "text/html": [
       "<div>\n",
       "<style>\n",
       "    .dataframe thead tr:only-child th {\n",
       "        text-align: right;\n",
       "    }\n",
       "\n",
       "    .dataframe thead th {\n",
       "        text-align: left;\n",
       "    }\n",
       "\n",
       "    .dataframe tbody tr th {\n",
       "        vertical-align: top;\n",
       "    }\n",
       "</style>\n",
       "<table border=\"1\" class=\"dataframe\">\n",
       "  <thead>\n",
       "    <tr style=\"text-align: right;\">\n",
       "      <th></th>\n",
       "      <th>SNP</th>\n",
       "      <th>unique_id</th>\n",
       "      <th>HepG2_ref_activ</th>\n",
       "      <th>HepG2_alt_activ</th>\n",
       "      <th>HepG2_effect_size</th>\n",
       "      <th>HepG2_padj</th>\n",
       "      <th>HepG2_sig_status</th>\n",
       "      <th>HepG2_downsampled_sig_status</th>\n",
       "    </tr>\n",
       "  </thead>\n",
       "  <tbody>\n",
       "    <tr>\n",
       "      <th>193</th>\n",
       "      <td>rs7164444</td>\n",
       "      <td>WILDTYPE_SNP_INDIV__Antisense.noflip.NA__chr15...</td>\n",
       "      <td>-0.644452</td>\n",
       "      <td>-0.505509</td>\n",
       "      <td>0.138943</td>\n",
       "      <td>1.000000e+00</td>\n",
       "      <td>not sig</td>\n",
       "      <td>not sig</td>\n",
       "    </tr>\n",
       "    <tr>\n",
       "      <th>1060</th>\n",
       "      <td>rs1877714</td>\n",
       "      <td>WILDTYPE_SNP_INDIV__mrna.noflip.NA__chr2:21913...</td>\n",
       "      <td>2.161270</td>\n",
       "      <td>1.917629</td>\n",
       "      <td>-0.243641</td>\n",
       "      <td>1.000000e+00</td>\n",
       "      <td>not sig</td>\n",
       "      <td>not sig</td>\n",
       "    </tr>\n",
       "    <tr>\n",
       "      <th>1334</th>\n",
       "      <td>rsFakeHBB-29</td>\n",
       "      <td>CONTROL_SNP_INDIV__control.flip.sense__chr11:5...</td>\n",
       "      <td>-1.108018</td>\n",
       "      <td>-1.551207</td>\n",
       "      <td>-0.443189</td>\n",
       "      <td>NaN</td>\n",
       "      <td>NaN</td>\n",
       "      <td>NaN</td>\n",
       "    </tr>\n",
       "    <tr>\n",
       "      <th>1510</th>\n",
       "      <td>rs3095337</td>\n",
       "      <td>WILDTYPE_SNP_INDIV__Enhancer.noflip.NA__chr6:3...</td>\n",
       "      <td>2.411389</td>\n",
       "      <td>1.677741</td>\n",
       "      <td>-0.733648</td>\n",
       "      <td>1.845860e-61</td>\n",
       "      <td>sig</td>\n",
       "      <td>sig</td>\n",
       "    </tr>\n",
       "    <tr>\n",
       "      <th>331</th>\n",
       "      <td>rs73827419</td>\n",
       "      <td>WILDTYPE_SNP_INDIV__Antisense.noflip.NA__chr3:...</td>\n",
       "      <td>2.619424</td>\n",
       "      <td>2.776576</td>\n",
       "      <td>0.157152</td>\n",
       "      <td>1.000000e+00</td>\n",
       "      <td>not sig</td>\n",
       "      <td>not sig</td>\n",
       "    </tr>\n",
       "  </tbody>\n",
       "</table>\n",
       "</div>"
      ],
      "text/plain": [
       "               SNP                                          unique_id  \\\n",
       "193      rs7164444  WILDTYPE_SNP_INDIV__Antisense.noflip.NA__chr15...   \n",
       "1060     rs1877714  WILDTYPE_SNP_INDIV__mrna.noflip.NA__chr2:21913...   \n",
       "1334  rsFakeHBB-29  CONTROL_SNP_INDIV__control.flip.sense__chr11:5...   \n",
       "1510     rs3095337  WILDTYPE_SNP_INDIV__Enhancer.noflip.NA__chr6:3...   \n",
       "331     rs73827419  WILDTYPE_SNP_INDIV__Antisense.noflip.NA__chr3:...   \n",
       "\n",
       "      HepG2_ref_activ  HepG2_alt_activ  HepG2_effect_size    HepG2_padj  \\\n",
       "193         -0.644452        -0.505509           0.138943  1.000000e+00   \n",
       "1060         2.161270         1.917629          -0.243641  1.000000e+00   \n",
       "1334        -1.108018        -1.551207          -0.443189           NaN   \n",
       "1510         2.411389         1.677741          -0.733648  1.845860e-61   \n",
       "331          2.619424         2.776576           0.157152  1.000000e+00   \n",
       "\n",
       "     HepG2_sig_status HepG2_downsampled_sig_status  \n",
       "193           not sig                      not sig  \n",
       "1060          not sig                      not sig  \n",
       "1334              NaN                          NaN  \n",
       "1510              sig                          sig  \n",
       "331           not sig                      not sig  "
      ]
     },
     "execution_count": 61,
     "metadata": {},
     "output_type": "execute_result"
    }
   ],
   "source": [
    "hepg2_supp = hepg2_pool1_active_snp_data[[\"SNP\", \"unique_id\", \"combined_wt_med\", \"combined_snp_med\", \"combined_l2fc\",\n",
    "                                          \"combined_padj\", \"combined_sig\", \"downsamp_sig\"]]\n",
    "hepg2_supp.columns = [\"SNP\", \"unique_id\", \"HepG2_ref_activ\", \"HepG2_alt_activ\", \"HepG2_effect_size\", \"HepG2_padj\", \n",
    "                      \"HepG2_sig_status\", \"HepG2_downsampled_sig_status\"]\n",
    "hepg2_supp.replace(\"NA__too_many_rep_NAs\", np.nan, inplace=True)\n",
    "print(len(hepg2_supp))\n",
    "hepg2_supp.sample(5)"
   ]
  },
  {
   "cell_type": "code",
   "execution_count": 62,
   "metadata": {},
   "outputs": [
    {
     "name": "stdout",
     "output_type": "stream",
     "text": [
      "1783\n"
     ]
    },
    {
     "data": {
      "text/html": [
       "<div>\n",
       "<style>\n",
       "    .dataframe thead tr:only-child th {\n",
       "        text-align: right;\n",
       "    }\n",
       "\n",
       "    .dataframe thead th {\n",
       "        text-align: left;\n",
       "    }\n",
       "\n",
       "    .dataframe tbody tr th {\n",
       "        vertical-align: top;\n",
       "    }\n",
       "</style>\n",
       "<table border=\"1\" class=\"dataframe\">\n",
       "  <thead>\n",
       "    <tr style=\"text-align: right;\">\n",
       "      <th></th>\n",
       "      <th>SNP</th>\n",
       "      <th>unique_id</th>\n",
       "      <th>K562_ref_activ</th>\n",
       "      <th>K562_alt_activ</th>\n",
       "      <th>K562_effect_size</th>\n",
       "      <th>K562_padj</th>\n",
       "      <th>K562_sig_status</th>\n",
       "    </tr>\n",
       "  </thead>\n",
       "  <tbody>\n",
       "    <tr>\n",
       "      <th>974</th>\n",
       "      <td>rs8062510,rs2270845,rs113086877</td>\n",
       "      <td>WILDTYPE_SNP_PLUS_HAPLO__mrna.noflip.NA__chr16...</td>\n",
       "      <td>3.059020</td>\n",
       "      <td>3.161972</td>\n",
       "      <td>0.102952</td>\n",
       "      <td>1.0</td>\n",
       "      <td>not sig</td>\n",
       "    </tr>\n",
       "    <tr>\n",
       "      <th>735</th>\n",
       "      <td>rs140110518</td>\n",
       "      <td>WILDTYPE_SNP_INDIV__mrna.noflip.NA__chr6:13711...</td>\n",
       "      <td>1.555317</td>\n",
       "      <td>1.838828</td>\n",
       "      <td>0.980715</td>\n",
       "      <td>NaN</td>\n",
       "      <td>NaN</td>\n",
       "    </tr>\n",
       "    <tr>\n",
       "      <th>447</th>\n",
       "      <td>rs510551</td>\n",
       "      <td>WILDTYPE_SNP_INDIV__Antisense.flip.sense__chr6...</td>\n",
       "      <td>-1.140898</td>\n",
       "      <td>0.912720</td>\n",
       "      <td>2.053618</td>\n",
       "      <td>NaN</td>\n",
       "      <td>NaN</td>\n",
       "    </tr>\n",
       "    <tr>\n",
       "      <th>1338</th>\n",
       "      <td>rs1320976,rs1892092</td>\n",
       "      <td>WILDTYPE_SNP_PLUS_HAPLO__Lincrna.noflip.NA__ch...</td>\n",
       "      <td>-3.261240</td>\n",
       "      <td>-3.416858</td>\n",
       "      <td>-0.155618</td>\n",
       "      <td>NaN</td>\n",
       "      <td>NaN</td>\n",
       "    </tr>\n",
       "    <tr>\n",
       "      <th>372</th>\n",
       "      <td>rs55893519,rs116129283,rs112065591</td>\n",
       "      <td>WILDTYPE_SNP_PLUS_HAPLO__Lincrna.noflip.NA__ch...</td>\n",
       "      <td>1.848832</td>\n",
       "      <td>1.805577</td>\n",
       "      <td>-0.043255</td>\n",
       "      <td>1.0</td>\n",
       "      <td>not sig</td>\n",
       "    </tr>\n",
       "  </tbody>\n",
       "</table>\n",
       "</div>"
      ],
      "text/plain": [
       "                                     SNP  \\\n",
       "974      rs8062510,rs2270845,rs113086877   \n",
       "735                          rs140110518   \n",
       "447                             rs510551   \n",
       "1338                 rs1320976,rs1892092   \n",
       "372   rs55893519,rs116129283,rs112065591   \n",
       "\n",
       "                                              unique_id  K562_ref_activ  \\\n",
       "974   WILDTYPE_SNP_PLUS_HAPLO__mrna.noflip.NA__chr16...        3.059020   \n",
       "735   WILDTYPE_SNP_INDIV__mrna.noflip.NA__chr6:13711...        1.555317   \n",
       "447   WILDTYPE_SNP_INDIV__Antisense.flip.sense__chr6...       -1.140898   \n",
       "1338  WILDTYPE_SNP_PLUS_HAPLO__Lincrna.noflip.NA__ch...       -3.261240   \n",
       "372   WILDTYPE_SNP_PLUS_HAPLO__Lincrna.noflip.NA__ch...        1.848832   \n",
       "\n",
       "      K562_alt_activ  K562_effect_size  K562_padj K562_sig_status  \n",
       "974         3.161972          0.102952        1.0         not sig  \n",
       "735         1.838828          0.980715        NaN             NaN  \n",
       "447         0.912720          2.053618        NaN             NaN  \n",
       "1338       -3.416858         -0.155618        NaN             NaN  \n",
       "372         1.805577         -0.043255        1.0         not sig  "
      ]
     },
     "execution_count": 62,
     "metadata": {},
     "output_type": "execute_result"
    }
   ],
   "source": [
    "k562_supp = k562_pool1_active_snp_data[[\"SNP\", \"unique_id\", \"combined_wt_med\", \"combined_snp_med\", \"combined_l2fc\",\n",
    "                                        \"combined_padj\", \"combined_sig\"]]\n",
    "k562_supp.columns = [\"SNP\", \"unique_id\", \"K562_ref_activ\", \"K562_alt_activ\", \"K562_effect_size\", \"K562_padj\", \n",
    "                     \"K562_sig_status\"]\n",
    "k562_supp.replace(\"NA__too_many_rep_NAs\", np.nan, inplace=True)\n",
    "print(len(k562_supp))\n",
    "k562_supp.sample(5)"
   ]
  },
  {
   "cell_type": "code",
   "execution_count": 63,
   "metadata": {},
   "outputs": [
    {
     "name": "stdout",
     "output_type": "stream",
     "text": [
      "1783\n"
     ]
    },
    {
     "data": {
      "text/html": [
       "<div>\n",
       "<style>\n",
       "    .dataframe thead tr:only-child th {\n",
       "        text-align: right;\n",
       "    }\n",
       "\n",
       "    .dataframe thead th {\n",
       "        text-align: left;\n",
       "    }\n",
       "\n",
       "    .dataframe tbody tr th {\n",
       "        vertical-align: top;\n",
       "    }\n",
       "</style>\n",
       "<table border=\"1\" class=\"dataframe\">\n",
       "  <thead>\n",
       "    <tr style=\"text-align: right;\">\n",
       "      <th></th>\n",
       "      <th>SNP</th>\n",
       "      <th>unique_id</th>\n",
       "      <th>HepG2_ref_activ</th>\n",
       "      <th>HepG2_alt_activ</th>\n",
       "      <th>HepG2_effect_size</th>\n",
       "      <th>HepG2_padj</th>\n",
       "      <th>HepG2_sig_status</th>\n",
       "      <th>HepG2_downsampled_sig_status</th>\n",
       "      <th>K562_ref_activ</th>\n",
       "      <th>K562_alt_activ</th>\n",
       "      <th>K562_effect_size</th>\n",
       "      <th>K562_padj</th>\n",
       "      <th>K562_sig_status</th>\n",
       "    </tr>\n",
       "  </thead>\n",
       "  <tbody>\n",
       "    <tr>\n",
       "      <th>1396</th>\n",
       "      <td>rs12681880</td>\n",
       "      <td>WILDTYPE_SNP_INDIV__Enhancer.noflip.NA__chr8:1...</td>\n",
       "      <td>-1.537991</td>\n",
       "      <td>-2.044524</td>\n",
       "      <td>-0.506534</td>\n",
       "      <td>NaN</td>\n",
       "      <td>NaN</td>\n",
       "      <td>NaN</td>\n",
       "      <td>-2.874103</td>\n",
       "      <td>-3.168794</td>\n",
       "      <td>-0.294691</td>\n",
       "      <td>NaN</td>\n",
       "      <td>NaN</td>\n",
       "    </tr>\n",
       "    <tr>\n",
       "      <th>616</th>\n",
       "      <td>rs17171772</td>\n",
       "      <td>WILDTYPE_SNP_INDIV__mrna.flip.sense__chr5:1375...</td>\n",
       "      <td>-0.647637</td>\n",
       "      <td>-0.695957</td>\n",
       "      <td>-0.048319</td>\n",
       "      <td>1.0</td>\n",
       "      <td>not sig</td>\n",
       "      <td>not sig</td>\n",
       "      <td>-2.181802</td>\n",
       "      <td>-2.144277</td>\n",
       "      <td>0.037524</td>\n",
       "      <td>NaN</td>\n",
       "      <td>NaN</td>\n",
       "    </tr>\n",
       "    <tr>\n",
       "      <th>173</th>\n",
       "      <td>rs79436692</td>\n",
       "      <td>WILDTYPE_SNP_INDIV__Antisense.flip.sense__chr1...</td>\n",
       "      <td>1.204733</td>\n",
       "      <td>1.148033</td>\n",
       "      <td>-0.056699</td>\n",
       "      <td>1.0</td>\n",
       "      <td>not sig</td>\n",
       "      <td>not sig</td>\n",
       "      <td>1.361629</td>\n",
       "      <td>1.113008</td>\n",
       "      <td>-0.248621</td>\n",
       "      <td>1.0</td>\n",
       "      <td>not sig</td>\n",
       "    </tr>\n",
       "    <tr>\n",
       "      <th>1386</th>\n",
       "      <td>rs192987417</td>\n",
       "      <td>WILDTYPE_SNP_INDIV__Enhancer.noflip.NA__chr3:1...</td>\n",
       "      <td>-0.303878</td>\n",
       "      <td>-0.315071</td>\n",
       "      <td>-0.011192</td>\n",
       "      <td>1.0</td>\n",
       "      <td>not sig</td>\n",
       "      <td>not sig</td>\n",
       "      <td>-1.612627</td>\n",
       "      <td>-1.597283</td>\n",
       "      <td>0.015344</td>\n",
       "      <td>NaN</td>\n",
       "      <td>NaN</td>\n",
       "    </tr>\n",
       "    <tr>\n",
       "      <th>866</th>\n",
       "      <td>rs3802967</td>\n",
       "      <td>WILDTYPE_SNP_INDIV__mrna.noflip.NA__chr11:1834...</td>\n",
       "      <td>1.707067</td>\n",
       "      <td>1.899001</td>\n",
       "      <td>0.191934</td>\n",
       "      <td>1.0</td>\n",
       "      <td>not sig</td>\n",
       "      <td>not sig</td>\n",
       "      <td>0.654441</td>\n",
       "      <td>0.707474</td>\n",
       "      <td>0.053033</td>\n",
       "      <td>1.0</td>\n",
       "      <td>not sig</td>\n",
       "    </tr>\n",
       "  </tbody>\n",
       "</table>\n",
       "</div>"
      ],
      "text/plain": [
       "              SNP                                          unique_id  \\\n",
       "1396   rs12681880  WILDTYPE_SNP_INDIV__Enhancer.noflip.NA__chr8:1...   \n",
       "616    rs17171772  WILDTYPE_SNP_INDIV__mrna.flip.sense__chr5:1375...   \n",
       "173    rs79436692  WILDTYPE_SNP_INDIV__Antisense.flip.sense__chr1...   \n",
       "1386  rs192987417  WILDTYPE_SNP_INDIV__Enhancer.noflip.NA__chr3:1...   \n",
       "866     rs3802967  WILDTYPE_SNP_INDIV__mrna.noflip.NA__chr11:1834...   \n",
       "\n",
       "      HepG2_ref_activ  HepG2_alt_activ  HepG2_effect_size  HepG2_padj  \\\n",
       "1396        -1.537991        -2.044524          -0.506534         NaN   \n",
       "616         -0.647637        -0.695957          -0.048319         1.0   \n",
       "173          1.204733         1.148033          -0.056699         1.0   \n",
       "1386        -0.303878        -0.315071          -0.011192         1.0   \n",
       "866          1.707067         1.899001           0.191934         1.0   \n",
       "\n",
       "     HepG2_sig_status HepG2_downsampled_sig_status  K562_ref_activ  \\\n",
       "1396              NaN                          NaN       -2.874103   \n",
       "616           not sig                      not sig       -2.181802   \n",
       "173           not sig                      not sig        1.361629   \n",
       "1386          not sig                      not sig       -1.612627   \n",
       "866           not sig                      not sig        0.654441   \n",
       "\n",
       "      K562_alt_activ  K562_effect_size  K562_padj K562_sig_status  \n",
       "1396       -3.168794         -0.294691        NaN             NaN  \n",
       "616        -2.144277          0.037524        NaN             NaN  \n",
       "173         1.113008         -0.248621        1.0         not sig  \n",
       "1386       -1.597283          0.015344        NaN             NaN  \n",
       "866         0.707474          0.053033        1.0         not sig  "
      ]
     },
     "execution_count": 63,
     "metadata": {},
     "output_type": "execute_result"
    }
   ],
   "source": [
    "supp_table_s5 = hepg2_supp.merge(k562_supp, on=[\"SNP\", \"unique_id\"]).drop_duplicates()\n",
    "print(len(supp_table_s5))\n",
    "supp_table_s5.sample(5)"
   ]
  },
  {
   "cell_type": "code",
   "execution_count": 64,
   "metadata": {
    "collapsed": true
   },
   "outputs": [],
   "source": [
    "supp_table_s5.to_csv(\"%s/Supplemental_Table_S5.txt\" % out_dir, sep=\"\\t\", index=False)"
   ]
  },
  {
   "cell_type": "markdown",
   "metadata": {},
   "source": [
    "## 10. correlate SNPs with fimo motif predictions"
   ]
  },
  {
   "cell_type": "code",
   "execution_count": 65,
   "metadata": {
    "collapsed": true
   },
   "outputs": [],
   "source": [
    "def reverse_snp_map(snp_map):\n",
    "    rev_map = {}\n",
    "    for key in snp_map:\n",
    "        vals = snp_map[key][0]\n",
    "        for val in vals:\n",
    "            if val not in rev_map:\n",
    "                rev_map[val] = key\n",
    "            else:\n",
    "                print(\"dupe val: %s\" % val)\n",
    "    return rev_map"
   ]
  },
  {
   "cell_type": "code",
   "execution_count": 66,
   "metadata": {
    "collapsed": true
   },
   "outputs": [],
   "source": [
    "hepg2_pool1_rev_map = reverse_snp_map(hepg2_pool1_snp_map)\n",
    "k562_pool1_rev_map = reverse_snp_map(k562_pool1_snp_map)"
   ]
  },
  {
   "cell_type": "code",
   "execution_count": 67,
   "metadata": {},
   "outputs": [
    {
     "data": {
      "text/html": [
       "<div>\n",
       "<style>\n",
       "    .dataframe thead tr:only-child th {\n",
       "        text-align: right;\n",
       "    }\n",
       "\n",
       "    .dataframe thead th {\n",
       "        text-align: left;\n",
       "    }\n",
       "\n",
       "    .dataframe tbody tr th {\n",
       "        vertical-align: top;\n",
       "    }\n",
       "</style>\n",
       "<table border=\"1\" class=\"dataframe\">\n",
       "  <thead>\n",
       "    <tr style=\"text-align: right;\">\n",
       "      <th></th>\n",
       "      <th>n_motifs</th>\n",
       "    </tr>\n",
       "    <tr>\n",
       "      <th>seqID</th>\n",
       "      <th></th>\n",
       "    </tr>\n",
       "  </thead>\n",
       "  <tbody>\n",
       "    <tr>\n",
       "      <th>CONTROL_BUT_HAS_SNP__control.flip.sense__chr11:5248266..5248380,-__1715.1.0.0</th>\n",
       "      <td>10</td>\n",
       "    </tr>\n",
       "    <tr>\n",
       "      <th>CONTROL_BUT_HAS_SNP__control.flip.sense__chr16:67993585..67993700,+__2318.1.0.0</th>\n",
       "      <td>50</td>\n",
       "    </tr>\n",
       "    <tr>\n",
       "      <th>CONTROL_BUT_HAS_SNP__control.flip.sense__chr17:33571488..33571603,+__2316.1.0.0</th>\n",
       "      <td>24</td>\n",
       "    </tr>\n",
       "    <tr>\n",
       "      <th>CONTROL_BUT_HAS_SNP__control.flip.sense__chr17:76375037..76375152,+__2319.1.0.0</th>\n",
       "      <td>12</td>\n",
       "    </tr>\n",
       "    <tr>\n",
       "      <th>CONTROL_BUT_HAS_SNP__control.flip.sense__chr1:153518247..153518361,-__1714.1.0.0</th>\n",
       "      <td>16</td>\n",
       "    </tr>\n",
       "  </tbody>\n",
       "</table>\n",
       "</div>"
      ],
      "text/plain": [
       "                                                    n_motifs\n",
       "seqID                                                       \n",
       "CONTROL_BUT_HAS_SNP__control.flip.sense__chr11:...        10\n",
       "CONTROL_BUT_HAS_SNP__control.flip.sense__chr16:...        50\n",
       "CONTROL_BUT_HAS_SNP__control.flip.sense__chr17:...        24\n",
       "CONTROL_BUT_HAS_SNP__control.flip.sense__chr17:...        12\n",
       "CONTROL_BUT_HAS_SNP__control.flip.sense__chr1:1...        16"
      ]
     },
     "execution_count": 67,
     "metadata": {},
     "output_type": "execute_result"
    }
   ],
   "source": [
    "fimo.set_index(\"seqID\", inplace=True)\n",
    "fimo.head()"
   ]
  },
  {
   "cell_type": "code",
   "execution_count": 68,
   "metadata": {
    "collapsed": true
   },
   "outputs": [],
   "source": [
    "fimo_dict = fimo.to_dict(orient=\"index\")"
   ]
  },
  {
   "cell_type": "code",
   "execution_count": 69,
   "metadata": {
    "collapsed": true
   },
   "outputs": [],
   "source": [
    "def get_snp_tfbs_delta(row, rev_map, fimo_map):\n",
    "    try:\n",
    "        n_wt_tfs = fimo_map[rev_map[row[\"unique_id\"]]][\"n_motifs\"]\n",
    "        n_snp_tfs = fimo_map[row[\"unique_id\"]][\"n_motifs\"]\n",
    "    except:\n",
    "        n_wt_tfs = np.nan\n",
    "        n_snp_tfs = np.nan\n",
    "    delta_tfs = n_snp_tfs - n_wt_tfs\n",
    "    return delta_tfs"
   ]
  },
  {
   "cell_type": "code",
   "execution_count": 70,
   "metadata": {},
   "outputs": [
    {
     "data": {
      "text/html": [
       "<div>\n",
       "<style>\n",
       "    .dataframe thead tr:only-child th {\n",
       "        text-align: right;\n",
       "    }\n",
       "\n",
       "    .dataframe thead th {\n",
       "        text-align: left;\n",
       "    }\n",
       "\n",
       "    .dataframe tbody tr th {\n",
       "        vertical-align: top;\n",
       "    }\n",
       "</style>\n",
       "<table border=\"1\" class=\"dataframe\">\n",
       "  <thead>\n",
       "    <tr style=\"text-align: right;\">\n",
       "      <th></th>\n",
       "      <th>SNP</th>\n",
       "      <th>unique_id</th>\n",
       "      <th>HepG2_ref_activ</th>\n",
       "      <th>HepG2_alt_activ</th>\n",
       "      <th>HepG2_effect_size</th>\n",
       "      <th>HepG2_padj</th>\n",
       "      <th>HepG2_sig_status</th>\n",
       "      <th>HepG2_downsampled_sig_status</th>\n",
       "      <th>K562_ref_activ</th>\n",
       "      <th>K562_alt_activ</th>\n",
       "      <th>K562_effect_size</th>\n",
       "      <th>K562_padj</th>\n",
       "      <th>K562_sig_status</th>\n",
       "      <th>delta_tfs</th>\n",
       "    </tr>\n",
       "  </thead>\n",
       "  <tbody>\n",
       "    <tr>\n",
       "      <th>1386</th>\n",
       "      <td>rs192987417</td>\n",
       "      <td>WILDTYPE_SNP_INDIV__Enhancer.noflip.NA__chr3:1...</td>\n",
       "      <td>-0.303878</td>\n",
       "      <td>-0.315071</td>\n",
       "      <td>-0.011192</td>\n",
       "      <td>1.000000</td>\n",
       "      <td>not sig</td>\n",
       "      <td>not sig</td>\n",
       "      <td>-1.612627</td>\n",
       "      <td>-1.597283</td>\n",
       "      <td>0.015344</td>\n",
       "      <td>NaN</td>\n",
       "      <td>NaN</td>\n",
       "      <td>-1.0</td>\n",
       "    </tr>\n",
       "    <tr>\n",
       "      <th>1281</th>\n",
       "      <td>rs113733106,rs1032577</td>\n",
       "      <td>WILDTYPE_SNP_PLUS_HAPLO__mrna.noflip.NA__chr8:...</td>\n",
       "      <td>-0.192584</td>\n",
       "      <td>-0.503481</td>\n",
       "      <td>-0.310896</td>\n",
       "      <td>0.003901</td>\n",
       "      <td>sig</td>\n",
       "      <td>not sig</td>\n",
       "      <td>-0.613125</td>\n",
       "      <td>-1.021966</td>\n",
       "      <td>-0.408841</td>\n",
       "      <td>1.0</td>\n",
       "      <td>not sig</td>\n",
       "      <td>-5.0</td>\n",
       "    </tr>\n",
       "    <tr>\n",
       "      <th>714</th>\n",
       "      <td>rs740531</td>\n",
       "      <td>WILDTYPE_SNP_INDIV__mrna.noflip.NA__chr7:72220...</td>\n",
       "      <td>1.967938</td>\n",
       "      <td>2.214626</td>\n",
       "      <td>0.246688</td>\n",
       "      <td>1.000000</td>\n",
       "      <td>not sig</td>\n",
       "      <td>not sig</td>\n",
       "      <td>2.484431</td>\n",
       "      <td>2.476347</td>\n",
       "      <td>-0.008084</td>\n",
       "      <td>1.0</td>\n",
       "      <td>not sig</td>\n",
       "      <td>0.0</td>\n",
       "    </tr>\n",
       "    <tr>\n",
       "      <th>1042</th>\n",
       "      <td>rs4302219</td>\n",
       "      <td>WILDTYPE_SNP_INDIV__mrna.noflip.NA__chr2:11188...</td>\n",
       "      <td>-0.066740</td>\n",
       "      <td>0.840933</td>\n",
       "      <td>0.907673</td>\n",
       "      <td>NaN</td>\n",
       "      <td>NaN</td>\n",
       "      <td>NaN</td>\n",
       "      <td>-0.816565</td>\n",
       "      <td>2.338172</td>\n",
       "      <td>3.154737</td>\n",
       "      <td>NaN</td>\n",
       "      <td>NaN</td>\n",
       "      <td>-1.0</td>\n",
       "    </tr>\n",
       "    <tr>\n",
       "      <th>982</th>\n",
       "      <td>rs62066869</td>\n",
       "      <td>WILDTYPE_SNP_INDIV__mrna.noflip.NA__chr17:2005...</td>\n",
       "      <td>-0.216900</td>\n",
       "      <td>-0.244970</td>\n",
       "      <td>-0.028071</td>\n",
       "      <td>NaN</td>\n",
       "      <td>NaN</td>\n",
       "      <td>NaN</td>\n",
       "      <td>0.538531</td>\n",
       "      <td>0.198968</td>\n",
       "      <td>-0.339563</td>\n",
       "      <td>NaN</td>\n",
       "      <td>NaN</td>\n",
       "      <td>0.0</td>\n",
       "    </tr>\n",
       "  </tbody>\n",
       "</table>\n",
       "</div>"
      ],
      "text/plain": [
       "                        SNP  \\\n",
       "1386            rs192987417   \n",
       "1281  rs113733106,rs1032577   \n",
       "714                rs740531   \n",
       "1042              rs4302219   \n",
       "982              rs62066869   \n",
       "\n",
       "                                              unique_id  HepG2_ref_activ  \\\n",
       "1386  WILDTYPE_SNP_INDIV__Enhancer.noflip.NA__chr3:1...        -0.303878   \n",
       "1281  WILDTYPE_SNP_PLUS_HAPLO__mrna.noflip.NA__chr8:...        -0.192584   \n",
       "714   WILDTYPE_SNP_INDIV__mrna.noflip.NA__chr7:72220...         1.967938   \n",
       "1042  WILDTYPE_SNP_INDIV__mrna.noflip.NA__chr2:11188...        -0.066740   \n",
       "982   WILDTYPE_SNP_INDIV__mrna.noflip.NA__chr17:2005...        -0.216900   \n",
       "\n",
       "      HepG2_alt_activ  HepG2_effect_size  HepG2_padj HepG2_sig_status  \\\n",
       "1386        -0.315071          -0.011192    1.000000          not sig   \n",
       "1281        -0.503481          -0.310896    0.003901              sig   \n",
       "714          2.214626           0.246688    1.000000          not sig   \n",
       "1042         0.840933           0.907673         NaN              NaN   \n",
       "982         -0.244970          -0.028071         NaN              NaN   \n",
       "\n",
       "     HepG2_downsampled_sig_status  K562_ref_activ  K562_alt_activ  \\\n",
       "1386                      not sig       -1.612627       -1.597283   \n",
       "1281                      not sig       -0.613125       -1.021966   \n",
       "714                       not sig        2.484431        2.476347   \n",
       "1042                          NaN       -0.816565        2.338172   \n",
       "982                           NaN        0.538531        0.198968   \n",
       "\n",
       "      K562_effect_size  K562_padj K562_sig_status  delta_tfs  \n",
       "1386          0.015344        NaN             NaN       -1.0  \n",
       "1281         -0.408841        1.0         not sig       -5.0  \n",
       "714          -0.008084        1.0         not sig        0.0  \n",
       "1042          3.154737        NaN             NaN       -1.0  \n",
       "982          -0.339563        NaN             NaN        0.0  "
      ]
     },
     "execution_count": 70,
     "metadata": {},
     "output_type": "execute_result"
    }
   ],
   "source": [
    "supp_table_s5[\"delta_tfs\"] = supp_table_s5.apply(get_snp_tfbs_delta, rev_map=hepg2_pool1_rev_map, \n",
    "                                                 fimo_map=fimo_dict, axis=1)\n",
    "supp_table_s5.sample(5)"
   ]
  },
  {
   "cell_type": "code",
   "execution_count": 71,
   "metadata": {},
   "outputs": [
    {
     "data": {
      "image/png": "[encoded data removed]",
      "text/plain": [
       "<matplotlib.figure.Figure at 0x2b9c7fde0550>"
      ]
     },
     "metadata": {},
     "output_type": "display_data"
    }
   ],
   "source": [
    "df = supp_table_s5[supp_table_s5[\"HepG2_sig_status\"] == \"sig\"]\n",
    "g = sns.jointplot(data=df, x=\"delta_tfs\", y=\"HepG2_effect_size\", kind=\"reg\", space=0, size=2.5, stat_func=spearmanr, \n",
    "                  marginal_kws={\"hist\": False}, color=\"darkgrey\", scatter_kws={\"s\": 25})\n",
    "g.set_axis_labels(r\"$\\Delta$ motifs (alt-ref)\", \"SNP effect size\")\n",
    "g.savefig(\"Fig_5B.pdf\", dpi=\"figure\", bbox_inches=\"tight\")"
   ]
  },
  {
   "cell_type": "code",
   "execution_count": 72,
   "metadata": {},
   "outputs": [
    {
     "data": {
      "image/png": "[encoded data removed]",
      "text/plain": [
       "<matplotlib.figure.Figure at 0x2b9c7fb25dd8>"
      ]
     },
     "metadata": {},
     "output_type": "display_data"
    }
   ],
   "source": [
    "df = supp_table_s5[supp_table_s5[\"K562_sig_status\"] == \"sig\"]\n",
    "g = sns.jointplot(data=df, x=\"delta_tfs\", y=\"K562_effect_size\", kind=\"reg\", space=0, size=2.5, stat_func=spearmanr, \n",
    "                  marginal_kws={\"hist\": False}, color=\"darkgrey\", scatter_kws={\"s\": 25})\n",
    "g.set_axis_labels(r\"$\\Delta$ motifs (alt-ref)\", \"SNP effect size\")\n",
    "g.savefig(\"Fig_S18.pdf\", dpi=\"figure\", bbox_inches=\"tight\")"
   ]
  },
  {
   "cell_type": "markdown",
   "metadata": {},
   "source": [
    "## 11. correlate SNPs across cell types"
   ]
  },
  {
   "cell_type": "code",
   "execution_count": 73,
   "metadata": {},
   "outputs": [
    {
     "data": {
      "text/html": [
       "<div>\n",
       "<style>\n",
       "    .dataframe thead tr:only-child th {\n",
       "        text-align: right;\n",
       "    }\n",
       "\n",
       "    .dataframe thead th {\n",
       "        text-align: left;\n",
       "    }\n",
       "\n",
       "    .dataframe tbody tr th {\n",
       "        vertical-align: top;\n",
       "    }\n",
       "</style>\n",
       "<table border=\"1\" class=\"dataframe\">\n",
       "  <thead>\n",
       "    <tr style=\"text-align: right;\">\n",
       "      <th></th>\n",
       "      <th>SNP</th>\n",
       "      <th>unique_id</th>\n",
       "      <th>HepG2_ref_activ</th>\n",
       "      <th>HepG2_alt_activ</th>\n",
       "      <th>HepG2_effect_size</th>\n",
       "      <th>HepG2_padj</th>\n",
       "      <th>HepG2_sig_status</th>\n",
       "      <th>HepG2_downsampled_sig_status</th>\n",
       "      <th>K562_ref_activ</th>\n",
       "      <th>K562_alt_activ</th>\n",
       "      <th>K562_effect_size</th>\n",
       "      <th>K562_padj</th>\n",
       "      <th>K562_sig_status</th>\n",
       "      <th>delta_tfs</th>\n",
       "      <th>sig_type</th>\n",
       "    </tr>\n",
       "  </thead>\n",
       "  <tbody>\n",
       "    <tr>\n",
       "      <th>1650</th>\n",
       "      <td>rs2941540</td>\n",
       "      <td>WILDTYPE_SNP_INDIV__Enhancer.noflip.NA__chr7:4...</td>\n",
       "      <td>-1.199157</td>\n",
       "      <td>-0.953319</td>\n",
       "      <td>0.245839</td>\n",
       "      <td>NaN</td>\n",
       "      <td>NaN</td>\n",
       "      <td>NaN</td>\n",
       "      <td>-0.057399</td>\n",
       "      <td>0.218700</td>\n",
       "      <td>0.276099</td>\n",
       "      <td>1.000000e+00</td>\n",
       "      <td>not sig</td>\n",
       "      <td>5.0</td>\n",
       "      <td>not sig in both</td>\n",
       "    </tr>\n",
       "    <tr>\n",
       "      <th>873</th>\n",
       "      <td>rs2074038</td>\n",
       "      <td>WILDTYPE_SNP_INDIV__mrna.noflip.NA__chr11:4408...</td>\n",
       "      <td>0.443732</td>\n",
       "      <td>1.495436</td>\n",
       "      <td>1.051704</td>\n",
       "      <td>1.804997e-47</td>\n",
       "      <td>sig</td>\n",
       "      <td>sig</td>\n",
       "      <td>-0.663571</td>\n",
       "      <td>1.906792</td>\n",
       "      <td>2.570364</td>\n",
       "      <td>1.186220e-12</td>\n",
       "      <td>sig</td>\n",
       "      <td>11.0</td>\n",
       "      <td>sig in both</td>\n",
       "    </tr>\n",
       "    <tr>\n",
       "      <th>1283</th>\n",
       "      <td>rs2294008</td>\n",
       "      <td>WILDTYPE_SNP_INDIV__mrna.noflip.NA__chr8:14376...</td>\n",
       "      <td>-1.411385</td>\n",
       "      <td>-1.254887</td>\n",
       "      <td>0.156498</td>\n",
       "      <td>NaN</td>\n",
       "      <td>NaN</td>\n",
       "      <td>NaN</td>\n",
       "      <td>-3.271722</td>\n",
       "      <td>-2.655792</td>\n",
       "      <td>0.615930</td>\n",
       "      <td>NaN</td>\n",
       "      <td>NaN</td>\n",
       "      <td>-1.0</td>\n",
       "      <td>not sig in both</td>\n",
       "    </tr>\n",
       "    <tr>\n",
       "      <th>797</th>\n",
       "      <td>rs2071225</td>\n",
       "      <td>WILDTYPE_SNP_INDIV__mrna.noflip.NA__chrX:10066...</td>\n",
       "      <td>-0.189871</td>\n",
       "      <td>-0.862628</td>\n",
       "      <td>-0.672757</td>\n",
       "      <td>2.791191e-27</td>\n",
       "      <td>sig</td>\n",
       "      <td>sig</td>\n",
       "      <td>-0.651362</td>\n",
       "      <td>-1.719718</td>\n",
       "      <td>-1.068356</td>\n",
       "      <td>3.342908e-03</td>\n",
       "      <td>sig</td>\n",
       "      <td>-1.0</td>\n",
       "      <td>sig in both</td>\n",
       "    </tr>\n",
       "    <tr>\n",
       "      <th>760</th>\n",
       "      <td>rs10276377,rs11772456,rs10233067</td>\n",
       "      <td>WILDTYPE_SNP_PLUS_HAPLO__mrna.noflip.NA__chr7:...</td>\n",
       "      <td>-0.090059</td>\n",
       "      <td>0.033238</td>\n",
       "      <td>0.123297</td>\n",
       "      <td>1.000000e+00</td>\n",
       "      <td>not sig</td>\n",
       "      <td>not sig</td>\n",
       "      <td>1.101819</td>\n",
       "      <td>1.133297</td>\n",
       "      <td>0.031478</td>\n",
       "      <td>1.000000e+00</td>\n",
       "      <td>not sig</td>\n",
       "      <td>1.0</td>\n",
       "      <td>not sig in both</td>\n",
       "    </tr>\n",
       "  </tbody>\n",
       "</table>\n",
       "</div>"
      ],
      "text/plain": [
       "                                   SNP  \\\n",
       "1650                         rs2941540   \n",
       "873                          rs2074038   \n",
       "1283                         rs2294008   \n",
       "797                          rs2071225   \n",
       "760   rs10276377,rs11772456,rs10233067   \n",
       "\n",
       "                                              unique_id  HepG2_ref_activ  \\\n",
       "1650  WILDTYPE_SNP_INDIV__Enhancer.noflip.NA__chr7:4...        -1.199157   \n",
       "873   WILDTYPE_SNP_INDIV__mrna.noflip.NA__chr11:4408...         0.443732   \n",
       "1283  WILDTYPE_SNP_INDIV__mrna.noflip.NA__chr8:14376...        -1.411385   \n",
       "797   WILDTYPE_SNP_INDIV__mrna.noflip.NA__chrX:10066...        -0.189871   \n",
       "760   WILDTYPE_SNP_PLUS_HAPLO__mrna.noflip.NA__chr7:...        -0.090059   \n",
       "\n",
       "      HepG2_alt_activ  HepG2_effect_size    HepG2_padj HepG2_sig_status  \\\n",
       "1650        -0.953319           0.245839           NaN              NaN   \n",
       "873          1.495436           1.051704  1.804997e-47              sig   \n",
       "1283        -1.254887           0.156498           NaN              NaN   \n",
       "797         -0.862628          -0.672757  2.791191e-27              sig   \n",
       "760          0.033238           0.123297  1.000000e+00          not sig   \n",
       "\n",
       "     HepG2_downsampled_sig_status  K562_ref_activ  K562_alt_activ  \\\n",
       "1650                          NaN       -0.057399        0.218700   \n",
       "873                           sig       -0.663571        1.906792   \n",
       "1283                          NaN       -3.271722       -2.655792   \n",
       "797                           sig       -0.651362       -1.719718   \n",
       "760                       not sig        1.101819        1.133297   \n",
       "\n",
       "      K562_effect_size     K562_padj K562_sig_status  delta_tfs  \\\n",
       "1650          0.276099  1.000000e+00         not sig        5.0   \n",
       "873           2.570364  1.186220e-12             sig       11.0   \n",
       "1283          0.615930           NaN             NaN       -1.0   \n",
       "797          -1.068356  3.342908e-03             sig       -1.0   \n",
       "760           0.031478  1.000000e+00         not sig        1.0   \n",
       "\n",
       "             sig_type  \n",
       "1650  not sig in both  \n",
       "873       sig in both  \n",
       "1283  not sig in both  \n",
       "797       sig in both  \n",
       "760   not sig in both  "
      ]
     },
     "execution_count": 73,
     "metadata": {},
     "output_type": "execute_result"
    }
   ],
   "source": [
    "def both_type(row):\n",
    "    if row[\"HepG2_downsampled_sig_status\"] == \"sig\" and row[\"K562_sig_status\"] == \"sig\":\n",
    "        return \"sig in both\"\n",
    "    elif row[\"HepG2_downsampled_sig_status\"] == \"sig\" and row[\"K562_sig_status\"] == \"not sig\":\n",
    "        return \"sig in HepG2\"\n",
    "    elif row[\"HepG2_downsampled_sig_status\"] == \"not sig\" and row[\"K562_sig_status\"] == \"sig\":\n",
    "        return \"sig in K562\"\n",
    "    else:\n",
    "        return \"not sig in both\"\n",
    "    \n",
    "supp_table_s5[\"sig_type\"] = supp_table_s5.apply(both_type, axis=1)\n",
    "supp_table_s5.sample(5)"
   ]
  },
  {
   "cell_type": "code",
   "execution_count": 75,
   "metadata": {},
   "outputs": [
    {
     "data": {
      "image/png": "[encoded data removed]",
      "text/plain": [
       "<matplotlib.figure.Figure at 0x2b9c8315d588>"
      ]
     },
     "metadata": {},
     "output_type": "display_data"
    }
   ],
   "source": [
    "both_no_null = supp_table_s5[~pd.isnull(supp_table_s5[\"HepG2_sig_status\"]) & ~pd.isnull(supp_table_s5[\"K562_sig_status\"])]\n",
    "palette = {\"not sig in both\": \"lightgrey\", \"sig in both\": \"dimgrey\", \n",
    "           \"sig in HepG2\": \"salmon\", \"sig in K562\": \"firebrick\"}\n",
    "g = sns.lmplot(data=both_no_null, x=\"HepG2_effect_size\", y=\"K562_effect_size\", fit_reg=False, hue=\"sig_type\",\n",
    "               palette=palette, size=2.2, scatter_kws={\"s\": 20})\n",
    "g.set_axis_labels(\"HepG2 log2(alt/ref)\", \"K562 log2(alt/ref)\")\n",
    "g.savefig(\"Fig_4C.pdf\", dpi=\"figure\", bbox_inches=\"tight\")"
   ]
  },
  {
   "cell_type": "code",
   "execution_count": 76,
   "metadata": {},
   "outputs": [
    {
     "data": {
      "text/plain": [
       "not sig in both    655\n",
       "sig in both         72\n",
       "sig in HepG2        63\n",
       "sig in K562         33\n",
       "Name: sig_type, dtype: int64"
      ]
     },
     "execution_count": 76,
     "metadata": {},
     "output_type": "execute_result"
    }
   ],
   "source": [
    "both_no_null.sig_type.value_counts()"
   ]
  },
  {
   "cell_type": "markdown",
   "metadata": {},
   "source": [
    "## 12. compare results using all HepG2 reps vs. subset"
   ]
  },
  {
   "cell_type": "code",
   "execution_count": 77,
   "metadata": {
    "collapsed": true
   },
   "outputs": [],
   "source": [
    "hepg2_all_sig = len(supp_table_s5[supp_table_s5[\"HepG2_sig_status\"] == \"sig\"])\n",
    "hepg2_down_sig = len(supp_table_s5[supp_table_s5[\"HepG2_downsampled_sig_status\"] == \"sig\"])"
   ]
  },
  {
   "cell_type": "code",
   "execution_count": 78,
   "metadata": {},
   "outputs": [
    {
     "data": {
      "text/html": [
       "<div>\n",
       "<style>\n",
       "    .dataframe thead tr:only-child th {\n",
       "        text-align: right;\n",
       "    }\n",
       "\n",
       "    .dataframe thead th {\n",
       "        text-align: left;\n",
       "    }\n",
       "\n",
       "    .dataframe tbody tr th {\n",
       "        vertical-align: top;\n",
       "    }\n",
       "</style>\n",
       "<table border=\"1\" class=\"dataframe\">\n",
       "  <thead>\n",
       "    <tr style=\"text-align: right;\">\n",
       "      <th></th>\n",
       "      <th>name</th>\n",
       "      <th>reps</th>\n",
       "      <th>snps</th>\n",
       "    </tr>\n",
       "  </thead>\n",
       "  <tbody>\n",
       "    <tr>\n",
       "      <th>0</th>\n",
       "      <td>HepG2 (Sampled Replicates: 4)</td>\n",
       "      <td>4</td>\n",
       "      <td>161</td>\n",
       "    </tr>\n",
       "    <tr>\n",
       "      <th>1</th>\n",
       "      <td>HepG2 (All Replicates: 12)</td>\n",
       "      <td>12</td>\n",
       "      <td>289</td>\n",
       "    </tr>\n",
       "  </tbody>\n",
       "</table>\n",
       "</div>"
      ],
      "text/plain": [
       "                            name  reps  snps\n",
       "0  HepG2 (Sampled Replicates: 4)     4   161\n",
       "1     HepG2 (All Replicates: 12)    12   289"
      ]
     },
     "execution_count": 78,
     "metadata": {},
     "output_type": "execute_result"
    }
   ],
   "source": [
    "rep_nums = {\"HepG2 (Sampled Replicates: 4)\": [4, hepg2_down_sig], \"HepG2 (All Replicates: 12)\": [12, hepg2_all_sig]}\n",
    "rep_nums = pd.DataFrame.from_dict(rep_nums, orient=\"index\").reset_index()\n",
    "rep_nums.columns = [\"name\", \"reps\", \"snps\"]\n",
    "rep_nums.head()"
   ]
  },
  {
   "cell_type": "code",
   "execution_count": 79,
   "metadata": {},
   "outputs": [
    {
     "data": {
      "image/png": "[encoded data removed]",
      "text/plain": [
       "<matplotlib.figure.Figure at 0x2b9c7fb25a90>"
      ]
     },
     "metadata": {},
     "output_type": "display_data"
    }
   ],
   "source": [
    "fig = plt.figure(figsize=(2.2, 2.2))\n",
    "ax = sns.barplot(data=rep_nums, x=\"name\", y=\"snps\", color=\"lightgray\")\n",
    "ax.set_xlabel(\"\")\n",
    "ax.set_ylabel(\"# significant SNPs\")\n",
    "ax.set_xticklabels([\"HepG2 (Sampled Replicates: 4)\", \"HepG2 (All Replicates: 12)\"], rotation=30)\n",
    "fig.savefig(\"Fig_S16B.pdf\", dpi=\"figure\", bbox_inches=\"tight\")"
   ]
  },
  {
   "cell_type": "markdown",
   "metadata": {},
   "source": [
    "## 13. compare effect sizes across biotypes"
   ]
  },
  {
   "cell_type": "code",
   "execution_count": 80,
   "metadata": {},
   "outputs": [
    {
     "data": {
      "text/html": [
       "<div>\n",
       "<style>\n",
       "    .dataframe thead tr:only-child th {\n",
       "        text-align: right;\n",
       "    }\n",
       "\n",
       "    .dataframe thead th {\n",
       "        text-align: left;\n",
       "    }\n",
       "\n",
       "    .dataframe tbody tr th {\n",
       "        vertical-align: top;\n",
       "    }\n",
       "</style>\n",
       "<table border=\"1\" class=\"dataframe\">\n",
       "  <thead>\n",
       "    <tr style=\"text-align: right;\">\n",
       "      <th></th>\n",
       "      <th>SNP</th>\n",
       "      <th>unique_id</th>\n",
       "      <th>HepG2_ref_activ</th>\n",
       "      <th>HepG2_alt_activ</th>\n",
       "      <th>HepG2_effect_size</th>\n",
       "      <th>HepG2_padj</th>\n",
       "      <th>HepG2_sig_status</th>\n",
       "      <th>HepG2_downsampled_sig_status</th>\n",
       "      <th>K562_ref_activ</th>\n",
       "      <th>K562_alt_activ</th>\n",
       "      <th>K562_effect_size</th>\n",
       "      <th>K562_padj</th>\n",
       "      <th>K562_sig_status</th>\n",
       "      <th>delta_tfs</th>\n",
       "      <th>sig_type</th>\n",
       "      <th>seqID</th>\n",
       "      <th>PromType2</th>\n",
       "    </tr>\n",
       "  </thead>\n",
       "  <tbody>\n",
       "    <tr>\n",
       "      <th>0</th>\n",
       "      <td>rs4970820</td>\n",
       "      <td>WILDTYPE_SNP_INDIV__Lincrna.flip.sense__chr1:1...</td>\n",
       "      <td>2.432022</td>\n",
       "      <td>2.363694</td>\n",
       "      <td>-0.068328</td>\n",
       "      <td>1.0</td>\n",
       "      <td>not sig</td>\n",
       "      <td>not sig</td>\n",
       "      <td>2.464316</td>\n",
       "      <td>2.402414</td>\n",
       "      <td>-0.061902</td>\n",
       "      <td>1.0</td>\n",
       "      <td>not sig</td>\n",
       "      <td>-9.0</td>\n",
       "      <td>not sig in both</td>\n",
       "      <td>WILDTYPE_SNP_INDIV__Lincrna.flip.sense__chr1:1...</td>\n",
       "      <td>intergenic</td>\n",
       "    </tr>\n",
       "    <tr>\n",
       "      <th>1</th>\n",
       "      <td>rs60844753</td>\n",
       "      <td>WILDTYPE_SNP_INDIV__Antisense.flip.sense__chr1...</td>\n",
       "      <td>-0.513299</td>\n",
       "      <td>-0.310393</td>\n",
       "      <td>0.202906</td>\n",
       "      <td>NaN</td>\n",
       "      <td>NaN</td>\n",
       "      <td>NaN</td>\n",
       "      <td>-0.401422</td>\n",
       "      <td>-0.193217</td>\n",
       "      <td>0.208205</td>\n",
       "      <td>NaN</td>\n",
       "      <td>NaN</td>\n",
       "      <td>0.0</td>\n",
       "      <td>not sig in both</td>\n",
       "      <td>WILDTYPE_SNP_INDIV__Antisense.flip.sense__chr1...</td>\n",
       "      <td>div_lnc</td>\n",
       "    </tr>\n",
       "    <tr>\n",
       "      <th>2</th>\n",
       "      <td>rs60844753</td>\n",
       "      <td>WILDTYPE_SNP_INDIV__Antisense.noflip.NA__chr1:...</td>\n",
       "      <td>-0.962268</td>\n",
       "      <td>-0.978317</td>\n",
       "      <td>-0.016049</td>\n",
       "      <td>1.0</td>\n",
       "      <td>not sig</td>\n",
       "      <td>not sig</td>\n",
       "      <td>-2.478924</td>\n",
       "      <td>-2.779746</td>\n",
       "      <td>-0.300823</td>\n",
       "      <td>NaN</td>\n",
       "      <td>NaN</td>\n",
       "      <td>0.0</td>\n",
       "      <td>not sig in both</td>\n",
       "      <td>WILDTYPE_SNP_INDIV__Antisense.noflip.NA__chr1:...</td>\n",
       "      <td>div_lnc</td>\n",
       "    </tr>\n",
       "    <tr>\n",
       "      <th>3</th>\n",
       "      <td>rs115274951</td>\n",
       "      <td>WILDTYPE_SNP_INDIV__Antisense.noflip.NA__chr1:...</td>\n",
       "      <td>2.914807</td>\n",
       "      <td>2.991548</td>\n",
       "      <td>0.076741</td>\n",
       "      <td>1.0</td>\n",
       "      <td>not sig</td>\n",
       "      <td>not sig</td>\n",
       "      <td>2.478906</td>\n",
       "      <td>2.455319</td>\n",
       "      <td>-0.023587</td>\n",
       "      <td>1.0</td>\n",
       "      <td>not sig</td>\n",
       "      <td>-6.0</td>\n",
       "      <td>not sig in both</td>\n",
       "      <td>WILDTYPE_SNP_INDIV__Antisense.noflip.NA__chr1:...</td>\n",
       "      <td>intergenic</td>\n",
       "    </tr>\n",
       "    <tr>\n",
       "      <th>4</th>\n",
       "      <td>rs1555794</td>\n",
       "      <td>WILDTYPE_SNP_INDIV__Antisense.noflip.NA__chr1:...</td>\n",
       "      <td>-0.552470</td>\n",
       "      <td>-0.540787</td>\n",
       "      <td>0.011684</td>\n",
       "      <td>1.0</td>\n",
       "      <td>not sig</td>\n",
       "      <td>not sig</td>\n",
       "      <td>-1.685674</td>\n",
       "      <td>-1.057917</td>\n",
       "      <td>0.627757</td>\n",
       "      <td>NaN</td>\n",
       "      <td>NaN</td>\n",
       "      <td>-3.0</td>\n",
       "      <td>not sig in both</td>\n",
       "      <td>WILDTYPE_SNP_INDIV__Antisense.noflip.NA__chr1:...</td>\n",
       "      <td>div_lnc</td>\n",
       "    </tr>\n",
       "  </tbody>\n",
       "</table>\n",
       "</div>"
      ],
      "text/plain": [
       "           SNP                                          unique_id  \\\n",
       "0    rs4970820  WILDTYPE_SNP_INDIV__Lincrna.flip.sense__chr1:1...   \n",
       "1   rs60844753  WILDTYPE_SNP_INDIV__Antisense.flip.sense__chr1...   \n",
       "2   rs60844753  WILDTYPE_SNP_INDIV__Antisense.noflip.NA__chr1:...   \n",
       "3  rs115274951  WILDTYPE_SNP_INDIV__Antisense.noflip.NA__chr1:...   \n",
       "4    rs1555794  WILDTYPE_SNP_INDIV__Antisense.noflip.NA__chr1:...   \n",
       "\n",
       "   HepG2_ref_activ  HepG2_alt_activ  HepG2_effect_size  HepG2_padj  \\\n",
       "0         2.432022         2.363694          -0.068328         1.0   \n",
       "1        -0.513299        -0.310393           0.202906         NaN   \n",
       "2        -0.962268        -0.978317          -0.016049         1.0   \n",
       "3         2.914807         2.991548           0.076741         1.0   \n",
       "4        -0.552470        -0.540787           0.011684         1.0   \n",
       "\n",
       "  HepG2_sig_status HepG2_downsampled_sig_status  K562_ref_activ  \\\n",
       "0          not sig                      not sig        2.464316   \n",
       "1              NaN                          NaN       -0.401422   \n",
       "2          not sig                      not sig       -2.478924   \n",
       "3          not sig                      not sig        2.478906   \n",
       "4          not sig                      not sig       -1.685674   \n",
       "\n",
       "   K562_alt_activ  K562_effect_size  K562_padj K562_sig_status  delta_tfs  \\\n",
       "0        2.402414         -0.061902        1.0         not sig       -9.0   \n",
       "1       -0.193217          0.208205        NaN             NaN        0.0   \n",
       "2       -2.779746         -0.300823        NaN             NaN        0.0   \n",
       "3        2.455319         -0.023587        1.0         not sig       -6.0   \n",
       "4       -1.057917          0.627757        NaN             NaN       -3.0   \n",
       "\n",
       "          sig_type                                              seqID  \\\n",
       "0  not sig in both  WILDTYPE_SNP_INDIV__Lincrna.flip.sense__chr1:1...   \n",
       "1  not sig in both  WILDTYPE_SNP_INDIV__Antisense.flip.sense__chr1...   \n",
       "2  not sig in both  WILDTYPE_SNP_INDIV__Antisense.noflip.NA__chr1:...   \n",
       "3  not sig in both  WILDTYPE_SNP_INDIV__Antisense.noflip.NA__chr1:...   \n",
       "4  not sig in both  WILDTYPE_SNP_INDIV__Antisense.noflip.NA__chr1:...   \n",
       "\n",
       "    PromType2  \n",
       "0  intergenic  \n",
       "1     div_lnc  \n",
       "2     div_lnc  \n",
       "3  intergenic  \n",
       "4     div_lnc  "
      ]
     },
     "execution_count": 80,
     "metadata": {},
     "output_type": "execute_result"
    }
   ],
   "source": [
    "supp_table_s5 = supp_table_s5.merge(annot, left_on=\"unique_id\", right_on=\"seqID\")\n",
    "supp_table_s5.head()"
   ]
  },
  {
   "cell_type": "code",
   "execution_count": 81,
   "metadata": {
    "collapsed": true
   },
   "outputs": [],
   "source": [
    "supp_table_s5[\"HepG2_abs_effect_size\"] = np.abs(supp_table_s5[\"HepG2_effect_size\"])\n",
    "supp_table_s5[\"K562_abs_effect_size\"] = np.abs(supp_table_s5[\"K562_effect_size\"])"
   ]
  },
  {
   "cell_type": "code",
   "execution_count": 82,
   "metadata": {},
   "outputs": [
    {
     "data": {
      "image/png": "[encoded data removed]",
      "text/plain": [
       "<matplotlib.figure.Figure at 0x2b9c831eab70>"
      ]
     },
     "metadata": {},
     "output_type": "display_data"
    }
   ],
   "source": [
    "fig = plt.figure(figsize=(3.5, 2.5))\n",
    "ax = sns.boxplot(data=supp_table_s5, x=\"PromType2\", y=\"HepG2_abs_effect_size\", \n",
    "                 flierprops = dict(marker='o', markersize=5), order=TSS_CLASS_ORDER, palette=TSS_CLASS_PALETTE)\n",
    "ax.set_xticklabels([\"eRNAs\", \"lincRNAs\", \"div. lncRNAs\", \"mRNAs\", \"div. mRNAs\"], rotation=30)\n",
    "mimic_r_boxplot(ax)\n",
    "plt.xlabel(\"\")\n",
    "plt.ylabel(\"absolute value(HepG2 effect size)\")\n",
    "fig.savefig(\"Fig_S17_1.pdf\", dpi=\"figure\", bbox_inches=\"tight\")"
   ]
  },
  {
   "cell_type": "code",
   "execution_count": 83,
   "metadata": {},
   "outputs": [
    {
     "data": {
      "image/png": "[encoded data removed]",
      "text/plain": [
       "<matplotlib.figure.Figure at 0x2b9c854a40f0>"
      ]
     },
     "metadata": {},
     "output_type": "display_data"
    }
   ],
   "source": [
    "fig = plt.figure(figsize=(3.5, 2.5))\n",
    "ax = sns.boxplot(data=supp_table_s5, x=\"PromType2\", y=\"K562_abs_effect_size\", \n",
    "                 flierprops = dict(marker='o', markersize=5), order=TSS_CLASS_ORDER, palette=TSS_CLASS_PALETTE)\n",
    "ax.set_xticklabels([\"eRNAs\", \"lincRNAs\", \"div. lncRNAs\", \"mRNAs\", \"div. mRNAs\"], rotation=30)\n",
    "mimic_r_boxplot(ax)\n",
    "plt.xlabel(\"\")\n",
    "plt.ylabel(\"absolute value(K562 effect size)\")\n",
    "fig.savefig(\"Fig_S17_2.pdf\", dpi=\"figure\", bbox_inches=\"tight\")"
   ]
  },
  {
   "cell_type": "markdown",
   "metadata": {
    "collapsed": true
   },
   "source": [
    "## 14. make GWAS supplemental table"
   ]
  },
  {
   "cell_type": "code",
   "execution_count": 86,
   "metadata": {
    "collapsed": true
   },
   "outputs": [],
   "source": [
    "tss_snps = pd.read_table(\"../../misc/04__gwas/tss.snp.ragger.output.txt\", sep=\"\\t\")\n",
    "enh_snps = pd.read_table(\"../../misc/04__gwas/enh.snp.ragger.output.txt\", sep=\"\\t\")\n",
    "all_snps = tss_snps.append(enh_snps)"
   ]
  },
  {
   "cell_type": "code",
   "execution_count": 87,
   "metadata": {},
   "outputs": [
    {
     "data": {
      "text/html": [
       "<div>\n",
       "<style>\n",
       "    .dataframe thead tr:only-child th {\n",
       "        text-align: right;\n",
       "    }\n",
       "\n",
       "    .dataframe thead th {\n",
       "        text-align: left;\n",
       "    }\n",
       "\n",
       "    .dataframe tbody tr th {\n",
       "        vertical-align: top;\n",
       "    }\n",
       "</style>\n",
       "<table border=\"1\" class=\"dataframe\">\n",
       "  <thead>\n",
       "    <tr style=\"text-align: right;\">\n",
       "      <th></th>\n",
       "      <th>SNP1 Name</th>\n",
       "      <th>SNP1 Pos</th>\n",
       "      <th>SNP1 Ref</th>\n",
       "      <th>SNP1 Alt</th>\n",
       "      <th>SNP1 Chr</th>\n",
       "      <th>SNP1 MAF</th>\n",
       "      <th>SNP1 Minor Allele</th>\n",
       "      <th>SNP2 Name</th>\n",
       "      <th>SNP2 Pos</th>\n",
       "      <th>SNP2 Ref</th>\n",
       "      <th>SNP2 Alt</th>\n",
       "      <th>SNP2 Chr</th>\n",
       "      <th>SNP2 MAF</th>\n",
       "      <th>SNP2 Minor Allele</th>\n",
       "      <th>Population</th>\n",
       "      <th>R-squared</th>\n",
       "      <th>D'</th>\n",
       "      <th>Distance</th>\n",
       "      <th>n_snps_in_ld</th>\n",
       "    </tr>\n",
       "  </thead>\n",
       "  <tbody>\n",
       "    <tr>\n",
       "      <th>0</th>\n",
       "      <td>rs10004195</td>\n",
       "      <td>38784724</td>\n",
       "      <td>T</td>\n",
       "      <td>A</td>\n",
       "      <td>4</td>\n",
       "      <td>0.279324</td>\n",
       "      <td>Alt</td>\n",
       "      <td>rs10013453</td>\n",
       "      <td>38763359</td>\n",
       "      <td>A</td>\n",
       "      <td>G</td>\n",
       "      <td>4</td>\n",
       "      <td>0.282306</td>\n",
       "      <td>Alt</td>\n",
       "      <td>CEU+FIN+GBR+IBS+TSI</td>\n",
       "      <td>0.620197</td>\n",
       "      <td>0.793362</td>\n",
       "      <td>21365</td>\n",
       "      <td>125</td>\n",
       "    </tr>\n",
       "    <tr>\n",
       "      <th>1</th>\n",
       "      <td>rs10004195</td>\n",
       "      <td>38784724</td>\n",
       "      <td>T</td>\n",
       "      <td>A</td>\n",
       "      <td>4</td>\n",
       "      <td>0.279324</td>\n",
       "      <td>Alt</td>\n",
       "      <td>rs112133277</td>\n",
       "      <td>38765046</td>\n",
       "      <td>A</td>\n",
       "      <td>G</td>\n",
       "      <td>4</td>\n",
       "      <td>0.205765</td>\n",
       "      <td>Alt</td>\n",
       "      <td>CEU+FIN+GBR+IBS+TSI</td>\n",
       "      <td>0.602418</td>\n",
       "      <td>0.949339</td>\n",
       "      <td>19678</td>\n",
       "      <td>125</td>\n",
       "    </tr>\n",
       "    <tr>\n",
       "      <th>2</th>\n",
       "      <td>rs10004195</td>\n",
       "      <td>38784724</td>\n",
       "      <td>T</td>\n",
       "      <td>A</td>\n",
       "      <td>4</td>\n",
       "      <td>0.279324</td>\n",
       "      <td>Alt</td>\n",
       "      <td>rs112924608</td>\n",
       "      <td>38765051</td>\n",
       "      <td>G</td>\n",
       "      <td>A</td>\n",
       "      <td>4</td>\n",
       "      <td>0.205765</td>\n",
       "      <td>Alt</td>\n",
       "      <td>CEU+FIN+GBR+IBS+TSI</td>\n",
       "      <td>0.602418</td>\n",
       "      <td>0.949339</td>\n",
       "      <td>19673</td>\n",
       "      <td>125</td>\n",
       "    </tr>\n",
       "    <tr>\n",
       "      <th>3</th>\n",
       "      <td>rs10004195</td>\n",
       "      <td>38784724</td>\n",
       "      <td>T</td>\n",
       "      <td>A</td>\n",
       "      <td>4</td>\n",
       "      <td>0.279324</td>\n",
       "      <td>Alt</td>\n",
       "      <td>rs11736207</td>\n",
       "      <td>38766285</td>\n",
       "      <td>G</td>\n",
       "      <td>A</td>\n",
       "      <td>4</td>\n",
       "      <td>0.205765</td>\n",
       "      <td>Alt</td>\n",
       "      <td>CEU+FIN+GBR+IBS+TSI</td>\n",
       "      <td>0.602418</td>\n",
       "      <td>0.949339</td>\n",
       "      <td>18439</td>\n",
       "      <td>125</td>\n",
       "    </tr>\n",
       "    <tr>\n",
       "      <th>4</th>\n",
       "      <td>rs10004195</td>\n",
       "      <td>38784724</td>\n",
       "      <td>T</td>\n",
       "      <td>A</td>\n",
       "      <td>4</td>\n",
       "      <td>0.279324</td>\n",
       "      <td>Alt</td>\n",
       "      <td>rs11721824</td>\n",
       "      <td>38767749</td>\n",
       "      <td>G</td>\n",
       "      <td>A</td>\n",
       "      <td>4</td>\n",
       "      <td>0.206759</td>\n",
       "      <td>Alt</td>\n",
       "      <td>CEU+FIN+GBR+IBS+TSI</td>\n",
       "      <td>0.606447</td>\n",
       "      <td>0.949621</td>\n",
       "      <td>16975</td>\n",
       "      <td>125</td>\n",
       "    </tr>\n",
       "  </tbody>\n",
       "</table>\n",
       "</div>"
      ],
      "text/plain": [
       "    SNP1 Name  SNP1 Pos SNP1 Ref SNP1 Alt SNP1 Chr  SNP1 MAF  \\\n",
       "0  rs10004195  38784724        T        A        4  0.279324   \n",
       "1  rs10004195  38784724        T        A        4  0.279324   \n",
       "2  rs10004195  38784724        T        A        4  0.279324   \n",
       "3  rs10004195  38784724        T        A        4  0.279324   \n",
       "4  rs10004195  38784724        T        A        4  0.279324   \n",
       "\n",
       "  SNP1 Minor Allele    SNP2 Name  SNP2 Pos SNP2 Ref SNP2 Alt SNP2 Chr  \\\n",
       "0               Alt   rs10013453  38763359        A        G        4   \n",
       "1               Alt  rs112133277  38765046        A        G        4   \n",
       "2               Alt  rs112924608  38765051        G        A        4   \n",
       "3               Alt   rs11736207  38766285        G        A        4   \n",
       "4               Alt   rs11721824  38767749        G        A        4   \n",
       "\n",
       "   SNP2 MAF SNP2 Minor Allele           Population  R-squared        D'  \\\n",
       "0  0.282306               Alt  CEU+FIN+GBR+IBS+TSI   0.620197  0.793362   \n",
       "1  0.205765               Alt  CEU+FIN+GBR+IBS+TSI   0.602418  0.949339   \n",
       "2  0.205765               Alt  CEU+FIN+GBR+IBS+TSI   0.602418  0.949339   \n",
       "3  0.205765               Alt  CEU+FIN+GBR+IBS+TSI   0.602418  0.949339   \n",
       "4  0.206759               Alt  CEU+FIN+GBR+IBS+TSI   0.606447  0.949621   \n",
       "\n",
       "   Distance  n_snps_in_ld  \n",
       "0     21365           125  \n",
       "1     19678           125  \n",
       "2     19673           125  \n",
       "3     18439           125  \n",
       "4     16975           125  "
      ]
     },
     "execution_count": 87,
     "metadata": {},
     "output_type": "execute_result"
    }
   ],
   "source": [
    "n_snps_ld = all_snps.groupby([\"SNP1 Name\"])[\"Population\"].agg(\"count\").reset_index()\n",
    "n_snps_ld.columns = [\"SNP1 Name\", \"n_snps_in_ld\"]\n",
    "all_snps = all_snps.merge(n_snps_ld, on=\"SNP1 Name\", how=\"left\")\n",
    "all_snps.head()"
   ]
  },
  {
   "cell_type": "code",
   "execution_count": 89,
   "metadata": {
    "collapsed": true
   },
   "outputs": [],
   "source": [
    "gwas = pd.read_table(\"../../misc/04__gwas/gwas.catalog.h19.ucsc.txt\", sep=\"\\t\")"
   ]
  },
  {
   "cell_type": "code",
   "execution_count": 90,
   "metadata": {},
   "outputs": [
    {
     "data": {
      "text/html": [
       "<div>\n",
       "<style>\n",
       "    .dataframe thead tr:only-child th {\n",
       "        text-align: right;\n",
       "    }\n",
       "\n",
       "    .dataframe thead th {\n",
       "        text-align: left;\n",
       "    }\n",
       "\n",
       "    .dataframe tbody tr th {\n",
       "        vertical-align: top;\n",
       "    }\n",
       "</style>\n",
       "<table border=\"1\" class=\"dataframe\">\n",
       "  <thead>\n",
       "    <tr style=\"text-align: right;\">\n",
       "      <th></th>\n",
       "      <th>SNP1 Name</th>\n",
       "      <th>SNP2 Name</th>\n",
       "      <th>R-squared</th>\n",
       "      <th>D'</th>\n",
       "      <th>Distance</th>\n",
       "      <th>n_snps_in_ld</th>\n",
       "      <th>name</th>\n",
       "      <th>pubMedID</th>\n",
       "      <th>trait</th>\n",
       "    </tr>\n",
       "  </thead>\n",
       "  <tbody>\n",
       "    <tr>\n",
       "      <th>0</th>\n",
       "      <td>rs10004195</td>\n",
       "      <td>rs10013453</td>\n",
       "      <td>0.620197</td>\n",
       "      <td>0.793362</td>\n",
       "      <td>21365.0</td>\n",
       "      <td>125.0</td>\n",
       "      <td>rs10004195</td>\n",
       "      <td>23652523</td>\n",
       "      <td>Helicobacter pylori serologic status</td>\n",
       "    </tr>\n",
       "    <tr>\n",
       "      <th>1</th>\n",
       "      <td>rs10004195</td>\n",
       "      <td>rs112133277</td>\n",
       "      <td>0.602418</td>\n",
       "      <td>0.949339</td>\n",
       "      <td>19678.0</td>\n",
       "      <td>125.0</td>\n",
       "      <td>rs10004195</td>\n",
       "      <td>23652523</td>\n",
       "      <td>Helicobacter pylori serologic status</td>\n",
       "    </tr>\n",
       "    <tr>\n",
       "      <th>2</th>\n",
       "      <td>rs10004195</td>\n",
       "      <td>rs112924608</td>\n",
       "      <td>0.602418</td>\n",
       "      <td>0.949339</td>\n",
       "      <td>19673.0</td>\n",
       "      <td>125.0</td>\n",
       "      <td>rs10004195</td>\n",
       "      <td>23652523</td>\n",
       "      <td>Helicobacter pylori serologic status</td>\n",
       "    </tr>\n",
       "    <tr>\n",
       "      <th>3</th>\n",
       "      <td>rs10004195</td>\n",
       "      <td>rs11736207</td>\n",
       "      <td>0.602418</td>\n",
       "      <td>0.949339</td>\n",
       "      <td>18439.0</td>\n",
       "      <td>125.0</td>\n",
       "      <td>rs10004195</td>\n",
       "      <td>23652523</td>\n",
       "      <td>Helicobacter pylori serologic status</td>\n",
       "    </tr>\n",
       "    <tr>\n",
       "      <th>4</th>\n",
       "      <td>rs10004195</td>\n",
       "      <td>rs11721824</td>\n",
       "      <td>0.606447</td>\n",
       "      <td>0.949621</td>\n",
       "      <td>16975.0</td>\n",
       "      <td>125.0</td>\n",
       "      <td>rs10004195</td>\n",
       "      <td>23652523</td>\n",
       "      <td>Helicobacter pylori serologic status</td>\n",
       "    </tr>\n",
       "  </tbody>\n",
       "</table>\n",
       "</div>"
      ],
      "text/plain": [
       "    SNP1 Name    SNP2 Name  R-squared        D'  Distance  n_snps_in_ld  \\\n",
       "0  rs10004195   rs10013453   0.620197  0.793362   21365.0         125.0   \n",
       "1  rs10004195  rs112133277   0.602418  0.949339   19678.0         125.0   \n",
       "2  rs10004195  rs112924608   0.602418  0.949339   19673.0         125.0   \n",
       "3  rs10004195   rs11736207   0.602418  0.949339   18439.0         125.0   \n",
       "4  rs10004195   rs11721824   0.606447  0.949621   16975.0         125.0   \n",
       "\n",
       "         name  pubMedID                                 trait  \n",
       "0  rs10004195  23652523  Helicobacter pylori serologic status  \n",
       "1  rs10004195  23652523  Helicobacter pylori serologic status  \n",
       "2  rs10004195  23652523  Helicobacter pylori serologic status  \n",
       "3  rs10004195  23652523  Helicobacter pylori serologic status  \n",
       "4  rs10004195  23652523  Helicobacter pylori serologic status  "
      ]
     },
     "execution_count": 90,
     "metadata": {},
     "output_type": "execute_result"
    }
   ],
   "source": [
    "tmp_snps = all_snps[[\"SNP1 Name\", \"SNP2 Name\", \"R-squared\", \"D'\", \"Distance\", \"n_snps_in_ld\"]].drop_duplicates()\n",
    "tmp_gwas = gwas[[\"name\", \"pubMedID\", \"trait\"]].drop_duplicates()\n",
    "tmp = tmp_snps.merge(tmp_gwas, left_on=\"SNP1 Name\", right_on=\"name\", how=\"outer\")\n",
    "tmp.head()"
   ]
  },
  {
   "cell_type": "code",
   "execution_count": 91,
   "metadata": {},
   "outputs": [
    {
     "data": {
      "text/html": [
       "<div>\n",
       "<style>\n",
       "    .dataframe thead tr:only-child th {\n",
       "        text-align: right;\n",
       "    }\n",
       "\n",
       "    .dataframe thead th {\n",
       "        text-align: left;\n",
       "    }\n",
       "\n",
       "    .dataframe tbody tr th {\n",
       "        vertical-align: top;\n",
       "    }\n",
       "</style>\n",
       "<table border=\"1\" class=\"dataframe\">\n",
       "  <thead>\n",
       "    <tr style=\"text-align: right;\">\n",
       "      <th></th>\n",
       "      <th>SNP</th>\n",
       "      <th>unique_id</th>\n",
       "      <th>HepG2_effect_size</th>\n",
       "      <th>HepG2_sig_status</th>\n",
       "      <th>K562_effect_size</th>\n",
       "      <th>K562_sig_status</th>\n",
       "      <th>delta_tfs</th>\n",
       "      <th>sig_type</th>\n",
       "      <th>SNP1 Name</th>\n",
       "      <th>SNP2 Name</th>\n",
       "      <th>R-squared</th>\n",
       "      <th>D'</th>\n",
       "      <th>Distance</th>\n",
       "      <th>n_snps_in_ld</th>\n",
       "      <th>name</th>\n",
       "      <th>pubMedID</th>\n",
       "      <th>trait</th>\n",
       "    </tr>\n",
       "  </thead>\n",
       "  <tbody>\n",
       "    <tr>\n",
       "      <th>0</th>\n",
       "      <td>rs6684252</td>\n",
       "      <td>WILDTYPE_SNP_INDIV__Antisense.noflip.NA__chr1:...</td>\n",
       "      <td>-0.167540</td>\n",
       "      <td>not sig</td>\n",
       "      <td>-0.222015</td>\n",
       "      <td>not sig</td>\n",
       "      <td>1.0</td>\n",
       "      <td>not sig in both</td>\n",
       "      <td>rs6586513</td>\n",
       "      <td>rs6684252</td>\n",
       "      <td>0.620317</td>\n",
       "      <td>0.820534</td>\n",
       "      <td>196.0</td>\n",
       "      <td>6.0</td>\n",
       "      <td>rs6586513</td>\n",
       "      <td>22036096</td>\n",
       "      <td>Allergic rhinitis</td>\n",
       "    </tr>\n",
       "    <tr>\n",
       "      <th>1</th>\n",
       "      <td>rs3024270</td>\n",
       "      <td>WILDTYPE_SNP_INDIV__Lincrna.noflip.NA__chr11:2...</td>\n",
       "      <td>-0.311926</td>\n",
       "      <td>NaN</td>\n",
       "      <td>-0.168092</td>\n",
       "      <td>NaN</td>\n",
       "      <td>4.0</td>\n",
       "      <td>not sig in both</td>\n",
       "      <td>rs4930103</td>\n",
       "      <td>rs3024270</td>\n",
       "      <td>0.845207</td>\n",
       "      <td>0.949143</td>\n",
       "      <td>7105.0</td>\n",
       "      <td>98.0</td>\n",
       "      <td>rs4930103</td>\n",
       "      <td>23725790</td>\n",
       "      <td>DNA methylation (variation)</td>\n",
       "    </tr>\n",
       "    <tr>\n",
       "      <th>2</th>\n",
       "      <td>rs3024270</td>\n",
       "      <td>WILDTYPE_SNP_INDIV__Lincrna.noflip.NA__chr11:2...</td>\n",
       "      <td>-0.311926</td>\n",
       "      <td>NaN</td>\n",
       "      <td>-0.168092</td>\n",
       "      <td>NaN</td>\n",
       "      <td>4.0</td>\n",
       "      <td>not sig in both</td>\n",
       "      <td>rs4930103</td>\n",
       "      <td>rs3024270</td>\n",
       "      <td>0.845207</td>\n",
       "      <td>0.949143</td>\n",
       "      <td>7105.0</td>\n",
       "      <td>98.0</td>\n",
       "      <td>rs4930103</td>\n",
       "      <td>23725790</td>\n",
       "      <td>DNA methylation (parent-of-origin)</td>\n",
       "    </tr>\n",
       "    <tr>\n",
       "      <th>3</th>\n",
       "      <td>rs2075744</td>\n",
       "      <td>WILDTYPE_SNP_INDIV__Lincrna.noflip.NA__chr11:2...</td>\n",
       "      <td>0.043072</td>\n",
       "      <td>NaN</td>\n",
       "      <td>0.227577</td>\n",
       "      <td>NaN</td>\n",
       "      <td>2.0</td>\n",
       "      <td>not sig in both</td>\n",
       "      <td>rs4930103</td>\n",
       "      <td>rs2075744</td>\n",
       "      <td>0.907785</td>\n",
       "      <td>0.991512</td>\n",
       "      <td>6095.0</td>\n",
       "      <td>98.0</td>\n",
       "      <td>rs4930103</td>\n",
       "      <td>23725790</td>\n",
       "      <td>DNA methylation (variation)</td>\n",
       "    </tr>\n",
       "    <tr>\n",
       "      <th>4</th>\n",
       "      <td>rs2075744</td>\n",
       "      <td>WILDTYPE_SNP_INDIV__Lincrna.noflip.NA__chr11:2...</td>\n",
       "      <td>0.043072</td>\n",
       "      <td>NaN</td>\n",
       "      <td>0.227577</td>\n",
       "      <td>NaN</td>\n",
       "      <td>2.0</td>\n",
       "      <td>not sig in both</td>\n",
       "      <td>rs4930103</td>\n",
       "      <td>rs2075744</td>\n",
       "      <td>0.907785</td>\n",
       "      <td>0.991512</td>\n",
       "      <td>6095.0</td>\n",
       "      <td>98.0</td>\n",
       "      <td>rs4930103</td>\n",
       "      <td>23725790</td>\n",
       "      <td>DNA methylation (parent-of-origin)</td>\n",
       "    </tr>\n",
       "  </tbody>\n",
       "</table>\n",
       "</div>"
      ],
      "text/plain": [
       "         SNP                                          unique_id  \\\n",
       "0  rs6684252  WILDTYPE_SNP_INDIV__Antisense.noflip.NA__chr1:...   \n",
       "1  rs3024270  WILDTYPE_SNP_INDIV__Lincrna.noflip.NA__chr11:2...   \n",
       "2  rs3024270  WILDTYPE_SNP_INDIV__Lincrna.noflip.NA__chr11:2...   \n",
       "3  rs2075744  WILDTYPE_SNP_INDIV__Lincrna.noflip.NA__chr11:2...   \n",
       "4  rs2075744  WILDTYPE_SNP_INDIV__Lincrna.noflip.NA__chr11:2...   \n",
       "\n",
       "   HepG2_effect_size HepG2_sig_status  K562_effect_size K562_sig_status  \\\n",
       "0          -0.167540          not sig         -0.222015         not sig   \n",
       "1          -0.311926              NaN         -0.168092             NaN   \n",
       "2          -0.311926              NaN         -0.168092             NaN   \n",
       "3           0.043072              NaN          0.227577             NaN   \n",
       "4           0.043072              NaN          0.227577             NaN   \n",
       "\n",
       "   delta_tfs         sig_type  SNP1 Name  SNP2 Name  R-squared        D'  \\\n",
       "0        1.0  not sig in both  rs6586513  rs6684252   0.620317  0.820534   \n",
       "1        4.0  not sig in both  rs4930103  rs3024270   0.845207  0.949143   \n",
       "2        4.0  not sig in both  rs4930103  rs3024270   0.845207  0.949143   \n",
       "3        2.0  not sig in both  rs4930103  rs2075744   0.907785  0.991512   \n",
       "4        2.0  not sig in both  rs4930103  rs2075744   0.907785  0.991512   \n",
       "\n",
       "   Distance  n_snps_in_ld       name  pubMedID  \\\n",
       "0     196.0           6.0  rs6586513  22036096   \n",
       "1    7105.0          98.0  rs4930103  23725790   \n",
       "2    7105.0          98.0  rs4930103  23725790   \n",
       "3    6095.0          98.0  rs4930103  23725790   \n",
       "4    6095.0          98.0  rs4930103  23725790   \n",
       "\n",
       "                                trait  \n",
       "0                   Allergic rhinitis  \n",
       "1         DNA methylation (variation)  \n",
       "2  DNA methylation (parent-of-origin)  \n",
       "3         DNA methylation (variation)  \n",
       "4  DNA methylation (parent-of-origin)  "
      ]
     },
     "execution_count": 91,
     "metadata": {},
     "output_type": "execute_result"
    }
   ],
   "source": [
    "tmp_mpra = supp_table_s5[[\"SNP\", \"unique_id\", \"HepG2_effect_size\", \"HepG2_sig_status\", \"K562_effect_size\", \"K562_sig_status\", \"delta_tfs\", \"sig_type\"]].drop_duplicates()\n",
    "supp_table_s6 = tmp_mpra.merge(tmp, left_on=\"SNP\", right_on=\"SNP2 Name\")\n",
    "supp_table_s6.head()"
   ]
  },
  {
   "cell_type": "code",
   "execution_count": 92,
   "metadata": {
    "collapsed": true
   },
   "outputs": [],
   "source": [
    "supp_table_s6 = supp_table_s6[(supp_table_s6[\"HepG2_sig_status\"] == \"sig\") | (supp_table_s6[\"K562_sig_status\"] == \"sig\")]"
   ]
  },
  {
   "cell_type": "code",
   "execution_count": 93,
   "metadata": {},
   "outputs": [
    {
     "data": {
      "text/html": [
       "<div>\n",
       "<style>\n",
       "    .dataframe thead tr:only-child th {\n",
       "        text-align: right;\n",
       "    }\n",
       "\n",
       "    .dataframe thead th {\n",
       "        text-align: left;\n",
       "    }\n",
       "\n",
       "    .dataframe tbody tr th {\n",
       "        vertical-align: top;\n",
       "    }\n",
       "</style>\n",
       "<table border=\"1\" class=\"dataframe\">\n",
       "  <thead>\n",
       "    <tr style=\"text-align: right;\">\n",
       "      <th></th>\n",
       "      <th>unique_id</th>\n",
       "      <th>tested_SNP</th>\n",
       "      <th>HepG2_effect_size</th>\n",
       "      <th>K562_effect_size</th>\n",
       "      <th>HepG2_sig_status</th>\n",
       "      <th>K562_sig_status</th>\n",
       "      <th>tagged_SNP</th>\n",
       "      <th>r_squared</th>\n",
       "      <th>d_prime</th>\n",
       "      <th>distance_between_SNPs</th>\n",
       "      <th>n_snps_in_ld</th>\n",
       "      <th>pubmed_id</th>\n",
       "      <th>trait</th>\n",
       "    </tr>\n",
       "  </thead>\n",
       "  <tbody>\n",
       "    <tr>\n",
       "      <th>7</th>\n",
       "      <td>WILDTYPE_SNP_INDIV__Antisense.flip.sense__chr1...</td>\n",
       "      <td>rs11605738</td>\n",
       "      <td>0.179899</td>\n",
       "      <td>-0.359844</td>\n",
       "      <td>sig</td>\n",
       "      <td>not sig</td>\n",
       "      <td>rs1059440</td>\n",
       "      <td>0.925828</td>\n",
       "      <td>0.985730</td>\n",
       "      <td>-21605.0</td>\n",
       "      <td>89.0</td>\n",
       "      <td>21784300</td>\n",
       "      <td>Attention deficit hyperactivity disorder</td>\n",
       "    </tr>\n",
       "    <tr>\n",
       "      <th>8</th>\n",
       "      <td>WILDTYPE_SNP_INDIV__Antisense.flip.sense__chr1...</td>\n",
       "      <td>rs11605738</td>\n",
       "      <td>0.179899</td>\n",
       "      <td>-0.359844</td>\n",
       "      <td>sig</td>\n",
       "      <td>not sig</td>\n",
       "      <td>rs477895</td>\n",
       "      <td>0.756233</td>\n",
       "      <td>0.903585</td>\n",
       "      <td>35506.0</td>\n",
       "      <td>91.0</td>\n",
       "      <td>22423221</td>\n",
       "      <td>Mean platelet volume</td>\n",
       "    </tr>\n",
       "    <tr>\n",
       "      <th>15</th>\n",
       "      <td>WILDTYPE_SNP_INDIV__mrna.noflip.NA__chr2:12828...</td>\n",
       "      <td>rs17522960</td>\n",
       "      <td>0.369098</td>\n",
       "      <td>1.053316</td>\n",
       "      <td>sig</td>\n",
       "      <td>sig</td>\n",
       "      <td>rs334147</td>\n",
       "      <td>0.963485</td>\n",
       "      <td>1.000000</td>\n",
       "      <td>-28016.0</td>\n",
       "      <td>96.0</td>\n",
       "      <td>25201988</td>\n",
       "      <td>Educational attainment</td>\n",
       "    </tr>\n",
       "    <tr>\n",
       "      <th>19</th>\n",
       "      <td>WILDTYPE_SNP_INDIV__mrna.noflip.NA__chr11:6210...</td>\n",
       "      <td>rs2246920</td>\n",
       "      <td>-0.689089</td>\n",
       "      <td>-0.413303</td>\n",
       "      <td>sig</td>\n",
       "      <td>not sig</td>\n",
       "      <td>rs2463822</td>\n",
       "      <td>1.000000</td>\n",
       "      <td>1.000000</td>\n",
       "      <td>-1517.0</td>\n",
       "      <td>85.0</td>\n",
       "      <td>23144326</td>\n",
       "      <td>Chronic obstructive pulmonary disease-related ...</td>\n",
       "    </tr>\n",
       "    <tr>\n",
       "      <th>22</th>\n",
       "      <td>WILDTYPE_SNP_INDIV__mrna.noflip.NA__chr1:11159...</td>\n",
       "      <td>rs17552394</td>\n",
       "      <td>0.373187</td>\n",
       "      <td>0.298846</td>\n",
       "      <td>sig</td>\n",
       "      <td>not sig</td>\n",
       "      <td>rs17036350</td>\n",
       "      <td>0.960558</td>\n",
       "      <td>1.000000</td>\n",
       "      <td>11258.0</td>\n",
       "      <td>318.0</td>\n",
       "      <td>21665993</td>\n",
       "      <td>Corneal curvature</td>\n",
       "    </tr>\n",
       "  </tbody>\n",
       "</table>\n",
       "</div>"
      ],
      "text/plain": [
       "                                            unique_id  tested_SNP  \\\n",
       "7   WILDTYPE_SNP_INDIV__Antisense.flip.sense__chr1...  rs11605738   \n",
       "8   WILDTYPE_SNP_INDIV__Antisense.flip.sense__chr1...  rs11605738   \n",
       "15  WILDTYPE_SNP_INDIV__mrna.noflip.NA__chr2:12828...  rs17522960   \n",
       "19  WILDTYPE_SNP_INDIV__mrna.noflip.NA__chr11:6210...   rs2246920   \n",
       "22  WILDTYPE_SNP_INDIV__mrna.noflip.NA__chr1:11159...  rs17552394   \n",
       "\n",
       "    HepG2_effect_size  K562_effect_size HepG2_sig_status K562_sig_status  \\\n",
       "7            0.179899         -0.359844              sig         not sig   \n",
       "8            0.179899         -0.359844              sig         not sig   \n",
       "15           0.369098          1.053316              sig             sig   \n",
       "19          -0.689089         -0.413303              sig         not sig   \n",
       "22           0.373187          0.298846              sig         not sig   \n",
       "\n",
       "    tagged_SNP  r_squared   d_prime  distance_between_SNPs  n_snps_in_ld  \\\n",
       "7    rs1059440   0.925828  0.985730               -21605.0          89.0   \n",
       "8     rs477895   0.756233  0.903585                35506.0          91.0   \n",
       "15    rs334147   0.963485  1.000000               -28016.0          96.0   \n",
       "19   rs2463822   1.000000  1.000000                -1517.0          85.0   \n",
       "22  rs17036350   0.960558  1.000000                11258.0         318.0   \n",
       "\n",
       "    pubmed_id                                              trait  \n",
       "7    21784300           Attention deficit hyperactivity disorder  \n",
       "8    22423221                               Mean platelet volume  \n",
       "15   25201988                             Educational attainment  \n",
       "19   23144326  Chronic obstructive pulmonary disease-related ...  \n",
       "22   21665993                                  Corneal curvature  "
      ]
     },
     "execution_count": 93,
     "metadata": {},
     "output_type": "execute_result"
    }
   ],
   "source": [
    "supp_table_s6 = supp_table_s6[[\"unique_id\", \"SNP\", \"HepG2_effect_size\", \"K562_effect_size\", \"HepG2_sig_status\",\n",
    "                               \"K562_sig_status\", \"SNP1 Name\", \"R-squared\", \"D'\", \"Distance\", \"n_snps_in_ld\", \n",
    "                               \"pubMedID\", \"trait\"]].drop_duplicates()\n",
    "supp_table_s6.columns = [\"unique_id\", \"tested_SNP\", \"HepG2_effect_size\", \"K562_effect_size\", \"HepG2_sig_status\",\n",
    "                         \"K562_sig_status\", \"tagged_SNP\", \"r_squared\", \"d_prime\", \"distance_between_SNPs\", \n",
    "                         \"n_snps_in_ld\", \"pubmed_id\", \"trait\"]\n",
    "supp_table_s6.head()"
   ]
  },
  {
   "cell_type": "code",
   "execution_count": 94,
   "metadata": {},
   "outputs": [
    {
     "data": {
      "text/plain": [
       "100"
      ]
     },
     "execution_count": 94,
     "metadata": {},
     "output_type": "execute_result"
    }
   ],
   "source": [
    "len(supp_table_s6)"
   ]
  },
  {
   "cell_type": "code",
   "execution_count": 95,
   "metadata": {},
   "outputs": [
    {
     "data": {
      "text/plain": [
       "32"
      ]
     },
     "execution_count": 95,
     "metadata": {},
     "output_type": "execute_result"
    }
   ],
   "source": [
    "len(supp_table_s6[(supp_table_s6[\"HepG2_sig_status\"] == \"sig\") & (supp_table_s6[\"K562_sig_status\"] == \"sig\")])"
   ]
  },
  {
   "cell_type": "code",
   "execution_count": 96,
   "metadata": {},
   "outputs": [
    {
     "data": {
      "text/plain": [
       "sig        96\n",
       "not sig     1\n",
       "Name: HepG2_sig_status, dtype: int64"
      ]
     },
     "execution_count": 96,
     "metadata": {},
     "output_type": "execute_result"
    }
   ],
   "source": [
    "supp_table_s6.HepG2_sig_status.value_counts()"
   ]
  },
  {
   "cell_type": "code",
   "execution_count": 97,
   "metadata": {},
   "outputs": [
    {
     "data": {
      "text/plain": [
       "not sig    53\n",
       "sig        36\n",
       "Name: K562_sig_status, dtype: int64"
      ]
     },
     "execution_count": 97,
     "metadata": {},
     "output_type": "execute_result"
    }
   ],
   "source": [
    "supp_table_s6.K562_sig_status.value_counts()"
   ]
  },
  {
   "cell_type": "code",
   "execution_count": 98,
   "metadata": {
    "collapsed": true
   },
   "outputs": [],
   "source": [
    "supp_table_s6.to_csv(\"../../data/07__snps/Supplemental_Table_S6.txt\", sep=\"\\t\", index=False)"
   ]
  },
  {
   "cell_type": "code",
   "execution_count": null,
   "metadata": {
    "collapsed": true
   },
   "outputs": [],
   "source": []
  }
 ],
 "metadata": {
  "anaconda-cloud": {},
  "kernelspec": {
   "display_name": "Python 3",
   "language": "python",
   "name": "python3"
  },
  "language_info": {
   "codemirror_mode": {
    "name": "ipython",
    "version": 3
   },
   "file_extension": ".py",
   "mimetype": "text/x-python",
   "name": "python",
   "nbconvert_exporter": "python",
   "pygments_lexer": "ipython3",
   "version": "3.6.2"
  }
 },
 "nbformat": 4,
 "nbformat_minor": 1
}
