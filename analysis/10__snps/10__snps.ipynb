{
 "cells": [
  {
   "cell_type": "markdown",
   "metadata": {},
   "source": [
    "# 10__snps\n",
    "# finding regulatory SNPs in MPRA data\n",
    "\n",
    "in this notebook, i ...\n",
    "\n",
    "------\n",
    "\n",
    "figures in this notebook:\n",
    "- **Fig blah**: blah"
   ]
  },
  {
   "cell_type": "code",
   "execution_count": 123,
   "metadata": {
    "collapsed": true
   },
   "outputs": [],
   "source": [
    "import warnings\n",
    "warnings.filterwarnings('ignore')\n",
    "\n",
    "import numpy as np\n",
    "import matplotlib as mpl\n",
    "import matplotlib.pyplot as plt\n",
    "import pandas as pd\n",
    "import seaborn as sns\n",
    "import sys\n",
    "import time\n",
    "\n",
    "from decimal import Decimal\n",
    "from scipy import stats\n",
    "from scipy.stats import spearmanr\n",
    "from statsmodels.sandbox.stats import multicomp\n",
    "\n",
    "# import utils\n",
    "sys.path.append(\"../../utils\")\n",
    "from plotting_utils import *\n",
    "from misc_utils import *\n",
    "from norm_utils import *\n",
    "from snp_utils import *\n",
    "\n",
    "%matplotlib inline"
   ]
  },
  {
   "cell_type": "code",
   "execution_count": 2,
   "metadata": {
    "collapsed": true
   },
   "outputs": [],
   "source": [
    "sns.set(**PAPER_PRESET)\n",
    "fontsize = PAPER_FONTSIZE\n",
    "np.random.seed(SEED)"
   ]
  },
  {
   "cell_type": "markdown",
   "metadata": {},
   "source": [
    "## variables"
   ]
  },
  {
   "cell_type": "code",
   "execution_count": 3,
   "metadata": {
    "collapsed": true
   },
   "outputs": [],
   "source": [
    "index_dir = \"../../data/00__index\"\n",
    "activ_dir = \"../../data/02__activs\"\n",
    "pval_dir = \"../../data/03__pvals\""
   ]
  },
  {
   "cell_type": "code",
   "execution_count": 4,
   "metadata": {
    "collapsed": true
   },
   "outputs": [],
   "source": [
    "pool1_index_f = \"%s/tss_oligo_pool.index.txt\" % index_dir\n",
    "pool2_index_f = \"%s/dels_oligo_pool.index.txt\" % index_dir"
   ]
  },
  {
   "cell_type": "code",
   "execution_count": 5,
   "metadata": {
    "collapsed": true
   },
   "outputs": [],
   "source": [
    "hepg2_pool1_activ_f = \"%s/POOL1__pMPRA1__HepG2__activities_per_barcode.txt\" % activ_dir\n",
    "k562_pool1_activ_f = \"%s/POOL1__pMPRA1__K562__activities_per_barcode.txt\" % activ_dir\n",
    "hepg2_pool2_activ_f = \"%s/POOL2__pMPRA1__HepG2__activities_per_barcode.txt\" % activ_dir\n",
    "k562_pool2_activ_f = \"%s/POOL2__pMPRA1__K562__activities_per_barcode.txt\" % activ_dir"
   ]
  },
  {
   "cell_type": "code",
   "execution_count": 6,
   "metadata": {
    "collapsed": true
   },
   "outputs": [],
   "source": [
    "hepg2_pool1_pvals_f = \"%s/POOL1__pMPRA1__HepG2__pvals.txt\" % pval_dir\n",
    "k562_pool1_pvals_f = \"%s/POOL1__pMPRA1__K562__pvals.txt\" % pval_dir\n",
    "hepg2_pool2_pvals_f = \"%s/POOL2__pMPRA1__HepG2__pvals.txt\" % pval_dir\n",
    "k562_pool2_pvals_f = \"%s/POOL2__pMPRA1__K562__pvals.txt\" % pval_dir"
   ]
  },
  {
   "cell_type": "code",
   "execution_count": 7,
   "metadata": {
    "collapsed": true
   },
   "outputs": [],
   "source": [
    "# number of times to downsample hepg2\n",
    "n_samples = 100"
   ]
  },
  {
   "cell_type": "code",
   "execution_count": 8,
   "metadata": {
    "collapsed": true
   },
   "outputs": [],
   "source": [
    "fimo_f = \"../../misc/05__fimo/pool1.seqID_NumMotif.txt\""
   ]
  },
  {
   "cell_type": "code",
   "execution_count": 138,
   "metadata": {
    "collapsed": true
   },
   "outputs": [],
   "source": [
    "annot_f = \"../../misc/00__tss_properties/correspondance_seqID_PromType_unique.txt\""
   ]
  },
  {
   "cell_type": "markdown",
   "metadata": {},
   "source": [
    "## 1. import data"
   ]
  },
  {
   "cell_type": "code",
   "execution_count": 9,
   "metadata": {
    "collapsed": true
   },
   "outputs": [],
   "source": [
    "pool1_index = pd.read_table(pool1_index_f, sep=\"\\t\")\n",
    "pool2_index = pd.read_table(pool2_index_f, sep=\"\\t\")"
   ]
  },
  {
   "cell_type": "code",
   "execution_count": 10,
   "metadata": {
    "collapsed": true
   },
   "outputs": [],
   "source": [
    "hepg2_pool1_activ = pd.read_table(hepg2_pool1_activ_f, sep=\"\\t\")\n",
    "k562_pool1_activ = pd.read_table(k562_pool1_activ_f, sep=\"\\t\")\n",
    "hepg2_pool2_activ = pd.read_table(hepg2_pool2_activ_f, sep=\"\\t\")\n",
    "k562_pool2_activ = pd.read_table(k562_pool2_activ_f, sep=\"\\t\")"
   ]
  },
  {
   "cell_type": "code",
   "execution_count": 11,
   "metadata": {},
   "outputs": [
    {
     "data": {
      "text/html": [
       "<div>\n",
       "<style>\n",
       "    .dataframe thead tr:only-child th {\n",
       "        text-align: right;\n",
       "    }\n",
       "\n",
       "    .dataframe thead th {\n",
       "        text-align: left;\n",
       "    }\n",
       "\n",
       "    .dataframe tbody tr th {\n",
       "        vertical-align: top;\n",
       "    }\n",
       "</style>\n",
       "<table border=\"1\" class=\"dataframe\">\n",
       "  <thead>\n",
       "    <tr style=\"text-align: right;\">\n",
       "      <th></th>\n",
       "      <th>barcode</th>\n",
       "      <th>rna_3</th>\n",
       "      <th>rna_4</th>\n",
       "      <th>rna_5</th>\n",
       "      <th>rna_6</th>\n",
       "      <th>rna_7</th>\n",
       "      <th>rna_8</th>\n",
       "      <th>rna_9</th>\n",
       "      <th>rna_10</th>\n",
       "      <th>rna_11</th>\n",
       "      <th>rna_12</th>\n",
       "      <th>rna_13</th>\n",
       "      <th>rna_14</th>\n",
       "      <th>rep_mean</th>\n",
       "    </tr>\n",
       "  </thead>\n",
       "  <tbody>\n",
       "    <tr>\n",
       "      <th>0</th>\n",
       "      <td>AAAACAAAGTC</td>\n",
       "      <td>-0.232915</td>\n",
       "      <td>-0.409743</td>\n",
       "      <td>-0.830252</td>\n",
       "      <td>-0.558582</td>\n",
       "      <td>0.259745</td>\n",
       "      <td>0.471566</td>\n",
       "      <td>0.137889</td>\n",
       "      <td>0.605610</td>\n",
       "      <td>-0.115982</td>\n",
       "      <td>0.389549</td>\n",
       "      <td>0.251261</td>\n",
       "      <td>0.360733</td>\n",
       "      <td>0.027407</td>\n",
       "    </tr>\n",
       "    <tr>\n",
       "      <th>1</th>\n",
       "      <td>AAAACAAAGTT</td>\n",
       "      <td>-1.641943</td>\n",
       "      <td>-1.786002</td>\n",
       "      <td>NaN</td>\n",
       "      <td>NaN</td>\n",
       "      <td>NaN</td>\n",
       "      <td>-1.472057</td>\n",
       "      <td>-2.748240</td>\n",
       "      <td>0.123337</td>\n",
       "      <td>-3.569422</td>\n",
       "      <td>-0.959375</td>\n",
       "      <td>-2.188633</td>\n",
       "      <td>-1.877116</td>\n",
       "      <td>-1.791050</td>\n",
       "    </tr>\n",
       "    <tr>\n",
       "      <th>2</th>\n",
       "      <td>AAAACAAATGT</td>\n",
       "      <td>0.445553</td>\n",
       "      <td>0.331374</td>\n",
       "      <td>0.022147</td>\n",
       "      <td>-0.308519</td>\n",
       "      <td>0.782481</td>\n",
       "      <td>0.935864</td>\n",
       "      <td>0.411982</td>\n",
       "      <td>0.688970</td>\n",
       "      <td>0.972243</td>\n",
       "      <td>0.836551</td>\n",
       "      <td>0.892322</td>\n",
       "      <td>0.819801</td>\n",
       "      <td>0.569231</td>\n",
       "    </tr>\n",
       "    <tr>\n",
       "      <th>3</th>\n",
       "      <td>AAAACAACGTC</td>\n",
       "      <td>-0.010666</td>\n",
       "      <td>1.834886</td>\n",
       "      <td>1.047326</td>\n",
       "      <td>-0.196539</td>\n",
       "      <td>0.456452</td>\n",
       "      <td>0.568126</td>\n",
       "      <td>0.930430</td>\n",
       "      <td>1.951003</td>\n",
       "      <td>0.654473</td>\n",
       "      <td>1.429290</td>\n",
       "      <td>2.026544</td>\n",
       "      <td>1.170410</td>\n",
       "      <td>0.988478</td>\n",
       "    </tr>\n",
       "    <tr>\n",
       "      <th>4</th>\n",
       "      <td>AAAACAACGTG</td>\n",
       "      <td>0.339223</td>\n",
       "      <td>0.864835</td>\n",
       "      <td>-1.879958</td>\n",
       "      <td>-0.186074</td>\n",
       "      <td>0.235210</td>\n",
       "      <td>-1.084751</td>\n",
       "      <td>1.190649</td>\n",
       "      <td>1.043910</td>\n",
       "      <td>-1.136628</td>\n",
       "      <td>0.028256</td>\n",
       "      <td>0.408414</td>\n",
       "      <td>0.148594</td>\n",
       "      <td>-0.002360</td>\n",
       "    </tr>\n",
       "  </tbody>\n",
       "</table>\n",
       "</div>"
      ],
      "text/plain": [
       "       barcode     rna_3     rna_4     rna_5     rna_6     rna_7     rna_8  \\\n",
       "0  AAAACAAAGTC -0.232915 -0.409743 -0.830252 -0.558582  0.259745  0.471566   \n",
       "1  AAAACAAAGTT -1.641943 -1.786002       NaN       NaN       NaN -1.472057   \n",
       "2  AAAACAAATGT  0.445553  0.331374  0.022147 -0.308519  0.782481  0.935864   \n",
       "3  AAAACAACGTC -0.010666  1.834886  1.047326 -0.196539  0.456452  0.568126   \n",
       "4  AAAACAACGTG  0.339223  0.864835 -1.879958 -0.186074  0.235210 -1.084751   \n",
       "\n",
       "      rna_9    rna_10    rna_11    rna_12    rna_13    rna_14  rep_mean  \n",
       "0  0.137889  0.605610 -0.115982  0.389549  0.251261  0.360733  0.027407  \n",
       "1 -2.748240  0.123337 -3.569422 -0.959375 -2.188633 -1.877116 -1.791050  \n",
       "2  0.411982  0.688970  0.972243  0.836551  0.892322  0.819801  0.569231  \n",
       "3  0.930430  1.951003  0.654473  1.429290  2.026544  1.170410  0.988478  \n",
       "4  1.190649  1.043910 -1.136628  0.028256  0.408414  0.148594 -0.002360  "
      ]
     },
     "execution_count": 11,
     "metadata": {},
     "output_type": "execute_result"
    }
   ],
   "source": [
    "hepg2_pool1_reps = [x for x in hepg2_pool1_activ.columns if x != \"barcode\"]\n",
    "k562_pool1_reps = [x for x in k562_pool1_activ.columns if x != \"barcode\"]\n",
    "hepg2_pool2_reps = [x for x in hepg2_pool2_activ.columns if x != \"barcode\"]\n",
    "k562_pool2_reps = [x for x in k562_pool2_activ.columns if x != \"barcode\"]\n",
    "\n",
    "hepg2_pool1_activ[\"rep_mean\"] = np.nanmean(hepg2_pool1_activ[hepg2_pool1_reps], axis=1)\n",
    "k562_pool1_activ[\"rep_mean\"] = np.nanmean(k562_pool1_activ[k562_pool1_reps], axis=1)\n",
    "hepg2_pool2_activ[\"rep_mean\"] = np.nanmean(hepg2_pool2_activ[hepg2_pool2_reps], axis=1)\n",
    "k562_pool2_activ[\"rep_mean\"] = np.nanmean(k562_pool2_activ[k562_pool2_reps], axis=1)\n",
    "\n",
    "hepg2_pool1_activ.head()"
   ]
  },
  {
   "cell_type": "code",
   "execution_count": 12,
   "metadata": {
    "collapsed": true
   },
   "outputs": [],
   "source": [
    "pool1_index_elem = pool1_index[[\"oligo_type\", \"dupe_info\", \"seq_name\", \"tile_name\", \"chr\", \"locus_start\", \"locus_end\",\n",
    "                                \"strand\", \"element\", \"unique_id\", \"SNP\"]].drop_duplicates()\n",
    "pool2_index_elem = pool2_index[[\"oligo_type\", \"dupe_info\", \"seq_name\", \"tile_name\", \"chr\", \"locus_start\", \"locus_end\",\n",
    "                                \"strand\", \"element\", \"unique_id\", \"SNP\"]].drop_duplicates()"
   ]
  },
  {
   "cell_type": "code",
   "execution_count": 13,
   "metadata": {
    "collapsed": true
   },
   "outputs": [],
   "source": [
    "hepg2_pool1_pvals = pd.read_table(hepg2_pool1_pvals_f, sep=\"\\t\")\n",
    "k562_pool1_pvals = pd.read_table(k562_pool1_pvals_f, sep=\"\\t\")\n",
    "hepg2_pool2_pvals = pd.read_table(hepg2_pool2_pvals_f, sep=\"\\t\")\n",
    "k562_pool2_pvals = pd.read_table(k562_pool2_pvals_f, sep=\"\\t\")"
   ]
  },
  {
   "cell_type": "code",
   "execution_count": 14,
   "metadata": {},
   "outputs": [
    {
     "data": {
      "text/html": [
       "<div>\n",
       "<style>\n",
       "    .dataframe thead tr:only-child th {\n",
       "        text-align: right;\n",
       "    }\n",
       "\n",
       "    .dataframe thead th {\n",
       "        text-align: left;\n",
       "    }\n",
       "\n",
       "    .dataframe tbody tr th {\n",
       "        vertical-align: top;\n",
       "    }\n",
       "</style>\n",
       "<table border=\"1\" class=\"dataframe\">\n",
       "  <thead>\n",
       "    <tr style=\"text-align: right;\">\n",
       "      <th></th>\n",
       "      <th>seqID</th>\n",
       "      <th>n_motifs</th>\n",
       "    </tr>\n",
       "  </thead>\n",
       "  <tbody>\n",
       "    <tr>\n",
       "      <th>0</th>\n",
       "      <td>CONTROL_BUT_HAS_SNP__control.flip.sense__chr11...</td>\n",
       "      <td>10</td>\n",
       "    </tr>\n",
       "    <tr>\n",
       "      <th>1</th>\n",
       "      <td>CONTROL_BUT_HAS_SNP__control.flip.sense__chr16...</td>\n",
       "      <td>50</td>\n",
       "    </tr>\n",
       "    <tr>\n",
       "      <th>2</th>\n",
       "      <td>CONTROL_BUT_HAS_SNP__control.flip.sense__chr17...</td>\n",
       "      <td>24</td>\n",
       "    </tr>\n",
       "    <tr>\n",
       "      <th>3</th>\n",
       "      <td>CONTROL_BUT_HAS_SNP__control.flip.sense__chr17...</td>\n",
       "      <td>12</td>\n",
       "    </tr>\n",
       "    <tr>\n",
       "      <th>4</th>\n",
       "      <td>CONTROL_BUT_HAS_SNP__control.flip.sense__chr1:...</td>\n",
       "      <td>16</td>\n",
       "    </tr>\n",
       "  </tbody>\n",
       "</table>\n",
       "</div>"
      ],
      "text/plain": [
       "                                               seqID  n_motifs\n",
       "0  CONTROL_BUT_HAS_SNP__control.flip.sense__chr11...        10\n",
       "1  CONTROL_BUT_HAS_SNP__control.flip.sense__chr16...        50\n",
       "2  CONTROL_BUT_HAS_SNP__control.flip.sense__chr17...        24\n",
       "3  CONTROL_BUT_HAS_SNP__control.flip.sense__chr17...        12\n",
       "4  CONTROL_BUT_HAS_SNP__control.flip.sense__chr1:...        16"
      ]
     },
     "execution_count": 14,
     "metadata": {},
     "output_type": "execute_result"
    }
   ],
   "source": [
    "fimo = pd.read_table(fimo_f, sep=\"\\t\", header=None)\n",
    "fimo.columns = [\"seqID\", \"n_motifs\"]\n",
    "fimo.head()"
   ]
  },
  {
   "cell_type": "code",
   "execution_count": 139,
   "metadata": {},
   "outputs": [
    {
     "data": {
      "text/html": [
       "<div>\n",
       "<style>\n",
       "    .dataframe thead tr:only-child th {\n",
       "        text-align: right;\n",
       "    }\n",
       "\n",
       "    .dataframe thead th {\n",
       "        text-align: left;\n",
       "    }\n",
       "\n",
       "    .dataframe tbody tr th {\n",
       "        vertical-align: top;\n",
       "    }\n",
       "</style>\n",
       "<table border=\"1\" class=\"dataframe\">\n",
       "  <thead>\n",
       "    <tr style=\"text-align: right;\">\n",
       "      <th></th>\n",
       "      <th>seqID</th>\n",
       "      <th>PromType2</th>\n",
       "    </tr>\n",
       "  </thead>\n",
       "  <tbody>\n",
       "    <tr>\n",
       "      <th>0</th>\n",
       "      <td>WILDTYPE__Antisense.noflip.NA__chr1:100435456....</td>\n",
       "      <td>div_lnc</td>\n",
       "    </tr>\n",
       "    <tr>\n",
       "      <th>1</th>\n",
       "      <td>WILDTYPE__Lincrna.flip.sense__chr1:100731637.....</td>\n",
       "      <td>div_lnc</td>\n",
       "    </tr>\n",
       "    <tr>\n",
       "      <th>2</th>\n",
       "      <td>FLIPPED__Lincrna.flip.antisense__chr1:10073163...</td>\n",
       "      <td>div_lnc</td>\n",
       "    </tr>\n",
       "    <tr>\n",
       "      <th>3</th>\n",
       "      <td>FLIPPED__mrna.flip.antisense__chr1:100731714.....</td>\n",
       "      <td>div_pc</td>\n",
       "    </tr>\n",
       "    <tr>\n",
       "      <th>4</th>\n",
       "      <td>WILDTYPE__mrna.flip.sense__chr1:100731714..100...</td>\n",
       "      <td>div_pc</td>\n",
       "    </tr>\n",
       "  </tbody>\n",
       "</table>\n",
       "</div>"
      ],
      "text/plain": [
       "                                               seqID PromType2\n",
       "0  WILDTYPE__Antisense.noflip.NA__chr1:100435456....   div_lnc\n",
       "1  WILDTYPE__Lincrna.flip.sense__chr1:100731637.....   div_lnc\n",
       "2  FLIPPED__Lincrna.flip.antisense__chr1:10073163...   div_lnc\n",
       "3  FLIPPED__mrna.flip.antisense__chr1:100731714.....    div_pc\n",
       "4  WILDTYPE__mrna.flip.sense__chr1:100731714..100...    div_pc"
      ]
     },
     "execution_count": 139,
     "metadata": {},
     "output_type": "execute_result"
    }
   ],
   "source": [
    "annot = pd.read_table(annot_f, sep=\"\\t\")\n",
    "annot.head()"
   ]
  },
  {
   "cell_type": "markdown",
   "metadata": {},
   "source": [
    "## 2. merge w/ index"
   ]
  },
  {
   "cell_type": "code",
   "execution_count": 15,
   "metadata": {},
   "outputs": [
    {
     "data": {
      "text/html": [
       "<div>\n",
       "<style>\n",
       "    .dataframe thead tr:only-child th {\n",
       "        text-align: right;\n",
       "    }\n",
       "\n",
       "    .dataframe thead th {\n",
       "        text-align: left;\n",
       "    }\n",
       "\n",
       "    .dataframe tbody tr th {\n",
       "        vertical-align: top;\n",
       "    }\n",
       "</style>\n",
       "<table border=\"1\" class=\"dataframe\">\n",
       "  <thead>\n",
       "    <tr style=\"text-align: right;\">\n",
       "      <th></th>\n",
       "      <th>full_oligo</th>\n",
       "      <th>oligo_type</th>\n",
       "      <th>oligo_id</th>\n",
       "      <th>dupe_info</th>\n",
       "      <th>seq_name</th>\n",
       "      <th>tile_name</th>\n",
       "      <th>chr</th>\n",
       "      <th>locus_start</th>\n",
       "      <th>locus_end</th>\n",
       "      <th>strand</th>\n",
       "      <th>...</th>\n",
       "      <th>rna_6</th>\n",
       "      <th>rna_7</th>\n",
       "      <th>rna_8</th>\n",
       "      <th>rna_9</th>\n",
       "      <th>rna_10</th>\n",
       "      <th>rna_11</th>\n",
       "      <th>rna_12</th>\n",
       "      <th>rna_13</th>\n",
       "      <th>rna_14</th>\n",
       "      <th>rep_mean</th>\n",
       "    </tr>\n",
       "  </thead>\n",
       "  <tbody>\n",
       "    <tr>\n",
       "      <th>0</th>\n",
       "      <td>ACTGGCCGCTTCACTGGTGCAGCCCAGGCGTTTCCGGGTTCCCGCG...</td>\n",
       "      <td>WILDTYPE</td>\n",
       "      <td>1.1.0.0.1</td>\n",
       "      <td>none</td>\n",
       "      <td>Antisense.noflip.NA__chr1:100435456..100435570,-</td>\n",
       "      <td>Antisense.noflip.NA__chr1:100435456..100435570...</td>\n",
       "      <td>chr1</td>\n",
       "      <td>100435456.0</td>\n",
       "      <td>100435570.0</td>\n",
       "      <td>-</td>\n",
       "      <td>...</td>\n",
       "      <td>1.770474</td>\n",
       "      <td>1.895198</td>\n",
       "      <td>1.878385</td>\n",
       "      <td>1.933633</td>\n",
       "      <td>2.220131</td>\n",
       "      <td>1.960955</td>\n",
       "      <td>1.973998</td>\n",
       "      <td>1.990893</td>\n",
       "      <td>2.121866</td>\n",
       "      <td>2.013580</td>\n",
       "    </tr>\n",
       "    <tr>\n",
       "      <th>1</th>\n",
       "      <td>ACTGGCCGCTTCACTGGTGCAGCCCAGGCGTTTCCGGGTTCCCGCG...</td>\n",
       "      <td>WILDTYPE</td>\n",
       "      <td>1.1.0.0.2</td>\n",
       "      <td>none</td>\n",
       "      <td>Antisense.noflip.NA__chr1:100435456..100435570,-</td>\n",
       "      <td>Antisense.noflip.NA__chr1:100435456..100435570...</td>\n",
       "      <td>chr1</td>\n",
       "      <td>100435456.0</td>\n",
       "      <td>100435570.0</td>\n",
       "      <td>-</td>\n",
       "      <td>...</td>\n",
       "      <td>1.903111</td>\n",
       "      <td>1.733053</td>\n",
       "      <td>1.594202</td>\n",
       "      <td>1.724073</td>\n",
       "      <td>1.804927</td>\n",
       "      <td>1.627770</td>\n",
       "      <td>1.753076</td>\n",
       "      <td>1.677350</td>\n",
       "      <td>1.972532</td>\n",
       "      <td>1.728979</td>\n",
       "    </tr>\n",
       "    <tr>\n",
       "      <th>2</th>\n",
       "      <td>ACTGGCCGCTTCACTGGTGCAGCCCAGGCGTTTCCGGGTTCCCGCG...</td>\n",
       "      <td>WILDTYPE</td>\n",
       "      <td>1.1.0.0.3</td>\n",
       "      <td>none</td>\n",
       "      <td>Antisense.noflip.NA__chr1:100435456..100435570,-</td>\n",
       "      <td>Antisense.noflip.NA__chr1:100435456..100435570...</td>\n",
       "      <td>chr1</td>\n",
       "      <td>100435456.0</td>\n",
       "      <td>100435570.0</td>\n",
       "      <td>-</td>\n",
       "      <td>...</td>\n",
       "      <td>1.098191</td>\n",
       "      <td>1.308489</td>\n",
       "      <td>1.409376</td>\n",
       "      <td>1.769699</td>\n",
       "      <td>1.729734</td>\n",
       "      <td>1.432375</td>\n",
       "      <td>1.585704</td>\n",
       "      <td>1.384201</td>\n",
       "      <td>1.684251</td>\n",
       "      <td>1.505785</td>\n",
       "    </tr>\n",
       "    <tr>\n",
       "      <th>3</th>\n",
       "      <td>ACTGGCCGCTTCACTGGTGCAGCCCAGGCGTTTCCGGGTTCCCGCG...</td>\n",
       "      <td>WILDTYPE</td>\n",
       "      <td>1.1.0.0.4</td>\n",
       "      <td>none</td>\n",
       "      <td>Antisense.noflip.NA__chr1:100435456..100435570,-</td>\n",
       "      <td>Antisense.noflip.NA__chr1:100435456..100435570...</td>\n",
       "      <td>chr1</td>\n",
       "      <td>100435456.0</td>\n",
       "      <td>100435570.0</td>\n",
       "      <td>-</td>\n",
       "      <td>...</td>\n",
       "      <td>1.653971</td>\n",
       "      <td>1.756965</td>\n",
       "      <td>1.772167</td>\n",
       "      <td>1.389426</td>\n",
       "      <td>1.887075</td>\n",
       "      <td>1.648490</td>\n",
       "      <td>1.716837</td>\n",
       "      <td>1.679619</td>\n",
       "      <td>1.670818</td>\n",
       "      <td>1.695738</td>\n",
       "    </tr>\n",
       "    <tr>\n",
       "      <th>4</th>\n",
       "      <td>ACTGGCCGCTTCACTGGTGCAGCCCAGGCGTTTCCGGGTTCCCGCG...</td>\n",
       "      <td>WILDTYPE</td>\n",
       "      <td>1.1.0.0.5</td>\n",
       "      <td>none</td>\n",
       "      <td>Antisense.noflip.NA__chr1:100435456..100435570,-</td>\n",
       "      <td>Antisense.noflip.NA__chr1:100435456..100435570...</td>\n",
       "      <td>chr1</td>\n",
       "      <td>100435456.0</td>\n",
       "      <td>100435570.0</td>\n",
       "      <td>-</td>\n",
       "      <td>...</td>\n",
       "      <td>0.909410</td>\n",
       "      <td>1.529894</td>\n",
       "      <td>1.110386</td>\n",
       "      <td>2.122635</td>\n",
       "      <td>1.330243</td>\n",
       "      <td>1.268685</td>\n",
       "      <td>0.992613</td>\n",
       "      <td>2.040454</td>\n",
       "      <td>0.431626</td>\n",
       "      <td>1.361815</td>\n",
       "    </tr>\n",
       "  </tbody>\n",
       "</table>\n",
       "<p>5 rows × 35 columns</p>\n",
       "</div>"
      ],
      "text/plain": [
       "                                          full_oligo oligo_type   oligo_id  \\\n",
       "0  ACTGGCCGCTTCACTGGTGCAGCCCAGGCGTTTCCGGGTTCCCGCG...   WILDTYPE  1.1.0.0.1   \n",
       "1  ACTGGCCGCTTCACTGGTGCAGCCCAGGCGTTTCCGGGTTCCCGCG...   WILDTYPE  1.1.0.0.2   \n",
       "2  ACTGGCCGCTTCACTGGTGCAGCCCAGGCGTTTCCGGGTTCCCGCG...   WILDTYPE  1.1.0.0.3   \n",
       "3  ACTGGCCGCTTCACTGGTGCAGCCCAGGCGTTTCCGGGTTCCCGCG...   WILDTYPE  1.1.0.0.4   \n",
       "4  ACTGGCCGCTTCACTGGTGCAGCCCAGGCGTTTCCGGGTTCCCGCG...   WILDTYPE  1.1.0.0.5   \n",
       "\n",
       "  dupe_info                                          seq_name  \\\n",
       "0      none  Antisense.noflip.NA__chr1:100435456..100435570,-   \n",
       "1      none  Antisense.noflip.NA__chr1:100435456..100435570,-   \n",
       "2      none  Antisense.noflip.NA__chr1:100435456..100435570,-   \n",
       "3      none  Antisense.noflip.NA__chr1:100435456..100435570,-   \n",
       "4      none  Antisense.noflip.NA__chr1:100435456..100435570,-   \n",
       "\n",
       "                                           tile_name   chr  locus_start  \\\n",
       "0  Antisense.noflip.NA__chr1:100435456..100435570...  chr1  100435456.0   \n",
       "1  Antisense.noflip.NA__chr1:100435456..100435570...  chr1  100435456.0   \n",
       "2  Antisense.noflip.NA__chr1:100435456..100435570...  chr1  100435456.0   \n",
       "3  Antisense.noflip.NA__chr1:100435456..100435570...  chr1  100435456.0   \n",
       "4  Antisense.noflip.NA__chr1:100435456..100435570...  chr1  100435456.0   \n",
       "\n",
       "     locus_end strand    ...        rna_6     rna_7     rna_8     rna_9  \\\n",
       "0  100435570.0      -    ...     1.770474  1.895198  1.878385  1.933633   \n",
       "1  100435570.0      -    ...     1.903111  1.733053  1.594202  1.724073   \n",
       "2  100435570.0      -    ...     1.098191  1.308489  1.409376  1.769699   \n",
       "3  100435570.0      -    ...     1.653971  1.756965  1.772167  1.389426   \n",
       "4  100435570.0      -    ...     0.909410  1.529894  1.110386  2.122635   \n",
       "\n",
       "     rna_10    rna_11    rna_12    rna_13    rna_14  rep_mean  \n",
       "0  2.220131  1.960955  1.973998  1.990893  2.121866  2.013580  \n",
       "1  1.804927  1.627770  1.753076  1.677350  1.972532  1.728979  \n",
       "2  1.729734  1.432375  1.585704  1.384201  1.684251  1.505785  \n",
       "3  1.887075  1.648490  1.716837  1.679619  1.670818  1.695738  \n",
       "4  1.330243  1.268685  0.992613  2.040454  0.431626  1.361815  \n",
       "\n",
       "[5 rows x 35 columns]"
      ]
     },
     "execution_count": 15,
     "metadata": {},
     "output_type": "execute_result"
    }
   ],
   "source": [
    "hepg2_pool1_data = pool1_index.merge(hepg2_pool1_activ, on=\"barcode\", how=\"outer\")\n",
    "k562_pool1_data = pool1_index.merge(k562_pool1_activ, on=\"barcode\", how=\"outer\")\n",
    "hepg2_pool2_data = pool2_index.merge(hepg2_pool2_activ, on=\"barcode\", how=\"outer\")\n",
    "k562_pool2_data = pool2_index.merge(k562_pool2_activ, on=\"barcode\", how=\"outer\")\n",
    "hepg2_pool1_data.head()"
   ]
  },
  {
   "cell_type": "markdown",
   "metadata": {},
   "source": [
    "## 3. extract SNP pairs"
   ]
  },
  {
   "cell_type": "markdown",
   "metadata": {},
   "source": [
    "create map of wt unique_id : snp unique_ids"
   ]
  },
  {
   "cell_type": "code",
   "execution_count": 16,
   "metadata": {
    "collapsed": true
   },
   "outputs": [],
   "source": [
    "hepg2_pool1_wt_w_snp_seqs = hepg2_pool1_data[hepg2_pool1_data[\"oligo_type\"].isin([\"WILDTYPE_BUT_HAS_SNP\", \n",
    "                                                                                  \"CONTROL_BUT_HAS_SNP\"])]\n",
    "k562_pool1_wt_w_snp_seqs = k562_pool1_data[k562_pool1_data[\"oligo_type\"].isin([\"WILDTYPE_BUT_HAS_SNP\", \n",
    "                                                                               \"CONTROL_BUT_HAS_SNP\"])]\n",
    "hepg2_pool2_wt_w_snp_seqs = hepg2_pool2_data[hepg2_pool2_data[\"oligo_type\"].isin([\"WILDTYPE_BUT_HAS_SNP\", \n",
    "                                                                                  \"CONTROL_BUT_HAS_SNP\"])]\n",
    "k562_pool2_wt_w_snp_seqs = k562_pool2_data[k562_pool2_data[\"oligo_type\"].isin([\"WILDTYPE_BUT_HAS_SNP\", \n",
    "                                                                               \"CONTROL_BUT_HAS_SNP\"])]"
   ]
  },
  {
   "cell_type": "code",
   "execution_count": 17,
   "metadata": {
    "collapsed": true
   },
   "outputs": [],
   "source": [
    "hepg2_pool1_wt_w_snp_seqs = hepg2_pool1_wt_w_snp_seqs[[\"oligo_type\", \"dupe_info\", \"seq_name\", \"tile_name\", \"chr\", \n",
    "                                                       \"locus_start\", \"locus_end\", \"strand\", \"element\", \"unique_id\", \n",
    "                                                       \"SNP\"]].drop_duplicates()\n",
    "k562_pool1_wt_w_snp_seqs = k562_pool1_wt_w_snp_seqs[[\"oligo_type\", \"dupe_info\", \"seq_name\", \"tile_name\", \"chr\", \n",
    "                                                     \"locus_start\", \"locus_end\", \"strand\", \"element\", \"unique_id\", \n",
    "                                                     \"SNP\"]].drop_duplicates()\n",
    "hepg2_pool2_wt_w_snp_seqs = hepg2_pool2_wt_w_snp_seqs[[\"oligo_type\", \"dupe_info\", \"seq_name\", \"tile_name\", \"chr\", \n",
    "                                                       \"locus_start\", \"locus_end\", \"strand\", \"element\", \"unique_id\", \n",
    "                                                       \"SNP\"]].drop_duplicates()\n",
    "k562_pool2_wt_w_snp_seqs = k562_pool2_wt_w_snp_seqs[[\"oligo_type\", \"dupe_info\", \"seq_name\", \"tile_name\", \"chr\", \n",
    "                                                     \"locus_start\", \"locus_end\", \"strand\", \"element\", \"unique_id\", \n",
    "                                                     \"SNP\"]].drop_duplicates()"
   ]
  },
  {
   "cell_type": "code",
   "execution_count": 18,
   "metadata": {
    "collapsed": true
   },
   "outputs": [],
   "source": [
    "hepg2_pool1_wt_df = hepg2_pool1_wt_w_snp_seqs.copy()\n",
    "k562_pool1_wt_df = k562_pool1_wt_w_snp_seqs.copy()\n",
    "hepg2_pool2_wt_df = hepg2_pool2_wt_w_snp_seqs.copy()\n",
    "k562_pool2_wt_df = k562_pool2_wt_w_snp_seqs.copy()"
   ]
  },
  {
   "cell_type": "code",
   "execution_count": 19,
   "metadata": {},
   "outputs": [
    {
     "name": "stdout",
     "output_type": "stream",
     "text": [
      "mapping HepG2 pool1 SNPs\n",
      "mapping K562 pool1 SNPs\n",
      "mapping HepG2 pool2 SNPs\n",
      "mapping K562 pool2 SNPs\n"
     ]
    }
   ],
   "source": [
    "print(\"mapping HepG2 pool1 SNPs\")\n",
    "hepg2_pool1_snp_map = map_snps(hepg2_pool1_wt_w_snp_seqs, pool1_index_elem)\n",
    "print(\"mapping K562 pool1 SNPs\")\n",
    "k562_pool1_snp_map = map_snps(k562_pool1_wt_w_snp_seqs, pool1_index_elem)\n",
    "print(\"mapping HepG2 pool2 SNPs\")\n",
    "hepg2_pool2_snp_map = map_snps(hepg2_pool2_wt_w_snp_seqs, pool2_index_elem)\n",
    "print(\"mapping K562 pool2 SNPs\")\n",
    "k562_pool2_snp_map = map_snps(k562_pool2_wt_w_snp_seqs, pool2_index_elem)"
   ]
  },
  {
   "cell_type": "markdown",
   "metadata": {},
   "source": [
    "## 4. calculate p-values (wilcox test using mean across replicates, 1 for each barcode)"
   ]
  },
  {
   "cell_type": "code",
   "execution_count": 20,
   "metadata": {
    "collapsed": true
   },
   "outputs": [],
   "source": [
    "hepg2_pool1_log2fc_cols = [x for x in hepg2_pool1_pvals.columns if \"_log2fc\" in x]\n",
    "k562_pool1_log2fc_cols = [x for x in k562_pool1_pvals.columns if \"_log2fc\" in x]\n",
    "hepg2_pool2_log2fc_cols = [x for x in hepg2_pool2_pvals.columns if \"_log2fc\" in x]\n",
    "k562_pool2_log2fc_cols = [x for x in k562_pool2_pvals.columns if \"_log2fc\" in x]"
   ]
  },
  {
   "cell_type": "code",
   "execution_count": 21,
   "metadata": {
    "collapsed": true
   },
   "outputs": [],
   "source": [
    "hepg2_pool1_pvals[\"mean_log2fc\"] = hepg2_pool1_pvals[hepg2_pool1_log2fc_cols].mean(axis=1)\n",
    "k562_pool1_pvals[\"mean_log2fc\"] = k562_pool1_pvals[k562_pool1_log2fc_cols].mean(axis=1)\n",
    "hepg2_pool2_pvals[\"mean_log2fc\"] = hepg2_pool2_pvals[hepg2_pool2_log2fc_cols].mean(axis=1)\n",
    "k562_pool2_pvals[\"mean_log2fc\"] = k562_pool2_pvals[k562_pool2_log2fc_cols].mean(axis=1)"
   ]
  },
  {
   "cell_type": "markdown",
   "metadata": {},
   "source": [
    "note if HepG2 -- to compare to other cell types, downsample to 4 reps. do this 100x and take minimum."
   ]
  },
  {
   "cell_type": "markdown",
   "metadata": {},
   "source": [
    "### active"
   ]
  },
  {
   "cell_type": "code",
   "execution_count": 22,
   "metadata": {
    "collapsed": true
   },
   "outputs": [],
   "source": [
    "min_barcodes = 20\n",
    "activ_alpha = 0.5\n",
    "active_l2fc_thresh = 0.5\n",
    "repr_l2fc_thresh = -0.5"
   ]
  },
  {
   "cell_type": "code",
   "execution_count": 23,
   "metadata": {},
   "outputs": [
    {
     "name": "stdout",
     "output_type": "stream",
     "text": [
      "active SNPs, reps: ['rna_1', 'rna_2', 'rna_3', 'rna_4']\n",
      "...rna_1 pvals...\n",
      "1783\n",
      "1783\n",
      "...rna_2 pvals...\n",
      "1783\n",
      "1783\n",
      "...rna_3 pvals...\n",
      "1783\n",
      "1783\n",
      "...rna_4 pvals...\n",
      "1783\n",
      "1783\n",
      "[]\n"
     ]
    }
   ],
   "source": [
    "k562_pool1_active_snp_data = get_snp_results(k562_pool1_reps, k562_pool1_snp_map, k562_pool1_data, k562_pool1_pvals,\n",
    "                                             min_barcodes, activ_alpha, active_l2fc_thresh, repr_l2fc_thresh, \n",
    "                                             \"active\", \"POOL1\", 0)"
   ]
  },
  {
   "cell_type": "code",
   "execution_count": 24,
   "metadata": {},
   "outputs": [
    {
     "name": "stdout",
     "output_type": "stream",
     "text": [
      "active SNPs, reps: ['rna_1', 'rna_2', 'rna_3', 'rna_4']\n",
      "...rna_1 pvals...\n",
      "199\n",
      "199\n",
      "...rna_2 pvals...\n",
      "199\n",
      "199\n",
      "...rna_3 pvals...\n",
      "199\n",
      "199\n",
      "...rna_4 pvals...\n",
      "199\n",
      "199\n",
      "[]\n"
     ]
    }
   ],
   "source": [
    "k562_pool2_active_snp_data = get_snp_results(k562_pool2_reps, k562_pool2_snp_map, k562_pool2_data, k562_pool2_pvals,\n",
    "                                             min_barcodes, activ_alpha, active_l2fc_thresh, repr_l2fc_thresh, \n",
    "                                             \"active\", \"POOL2\", 0)"
   ]
  },
  {
   "cell_type": "code",
   "execution_count": 25,
   "metadata": {},
   "outputs": [
    {
     "name": "stdout",
     "output_type": "stream",
     "text": [
      "active SNPs, reps: ['rna_3', 'rna_4', 'rna_5', 'rna_6', 'rna_7', 'rna_8', 'rna_9', 'rna_10', 'rna_11', 'rna_12', 'rna_13', 'rna_14']\n",
      "...rna_3 pvals...\n",
      "1783\n",
      "1783\n",
      "...rna_4 pvals...\n",
      "1783\n",
      "1783\n",
      "...rna_5 pvals...\n",
      "1783\n",
      "1783\n",
      "...rna_6 pvals...\n",
      "1783\n",
      "1783\n",
      "...rna_7 pvals...\n",
      "1783\n",
      "1783\n",
      "...rna_8 pvals...\n",
      "1783\n",
      "1783\n",
      "...rna_9 pvals...\n",
      "1783\n",
      "1783\n",
      "...rna_10 pvals...\n",
      "1783\n",
      "1783\n",
      "...rna_11 pvals...\n",
      "1783\n",
      "1783\n",
      "...rna_12 pvals...\n",
      "1783\n",
      "1783\n",
      "...rna_13 pvals...\n",
      "1783\n",
      "1783\n",
      "...rna_14 pvals...\n",
      "1783\n",
      "1783\n",
      "['samp_0_combined_padj', 'samp_1_combined_padj', 'samp_2_combined_padj', 'samp_3_combined_padj', 'samp_4_combined_padj', 'samp_5_combined_padj', 'samp_6_combined_padj', 'samp_7_combined_padj', 'samp_8_combined_padj', 'samp_9_combined_padj', 'samp_10_combined_padj', 'samp_11_combined_padj', 'samp_12_combined_padj', 'samp_13_combined_padj', 'samp_14_combined_padj', 'samp_15_combined_padj', 'samp_16_combined_padj', 'samp_17_combined_padj', 'samp_18_combined_padj', 'samp_19_combined_padj', 'samp_20_combined_padj', 'samp_21_combined_padj', 'samp_22_combined_padj', 'samp_23_combined_padj', 'samp_24_combined_padj', 'samp_25_combined_padj', 'samp_26_combined_padj', 'samp_27_combined_padj', 'samp_28_combined_padj', 'samp_29_combined_padj', 'samp_30_combined_padj', 'samp_31_combined_padj', 'samp_32_combined_padj', 'samp_33_combined_padj', 'samp_34_combined_padj', 'samp_35_combined_padj', 'samp_36_combined_padj', 'samp_37_combined_padj', 'samp_38_combined_padj', 'samp_39_combined_padj', 'samp_40_combined_padj', 'samp_41_combined_padj', 'samp_42_combined_padj', 'samp_43_combined_padj', 'samp_44_combined_padj', 'samp_45_combined_padj', 'samp_46_combined_padj', 'samp_47_combined_padj', 'samp_48_combined_padj', 'samp_49_combined_padj', 'samp_50_combined_padj', 'samp_51_combined_padj', 'samp_52_combined_padj', 'samp_53_combined_padj', 'samp_54_combined_padj', 'samp_55_combined_padj', 'samp_56_combined_padj', 'samp_57_combined_padj', 'samp_58_combined_padj', 'samp_59_combined_padj', 'samp_60_combined_padj', 'samp_61_combined_padj', 'samp_62_combined_padj', 'samp_63_combined_padj', 'samp_64_combined_padj', 'samp_65_combined_padj', 'samp_66_combined_padj', 'samp_67_combined_padj', 'samp_68_combined_padj', 'samp_69_combined_padj', 'samp_70_combined_padj', 'samp_71_combined_padj', 'samp_72_combined_padj', 'samp_73_combined_padj', 'samp_74_combined_padj', 'samp_75_combined_padj', 'samp_76_combined_padj', 'samp_77_combined_padj', 'samp_78_combined_padj', 'samp_79_combined_padj', 'samp_80_combined_padj', 'samp_81_combined_padj', 'samp_82_combined_padj', 'samp_83_combined_padj', 'samp_84_combined_padj', 'samp_85_combined_padj', 'samp_86_combined_padj', 'samp_87_combined_padj', 'samp_88_combined_padj', 'samp_89_combined_padj', 'samp_90_combined_padj', 'samp_91_combined_padj', 'samp_92_combined_padj', 'samp_93_combined_padj', 'samp_94_combined_padj', 'samp_95_combined_padj', 'samp_96_combined_padj', 'samp_97_combined_padj', 'samp_98_combined_padj', 'samp_99_combined_padj']\n"
     ]
    }
   ],
   "source": [
    "hepg2_pool1_active_snp_data = get_snp_results(hepg2_pool1_reps, hepg2_pool1_snp_map, hepg2_pool1_data, hepg2_pool1_pvals,\n",
    "                                              min_barcodes, activ_alpha, active_l2fc_thresh, repr_l2fc_thresh, \n",
    "                                              \"active\", \"POOL1\", n_samples)"
   ]
  },
  {
   "cell_type": "code",
   "execution_count": 26,
   "metadata": {},
   "outputs": [
    {
     "name": "stdout",
     "output_type": "stream",
     "text": [
      "active SNPs, reps: ['rna_3', 'rna_4', 'rna_5', 'rna_6', 'rna_7', 'rna_8', 'rna_9', 'rna_10']\n",
      "...rna_3 pvals...\n",
      "199\n",
      "199\n",
      "...rna_4 pvals...\n",
      "199\n",
      "199\n",
      "...rna_5 pvals...\n",
      "199\n",
      "199\n",
      "...rna_6 pvals...\n",
      "199\n",
      "199\n",
      "...rna_7 pvals...\n",
      "199\n",
      "199\n",
      "...rna_8 pvals...\n",
      "199\n",
      "199\n",
      "...rna_9 pvals...\n",
      "199\n",
      "199\n",
      "...rna_10 pvals...\n",
      "199\n",
      "199\n",
      "[]\n"
     ]
    }
   ],
   "source": [
    "hepg2_pool2_active_snp_data = get_snp_results(hepg2_pool2_reps, hepg2_pool2_snp_map, hepg2_pool2_data, hepg2_pool2_pvals,\n",
    "                                              min_barcodes, activ_alpha, active_l2fc_thresh, repr_l2fc_thresh, \n",
    "                                              \"active\", \"POOL2\", 0)"
   ]
  },
  {
   "cell_type": "markdown",
   "metadata": {},
   "source": [
    "### repressive"
   ]
  },
  {
   "cell_type": "code",
   "execution_count": 27,
   "metadata": {},
   "outputs": [
    {
     "name": "stdout",
     "output_type": "stream",
     "text": [
      "repressive SNPs, reps: ['rna_1', 'rna_2', 'rna_3', 'rna_4']\n",
      "...rna_1 pvals...\n",
      "1783\n",
      "1783\n",
      "...rna_2 pvals...\n",
      "1783\n",
      "1783\n",
      "...rna_3 pvals...\n",
      "1783\n",
      "1783\n",
      "...rna_4 pvals...\n",
      "1783\n",
      "1783\n",
      "[]\n"
     ]
    }
   ],
   "source": [
    "k562_pool1_repressive_snp_data = get_snp_results(k562_pool1_reps, k562_pool1_snp_map, k562_pool1_data, k562_pool1_pvals,\n",
    "                                                min_barcodes, activ_alpha, active_l2fc_thresh, repr_l2fc_thresh, \n",
    "                                                \"repressive\", \"POOL1\", 0)"
   ]
  },
  {
   "cell_type": "code",
   "execution_count": 28,
   "metadata": {},
   "outputs": [
    {
     "name": "stdout",
     "output_type": "stream",
     "text": [
      "repressive SNPs, reps: ['rna_1', 'rna_2', 'rna_3', 'rna_4']\n",
      "...rna_1 pvals...\n",
      "199\n",
      "199\n",
      "...rna_2 pvals...\n",
      "199\n",
      "199\n",
      "...rna_3 pvals...\n",
      "199\n",
      "199\n",
      "...rna_4 pvals...\n",
      "199\n",
      "199\n",
      "[]\n"
     ]
    }
   ],
   "source": [
    "k562_pool2_repressive_snp_data = get_snp_results(k562_pool2_reps, k562_pool2_snp_map, k562_pool2_data, k562_pool2_pvals,\n",
    "                                                 min_barcodes, activ_alpha, active_l2fc_thresh, repr_l2fc_thresh, \n",
    "                                                 \"repressive\", \"POOL2\", 0)"
   ]
  },
  {
   "cell_type": "code",
   "execution_count": 29,
   "metadata": {},
   "outputs": [
    {
     "name": "stdout",
     "output_type": "stream",
     "text": [
      "repressive SNPs, reps: ['rna_3', 'rna_4', 'rna_5', 'rna_6', 'rna_7', 'rna_8', 'rna_9', 'rna_10', 'rna_11', 'rna_12', 'rna_13', 'rna_14']\n",
      "...rna_3 pvals...\n",
      "1783\n",
      "1783\n",
      "...rna_4 pvals...\n",
      "1783\n",
      "1783\n",
      "...rna_5 pvals...\n",
      "1783\n",
      "1783\n",
      "...rna_6 pvals...\n",
      "1783\n",
      "1783\n",
      "...rna_7 pvals...\n",
      "1783\n",
      "1783\n",
      "...rna_8 pvals...\n",
      "1783\n",
      "1783\n",
      "...rna_9 pvals...\n",
      "1783\n",
      "1783\n",
      "...rna_10 pvals...\n",
      "1783\n",
      "1783\n",
      "...rna_11 pvals...\n",
      "1783\n",
      "1783\n",
      "...rna_12 pvals...\n",
      "1783\n",
      "1783\n",
      "...rna_13 pvals...\n",
      "1783\n",
      "1783\n",
      "...rna_14 pvals...\n",
      "1783\n",
      "1783\n",
      "['samp_0_combined_padj', 'samp_1_combined_padj', 'samp_2_combined_padj', 'samp_3_combined_padj', 'samp_4_combined_padj', 'samp_5_combined_padj', 'samp_6_combined_padj', 'samp_7_combined_padj', 'samp_8_combined_padj', 'samp_9_combined_padj', 'samp_10_combined_padj', 'samp_11_combined_padj', 'samp_12_combined_padj', 'samp_13_combined_padj', 'samp_14_combined_padj', 'samp_15_combined_padj', 'samp_16_combined_padj', 'samp_17_combined_padj', 'samp_18_combined_padj', 'samp_19_combined_padj', 'samp_20_combined_padj', 'samp_21_combined_padj', 'samp_22_combined_padj', 'samp_23_combined_padj', 'samp_24_combined_padj', 'samp_25_combined_padj', 'samp_26_combined_padj', 'samp_27_combined_padj', 'samp_28_combined_padj', 'samp_29_combined_padj', 'samp_30_combined_padj', 'samp_31_combined_padj', 'samp_32_combined_padj', 'samp_33_combined_padj', 'samp_34_combined_padj', 'samp_35_combined_padj', 'samp_36_combined_padj', 'samp_37_combined_padj', 'samp_38_combined_padj', 'samp_39_combined_padj', 'samp_40_combined_padj', 'samp_41_combined_padj', 'samp_42_combined_padj', 'samp_43_combined_padj', 'samp_44_combined_padj', 'samp_45_combined_padj', 'samp_46_combined_padj', 'samp_47_combined_padj', 'samp_48_combined_padj', 'samp_49_combined_padj', 'samp_50_combined_padj', 'samp_51_combined_padj', 'samp_52_combined_padj', 'samp_53_combined_padj', 'samp_54_combined_padj', 'samp_55_combined_padj', 'samp_56_combined_padj', 'samp_57_combined_padj', 'samp_58_combined_padj', 'samp_59_combined_padj', 'samp_60_combined_padj', 'samp_61_combined_padj', 'samp_62_combined_padj', 'samp_63_combined_padj', 'samp_64_combined_padj', 'samp_65_combined_padj', 'samp_66_combined_padj', 'samp_67_combined_padj', 'samp_68_combined_padj', 'samp_69_combined_padj', 'samp_70_combined_padj', 'samp_71_combined_padj', 'samp_72_combined_padj', 'samp_73_combined_padj', 'samp_74_combined_padj', 'samp_75_combined_padj', 'samp_76_combined_padj', 'samp_77_combined_padj', 'samp_78_combined_padj', 'samp_79_combined_padj', 'samp_80_combined_padj', 'samp_81_combined_padj', 'samp_82_combined_padj', 'samp_83_combined_padj', 'samp_84_combined_padj', 'samp_85_combined_padj', 'samp_86_combined_padj', 'samp_87_combined_padj', 'samp_88_combined_padj', 'samp_89_combined_padj', 'samp_90_combined_padj', 'samp_91_combined_padj', 'samp_92_combined_padj', 'samp_93_combined_padj', 'samp_94_combined_padj', 'samp_95_combined_padj', 'samp_96_combined_padj', 'samp_97_combined_padj', 'samp_98_combined_padj', 'samp_99_combined_padj']\n"
     ]
    }
   ],
   "source": [
    "hepg2_pool1_repressive_snp_data = get_snp_results(hepg2_pool1_reps, hepg2_pool1_snp_map, hepg2_pool1_data, hepg2_pool1_pvals,\n",
    "                                                  min_barcodes, activ_alpha, active_l2fc_thresh, repr_l2fc_thresh, \n",
    "                                                  \"repressive\", \"POOL1\", n_samples)"
   ]
  },
  {
   "cell_type": "code",
   "execution_count": 30,
   "metadata": {},
   "outputs": [
    {
     "name": "stdout",
     "output_type": "stream",
     "text": [
      "repressive SNPs, reps: ['rna_3', 'rna_4', 'rna_5', 'rna_6', 'rna_7', 'rna_8', 'rna_9', 'rna_10']\n",
      "...rna_3 pvals...\n",
      "199\n",
      "199\n",
      "...rna_4 pvals...\n",
      "199\n",
      "199\n",
      "...rna_5 pvals...\n",
      "199\n",
      "199\n",
      "...rna_6 pvals...\n",
      "199\n",
      "199\n",
      "...rna_7 pvals...\n",
      "199\n",
      "199\n",
      "...rna_8 pvals...\n",
      "199\n",
      "199\n",
      "...rna_9 pvals...\n",
      "199\n",
      "199\n",
      "...rna_10 pvals...\n",
      "199\n",
      "199\n",
      "[]\n"
     ]
    }
   ],
   "source": [
    "hepg2_pool2_repressive_snp_data = get_snp_results(hepg2_pool2_reps, hepg2_pool2_snp_map, hepg2_pool2_data, hepg2_pool2_pvals,\n",
    "                                                  min_barcodes, activ_alpha, active_l2fc_thresh, repr_l2fc_thresh, \n",
    "                                                  \"repressive\", \"POOL2\", 0)"
   ]
  },
  {
   "cell_type": "markdown",
   "metadata": {},
   "source": [
    "### combine and find sig SNPs"
   ]
  },
  {
   "cell_type": "code",
   "execution_count": 31,
   "metadata": {
    "collapsed": true
   },
   "outputs": [],
   "source": [
    "hepg2_pool1_log2fc_cols = [x for x in hepg2_pool1_active_snp_data.columns if \"_l2fc\" in x and \"combined\" not in x]\n",
    "k562_pool1_log2fc_cols = [x for x in k562_pool1_active_snp_data.columns if \"_l2fc\" in x and \"combined\" not in x]\n",
    "hepg2_pool2_log2fc_cols = [x for x in hepg2_pool2_active_snp_data.columns if \"_l2fc\" in x and \"combined\" not in x]\n",
    "k562_pool2_log2fc_cols = [x for x in k562_pool2_active_snp_data.columns if \"_l2fc\" in x and \"combined\" not in x]"
   ]
  },
  {
   "cell_type": "code",
   "execution_count": 32,
   "metadata": {},
   "outputs": [
    {
     "data": {
      "text/plain": [
       "['rna_1_l2fc', 'rna_2_l2fc', 'rna_3_l2fc', 'rna_4_l2fc']"
      ]
     },
     "execution_count": 32,
     "metadata": {},
     "output_type": "execute_result"
    }
   ],
   "source": [
    "k562_pool1_log2fc_cols"
   ]
  },
  {
   "cell_type": "code",
   "execution_count": 33,
   "metadata": {
    "collapsed": true
   },
   "outputs": [],
   "source": [
    "# filter - require the same direction in at least 75% of non-na replicates\n",
    "def sig_status(row, col, thresh, l2fc_cols):\n",
    "    if \"NA\" in str(row[col]) or pd.isnull(row[col]):\n",
    "        return \"NA__too_many_rep_NAs\"\n",
    "    elif row[col] < thresh:\n",
    "        l2fcs = list(row[l2fc_cols])\n",
    "        neg = [x for x in l2fcs if x < 0]\n",
    "        pos = [x for x in l2fcs if x > 0]\n",
    "        perc_neg = len(neg)/float(len(neg)+len(pos))\n",
    "        perc_pos = len(pos)/float(len(neg)+len(pos))\n",
    "        if perc_neg > 0.75 or perc_pos > 0.75:\n",
    "            return \"sig\"\n",
    "        else:\n",
    "            return \"not sig\"\n",
    "    else:\n",
    "        return \"not sig\""
   ]
  },
  {
   "cell_type": "code",
   "execution_count": 34,
   "metadata": {},
   "outputs": [
    {
     "name": "stdout",
     "output_type": "stream",
     "text": [
      "0\n",
      "1\n",
      "2\n",
      "3\n"
     ]
    }
   ],
   "source": [
    "nums = [0, 1, 2, 3]\n",
    "active_dfs = [k562_pool1_active_snp_data, k562_pool2_active_snp_data, hepg2_pool1_active_snp_data, hepg2_pool2_active_snp_data]\n",
    "repressive_dfs = [k562_pool1_repressive_snp_data, k562_pool2_repressive_snp_data, hepg2_pool1_repressive_snp_data, hepg2_pool2_repressive_snp_data]\n",
    "all_reps = [k562_pool1_reps, k562_pool2_reps, hepg2_pool1_reps, hepg2_pool2_reps]\n",
    "all_rep_l2fcs = [k562_pool1_log2fc_cols, k562_pool2_log2fc_cols, hepg2_pool1_log2fc_cols, hepg2_pool2_log2fc_cols]\n",
    "\n",
    "for i, active_df, repressive_df, reps, rep_l2fcs in zip(nums, active_dfs, repressive_dfs, all_reps, all_rep_l2fcs):\n",
    "    print(i)\n",
    "    active_df[\"combined_sig\"] = active_df.apply(sig_status, col=\"combined_padj\", thresh=0.05, \n",
    "                                                l2fc_cols=rep_l2fcs, axis=1)\n",
    "    repressive_df[\"combined_sig\"] = repressive_df.apply(sig_status, col=\"combined_padj\", thresh=0.05, \n",
    "                                                        l2fc_cols=rep_l2fcs, axis=1)\n",
    "\n",
    "    for rep in reps:\n",
    "        active_df[\"%s_sig\" % rep] = active_df.apply(sig_status, col=\"%s_padj\" % rep, thresh=0.05, \n",
    "                                                    l2fc_cols=rep_l2fcs, axis=1)\n",
    "        repressive_df[\"%s_sig\" % rep] = repressive_df.apply(sig_status, col=\"%s_padj\" % rep, thresh=0.05, \n",
    "                                                            l2fc_cols=rep_l2fcs, axis=1)\n"
   ]
  },
  {
   "cell_type": "code",
   "execution_count": 35,
   "metadata": {},
   "outputs": [
    {
     "data": {
      "text/plain": [
       "not sig                 776\n",
       "NA__too_many_rep_NAs    718\n",
       "sig                     289\n",
       "Name: combined_sig, dtype: int64"
      ]
     },
     "execution_count": 35,
     "metadata": {},
     "output_type": "execute_result"
    }
   ],
   "source": [
    "hepg2_pool1_active_snp_data.combined_sig.value_counts()"
   ]
  },
  {
   "cell_type": "code",
   "execution_count": 36,
   "metadata": {},
   "outputs": [
    {
     "data": {
      "text/plain": [
       "not sig                 904\n",
       "NA__too_many_rep_NAs    718\n",
       "sig                     161\n",
       "Name: downsamp_sig, dtype: int64"
      ]
     },
     "execution_count": 36,
     "metadata": {},
     "output_type": "execute_result"
    }
   ],
   "source": [
    "hepg2_pool1_active_snp_data.downsamp_sig.value_counts()"
   ]
  },
  {
   "cell_type": "code",
   "execution_count": 37,
   "metadata": {},
   "outputs": [
    {
     "data": {
      "text/plain": [
       "NA__too_many_rep_NAs    1771\n",
       "not sig                   11\n",
       "sig                        1\n",
       "Name: combined_sig, dtype: int64"
      ]
     },
     "execution_count": 37,
     "metadata": {},
     "output_type": "execute_result"
    }
   ],
   "source": [
    "hepg2_pool1_repressive_snp_data.combined_sig.value_counts()"
   ]
  },
  {
   "cell_type": "markdown",
   "metadata": {},
   "source": [
    "## 5. make summary plot for snps (pool1 active only)"
   ]
  },
  {
   "cell_type": "code",
   "execution_count": 38,
   "metadata": {
    "collapsed": true
   },
   "outputs": [],
   "source": [
    "hepg2_pool1_active_snp_data[\"type\"] = hepg2_pool1_active_snp_data.apply(snp_type, col=\"combined_sig\", axis=1)\n",
    "k562_pool1_active_snp_data[\"type\"] = k562_pool1_active_snp_data.apply(snp_type, col=\"combined_sig\", axis=1)\n",
    "hepg2_pool2_active_snp_data[\"type\"] = hepg2_pool2_active_snp_data.apply(snp_type, col=\"combined_sig\", axis=1)\n",
    "k562_pool2_active_snp_data[\"type\"] = k562_pool2_active_snp_data.apply(snp_type, col=\"combined_sig\", axis=1)\n",
    "\n",
    "hepg2_pool1_active_snp_data[\"downsamp_type\"] = hepg2_pool1_active_snp_data.apply(snp_type, col=\"combined_sig\", axis=1)"
   ]
  },
  {
   "cell_type": "code",
   "execution_count": 39,
   "metadata": {
    "collapsed": true
   },
   "outputs": [],
   "source": [
    "palette = {\"not sig\": \"gray\", \"sig\": sns.color_palette()[2]}"
   ]
  },
  {
   "cell_type": "code",
   "execution_count": 42,
   "metadata": {},
   "outputs": [
    {
     "name": "stdout",
     "output_type": "stream",
     "text": [
      "HepG2\n",
      "not sig    645\n",
      "sig        186\n",
      "Name: combined_sig, dtype: int64\n"
     ]
    },
    {
     "data": {
      "image/png": "[encoded data removed]",
      "text/plain": [
       "<matplotlib.figure.Figure at 0x2b6f0d640ac8>"
      ]
     },
     "metadata": {},
     "output_type": "display_data"
    },
    {
     "name": "stdout",
     "output_type": "stream",
     "text": [
      "K562\n",
      "not sig    597\n",
      "sig         68\n",
      "Name: combined_sig, dtype: int64\n"
     ]
    },
    {
     "data": {
      "image/png": "[encoded data removed]",
      "text/plain": [
       "<matplotlib.figure.Figure at 0x2b6f09c7ab38>"
      ]
     },
     "metadata": {},
     "output_type": "display_data"
    }
   ],
   "source": [
    "for active_snp_data, cell in zip([hepg2_pool1_active_snp_data, k562_pool1_active_snp_data], [\"HepG2\", \"K562\"]):\n",
    "    print(cell)\n",
    "    snp_data = active_snp_data[(~active_snp_data[\"combined_sig\"].str.contains(\"NA\")) &\n",
    "                           (~active_snp_data[\"unique_id\"].str.contains(\"CONTROL\")) &\n",
    "                           (~active_snp_data[\"unique_id\"].str.contains(\"HAPLO\"))].copy()\n",
    "    snp_data[\"combined_neg_log_pval\"] = -np.log10(snp_data[\"combined_pval\"].astype(float))\n",
    "    print(snp_data.combined_sig.value_counts())\n",
    "    g = sns.lmplot(data=snp_data, x=\"combined_l2fc\", y=\"combined_neg_log_pval\", hue=\"combined_sig\", fit_reg=False,\n",
    "                   palette=palette, size=2.2, scatter_kws={\"s\": 25})\n",
    "    g.set_axis_labels(\"SNP log2(alt/ref)\", \"-log10(p-value)\")\n",
    "    plt.show()\n",
    "    plt.close()\n",
    "    g.savefig(\"Fig_S19_%s.pdf\" % cell, dpi=\"figure\", bbox_inches=\"tight\")"
   ]
  },
  {
   "cell_type": "markdown",
   "metadata": {},
   "source": [
    "## 6. make control snp plots (in pool 1)"
   ]
  },
  {
   "cell_type": "code",
   "execution_count": 43,
   "metadata": {},
   "outputs": [
    {
     "name": "stdout",
     "output_type": "stream",
     "text": [
      "1783\n",
      "1783\n",
      "1783\n",
      "1783\n"
     ]
    }
   ],
   "source": [
    "hepg2_pool1_active_snp_data = hepg2_pool1_active_snp_data.merge(pool1_index_elem[[\"unique_id\", \"SNP\"]], \n",
    "                                                                on=\"unique_id\", how=\"left\")\n",
    "k562_pool1_active_snp_data = k562_pool1_active_snp_data.merge(pool1_index_elem[[\"unique_id\", \"SNP\"]], \n",
    "                                                              on=\"unique_id\", how=\"left\")\n",
    "print(len(hepg2_pool1_active_snp_data))\n",
    "print(len(k562_pool1_active_snp_data))\n",
    "\n",
    "hepg2_pool1_repressive_snp_data = hepg2_pool1_repressive_snp_data.merge(pool1_index_elem[[\"unique_id\", \"SNP\"]], \n",
    "                                                                        on=\"unique_id\", how=\"left\")\n",
    "k562_pool1_repressive_snp_data = k562_pool1_repressive_snp_data.merge(pool1_index_elem[[\"unique_id\", \"SNP\"]], \n",
    "                                                                        on=\"unique_id\", how=\"left\")\n",
    "print(len(hepg2_pool1_repressive_snp_data))\n",
    "print(len(k562_pool1_repressive_snp_data))"
   ]
  },
  {
   "cell_type": "code",
   "execution_count": 44,
   "metadata": {
    "collapsed": true
   },
   "outputs": [],
   "source": [
    "hepg2_pool1_active_sig_data = hepg2_pool1_active_snp_data[hepg2_pool1_active_snp_data[\"combined_sig\"] == \"sig\"]\n",
    "hepg2_pool1_repressive_sig_data = hepg2_pool1_repressive_snp_data[hepg2_pool1_repressive_snp_data[\"combined_sig\"] == \"sig\"]\n",
    "\n",
    "k562_pool1_active_sig_data = k562_pool1_active_snp_data[k562_pool1_active_snp_data[\"combined_sig\"] == \"sig\"]\n",
    "k562_pool1_repressive_sig_data = k562_pool1_repressive_snp_data[k562_pool1_repressive_snp_data[\"combined_sig\"] == \"sig\"]"
   ]
  },
  {
   "cell_type": "code",
   "execution_count": 45,
   "metadata": {
    "collapsed": true
   },
   "outputs": [],
   "source": [
    "hepg2_pool1_snp_data_all = hepg2_pool1_active_snp_data.append(hepg2_pool1_repressive_snp_data)\n",
    "hepg2_pool1_ctrl_data_all = hepg2_pool1_snp_data_all[hepg2_pool1_snp_data_all[\"wt_id\"].str.contains(\"CONTROL\")]\n",
    "hepg2_pool1_ctrl_data_all_grp = hepg2_pool1_ctrl_data_all.groupby([\"unique_id\", \"wt_id\", \"SNP\"])[\"combined_sig\"].apply(list).reset_index()\n",
    "\n",
    "k562_pool1_snp_data_all = k562_pool1_active_snp_data.append(k562_pool1_repressive_snp_data)\n",
    "k562_pool1_ctrl_data_all = k562_pool1_snp_data_all[k562_pool1_snp_data_all[\"wt_id\"].str.contains(\"CONTROL\")]\n",
    "k562_pool1_ctrl_data_all_grp = k562_pool1_ctrl_data_all.groupby([\"unique_id\", \"wt_id\", \"SNP\"])[\"combined_sig\"].apply(list).reset_index()"
   ]
  },
  {
   "cell_type": "code",
   "execution_count": 46,
   "metadata": {},
   "outputs": [
    {
     "name": "stdout",
     "output_type": "stream",
     "text": [
      "18\n",
      "18\n"
     ]
    }
   ],
   "source": [
    "hepg2_pool1_ctrl_snps = hepg2_pool1_active_snp_data[hepg2_pool1_active_snp_data[\"unique_id\"].str.contains(\"CONTROL\")]\n",
    "k562_pool1_ctrl_snps = k562_pool1_active_snp_data[k562_pool1_active_snp_data[\"unique_id\"].str.contains(\"CONTROL\")]\n",
    "\n",
    "print(len(hepg2_pool1_ctrl_snps))\n",
    "print(len(k562_pool1_ctrl_snps))"
   ]
  },
  {
   "cell_type": "code",
   "execution_count": 47,
   "metadata": {
    "collapsed": true
   },
   "outputs": [],
   "source": [
    "hepg2_pool1_ctrl_snps_filt = hepg2_pool1_ctrl_snps[~hepg2_pool1_ctrl_snps[\"combined_sig\"].str.contains(\"NA\")]\n",
    "k562_pool1_ctrl_snps_filt = k562_pool1_ctrl_snps[~k562_pool1_ctrl_snps[\"combined_sig\"].str.contains(\"NA\")]"
   ]
  },
  {
   "cell_type": "code",
   "execution_count": 48,
   "metadata": {
    "collapsed": true
   },
   "outputs": [],
   "source": [
    "hepg2_pool1_data[\"wt_or_snp\"] = hepg2_pool1_data.apply(wt_or_snp, axis=1)\n",
    "k562_pool1_data[\"wt_or_snp\"] = k562_pool1_data.apply(wt_or_snp, axis=1)"
   ]
  },
  {
   "cell_type": "code",
   "execution_count": 49,
   "metadata": {},
   "outputs": [
    {
     "name": "stdout",
     "output_type": "stream",
     "text": [
      "HepG2\n"
     ]
    },
    {
     "data": {
      "image/png": "[encoded data removed]",
      "text/plain": [
       "<matplotlib.figure.Figure at 0x2b6f0ef9e0b8>"
      ]
     },
     "metadata": {},
     "output_type": "display_data"
    }
   ],
   "source": [
    "print(\"HepG2\")\n",
    "paired_swarmplots_w_pval(7, 4, (7.2, 10), hepg2_pool1_ctrl_snps_filt, hepg2_pool1_data, fontsize, \".\", \"Fig_S16_1\", \n",
    "                         True)"
   ]
  },
  {
   "cell_type": "code",
   "execution_count": 50,
   "metadata": {},
   "outputs": [
    {
     "name": "stdout",
     "output_type": "stream",
     "text": [
      "K562\n"
     ]
    },
    {
     "data": {
      "image/png": "[encoded data removed]",
      "text/plain": [
       "<matplotlib.figure.Figure at 0x2b6f09dcaf60>"
      ]
     },
     "metadata": {},
     "output_type": "display_data"
    }
   ],
   "source": [
    "print(\"K562\")\n",
    "paired_swarmplots_w_pval(7, 4, (7.2, 10), k562_pool1_ctrl_snps_filt, k562_pool1_data, fontsize, \".\", \"Fig_S16_2\", \n",
    "                         True)"
   ]
  },
  {
   "cell_type": "markdown",
   "metadata": {},
   "source": [
    "## 7. make GWAS SNP plots"
   ]
  },
  {
   "cell_type": "code",
   "execution_count": 51,
   "metadata": {
    "collapsed": true
   },
   "outputs": [],
   "source": [
    "hepg2_pool1_gwas = hepg2_pool1_active_sig_data[hepg2_pool1_active_sig_data[\"SNP\"].isin([\"rs3101018\", \"rs3785098\", \"rs4456788\"])]\n",
    "k562_pool1_gwas = k562_pool1_active_sig_data[k562_pool1_active_sig_data[\"SNP\"].isin([\"rs3101018\", \"rs3785098\", \"rs4456788\"])]"
   ]
  },
  {
   "cell_type": "code",
   "execution_count": 52,
   "metadata": {},
   "outputs": [
    {
     "name": "stdout",
     "output_type": "stream",
     "text": [
      "HepG2\n"
     ]
    },
    {
     "data": {
      "image/png": "[encoded data removed]",
      "text/plain": [
       "<matplotlib.figure.Figure at 0x2b6f0a3b2a58>"
      ]
     },
     "metadata": {},
     "output_type": "display_data"
    }
   ],
   "source": [
    "print(\"HepG2\")\n",
    "paired_swarmplots_w_pval(1, 3, (4.5, 2), hepg2_pool1_gwas, hepg2_pool1_data, fontsize, \".\", \"Fig_S22_1\", True)"
   ]
  },
  {
   "cell_type": "code",
   "execution_count": 53,
   "metadata": {},
   "outputs": [
    {
     "name": "stdout",
     "output_type": "stream",
     "text": [
      "K562\n"
     ]
    },
    {
     "data": {
      "image/png": "[encoded data removed]",
      "text/plain": [
       "<matplotlib.figure.Figure at 0x2b6f0a862128>"
      ]
     },
     "metadata": {},
     "output_type": "display_data"
    }
   ],
   "source": [
    "print(\"K562\")\n",
    "paired_swarmplots_w_pval(1, 3, (4.5, 2), k562_pool1_gwas, k562_pool1_data, fontsize, \".\", \"Fig_S22_2\", True)"
   ]
  },
  {
   "cell_type": "markdown",
   "metadata": {},
   "source": [
    "## 8. write files"
   ]
  },
  {
   "cell_type": "code",
   "execution_count": 54,
   "metadata": {
    "collapsed": true
   },
   "outputs": [],
   "source": [
    "out_dir = \"../../data/07__snps\""
   ]
  },
  {
   "cell_type": "code",
   "execution_count": 55,
   "metadata": {
    "collapsed": true
   },
   "outputs": [],
   "source": [
    "hepg2_pool2_active_snp_data = hepg2_pool2_active_snp_data.merge(pool2_index_elem[[\"unique_id\", \"SNP\"]], \n",
    "                                                                on=\"unique_id\", how=\"left\")\n",
    "k562_pool2_active_snp_data = k562_pool2_active_snp_data.merge(pool2_index_elem[[\"unique_id\", \"SNP\"]], \n",
    "                                                              on=\"unique_id\", how=\"left\")\n",
    "\n",
    "hepg2_pool2_repressive_snp_data = hepg2_pool2_repressive_snp_data.merge(pool2_index_elem[[\"unique_id\", \"SNP\"]], \n",
    "                                                                        on=\"unique_id\", how=\"left\")\n",
    "k562_pool2_repressive_snp_data = k562_pool2_repressive_snp_data.merge(pool2_index_elem[[\"unique_id\", \"SNP\"]], \n",
    "                                                                      on=\"unique_id\", how=\"left\")"
   ]
  },
  {
   "cell_type": "code",
   "execution_count": 56,
   "metadata": {
    "collapsed": true
   },
   "outputs": [],
   "source": [
    "active_dfs = [k562_pool1_active_snp_data, k562_pool2_active_snp_data, hepg2_pool1_active_snp_data, hepg2_pool2_active_snp_data]\n",
    "repressive_dfs = [k562_pool1_repressive_snp_data, k562_pool2_repressive_snp_data, hepg2_pool1_repressive_snp_data, hepg2_pool2_repressive_snp_data]\n",
    "all_reps = [k562_pool1_reps, k562_pool2_reps, hepg2_pool1_reps, hepg2_pool2_reps]\n",
    "cells = [\"K562\", \"K562\", \"HepG2\", \"HepG2\"]\n",
    "pools = [\"POOL1\", \"POOL2\", \"POOL1\", \"POOL2\"]"
   ]
  },
  {
   "cell_type": "code",
   "execution_count": 57,
   "metadata": {},
   "outputs": [
    {
     "name": "stdout",
     "output_type": "stream",
     "text": [
      "K562 POOL1\n",
      "K562 POOL2\n",
      "HepG2 POOL1\n",
      "HepG2 POOL2\n"
     ]
    }
   ],
   "source": [
    "for active_df, repressive_df, reps, cell, pool in zip(active_dfs, repressive_dfs, all_reps, cells, pools):\n",
    "    print(\"%s %s\" % (cell, pool))\n",
    "    col_order = [\"unique_id\", \"wt_id\", \"SNP\"]\n",
    "    wt_meds = [x + \"_wt_med\" for x in reps]\n",
    "    wt_meds.extend([\"combined_wt_med\"])\n",
    "    snp_meds = [x + \"_snp_med\" for x in reps]\n",
    "    snp_meds.extend([\"combined_snp_med\"])\n",
    "    l2fcs = [x + \"_l2fc\" for x in reps]\n",
    "    l2fcs.extend([\"combined_l2fc\"])\n",
    "    pvals = [x + \"_pval\" for x in reps]\n",
    "    pvals.extend([\"combined_pval\"])\n",
    "    padjs = [x + \"_padj\" for x in reps]\n",
    "    padjs.extend([\"combined_padj\"])\n",
    "    sigs = [x + \"_sig\" for x in reps]\n",
    "    sigs.extend([\"combined_sig\"])\n",
    "    if cell == \"HepG2\" and pool == \"POOL1\":\n",
    "        sigs.extend([\"downsamp_sig\"])\n",
    "    \n",
    "    col_order.extend(wt_meds)\n",
    "    col_order.extend(snp_meds)\n",
    "    col_order.extend(l2fcs)\n",
    "    col_order.extend(pvals)\n",
    "    col_order.extend(padjs)\n",
    "    col_order.extend(sigs)\n",
    "    \n",
    "    active_df = active_df[col_order]\n",
    "    repressive_df = repressive_df[col_order]\n",
    "    \n",
    "    active_f = \"%s/%s__%s_active_snp_results.txt\" % (out_dir, cell, pool)\n",
    "    repressive_f = \"%s/%s__%s_repressive_snp_results.txt\" % (out_dir, cell, pool)\n",
    "    \n",
    "    active_df.to_csv(active_f, sep=\"\\t\", index=False)\n",
    "    repressive_df.to_csv(repressive_f, sep=\"\\t\", index=False)"
   ]
  },
  {
   "cell_type": "markdown",
   "metadata": {},
   "source": [
    "## 9. create nicer table for supplement"
   ]
  },
  {
   "cell_type": "code",
   "execution_count": 74,
   "metadata": {},
   "outputs": [
    {
     "name": "stdout",
     "output_type": "stream",
     "text": [
      "1783\n"
     ]
    },
    {
     "data": {
      "text/html": [
       "<div>\n",
       "<style>\n",
       "    .dataframe thead tr:only-child th {\n",
       "        text-align: right;\n",
       "    }\n",
       "\n",
       "    .dataframe thead th {\n",
       "        text-align: left;\n",
       "    }\n",
       "\n",
       "    .dataframe tbody tr th {\n",
       "        vertical-align: top;\n",
       "    }\n",
       "</style>\n",
       "<table border=\"1\" class=\"dataframe\">\n",
       "  <thead>\n",
       "    <tr style=\"text-align: right;\">\n",
       "      <th></th>\n",
       "      <th>SNP</th>\n",
       "      <th>unique_id</th>\n",
       "      <th>HepG2_ref_activ</th>\n",
       "      <th>HepG2_alt_activ</th>\n",
       "      <th>HepG2_effect_size</th>\n",
       "      <th>HepG2_padj</th>\n",
       "      <th>HepG2_sig_status</th>\n",
       "      <th>HepG2_downsampled_sig_status</th>\n",
       "    </tr>\n",
       "  </thead>\n",
       "  <tbody>\n",
       "    <tr>\n",
       "      <th>464</th>\n",
       "      <td>rs17278</td>\n",
       "      <td>WILDTYPE_SNP_INDIV__Lincrna.noflip.NA__chr7:14...</td>\n",
       "      <td>-0.433504</td>\n",
       "      <td>-0.425978</td>\n",
       "      <td>0.007526</td>\n",
       "      <td>1.000000e+00</td>\n",
       "      <td>not sig</td>\n",
       "      <td>not sig</td>\n",
       "    </tr>\n",
       "    <tr>\n",
       "      <th>1731</th>\n",
       "      <td>rs9270891</td>\n",
       "      <td>WILDTYPE_SNP_INDIV__Enhancer.noflip.NA__chr6:3...</td>\n",
       "      <td>0.077001</td>\n",
       "      <td>-0.012688</td>\n",
       "      <td>-0.089689</td>\n",
       "      <td>1.000000e+00</td>\n",
       "      <td>not sig</td>\n",
       "      <td>not sig</td>\n",
       "    </tr>\n",
       "    <tr>\n",
       "      <th>462</th>\n",
       "      <td>rs61729643</td>\n",
       "      <td>WILDTYPE_SNP_INDIV__Antisense.noflip.NA__chr7:...</td>\n",
       "      <td>-1.185248</td>\n",
       "      <td>-1.232303</td>\n",
       "      <td>-0.047054</td>\n",
       "      <td>NaN</td>\n",
       "      <td>NaN</td>\n",
       "      <td>NaN</td>\n",
       "    </tr>\n",
       "    <tr>\n",
       "      <th>1123</th>\n",
       "      <td>rs59618845</td>\n",
       "      <td>WILDTYPE_SNP_INDIV__mrna.noflip.NA__chr21:4055...</td>\n",
       "      <td>-0.061972</td>\n",
       "      <td>0.282412</td>\n",
       "      <td>0.344384</td>\n",
       "      <td>NaN</td>\n",
       "      <td>NaN</td>\n",
       "      <td>NaN</td>\n",
       "    </tr>\n",
       "    <tr>\n",
       "      <th>643</th>\n",
       "      <td>rs539723</td>\n",
       "      <td>WILDTYPE_SNP_INDIV__mrna.flip.sense__chr1:1761...</td>\n",
       "      <td>1.821770</td>\n",
       "      <td>2.097641</td>\n",
       "      <td>0.275872</td>\n",
       "      <td>1.219668e-07</td>\n",
       "      <td>sig</td>\n",
       "      <td>not sig</td>\n",
       "    </tr>\n",
       "  </tbody>\n",
       "</table>\n",
       "</div>"
      ],
      "text/plain": [
       "             SNP                                          unique_id  \\\n",
       "464      rs17278  WILDTYPE_SNP_INDIV__Lincrna.noflip.NA__chr7:14...   \n",
       "1731   rs9270891  WILDTYPE_SNP_INDIV__Enhancer.noflip.NA__chr6:3...   \n",
       "462   rs61729643  WILDTYPE_SNP_INDIV__Antisense.noflip.NA__chr7:...   \n",
       "1123  rs59618845  WILDTYPE_SNP_INDIV__mrna.noflip.NA__chr21:4055...   \n",
       "643     rs539723  WILDTYPE_SNP_INDIV__mrna.flip.sense__chr1:1761...   \n",
       "\n",
       "      HepG2_ref_activ  HepG2_alt_activ  HepG2_effect_size    HepG2_padj  \\\n",
       "464         -0.433504        -0.425978           0.007526  1.000000e+00   \n",
       "1731         0.077001        -0.012688          -0.089689  1.000000e+00   \n",
       "462         -1.185248        -1.232303          -0.047054           NaN   \n",
       "1123        -0.061972         0.282412           0.344384           NaN   \n",
       "643          1.821770         2.097641           0.275872  1.219668e-07   \n",
       "\n",
       "     HepG2_sig_status HepG2_downsampled_sig_status  \n",
       "464           not sig                      not sig  \n",
       "1731          not sig                      not sig  \n",
       "462               NaN                          NaN  \n",
       "1123              NaN                          NaN  \n",
       "643               sig                      not sig  "
      ]
     },
     "execution_count": 74,
     "metadata": {},
     "output_type": "execute_result"
    }
   ],
   "source": [
    "hepg2_supp = hepg2_pool1_active_snp_data[[\"SNP\", \"unique_id\", \"combined_wt_med\", \"combined_snp_med\", \"combined_l2fc\",\n",
    "                                          \"combined_padj\", \"combined_sig\", \"downsamp_sig\"]]\n",
    "hepg2_supp.columns = [\"SNP\", \"unique_id\", \"HepG2_ref_activ\", \"HepG2_alt_activ\", \"HepG2_effect_size\", \"HepG2_padj\", \n",
    "                      \"HepG2_sig_status\", \"HepG2_downsampled_sig_status\"]\n",
    "hepg2_supp.replace(\"NA__too_many_rep_NAs\", np.nan, inplace=True)\n",
    "print(len(hepg2_supp))\n",
    "hepg2_supp.sample(5)"
   ]
  },
  {
   "cell_type": "code",
   "execution_count": 75,
   "metadata": {},
   "outputs": [
    {
     "name": "stdout",
     "output_type": "stream",
     "text": [
      "1783\n"
     ]
    },
    {
     "data": {
      "text/html": [
       "<div>\n",
       "<style>\n",
       "    .dataframe thead tr:only-child th {\n",
       "        text-align: right;\n",
       "    }\n",
       "\n",
       "    .dataframe thead th {\n",
       "        text-align: left;\n",
       "    }\n",
       "\n",
       "    .dataframe tbody tr th {\n",
       "        vertical-align: top;\n",
       "    }\n",
       "</style>\n",
       "<table border=\"1\" class=\"dataframe\">\n",
       "  <thead>\n",
       "    <tr style=\"text-align: right;\">\n",
       "      <th></th>\n",
       "      <th>SNP</th>\n",
       "      <th>unique_id</th>\n",
       "      <th>K562_ref_activ</th>\n",
       "      <th>K562_alt_activ</th>\n",
       "      <th>K562_effect_size</th>\n",
       "      <th>K562_padj</th>\n",
       "      <th>K562_sig_status</th>\n",
       "    </tr>\n",
       "  </thead>\n",
       "  <tbody>\n",
       "    <tr>\n",
       "      <th>954</th>\n",
       "      <td>rs28366055</td>\n",
       "      <td>WILDTYPE_SNP_INDIV__mrna.noflip.NA__chr15:6344...</td>\n",
       "      <td>2.900351</td>\n",
       "      <td>2.932162</td>\n",
       "      <td>0.031811</td>\n",
       "      <td>1.0</td>\n",
       "      <td>not sig</td>\n",
       "    </tr>\n",
       "    <tr>\n",
       "      <th>759</th>\n",
       "      <td>rs11772456</td>\n",
       "      <td>WILDTYPE_SNP_INDIV__mrna.noflip.NA__chr7:73256...</td>\n",
       "      <td>1.101819</td>\n",
       "      <td>1.150279</td>\n",
       "      <td>0.048460</td>\n",
       "      <td>1.0</td>\n",
       "      <td>not sig</td>\n",
       "    </tr>\n",
       "    <tr>\n",
       "      <th>806</th>\n",
       "      <td>rs141394498</td>\n",
       "      <td>WILDTYPE_SNP_INDIV__mrna.noflip.NA__chr10:1162...</td>\n",
       "      <td>-1.588257</td>\n",
       "      <td>-1.944228</td>\n",
       "      <td>-0.355971</td>\n",
       "      <td>NaN</td>\n",
       "      <td>NaN</td>\n",
       "    </tr>\n",
       "    <tr>\n",
       "      <th>140</th>\n",
       "      <td>rs10083027</td>\n",
       "      <td>WILDTYPE_SNP_INDIV__Lincrna.noflip.NA__chr12:6...</td>\n",
       "      <td>-2.466887</td>\n",
       "      <td>-1.985074</td>\n",
       "      <td>0.481813</td>\n",
       "      <td>NaN</td>\n",
       "      <td>NaN</td>\n",
       "    </tr>\n",
       "    <tr>\n",
       "      <th>822</th>\n",
       "      <td>rs114491252</td>\n",
       "      <td>WILDTYPE_SNP_INDIV__mrna.noflip.NA__chr1:18360...</td>\n",
       "      <td>-1.615438</td>\n",
       "      <td>-0.691323</td>\n",
       "      <td>0.924114</td>\n",
       "      <td>NaN</td>\n",
       "      <td>NaN</td>\n",
       "    </tr>\n",
       "  </tbody>\n",
       "</table>\n",
       "</div>"
      ],
      "text/plain": [
       "             SNP                                          unique_id  \\\n",
       "954   rs28366055  WILDTYPE_SNP_INDIV__mrna.noflip.NA__chr15:6344...   \n",
       "759   rs11772456  WILDTYPE_SNP_INDIV__mrna.noflip.NA__chr7:73256...   \n",
       "806  rs141394498  WILDTYPE_SNP_INDIV__mrna.noflip.NA__chr10:1162...   \n",
       "140   rs10083027  WILDTYPE_SNP_INDIV__Lincrna.noflip.NA__chr12:6...   \n",
       "822  rs114491252  WILDTYPE_SNP_INDIV__mrna.noflip.NA__chr1:18360...   \n",
       "\n",
       "     K562_ref_activ  K562_alt_activ  K562_effect_size  K562_padj  \\\n",
       "954        2.900351        2.932162          0.031811        1.0   \n",
       "759        1.101819        1.150279          0.048460        1.0   \n",
       "806       -1.588257       -1.944228         -0.355971        NaN   \n",
       "140       -2.466887       -1.985074          0.481813        NaN   \n",
       "822       -1.615438       -0.691323          0.924114        NaN   \n",
       "\n",
       "    K562_sig_status  \n",
       "954         not sig  \n",
       "759         not sig  \n",
       "806             NaN  \n",
       "140             NaN  \n",
       "822             NaN  "
      ]
     },
     "execution_count": 75,
     "metadata": {},
     "output_type": "execute_result"
    }
   ],
   "source": [
    "k562_supp = k562_pool1_active_snp_data[[\"SNP\", \"unique_id\", \"combined_wt_med\", \"combined_snp_med\", \"combined_l2fc\",\n",
    "                                        \"combined_padj\", \"combined_sig\"]]\n",
    "k562_supp.columns = [\"SNP\", \"unique_id\", \"K562_ref_activ\", \"K562_alt_activ\", \"K562_effect_size\", \"K562_padj\", \n",
    "                     \"K562_sig_status\"]\n",
    "k562_supp.replace(\"NA__too_many_rep_NAs\", np.nan, inplace=True)\n",
    "print(len(k562_supp))\n",
    "k562_supp.sample(5)"
   ]
  },
  {
   "cell_type": "code",
   "execution_count": 76,
   "metadata": {},
   "outputs": [
    {
     "name": "stdout",
     "output_type": "stream",
     "text": [
      "1783\n"
     ]
    },
    {
     "data": {
      "text/html": [
       "<div>\n",
       "<style>\n",
       "    .dataframe thead tr:only-child th {\n",
       "        text-align: right;\n",
       "    }\n",
       "\n",
       "    .dataframe thead th {\n",
       "        text-align: left;\n",
       "    }\n",
       "\n",
       "    .dataframe tbody tr th {\n",
       "        vertical-align: top;\n",
       "    }\n",
       "</style>\n",
       "<table border=\"1\" class=\"dataframe\">\n",
       "  <thead>\n",
       "    <tr style=\"text-align: right;\">\n",
       "      <th></th>\n",
       "      <th>SNP</th>\n",
       "      <th>unique_id</th>\n",
       "      <th>HepG2_ref_activ</th>\n",
       "      <th>HepG2_alt_activ</th>\n",
       "      <th>HepG2_effect_size</th>\n",
       "      <th>HepG2_padj</th>\n",
       "      <th>HepG2_sig_status</th>\n",
       "      <th>HepG2_downsampled_sig_status</th>\n",
       "      <th>K562_ref_activ</th>\n",
       "      <th>K562_alt_activ</th>\n",
       "      <th>K562_effect_size</th>\n",
       "      <th>K562_padj</th>\n",
       "      <th>K562_sig_status</th>\n",
       "    </tr>\n",
       "  </thead>\n",
       "  <tbody>\n",
       "    <tr>\n",
       "      <th>700</th>\n",
       "      <td>rs2709289</td>\n",
       "      <td>WILDTYPE_SNP_INDIV__mrna.flip.sense__chr7:5482...</td>\n",
       "      <td>3.703660</td>\n",
       "      <td>3.310172</td>\n",
       "      <td>-0.393488</td>\n",
       "      <td>4.921419e-03</td>\n",
       "      <td>sig</td>\n",
       "      <td>not sig</td>\n",
       "      <td>3.117838</td>\n",
       "      <td>2.606428</td>\n",
       "      <td>-0.511410</td>\n",
       "      <td>2.145487e-01</td>\n",
       "      <td>not sig</td>\n",
       "    </tr>\n",
       "    <tr>\n",
       "      <th>1231</th>\n",
       "      <td>rs62392956</td>\n",
       "      <td>WILDTYPE_SNP_INDIV__mrna.noflip.NA__chr6:29648...</td>\n",
       "      <td>0.909058</td>\n",
       "      <td>1.072548</td>\n",
       "      <td>0.163490</td>\n",
       "      <td>NaN</td>\n",
       "      <td>NaN</td>\n",
       "      <td>NaN</td>\n",
       "      <td>1.341659</td>\n",
       "      <td>1.437912</td>\n",
       "      <td>0.096253</td>\n",
       "      <td>NaN</td>\n",
       "      <td>NaN</td>\n",
       "    </tr>\n",
       "    <tr>\n",
       "      <th>253</th>\n",
       "      <td>rs114442478,rs10210586</td>\n",
       "      <td>WILDTYPE_SNP_PLUS_HAPLO__Antisense.noflip.NA__...</td>\n",
       "      <td>2.519184</td>\n",
       "      <td>2.195249</td>\n",
       "      <td>-0.323935</td>\n",
       "      <td>5.701382e-08</td>\n",
       "      <td>sig</td>\n",
       "      <td>not sig</td>\n",
       "      <td>2.177344</td>\n",
       "      <td>2.034777</td>\n",
       "      <td>-0.142567</td>\n",
       "      <td>1.000000e+00</td>\n",
       "      <td>not sig</td>\n",
       "    </tr>\n",
       "    <tr>\n",
       "      <th>873</th>\n",
       "      <td>rs2074038</td>\n",
       "      <td>WILDTYPE_SNP_INDIV__mrna.noflip.NA__chr11:4408...</td>\n",
       "      <td>0.443732</td>\n",
       "      <td>1.495436</td>\n",
       "      <td>1.051704</td>\n",
       "      <td>1.804997e-47</td>\n",
       "      <td>sig</td>\n",
       "      <td>sig</td>\n",
       "      <td>-0.663571</td>\n",
       "      <td>1.906792</td>\n",
       "      <td>2.570364</td>\n",
       "      <td>1.186220e-12</td>\n",
       "      <td>sig</td>\n",
       "    </tr>\n",
       "    <tr>\n",
       "      <th>150</th>\n",
       "      <td>rs2765081</td>\n",
       "      <td>WILDTYPE_SNP_INDIV__Antisense.flip.sense__chr1...</td>\n",
       "      <td>3.545547</td>\n",
       "      <td>3.443140</td>\n",
       "      <td>-0.102408</td>\n",
       "      <td>1.000000e+00</td>\n",
       "      <td>not sig</td>\n",
       "      <td>not sig</td>\n",
       "      <td>2.995945</td>\n",
       "      <td>2.930392</td>\n",
       "      <td>-0.065553</td>\n",
       "      <td>1.000000e+00</td>\n",
       "      <td>not sig</td>\n",
       "    </tr>\n",
       "  </tbody>\n",
       "</table>\n",
       "</div>"
      ],
      "text/plain": [
       "                         SNP  \\\n",
       "700                rs2709289   \n",
       "1231              rs62392956   \n",
       "253   rs114442478,rs10210586   \n",
       "873                rs2074038   \n",
       "150                rs2765081   \n",
       "\n",
       "                                              unique_id  HepG2_ref_activ  \\\n",
       "700   WILDTYPE_SNP_INDIV__mrna.flip.sense__chr7:5482...         3.703660   \n",
       "1231  WILDTYPE_SNP_INDIV__mrna.noflip.NA__chr6:29648...         0.909058   \n",
       "253   WILDTYPE_SNP_PLUS_HAPLO__Antisense.noflip.NA__...         2.519184   \n",
       "873   WILDTYPE_SNP_INDIV__mrna.noflip.NA__chr11:4408...         0.443732   \n",
       "150   WILDTYPE_SNP_INDIV__Antisense.flip.sense__chr1...         3.545547   \n",
       "\n",
       "      HepG2_alt_activ  HepG2_effect_size    HepG2_padj HepG2_sig_status  \\\n",
       "700          3.310172          -0.393488  4.921419e-03              sig   \n",
       "1231         1.072548           0.163490           NaN              NaN   \n",
       "253          2.195249          -0.323935  5.701382e-08              sig   \n",
       "873          1.495436           1.051704  1.804997e-47              sig   \n",
       "150          3.443140          -0.102408  1.000000e+00          not sig   \n",
       "\n",
       "     HepG2_downsampled_sig_status  K562_ref_activ  K562_alt_activ  \\\n",
       "700                       not sig        3.117838        2.606428   \n",
       "1231                          NaN        1.341659        1.437912   \n",
       "253                       not sig        2.177344        2.034777   \n",
       "873                           sig       -0.663571        1.906792   \n",
       "150                       not sig        2.995945        2.930392   \n",
       "\n",
       "      K562_effect_size     K562_padj K562_sig_status  \n",
       "700          -0.511410  2.145487e-01         not sig  \n",
       "1231          0.096253           NaN             NaN  \n",
       "253          -0.142567  1.000000e+00         not sig  \n",
       "873           2.570364  1.186220e-12             sig  \n",
       "150          -0.065553  1.000000e+00         not sig  "
      ]
     },
     "execution_count": 76,
     "metadata": {},
     "output_type": "execute_result"
    }
   ],
   "source": [
    "supp_table_s7 = hepg2_supp.merge(k562_supp, on=[\"SNP\", \"unique_id\"]).drop_duplicates()\n",
    "print(len(supp_table_s7))\n",
    "supp_table_s7.sample(5)"
   ]
  },
  {
   "cell_type": "code",
   "execution_count": 77,
   "metadata": {},
   "outputs": [],
   "source": [
    "supp_table_s7.to_csv(\"%s/Supplemental_Table_S7.txt\" % out_dir, sep=\"\\t\", index=False)"
   ]
  },
  {
   "cell_type": "markdown",
   "metadata": {},
   "source": [
    "## 10. correlate SNPs with fimo motif predictions"
   ]
  },
  {
   "cell_type": "code",
   "execution_count": 90,
   "metadata": {},
   "outputs": [],
   "source": [
    "def reverse_snp_map(snp_map):\n",
    "    rev_map = {}\n",
    "    for key in snp_map:\n",
    "        vals = snp_map[key][0]\n",
    "        for val in vals:\n",
    "            if val not in rev_map:\n",
    "                rev_map[val] = key\n",
    "            else:\n",
    "                print(\"dupe val: %s\" % val)\n",
    "    return rev_map"
   ]
  },
  {
   "cell_type": "code",
   "execution_count": 92,
   "metadata": {},
   "outputs": [],
   "source": [
    "hepg2_pool1_rev_map = reverse_snp_map(hepg2_pool1_snp_map)\n",
    "k562_pool1_rev_map = reverse_snp_map(k562_pool1_snp_map)"
   ]
  },
  {
   "cell_type": "code",
   "execution_count": 104,
   "metadata": {},
   "outputs": [
    {
     "data": {
      "text/html": [
       "<div>\n",
       "<style>\n",
       "    .dataframe thead tr:only-child th {\n",
       "        text-align: right;\n",
       "    }\n",
       "\n",
       "    .dataframe thead th {\n",
       "        text-align: left;\n",
       "    }\n",
       "\n",
       "    .dataframe tbody tr th {\n",
       "        vertical-align: top;\n",
       "    }\n",
       "</style>\n",
       "<table border=\"1\" class=\"dataframe\">\n",
       "  <thead>\n",
       "    <tr style=\"text-align: right;\">\n",
       "      <th></th>\n",
       "      <th>n_motifs</th>\n",
       "    </tr>\n",
       "    <tr>\n",
       "      <th>seqID</th>\n",
       "      <th></th>\n",
       "    </tr>\n",
       "  </thead>\n",
       "  <tbody>\n",
       "    <tr>\n",
       "      <th>CONTROL_BUT_HAS_SNP__control.flip.sense__chr11:5248266..5248380,-__1715.1.0.0</th>\n",
       "      <td>10</td>\n",
       "    </tr>\n",
       "    <tr>\n",
       "      <th>CONTROL_BUT_HAS_SNP__control.flip.sense__chr16:67993585..67993700,+__2318.1.0.0</th>\n",
       "      <td>50</td>\n",
       "    </tr>\n",
       "    <tr>\n",
       "      <th>CONTROL_BUT_HAS_SNP__control.flip.sense__chr17:33571488..33571603,+__2316.1.0.0</th>\n",
       "      <td>24</td>\n",
       "    </tr>\n",
       "    <tr>\n",
       "      <th>CONTROL_BUT_HAS_SNP__control.flip.sense__chr17:76375037..76375152,+__2319.1.0.0</th>\n",
       "      <td>12</td>\n",
       "    </tr>\n",
       "    <tr>\n",
       "      <th>CONTROL_BUT_HAS_SNP__control.flip.sense__chr1:153518247..153518361,-__1714.1.0.0</th>\n",
       "      <td>16</td>\n",
       "    </tr>\n",
       "  </tbody>\n",
       "</table>\n",
       "</div>"
      ],
      "text/plain": [
       "                                                    n_motifs\n",
       "seqID                                                       \n",
       "CONTROL_BUT_HAS_SNP__control.flip.sense__chr11:...        10\n",
       "CONTROL_BUT_HAS_SNP__control.flip.sense__chr16:...        50\n",
       "CONTROL_BUT_HAS_SNP__control.flip.sense__chr17:...        24\n",
       "CONTROL_BUT_HAS_SNP__control.flip.sense__chr17:...        12\n",
       "CONTROL_BUT_HAS_SNP__control.flip.sense__chr1:1...        16"
      ]
     },
     "execution_count": 104,
     "metadata": {},
     "output_type": "execute_result"
    }
   ],
   "source": [
    "fimo.set_index(\"seqID\", inplace=True)\n",
    "fimo.head()"
   ]
  },
  {
   "cell_type": "code",
   "execution_count": 106,
   "metadata": {},
   "outputs": [],
   "source": [
    "fimo_dict = fimo.to_dict(orient=\"index\")"
   ]
  },
  {
   "cell_type": "code",
   "execution_count": 120,
   "metadata": {},
   "outputs": [],
   "source": [
    "def get_snp_tfbs_delta(row, rev_map, fimo_map):\n",
    "    try:\n",
    "        n_wt_tfs = fimo_map[rev_map[row[\"unique_id\"]]][\"n_motifs\"]\n",
    "        n_snp_tfs = fimo_map[row[\"unique_id\"]][\"n_motifs\"]\n",
    "    except:\n",
    "        n_wt_tfs = np.nan\n",
    "        n_snp_tfs = np.nan\n",
    "    delta_tfs = n_snp_tfs - n_wt_tfs\n",
    "    return delta_tfs"
   ]
  },
  {
   "cell_type": "code",
   "execution_count": 121,
   "metadata": {},
   "outputs": [
    {
     "data": {
      "text/html": [
       "<div>\n",
       "<style>\n",
       "    .dataframe thead tr:only-child th {\n",
       "        text-align: right;\n",
       "    }\n",
       "\n",
       "    .dataframe thead th {\n",
       "        text-align: left;\n",
       "    }\n",
       "\n",
       "    .dataframe tbody tr th {\n",
       "        vertical-align: top;\n",
       "    }\n",
       "</style>\n",
       "<table border=\"1\" class=\"dataframe\">\n",
       "  <thead>\n",
       "    <tr style=\"text-align: right;\">\n",
       "      <th></th>\n",
       "      <th>SNP</th>\n",
       "      <th>unique_id</th>\n",
       "      <th>HepG2_ref_activ</th>\n",
       "      <th>HepG2_alt_activ</th>\n",
       "      <th>HepG2_effect_size</th>\n",
       "      <th>HepG2_padj</th>\n",
       "      <th>HepG2_sig_status</th>\n",
       "      <th>HepG2_downsampled_sig_status</th>\n",
       "      <th>K562_ref_activ</th>\n",
       "      <th>K562_alt_activ</th>\n",
       "      <th>K562_effect_size</th>\n",
       "      <th>K562_padj</th>\n",
       "      <th>K562_sig_status</th>\n",
       "      <th>delta_tfs</th>\n",
       "    </tr>\n",
       "  </thead>\n",
       "  <tbody>\n",
       "    <tr>\n",
       "      <th>492</th>\n",
       "      <td>rs79712647</td>\n",
       "      <td>WILDTYPE_SNP_INDIV__Lincrna.noflip.NA__chr8:13...</td>\n",
       "      <td>-1.660319</td>\n",
       "      <td>-1.514351</td>\n",
       "      <td>0.145969</td>\n",
       "      <td>NaN</td>\n",
       "      <td>NaN</td>\n",
       "      <td>NaN</td>\n",
       "      <td>-1.985229</td>\n",
       "      <td>-2.135977</td>\n",
       "      <td>-0.150749</td>\n",
       "      <td>NaN</td>\n",
       "      <td>NaN</td>\n",
       "      <td>1.0</td>\n",
       "    </tr>\n",
       "    <tr>\n",
       "      <th>1037</th>\n",
       "      <td>rs3745375</td>\n",
       "      <td>WILDTYPE_SNP_INDIV__mrna.noflip.NA__chr19:8274...</td>\n",
       "      <td>-0.364388</td>\n",
       "      <td>-0.694535</td>\n",
       "      <td>-0.330147</td>\n",
       "      <td>NaN</td>\n",
       "      <td>NaN</td>\n",
       "      <td>NaN</td>\n",
       "      <td>0.002624</td>\n",
       "      <td>0.067920</td>\n",
       "      <td>0.065297</td>\n",
       "      <td>NaN</td>\n",
       "      <td>NaN</td>\n",
       "      <td>-4.0</td>\n",
       "    </tr>\n",
       "    <tr>\n",
       "      <th>334</th>\n",
       "      <td>rs116337368</td>\n",
       "      <td>WILDTYPE_SNP_INDIV__Lincrna.noflip.NA__chr3:45...</td>\n",
       "      <td>2.159756</td>\n",
       "      <td>2.201530</td>\n",
       "      <td>0.041774</td>\n",
       "      <td>1.0</td>\n",
       "      <td>not sig</td>\n",
       "      <td>not sig</td>\n",
       "      <td>2.359249</td>\n",
       "      <td>2.336109</td>\n",
       "      <td>-0.023140</td>\n",
       "      <td>1.0</td>\n",
       "      <td>not sig</td>\n",
       "      <td>0.0</td>\n",
       "    </tr>\n",
       "    <tr>\n",
       "      <th>702</th>\n",
       "      <td>rs2305023</td>\n",
       "      <td>WILDTYPE_SNP_INDIV__mrna.flip.sense__chr8:6264...</td>\n",
       "      <td>-0.974717</td>\n",
       "      <td>-0.681746</td>\n",
       "      <td>0.292971</td>\n",
       "      <td>NaN</td>\n",
       "      <td>NaN</td>\n",
       "      <td>NaN</td>\n",
       "      <td>-1.150634</td>\n",
       "      <td>-0.126274</td>\n",
       "      <td>0.218719</td>\n",
       "      <td>NaN</td>\n",
       "      <td>NaN</td>\n",
       "      <td>1.0</td>\n",
       "    </tr>\n",
       "    <tr>\n",
       "      <th>394</th>\n",
       "      <td>rs13180043</td>\n",
       "      <td>WILDTYPE_SNP_INDIV__Antisense.flip.sense__chr5...</td>\n",
       "      <td>-0.890098</td>\n",
       "      <td>0.112004</td>\n",
       "      <td>1.002102</td>\n",
       "      <td>NaN</td>\n",
       "      <td>NaN</td>\n",
       "      <td>NaN</td>\n",
       "      <td>-0.518025</td>\n",
       "      <td>0.120310</td>\n",
       "      <td>0.280876</td>\n",
       "      <td>NaN</td>\n",
       "      <td>NaN</td>\n",
       "      <td>2.0</td>\n",
       "    </tr>\n",
       "  </tbody>\n",
       "</table>\n",
       "</div>"
      ],
      "text/plain": [
       "              SNP                                          unique_id  \\\n",
       "492    rs79712647  WILDTYPE_SNP_INDIV__Lincrna.noflip.NA__chr8:13...   \n",
       "1037    rs3745375  WILDTYPE_SNP_INDIV__mrna.noflip.NA__chr19:8274...   \n",
       "334   rs116337368  WILDTYPE_SNP_INDIV__Lincrna.noflip.NA__chr3:45...   \n",
       "702     rs2305023  WILDTYPE_SNP_INDIV__mrna.flip.sense__chr8:6264...   \n",
       "394    rs13180043  WILDTYPE_SNP_INDIV__Antisense.flip.sense__chr5...   \n",
       "\n",
       "      HepG2_ref_activ  HepG2_alt_activ  HepG2_effect_size  HepG2_padj  \\\n",
       "492         -1.660319        -1.514351           0.145969         NaN   \n",
       "1037        -0.364388        -0.694535          -0.330147         NaN   \n",
       "334          2.159756         2.201530           0.041774         1.0   \n",
       "702         -0.974717        -0.681746           0.292971         NaN   \n",
       "394         -0.890098         0.112004           1.002102         NaN   \n",
       "\n",
       "     HepG2_sig_status HepG2_downsampled_sig_status  K562_ref_activ  \\\n",
       "492               NaN                          NaN       -1.985229   \n",
       "1037              NaN                          NaN        0.002624   \n",
       "334           not sig                      not sig        2.359249   \n",
       "702               NaN                          NaN       -1.150634   \n",
       "394               NaN                          NaN       -0.518025   \n",
       "\n",
       "      K562_alt_activ  K562_effect_size  K562_padj K562_sig_status  delta_tfs  \n",
       "492        -2.135977         -0.150749        NaN             NaN        1.0  \n",
       "1037        0.067920          0.065297        NaN             NaN       -4.0  \n",
       "334         2.336109         -0.023140        1.0         not sig        0.0  \n",
       "702        -0.126274          0.218719        NaN             NaN        1.0  \n",
       "394         0.120310          0.280876        NaN             NaN        2.0  "
      ]
     },
     "execution_count": 121,
     "metadata": {},
     "output_type": "execute_result"
    }
   ],
   "source": [
    "supp_table_s7[\"delta_tfs\"] = supp_table_s7.apply(get_snp_tfbs_delta, rev_map=hepg2_pool1_rev_map, \n",
    "                                                 fimo_map=fimo_dict, axis=1)\n",
    "supp_table_s7.sample(5)"
   ]
  },
  {
   "cell_type": "code",
   "execution_count": 125,
   "metadata": {},
   "outputs": [
    {
     "data": {
      "image/png": "[encoded data removed]",
      "text/plain": [
       "<matplotlib.figure.Figure at 0x2b6f0d4dc4a8>"
      ]
     },
     "metadata": {},
     "output_type": "display_data"
    }
   ],
   "source": [
    "df = supp_table_s7[supp_table_s7[\"HepG2_sig_status\"] == \"sig\"]\n",
    "g = sns.jointplot(data=df, x=\"delta_tfs\", y=\"HepG2_effect_size\", kind=\"reg\", space=0, size=2.5, stat_func=spearmanr, \n",
    "                  marginal_kws={\"hist\": False}, color=\"darkgrey\", scatter_kws={\"s\": 25})\n",
    "g.set_axis_labels(r\"$\\Delta$ motifs (alt-ref)\", \"SNP effect size\")\n",
    "g.savefig(\"Fig_5B.pdf\", dpi=\"figure\", bbox_inches=\"tight\")"
   ]
  },
  {
   "cell_type": "code",
   "execution_count": 126,
   "metadata": {},
   "outputs": [
    {
     "data": {
      "image/png": "[encoded data removed]",
      "text/plain": [
       "<matplotlib.figure.Figure at 0x2b6f0d896550>"
      ]
     },
     "metadata": {},
     "output_type": "display_data"
    }
   ],
   "source": [
    "df = supp_table_s7[supp_table_s7[\"K562_sig_status\"] == \"sig\"]\n",
    "g = sns.jointplot(data=df, x=\"delta_tfs\", y=\"K562_effect_size\", kind=\"reg\", space=0, size=2.5, stat_func=spearmanr, \n",
    "                  marginal_kws={\"hist\": False}, color=\"darkgrey\", scatter_kws={\"s\": 25})\n",
    "g.set_axis_labels(r\"$\\Delta$ motifs (alt-ref)\", \"SNP effect size\")\n",
    "g.savefig(\"Fig_S18.pdf\", dpi=\"figure\", bbox_inches=\"tight\")"
   ]
  },
  {
   "cell_type": "markdown",
   "metadata": {},
   "source": [
    "## 11. correlate SNPs across cell types"
   ]
  },
  {
   "cell_type": "code",
   "execution_count": 127,
   "metadata": {},
   "outputs": [
    {
     "data": {
      "text/html": [
       "<div>\n",
       "<style>\n",
       "    .dataframe thead tr:only-child th {\n",
       "        text-align: right;\n",
       "    }\n",
       "\n",
       "    .dataframe thead th {\n",
       "        text-align: left;\n",
       "    }\n",
       "\n",
       "    .dataframe tbody tr th {\n",
       "        vertical-align: top;\n",
       "    }\n",
       "</style>\n",
       "<table border=\"1\" class=\"dataframe\">\n",
       "  <thead>\n",
       "    <tr style=\"text-align: right;\">\n",
       "      <th></th>\n",
       "      <th>SNP</th>\n",
       "      <th>unique_id</th>\n",
       "      <th>HepG2_ref_activ</th>\n",
       "      <th>HepG2_alt_activ</th>\n",
       "      <th>HepG2_effect_size</th>\n",
       "      <th>HepG2_padj</th>\n",
       "      <th>HepG2_sig_status</th>\n",
       "      <th>HepG2_downsampled_sig_status</th>\n",
       "      <th>K562_ref_activ</th>\n",
       "      <th>K562_alt_activ</th>\n",
       "      <th>K562_effect_size</th>\n",
       "      <th>K562_padj</th>\n",
       "      <th>K562_sig_status</th>\n",
       "      <th>delta_tfs</th>\n",
       "      <th>sig_type</th>\n",
       "    </tr>\n",
       "  </thead>\n",
       "  <tbody>\n",
       "    <tr>\n",
       "      <th>264</th>\n",
       "      <td>rs80236843</td>\n",
       "      <td>WILDTYPE_SNP_INDIV__Antisense.flip.sense__chr2...</td>\n",
       "      <td>3.163956</td>\n",
       "      <td>3.331905</td>\n",
       "      <td>0.167949</td>\n",
       "      <td>1.0</td>\n",
       "      <td>not sig</td>\n",
       "      <td>not sig</td>\n",
       "      <td>2.594177</td>\n",
       "      <td>2.673635</td>\n",
       "      <td>0.079457</td>\n",
       "      <td>1.0</td>\n",
       "      <td>not sig</td>\n",
       "      <td>0.0</td>\n",
       "      <td>not sig in both</td>\n",
       "    </tr>\n",
       "    <tr>\n",
       "      <th>262</th>\n",
       "      <td>rs73070962,rs116374598</td>\n",
       "      <td>WILDTYPE_SNP_PLUS_HAPLO__Antisense.flip.sense_...</td>\n",
       "      <td>1.337812</td>\n",
       "      <td>1.249625</td>\n",
       "      <td>-0.088187</td>\n",
       "      <td>1.0</td>\n",
       "      <td>not sig</td>\n",
       "      <td>not sig</td>\n",
       "      <td>1.794440</td>\n",
       "      <td>1.208402</td>\n",
       "      <td>-0.586038</td>\n",
       "      <td>1.0</td>\n",
       "      <td>not sig</td>\n",
       "      <td>-1.0</td>\n",
       "      <td>not sig in both</td>\n",
       "    </tr>\n",
       "    <tr>\n",
       "      <th>512</th>\n",
       "      <td>rs28362552,rs118051369</td>\n",
       "      <td>WILDTYPE_SNP_PLUS_HAPLO__Antisense.flip.sense_...</td>\n",
       "      <td>-0.018903</td>\n",
       "      <td>-0.234606</td>\n",
       "      <td>-0.215703</td>\n",
       "      <td>1.0</td>\n",
       "      <td>not sig</td>\n",
       "      <td>not sig</td>\n",
       "      <td>0.025974</td>\n",
       "      <td>-0.047705</td>\n",
       "      <td>-0.073680</td>\n",
       "      <td>1.0</td>\n",
       "      <td>not sig</td>\n",
       "      <td>2.0</td>\n",
       "      <td>not sig in both</td>\n",
       "    </tr>\n",
       "    <tr>\n",
       "      <th>266</th>\n",
       "      <td>rs10187606</td>\n",
       "      <td>WILDTYPE_SNP_INDIV__Lincrna.noflip.NA__chr2:23...</td>\n",
       "      <td>-1.484239</td>\n",
       "      <td>-1.893170</td>\n",
       "      <td>-0.408931</td>\n",
       "      <td>NaN</td>\n",
       "      <td>NaN</td>\n",
       "      <td>NaN</td>\n",
       "      <td>-2.279685</td>\n",
       "      <td>-2.752881</td>\n",
       "      <td>-0.473197</td>\n",
       "      <td>NaN</td>\n",
       "      <td>NaN</td>\n",
       "      <td>0.0</td>\n",
       "      <td>not sig in both</td>\n",
       "    </tr>\n",
       "    <tr>\n",
       "      <th>1642</th>\n",
       "      <td>rs28711909</td>\n",
       "      <td>WILDTYPE_SNP_INDIV__Enhancer.noflip.NA__chr4:1...</td>\n",
       "      <td>-0.995164</td>\n",
       "      <td>-1.543587</td>\n",
       "      <td>-0.548422</td>\n",
       "      <td>NaN</td>\n",
       "      <td>NaN</td>\n",
       "      <td>NaN</td>\n",
       "      <td>-1.768520</td>\n",
       "      <td>-2.364605</td>\n",
       "      <td>-0.596085</td>\n",
       "      <td>NaN</td>\n",
       "      <td>NaN</td>\n",
       "      <td>-4.0</td>\n",
       "      <td>not sig in both</td>\n",
       "    </tr>\n",
       "  </tbody>\n",
       "</table>\n",
       "</div>"
      ],
      "text/plain": [
       "                         SNP  \\\n",
       "264               rs80236843   \n",
       "262   rs73070962,rs116374598   \n",
       "512   rs28362552,rs118051369   \n",
       "266               rs10187606   \n",
       "1642              rs28711909   \n",
       "\n",
       "                                              unique_id  HepG2_ref_activ  \\\n",
       "264   WILDTYPE_SNP_INDIV__Antisense.flip.sense__chr2...         3.163956   \n",
       "262   WILDTYPE_SNP_PLUS_HAPLO__Antisense.flip.sense_...         1.337812   \n",
       "512   WILDTYPE_SNP_PLUS_HAPLO__Antisense.flip.sense_...        -0.018903   \n",
       "266   WILDTYPE_SNP_INDIV__Lincrna.noflip.NA__chr2:23...        -1.484239   \n",
       "1642  WILDTYPE_SNP_INDIV__Enhancer.noflip.NA__chr4:1...        -0.995164   \n",
       "\n",
       "      HepG2_alt_activ  HepG2_effect_size  HepG2_padj HepG2_sig_status  \\\n",
       "264          3.331905           0.167949         1.0          not sig   \n",
       "262          1.249625          -0.088187         1.0          not sig   \n",
       "512         -0.234606          -0.215703         1.0          not sig   \n",
       "266         -1.893170          -0.408931         NaN              NaN   \n",
       "1642        -1.543587          -0.548422         NaN              NaN   \n",
       "\n",
       "     HepG2_downsampled_sig_status  K562_ref_activ  K562_alt_activ  \\\n",
       "264                       not sig        2.594177        2.673635   \n",
       "262                       not sig        1.794440        1.208402   \n",
       "512                       not sig        0.025974       -0.047705   \n",
       "266                           NaN       -2.279685       -2.752881   \n",
       "1642                          NaN       -1.768520       -2.364605   \n",
       "\n",
       "      K562_effect_size  K562_padj K562_sig_status  delta_tfs         sig_type  \n",
       "264           0.079457        1.0         not sig        0.0  not sig in both  \n",
       "262          -0.586038        1.0         not sig       -1.0  not sig in both  \n",
       "512          -0.073680        1.0         not sig        2.0  not sig in both  \n",
       "266          -0.473197        NaN             NaN        0.0  not sig in both  \n",
       "1642         -0.596085        NaN             NaN       -4.0  not sig in both  "
      ]
     },
     "execution_count": 127,
     "metadata": {},
     "output_type": "execute_result"
    }
   ],
   "source": [
    "def both_type(row):\n",
    "    if row[\"HepG2_downsampled_sig_status\"] == \"sig\" and row[\"K562_sig_status\"] == \"sig\":\n",
    "        return \"sig in both\"\n",
    "    elif row[\"HepG2_downsampled_sig_status\"] == \"sig\" and row[\"K562_sig_status\"] == \"not sig\":\n",
    "        return \"sig in HepG2\"\n",
    "    elif row[\"HepG2_downsampled_sig_status\"] == \"not sig\" and row[\"K562_sig_status\"] == \"sig\":\n",
    "        return \"sig in K562\"\n",
    "    else:\n",
    "        return \"not sig in both\"\n",
    "    \n",
    "supp_table_s7[\"sig_type\"] = supp_table_s7.apply(both_type, axis=1)\n",
    "supp_table_s7.sample(5)"
   ]
  },
  {
   "cell_type": "code",
   "execution_count": 131,
   "metadata": {},
   "outputs": [
    {
     "data": {
      "image/png": "[encoded data removed]",
      "text/plain": [
       "<matplotlib.figure.Figure at 0x2b6f0d682e10>"
      ]
     },
     "metadata": {},
     "output_type": "display_data"
    }
   ],
   "source": [
    "both_no_null = supp_table_s7[~pd.isnull(supp_table_s7[\"HepG2_sig_status\"]) & ~pd.isnull(supp_table_s7[\"K562_sig_status\"])]\n",
    "palette = {\"not sig in both\": \"lightgrey\", \"sig in both\": \"dimgrey\", \n",
    "           \"sig in HepG2\": \"salmon\", \"sig in K562\": \"firebrick\"}\n",
    "g = sns.lmplot(data=both_no_null, x=\"HepG2_effect_size\", y=\"K562_effect_size\", fit_reg=False, hue=\"sig_type\",\n",
    "               palette=palette, size=2.2, scatter_kws={\"s\": 20})\n",
    "g.set_axis_labels(\"HepG2 log2(alt/ref)\", \"K562 log2(alt/ref)\")\n",
    "g.savefig(\"Fig_4C.pdf\", dpi=\"figure\", bbox_inches=\"tight\")"
   ]
  },
  {
   "cell_type": "code",
   "execution_count": 132,
   "metadata": {},
   "outputs": [
    {
     "data": {
      "text/plain": [
       "not sig in both    655\n",
       "sig in both         72\n",
       "sig in HepG2        63\n",
       "sig in K562         33\n",
       "Name: sig_type, dtype: int64"
      ]
     },
     "execution_count": 132,
     "metadata": {},
     "output_type": "execute_result"
    }
   ],
   "source": [
    "both_no_null.sig_type.value_counts()"
   ]
  },
  {
   "cell_type": "markdown",
   "metadata": {},
   "source": [
    "## 12. compare results using all HepG2 reps vs. subset"
   ]
  },
  {
   "cell_type": "code",
   "execution_count": 133,
   "metadata": {
    "collapsed": true
   },
   "outputs": [],
   "source": [
    "hepg2_all_sig = len(supp_table_s7[supp_table_s7[\"HepG2_sig_status\"] == \"sig\"])\n",
    "hepg2_down_sig = len(supp_table_s7[supp_table_s7[\"HepG2_downsampled_sig_status\"] == \"sig\"])"
   ]
  },
  {
   "cell_type": "code",
   "execution_count": 134,
   "metadata": {},
   "outputs": [
    {
     "data": {
      "text/html": [
       "<div>\n",
       "<style>\n",
       "    .dataframe thead tr:only-child th {\n",
       "        text-align: right;\n",
       "    }\n",
       "\n",
       "    .dataframe thead th {\n",
       "        text-align: left;\n",
       "    }\n",
       "\n",
       "    .dataframe tbody tr th {\n",
       "        vertical-align: top;\n",
       "    }\n",
       "</style>\n",
       "<table border=\"1\" class=\"dataframe\">\n",
       "  <thead>\n",
       "    <tr style=\"text-align: right;\">\n",
       "      <th></th>\n",
       "      <th>name</th>\n",
       "      <th>reps</th>\n",
       "      <th>snps</th>\n",
       "    </tr>\n",
       "  </thead>\n",
       "  <tbody>\n",
       "    <tr>\n",
       "      <th>0</th>\n",
       "      <td>HepG2 (Sampled Replicates: 4)</td>\n",
       "      <td>4</td>\n",
       "      <td>161</td>\n",
       "    </tr>\n",
       "    <tr>\n",
       "      <th>1</th>\n",
       "      <td>HepG2 (All Replicates: 12)</td>\n",
       "      <td>12</td>\n",
       "      <td>289</td>\n",
       "    </tr>\n",
       "  </tbody>\n",
       "</table>\n",
       "</div>"
      ],
      "text/plain": [
       "                            name  reps  snps\n",
       "0  HepG2 (Sampled Replicates: 4)     4   161\n",
       "1     HepG2 (All Replicates: 12)    12   289"
      ]
     },
     "execution_count": 134,
     "metadata": {},
     "output_type": "execute_result"
    }
   ],
   "source": [
    "rep_nums = {\"HepG2 (Sampled Replicates: 4)\": [4, hepg2_down_sig], \"HepG2 (All Replicates: 12)\": [12, hepg2_all_sig]}\n",
    "rep_nums = pd.DataFrame.from_dict(rep_nums, orient=\"index\").reset_index()\n",
    "rep_nums.columns = [\"name\", \"reps\", \"snps\"]\n",
    "rep_nums.head()"
   ]
  },
  {
   "cell_type": "code",
   "execution_count": 135,
   "metadata": {},
   "outputs": [
    {
     "data": {
      "image/png": "[encoded data removed]",
      "text/plain": [
       "<matplotlib.figure.Figure at 0x2b6f09f6b1d0>"
      ]
     },
     "metadata": {},
     "output_type": "display_data"
    }
   ],
   "source": [
    "fig = plt.figure(figsize=(2.2, 2.2))\n",
    "ax = sns.barplot(data=rep_nums, x=\"name\", y=\"snps\", color=\"lightgray\")\n",
    "ax.set_xlabel(\"\")\n",
    "ax.set_ylabel(\"# significant SNPs\")\n",
    "ax.set_xticklabels([\"HepG2 (Sampled Replicates: 4)\", \"HepG2 (All Replicates: 12)\"], rotation=30)\n",
    "fig.savefig(\"Fig_S20B.pdf\", dpi=\"figure\", bbox_inches=\"tight\")"
   ]
  },
  {
   "cell_type": "markdown",
   "metadata": {},
   "source": [
    "## 13. compare effect sizes across biotypes"
   ]
  },
  {
   "cell_type": "code",
   "execution_count": 140,
   "metadata": {},
   "outputs": [
    {
     "data": {
      "text/html": [
       "<div>\n",
       "<style>\n",
       "    .dataframe thead tr:only-child th {\n",
       "        text-align: right;\n",
       "    }\n",
       "\n",
       "    .dataframe thead th {\n",
       "        text-align: left;\n",
       "    }\n",
       "\n",
       "    .dataframe tbody tr th {\n",
       "        vertical-align: top;\n",
       "    }\n",
       "</style>\n",
       "<table border=\"1\" class=\"dataframe\">\n",
       "  <thead>\n",
       "    <tr style=\"text-align: right;\">\n",
       "      <th></th>\n",
       "      <th>SNP</th>\n",
       "      <th>unique_id</th>\n",
       "      <th>HepG2_ref_activ</th>\n",
       "      <th>HepG2_alt_activ</th>\n",
       "      <th>HepG2_effect_size</th>\n",
       "      <th>HepG2_padj</th>\n",
       "      <th>HepG2_sig_status</th>\n",
       "      <th>HepG2_downsampled_sig_status</th>\n",
       "      <th>K562_ref_activ</th>\n",
       "      <th>K562_alt_activ</th>\n",
       "      <th>K562_effect_size</th>\n",
       "      <th>K562_padj</th>\n",
       "      <th>K562_sig_status</th>\n",
       "      <th>delta_tfs</th>\n",
       "      <th>sig_type</th>\n",
       "      <th>seqID</th>\n",
       "      <th>PromType2</th>\n",
       "    </tr>\n",
       "  </thead>\n",
       "  <tbody>\n",
       "    <tr>\n",
       "      <th>0</th>\n",
       "      <td>rs4970820</td>\n",
       "      <td>WILDTYPE_SNP_INDIV__Lincrna.flip.sense__chr1:1...</td>\n",
       "      <td>2.432022</td>\n",
       "      <td>2.363694</td>\n",
       "      <td>-0.068328</td>\n",
       "      <td>1.0</td>\n",
       "      <td>not sig</td>\n",
       "      <td>not sig</td>\n",
       "      <td>2.464316</td>\n",
       "      <td>2.402414</td>\n",
       "      <td>-0.061902</td>\n",
       "      <td>1.0</td>\n",
       "      <td>not sig</td>\n",
       "      <td>-9.0</td>\n",
       "      <td>not sig in both</td>\n",
       "      <td>WILDTYPE_SNP_INDIV__Lincrna.flip.sense__chr1:1...</td>\n",
       "      <td>intergenic</td>\n",
       "    </tr>\n",
       "    <tr>\n",
       "      <th>1</th>\n",
       "      <td>rs60844753</td>\n",
       "      <td>WILDTYPE_SNP_INDIV__Antisense.flip.sense__chr1...</td>\n",
       "      <td>-0.513299</td>\n",
       "      <td>-0.310393</td>\n",
       "      <td>0.202906</td>\n",
       "      <td>NaN</td>\n",
       "      <td>NaN</td>\n",
       "      <td>NaN</td>\n",
       "      <td>-0.401422</td>\n",
       "      <td>-0.193217</td>\n",
       "      <td>0.208205</td>\n",
       "      <td>NaN</td>\n",
       "      <td>NaN</td>\n",
       "      <td>0.0</td>\n",
       "      <td>not sig in both</td>\n",
       "      <td>WILDTYPE_SNP_INDIV__Antisense.flip.sense__chr1...</td>\n",
       "      <td>div_lnc</td>\n",
       "    </tr>\n",
       "    <tr>\n",
       "      <th>2</th>\n",
       "      <td>rs60844753</td>\n",
       "      <td>WILDTYPE_SNP_INDIV__Antisense.noflip.NA__chr1:...</td>\n",
       "      <td>-0.962268</td>\n",
       "      <td>-0.978317</td>\n",
       "      <td>-0.016049</td>\n",
       "      <td>1.0</td>\n",
       "      <td>not sig</td>\n",
       "      <td>not sig</td>\n",
       "      <td>-2.478924</td>\n",
       "      <td>-2.779746</td>\n",
       "      <td>-0.300823</td>\n",
       "      <td>NaN</td>\n",
       "      <td>NaN</td>\n",
       "      <td>0.0</td>\n",
       "      <td>not sig in both</td>\n",
       "      <td>WILDTYPE_SNP_INDIV__Antisense.noflip.NA__chr1:...</td>\n",
       "      <td>div_lnc</td>\n",
       "    </tr>\n",
       "    <tr>\n",
       "      <th>3</th>\n",
       "      <td>rs115274951</td>\n",
       "      <td>WILDTYPE_SNP_INDIV__Antisense.noflip.NA__chr1:...</td>\n",
       "      <td>2.914807</td>\n",
       "      <td>2.991548</td>\n",
       "      <td>0.076741</td>\n",
       "      <td>1.0</td>\n",
       "      <td>not sig</td>\n",
       "      <td>not sig</td>\n",
       "      <td>2.478906</td>\n",
       "      <td>2.455319</td>\n",
       "      <td>-0.023587</td>\n",
       "      <td>1.0</td>\n",
       "      <td>not sig</td>\n",
       "      <td>-6.0</td>\n",
       "      <td>not sig in both</td>\n",
       "      <td>WILDTYPE_SNP_INDIV__Antisense.noflip.NA__chr1:...</td>\n",
       "      <td>intergenic</td>\n",
       "    </tr>\n",
       "    <tr>\n",
       "      <th>4</th>\n",
       "      <td>rs1555794</td>\n",
       "      <td>WILDTYPE_SNP_INDIV__Antisense.noflip.NA__chr1:...</td>\n",
       "      <td>-0.552470</td>\n",
       "      <td>-0.540787</td>\n",
       "      <td>0.011684</td>\n",
       "      <td>1.0</td>\n",
       "      <td>not sig</td>\n",
       "      <td>not sig</td>\n",
       "      <td>-1.685674</td>\n",
       "      <td>-1.057917</td>\n",
       "      <td>0.627757</td>\n",
       "      <td>NaN</td>\n",
       "      <td>NaN</td>\n",
       "      <td>-3.0</td>\n",
       "      <td>not sig in both</td>\n",
       "      <td>WILDTYPE_SNP_INDIV__Antisense.noflip.NA__chr1:...</td>\n",
       "      <td>div_lnc</td>\n",
       "    </tr>\n",
       "  </tbody>\n",
       "</table>\n",
       "</div>"
      ],
      "text/plain": [
       "           SNP                                          unique_id  \\\n",
       "0    rs4970820  WILDTYPE_SNP_INDIV__Lincrna.flip.sense__chr1:1...   \n",
       "1   rs60844753  WILDTYPE_SNP_INDIV__Antisense.flip.sense__chr1...   \n",
       "2   rs60844753  WILDTYPE_SNP_INDIV__Antisense.noflip.NA__chr1:...   \n",
       "3  rs115274951  WILDTYPE_SNP_INDIV__Antisense.noflip.NA__chr1:...   \n",
       "4    rs1555794  WILDTYPE_SNP_INDIV__Antisense.noflip.NA__chr1:...   \n",
       "\n",
       "   HepG2_ref_activ  HepG2_alt_activ  HepG2_effect_size  HepG2_padj  \\\n",
       "0         2.432022         2.363694          -0.068328         1.0   \n",
       "1        -0.513299        -0.310393           0.202906         NaN   \n",
       "2        -0.962268        -0.978317          -0.016049         1.0   \n",
       "3         2.914807         2.991548           0.076741         1.0   \n",
       "4        -0.552470        -0.540787           0.011684         1.0   \n",
       "\n",
       "  HepG2_sig_status HepG2_downsampled_sig_status  K562_ref_activ  \\\n",
       "0          not sig                      not sig        2.464316   \n",
       "1              NaN                          NaN       -0.401422   \n",
       "2          not sig                      not sig       -2.478924   \n",
       "3          not sig                      not sig        2.478906   \n",
       "4          not sig                      not sig       -1.685674   \n",
       "\n",
       "   K562_alt_activ  K562_effect_size  K562_padj K562_sig_status  delta_tfs  \\\n",
       "0        2.402414         -0.061902        1.0         not sig       -9.0   \n",
       "1       -0.193217          0.208205        NaN             NaN        0.0   \n",
       "2       -2.779746         -0.300823        NaN             NaN        0.0   \n",
       "3        2.455319         -0.023587        1.0         not sig       -6.0   \n",
       "4       -1.057917          0.627757        NaN             NaN       -3.0   \n",
       "\n",
       "          sig_type                                              seqID  \\\n",
       "0  not sig in both  WILDTYPE_SNP_INDIV__Lincrna.flip.sense__chr1:1...   \n",
       "1  not sig in both  WILDTYPE_SNP_INDIV__Antisense.flip.sense__chr1...   \n",
       "2  not sig in both  WILDTYPE_SNP_INDIV__Antisense.noflip.NA__chr1:...   \n",
       "3  not sig in both  WILDTYPE_SNP_INDIV__Antisense.noflip.NA__chr1:...   \n",
       "4  not sig in both  WILDTYPE_SNP_INDIV__Antisense.noflip.NA__chr1:...   \n",
       "\n",
       "    PromType2  \n",
       "0  intergenic  \n",
       "1     div_lnc  \n",
       "2     div_lnc  \n",
       "3  intergenic  \n",
       "4     div_lnc  "
      ]
     },
     "execution_count": 140,
     "metadata": {},
     "output_type": "execute_result"
    }
   ],
   "source": [
    "supp_table_s7 = supp_table_s7.merge(annot, left_on=\"unique_id\", right_on=\"seqID\")\n",
    "supp_table_s7.head()"
   ]
  },
  {
   "cell_type": "code",
   "execution_count": 141,
   "metadata": {
    "collapsed": true
   },
   "outputs": [],
   "source": [
    "supp_table_s7[\"HepG2_abs_effect_size\"] = np.abs(supp_table_s7[\"HepG2_effect_size\"])\n",
    "supp_table_s7[\"K562_abs_effect_size\"] = np.abs(supp_table_s7[\"K562_effect_size\"])"
   ]
  },
  {
   "cell_type": "code",
   "execution_count": 145,
   "metadata": {},
   "outputs": [
    {
     "data": {
      "image/png": "[encoded data removed]",
      "text/plain": [
       "<matplotlib.figure.Figure at 0x2b6f0d726f60>"
      ]
     },
     "metadata": {},
     "output_type": "display_data"
    }
   ],
   "source": [
    "fig = plt.figure(figsize=(3.5, 2.5))\n",
    "ax = sns.boxplot(data=supp_table_s7, x=\"PromType2\", y=\"HepG2_abs_effect_size\", \n",
    "                 flierprops = dict(marker='o', markersize=5), order=TSS_CLASS_ORDER, palette=TSS_CLASS_PALETTE)\n",
    "ax.set_xticklabels([\"enhancers\", \"lincRNAs\", \"div. lncRNAs\", \"mRNAs\", \"div. mRNAs\"], rotation=30)\n",
    "mimic_r_boxplot(ax)\n",
    "plt.xlabel(\"\")\n",
    "plt.ylabel(\"absolute value(HepG2 effect size)\")\n",
    "fig.savefig(\"Fig_S21_1.pdf\", dpi=\"figure\", bbox_inches=\"tight\")"
   ]
  },
  {
   "cell_type": "code",
   "execution_count": 146,
   "metadata": {},
   "outputs": [
    {
     "data": {
      "image/png": "[encoded data removed]",
      "text/plain": [
       "<matplotlib.figure.Figure at 0x2b6f0fca8390>"
      ]
     },
     "metadata": {},
     "output_type": "display_data"
    }
   ],
   "source": [
    "fig = plt.figure(figsize=(3.5, 2.5))\n",
    "ax = sns.boxplot(data=supp_table_s7, x=\"PromType2\", y=\"K562_abs_effect_size\", \n",
    "                 flierprops = dict(marker='o', markersize=5), order=TSS_CLASS_ORDER, palette=TSS_CLASS_PALETTE)\n",
    "ax.set_xticklabels([\"enhancers\", \"lincRNAs\", \"div. lncRNAs\", \"mRNAs\", \"div. mRNAs\"], rotation=30)\n",
    "mimic_r_boxplot(ax)\n",
    "plt.xlabel(\"\")\n",
    "plt.ylabel(\"absolute value(K562 effect size)\")\n",
    "fig.savefig(\"Fig_S21_2.pdf\", dpi=\"figure\", bbox_inches=\"tight\")"
   ]
  },
  {
   "cell_type": "code",
   "execution_count": null,
   "metadata": {
    "collapsed": true
   },
   "outputs": [],
   "source": []
  }
 ],
 "metadata": {
  "anaconda-cloud": {},
  "kernelspec": {
   "display_name": "Python 3",
   "language": "python",
   "name": "python3"
  },
  "language_info": {
   "codemirror_mode": {
    "name": "ipython",
    "version": 3
   },
   "file_extension": ".py",
   "mimetype": "text/x-python",
   "name": "python",
   "nbconvert_exporter": "python",
   "pygments_lexer": "ipython3",
   "version": "3.6.2"
  }
 },
 "nbformat": 4,
 "nbformat_minor": 1
}
