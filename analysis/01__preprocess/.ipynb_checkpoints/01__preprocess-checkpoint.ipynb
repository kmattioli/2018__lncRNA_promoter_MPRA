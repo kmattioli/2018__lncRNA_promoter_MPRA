{
 "cells": [
  {
   "cell_type": "markdown",
   "metadata": {},
   "source": [
    "# 0__preprocess\n",
    "# turn files of counts into large dataframe of counts\n",
    "## filter barcodes appropriately"
   ]
  },
  {
   "cell_type": "code",
   "execution_count": 207,
   "metadata": {
    "collapsed": true
   },
   "outputs": [],
   "source": [
    "import warnings\n",
    "warnings.filterwarnings('ignore')\n",
    "\n",
    "import pandas as pd\n",
    "import numpy as np\n",
    "import matplotlib.pyplot as plt\n",
    "import seaborn as sns\n",
    "from itertools import chain\n",
    "from decimal import Decimal\n",
    "import time\n",
    "import re\n",
    "\n",
    "%matplotlib inline"
   ]
  },
  {
   "cell_type": "markdown",
   "metadata": {},
   "source": [
    "## functions"
   ]
  },
  {
   "cell_type": "code",
   "execution_count": 208,
   "metadata": {
    "collapsed": true
   },
   "outputs": [],
   "source": [
    "def import_dna(counts_dir, dna_f):\n",
    "    dna_dfs = []\n",
    "    for i in range(len(dna_f)):\n",
    "        f = dna_f[i]\n",
    "        cols = [\"barcode\", \"dna_%s\" % (i+1)]\n",
    "        tmp = pd.read_table(\"%s/%s\" % (counts_dir, f), sep=\"\\t\", header=None)\n",
    "        tmp.columns = cols\n",
    "        dna_dfs.append(tmp)\n",
    "    if len(dna_dfs) > 1:\n",
    "        dna = reduce(lambda x, y: pd.merge(x, y, on = \"barcode\"), dna_dfs)\n",
    "    else:\n",
    "        dna = dna_dfs[0]\n",
    "    return dna"
   ]
  },
  {
   "cell_type": "code",
   "execution_count": 209,
   "metadata": {
    "collapsed": true
   },
   "outputs": [],
   "source": [
    "def import_rna(counts_dir, rna_f, dna):\n",
    "    data = dna.copy()\n",
    "    data_cols = list(dna.columns)\n",
    "    for f in rna_f:\n",
    "        rep = re.findall(r'\\d+', f.split(\"__\")[3])[0]\n",
    "        tmp = pd.read_table(\"%s/%s\" % (counts_dir, f), sep=\"\\t\", header=None)\n",
    "        tmp.columns = [\"barcode\", \"rna_%s\" % rep]\n",
    "        data_cols.append(\"rna_%s\" % rep)\n",
    "        data = data.merge(tmp, on=\"barcode\", how=\"outer\")\n",
    "    return data, data_cols"
   ]
  },
  {
   "cell_type": "markdown",
   "metadata": {},
   "source": [
    "## variables"
   ]
  },
  {
   "cell_type": "code",
   "execution_count": 210,
   "metadata": {
    "collapsed": true
   },
   "outputs": [],
   "source": [
    "counts_dir = \"../../data/01__counts\""
   ]
  },
  {
   "cell_type": "code",
   "execution_count": 211,
   "metadata": {
    "collapsed": true
   },
   "outputs": [],
   "source": [
    "barcode_dna_read_threshold = 5\n",
    "barcode_rna_read_threshold = 5\n",
    "n_barcodes_per_elem_threshold = 3"
   ]
  },
  {
   "cell_type": "markdown",
   "metadata": {},
   "source": [
    "### DNA files"
   ]
  },
  {
   "cell_type": "code",
   "execution_count": 212,
   "metadata": {
    "collapsed": true
   },
   "outputs": [],
   "source": [
    "pool1_pMPRA1_dna_f = [\"POOL1__pMPRA1__COUNTS.txt\"]\n",
    "pool1_pNoCMVMPRA1_dna_f = [\"POOL1__pNoCMVMPRA1__COUNTS.txt\"]\n",
    "pool2_pMPRA1_dna_f = [\"POOL2__pMPRA1__COUNTS.txt\"]"
   ]
  },
  {
   "cell_type": "markdown",
   "metadata": {},
   "source": [
    "### RNA files"
   ]
  },
  {
   "cell_type": "code",
   "execution_count": 213,
   "metadata": {
    "collapsed": true
   },
   "outputs": [],
   "source": [
    "pool1_pMPRA1_HeLa_rna_f = [\"POOL1__pMPRA1__HeLa__rep1__COUNTS.txt\",\n",
    "                           \"POOL1__pMPRA1__HeLa__rep2__COUNTS.txt\",\n",
    "                           \"POOL1__pMPRA1__HeLa__rep3__COUNTS.txt\", \n",
    "                           \"POOL1__pMPRA1__HeLa__rep4__COUNTS.txt\"]\n",
    "pool1_pMPRA1_HeLa_out_f = \"POOL1__pMPRA1__HeLa__all_counts.txt\""
   ]
  },
  {
   "cell_type": "code",
   "execution_count": 214,
   "metadata": {
    "collapsed": true
   },
   "outputs": [],
   "source": [
    "pool1_pMPRA1_HepG2_rna_f = [\"POOL1__pMPRA1__HepG2__rep3__COUNTS.txt\",\n",
    "                            \"POOL1__pMPRA1__HepG2__rep4__COUNTS.txt\",\n",
    "                            \"POOL1__pMPRA1__HepG2__rep5__COUNTS.txt\", \n",
    "                            \"POOL1__pMPRA1__HepG2__rep6__COUNTS.txt\",\n",
    "                            \"POOL1__pMPRA1__HepG2__rep7__COUNTS.txt\",\n",
    "                            \"POOL1__pMPRA1__HepG2__rep8__COUNTS.txt\",\n",
    "                            \"POOL1__pMPRA1__HepG2__rep9__COUNTS.txt\", \n",
    "                            \"POOL1__pMPRA1__HepG2__rep10__COUNTS.txt\",\n",
    "                            \"POOL1__pMPRA1__HepG2__rep11__COUNTS.txt\",\n",
    "                            \"POOL1__pMPRA1__HepG2__rep12__COUNTS.txt\",\n",
    "                            \"POOL1__pMPRA1__HepG2__rep13__COUNTS.txt\", \n",
    "                            \"POOL1__pMPRA1__HepG2__rep14__COUNTS.txt\"]\n",
    "pool1_pMPRA1_HepG2_out_f = \"POOL1__pMPRA1__HepG2__all_counts.txt\""
   ]
  },
  {
   "cell_type": "code",
   "execution_count": 215,
   "metadata": {
    "collapsed": true
   },
   "outputs": [],
   "source": [
    "pool1_pMPRA1_K562_rna_f = [\"POOL1__pMPRA1__K562__rep1__COUNTS.txt\",\n",
    "                           \"POOL1__pMPRA1__K562__rep2__COUNTS.txt\",\n",
    "                           \"POOL1__pMPRA1__K562__rep3__COUNTS.txt\", \n",
    "                           \"POOL1__pMPRA1__K562__rep4__COUNTS.txt\"]\n",
    "pool1_pMPRA1_K562_out_f = \"POOL1__pMPRA1__K562__all_counts.txt\""
   ]
  },
  {
   "cell_type": "code",
   "execution_count": 216,
   "metadata": {
    "collapsed": true
   },
   "outputs": [],
   "source": [
    "pool1_pNoCMVMPRA1_HeLa_rna_f = [\"POOL1__pNoCMVMPRA1__HeLa__rep1__COUNTS.txt\",\n",
    "                                \"POOL1__pNoCMVMPRA1__HeLa__rep2__COUNTS.txt\",\n",
    "                                \"POOL1__pNoCMVMPRA1__HeLa__rep3__COUNTS.txt\", \n",
    "                                \"POOL1__pNoCMVMPRA1__HeLa__rep4__COUNTS.txt\"]\n",
    "pool1_pNoCMVMPRA1_HeLa_out_f = \"POOL1__pNoCMVMPRA1__HeLa__all_counts.txt\""
   ]
  },
  {
   "cell_type": "code",
   "execution_count": 217,
   "metadata": {
    "collapsed": true
   },
   "outputs": [],
   "source": [
    "pool1_pNoCMVMPRA1_HepG2_rna_f = [\"POOL1__pNoCMVMPRA1__HepG2__rep3__COUNTS.txt\",\n",
    "                                 \"POOL1__pNoCMVMPRA1__HepG2__rep4__COUNTS.txt\",\n",
    "                                 \"POOL1__pNoCMVMPRA1__HepG2__rep5__COUNTS.txt\", \n",
    "                                 \"POOL1__pNoCMVMPRA1__HepG2__rep6__COUNTS.txt\"]\n",
    "pool1_pNoCMVMPRA1_HepG2_out_f = \"POOL1__pNoCMVMPRA1__HepG2__all_counts.txt\""
   ]
  },
  {
   "cell_type": "code",
   "execution_count": 218,
   "metadata": {
    "collapsed": true
   },
   "outputs": [],
   "source": [
    "pool1_pNoCMVMPRA1_K562_rna_f = [\"POOL1__pNoCMVMPRA1__K562__rep1__COUNTS.txt\",\n",
    "                                \"POOL1__pNoCMVMPRA1__K562__rep2__COUNTS.txt\",\n",
    "                                \"POOL1__pNoCMVMPRA1__K562__rep3__COUNTS.txt\", \n",
    "                                \"POOL1__pNoCMVMPRA1__K562__rep4__COUNTS.txt\"]\n",
    "pool1_pNoCMVMPRA1_K562_out_f = \"POOL1__pNoCMVMPRA1__K562__all_counts.txt\""
   ]
  },
  {
   "cell_type": "code",
   "execution_count": 219,
   "metadata": {
    "collapsed": true
   },
   "outputs": [],
   "source": [
    "pool2_pMPRA1_HeLa_rna_f = [\"POOL2__pMPRA1__HeLa__rep1__COUNTS.txt\",\n",
    "                           \"POOL2__pMPRA1__HeLa__rep2__COUNTS.txt\",\n",
    "                           \"POOL2__pMPRA1__HeLa__rep3__COUNTS.txt\", \n",
    "                           \"POOL2__pMPRA1__HeLa__rep4__COUNTS.txt\"]\n",
    "pool2_pMPRA1_HeLa_out_f = \"POOL2__pMPRA1__HeLa__all_counts.txt\""
   ]
  },
  {
   "cell_type": "code",
   "execution_count": 220,
   "metadata": {
    "collapsed": true
   },
   "outputs": [],
   "source": [
    "pool2_pMPRA1_HepG2_rna_f = [\"POOL2__pMPRA1__HepG2__rep3__COUNTS.txt\",\n",
    "                            \"POOL2__pMPRA1__HepG2__rep4__COUNTS.txt\",\n",
    "                            \"POOL2__pMPRA1__HepG2__rep5__COUNTS.txt\", \n",
    "                            \"POOL2__pMPRA1__HepG2__rep6__COUNTS.txt\",\n",
    "                            \"POOL2__pMPRA1__HepG2__rep7__COUNTS.txt\",\n",
    "                            \"POOL2__pMPRA1__HepG2__rep8__COUNTS.txt\",\n",
    "                            \"POOL2__pMPRA1__HepG2__rep9__COUNTS.txt\", \n",
    "                            \"POOL2__pMPRA1__HepG2__rep10__COUNTS.txt\"]\n",
    "pool2_pMPRA1_HepG2_out_f = \"POOL2__pMPRA1__HepG2__all_counts.txt\""
   ]
  },
  {
   "cell_type": "code",
   "execution_count": 221,
   "metadata": {
    "collapsed": true
   },
   "outputs": [],
   "source": [
    "pool2_pMPRA1_K562_rna_f = [\"POOL2__pMPRA1__K562__rep1__COUNTS.txt\",\n",
    "                           \"POOL2__pMPRA1__K562__rep2__COUNTS.txt\",\n",
    "                           \"POOL2__pMPRA1__K562__rep3__COUNTS.txt\", \n",
    "                           \"POOL2__pMPRA1__K562__rep4__COUNTS.txt\"]\n",
    "pool2_pMPRA1_K562_out_f = \"POOL2__pMPRA1__K562__all_counts.txt\""
   ]
  },
  {
   "cell_type": "markdown",
   "metadata": {},
   "source": [
    "### Index Files"
   ]
  },
  {
   "cell_type": "code",
   "execution_count": 222,
   "metadata": {
    "collapsed": true
   },
   "outputs": [],
   "source": [
    "pool1_index_f = \"../../data/0__index/twist_reorder_pool1_v10_seqID.txt\"\n",
    "pool2_index_f = \"../../data/0__index/twist_reorder_pool2_v19_seqID.txt\"\n",
    "header_f = \"../../data/0__index/Twist_Pools_Header.txt\""
   ]
  },
  {
   "cell_type": "markdown",
   "metadata": {},
   "source": [
    "## 1. import indexes"
   ]
  },
  {
   "cell_type": "code",
   "execution_count": 223,
   "metadata": {},
   "outputs": [
    {
     "data": {
      "text/html": [
       "<div>\n",
       "<style>\n",
       "    .dataframe thead tr:only-child th {\n",
       "        text-align: right;\n",
       "    }\n",
       "\n",
       "    .dataframe thead th {\n",
       "        text-align: left;\n",
       "    }\n",
       "\n",
       "    .dataframe tbody tr th {\n",
       "        vertical-align: top;\n",
       "    }\n",
       "</style>\n",
       "<table border=\"1\" class=\"dataframe\">\n",
       "  <thead>\n",
       "    <tr style=\"text-align: right;\">\n",
       "      <th></th>\n",
       "      <th>full_oligo</th>\n",
       "      <th>oligo_type</th>\n",
       "      <th>oligo_id</th>\n",
       "      <th>dupe_info</th>\n",
       "      <th>seq_name</th>\n",
       "      <th>tile_name</th>\n",
       "      <th>chr</th>\n",
       "      <th>locus_start</th>\n",
       "      <th>locus_end</th>\n",
       "      <th>strand</th>\n",
       "      <th>...</th>\n",
       "      <th>tile_number</th>\n",
       "      <th>local_start</th>\n",
       "      <th>local_end</th>\n",
       "      <th>RE_count_1</th>\n",
       "      <th>RE_count_2</th>\n",
       "      <th>RE_count_3</th>\n",
       "      <th>SNP</th>\n",
       "      <th>barcode</th>\n",
       "      <th>element</th>\n",
       "      <th>unique_id</th>\n",
       "    </tr>\n",
       "  </thead>\n",
       "  <tbody>\n",
       "    <tr>\n",
       "      <th>0</th>\n",
       "      <td>ACTGGCCGCTTCACTGGTGCAGCCCAGGCGTTTCCGGGTTCCCGCG...</td>\n",
       "      <td>WILDTYPE</td>\n",
       "      <td>1.1.0.0.1</td>\n",
       "      <td>none</td>\n",
       "      <td>Antisense.noflip.NA__chr1:100435456..100435570,-</td>\n",
       "      <td>Antisense.noflip.NA__chr1:100435456..100435570...</td>\n",
       "      <td>chr1</td>\n",
       "      <td>100435456.0</td>\n",
       "      <td>100435570.0</td>\n",
       "      <td>-</td>\n",
       "      <td>...</td>\n",
       "      <td>1.0</td>\n",
       "      <td>0.0</td>\n",
       "      <td>114.0</td>\n",
       "      <td>1</td>\n",
       "      <td>1</td>\n",
       "      <td>0</td>\n",
       "      <td>none</td>\n",
       "      <td>CTCGTAACGGG</td>\n",
       "      <td>GTGCAGCCCAGGCGTTTCCGGGTTCCCGCGGTCCCGTCCCCCAAAT...</td>\n",
       "      <td>WILDTYPE__Antisense.noflip.NA__chr1:100435456....</td>\n",
       "    </tr>\n",
       "    <tr>\n",
       "      <th>1</th>\n",
       "      <td>ACTGGCCGCTTCACTGGTGCAGCCCAGGCGTTTCCGGGTTCCCGCG...</td>\n",
       "      <td>WILDTYPE</td>\n",
       "      <td>1.1.0.0.2</td>\n",
       "      <td>none</td>\n",
       "      <td>Antisense.noflip.NA__chr1:100435456..100435570,-</td>\n",
       "      <td>Antisense.noflip.NA__chr1:100435456..100435570...</td>\n",
       "      <td>chr1</td>\n",
       "      <td>100435456.0</td>\n",
       "      <td>100435570.0</td>\n",
       "      <td>-</td>\n",
       "      <td>...</td>\n",
       "      <td>1.0</td>\n",
       "      <td>0.0</td>\n",
       "      <td>114.0</td>\n",
       "      <td>1</td>\n",
       "      <td>1</td>\n",
       "      <td>0</td>\n",
       "      <td>none</td>\n",
       "      <td>ATACGCGATTG</td>\n",
       "      <td>GTGCAGCCCAGGCGTTTCCGGGTTCCCGCGGTCCCGTCCCCCAAAT...</td>\n",
       "      <td>WILDTYPE__Antisense.noflip.NA__chr1:100435456....</td>\n",
       "    </tr>\n",
       "    <tr>\n",
       "      <th>2</th>\n",
       "      <td>ACTGGCCGCTTCACTGGTGCAGCCCAGGCGTTTCCGGGTTCCCGCG...</td>\n",
       "      <td>WILDTYPE</td>\n",
       "      <td>1.1.0.0.3</td>\n",
       "      <td>none</td>\n",
       "      <td>Antisense.noflip.NA__chr1:100435456..100435570,-</td>\n",
       "      <td>Antisense.noflip.NA__chr1:100435456..100435570...</td>\n",
       "      <td>chr1</td>\n",
       "      <td>100435456.0</td>\n",
       "      <td>100435570.0</td>\n",
       "      <td>-</td>\n",
       "      <td>...</td>\n",
       "      <td>1.0</td>\n",
       "      <td>0.0</td>\n",
       "      <td>114.0</td>\n",
       "      <td>1</td>\n",
       "      <td>1</td>\n",
       "      <td>0</td>\n",
       "      <td>none</td>\n",
       "      <td>GAAACGTAAGT</td>\n",
       "      <td>GTGCAGCCCAGGCGTTTCCGGGTTCCCGCGGTCCCGTCCCCCAAAT...</td>\n",
       "      <td>WILDTYPE__Antisense.noflip.NA__chr1:100435456....</td>\n",
       "    </tr>\n",
       "    <tr>\n",
       "      <th>3</th>\n",
       "      <td>ACTGGCCGCTTCACTGGTGCAGCCCAGGCGTTTCCGGGTTCCCGCG...</td>\n",
       "      <td>WILDTYPE</td>\n",
       "      <td>1.1.0.0.4</td>\n",
       "      <td>none</td>\n",
       "      <td>Antisense.noflip.NA__chr1:100435456..100435570,-</td>\n",
       "      <td>Antisense.noflip.NA__chr1:100435456..100435570...</td>\n",
       "      <td>chr1</td>\n",
       "      <td>100435456.0</td>\n",
       "      <td>100435570.0</td>\n",
       "      <td>-</td>\n",
       "      <td>...</td>\n",
       "      <td>1.0</td>\n",
       "      <td>0.0</td>\n",
       "      <td>114.0</td>\n",
       "      <td>1</td>\n",
       "      <td>1</td>\n",
       "      <td>0</td>\n",
       "      <td>none</td>\n",
       "      <td>GTACTAAGAGT</td>\n",
       "      <td>GTGCAGCCCAGGCGTTTCCGGGTTCCCGCGGTCCCGTCCCCCAAAT...</td>\n",
       "      <td>WILDTYPE__Antisense.noflip.NA__chr1:100435456....</td>\n",
       "    </tr>\n",
       "    <tr>\n",
       "      <th>4</th>\n",
       "      <td>ACTGGCCGCTTCACTGGTGCAGCCCAGGCGTTTCCGGGTTCCCGCG...</td>\n",
       "      <td>WILDTYPE</td>\n",
       "      <td>1.1.0.0.5</td>\n",
       "      <td>none</td>\n",
       "      <td>Antisense.noflip.NA__chr1:100435456..100435570,-</td>\n",
       "      <td>Antisense.noflip.NA__chr1:100435456..100435570...</td>\n",
       "      <td>chr1</td>\n",
       "      <td>100435456.0</td>\n",
       "      <td>100435570.0</td>\n",
       "      <td>-</td>\n",
       "      <td>...</td>\n",
       "      <td>1.0</td>\n",
       "      <td>0.0</td>\n",
       "      <td>114.0</td>\n",
       "      <td>1</td>\n",
       "      <td>1</td>\n",
       "      <td>0</td>\n",
       "      <td>none</td>\n",
       "      <td>ACTTTCCGACG</td>\n",
       "      <td>GTGCAGCCCAGGCGTTTCCGGGTTCCCGCGGTCCCGTCCCCCAAAT...</td>\n",
       "      <td>WILDTYPE__Antisense.noflip.NA__chr1:100435456....</td>\n",
       "    </tr>\n",
       "  </tbody>\n",
       "</table>\n",
       "<p>5 rows × 22 columns</p>\n",
       "</div>"
      ],
      "text/plain": [
       "                                          full_oligo oligo_type   oligo_id  \\\n",
       "0  ACTGGCCGCTTCACTGGTGCAGCCCAGGCGTTTCCGGGTTCCCGCG...   WILDTYPE  1.1.0.0.1   \n",
       "1  ACTGGCCGCTTCACTGGTGCAGCCCAGGCGTTTCCGGGTTCCCGCG...   WILDTYPE  1.1.0.0.2   \n",
       "2  ACTGGCCGCTTCACTGGTGCAGCCCAGGCGTTTCCGGGTTCCCGCG...   WILDTYPE  1.1.0.0.3   \n",
       "3  ACTGGCCGCTTCACTGGTGCAGCCCAGGCGTTTCCGGGTTCCCGCG...   WILDTYPE  1.1.0.0.4   \n",
       "4  ACTGGCCGCTTCACTGGTGCAGCCCAGGCGTTTCCGGGTTCCCGCG...   WILDTYPE  1.1.0.0.5   \n",
       "\n",
       "  dupe_info                                          seq_name  \\\n",
       "0      none  Antisense.noflip.NA__chr1:100435456..100435570,-   \n",
       "1      none  Antisense.noflip.NA__chr1:100435456..100435570,-   \n",
       "2      none  Antisense.noflip.NA__chr1:100435456..100435570,-   \n",
       "3      none  Antisense.noflip.NA__chr1:100435456..100435570,-   \n",
       "4      none  Antisense.noflip.NA__chr1:100435456..100435570,-   \n",
       "\n",
       "                                           tile_name   chr  locus_start  \\\n",
       "0  Antisense.noflip.NA__chr1:100435456..100435570...  chr1  100435456.0   \n",
       "1  Antisense.noflip.NA__chr1:100435456..100435570...  chr1  100435456.0   \n",
       "2  Antisense.noflip.NA__chr1:100435456..100435570...  chr1  100435456.0   \n",
       "3  Antisense.noflip.NA__chr1:100435456..100435570...  chr1  100435456.0   \n",
       "4  Antisense.noflip.NA__chr1:100435456..100435570...  chr1  100435456.0   \n",
       "\n",
       "     locus_end strand                        ...                          \\\n",
       "0  100435570.0      -                        ...                           \n",
       "1  100435570.0      -                        ...                           \n",
       "2  100435570.0      -                        ...                           \n",
       "3  100435570.0      -                        ...                           \n",
       "4  100435570.0      -                        ...                           \n",
       "\n",
       "   tile_number  local_start  local_end  RE_count_1  RE_count_2  RE_count_3  \\\n",
       "0          1.0          0.0      114.0           1           1           0   \n",
       "1          1.0          0.0      114.0           1           1           0   \n",
       "2          1.0          0.0      114.0           1           1           0   \n",
       "3          1.0          0.0      114.0           1           1           0   \n",
       "4          1.0          0.0      114.0           1           1           0   \n",
       "\n",
       "    SNP      barcode                                            element  \\\n",
       "0  none  CTCGTAACGGG  GTGCAGCCCAGGCGTTTCCGGGTTCCCGCGGTCCCGTCCCCCAAAT...   \n",
       "1  none  ATACGCGATTG  GTGCAGCCCAGGCGTTTCCGGGTTCCCGCGGTCCCGTCCCCCAAAT...   \n",
       "2  none  GAAACGTAAGT  GTGCAGCCCAGGCGTTTCCGGGTTCCCGCGGTCCCGTCCCCCAAAT...   \n",
       "3  none  GTACTAAGAGT  GTGCAGCCCAGGCGTTTCCGGGTTCCCGCGGTCCCGTCCCCCAAAT...   \n",
       "4  none  ACTTTCCGACG  GTGCAGCCCAGGCGTTTCCGGGTTCCCGCGGTCCCGTCCCCCAAAT...   \n",
       "\n",
       "                                           unique_id  \n",
       "0  WILDTYPE__Antisense.noflip.NA__chr1:100435456....  \n",
       "1  WILDTYPE__Antisense.noflip.NA__chr1:100435456....  \n",
       "2  WILDTYPE__Antisense.noflip.NA__chr1:100435456....  \n",
       "3  WILDTYPE__Antisense.noflip.NA__chr1:100435456....  \n",
       "4  WILDTYPE__Antisense.noflip.NA__chr1:100435456....  \n",
       "\n",
       "[5 rows x 22 columns]"
      ]
     },
     "execution_count": 223,
     "metadata": {},
     "output_type": "execute_result"
    }
   ],
   "source": [
    "pool1_index = pd.read_table(pool1_index_f, sep=\"\\t\", header=None)\n",
    "pool2_index = pd.read_table(pool2_index_f, sep=\"\\t\", header=None)\n",
    "header = pd.read_table(header_f, sep=\"\\t\", header=None)\n",
    "header_list = list(header[0])\n",
    "pool1_index.columns = header_list\n",
    "pool2_index.columns = header_list\n",
    "pool1_index.head()"
   ]
  },
  {
   "cell_type": "markdown",
   "metadata": {},
   "source": [
    "## 2. import dna"
   ]
  },
  {
   "cell_type": "code",
   "execution_count": 224,
   "metadata": {},
   "outputs": [
    {
     "data": {
      "text/html": [
       "<div>\n",
       "<style>\n",
       "    .dataframe thead tr:only-child th {\n",
       "        text-align: right;\n",
       "    }\n",
       "\n",
       "    .dataframe thead th {\n",
       "        text-align: left;\n",
       "    }\n",
       "\n",
       "    .dataframe tbody tr th {\n",
       "        vertical-align: top;\n",
       "    }\n",
       "</style>\n",
       "<table border=\"1\" class=\"dataframe\">\n",
       "  <thead>\n",
       "    <tr style=\"text-align: right;\">\n",
       "      <th></th>\n",
       "      <th>barcode</th>\n",
       "      <th>dna_1</th>\n",
       "    </tr>\n",
       "  </thead>\n",
       "  <tbody>\n",
       "    <tr>\n",
       "      <th>0</th>\n",
       "      <td>ACGACTTACTT</td>\n",
       "      <td>26</td>\n",
       "    </tr>\n",
       "    <tr>\n",
       "      <th>1</th>\n",
       "      <td>CCTAAAGAATC</td>\n",
       "      <td>801</td>\n",
       "    </tr>\n",
       "    <tr>\n",
       "      <th>2</th>\n",
       "      <td>ACCCGAGAATG</td>\n",
       "      <td>385</td>\n",
       "    </tr>\n",
       "    <tr>\n",
       "      <th>3</th>\n",
       "      <td>ACTTACTACGA</td>\n",
       "      <td>112</td>\n",
       "    </tr>\n",
       "    <tr>\n",
       "      <th>4</th>\n",
       "      <td>ACGCTTATGTG</td>\n",
       "      <td>80</td>\n",
       "    </tr>\n",
       "  </tbody>\n",
       "</table>\n",
       "</div>"
      ],
      "text/plain": [
       "       barcode  dna_1\n",
       "0  ACGACTTACTT     26\n",
       "1  CCTAAAGAATC    801\n",
       "2  ACCCGAGAATG    385\n",
       "3  ACTTACTACGA    112\n",
       "4  ACGCTTATGTG     80"
      ]
     },
     "execution_count": 224,
     "metadata": {},
     "output_type": "execute_result"
    }
   ],
   "source": [
    "pool1_pMPRA1_dna = import_dna(counts_dir, pool1_pMPRA1_dna_f)\n",
    "pool1_pMPRA1_dna.head()"
   ]
  },
  {
   "cell_type": "code",
   "execution_count": 225,
   "metadata": {},
   "outputs": [
    {
     "data": {
      "text/html": [
       "<div>\n",
       "<style>\n",
       "    .dataframe thead tr:only-child th {\n",
       "        text-align: right;\n",
       "    }\n",
       "\n",
       "    .dataframe thead th {\n",
       "        text-align: left;\n",
       "    }\n",
       "\n",
       "    .dataframe tbody tr th {\n",
       "        vertical-align: top;\n",
       "    }\n",
       "</style>\n",
       "<table border=\"1\" class=\"dataframe\">\n",
       "  <thead>\n",
       "    <tr style=\"text-align: right;\">\n",
       "      <th></th>\n",
       "      <th>barcode</th>\n",
       "      <th>dna_1</th>\n",
       "    </tr>\n",
       "  </thead>\n",
       "  <tbody>\n",
       "    <tr>\n",
       "      <th>0</th>\n",
       "      <td>ATGTAAACACA</td>\n",
       "      <td>833</td>\n",
       "    </tr>\n",
       "    <tr>\n",
       "      <th>1</th>\n",
       "      <td>ATTCTATTCGC</td>\n",
       "      <td>532</td>\n",
       "    </tr>\n",
       "    <tr>\n",
       "      <th>2</th>\n",
       "      <td>AGTTCGAGTGC</td>\n",
       "      <td>1287</td>\n",
       "    </tr>\n",
       "    <tr>\n",
       "      <th>3</th>\n",
       "      <td>TTATCGGAACC</td>\n",
       "      <td>132</td>\n",
       "    </tr>\n",
       "    <tr>\n",
       "      <th>4</th>\n",
       "      <td>AGCCAATACTA</td>\n",
       "      <td>67</td>\n",
       "    </tr>\n",
       "  </tbody>\n",
       "</table>\n",
       "</div>"
      ],
      "text/plain": [
       "       barcode  dna_1\n",
       "0  ATGTAAACACA    833\n",
       "1  ATTCTATTCGC    532\n",
       "2  AGTTCGAGTGC   1287\n",
       "3  TTATCGGAACC    132\n",
       "4  AGCCAATACTA     67"
      ]
     },
     "execution_count": 225,
     "metadata": {},
     "output_type": "execute_result"
    }
   ],
   "source": [
    "pool1_pNoCMVMPRA1_dna = import_dna(counts_dir, pool1_pNoCMVMPRA1_dna_f)\n",
    "pool1_pNoCMVMPRA1_dna.head()"
   ]
  },
  {
   "cell_type": "code",
   "execution_count": 226,
   "metadata": {},
   "outputs": [
    {
     "data": {
      "text/html": [
       "<div>\n",
       "<style>\n",
       "    .dataframe thead tr:only-child th {\n",
       "        text-align: right;\n",
       "    }\n",
       "\n",
       "    .dataframe thead th {\n",
       "        text-align: left;\n",
       "    }\n",
       "\n",
       "    .dataframe tbody tr th {\n",
       "        vertical-align: top;\n",
       "    }\n",
       "</style>\n",
       "<table border=\"1\" class=\"dataframe\">\n",
       "  <thead>\n",
       "    <tr style=\"text-align: right;\">\n",
       "      <th></th>\n",
       "      <th>barcode</th>\n",
       "      <th>dna_1</th>\n",
       "    </tr>\n",
       "  </thead>\n",
       "  <tbody>\n",
       "    <tr>\n",
       "      <th>0</th>\n",
       "      <td>AATAGCAGCGC</td>\n",
       "      <td>192</td>\n",
       "    </tr>\n",
       "    <tr>\n",
       "      <th>1</th>\n",
       "      <td>CTGCGTGATCG</td>\n",
       "      <td>9</td>\n",
       "    </tr>\n",
       "    <tr>\n",
       "      <th>2</th>\n",
       "      <td>ACGCATTGGCT</td>\n",
       "      <td>32</td>\n",
       "    </tr>\n",
       "    <tr>\n",
       "      <th>3</th>\n",
       "      <td>ATTGATTATGC</td>\n",
       "      <td>158</td>\n",
       "    </tr>\n",
       "    <tr>\n",
       "      <th>4</th>\n",
       "      <td>CATCGAACCTG</td>\n",
       "      <td>733</td>\n",
       "    </tr>\n",
       "  </tbody>\n",
       "</table>\n",
       "</div>"
      ],
      "text/plain": [
       "       barcode  dna_1\n",
       "0  AATAGCAGCGC    192\n",
       "1  CTGCGTGATCG      9\n",
       "2  ACGCATTGGCT     32\n",
       "3  ATTGATTATGC    158\n",
       "4  CATCGAACCTG    733"
      ]
     },
     "execution_count": 226,
     "metadata": {},
     "output_type": "execute_result"
    }
   ],
   "source": [
    "pool2_pMPRA1_dna = import_dna(counts_dir, pool2_pMPRA1_dna_f)\n",
    "pool2_pMPRA1_dna.head()"
   ]
  },
  {
   "cell_type": "markdown",
   "metadata": {},
   "source": [
    "## 3. import rna"
   ]
  },
  {
   "cell_type": "code",
   "execution_count": 227,
   "metadata": {},
   "outputs": [
    {
     "data": {
      "text/html": [
       "<div>\n",
       "<style>\n",
       "    .dataframe thead tr:only-child th {\n",
       "        text-align: right;\n",
       "    }\n",
       "\n",
       "    .dataframe thead th {\n",
       "        text-align: left;\n",
       "    }\n",
       "\n",
       "    .dataframe tbody tr th {\n",
       "        vertical-align: top;\n",
       "    }\n",
       "</style>\n",
       "<table border=\"1\" class=\"dataframe\">\n",
       "  <thead>\n",
       "    <tr style=\"text-align: right;\">\n",
       "      <th></th>\n",
       "      <th>barcode</th>\n",
       "      <th>dna_1</th>\n",
       "      <th>rna_1</th>\n",
       "      <th>rna_2</th>\n",
       "      <th>rna_3</th>\n",
       "      <th>rna_4</th>\n",
       "    </tr>\n",
       "  </thead>\n",
       "  <tbody>\n",
       "    <tr>\n",
       "      <th>0</th>\n",
       "      <td>ACGACTTACTT</td>\n",
       "      <td>26.0</td>\n",
       "      <td>NaN</td>\n",
       "      <td>NaN</td>\n",
       "      <td>NaN</td>\n",
       "      <td>1.0</td>\n",
       "    </tr>\n",
       "    <tr>\n",
       "      <th>1</th>\n",
       "      <td>CCTAAAGAATC</td>\n",
       "      <td>801.0</td>\n",
       "      <td>355.0</td>\n",
       "      <td>1.0</td>\n",
       "      <td>26.0</td>\n",
       "      <td>6.0</td>\n",
       "    </tr>\n",
       "    <tr>\n",
       "      <th>2</th>\n",
       "      <td>ACCCGAGAATG</td>\n",
       "      <td>385.0</td>\n",
       "      <td>760.0</td>\n",
       "      <td>2.0</td>\n",
       "      <td>NaN</td>\n",
       "      <td>NaN</td>\n",
       "    </tr>\n",
       "    <tr>\n",
       "      <th>3</th>\n",
       "      <td>ACTTACTACGA</td>\n",
       "      <td>112.0</td>\n",
       "      <td>1240.0</td>\n",
       "      <td>3040.0</td>\n",
       "      <td>1560.0</td>\n",
       "      <td>2626.0</td>\n",
       "    </tr>\n",
       "    <tr>\n",
       "      <th>4</th>\n",
       "      <td>ACGCTTATGTG</td>\n",
       "      <td>80.0</td>\n",
       "      <td>NaN</td>\n",
       "      <td>NaN</td>\n",
       "      <td>NaN</td>\n",
       "      <td>118.0</td>\n",
       "    </tr>\n",
       "  </tbody>\n",
       "</table>\n",
       "</div>"
      ],
      "text/plain": [
       "       barcode  dna_1   rna_1   rna_2   rna_3   rna_4\n",
       "0  ACGACTTACTT   26.0     NaN     NaN     NaN     1.0\n",
       "1  CCTAAAGAATC  801.0   355.0     1.0    26.0     6.0\n",
       "2  ACCCGAGAATG  385.0   760.0     2.0     NaN     NaN\n",
       "3  ACTTACTACGA  112.0  1240.0  3040.0  1560.0  2626.0\n",
       "4  ACGCTTATGTG   80.0     NaN     NaN     NaN   118.0"
      ]
     },
     "execution_count": 227,
     "metadata": {},
     "output_type": "execute_result"
    }
   ],
   "source": [
    "pool1_pMPRA1_HeLa_data, pool1_pMPRA1_HeLa_cols = import_rna(counts_dir, pool1_pMPRA1_HeLa_rna_f, pool1_pMPRA1_dna)\n",
    "pool1_pMPRA1_HeLa_data.head()"
   ]
  },
  {
   "cell_type": "code",
   "execution_count": 228,
   "metadata": {},
   "outputs": [
    {
     "data": {
      "text/html": [
       "<div>\n",
       "<style>\n",
       "    .dataframe thead tr:only-child th {\n",
       "        text-align: right;\n",
       "    }\n",
       "\n",
       "    .dataframe thead th {\n",
       "        text-align: left;\n",
       "    }\n",
       "\n",
       "    .dataframe tbody tr th {\n",
       "        vertical-align: top;\n",
       "    }\n",
       "</style>\n",
       "<table border=\"1\" class=\"dataframe\">\n",
       "  <thead>\n",
       "    <tr style=\"text-align: right;\">\n",
       "      <th></th>\n",
       "      <th>barcode</th>\n",
       "      <th>dna_1</th>\n",
       "      <th>rna_3</th>\n",
       "      <th>rna_4</th>\n",
       "      <th>rna_5</th>\n",
       "      <th>rna_6</th>\n",
       "      <th>rna_7</th>\n",
       "      <th>rna_8</th>\n",
       "      <th>rna_9</th>\n",
       "      <th>rna_10</th>\n",
       "      <th>rna_11</th>\n",
       "      <th>rna_12</th>\n",
       "      <th>rna_13</th>\n",
       "      <th>rna_14</th>\n",
       "    </tr>\n",
       "  </thead>\n",
       "  <tbody>\n",
       "    <tr>\n",
       "      <th>0</th>\n",
       "      <td>ACGACTTACTT</td>\n",
       "      <td>26.0</td>\n",
       "      <td>5.0</td>\n",
       "      <td>36.0</td>\n",
       "      <td>2.0</td>\n",
       "      <td>3.0</td>\n",
       "      <td>8.0</td>\n",
       "      <td>2.0</td>\n",
       "      <td>91.0</td>\n",
       "      <td>24.0</td>\n",
       "      <td>7.0</td>\n",
       "      <td>9.0</td>\n",
       "      <td>7.0</td>\n",
       "      <td>18.0</td>\n",
       "    </tr>\n",
       "    <tr>\n",
       "      <th>1</th>\n",
       "      <td>CCTAAAGAATC</td>\n",
       "      <td>801.0</td>\n",
       "      <td>341.0</td>\n",
       "      <td>579.0</td>\n",
       "      <td>733.0</td>\n",
       "      <td>546.0</td>\n",
       "      <td>656.0</td>\n",
       "      <td>1118.0</td>\n",
       "      <td>677.0</td>\n",
       "      <td>960.0</td>\n",
       "      <td>1124.0</td>\n",
       "      <td>683.0</td>\n",
       "      <td>825.0</td>\n",
       "      <td>848.0</td>\n",
       "    </tr>\n",
       "    <tr>\n",
       "      <th>2</th>\n",
       "      <td>ACCCGAGAATG</td>\n",
       "      <td>385.0</td>\n",
       "      <td>699.0</td>\n",
       "      <td>1528.0</td>\n",
       "      <td>1213.0</td>\n",
       "      <td>1261.0</td>\n",
       "      <td>951.0</td>\n",
       "      <td>1858.0</td>\n",
       "      <td>1239.0</td>\n",
       "      <td>1266.0</td>\n",
       "      <td>1766.0</td>\n",
       "      <td>1310.0</td>\n",
       "      <td>1431.0</td>\n",
       "      <td>1846.0</td>\n",
       "    </tr>\n",
       "    <tr>\n",
       "      <th>3</th>\n",
       "      <td>ACTTACTACGA</td>\n",
       "      <td>112.0</td>\n",
       "      <td>420.0</td>\n",
       "      <td>766.0</td>\n",
       "      <td>717.0</td>\n",
       "      <td>774.0</td>\n",
       "      <td>535.0</td>\n",
       "      <td>1331.0</td>\n",
       "      <td>779.0</td>\n",
       "      <td>787.0</td>\n",
       "      <td>732.0</td>\n",
       "      <td>769.0</td>\n",
       "      <td>659.0</td>\n",
       "      <td>1140.0</td>\n",
       "    </tr>\n",
       "    <tr>\n",
       "      <th>4</th>\n",
       "      <td>ACGCTTATGTG</td>\n",
       "      <td>80.0</td>\n",
       "      <td>29.0</td>\n",
       "      <td>106.0</td>\n",
       "      <td>83.0</td>\n",
       "      <td>146.0</td>\n",
       "      <td>36.0</td>\n",
       "      <td>218.0</td>\n",
       "      <td>75.0</td>\n",
       "      <td>112.0</td>\n",
       "      <td>50.0</td>\n",
       "      <td>122.0</td>\n",
       "      <td>69.0</td>\n",
       "      <td>108.0</td>\n",
       "    </tr>\n",
       "  </tbody>\n",
       "</table>\n",
       "</div>"
      ],
      "text/plain": [
       "       barcode  dna_1  rna_3   rna_4   rna_5   rna_6  rna_7   rna_8   rna_9  \\\n",
       "0  ACGACTTACTT   26.0    5.0    36.0     2.0     3.0    8.0     2.0    91.0   \n",
       "1  CCTAAAGAATC  801.0  341.0   579.0   733.0   546.0  656.0  1118.0   677.0   \n",
       "2  ACCCGAGAATG  385.0  699.0  1528.0  1213.0  1261.0  951.0  1858.0  1239.0   \n",
       "3  ACTTACTACGA  112.0  420.0   766.0   717.0   774.0  535.0  1331.0   779.0   \n",
       "4  ACGCTTATGTG   80.0   29.0   106.0    83.0   146.0   36.0   218.0    75.0   \n",
       "\n",
       "   rna_10  rna_11  rna_12  rna_13  rna_14  \n",
       "0    24.0     7.0     9.0     7.0    18.0  \n",
       "1   960.0  1124.0   683.0   825.0   848.0  \n",
       "2  1266.0  1766.0  1310.0  1431.0  1846.0  \n",
       "3   787.0   732.0   769.0   659.0  1140.0  \n",
       "4   112.0    50.0   122.0    69.0   108.0  "
      ]
     },
     "execution_count": 228,
     "metadata": {},
     "output_type": "execute_result"
    }
   ],
   "source": [
    "pool1_pMPRA1_HepG2_data, pool1_pMPRA1_HepG2_cols = import_rna(counts_dir, pool1_pMPRA1_HepG2_rna_f, pool1_pMPRA1_dna)\n",
    "pool1_pMPRA1_HepG2_data.head()"
   ]
  },
  {
   "cell_type": "code",
   "execution_count": 229,
   "metadata": {},
   "outputs": [
    {
     "data": {
      "text/html": [
       "<div>\n",
       "<style>\n",
       "    .dataframe thead tr:only-child th {\n",
       "        text-align: right;\n",
       "    }\n",
       "\n",
       "    .dataframe thead th {\n",
       "        text-align: left;\n",
       "    }\n",
       "\n",
       "    .dataframe tbody tr th {\n",
       "        vertical-align: top;\n",
       "    }\n",
       "</style>\n",
       "<table border=\"1\" class=\"dataframe\">\n",
       "  <thead>\n",
       "    <tr style=\"text-align: right;\">\n",
       "      <th></th>\n",
       "      <th>barcode</th>\n",
       "      <th>dna_1</th>\n",
       "      <th>rna_1</th>\n",
       "      <th>rna_2</th>\n",
       "      <th>rna_3</th>\n",
       "      <th>rna_4</th>\n",
       "    </tr>\n",
       "  </thead>\n",
       "  <tbody>\n",
       "    <tr>\n",
       "      <th>0</th>\n",
       "      <td>ACGACTTACTT</td>\n",
       "      <td>26.0</td>\n",
       "      <td>NaN</td>\n",
       "      <td>NaN</td>\n",
       "      <td>NaN</td>\n",
       "      <td>NaN</td>\n",
       "    </tr>\n",
       "    <tr>\n",
       "      <th>1</th>\n",
       "      <td>CCTAAAGAATC</td>\n",
       "      <td>801.0</td>\n",
       "      <td>563.0</td>\n",
       "      <td>1030.0</td>\n",
       "      <td>605.0</td>\n",
       "      <td>1217.0</td>\n",
       "    </tr>\n",
       "    <tr>\n",
       "      <th>2</th>\n",
       "      <td>ACCCGAGAATG</td>\n",
       "      <td>385.0</td>\n",
       "      <td>316.0</td>\n",
       "      <td>829.0</td>\n",
       "      <td>391.0</td>\n",
       "      <td>873.0</td>\n",
       "    </tr>\n",
       "    <tr>\n",
       "      <th>3</th>\n",
       "      <td>ACTTACTACGA</td>\n",
       "      <td>112.0</td>\n",
       "      <td>1139.0</td>\n",
       "      <td>1297.0</td>\n",
       "      <td>741.0</td>\n",
       "      <td>814.0</td>\n",
       "    </tr>\n",
       "    <tr>\n",
       "      <th>4</th>\n",
       "      <td>ACGCTTATGTG</td>\n",
       "      <td>80.0</td>\n",
       "      <td>NaN</td>\n",
       "      <td>NaN</td>\n",
       "      <td>170.0</td>\n",
       "      <td>62.0</td>\n",
       "    </tr>\n",
       "  </tbody>\n",
       "</table>\n",
       "</div>"
      ],
      "text/plain": [
       "       barcode  dna_1   rna_1   rna_2  rna_3   rna_4\n",
       "0  ACGACTTACTT   26.0     NaN     NaN    NaN     NaN\n",
       "1  CCTAAAGAATC  801.0   563.0  1030.0  605.0  1217.0\n",
       "2  ACCCGAGAATG  385.0   316.0   829.0  391.0   873.0\n",
       "3  ACTTACTACGA  112.0  1139.0  1297.0  741.0   814.0\n",
       "4  ACGCTTATGTG   80.0     NaN     NaN  170.0    62.0"
      ]
     },
     "execution_count": 229,
     "metadata": {},
     "output_type": "execute_result"
    }
   ],
   "source": [
    "pool1_pMPRA1_K562_data, pool1_pMPRA1_K562_cols = import_rna(counts_dir, pool1_pMPRA1_K562_rna_f, pool1_pMPRA1_dna)\n",
    "pool1_pMPRA1_K562_data.head()"
   ]
  },
  {
   "cell_type": "code",
   "execution_count": 230,
   "metadata": {},
   "outputs": [
    {
     "data": {
      "text/html": [
       "<div>\n",
       "<style>\n",
       "    .dataframe thead tr:only-child th {\n",
       "        text-align: right;\n",
       "    }\n",
       "\n",
       "    .dataframe thead th {\n",
       "        text-align: left;\n",
       "    }\n",
       "\n",
       "    .dataframe tbody tr th {\n",
       "        vertical-align: top;\n",
       "    }\n",
       "</style>\n",
       "<table border=\"1\" class=\"dataframe\">\n",
       "  <thead>\n",
       "    <tr style=\"text-align: right;\">\n",
       "      <th></th>\n",
       "      <th>barcode</th>\n",
       "      <th>dna_1</th>\n",
       "      <th>rna_1</th>\n",
       "      <th>rna_2</th>\n",
       "      <th>rna_3</th>\n",
       "      <th>rna_4</th>\n",
       "    </tr>\n",
       "  </thead>\n",
       "  <tbody>\n",
       "    <tr>\n",
       "      <th>0</th>\n",
       "      <td>ATGTAAACACA</td>\n",
       "      <td>833.0</td>\n",
       "      <td>1.0</td>\n",
       "      <td>3053.0</td>\n",
       "      <td>NaN</td>\n",
       "      <td>13.0</td>\n",
       "    </tr>\n",
       "    <tr>\n",
       "      <th>1</th>\n",
       "      <td>ATTCTATTCGC</td>\n",
       "      <td>532.0</td>\n",
       "      <td>NaN</td>\n",
       "      <td>1.0</td>\n",
       "      <td>NaN</td>\n",
       "      <td>NaN</td>\n",
       "    </tr>\n",
       "    <tr>\n",
       "      <th>2</th>\n",
       "      <td>AGTTCGAGTGC</td>\n",
       "      <td>1287.0</td>\n",
       "      <td>NaN</td>\n",
       "      <td>456.0</td>\n",
       "      <td>NaN</td>\n",
       "      <td>NaN</td>\n",
       "    </tr>\n",
       "    <tr>\n",
       "      <th>3</th>\n",
       "      <td>TTATCGGAACC</td>\n",
       "      <td>132.0</td>\n",
       "      <td>2.0</td>\n",
       "      <td>NaN</td>\n",
       "      <td>NaN</td>\n",
       "      <td>NaN</td>\n",
       "    </tr>\n",
       "    <tr>\n",
       "      <th>4</th>\n",
       "      <td>AGCCAATACTA</td>\n",
       "      <td>67.0</td>\n",
       "      <td>NaN</td>\n",
       "      <td>NaN</td>\n",
       "      <td>NaN</td>\n",
       "      <td>NaN</td>\n",
       "    </tr>\n",
       "  </tbody>\n",
       "</table>\n",
       "</div>"
      ],
      "text/plain": [
       "       barcode   dna_1  rna_1   rna_2  rna_3  rna_4\n",
       "0  ATGTAAACACA   833.0    1.0  3053.0    NaN   13.0\n",
       "1  ATTCTATTCGC   532.0    NaN     1.0    NaN    NaN\n",
       "2  AGTTCGAGTGC  1287.0    NaN   456.0    NaN    NaN\n",
       "3  TTATCGGAACC   132.0    2.0     NaN    NaN    NaN\n",
       "4  AGCCAATACTA    67.0    NaN     NaN    NaN    NaN"
      ]
     },
     "execution_count": 230,
     "metadata": {},
     "output_type": "execute_result"
    }
   ],
   "source": [
    "pool1_pNoCMVMPRA1_HeLa_data, pool1_pNoCMVMPRA1_HeLa_cols = import_rna(counts_dir, pool1_pNoCMVMPRA1_HeLa_rna_f, pool1_pNoCMVMPRA1_dna)\n",
    "pool1_pNoCMVMPRA1_HeLa_data.head()"
   ]
  },
  {
   "cell_type": "code",
   "execution_count": 231,
   "metadata": {},
   "outputs": [
    {
     "data": {
      "text/html": [
       "<div>\n",
       "<style>\n",
       "    .dataframe thead tr:only-child th {\n",
       "        text-align: right;\n",
       "    }\n",
       "\n",
       "    .dataframe thead th {\n",
       "        text-align: left;\n",
       "    }\n",
       "\n",
       "    .dataframe tbody tr th {\n",
       "        vertical-align: top;\n",
       "    }\n",
       "</style>\n",
       "<table border=\"1\" class=\"dataframe\">\n",
       "  <thead>\n",
       "    <tr style=\"text-align: right;\">\n",
       "      <th></th>\n",
       "      <th>barcode</th>\n",
       "      <th>dna_1</th>\n",
       "      <th>rna_3</th>\n",
       "      <th>rna_4</th>\n",
       "      <th>rna_5</th>\n",
       "      <th>rna_6</th>\n",
       "    </tr>\n",
       "  </thead>\n",
       "  <tbody>\n",
       "    <tr>\n",
       "      <th>0</th>\n",
       "      <td>ATGTAAACACA</td>\n",
       "      <td>833.0</td>\n",
       "      <td>91.0</td>\n",
       "      <td>24.0</td>\n",
       "      <td>353.0</td>\n",
       "      <td>347.0</td>\n",
       "    </tr>\n",
       "    <tr>\n",
       "      <th>1</th>\n",
       "      <td>ATTCTATTCGC</td>\n",
       "      <td>532.0</td>\n",
       "      <td>9.0</td>\n",
       "      <td>11.0</td>\n",
       "      <td>NaN</td>\n",
       "      <td>46.0</td>\n",
       "    </tr>\n",
       "    <tr>\n",
       "      <th>2</th>\n",
       "      <td>AGTTCGAGTGC</td>\n",
       "      <td>1287.0</td>\n",
       "      <td>264.0</td>\n",
       "      <td>329.0</td>\n",
       "      <td>705.0</td>\n",
       "      <td>806.0</td>\n",
       "    </tr>\n",
       "    <tr>\n",
       "      <th>3</th>\n",
       "      <td>TTATCGGAACC</td>\n",
       "      <td>132.0</td>\n",
       "      <td>3.0</td>\n",
       "      <td>18.0</td>\n",
       "      <td>NaN</td>\n",
       "      <td>NaN</td>\n",
       "    </tr>\n",
       "    <tr>\n",
       "      <th>4</th>\n",
       "      <td>AGCCAATACTA</td>\n",
       "      <td>67.0</td>\n",
       "      <td>9.0</td>\n",
       "      <td>NaN</td>\n",
       "      <td>NaN</td>\n",
       "      <td>NaN</td>\n",
       "    </tr>\n",
       "  </tbody>\n",
       "</table>\n",
       "</div>"
      ],
      "text/plain": [
       "       barcode   dna_1  rna_3  rna_4  rna_5  rna_6\n",
       "0  ATGTAAACACA   833.0   91.0   24.0  353.0  347.0\n",
       "1  ATTCTATTCGC   532.0    9.0   11.0    NaN   46.0\n",
       "2  AGTTCGAGTGC  1287.0  264.0  329.0  705.0  806.0\n",
       "3  TTATCGGAACC   132.0    3.0   18.0    NaN    NaN\n",
       "4  AGCCAATACTA    67.0    9.0    NaN    NaN    NaN"
      ]
     },
     "execution_count": 231,
     "metadata": {},
     "output_type": "execute_result"
    }
   ],
   "source": [
    "pool1_pNoCMVMPRA1_HepG2_data, pool1_pNoCMVMPRA1_HepG2_cols = import_rna(counts_dir, pool1_pNoCMVMPRA1_HepG2_rna_f, pool1_pNoCMVMPRA1_dna)\n",
    "pool1_pNoCMVMPRA1_HepG2_data.head()"
   ]
  },
  {
   "cell_type": "code",
   "execution_count": 232,
   "metadata": {},
   "outputs": [
    {
     "data": {
      "text/html": [
       "<div>\n",
       "<style>\n",
       "    .dataframe thead tr:only-child th {\n",
       "        text-align: right;\n",
       "    }\n",
       "\n",
       "    .dataframe thead th {\n",
       "        text-align: left;\n",
       "    }\n",
       "\n",
       "    .dataframe tbody tr th {\n",
       "        vertical-align: top;\n",
       "    }\n",
       "</style>\n",
       "<table border=\"1\" class=\"dataframe\">\n",
       "  <thead>\n",
       "    <tr style=\"text-align: right;\">\n",
       "      <th></th>\n",
       "      <th>barcode</th>\n",
       "      <th>dna_1</th>\n",
       "      <th>rna_1</th>\n",
       "      <th>rna_2</th>\n",
       "      <th>rna_3</th>\n",
       "      <th>rna_4</th>\n",
       "    </tr>\n",
       "  </thead>\n",
       "  <tbody>\n",
       "    <tr>\n",
       "      <th>0</th>\n",
       "      <td>ATGTAAACACA</td>\n",
       "      <td>833.0</td>\n",
       "      <td>344.0</td>\n",
       "      <td>148.0</td>\n",
       "      <td>75.0</td>\n",
       "      <td>140.0</td>\n",
       "    </tr>\n",
       "    <tr>\n",
       "      <th>1</th>\n",
       "      <td>ATTCTATTCGC</td>\n",
       "      <td>532.0</td>\n",
       "      <td>9.0</td>\n",
       "      <td>122.0</td>\n",
       "      <td>12.0</td>\n",
       "      <td>73.0</td>\n",
       "    </tr>\n",
       "    <tr>\n",
       "      <th>2</th>\n",
       "      <td>AGTTCGAGTGC</td>\n",
       "      <td>1287.0</td>\n",
       "      <td>1332.0</td>\n",
       "      <td>651.0</td>\n",
       "      <td>908.0</td>\n",
       "      <td>919.0</td>\n",
       "    </tr>\n",
       "    <tr>\n",
       "      <th>3</th>\n",
       "      <td>TTATCGGAACC</td>\n",
       "      <td>132.0</td>\n",
       "      <td>1.0</td>\n",
       "      <td>18.0</td>\n",
       "      <td>NaN</td>\n",
       "      <td>NaN</td>\n",
       "    </tr>\n",
       "    <tr>\n",
       "      <th>4</th>\n",
       "      <td>AGCCAATACTA</td>\n",
       "      <td>67.0</td>\n",
       "      <td>93.0</td>\n",
       "      <td>84.0</td>\n",
       "      <td>NaN</td>\n",
       "      <td>NaN</td>\n",
       "    </tr>\n",
       "  </tbody>\n",
       "</table>\n",
       "</div>"
      ],
      "text/plain": [
       "       barcode   dna_1   rna_1  rna_2  rna_3  rna_4\n",
       "0  ATGTAAACACA   833.0   344.0  148.0   75.0  140.0\n",
       "1  ATTCTATTCGC   532.0     9.0  122.0   12.0   73.0\n",
       "2  AGTTCGAGTGC  1287.0  1332.0  651.0  908.0  919.0\n",
       "3  TTATCGGAACC   132.0     1.0   18.0    NaN    NaN\n",
       "4  AGCCAATACTA    67.0    93.0   84.0    NaN    NaN"
      ]
     },
     "execution_count": 232,
     "metadata": {},
     "output_type": "execute_result"
    }
   ],
   "source": [
    "pool1_pNoCMVMPRA1_K562_data, pool1_pNoCMVMPRA1_K562_cols = import_rna(counts_dir, pool1_pNoCMVMPRA1_K562_rna_f, pool1_pNoCMVMPRA1_dna)\n",
    "pool1_pNoCMVMPRA1_K562_data.head()"
   ]
  },
  {
   "cell_type": "code",
   "execution_count": 233,
   "metadata": {},
   "outputs": [
    {
     "data": {
      "text/html": [
       "<div>\n",
       "<style>\n",
       "    .dataframe thead tr:only-child th {\n",
       "        text-align: right;\n",
       "    }\n",
       "\n",
       "    .dataframe thead th {\n",
       "        text-align: left;\n",
       "    }\n",
       "\n",
       "    .dataframe tbody tr th {\n",
       "        vertical-align: top;\n",
       "    }\n",
       "</style>\n",
       "<table border=\"1\" class=\"dataframe\">\n",
       "  <thead>\n",
       "    <tr style=\"text-align: right;\">\n",
       "      <th></th>\n",
       "      <th>barcode</th>\n",
       "      <th>dna_1</th>\n",
       "      <th>rna_1</th>\n",
       "      <th>rna_2</th>\n",
       "      <th>rna_3</th>\n",
       "      <th>rna_4</th>\n",
       "    </tr>\n",
       "  </thead>\n",
       "  <tbody>\n",
       "    <tr>\n",
       "      <th>0</th>\n",
       "      <td>AATAGCAGCGC</td>\n",
       "      <td>192.0</td>\n",
       "      <td>NaN</td>\n",
       "      <td>64.0</td>\n",
       "      <td>NaN</td>\n",
       "      <td>134.0</td>\n",
       "    </tr>\n",
       "    <tr>\n",
       "      <th>1</th>\n",
       "      <td>CTGCGTGATCG</td>\n",
       "      <td>9.0</td>\n",
       "      <td>NaN</td>\n",
       "      <td>76.0</td>\n",
       "      <td>NaN</td>\n",
       "      <td>NaN</td>\n",
       "    </tr>\n",
       "    <tr>\n",
       "      <th>2</th>\n",
       "      <td>ACGCATTGGCT</td>\n",
       "      <td>32.0</td>\n",
       "      <td>6.0</td>\n",
       "      <td>4.0</td>\n",
       "      <td>8.0</td>\n",
       "      <td>3.0</td>\n",
       "    </tr>\n",
       "    <tr>\n",
       "      <th>3</th>\n",
       "      <td>ATTGATTATGC</td>\n",
       "      <td>158.0</td>\n",
       "      <td>1050.0</td>\n",
       "      <td>4986.0</td>\n",
       "      <td>NaN</td>\n",
       "      <td>258.0</td>\n",
       "    </tr>\n",
       "    <tr>\n",
       "      <th>4</th>\n",
       "      <td>CATCGAACCTG</td>\n",
       "      <td>733.0</td>\n",
       "      <td>NaN</td>\n",
       "      <td>1053.0</td>\n",
       "      <td>NaN</td>\n",
       "      <td>2163.0</td>\n",
       "    </tr>\n",
       "  </tbody>\n",
       "</table>\n",
       "</div>"
      ],
      "text/plain": [
       "       barcode  dna_1   rna_1   rna_2  rna_3   rna_4\n",
       "0  AATAGCAGCGC  192.0     NaN    64.0    NaN   134.0\n",
       "1  CTGCGTGATCG    9.0     NaN    76.0    NaN     NaN\n",
       "2  ACGCATTGGCT   32.0     6.0     4.0    8.0     3.0\n",
       "3  ATTGATTATGC  158.0  1050.0  4986.0    NaN   258.0\n",
       "4  CATCGAACCTG  733.0     NaN  1053.0    NaN  2163.0"
      ]
     },
     "execution_count": 233,
     "metadata": {},
     "output_type": "execute_result"
    }
   ],
   "source": [
    "pool2_pMPRA1_HeLa_data, pool2_pMPRA1_HeLa_cols = import_rna(counts_dir, pool2_pMPRA1_HeLa_rna_f, pool2_pMPRA1_dna)\n",
    "pool2_pMPRA1_HeLa_data.head()"
   ]
  },
  {
   "cell_type": "code",
   "execution_count": 234,
   "metadata": {},
   "outputs": [
    {
     "data": {
      "text/html": [
       "<div>\n",
       "<style>\n",
       "    .dataframe thead tr:only-child th {\n",
       "        text-align: right;\n",
       "    }\n",
       "\n",
       "    .dataframe thead th {\n",
       "        text-align: left;\n",
       "    }\n",
       "\n",
       "    .dataframe tbody tr th {\n",
       "        vertical-align: top;\n",
       "    }\n",
       "</style>\n",
       "<table border=\"1\" class=\"dataframe\">\n",
       "  <thead>\n",
       "    <tr style=\"text-align: right;\">\n",
       "      <th></th>\n",
       "      <th>barcode</th>\n",
       "      <th>dna_1</th>\n",
       "      <th>rna_3</th>\n",
       "      <th>rna_4</th>\n",
       "      <th>rna_5</th>\n",
       "      <th>rna_6</th>\n",
       "      <th>rna_7</th>\n",
       "      <th>rna_8</th>\n",
       "      <th>rna_9</th>\n",
       "      <th>rna_10</th>\n",
       "    </tr>\n",
       "  </thead>\n",
       "  <tbody>\n",
       "    <tr>\n",
       "      <th>0</th>\n",
       "      <td>AATAGCAGCGC</td>\n",
       "      <td>192.0</td>\n",
       "      <td>40.0</td>\n",
       "      <td>126.0</td>\n",
       "      <td>103.0</td>\n",
       "      <td>180.0</td>\n",
       "      <td>78.0</td>\n",
       "      <td>141.0</td>\n",
       "      <td>217.0</td>\n",
       "      <td>134.0</td>\n",
       "    </tr>\n",
       "    <tr>\n",
       "      <th>1</th>\n",
       "      <td>CTGCGTGATCG</td>\n",
       "      <td>9.0</td>\n",
       "      <td>3.0</td>\n",
       "      <td>4.0</td>\n",
       "      <td>NaN</td>\n",
       "      <td>1.0</td>\n",
       "      <td>NaN</td>\n",
       "      <td>NaN</td>\n",
       "      <td>10.0</td>\n",
       "      <td>NaN</td>\n",
       "    </tr>\n",
       "    <tr>\n",
       "      <th>2</th>\n",
       "      <td>ACGCATTGGCT</td>\n",
       "      <td>32.0</td>\n",
       "      <td>7.0</td>\n",
       "      <td>40.0</td>\n",
       "      <td>4.0</td>\n",
       "      <td>59.0</td>\n",
       "      <td>1.0</td>\n",
       "      <td>32.0</td>\n",
       "      <td>3.0</td>\n",
       "      <td>19.0</td>\n",
       "    </tr>\n",
       "    <tr>\n",
       "      <th>3</th>\n",
       "      <td>ATTGATTATGC</td>\n",
       "      <td>158.0</td>\n",
       "      <td>727.0</td>\n",
       "      <td>1813.0</td>\n",
       "      <td>1578.0</td>\n",
       "      <td>2188.0</td>\n",
       "      <td>3051.0</td>\n",
       "      <td>2723.0</td>\n",
       "      <td>2722.0</td>\n",
       "      <td>2104.0</td>\n",
       "    </tr>\n",
       "    <tr>\n",
       "      <th>4</th>\n",
       "      <td>CATCGAACCTG</td>\n",
       "      <td>733.0</td>\n",
       "      <td>142.0</td>\n",
       "      <td>250.0</td>\n",
       "      <td>442.0</td>\n",
       "      <td>634.0</td>\n",
       "      <td>206.0</td>\n",
       "      <td>355.0</td>\n",
       "      <td>539.0</td>\n",
       "      <td>313.0</td>\n",
       "    </tr>\n",
       "  </tbody>\n",
       "</table>\n",
       "</div>"
      ],
      "text/plain": [
       "       barcode  dna_1  rna_3   rna_4   rna_5   rna_6   rna_7   rna_8   rna_9  \\\n",
       "0  AATAGCAGCGC  192.0   40.0   126.0   103.0   180.0    78.0   141.0   217.0   \n",
       "1  CTGCGTGATCG    9.0    3.0     4.0     NaN     1.0     NaN     NaN    10.0   \n",
       "2  ACGCATTGGCT   32.0    7.0    40.0     4.0    59.0     1.0    32.0     3.0   \n",
       "3  ATTGATTATGC  158.0  727.0  1813.0  1578.0  2188.0  3051.0  2723.0  2722.0   \n",
       "4  CATCGAACCTG  733.0  142.0   250.0   442.0   634.0   206.0   355.0   539.0   \n",
       "\n",
       "   rna_10  \n",
       "0   134.0  \n",
       "1     NaN  \n",
       "2    19.0  \n",
       "3  2104.0  \n",
       "4   313.0  "
      ]
     },
     "execution_count": 234,
     "metadata": {},
     "output_type": "execute_result"
    }
   ],
   "source": [
    "pool2_pMPRA1_HepG2_data, pool2_pMPRA1_HepG2_cols = import_rna(counts_dir, pool2_pMPRA1_HepG2_rna_f, pool2_pMPRA1_dna)\n",
    "pool2_pMPRA1_HepG2_data.head()"
   ]
  },
  {
   "cell_type": "code",
   "execution_count": 235,
   "metadata": {},
   "outputs": [
    {
     "data": {
      "text/html": [
       "<div>\n",
       "<style>\n",
       "    .dataframe thead tr:only-child th {\n",
       "        text-align: right;\n",
       "    }\n",
       "\n",
       "    .dataframe thead th {\n",
       "        text-align: left;\n",
       "    }\n",
       "\n",
       "    .dataframe tbody tr th {\n",
       "        vertical-align: top;\n",
       "    }\n",
       "</style>\n",
       "<table border=\"1\" class=\"dataframe\">\n",
       "  <thead>\n",
       "    <tr style=\"text-align: right;\">\n",
       "      <th></th>\n",
       "      <th>barcode</th>\n",
       "      <th>dna_1</th>\n",
       "      <th>rna_1</th>\n",
       "      <th>rna_2</th>\n",
       "      <th>rna_3</th>\n",
       "      <th>rna_4</th>\n",
       "    </tr>\n",
       "  </thead>\n",
       "  <tbody>\n",
       "    <tr>\n",
       "      <th>0</th>\n",
       "      <td>AATAGCAGCGC</td>\n",
       "      <td>192.0</td>\n",
       "      <td>77.0</td>\n",
       "      <td>6.0</td>\n",
       "      <td>NaN</td>\n",
       "      <td>NaN</td>\n",
       "    </tr>\n",
       "    <tr>\n",
       "      <th>1</th>\n",
       "      <td>CTGCGTGATCG</td>\n",
       "      <td>9.0</td>\n",
       "      <td>NaN</td>\n",
       "      <td>2.0</td>\n",
       "      <td>NaN</td>\n",
       "      <td>2.0</td>\n",
       "    </tr>\n",
       "    <tr>\n",
       "      <th>2</th>\n",
       "      <td>ACGCATTGGCT</td>\n",
       "      <td>32.0</td>\n",
       "      <td>4.0</td>\n",
       "      <td>2.0</td>\n",
       "      <td>2.0</td>\n",
       "      <td>4.0</td>\n",
       "    </tr>\n",
       "    <tr>\n",
       "      <th>3</th>\n",
       "      <td>ATTGATTATGC</td>\n",
       "      <td>158.0</td>\n",
       "      <td>1377.0</td>\n",
       "      <td>3185.0</td>\n",
       "      <td>329.0</td>\n",
       "      <td>2010.0</td>\n",
       "    </tr>\n",
       "    <tr>\n",
       "      <th>4</th>\n",
       "      <td>CATCGAACCTG</td>\n",
       "      <td>733.0</td>\n",
       "      <td>83.0</td>\n",
       "      <td>484.0</td>\n",
       "      <td>24.0</td>\n",
       "      <td>41.0</td>\n",
       "    </tr>\n",
       "  </tbody>\n",
       "</table>\n",
       "</div>"
      ],
      "text/plain": [
       "       barcode  dna_1   rna_1   rna_2  rna_3   rna_4\n",
       "0  AATAGCAGCGC  192.0    77.0     6.0    NaN     NaN\n",
       "1  CTGCGTGATCG    9.0     NaN     2.0    NaN     2.0\n",
       "2  ACGCATTGGCT   32.0     4.0     2.0    2.0     4.0\n",
       "3  ATTGATTATGC  158.0  1377.0  3185.0  329.0  2010.0\n",
       "4  CATCGAACCTG  733.0    83.0   484.0   24.0    41.0"
      ]
     },
     "execution_count": 235,
     "metadata": {},
     "output_type": "execute_result"
    }
   ],
   "source": [
    "pool2_pMPRA1_K562_data, pool2_pMPRA1_K562_cols = import_rna(counts_dir, pool2_pMPRA1_K562_rna_f, pool2_pMPRA1_dna)\n",
    "pool2_pMPRA1_K562_data.head()"
   ]
  },
  {
   "cell_type": "markdown",
   "metadata": {},
   "source": [
    "## 4. filter barcodes"
   ]
  },
  {
   "cell_type": "code",
   "execution_count": 236,
   "metadata": {
    "collapsed": true
   },
   "outputs": [],
   "source": [
    "pool1_pMPRA1_HeLa_data = pool1_pMPRA1_HeLa_data.fillna(0)\n",
    "pool1_pMPRA1_HepG2_data = pool1_pMPRA1_HepG2_data.fillna(0)\n",
    "pool1_pMPRA1_K562_data = pool1_pMPRA1_K562_data.fillna(0)\n",
    "pool1_pNoCMVMPRA1_HeLa_data = pool1_pNoCMVMPRA1_HeLa_data.fillna(0)\n",
    "pool1_pNoCMVMPRA1_HepG2_data = pool1_pNoCMVMPRA1_HepG2_data.fillna(0)\n",
    "pool1_pNoCMVMPRA1_K562_data = pool1_pNoCMVMPRA1_K562_data.fillna(0)\n",
    "pool2_pMPRA1_HeLa_data = pool2_pMPRA1_HeLa_data.fillna(0)\n",
    "pool2_pMPRA1_HepG2_data = pool2_pMPRA1_HepG2_data.fillna(0)\n",
    "pool2_pMPRA1_K562_data = pool2_pMPRA1_K562_data.fillna(0)"
   ]
  },
  {
   "cell_type": "code",
   "execution_count": 237,
   "metadata": {},
   "outputs": [
    {
     "data": {
      "text/html": [
       "<div>\n",
       "<style>\n",
       "    .dataframe thead tr:only-child th {\n",
       "        text-align: right;\n",
       "    }\n",
       "\n",
       "    .dataframe thead th {\n",
       "        text-align: left;\n",
       "    }\n",
       "\n",
       "    .dataframe tbody tr th {\n",
       "        vertical-align: top;\n",
       "    }\n",
       "</style>\n",
       "<table border=\"1\" class=\"dataframe\">\n",
       "  <thead>\n",
       "    <tr style=\"text-align: right;\">\n",
       "      <th></th>\n",
       "      <th>barcode</th>\n",
       "      <th>dna_1</th>\n",
       "      <th>rna_1</th>\n",
       "      <th>rna_2</th>\n",
       "      <th>rna_3</th>\n",
       "      <th>rna_4</th>\n",
       "    </tr>\n",
       "  </thead>\n",
       "  <tbody>\n",
       "    <tr>\n",
       "      <th>0</th>\n",
       "      <td>ACGACTTACTT</td>\n",
       "      <td>26.0</td>\n",
       "      <td>0.0</td>\n",
       "      <td>0.0</td>\n",
       "      <td>0.0</td>\n",
       "      <td>1.0</td>\n",
       "    </tr>\n",
       "    <tr>\n",
       "      <th>1</th>\n",
       "      <td>CCTAAAGAATC</td>\n",
       "      <td>801.0</td>\n",
       "      <td>355.0</td>\n",
       "      <td>1.0</td>\n",
       "      <td>26.0</td>\n",
       "      <td>6.0</td>\n",
       "    </tr>\n",
       "    <tr>\n",
       "      <th>2</th>\n",
       "      <td>ACCCGAGAATG</td>\n",
       "      <td>385.0</td>\n",
       "      <td>760.0</td>\n",
       "      <td>2.0</td>\n",
       "      <td>0.0</td>\n",
       "      <td>0.0</td>\n",
       "    </tr>\n",
       "    <tr>\n",
       "      <th>3</th>\n",
       "      <td>ACTTACTACGA</td>\n",
       "      <td>112.0</td>\n",
       "      <td>1240.0</td>\n",
       "      <td>3040.0</td>\n",
       "      <td>1560.0</td>\n",
       "      <td>2626.0</td>\n",
       "    </tr>\n",
       "    <tr>\n",
       "      <th>4</th>\n",
       "      <td>ACGCTTATGTG</td>\n",
       "      <td>80.0</td>\n",
       "      <td>0.0</td>\n",
       "      <td>0.0</td>\n",
       "      <td>0.0</td>\n",
       "      <td>118.0</td>\n",
       "    </tr>\n",
       "  </tbody>\n",
       "</table>\n",
       "</div>"
      ],
      "text/plain": [
       "       barcode  dna_1   rna_1   rna_2   rna_3   rna_4\n",
       "0  ACGACTTACTT   26.0     0.0     0.0     0.0     1.0\n",
       "1  CCTAAAGAATC  801.0   355.0     1.0    26.0     6.0\n",
       "2  ACCCGAGAATG  385.0   760.0     2.0     0.0     0.0\n",
       "3  ACTTACTACGA  112.0  1240.0  3040.0  1560.0  2626.0\n",
       "4  ACGCTTATGTG   80.0     0.0     0.0     0.0   118.0"
      ]
     },
     "execution_count": 237,
     "metadata": {},
     "output_type": "execute_result"
    }
   ],
   "source": [
    "pool1_pMPRA1_HeLa_data.head()"
   ]
  },
  {
   "cell_type": "code",
   "execution_count": 238,
   "metadata": {
    "collapsed": true
   },
   "outputs": [],
   "source": [
    "pool1_pMPRA1_HeLa_data_filt = pool1_pMPRA1_HeLa_data[pool1_pMPRA1_HeLa_data[\"dna_1\"] >= barcode_dna_read_threshold]\n",
    "pool1_pMPRA1_HepG2_data_filt = pool1_pMPRA1_HepG2_data[pool1_pMPRA1_HepG2_data[\"dna_1\"] >= barcode_dna_read_threshold]\n",
    "pool1_pMPRA1_K562_data_filt = pool1_pMPRA1_K562_data[pool1_pMPRA1_K562_data[\"dna_1\"] >= barcode_dna_read_threshold]\n",
    "pool1_pNoCMVMPRA1_HeLa_data_filt = pool1_pNoCMVMPRA1_HeLa_data[pool1_pNoCMVMPRA1_HeLa_data[\"dna_1\"] >= barcode_dna_read_threshold]\n",
    "pool1_pNoCMVMPRA1_HepG2_data_filt = pool1_pNoCMVMPRA1_HepG2_data[pool1_pNoCMVMPRA1_HepG2_data[\"dna_1\"] >= barcode_dna_read_threshold]\n",
    "pool1_pNoCMVMPRA1_K562_data_filt = pool1_pNoCMVMPRA1_K562_data[pool1_pNoCMVMPRA1_K562_data[\"dna_1\"] >= barcode_dna_read_threshold]\n",
    "pool2_pMPRA1_HeLa_data_filt = pool2_pMPRA1_HeLa_data[pool2_pMPRA1_HeLa_data[\"dna_1\"] >= barcode_dna_read_threshold]\n",
    "pool2_pMPRA1_HepG2_data_filt = pool2_pMPRA1_HepG2_data[pool2_pMPRA1_HepG2_data[\"dna_1\"] >= barcode_dna_read_threshold]\n",
    "pool2_pMPRA1_K562_data_filt = pool2_pMPRA1_K562_data[pool2_pMPRA1_K562_data[\"dna_1\"] >= barcode_dna_read_threshold]"
   ]
  },
  {
   "cell_type": "code",
   "execution_count": 239,
   "metadata": {
    "collapsed": true
   },
   "outputs": [],
   "source": [
    "pool1_pMPRA1_HeLa_reps = [x for x in pool1_pMPRA1_HeLa_data_filt.columns if \"rna_\" in x]\n",
    "pool1_pMPRA1_HepG2_reps = [x for x in pool1_pMPRA1_HepG2_data_filt.columns if \"rna_\" in x]\n",
    "pool1_pMPRA1_K562_reps = [x for x in pool1_pMPRA1_K562_data_filt.columns if \"rna_\" in x]\n",
    "pool1_pNoCMVMPRA1_HeLa_reps = [x for x in pool1_pNoCMVMPRA1_HeLa_data_filt.columns if \"rna_\" in x]\n",
    "pool1_pNoCMVMPRA1_HepG2_reps = [x for x in pool1_pNoCMVMPRA1_HepG2_data_filt.columns if \"rna_\" in x]\n",
    "pool1_pNoCMVMPRA1_K562_reps = [x for x in pool1_pNoCMVMPRA1_K562_data_filt.columns if \"rna_\" in x]\n",
    "pool2_pMPRA1_HeLa_reps = [x for x in pool2_pMPRA1_HeLa_data_filt.columns if \"rna_\" in x]\n",
    "pool2_pMPRA1_HepG2_reps = [x for x in pool2_pMPRA1_HepG2_data_filt.columns if \"rna_\" in x]\n",
    "pool2_pMPRA1_K562_reps = [x for x in pool2_pMPRA1_K562_data_filt.columns if \"rna_\" in x]"
   ]
  },
  {
   "cell_type": "code",
   "execution_count": 240,
   "metadata": {},
   "outputs": [
    {
     "data": {
      "text/html": [
       "<div>\n",
       "<style>\n",
       "    .dataframe thead tr:only-child th {\n",
       "        text-align: right;\n",
       "    }\n",
       "\n",
       "    .dataframe thead th {\n",
       "        text-align: left;\n",
       "    }\n",
       "\n",
       "    .dataframe tbody tr th {\n",
       "        vertical-align: top;\n",
       "    }\n",
       "</style>\n",
       "<table border=\"1\" class=\"dataframe\">\n",
       "  <thead>\n",
       "    <tr style=\"text-align: right;\">\n",
       "      <th></th>\n",
       "      <th>barcode</th>\n",
       "      <th>dna_1</th>\n",
       "      <th>rna_1</th>\n",
       "      <th>rna_2</th>\n",
       "      <th>rna_3</th>\n",
       "      <th>rna_4</th>\n",
       "    </tr>\n",
       "  </thead>\n",
       "  <tbody>\n",
       "    <tr>\n",
       "      <th>0</th>\n",
       "      <td>ACGACTTACTT</td>\n",
       "      <td>26.0</td>\n",
       "      <td>NaN</td>\n",
       "      <td>NaN</td>\n",
       "      <td>NaN</td>\n",
       "      <td>NaN</td>\n",
       "    </tr>\n",
       "    <tr>\n",
       "      <th>1</th>\n",
       "      <td>CCTAAAGAATC</td>\n",
       "      <td>801.0</td>\n",
       "      <td>355.0</td>\n",
       "      <td>NaN</td>\n",
       "      <td>26.0</td>\n",
       "      <td>6.0</td>\n",
       "    </tr>\n",
       "    <tr>\n",
       "      <th>2</th>\n",
       "      <td>ACCCGAGAATG</td>\n",
       "      <td>385.0</td>\n",
       "      <td>760.0</td>\n",
       "      <td>NaN</td>\n",
       "      <td>NaN</td>\n",
       "      <td>NaN</td>\n",
       "    </tr>\n",
       "    <tr>\n",
       "      <th>3</th>\n",
       "      <td>ACTTACTACGA</td>\n",
       "      <td>112.0</td>\n",
       "      <td>1240.0</td>\n",
       "      <td>3040.0</td>\n",
       "      <td>1560.0</td>\n",
       "      <td>2626.0</td>\n",
       "    </tr>\n",
       "    <tr>\n",
       "      <th>4</th>\n",
       "      <td>ACGCTTATGTG</td>\n",
       "      <td>80.0</td>\n",
       "      <td>NaN</td>\n",
       "      <td>NaN</td>\n",
       "      <td>NaN</td>\n",
       "      <td>118.0</td>\n",
       "    </tr>\n",
       "  </tbody>\n",
       "</table>\n",
       "</div>"
      ],
      "text/plain": [
       "       barcode  dna_1   rna_1   rna_2   rna_3   rna_4\n",
       "0  ACGACTTACTT   26.0     NaN     NaN     NaN     NaN\n",
       "1  CCTAAAGAATC  801.0   355.0     NaN    26.0     6.0\n",
       "2  ACCCGAGAATG  385.0   760.0     NaN     NaN     NaN\n",
       "3  ACTTACTACGA  112.0  1240.0  3040.0  1560.0  2626.0\n",
       "4  ACGCTTATGTG   80.0     NaN     NaN     NaN   118.0"
      ]
     },
     "execution_count": 240,
     "metadata": {},
     "output_type": "execute_result"
    }
   ],
   "source": [
    "pool1_pMPRA1_HeLa_data_filt[pool1_pMPRA1_HeLa_reps] = pool1_pMPRA1_HeLa_data_filt[pool1_pMPRA1_HeLa_data_filt > barcode_rna_read_threshold][pool1_pMPRA1_HeLa_reps]\n",
    "pool1_pMPRA1_HepG2_data_filt[pool1_pMPRA1_HepG2_reps] = pool1_pMPRA1_HepG2_data_filt[pool1_pMPRA1_HepG2_data_filt > barcode_rna_read_threshold][pool1_pMPRA1_HepG2_reps]\n",
    "pool1_pMPRA1_K562_data_filt[pool1_pMPRA1_K562_reps] = pool1_pMPRA1_K562_data_filt[pool1_pMPRA1_K562_data_filt > barcode_rna_read_threshold][pool1_pMPRA1_K562_reps]\n",
    "pool1_pNoCMVMPRA1_HeLa_data_filt[pool1_pNoCMVMPRA1_HeLa_reps] = pool1_pNoCMVMPRA1_HeLa_data_filt[pool1_pNoCMVMPRA1_HeLa_data_filt > barcode_rna_read_threshold][pool1_pNoCMVMPRA1_HeLa_reps]\n",
    "pool1_pNoCMVMPRA1_HepG2_data_filt[pool1_pNoCMVMPRA1_HepG2_reps] = pool1_pNoCMVMPRA1_HepG2_data_filt[pool1_pNoCMVMPRA1_HepG2_data_filt > barcode_rna_read_threshold][pool1_pNoCMVMPRA1_HepG2_reps]\n",
    "pool1_pNoCMVMPRA1_K562_data_filt[pool1_pNoCMVMPRA1_K562_reps] = pool1_pNoCMVMPRA1_K562_data_filt[pool1_pNoCMVMPRA1_K562_data_filt > barcode_rna_read_threshold][pool1_pNoCMVMPRA1_K562_reps]\n",
    "pool2_pMPRA1_HeLa_data_filt[pool2_pMPRA1_HeLa_reps] = pool2_pMPRA1_HeLa_data_filt[pool2_pMPRA1_HeLa_data_filt > barcode_rna_read_threshold][pool2_pMPRA1_HeLa_reps]\n",
    "pool2_pMPRA1_HepG2_data_filt[pool2_pMPRA1_HepG2_reps] = pool2_pMPRA1_HepG2_data_filt[pool2_pMPRA1_HepG2_data_filt > barcode_rna_read_threshold][pool2_pMPRA1_HepG2_reps]\n",
    "pool2_pMPRA1_K562_data_filt[pool2_pMPRA1_K562_reps] = pool2_pMPRA1_K562_data_filt[pool2_pMPRA1_K562_data_filt > barcode_rna_read_threshold][pool2_pMPRA1_K562_reps]\n",
    "pool1_pMPRA1_HeLa_data_filt.head()"
   ]
  },
  {
   "cell_type": "code",
   "execution_count": 241,
   "metadata": {},
   "outputs": [
    {
     "name": "stdout",
     "output_type": "stream",
     "text": [
      "FILTERING RESULTS:\n",
      "pool1_pMPRA1_HeLa: from 120000 barcodes to 104972 at DNA level (87.47666666666667%)\n",
      "\trep 1: 42917 barcodes at RNA level (35.76416666666667%)\n",
      "\trep 2: 36384 barcodes at RNA level (30.320000000000004%)\n",
      "\trep 3: 34235 barcodes at RNA level (28.529166666666665%)\n",
      "\trep 4: 34563 barcodes at RNA level (28.8025%)\n",
      "\n",
      "pool1_pMPRA1_HepG2: from 120000 barcodes to 104972 at DNA level (87.47666666666667%)\n",
      "\trep 3: 97325 barcodes at RNA level (81.10416666666667%)\n",
      "\trep 4: 100382 barcodes at RNA level (83.65166666666667%)\n",
      "\trep 5: 96451 barcodes at RNA level (80.37583333333333%)\n",
      "\trep 6: 94855 barcodes at RNA level (79.04583333333333%)\n",
      "\trep 7: 97024 barcodes at RNA level (80.85333333333334%)\n",
      "\trep 8: 97224 barcodes at RNA level (81.02000000000001%)\n",
      "\trep 9: 96321 barcodes at RNA level (80.2675%)\n",
      "\trep 10: 98550 barcodes at RNA level (82.125%)\n",
      "\trep 11: 97920 barcodes at RNA level (81.6%)\n",
      "\trep 12: 97973 barcodes at RNA level (81.64416666666666%)\n",
      "\trep 13: 97916 barcodes at RNA level (81.59666666666666%)\n",
      "\trep 14: 98273 barcodes at RNA level (81.89416666666666%)\n",
      "\n",
      "pool1_pMPRA1_K562: from 120000 barcodes to 104972 at DNA level (87.47666666666667%)\n",
      "\trep 1: 63219 barcodes at RNA level (52.6825%)\n",
      "\trep 2: 77866 barcodes at RNA level (64.88833333333334%)\n",
      "\trep 3: 86012 barcodes at RNA level (71.67666666666666%)\n",
      "\trep 4: 73927 barcodes at RNA level (61.60583333333334%)\n",
      "\n",
      "pool1_pNoCMVMPRA1_HeLa: from 120000 barcodes to 106331 at DNA level (88.60916666666667%)\n",
      "\trep 1: 25169 barcodes at RNA level (20.974166666666665%)\n",
      "\trep 2: 32307 barcodes at RNA level (26.9225%)\n",
      "\trep 3: 18732 barcodes at RNA level (15.61%)\n",
      "\trep 4: 18336 barcodes at RNA level (15.28%)\n",
      "\n",
      "pool1_pNoCMVMPRA1_HepG2: from 120000 barcodes to 106331 at DNA level (88.60916666666667%)\n",
      "\trep 3: 92266 barcodes at RNA level (76.88833333333334%)\n",
      "\trep 4: 93520 barcodes at RNA level (77.93333333333334%)\n",
      "\trep 5: 90704 barcodes at RNA level (75.58666666666667%)\n",
      "\trep 6: 90707 barcodes at RNA level (75.58916666666666%)\n",
      "\n",
      "pool1_pNoCMVMPRA1_K562: from 120000 barcodes to 106331 at DNA level (88.60916666666667%)\n",
      "\trep 1: 81333 barcodes at RNA level (67.7775%)\n",
      "\trep 2: 83435 barcodes at RNA level (69.52916666666667%)\n",
      "\trep 3: 82625 barcodes at RNA level (68.85416666666667%)\n",
      "\trep 4: 82748 barcodes at RNA level (68.95666666666666%)\n",
      "\n",
      "pool2_pMPRA1_HeLa: from 119082 barcodes to 110969 at DNA level (93.18704758065871%)\n",
      "\trep 1: 33295 barcodes at RNA level (27.959725231353183%)\n",
      "\trep 2: 73555 barcodes at RNA level (61.76836129725736%)\n",
      "\trep 3: 22899 barcodes at RNA level (19.22960648964579%)\n",
      "\trep 4: 66878 barcodes at RNA level (56.16130061638199%)\n",
      "\n",
      "pool2_pMPRA1_HepG2: from 119082 barcodes to 110969 at DNA level (93.18704758065871%)\n",
      "\trep 3: 99458 barcodes at RNA level (83.52059925093633%)\n",
      "\trep 4: 104620 barcodes at RNA level (87.85542735258058%)\n",
      "\trep 5: 98097 barcodes at RNA level (82.37768932332342%)\n",
      "\trep 6: 99190 barcodes at RNA level (83.29554424682152%)\n",
      "\trep 7: 100237 barcodes at RNA level (84.17477032632975%)\n",
      "\trep 8: 101461 barcodes at RNA level (85.20263347945114%)\n",
      "\trep 9: 101598 barcodes at RNA level (85.31768025394267%)\n",
      "\trep 10: 101583 barcodes at RNA level (85.30508389177206%)\n",
      "\n",
      "pool2_pMPRA1_K562: from 119082 barcodes to 110969 at DNA level (93.18704758065871%)\n",
      "\trep 1: 63173 barcodes at RNA level (53.04999916024252%)\n",
      "\trep 2: 79362 barcodes at RNA level (66.64483297223762%)\n",
      "\trep 3: 36569 barcodes at RNA level (30.709091214457263%)\n",
      "\trep 4: 53581 barcodes at RNA level (44.99504543087956%)\n",
      "\n"
     ]
    }
   ],
   "source": [
    "all_names = [\"pool1_pMPRA1_HeLa\", \"pool1_pMPRA1_HepG2\", \"pool1_pMPRA1_K562\", \"pool1_pNoCMVMPRA1_HeLa\",\n",
    "             \"pool1_pNoCMVMPRA1_HepG2\", \"pool1_pNoCMVMPRA1_K562\", \"pool2_pMPRA1_HeLa\", \"pool2_pMPRA1_HepG2\",\n",
    "             \"pool2_pMPRA1_K562\"]\n",
    "\n",
    "all_dfs = [pool1_pMPRA1_HeLa_data_filt, pool1_pMPRA1_HepG2_data_filt, pool1_pMPRA1_K562_data_filt,\n",
    "           pool1_pNoCMVMPRA1_HeLa_data_filt, pool1_pNoCMVMPRA1_HepG2_data_filt, pool1_pNoCMVMPRA1_K562_data_filt,\n",
    "           pool2_pMPRA1_HeLa_data_filt, pool2_pMPRA1_HepG2_data_filt, pool2_pMPRA1_K562_data_filt]\n",
    "\n",
    "all_cols = [pool1_pMPRA1_HeLa_cols, pool1_pMPRA1_HepG2_cols, pool1_pMPRA1_K562_cols,\n",
    "            pool1_pNoCMVMPRA1_HeLa_cols, pool1_pNoCMVMPRA1_HepG2_cols, pool1_pNoCMVMPRA1_K562_cols,\n",
    "            pool2_pMPRA1_HeLa_cols, pool2_pMPRA1_HepG2_cols, pool2_pMPRA1_K562_cols]\n",
    "\n",
    "print(\"FILTERING RESULTS:\")\n",
    "for n, df, cs in zip(all_names, all_dfs, all_cols):\n",
    "    if \"pool1\" in n:\n",
    "        index_len = len(pool1_index)\n",
    "    elif \"pool2\" in n:\n",
    "        index_len = len(pool2_index)\n",
    "        \n",
    "    dna_barc_len = len(df)\n",
    "    dna_barc_perc = (float(dna_barc_len)/index_len)*100\n",
    "    \n",
    "    print(\"%s: from %s barcodes to %s at DNA level (%s%%)\" % (n, index_len, dna_barc_len, dna_barc_perc))\n",
    "    \n",
    "    reps = [x for x in cs if \"rna_\" in x]\n",
    "    \n",
    "    for r in reps:\n",
    "        rep = r.split(\"_\")[1]\n",
    "        \n",
    "        rna_barc_len = sum(~pd.isnull(df[r]))\n",
    "        rna_barc_perc = (float(rna_barc_len)/index_len)*100\n",
    "        \n",
    "        print(\"\\trep %s: %s barcodes at RNA level (%s%%)\" % (rep, rna_barc_len, rna_barc_perc))\n",
    "    print(\"\")"
   ]
  },
  {
   "cell_type": "code",
   "execution_count": 242,
   "metadata": {},
   "outputs": [
    {
     "data": {
      "text/plain": [
       "104972"
      ]
     },
     "execution_count": 242,
     "metadata": {},
     "output_type": "execute_result"
    }
   ],
   "source": [
    "len(pool1_pMPRA1_HeLa_data_filt)"
   ]
  },
  {
   "cell_type": "markdown",
   "metadata": {},
   "source": [
    "## 5. join with index"
   ]
  },
  {
   "cell_type": "code",
   "execution_count": 243,
   "metadata": {
    "collapsed": true
   },
   "outputs": [],
   "source": [
    "pool1_pMPRA1_HeLa_data_filt = pool1_pMPRA1_HeLa_data_filt.merge(pool1_index, on=\"barcode\", how=\"inner\")\n",
    "pool1_pMPRA1_HepG2_data_filt = pool1_pMPRA1_HepG2_data_filt.merge(pool1_index, on=\"barcode\", how=\"inner\")\n",
    "pool1_pMPRA1_K562_data_filt = pool1_pMPRA1_K562_data_filt.merge(pool1_index, on=\"barcode\", how=\"inner\")"
   ]
  },
  {
   "cell_type": "code",
   "execution_count": 244,
   "metadata": {},
   "outputs": [
    {
     "data": {
      "text/plain": [
       "104972"
      ]
     },
     "execution_count": 244,
     "metadata": {},
     "output_type": "execute_result"
    }
   ],
   "source": [
    "len(pool1_pMPRA1_HeLa_data_filt)"
   ]
  },
  {
   "cell_type": "code",
   "execution_count": 245,
   "metadata": {
    "collapsed": true
   },
   "outputs": [],
   "source": [
    "pool1_pNoCMVMPRA1_HeLa_data_filt = pool1_pNoCMVMPRA1_HeLa_data_filt.merge(pool1_index, on=\"barcode\", how=\"inner\")\n",
    "pool1_pNoCMVMPRA1_HepG2_data_filt = pool1_pNoCMVMPRA1_HepG2_data_filt.merge(pool1_index, on=\"barcode\", how=\"inner\")\n",
    "pool1_pNoCMVMPRA1_K562_data_filt = pool1_pNoCMVMPRA1_K562_data_filt.merge(pool1_index, on=\"barcode\", how=\"inner\")"
   ]
  },
  {
   "cell_type": "code",
   "execution_count": 246,
   "metadata": {
    "collapsed": true
   },
   "outputs": [],
   "source": [
    "pool2_pMPRA1_HeLa_data_filt = pool2_pMPRA1_HeLa_data_filt.merge(pool2_index, on=\"barcode\", how=\"inner\")\n",
    "pool2_pMPRA1_HepG2_data_filt = pool2_pMPRA1_HepG2_data_filt.merge(pool2_index, on=\"barcode\", how=\"inner\")\n",
    "pool2_pMPRA1_K562_data_filt = pool2_pMPRA1_K562_data_filt.merge(pool2_index, on=\"barcode\", how=\"inner\")"
   ]
  },
  {
   "cell_type": "markdown",
   "metadata": {},
   "source": [
    "## 6. filter elements (remove ones with < 3 barcodes represented at dna level)"
   ]
  },
  {
   "cell_type": "code",
   "execution_count": 247,
   "metadata": {
    "collapsed": true
   },
   "outputs": [],
   "source": [
    "pool1_pMPRA1_HeLa_barcodes_per_elem = pool1_pMPRA1_HeLa_data_filt.groupby([\"unique_id\", \"oligo_type\"])[\"barcode\"].agg(\"count\").reset_index()\n",
    "pool1_pMPRA1_HeLa_barcodes_per_elem_neg = pool1_pMPRA1_HeLa_barcodes_per_elem[pool1_pMPRA1_HeLa_barcodes_per_elem[\"oligo_type\"].isin([\"RANDOM\", \"SCRAMBLED\"])]\n",
    "pool1_pMPRA1_HeLa_barcodes_per_elem_no_neg = pool1_pMPRA1_HeLa_barcodes_per_elem[~pool1_pMPRA1_HeLa_barcodes_per_elem[\"oligo_type\"].isin([\"RANDOM\", \"SCRAMBLED\"])]\n",
    "\n",
    "pool1_pMPRA1_HeLa_barcodes_per_elem_no_neg_filt = pool1_pMPRA1_HeLa_barcodes_per_elem_no_neg[pool1_pMPRA1_HeLa_barcodes_per_elem_no_neg[\"barcode\"] >= n_barcodes_per_elem_threshold]\n",
    "pool1_pMPRA1_HeLa_total_elems_rep = len(pool1_pMPRA1_HeLa_barcodes_per_elem_no_neg)\n",
    "pool1_pMPRA1_HeLa_total_elems_filt_rep = len(pool1_pMPRA1_HeLa_barcodes_per_elem_no_neg_filt)"
   ]
  },
  {
   "cell_type": "code",
   "execution_count": 248,
   "metadata": {
    "collapsed": true
   },
   "outputs": [],
   "source": [
    "pool1_pMPRA1_HepG2_barcodes_per_elem = pool1_pMPRA1_HepG2_data_filt.groupby([\"unique_id\", \"oligo_type\"])[\"barcode\"].agg(\"count\").reset_index()\n",
    "pool1_pMPRA1_HepG2_barcodes_per_elem_neg = pool1_pMPRA1_HepG2_barcodes_per_elem[pool1_pMPRA1_HepG2_barcodes_per_elem[\"oligo_type\"].isin([\"RANDOM\", \"SCRAMBLED\"])]\n",
    "pool1_pMPRA1_HepG2_barcodes_per_elem_no_neg = pool1_pMPRA1_HepG2_barcodes_per_elem[~pool1_pMPRA1_HepG2_barcodes_per_elem[\"oligo_type\"].isin([\"RANDOM\", \"SCRAMBLED\"])]\n",
    "\n",
    "pool1_pMPRA1_HepG2_barcodes_per_elem_no_neg_filt = pool1_pMPRA1_HepG2_barcodes_per_elem_no_neg[pool1_pMPRA1_HepG2_barcodes_per_elem_no_neg[\"barcode\"] >= n_barcodes_per_elem_threshold]\n",
    "pool1_pMPRA1_HepG2_total_elems_rep = len(pool1_pMPRA1_HepG2_barcodes_per_elem_no_neg)\n",
    "pool1_pMPRA1_HepG2_total_elems_filt_rep = len(pool1_pMPRA1_HepG2_barcodes_per_elem_no_neg_filt)"
   ]
  },
  {
   "cell_type": "code",
   "execution_count": 249,
   "metadata": {
    "collapsed": true
   },
   "outputs": [],
   "source": [
    "pool1_pMPRA1_K562_barcodes_per_elem = pool1_pMPRA1_K562_data_filt.groupby([\"unique_id\", \"oligo_type\"])[\"barcode\"].agg(\"count\").reset_index()\n",
    "pool1_pMPRA1_K562_barcodes_per_elem_neg = pool1_pMPRA1_K562_barcodes_per_elem[pool1_pMPRA1_K562_barcodes_per_elem[\"oligo_type\"].isin([\"RANDOM\", \"SCRAMBLED\"])]\n",
    "pool1_pMPRA1_K562_barcodes_per_elem_no_neg = pool1_pMPRA1_K562_barcodes_per_elem[~pool1_pMPRA1_K562_barcodes_per_elem[\"oligo_type\"].isin([\"RANDOM\", \"SCRAMBLED\"])]\n",
    "\n",
    "pool1_pMPRA1_K562_barcodes_per_elem_no_neg_filt = pool1_pMPRA1_K562_barcodes_per_elem_no_neg[pool1_pMPRA1_K562_barcodes_per_elem_no_neg[\"barcode\"] >= n_barcodes_per_elem_threshold]\n",
    "pool1_pMPRA1_K562_total_elems_rep = len(pool1_pMPRA1_K562_barcodes_per_elem_no_neg)\n",
    "pool1_pMPRA1_K562_total_elems_filt_rep = len(pool1_pMPRA1_K562_barcodes_per_elem_no_neg_filt)"
   ]
  },
  {
   "cell_type": "code",
   "execution_count": 250,
   "metadata": {
    "collapsed": true
   },
   "outputs": [],
   "source": [
    "pool1_pNoCMVMPRA1_HeLa_barcodes_per_elem = pool1_pNoCMVMPRA1_HeLa_data_filt.groupby([\"unique_id\", \"oligo_type\"])[\"barcode\"].agg(\"count\").reset_index()\n",
    "pool1_pNoCMVMPRA1_HeLa_barcodes_per_elem_neg = pool1_pNoCMVMPRA1_HeLa_barcodes_per_elem[pool1_pNoCMVMPRA1_HeLa_barcodes_per_elem[\"oligo_type\"].isin([\"RANDOM\", \"SCRAMBLED\"])]\n",
    "pool1_pNoCMVMPRA1_HeLa_barcodes_per_elem_no_neg = pool1_pNoCMVMPRA1_HeLa_barcodes_per_elem[~pool1_pNoCMVMPRA1_HeLa_barcodes_per_elem[\"oligo_type\"].isin([\"RANDOM\", \"SCRAMBLED\"])]\n",
    "\n",
    "pool1_pNoCMVMPRA1_HeLa_barcodes_per_elem_no_neg_filt = pool1_pNoCMVMPRA1_HeLa_barcodes_per_elem_no_neg[pool1_pNoCMVMPRA1_HeLa_barcodes_per_elem_no_neg[\"barcode\"] >= n_barcodes_per_elem_threshold]\n",
    "pool1_pNoCMVMPRA1_HeLa_total_elems_rep = len(pool1_pNoCMVMPRA1_HeLa_barcodes_per_elem_no_neg)\n",
    "pool1_pNoCMVMPRA1_HeLa_total_elems_filt_rep = len(pool1_pNoCMVMPRA1_HeLa_barcodes_per_elem_no_neg_filt)"
   ]
  },
  {
   "cell_type": "code",
   "execution_count": 251,
   "metadata": {
    "collapsed": true
   },
   "outputs": [],
   "source": [
    "pool1_pNoCMVMPRA1_HepG2_barcodes_per_elem = pool1_pNoCMVMPRA1_HepG2_data_filt.groupby([\"unique_id\", \"oligo_type\"])[\"barcode\"].agg(\"count\").reset_index()\n",
    "pool1_pNoCMVMPRA1_HepG2_barcodes_per_elem_neg = pool1_pNoCMVMPRA1_HepG2_barcodes_per_elem[pool1_pNoCMVMPRA1_HepG2_barcodes_per_elem[\"oligo_type\"].isin([\"RANDOM\", \"SCRAMBLED\"])]\n",
    "pool1_pNoCMVMPRA1_HepG2_barcodes_per_elem_no_neg = pool1_pNoCMVMPRA1_HepG2_barcodes_per_elem[~pool1_pNoCMVMPRA1_HepG2_barcodes_per_elem[\"oligo_type\"].isin([\"RANDOM\", \"SCRAMBLED\"])]\n",
    "\n",
    "pool1_pNoCMVMPRA1_HepG2_barcodes_per_elem_no_neg_filt = pool1_pNoCMVMPRA1_HepG2_barcodes_per_elem_no_neg[pool1_pNoCMVMPRA1_HepG2_barcodes_per_elem_no_neg[\"barcode\"] >= n_barcodes_per_elem_threshold]\n",
    "pool1_pNoCMVMPRA1_HepG2_total_elems_rep = len(pool1_pNoCMVMPRA1_HepG2_barcodes_per_elem_no_neg)\n",
    "pool1_pNoCMVMPRA1_HepG2_total_elems_filt_rep = len(pool1_pNoCMVMPRA1_HepG2_barcodes_per_elem_no_neg_filt)"
   ]
  },
  {
   "cell_type": "code",
   "execution_count": 252,
   "metadata": {
    "collapsed": true
   },
   "outputs": [],
   "source": [
    "pool1_pNoCMVMPRA1_K562_barcodes_per_elem = pool1_pNoCMVMPRA1_K562_data_filt.groupby([\"unique_id\", \"oligo_type\"])[\"barcode\"].agg(\"count\").reset_index()\n",
    "pool1_pNoCMVMPRA1_K562_barcodes_per_elem_neg = pool1_pNoCMVMPRA1_K562_barcodes_per_elem[pool1_pNoCMVMPRA1_K562_barcodes_per_elem[\"oligo_type\"].isin([\"RANDOM\", \"SCRAMBLED\"])]\n",
    "pool1_pNoCMVMPRA1_K562_barcodes_per_elem_no_neg = pool1_pNoCMVMPRA1_K562_barcodes_per_elem[~pool1_pNoCMVMPRA1_K562_barcodes_per_elem[\"oligo_type\"].isin([\"RANDOM\", \"SCRAMBLED\"])]\n",
    "\n",
    "pool1_pNoCMVMPRA1_K562_barcodes_per_elem_no_neg_filt = pool1_pNoCMVMPRA1_K562_barcodes_per_elem_no_neg[pool1_pNoCMVMPRA1_K562_barcodes_per_elem_no_neg[\"barcode\"] >= n_barcodes_per_elem_threshold]\n",
    "pool1_pNoCMVMPRA1_K562_total_elems_rep = len(pool1_pNoCMVMPRA1_K562_barcodes_per_elem_no_neg)\n",
    "pool1_pNoCMVMPRA1_K562_total_elems_filt_rep = len(pool1_pNoCMVMPRA1_K562_barcodes_per_elem_no_neg_filt)"
   ]
  },
  {
   "cell_type": "code",
   "execution_count": 253,
   "metadata": {
    "collapsed": true
   },
   "outputs": [],
   "source": [
    "pool2_pMPRA1_HeLa_barcodes_per_elem = pool2_pMPRA1_HeLa_data_filt.groupby([\"unique_id\", \"oligo_type\"])[\"barcode\"].agg(\"count\").reset_index()\n",
    "pool2_pMPRA1_HeLa_barcodes_per_elem_neg = pool2_pMPRA1_HeLa_barcodes_per_elem[pool2_pMPRA1_HeLa_barcodes_per_elem[\"oligo_type\"].isin([\"RANDOM\", \"SCRAMBLED\"])]\n",
    "pool2_pMPRA1_HeLa_barcodes_per_elem_no_neg = pool2_pMPRA1_HeLa_barcodes_per_elem[~pool2_pMPRA1_HeLa_barcodes_per_elem[\"oligo_type\"].isin([\"RANDOM\", \"SCRAMBLED\"])]\n",
    "\n",
    "pool2_pMPRA1_HeLa_barcodes_per_elem_no_neg_filt = pool2_pMPRA1_HeLa_barcodes_per_elem_no_neg[pool2_pMPRA1_HeLa_barcodes_per_elem_no_neg[\"barcode\"] >= n_barcodes_per_elem_threshold]\n",
    "pool2_pMPRA1_HeLa_total_elems_rep = len(pool2_pMPRA1_HeLa_barcodes_per_elem_no_neg)\n",
    "pool2_pMPRA1_HeLa_total_elems_filt_rep = len(pool2_pMPRA1_HeLa_barcodes_per_elem_no_neg_filt)"
   ]
  },
  {
   "cell_type": "code",
   "execution_count": 254,
   "metadata": {
    "collapsed": true
   },
   "outputs": [],
   "source": [
    "pool2_pMPRA1_HepG2_barcodes_per_elem = pool2_pMPRA1_HepG2_data_filt.groupby([\"unique_id\", \"oligo_type\"])[\"barcode\"].agg(\"count\").reset_index()\n",
    "pool2_pMPRA1_HepG2_barcodes_per_elem_neg = pool2_pMPRA1_HepG2_barcodes_per_elem[pool2_pMPRA1_HepG2_barcodes_per_elem[\"oligo_type\"].isin([\"RANDOM\", \"SCRAMBLED\"])]\n",
    "pool2_pMPRA1_HepG2_barcodes_per_elem_no_neg = pool2_pMPRA1_HepG2_barcodes_per_elem[~pool2_pMPRA1_HepG2_barcodes_per_elem[\"oligo_type\"].isin([\"RANDOM\", \"SCRAMBLED\"])]\n",
    "\n",
    "pool2_pMPRA1_HepG2_barcodes_per_elem_no_neg_filt = pool2_pMPRA1_HepG2_barcodes_per_elem_no_neg[pool2_pMPRA1_HepG2_barcodes_per_elem_no_neg[\"barcode\"] >= n_barcodes_per_elem_threshold]\n",
    "pool2_pMPRA1_HepG2_total_elems_rep = len(pool2_pMPRA1_HepG2_barcodes_per_elem_no_neg)\n",
    "pool2_pMPRA1_HepG2_total_elems_filt_rep = len(pool2_pMPRA1_HepG2_barcodes_per_elem_no_neg_filt)"
   ]
  },
  {
   "cell_type": "code",
   "execution_count": 255,
   "metadata": {
    "collapsed": true
   },
   "outputs": [],
   "source": [
    "pool2_pMPRA1_K562_barcodes_per_elem = pool2_pMPRA1_K562_data_filt.groupby([\"unique_id\", \"oligo_type\"])[\"barcode\"].agg(\"count\").reset_index()\n",
    "pool2_pMPRA1_K562_barcodes_per_elem_neg = pool2_pMPRA1_K562_barcodes_per_elem[pool2_pMPRA1_K562_barcodes_per_elem[\"oligo_type\"].isin([\"RANDOM\", \"SCRAMBLED\"])]\n",
    "pool2_pMPRA1_K562_barcodes_per_elem_no_neg = pool2_pMPRA1_K562_barcodes_per_elem[~pool2_pMPRA1_K562_barcodes_per_elem[\"oligo_type\"].isin([\"RANDOM\", \"SCRAMBLED\"])]\n",
    "\n",
    "pool2_pMPRA1_K562_barcodes_per_elem_no_neg_filt = pool2_pMPRA1_K562_barcodes_per_elem_no_neg[pool2_pMPRA1_K562_barcodes_per_elem_no_neg[\"barcode\"] >= n_barcodes_per_elem_threshold]\n",
    "pool2_pMPRA1_K562_total_elems_rep = len(pool2_pMPRA1_K562_barcodes_per_elem_no_neg)\n",
    "pool2_pMPRA1_K562_total_elems_filt_rep = len(pool2_pMPRA1_K562_barcodes_per_elem_no_neg_filt)"
   ]
  },
  {
   "cell_type": "code",
   "execution_count": 256,
   "metadata": {},
   "outputs": [
    {
     "name": "stdout",
     "output_type": "stream",
     "text": [
      "ELEMENT FILTERING RESULTS:\n",
      "Pool1 pMPRA1 HeLa: filtered 4560 elements to 4517 represented at >= 3 barcodes (99.05701754385964%)\n",
      "Pool1 pMPRA1 HepG2: filtered 4560 elements to 4517 represented at >= 3 barcodes (99.05701754385964%)\n",
      "Pool1 pMPRA1 K562: filtered 4560 elements to 4517 represented at >= 3 barcodes (99.05701754385964%)\n",
      "\n",
      "Pool1 pNoCMVMPRA1 HeLa: filtered 4562 elements to 4539 represented at >= 3 barcodes (99.49583516001753%)\n",
      "Pool1 pNoCMVMPRA1 HepG2: filtered 4562 elements to 4539 represented at >= 3 barcodes (99.49583516001753%)\n",
      "Pool1 pNoCMVMPRA1 K562: filtered 4562 elements to 4539 represented at >= 3 barcodes (99.49583516001753%)\n",
      "\n",
      "Pool2 pMPRA1 HeLa: filtered 4227 elements to 4225 represented at >= 3 barcodes (99.95268511947008%)\n",
      "Pool2 pMPRA1 HepG2: filtered 4227 elements to 4225 represented at >= 3 barcodes (99.95268511947008%)\n",
      "Pool2 pMPRA1 K562: filtered 4227 elements to 4225 represented at >= 3 barcodes (99.95268511947008%)\n"
     ]
    }
   ],
   "source": [
    "print(\"ELEMENT FILTERING RESULTS:\")\n",
    "print(\"Pool1 pMPRA1 HeLa: filtered %s elements to %s represented at >= %s barcodes (%s%%)\" % (pool1_pMPRA1_HeLa_total_elems_rep, pool1_pMPRA1_HeLa_total_elems_filt_rep,\n",
    "                                                                                              n_barcodes_per_elem_threshold,\n",
    "                                                                                              float(pool1_pMPRA1_HeLa_total_elems_filt_rep)/pool1_pMPRA1_HeLa_total_elems_rep*100))\n",
    "print(\"Pool1 pMPRA1 HepG2: filtered %s elements to %s represented at >= %s barcodes (%s%%)\" % (pool1_pMPRA1_HepG2_total_elems_rep, pool1_pMPRA1_HepG2_total_elems_filt_rep,\n",
    "                                                                                               n_barcodes_per_elem_threshold,\n",
    "                                                                                               float(pool1_pMPRA1_HepG2_total_elems_filt_rep)/pool1_pMPRA1_HepG2_total_elems_rep*100))\n",
    "print(\"Pool1 pMPRA1 K562: filtered %s elements to %s represented at >= %s barcodes (%s%%)\" % (pool1_pMPRA1_K562_total_elems_rep, pool1_pMPRA1_K562_total_elems_filt_rep,\n",
    "                                                                                              n_barcodes_per_elem_threshold,\n",
    "                                                                                              float(pool1_pMPRA1_K562_total_elems_filt_rep)/pool1_pMPRA1_K562_total_elems_rep*100))\n",
    "\n",
    "print(\"\")\n",
    "print(\"Pool1 pNoCMVMPRA1 HeLa: filtered %s elements to %s represented at >= %s barcodes (%s%%)\" % (pool1_pNoCMVMPRA1_HeLa_total_elems_rep, pool1_pNoCMVMPRA1_HeLa_total_elems_filt_rep,\n",
    "                                                                                                   n_barcodes_per_elem_threshold,\n",
    "                                                                                                   float(pool1_pNoCMVMPRA1_HeLa_total_elems_filt_rep)/pool1_pNoCMVMPRA1_HeLa_total_elems_rep*100))\n",
    "print(\"Pool1 pNoCMVMPRA1 HepG2: filtered %s elements to %s represented at >= %s barcodes (%s%%)\" % (pool1_pNoCMVMPRA1_HepG2_total_elems_rep, pool1_pNoCMVMPRA1_HepG2_total_elems_filt_rep,\n",
    "                                                                                                    n_barcodes_per_elem_threshold,\n",
    "                                                                                                    float(pool1_pNoCMVMPRA1_HepG2_total_elems_filt_rep)/pool1_pNoCMVMPRA1_HepG2_total_elems_rep*100))\n",
    "print(\"Pool1 pNoCMVMPRA1 K562: filtered %s elements to %s represented at >= %s barcodes (%s%%)\" % (pool1_pNoCMVMPRA1_K562_total_elems_rep, pool1_pNoCMVMPRA1_K562_total_elems_filt_rep,\n",
    "                                                                                                   n_barcodes_per_elem_threshold,\n",
    "                                                                                                   float(pool1_pNoCMVMPRA1_K562_total_elems_filt_rep)/pool1_pNoCMVMPRA1_K562_total_elems_rep*100))\n",
    "\n",
    "print(\"\")\n",
    "print(\"Pool2 pMPRA1 HeLa: filtered %s elements to %s represented at >= %s barcodes (%s%%)\" % (pool2_pMPRA1_HeLa_total_elems_rep, pool2_pMPRA1_HeLa_total_elems_filt_rep,\n",
    "                                                                                              n_barcodes_per_elem_threshold,\n",
    "                                                                                              float(pool2_pMPRA1_HeLa_total_elems_filt_rep)/pool2_pMPRA1_HeLa_total_elems_rep*100))\n",
    "print(\"Pool2 pMPRA1 HepG2: filtered %s elements to %s represented at >= %s barcodes (%s%%)\" % (pool2_pMPRA1_HepG2_total_elems_rep, pool2_pMPRA1_HepG2_total_elems_filt_rep,\n",
    "                                                                                               n_barcodes_per_elem_threshold,\n",
    "                                                                                               float(pool2_pMPRA1_HepG2_total_elems_filt_rep)/pool2_pMPRA1_HepG2_total_elems_rep*100))\n",
    "print(\"Pool2 pMPRA1 K562: filtered %s elements to %s represented at >= %s barcodes (%s%%)\" % (pool2_pMPRA1_K562_total_elems_rep, pool2_pMPRA1_K562_total_elems_filt_rep,\n",
    "                                                                                              n_barcodes_per_elem_threshold,\n",
    "                                                                                              float(pool2_pMPRA1_K562_total_elems_filt_rep)/pool2_pMPRA1_K562_total_elems_rep*100))\n"
   ]
  },
  {
   "cell_type": "code",
   "execution_count": 257,
   "metadata": {
    "collapsed": true
   },
   "outputs": [],
   "source": [
    "pool1_pMPRA1_good_elems = list(pool1_pMPRA1_HeLa_barcodes_per_elem_no_neg_filt[\"unique_id\"]) + list(pool1_pMPRA1_HeLa_barcodes_per_elem_neg[\"unique_id\"])\n",
    "pool1_pNoCMVMPRA1_good_elems = list(pool1_pNoCMVMPRA1_HeLa_barcodes_per_elem_no_neg_filt[\"unique_id\"]) + list(pool1_pNoCMVMPRA1_HeLa_barcodes_per_elem_neg[\"unique_id\"])\n",
    "pool2_pMPRA1_good_elems = list(pool2_pMPRA1_HeLa_barcodes_per_elem_no_neg_filt[\"unique_id\"]) + list(pool2_pMPRA1_HeLa_barcodes_per_elem_neg[\"unique_id\"])"
   ]
  },
  {
   "cell_type": "code",
   "execution_count": 258,
   "metadata": {
    "collapsed": true
   },
   "outputs": [],
   "source": [
    "pool1_pMPRA1_HeLa_data_filt = pool1_pMPRA1_HeLa_data_filt[pool1_pMPRA1_HeLa_data_filt[\"unique_id\"].isin(pool1_pMPRA1_good_elems)]\n",
    "pool1_pMPRA1_HepG2_data_filt = pool1_pMPRA1_HepG2_data_filt[pool1_pMPRA1_HepG2_data_filt[\"unique_id\"].isin(pool1_pMPRA1_good_elems)]\n",
    "pool1_pMPRA1_K562_data_filt = pool1_pMPRA1_K562_data_filt[pool1_pMPRA1_K562_data_filt[\"unique_id\"].isin(pool1_pMPRA1_good_elems)]\n",
    "\n",
    "pool1_pNoCMVMPRA1_HeLa_data_filt = pool1_pNoCMVMPRA1_HeLa_data_filt[pool1_pNoCMVMPRA1_HeLa_data_filt[\"unique_id\"].isin(pool1_pNoCMVMPRA1_good_elems)]\n",
    "pool1_pNoCMVMPRA1_HepG2_data_filt = pool1_pNoCMVMPRA1_HepG2_data_filt[pool1_pNoCMVMPRA1_HepG2_data_filt[\"unique_id\"].isin(pool1_pNoCMVMPRA1_good_elems)]\n",
    "pool1_pNoCMVMPRA1_K562_data_filt = pool1_pNoCMVMPRA1_K562_data_filt[pool1_pNoCMVMPRA1_K562_data_filt[\"unique_id\"].isin(pool1_pNoCMVMPRA1_good_elems)]\n",
    "\n",
    "pool2_pMPRA1_HeLa_data_filt = pool2_pMPRA1_HeLa_data_filt[pool2_pMPRA1_HeLa_data_filt[\"unique_id\"].isin(pool2_pMPRA1_good_elems)]\n",
    "pool2_pMPRA1_HepG2_data_filt = pool2_pMPRA1_HepG2_data_filt[pool2_pMPRA1_HepG2_data_filt[\"unique_id\"].isin(pool2_pMPRA1_good_elems)]\n",
    "pool2_pMPRA1_K562_data_filt = pool2_pMPRA1_K562_data_filt[pool2_pMPRA1_K562_data_filt[\"unique_id\"].isin(pool2_pMPRA1_good_elems)]"
   ]
  },
  {
   "cell_type": "markdown",
   "metadata": {},
   "source": [
    "## 5. write final file"
   ]
  },
  {
   "cell_type": "code",
   "execution_count": 259,
   "metadata": {},
   "outputs": [
    {
     "data": {
      "text/html": [
       "<div>\n",
       "<style>\n",
       "    .dataframe thead tr:only-child th {\n",
       "        text-align: right;\n",
       "    }\n",
       "\n",
       "    .dataframe thead th {\n",
       "        text-align: left;\n",
       "    }\n",
       "\n",
       "    .dataframe tbody tr th {\n",
       "        vertical-align: top;\n",
       "    }\n",
       "</style>\n",
       "<table border=\"1\" class=\"dataframe\">\n",
       "  <thead>\n",
       "    <tr style=\"text-align: right;\">\n",
       "      <th></th>\n",
       "      <th>barcode</th>\n",
       "      <th>dna_1</th>\n",
       "      <th>rna_1</th>\n",
       "      <th>rna_2</th>\n",
       "      <th>rna_3</th>\n",
       "      <th>rna_4</th>\n",
       "    </tr>\n",
       "  </thead>\n",
       "  <tbody>\n",
       "    <tr>\n",
       "      <th>0</th>\n",
       "      <td>AATAGCAGCGC</td>\n",
       "      <td>192.0</td>\n",
       "      <td>NaN</td>\n",
       "      <td>64.0</td>\n",
       "      <td>NaN</td>\n",
       "      <td>134.0</td>\n",
       "    </tr>\n",
       "    <tr>\n",
       "      <th>1</th>\n",
       "      <td>CTGCGTGATCG</td>\n",
       "      <td>9.0</td>\n",
       "      <td>NaN</td>\n",
       "      <td>76.0</td>\n",
       "      <td>NaN</td>\n",
       "      <td>NaN</td>\n",
       "    </tr>\n",
       "    <tr>\n",
       "      <th>2</th>\n",
       "      <td>ACGCATTGGCT</td>\n",
       "      <td>32.0</td>\n",
       "      <td>6.0</td>\n",
       "      <td>NaN</td>\n",
       "      <td>8.0</td>\n",
       "      <td>NaN</td>\n",
       "    </tr>\n",
       "    <tr>\n",
       "      <th>3</th>\n",
       "      <td>ATTGATTATGC</td>\n",
       "      <td>158.0</td>\n",
       "      <td>1050.0</td>\n",
       "      <td>4986.0</td>\n",
       "      <td>NaN</td>\n",
       "      <td>258.0</td>\n",
       "    </tr>\n",
       "    <tr>\n",
       "      <th>4</th>\n",
       "      <td>CATCGAACCTG</td>\n",
       "      <td>733.0</td>\n",
       "      <td>NaN</td>\n",
       "      <td>1053.0</td>\n",
       "      <td>NaN</td>\n",
       "      <td>2163.0</td>\n",
       "    </tr>\n",
       "  </tbody>\n",
       "</table>\n",
       "</div>"
      ],
      "text/plain": [
       "       barcode  dna_1   rna_1   rna_2  rna_3   rna_4\n",
       "0  AATAGCAGCGC  192.0     NaN    64.0    NaN   134.0\n",
       "1  CTGCGTGATCG    9.0     NaN    76.0    NaN     NaN\n",
       "2  ACGCATTGGCT   32.0     6.0     NaN    8.0     NaN\n",
       "3  ATTGATTATGC  158.0  1050.0  4986.0    NaN   258.0\n",
       "4  CATCGAACCTG  733.0     NaN  1053.0    NaN  2163.0"
      ]
     },
     "execution_count": 259,
     "metadata": {},
     "output_type": "execute_result"
    }
   ],
   "source": [
    "pool1_pMPRA1_HeLa_counts = pool1_pMPRA1_HeLa_data_filt[pool1_pMPRA1_HeLa_cols]\n",
    "pool1_pMPRA1_HepG2_counts = pool1_pMPRA1_HepG2_data_filt[pool1_pMPRA1_HepG2_cols]\n",
    "pool1_pMPRA1_K562_counts = pool1_pMPRA1_K562_data_filt[pool1_pMPRA1_K562_cols]\n",
    "\n",
    "pool1_pNoCMVMPRA1_HeLa_counts = pool1_pNoCMVMPRA1_HeLa_data_filt[pool1_pNoCMVMPRA1_HeLa_cols]\n",
    "pool1_pNoCMVMPRA1_HepG2_counts = pool1_pNoCMVMPRA1_HepG2_data_filt[pool1_pNoCMVMPRA1_HepG2_cols]\n",
    "pool1_pNoCMVMPRA1_K562_counts = pool1_pNoCMVMPRA1_K562_data_filt[pool1_pNoCMVMPRA1_K562_cols]\n",
    "\n",
    "pool2_pMPRA1_HeLa_counts = pool2_pMPRA1_HeLa_data_filt[pool2_pMPRA1_HeLa_cols]\n",
    "pool2_pMPRA1_HepG2_counts = pool2_pMPRA1_HepG2_data_filt[pool2_pMPRA1_HepG2_cols]\n",
    "pool2_pMPRA1_K562_counts = pool2_pMPRA1_K562_data_filt[pool2_pMPRA1_K562_cols]\n",
    "\n",
    "pool2_pMPRA1_HeLa_counts.head()"
   ]
  },
  {
   "cell_type": "code",
   "execution_count": 260,
   "metadata": {
    "collapsed": true
   },
   "outputs": [],
   "source": [
    "pool1_pMPRA1_HeLa_counts.to_csv(\"%s/%s\" % (counts_dir, pool1_pMPRA1_HeLa_out_f), sep=\"\\t\", header=True, index=False)\n",
    "pool1_pMPRA1_HepG2_counts.to_csv(\"%s/%s\" % (counts_dir, pool1_pMPRA1_HepG2_out_f), sep=\"\\t\", header=True, index=False)\n",
    "pool1_pMPRA1_K562_counts.to_csv(\"%s/%s\" % (counts_dir, pool1_pMPRA1_K562_out_f), sep=\"\\t\", header=True, index=False)\n",
    "\n",
    "pool1_pNoCMVMPRA1_HeLa_counts.to_csv(\"%s/%s\" % (counts_dir, pool1_pNoCMVMPRA1_HeLa_out_f), sep=\"\\t\", header=True, index=False)\n",
    "pool1_pNoCMVMPRA1_HepG2_counts.to_csv(\"%s/%s\" % (counts_dir, pool1_pNoCMVMPRA1_HepG2_out_f), sep=\"\\t\", header=True, index=False)\n",
    "pool1_pNoCMVMPRA1_K562_counts.to_csv(\"%s/%s\" % (counts_dir, pool1_pNoCMVMPRA1_K562_out_f), sep=\"\\t\", header=True, index=False)\n",
    "\n",
    "pool2_pMPRA1_HeLa_counts.to_csv(\"%s/%s\" % (counts_dir, pool2_pMPRA1_HeLa_out_f), sep=\"\\t\", header=True, index=False)\n",
    "pool2_pMPRA1_HepG2_counts.to_csv(\"%s/%s\" % (counts_dir, pool2_pMPRA1_HepG2_out_f), sep=\"\\t\", header=True, index=False)\n",
    "pool2_pMPRA1_K562_counts.to_csv(\"%s/%s\" % (counts_dir, pool2_pMPRA1_K562_out_f), sep=\"\\t\", header=True, index=False)"
   ]
  },
  {
   "cell_type": "code",
   "execution_count": 261,
   "metadata": {},
   "outputs": [
    {
     "data": {
      "text/plain": [
       "104899"
      ]
     },
     "execution_count": 261,
     "metadata": {},
     "output_type": "execute_result"
    }
   ],
   "source": [
    "len(pool1_pMPRA1_HeLa_counts)"
   ]
  },
  {
   "cell_type": "code",
   "execution_count": null,
   "metadata": {
    "collapsed": true
   },
   "outputs": [],
   "source": []
  }
 ],
 "metadata": {
  "anaconda-cloud": {},
  "kernelspec": {
   "display_name": "Python 3",
   "language": "python",
   "name": "python3"
  },
  "language_info": {
   "codemirror_mode": {
    "name": "ipython",
    "version": 3
   },
   "file_extension": ".py",
   "mimetype": "text/x-python",
   "name": "python",
   "nbconvert_exporter": "python",
   "pygments_lexer": "ipython3",
   "version": "3.6.2"
  }
 },
 "nbformat": 4,
 "nbformat_minor": 1
}
