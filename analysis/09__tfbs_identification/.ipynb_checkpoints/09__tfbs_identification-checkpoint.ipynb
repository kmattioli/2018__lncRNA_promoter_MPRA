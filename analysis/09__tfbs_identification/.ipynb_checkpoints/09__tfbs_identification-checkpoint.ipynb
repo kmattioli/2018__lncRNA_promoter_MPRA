{
 "cells": [
  {
   "cell_type": "markdown",
   "metadata": {},
   "source": [
    "# 09__tbs_identification\n",
    "# finding functional TFBSs based on deletion data\n",
    "\n",
    "in this notebook, i ..\n",
    "\n",
    "------\n",
    "\n",
    "figures in this notebook:\n",
    "- **Fig 4E, top**: barplot of deletion effect sizes and sequence logo plotted proportionally to the loss scores of lncRNA DLEU1 promoter. all of these plots are made by the MIND algorithm and stored in the data/06__mind_results folder\n",
    "- **Fig 4D**: heatmap showing all of the significant TFBSs predicted by MIND in HepG2"
   ]
  },
  {
   "cell_type": "code",
   "execution_count": 1,
   "metadata": {
    "collapsed": true
   },
   "outputs": [],
   "source": [
    "import warnings\n",
    "warnings.filterwarnings('ignore')\n",
    "\n",
    "import pandas as pd\n",
    "import numpy as np\n",
    "import matplotlib as mpl\n",
    "import matplotlib.pyplot as plt\n",
    "import seaborn as sns\n",
    "import sys\n",
    "import time\n",
    "\n",
    "from os import walk\n",
    "from scipy.stats import spearmanr\n",
    "\n",
    "# import utils\n",
    "sys.path.append(\"../../utils\")\n",
    "from plotting_utils import *\n",
    "from misc_utils import *\n",
    "from norm_utils import *\n",
    "from del_utils import *\n",
    "\n",
    "%matplotlib inline"
   ]
  },
  {
   "cell_type": "code",
   "execution_count": 2,
   "metadata": {
    "collapsed": true
   },
   "outputs": [],
   "source": [
    "sns.set(**PAPER_PRESET)\n",
    "fontsize = PAPER_FONTSIZE"
   ]
  },
  {
   "cell_type": "markdown",
   "metadata": {},
   "source": [
    "## variables"
   ]
  },
  {
   "cell_type": "code",
   "execution_count": 3,
   "metadata": {
    "collapsed": true
   },
   "outputs": [],
   "source": [
    "del_dir = \"../../data/05__deletions\""
   ]
  },
  {
   "cell_type": "code",
   "execution_count": 4,
   "metadata": {
    "collapsed": true
   },
   "outputs": [],
   "source": [
    "# file w/ tfs and their expression\n",
    "tf_expr_f = \"../../misc/03__rna_seq_expr/tf_tissue_sp.txt\""
   ]
  },
  {
   "cell_type": "code",
   "execution_count": 5,
   "metadata": {
    "collapsed": true
   },
   "outputs": [],
   "source": [
    "fimo_f = \"../../misc/05__fimo/pool2.fimo.txt\""
   ]
  },
  {
   "cell_type": "code",
   "execution_count": 6,
   "metadata": {
    "collapsed": true
   },
   "outputs": [],
   "source": [
    "index_f = \"../../data/00__index/dels_oligo_pool.index.txt\""
   ]
  },
  {
   "cell_type": "code",
   "execution_count": 7,
   "metadata": {
    "collapsed": true
   },
   "outputs": [],
   "source": [
    "peak_signal_cutoff = 0.5\n",
    "peak_length_cutoff = 5\n",
    "del_buffer = 11"
   ]
  },
  {
   "cell_type": "markdown",
   "metadata": {},
   "source": [
    "## 1. import deletion data and tf expr file"
   ]
  },
  {
   "cell_type": "code",
   "execution_count": 8,
   "metadata": {
    "collapsed": true
   },
   "outputs": [],
   "source": [
    "# hepg2\n",
    "hepg2_files = []\n",
    "for (dirpath, dirnames, filenames) in walk(\"%s/HepG2\" % del_dir):\n",
    "    hepg2_files.extend(filenames)\n",
    "    break"
   ]
  },
  {
   "cell_type": "code",
   "execution_count": 9,
   "metadata": {
    "collapsed": true
   },
   "outputs": [],
   "source": [
    "# k562\n",
    "k562_files = []\n",
    "for (dirpath, dirnames, filenames) in walk(\"%s/K562\" % del_dir):\n",
    "    k562_files.extend(filenames)\n",
    "    break"
   ]
  },
  {
   "cell_type": "code",
   "execution_count": 10,
   "metadata": {
    "collapsed": true
   },
   "outputs": [],
   "source": [
    "hepg2_data = {}\n",
    "k562_data = {}\n",
    "for files, data, cell in zip([hepg2_files, k562_files], [hepg2_data, k562_data], [\"HepG2\", \"K562\"]):\n",
    "    data_dir = \"%s/%s\" % (del_dir, cell)\n",
    "    for f in files:\n",
    "        df = pd.read_table(\"%s/%s\" % (data_dir, f))\n",
    "        data[f] = df"
   ]
  },
  {
   "cell_type": "code",
   "execution_count": 11,
   "metadata": {},
   "outputs": [
    {
     "data": {
      "text/html": [
       "<div>\n",
       "<style>\n",
       "    .dataframe thead tr:only-child th {\n",
       "        text-align: right;\n",
       "    }\n",
       "\n",
       "    .dataframe thead th {\n",
       "        text-align: left;\n",
       "    }\n",
       "\n",
       "    .dataframe tbody tr th {\n",
       "        vertical-align: top;\n",
       "    }\n",
       "</style>\n",
       "<table border=\"1\" class=\"dataframe\">\n",
       "  <thead>\n",
       "    <tr style=\"text-align: right;\">\n",
       "      <th></th>\n",
       "      <th>motif_id</th>\n",
       "      <th>motif_name</th>\n",
       "      <th>ensembl_id</th>\n",
       "      <th>HeLa-S3</th>\n",
       "      <th>HepG2</th>\n",
       "      <th>K562</th>\n",
       "      <th>tissue_sp</th>\n",
       "    </tr>\n",
       "  </thead>\n",
       "  <tbody>\n",
       "    <tr>\n",
       "      <th>0</th>\n",
       "      <td>MA0002.2</td>\n",
       "      <td>RUNX1</td>\n",
       "      <td>ENSG00000159216</td>\n",
       "      <td>1.859569</td>\n",
       "      <td>4.693606</td>\n",
       "      <td>9.631455</td>\n",
       "      <td>0.439869</td>\n",
       "    </tr>\n",
       "    <tr>\n",
       "      <th>1</th>\n",
       "      <td>MA0003.3</td>\n",
       "      <td>TFAP2A</td>\n",
       "      <td>ENSG00000137203</td>\n",
       "      <td>21.243269</td>\n",
       "      <td>0.000000</td>\n",
       "      <td>1.048992</td>\n",
       "      <td>0.650207</td>\n",
       "    </tr>\n",
       "    <tr>\n",
       "      <th>2</th>\n",
       "      <td>MA0007.3</td>\n",
       "      <td>Ar</td>\n",
       "      <td>ENSG00000169083</td>\n",
       "      <td>0.000000</td>\n",
       "      <td>0.000000</td>\n",
       "      <td>0.001697</td>\n",
       "      <td>0.666667</td>\n",
       "    </tr>\n",
       "    <tr>\n",
       "      <th>3</th>\n",
       "      <td>MA0009.2</td>\n",
       "      <td>T</td>\n",
       "      <td>ENSG00000164458</td>\n",
       "      <td>0.000000</td>\n",
       "      <td>0.000000</td>\n",
       "      <td>0.000000</td>\n",
       "      <td>NaN</td>\n",
       "    </tr>\n",
       "    <tr>\n",
       "      <th>4</th>\n",
       "      <td>MA0014.2</td>\n",
       "      <td>PAX5</td>\n",
       "      <td>ENSG00000196092</td>\n",
       "      <td>0.001618</td>\n",
       "      <td>0.000000</td>\n",
       "      <td>0.000000</td>\n",
       "      <td>0.666667</td>\n",
       "    </tr>\n",
       "  </tbody>\n",
       "</table>\n",
       "</div>"
      ],
      "text/plain": [
       "   motif_id motif_name       ensembl_id    HeLa-S3     HepG2      K562  \\\n",
       "0  MA0002.2      RUNX1  ENSG00000159216   1.859569  4.693606  9.631455   \n",
       "1  MA0003.3     TFAP2A  ENSG00000137203  21.243269  0.000000  1.048992   \n",
       "2  MA0007.3         Ar  ENSG00000169083   0.000000  0.000000  0.001697   \n",
       "3  MA0009.2          T  ENSG00000164458   0.000000  0.000000  0.000000   \n",
       "4  MA0014.2       PAX5  ENSG00000196092   0.001618  0.000000  0.000000   \n",
       "\n",
       "   tissue_sp  \n",
       "0   0.439869  \n",
       "1   0.650207  \n",
       "2   0.666667  \n",
       "3        NaN  \n",
       "4   0.666667  "
      ]
     },
     "execution_count": 11,
     "metadata": {},
     "output_type": "execute_result"
    }
   ],
   "source": [
    "# import tf expr data\n",
    "tf_expr = pd.read_table(tf_expr_f, sep=\"\\t\")\n",
    "tf_expr.head()"
   ]
  },
  {
   "cell_type": "code",
   "execution_count": 12,
   "metadata": {},
   "outputs": [
    {
     "data": {
      "text/html": [
       "<div>\n",
       "<style>\n",
       "    .dataframe thead tr:only-child th {\n",
       "        text-align: right;\n",
       "    }\n",
       "\n",
       "    .dataframe thead th {\n",
       "        text-align: left;\n",
       "    }\n",
       "\n",
       "    .dataframe tbody tr th {\n",
       "        vertical-align: top;\n",
       "    }\n",
       "</style>\n",
       "<table border=\"1\" class=\"dataframe\">\n",
       "  <thead>\n",
       "    <tr style=\"text-align: right;\">\n",
       "      <th></th>\n",
       "      <th>motif</th>\n",
       "      <th>unique_id</th>\n",
       "      <th>start</th>\n",
       "      <th>stop</th>\n",
       "      <th>strand</th>\n",
       "      <th>score</th>\n",
       "      <th>p-value</th>\n",
       "      <th>q-value</th>\n",
       "      <th>seq</th>\n",
       "    </tr>\n",
       "  </thead>\n",
       "  <tbody>\n",
       "    <tr>\n",
       "      <th>0</th>\n",
       "      <td>ZNF263</td>\n",
       "      <td>WILDTYPE_BUT_HAS_SNP_DELETION__Lincrna.noflip....</td>\n",
       "      <td>39</td>\n",
       "      <td>59</td>\n",
       "      <td>-</td>\n",
       "      <td>27.0204</td>\n",
       "      <td>4.070000e-11</td>\n",
       "      <td>0.000024</td>\n",
       "      <td>GGAGGAGGGAGGGGAGGGGAG</td>\n",
       "    </tr>\n",
       "    <tr>\n",
       "      <th>1</th>\n",
       "      <td>ZNF263</td>\n",
       "      <td>WILDTYPE_SNP_INDIV__mrna.noflip.NA__p1@IRX5__c...</td>\n",
       "      <td>24</td>\n",
       "      <td>44</td>\n",
       "      <td>+</td>\n",
       "      <td>26.6735</td>\n",
       "      <td>6.730000e-11</td>\n",
       "      <td>0.000024</td>\n",
       "      <td>GGAGGAGGAAGAGGGAGAGGG</td>\n",
       "    </tr>\n",
       "    <tr>\n",
       "      <th>2</th>\n",
       "      <td>RREB1</td>\n",
       "      <td>WILDTYPE_BUT_HAS_SNP_DELETION__mrna.flip.sense...</td>\n",
       "      <td>24</td>\n",
       "      <td>43</td>\n",
       "      <td>-</td>\n",
       "      <td>27.0550</td>\n",
       "      <td>3.310000e-10</td>\n",
       "      <td>0.000043</td>\n",
       "      <td>CCCCACCCCACCCCCACCCC</td>\n",
       "    </tr>\n",
       "    <tr>\n",
       "      <th>3</th>\n",
       "      <td>RREB1</td>\n",
       "      <td>FLIPPED_DELETION__mrna.flip.antisense__p1@CDKN...</td>\n",
       "      <td>71</td>\n",
       "      <td>90</td>\n",
       "      <td>+</td>\n",
       "      <td>27.0550</td>\n",
       "      <td>3.310000e-10</td>\n",
       "      <td>0.000043</td>\n",
       "      <td>CCCCACCCCACCCCCACCCC</td>\n",
       "    </tr>\n",
       "    <tr>\n",
       "      <th>4</th>\n",
       "      <td>ZNF263</td>\n",
       "      <td>WILDTYPE_BUT_HAS_SNP_DELETION__Lincrna.noflip....</td>\n",
       "      <td>38</td>\n",
       "      <td>58</td>\n",
       "      <td>-</td>\n",
       "      <td>25.3878</td>\n",
       "      <td>3.590000e-10</td>\n",
       "      <td>0.000024</td>\n",
       "      <td>GAGGGAGGGAGGGGAGGGGGG</td>\n",
       "    </tr>\n",
       "  </tbody>\n",
       "</table>\n",
       "</div>"
      ],
      "text/plain": [
       "    motif                                          unique_id  start  stop  \\\n",
       "0  ZNF263  WILDTYPE_BUT_HAS_SNP_DELETION__Lincrna.noflip....     39    59   \n",
       "1  ZNF263  WILDTYPE_SNP_INDIV__mrna.noflip.NA__p1@IRX5__c...     24    44   \n",
       "2   RREB1  WILDTYPE_BUT_HAS_SNP_DELETION__mrna.flip.sense...     24    43   \n",
       "3   RREB1  FLIPPED_DELETION__mrna.flip.antisense__p1@CDKN...     71    90   \n",
       "4  ZNF263  WILDTYPE_BUT_HAS_SNP_DELETION__Lincrna.noflip....     38    58   \n",
       "\n",
       "  strand    score       p-value   q-value                    seq  \n",
       "0      -  27.0204  4.070000e-11  0.000024  GGAGGAGGGAGGGGAGGGGAG  \n",
       "1      +  26.6735  6.730000e-11  0.000024  GGAGGAGGAAGAGGGAGAGGG  \n",
       "2      -  27.0550  3.310000e-10  0.000043   CCCCACCCCACCCCCACCCC  \n",
       "3      +  27.0550  3.310000e-10  0.000043   CCCCACCCCACCCCCACCCC  \n",
       "4      -  25.3878  3.590000e-10  0.000024  GAGGGAGGGAGGGGAGGGGGG  "
      ]
     },
     "execution_count": 12,
     "metadata": {},
     "output_type": "execute_result"
    }
   ],
   "source": [
    "fimo = pd.read_table(fimo_f, sep=\"\\t\")\n",
    "fimo.columns = [\"motif\", \"unique_id\", \"start\", \"stop\", \"strand\", \"score\", \"p-value\", \"q-value\", \"seq\"]\n",
    "fimo.head()"
   ]
  },
  {
   "cell_type": "code",
   "execution_count": 13,
   "metadata": {
    "collapsed": true
   },
   "outputs": [],
   "source": [
    "# filter to tfs that are expr in the 2 cell lines\n",
    "hepg2_tfs = tf_expr[tf_expr[\"HepG2\"] > 1][\"motif_name\"]\n",
    "k562_tfs = tf_expr[tf_expr[\"K562\"] > 1][\"motif_name\"]"
   ]
  },
  {
   "cell_type": "code",
   "execution_count": 14,
   "metadata": {},
   "outputs": [
    {
     "data": {
      "text/html": [
       "<div>\n",
       "<style>\n",
       "    .dataframe thead tr:only-child th {\n",
       "        text-align: right;\n",
       "    }\n",
       "\n",
       "    .dataframe thead th {\n",
       "        text-align: left;\n",
       "    }\n",
       "\n",
       "    .dataframe tbody tr th {\n",
       "        vertical-align: top;\n",
       "    }\n",
       "</style>\n",
       "<table border=\"1\" class=\"dataframe\">\n",
       "  <thead>\n",
       "    <tr style=\"text-align: right;\">\n",
       "      <th></th>\n",
       "      <th>unique_id</th>\n",
       "      <th>tile_name</th>\n",
       "      <th>chr</th>\n",
       "      <th>tile_start</th>\n",
       "      <th>tile_end</th>\n",
       "      <th>strand</th>\n",
       "      <th>tile_number</th>\n",
       "    </tr>\n",
       "  </thead>\n",
       "  <tbody>\n",
       "    <tr>\n",
       "      <th>0</th>\n",
       "      <td>WILDTYPE_BUT_HAS_SNP__Enhancer.noflip.NA__chr1...</td>\n",
       "      <td>Enhancer.noflip.NA__chr11:65187297-65188198__c...</td>\n",
       "      <td>chr11</td>\n",
       "      <td>65187510.0</td>\n",
       "      <td>65187624.0</td>\n",
       "      <td>-</td>\n",
       "      <td>2.0</td>\n",
       "    </tr>\n",
       "    <tr>\n",
       "      <th>80</th>\n",
       "      <td>WILDTYPE_BUT_HAS_SNP_DELETION__Enhancer.noflip...</td>\n",
       "      <td>Enhancer.noflip.NA__chr11:65187297-65188198__c...</td>\n",
       "      <td>chr11</td>\n",
       "      <td>65187510.0</td>\n",
       "      <td>65187624.0</td>\n",
       "      <td>-</td>\n",
       "      <td>2.0</td>\n",
       "    </tr>\n",
       "    <tr>\n",
       "      <th>106</th>\n",
       "      <td>WILDTYPE_BUT_HAS_SNP_DELETION__Enhancer.noflip...</td>\n",
       "      <td>Enhancer.noflip.NA__chr11:65187297-65188198__c...</td>\n",
       "      <td>chr11</td>\n",
       "      <td>65187510.0</td>\n",
       "      <td>65187624.0</td>\n",
       "      <td>-</td>\n",
       "      <td>2.0</td>\n",
       "    </tr>\n",
       "    <tr>\n",
       "      <th>132</th>\n",
       "      <td>WILDTYPE_BUT_HAS_SNP_DELETION__Enhancer.noflip...</td>\n",
       "      <td>Enhancer.noflip.NA__chr11:65187297-65188198__c...</td>\n",
       "      <td>chr11</td>\n",
       "      <td>65187510.0</td>\n",
       "      <td>65187624.0</td>\n",
       "      <td>-</td>\n",
       "      <td>2.0</td>\n",
       "    </tr>\n",
       "    <tr>\n",
       "      <th>158</th>\n",
       "      <td>WILDTYPE_BUT_HAS_SNP_DELETION__Enhancer.noflip...</td>\n",
       "      <td>Enhancer.noflip.NA__chr11:65187297-65188198__c...</td>\n",
       "      <td>chr11</td>\n",
       "      <td>65187510.0</td>\n",
       "      <td>65187624.0</td>\n",
       "      <td>-</td>\n",
       "      <td>2.0</td>\n",
       "    </tr>\n",
       "  </tbody>\n",
       "</table>\n",
       "</div>"
      ],
      "text/plain": [
       "                                             unique_id  \\\n",
       "0    WILDTYPE_BUT_HAS_SNP__Enhancer.noflip.NA__chr1...   \n",
       "80   WILDTYPE_BUT_HAS_SNP_DELETION__Enhancer.noflip...   \n",
       "106  WILDTYPE_BUT_HAS_SNP_DELETION__Enhancer.noflip...   \n",
       "132  WILDTYPE_BUT_HAS_SNP_DELETION__Enhancer.noflip...   \n",
       "158  WILDTYPE_BUT_HAS_SNP_DELETION__Enhancer.noflip...   \n",
       "\n",
       "                                             tile_name    chr  tile_start  \\\n",
       "0    Enhancer.noflip.NA__chr11:65187297-65188198__c...  chr11  65187510.0   \n",
       "80   Enhancer.noflip.NA__chr11:65187297-65188198__c...  chr11  65187510.0   \n",
       "106  Enhancer.noflip.NA__chr11:65187297-65188198__c...  chr11  65187510.0   \n",
       "132  Enhancer.noflip.NA__chr11:65187297-65188198__c...  chr11  65187510.0   \n",
       "158  Enhancer.noflip.NA__chr11:65187297-65188198__c...  chr11  65187510.0   \n",
       "\n",
       "       tile_end strand  tile_number  \n",
       "0    65187624.0      -          2.0  \n",
       "80   65187624.0      -          2.0  \n",
       "106  65187624.0      -          2.0  \n",
       "132  65187624.0      -          2.0  \n",
       "158  65187624.0      -          2.0  "
      ]
     },
     "execution_count": 14,
     "metadata": {},
     "output_type": "execute_result"
    }
   ],
   "source": [
    "index = pd.read_table(index_f, sep=\"\\t\")\n",
    "index_elem = index[[\"unique_id\", \"tile_name\", \"chr\", \"tile_start\", \"tile_end\", \"strand\", \"tile_number\"]].drop_duplicates()\n",
    "index_elem.head()"
   ]
  },
  {
   "cell_type": "markdown",
   "metadata": {},
   "source": [
    "## 2. filter dfs to only those that are sig active (wt_class)"
   ]
  },
  {
   "cell_type": "code",
   "execution_count": 15,
   "metadata": {
    "collapsed": true
   },
   "outputs": [],
   "source": [
    "hepg2_data_filt = {}\n",
    "k562_data_filt = {}\n",
    "for data, data_filt in zip([hepg2_data, k562_data], [hepg2_data_filt, k562_data_filt]):\n",
    "    for key in data:\n",
    "        df = data[key]\n",
    "        if df.wt_class.iloc[0] == \"sig active\":\n",
    "            data_filt[key] = df"
   ]
  },
  {
   "cell_type": "markdown",
   "metadata": {},
   "source": [
    "## 3. find \"peaks\" in the deletion data"
   ]
  },
  {
   "cell_type": "code",
   "execution_count": 16,
   "metadata": {
    "collapsed": true
   },
   "outputs": [],
   "source": [
    "def find_peaks(df, peak_signal_cutoff, peak_length_cutoff):\n",
    "    peak_status = []\n",
    "    effect_sizes = list(df[\"mean.log2FC\"])\n",
    "    count = 0\n",
    "    in_peak = False\n",
    "    overall_count = 1\n",
    "    for x in effect_sizes:\n",
    "        if x <= -peak_signal_cutoff:\n",
    "            count += 1\n",
    "            if count >= peak_length_cutoff:\n",
    "                if in_peak == False:\n",
    "                    # replace the last peak_length_cutoff elements with \"peak\"\n",
    "                    tmp = peak_status[:-peak_length_cutoff+1]\n",
    "                    peak_status = list(tmp)\n",
    "                    peak_status.extend([\"peak\"] * (peak_length_cutoff))\n",
    "                    in_peak = True\n",
    "                else:\n",
    "                    peak_status.append(\"peak\")\n",
    "            else:\n",
    "                peak_status.append(\"no peak\")\n",
    "        else:\n",
    "            in_peak = False\n",
    "            count = 0\n",
    "            peak_status.append(\"no peak\")\n",
    "#         print(\"x: %s, count: %s, in_peak: %s, peak_status: %s\" % (x, count, in_peak, peak_status))\n",
    "#         print(\"count: %s, list length: %s\" % (overall_count, len(peak_status)))\n",
    "#         print(\"\")\n",
    "        overall_count += 1\n",
    "#     print(len(peak_status))\n",
    "#     print(len(df))\n",
    "    df[\"peak\"] = peak_status\n",
    "    return df"
   ]
  },
  {
   "cell_type": "code",
   "execution_count": 17,
   "metadata": {},
   "outputs": [],
   "source": [
    "hepg2_data_peaks = {}\n",
    "k562_data_peaks = {}\n",
    "\n",
    "for data_filt, data_peaks in zip([hepg2_data_filt, k562_data_filt], [hepg2_data_peaks, k562_data_peaks]):\n",
    "    for key in data_filt:\n",
    "        name = key.split(\".\")[0]\n",
    "        strand = key.split(\".\")[2]\n",
    "        gene_name = \"%s__%s\" % (name, strand)\n",
    "        df = data_filt[key]\n",
    "        df = find_peaks(df, peak_signal_cutoff, peak_length_cutoff)\n",
    "        data_peaks[gene_name] = df"
   ]
  },
  {
   "cell_type": "markdown",
   "metadata": {},
   "source": [
    "## 4. intersect FIMO motifs w/ peaks"
   ]
  },
  {
   "cell_type": "code",
   "execution_count": 18,
   "metadata": {},
   "outputs": [
    {
     "data": {
      "text/html": [
       "<div>\n",
       "<style>\n",
       "    .dataframe thead tr:only-child th {\n",
       "        text-align: right;\n",
       "    }\n",
       "\n",
       "    .dataframe thead th {\n",
       "        text-align: left;\n",
       "    }\n",
       "\n",
       "    .dataframe tbody tr th {\n",
       "        vertical-align: top;\n",
       "    }\n",
       "</style>\n",
       "<table border=\"1\" class=\"dataframe\">\n",
       "  <thead>\n",
       "    <tr style=\"text-align: right;\">\n",
       "      <th></th>\n",
       "      <th>motif</th>\n",
       "      <th>unique_id</th>\n",
       "      <th>start</th>\n",
       "      <th>stop</th>\n",
       "      <th>strand</th>\n",
       "      <th>score</th>\n",
       "      <th>p-value</th>\n",
       "      <th>q-value</th>\n",
       "      <th>seq</th>\n",
       "      <th>fixed_name</th>\n",
       "    </tr>\n",
       "  </thead>\n",
       "  <tbody>\n",
       "    <tr>\n",
       "      <th>0</th>\n",
       "      <td>ZNF263</td>\n",
       "      <td>WILDTYPE_BUT_HAS_SNP_DELETION__Lincrna.noflip....</td>\n",
       "      <td>39</td>\n",
       "      <td>59</td>\n",
       "      <td>-</td>\n",
       "      <td>27.0204</td>\n",
       "      <td>4.070000e-11</td>\n",
       "      <td>0.000024</td>\n",
       "      <td>GGAGGAGGGAGGGGAGGGGAG</td>\n",
       "      <td>LINC00467__p1__tile1__plus</td>\n",
       "    </tr>\n",
       "    <tr>\n",
       "      <th>1</th>\n",
       "      <td>ZNF263</td>\n",
       "      <td>WILDTYPE_SNP_INDIV__mrna.noflip.NA__p1@IRX5__c...</td>\n",
       "      <td>24</td>\n",
       "      <td>44</td>\n",
       "      <td>+</td>\n",
       "      <td>26.6735</td>\n",
       "      <td>6.730000e-11</td>\n",
       "      <td>0.000024</td>\n",
       "      <td>GGAGGAGGAAGAGGGAGAGGG</td>\n",
       "      <td>IRX5__p1__tile1__plus</td>\n",
       "    </tr>\n",
       "    <tr>\n",
       "      <th>2</th>\n",
       "      <td>RREB1</td>\n",
       "      <td>WILDTYPE_BUT_HAS_SNP_DELETION__mrna.flip.sense...</td>\n",
       "      <td>24</td>\n",
       "      <td>43</td>\n",
       "      <td>-</td>\n",
       "      <td>27.0550</td>\n",
       "      <td>3.310000e-10</td>\n",
       "      <td>0.000043</td>\n",
       "      <td>CCCCACCCCACCCCCACCCC</td>\n",
       "      <td>CDKN2A__p1__tile1__minus</td>\n",
       "    </tr>\n",
       "    <tr>\n",
       "      <th>3</th>\n",
       "      <td>RREB1</td>\n",
       "      <td>FLIPPED_DELETION__mrna.flip.antisense__p1@CDKN...</td>\n",
       "      <td>71</td>\n",
       "      <td>90</td>\n",
       "      <td>+</td>\n",
       "      <td>27.0550</td>\n",
       "      <td>3.310000e-10</td>\n",
       "      <td>0.000043</td>\n",
       "      <td>CCCCACCCCACCCCCACCCC</td>\n",
       "      <td>CDKN2A__p1__tile2__plus</td>\n",
       "    </tr>\n",
       "    <tr>\n",
       "      <th>4</th>\n",
       "      <td>ZNF263</td>\n",
       "      <td>WILDTYPE_BUT_HAS_SNP_DELETION__Lincrna.noflip....</td>\n",
       "      <td>38</td>\n",
       "      <td>58</td>\n",
       "      <td>-</td>\n",
       "      <td>25.3878</td>\n",
       "      <td>3.590000e-10</td>\n",
       "      <td>0.000024</td>\n",
       "      <td>GAGGGAGGGAGGGGAGGGGGG</td>\n",
       "      <td>LINC00467__p1__tile1__plus</td>\n",
       "    </tr>\n",
       "  </tbody>\n",
       "</table>\n",
       "</div>"
      ],
      "text/plain": [
       "    motif                                          unique_id  start  stop  \\\n",
       "0  ZNF263  WILDTYPE_BUT_HAS_SNP_DELETION__Lincrna.noflip....     39    59   \n",
       "1  ZNF263  WILDTYPE_SNP_INDIV__mrna.noflip.NA__p1@IRX5__c...     24    44   \n",
       "2   RREB1  WILDTYPE_BUT_HAS_SNP_DELETION__mrna.flip.sense...     24    43   \n",
       "3   RREB1  FLIPPED_DELETION__mrna.flip.antisense__p1@CDKN...     71    90   \n",
       "4  ZNF263  WILDTYPE_BUT_HAS_SNP_DELETION__Lincrna.noflip....     38    58   \n",
       "\n",
       "  strand    score       p-value   q-value                    seq  \\\n",
       "0      -  27.0204  4.070000e-11  0.000024  GGAGGAGGGAGGGGAGGGGAG   \n",
       "1      +  26.6735  6.730000e-11  0.000024  GGAGGAGGAAGAGGGAGAGGG   \n",
       "2      -  27.0550  3.310000e-10  0.000043   CCCCACCCCACCCCCACCCC   \n",
       "3      +  27.0550  3.310000e-10  0.000043   CCCCACCCCACCCCCACCCC   \n",
       "4      -  25.3878  3.590000e-10  0.000024  GAGGGAGGGAGGGGAGGGGGG   \n",
       "\n",
       "                   fixed_name  \n",
       "0  LINC00467__p1__tile1__plus  \n",
       "1       IRX5__p1__tile1__plus  \n",
       "2    CDKN2A__p1__tile1__minus  \n",
       "3     CDKN2A__p1__tile2__plus  \n",
       "4  LINC00467__p1__tile1__plus  "
      ]
     },
     "execution_count": 18,
     "metadata": {},
     "output_type": "execute_result"
    }
   ],
   "source": [
    "fimo[\"fixed_name\"] = fimo.apply(fix_fimo_names, name_dict=NAME_DICT, loc_dict=LOC_DICT, axis=1)\n",
    "fimo.head()"
   ]
  },
  {
   "cell_type": "code",
   "execution_count": 19,
   "metadata": {},
   "outputs": [
    {
     "data": {
      "text/html": [
       "<div>\n",
       "<style>\n",
       "    .dataframe thead tr:only-child th {\n",
       "        text-align: right;\n",
       "    }\n",
       "\n",
       "    .dataframe thead th {\n",
       "        text-align: left;\n",
       "    }\n",
       "\n",
       "    .dataframe tbody tr th {\n",
       "        vertical-align: top;\n",
       "    }\n",
       "</style>\n",
       "<table border=\"1\" class=\"dataframe\">\n",
       "  <thead>\n",
       "    <tr style=\"text-align: right;\">\n",
       "      <th></th>\n",
       "      <th>delpos</th>\n",
       "      <th>mean.log2FC</th>\n",
       "      <th>sd</th>\n",
       "      <th>se</th>\n",
       "      <th>seq</th>\n",
       "      <th>padj</th>\n",
       "      <th>sig</th>\n",
       "      <th>wt_activ</th>\n",
       "      <th>wt_l2fc</th>\n",
       "      <th>wt_class</th>\n",
       "      <th>tile_chr</th>\n",
       "      <th>tile_start</th>\n",
       "      <th>tile_end</th>\n",
       "      <th>peak</th>\n",
       "    </tr>\n",
       "  </thead>\n",
       "  <tbody>\n",
       "    <tr>\n",
       "      <th>0</th>\n",
       "      <td>11</td>\n",
       "      <td>0.126782</td>\n",
       "      <td>0.075280</td>\n",
       "      <td>0.026616</td>\n",
       "      <td>C</td>\n",
       "      <td>0.335664</td>\n",
       "      <td>not sig</td>\n",
       "      <td>4.739875</td>\n",
       "      <td>5.767435</td>\n",
       "      <td>sig active</td>\n",
       "      <td>chr1</td>\n",
       "      <td>173837092.0</td>\n",
       "      <td>173837206.0</td>\n",
       "      <td>no peak</td>\n",
       "    </tr>\n",
       "    <tr>\n",
       "      <th>1</th>\n",
       "      <td>12</td>\n",
       "      <td>-0.003410</td>\n",
       "      <td>0.052490</td>\n",
       "      <td>0.018558</td>\n",
       "      <td>T</td>\n",
       "      <td>1.000000</td>\n",
       "      <td>not sig</td>\n",
       "      <td>4.739875</td>\n",
       "      <td>5.767435</td>\n",
       "      <td>sig active</td>\n",
       "      <td>chr1</td>\n",
       "      <td>173837092.0</td>\n",
       "      <td>173837206.0</td>\n",
       "      <td>no peak</td>\n",
       "    </tr>\n",
       "    <tr>\n",
       "      <th>2</th>\n",
       "      <td>13</td>\n",
       "      <td>-0.155297</td>\n",
       "      <td>0.037845</td>\n",
       "      <td>0.013380</td>\n",
       "      <td>G</td>\n",
       "      <td>0.056522</td>\n",
       "      <td>not sig</td>\n",
       "      <td>4.739875</td>\n",
       "      <td>5.767435</td>\n",
       "      <td>sig active</td>\n",
       "      <td>chr1</td>\n",
       "      <td>173837092.0</td>\n",
       "      <td>173837206.0</td>\n",
       "      <td>no peak</td>\n",
       "    </tr>\n",
       "    <tr>\n",
       "      <th>3</th>\n",
       "      <td>14</td>\n",
       "      <td>-0.075231</td>\n",
       "      <td>0.052872</td>\n",
       "      <td>0.018693</td>\n",
       "      <td>C</td>\n",
       "      <td>1.000000</td>\n",
       "      <td>not sig</td>\n",
       "      <td>4.739875</td>\n",
       "      <td>5.767435</td>\n",
       "      <td>sig active</td>\n",
       "      <td>chr1</td>\n",
       "      <td>173837092.0</td>\n",
       "      <td>173837206.0</td>\n",
       "      <td>no peak</td>\n",
       "    </tr>\n",
       "    <tr>\n",
       "      <th>4</th>\n",
       "      <td>15</td>\n",
       "      <td>-0.075231</td>\n",
       "      <td>0.052872</td>\n",
       "      <td>0.018693</td>\n",
       "      <td>C</td>\n",
       "      <td>1.000000</td>\n",
       "      <td>not sig</td>\n",
       "      <td>4.739875</td>\n",
       "      <td>5.767435</td>\n",
       "      <td>sig active</td>\n",
       "      <td>chr1</td>\n",
       "      <td>173837092.0</td>\n",
       "      <td>173837206.0</td>\n",
       "      <td>no peak</td>\n",
       "    </tr>\n",
       "  </tbody>\n",
       "</table>\n",
       "</div>"
      ],
      "text/plain": [
       "   delpos  mean.log2FC        sd        se seq      padj      sig  wt_activ  \\\n",
       "0      11     0.126782  0.075280  0.026616   C  0.335664  not sig  4.739875   \n",
       "1      12    -0.003410  0.052490  0.018558   T  1.000000  not sig  4.739875   \n",
       "2      13    -0.155297  0.037845  0.013380   G  0.056522  not sig  4.739875   \n",
       "3      14    -0.075231  0.052872  0.018693   C  1.000000  not sig  4.739875   \n",
       "4      15    -0.075231  0.052872  0.018693   C  1.000000  not sig  4.739875   \n",
       "\n",
       "    wt_l2fc    wt_class tile_chr   tile_start     tile_end     peak  \n",
       "0  5.767435  sig active     chr1  173837092.0  173837206.0  no peak  \n",
       "1  5.767435  sig active     chr1  173837092.0  173837206.0  no peak  \n",
       "2  5.767435  sig active     chr1  173837092.0  173837206.0  no peak  \n",
       "3  5.767435  sig active     chr1  173837092.0  173837206.0  no peak  \n",
       "4  5.767435  sig active     chr1  173837092.0  173837206.0  no peak  "
      ]
     },
     "execution_count": 19,
     "metadata": {},
     "output_type": "execute_result"
    }
   ],
   "source": [
    "hepg2_data_peaks[\"GAS5__p1__tile2__minus\"].head()"
   ]
  },
  {
   "cell_type": "code",
   "execution_count": 20,
   "metadata": {
    "scrolled": true
   },
   "outputs": [
    {
     "name": "stdout",
     "output_type": "stream",
     "text": [
      "HepG2\n",
      "enhancer_NEAT1__pX__tile2__minus\n",
      "enhancer_MALAT1__pX__tile1__minus\n",
      "enhancer_MALAT1__pX__tile2__minus\n",
      "enhancer_TERC__pX__tile2__minus\n",
      "enhancer_LINC_PINT__pX__tile1__minus\n",
      "FALEC__p1__tile2__plus\n",
      "GAS5__p1__tile1__minus\n",
      "GAS5__p1__tile2__minus\n",
      "ZBTB37__p1__tile1__plus\n",
      "ZBTB37__p1__tile2__plus\n",
      "LINC00467__p1__tile1__plus\n",
      "LINC00467__p1__tile2__plus\n",
      "NEAT1__p1__tile2__plus\n",
      "MALAT1__p4__tile1__plus\n",
      "MALAT1__p4__tile2__plus\n",
      "MALAT1__p1__tile1__plus\n",
      "HOTAIR__p1__tile2__minus\n",
      "DLEU1__p1__tile1__plus\n",
      "DLEU1__p1__tile2__plus\n",
      "MEG3__p1__tile2__plus\n",
      "CRNDE__p1__tile1__minus\n",
      "CRNDE__p1__tile2__minus\n",
      "FENDRR__p1__tile2__minus\n",
      "FOXF1__p__tile1__plus\n",
      "FOXF1__p__tile2__plus\n",
      "ZFAS1__p1__tile1__plus\n",
      "ZFAS1__p1__tile2__plus\n",
      "TERC__p1__tile1__minus\n",
      "TERC__p1__tile2__minus\n",
      "SAMMSON__p1__tile2__plus\n",
      "LUCAT1__p1__tile2__minus\n",
      "LINC_PINT__p2__tile1__minus\n",
      "PVT1__p1__tile1__plus\n",
      "PVT1__p1__tile2__plus\n",
      "CDKN2A__p1__tile1__minus\n",
      "CDKN2A__p1__tile2__minus\n",
      "ANRIL__p1__tile2__plus\n",
      "JPX__p1__tile1__plus\n",
      "JPX__p1__tile2__plus\n",
      "CRNDE__p1__tile1__plus\n",
      "CRNDE__p1__tile2__plus\n",
      "FENDRR__p1__tile1__plus\n",
      "CDKN2A__p1__tile1__plus\n",
      "CDKN2A__p1__tile2__plus\n",
      "ANRIL__p1__tile1__minus\n",
      "ANRIL__p1__tile2__minus\n",
      "K562\n",
      "enhancer_MALAT1__pX__tile1__minus\n",
      "enhancer_MALAT1__pX__tile2__minus\n",
      "FALEC__p1__tile2__plus\n",
      "GAS5__p1__tile1__minus\n",
      "GAS5__p1__tile2__minus\n",
      "ZBTB37__p1__tile2__plus\n",
      "LINC00467__p1__tile1__plus\n",
      "LINC00467__p1__tile2__plus\n",
      "MALAT1__p1__tile2__plus\n",
      "DLEU1__p1__tile1__plus\n",
      "DLEU1__p1__tile2__plus\n",
      "MEG3__p1__tile2__plus\n",
      "FOXF1__p__tile2__plus\n",
      "ZFAS1__p1__tile1__plus\n",
      "ZFAS1__p1__tile2__plus\n",
      "TERC__p1__tile1__minus\n",
      "TERC__p1__tile2__minus\n",
      "SAMMSON__p1__tile2__plus\n",
      "LUCAT1__p1__tile2__minus\n",
      "LINC_PINT__p2__tile1__minus\n",
      "JPX__p1__tile1__plus\n",
      "JPX__p1__tile2__plus\n",
      "ANRIL__p1__tile1__minus\n"
     ]
    }
   ],
   "source": [
    "hepg2_motif_peaks = {}\n",
    "k562_motif_peaks = {}\n",
    "\n",
    "for data_peaks, data_motifs, cell in zip([hepg2_data_peaks, k562_data_peaks], [hepg2_motif_peaks, k562_motif_peaks],\n",
    "                                         [\"HepG2\", \"K562\"]):\n",
    "    print(\"\")\n",
    "    print(cell)\n",
    "    for key in data_peaks:\n",
    "        print(key)\n",
    "        df = data_peaks[key]\n",
    "        fimo_sub = fimo[fimo[\"fixed_name\"] == key]\n",
    "        motif_positions = zip(list(fimo_sub[\"start\"]), list(fimo_sub[\"stop\"]), list(fimo_sub[\"motif\"]))\n",
    "        filtered_motifs = []\n",
    "        filtered_starts = []\n",
    "        filtered_ends = []\n",
    "        for start, end, motif in motif_positions:\n",
    "            for i in range(start, end):\n",
    "                try:\n",
    "                    peak_val = df[df[\"delpos\"] == (i + del_buffer)][\"peak\"].iloc[0]\n",
    "                except:\n",
    "                    continue\n",
    "                if peak_val == \"peak\":\n",
    "                    filtered_motifs.append(motif)\n",
    "                    filtered_starts.append(start)\n",
    "                    filtered_ends.append(end)\n",
    "                    break\n",
    "        data_motifs[key] = {\"motif\": filtered_motifs, \"start\": filtered_starts, \"end\": filtered_ends}"
   ]
  },
  {
   "cell_type": "code",
   "execution_count": 23,
   "metadata": {},
   "outputs": [
    {
     "data": {
      "text/html": [
       "<div>\n",
       "<style>\n",
       "    .dataframe thead tr:only-child th {\n",
       "        text-align: right;\n",
       "    }\n",
       "\n",
       "    .dataframe thead th {\n",
       "        text-align: left;\n",
       "    }\n",
       "\n",
       "    .dataframe tbody tr th {\n",
       "        vertical-align: top;\n",
       "    }\n",
       "</style>\n",
       "<table border=\"1\" class=\"dataframe\">\n",
       "  <thead>\n",
       "    <tr style=\"text-align: right;\">\n",
       "      <th></th>\n",
       "      <th>motif</th>\n",
       "      <th>start</th>\n",
       "      <th>end</th>\n",
       "    </tr>\n",
       "  </thead>\n",
       "  <tbody>\n",
       "    <tr>\n",
       "      <th>0</th>\n",
       "      <td>BATF3</td>\n",
       "      <td>26</td>\n",
       "      <td>39</td>\n",
       "    </tr>\n",
       "    <tr>\n",
       "      <th>26</th>\n",
       "      <td>ATF7</td>\n",
       "      <td>26</td>\n",
       "      <td>39</td>\n",
       "    </tr>\n",
       "    <tr>\n",
       "      <th>62</th>\n",
       "      <td>NEUROG2</td>\n",
       "      <td>70</td>\n",
       "      <td>79</td>\n",
       "    </tr>\n",
       "    <tr>\n",
       "      <th>63</th>\n",
       "      <td>NRF1</td>\n",
       "      <td>18</td>\n",
       "      <td>28</td>\n",
       "    </tr>\n",
       "    <tr>\n",
       "      <th>64</th>\n",
       "      <td>Neurog1</td>\n",
       "      <td>70</td>\n",
       "      <td>79</td>\n",
       "    </tr>\n",
       "  </tbody>\n",
       "</table>\n",
       "</div>"
      ],
      "text/plain": [
       "      motif  start  end\n",
       "0     BATF3     26   39\n",
       "26     ATF7     26   39\n",
       "62  NEUROG2     70   79\n",
       "63     NRF1     18   28\n",
       "64  Neurog1     70   79"
      ]
     },
     "execution_count": 23,
     "metadata": {},
     "output_type": "execute_result"
    }
   ],
   "source": [
    "hepg2_motif_dfs = {}\n",
    "k562_motif_dfs = {}\n",
    "\n",
    "for data_motifs, dfs in zip([hepg2_motif_peaks, k562_motif_peaks], [hepg2_motif_dfs, k562_motif_dfs]):\n",
    "    for key in data_motifs:\n",
    "        data = data_motifs[key]\n",
    "        df = pd.DataFrame.from_dict(data)\n",
    "        df = df[[\"motif\", \"start\", \"end\"]]\n",
    "        df = df.drop_duplicates()\n",
    "        dfs[key] = df\n",
    "\n",
    "hepg2_motif_dfs[\"GAS5__p1__tile2__minus\"].head()"
   ]
  },
  {
   "cell_type": "markdown",
   "metadata": {},
   "source": [
    "## 5. limit to TFs expressed in each cell line"
   ]
  },
  {
   "cell_type": "code",
   "execution_count": 24,
   "metadata": {},
   "outputs": [
    {
     "data": {
      "text/html": [
       "<div>\n",
       "<style>\n",
       "    .dataframe thead tr:only-child th {\n",
       "        text-align: right;\n",
       "    }\n",
       "\n",
       "    .dataframe thead th {\n",
       "        text-align: left;\n",
       "    }\n",
       "\n",
       "    .dataframe tbody tr th {\n",
       "        vertical-align: top;\n",
       "    }\n",
       "</style>\n",
       "<table border=\"1\" class=\"dataframe\">\n",
       "  <thead>\n",
       "    <tr style=\"text-align: right;\">\n",
       "      <th></th>\n",
       "      <th>motif</th>\n",
       "      <th>start</th>\n",
       "      <th>end</th>\n",
       "    </tr>\n",
       "  </thead>\n",
       "  <tbody>\n",
       "    <tr>\n",
       "      <th>26</th>\n",
       "      <td>ATF7</td>\n",
       "      <td>26</td>\n",
       "      <td>39</td>\n",
       "    </tr>\n",
       "    <tr>\n",
       "      <th>63</th>\n",
       "      <td>NRF1</td>\n",
       "      <td>18</td>\n",
       "      <td>28</td>\n",
       "    </tr>\n",
       "    <tr>\n",
       "      <th>70</th>\n",
       "      <td>CREB3</td>\n",
       "      <td>26</td>\n",
       "      <td>39</td>\n",
       "    </tr>\n",
       "    <tr>\n",
       "      <th>78</th>\n",
       "      <td>JUND(var.2)</td>\n",
       "      <td>24</td>\n",
       "      <td>38</td>\n",
       "    </tr>\n",
       "    <tr>\n",
       "      <th>97</th>\n",
       "      <td>JUND(var.2)</td>\n",
       "      <td>25</td>\n",
       "      <td>39</td>\n",
       "    </tr>\n",
       "  </tbody>\n",
       "</table>\n",
       "</div>"
      ],
      "text/plain": [
       "          motif  start  end\n",
       "26         ATF7     26   39\n",
       "63         NRF1     18   28\n",
       "70        CREB3     26   39\n",
       "78  JUND(var.2)     24   38\n",
       "97  JUND(var.2)     25   39"
      ]
     },
     "execution_count": 24,
     "metadata": {},
     "output_type": "execute_result"
    }
   ],
   "source": [
    "hepg2_motif_dfs_filt = {}\n",
    "k562_motif_dfs_filt = {}\n",
    "\n",
    "for motif_dfs, motif_dfs_filt, tfs in zip([hepg2_motif_dfs, k562_motif_dfs], \n",
    "                                          [hepg2_motif_dfs_filt, k562_motif_dfs_filt],\n",
    "                                          [hepg2_tfs, k562_tfs]):\n",
    "    for key in motif_dfs:\n",
    "        df = motif_dfs[key]\n",
    "        sub = df[df[\"motif\"].isin(tfs)]\n",
    "        motif_dfs_filt[key] = sub\n",
    "\n",
    "hepg2_motif_dfs_filt[\"GAS5__p1__tile2__minus\"].head()"
   ]
  },
  {
   "cell_type": "markdown",
   "metadata": {},
   "source": [
    "## 6. make heatmap with TFs mapped in each sequence\n",
    "note: use only HepG2 since there are more seqs expressed in HepG2 and use results filtered by TFs expr in HepG2"
   ]
  },
  {
   "cell_type": "code",
   "execution_count": 25,
   "metadata": {},
   "outputs": [
    {
     "data": {
      "text/plain": [
       "['enhancer_NEAT1',\n",
       " 'enhancer_MALAT1',\n",
       " 'enhancer_TERC',\n",
       " 'enhancer_LINC-PINT',\n",
       " 'FALEC']"
      ]
     },
     "execution_count": 25,
     "metadata": {},
     "output_type": "execute_result"
    }
   ],
   "source": [
    "# first, put all gene data in dictionary of list of dataframes\n",
    "hepg2_gene_data = {}\n",
    "k562_gene_data = {}\n",
    "\n",
    "for tile_data, gene_data in zip([hepg2_motif_dfs_filt, k562_motif_dfs_filt], [hepg2_gene_data, k562_gene_data]):\n",
    "    for key in tile_data:\n",
    "        data = tile_data[key]\n",
    "\n",
    "        if \"enhancer\" not in key:\n",
    "            gene_name = key.split(\"_\")[0]\n",
    "            prom_name = key.split(\"_\")[1]\n",
    "            tile_name = key.split(\"_\")[2]\n",
    "            strand_name = key.split(\"_\")[3]\n",
    "        else:\n",
    "            gene_name = key.split(\"_\")[0] + \"_\" + key.split(\"_\")[1]\n",
    "            prom_name = key.split(\"_\")[2]\n",
    "            tile_name = key.split(\"_\")[3]\n",
    "            strand_name = key.split(\"_\")[4]\n",
    "\n",
    "        data[\"gene_name\"] = gene_name\n",
    "        data[\"prom_name\"] = prom_name\n",
    "        data[\"tile_name\"] = tile_name\n",
    "        data[\"strand_name\"] = strand_name\n",
    "\n",
    "        if \"LINC\" in gene_name:\n",
    "            if \"00467\" not in gene_name:\n",
    "                if \"enhancer\" in gene_name:\n",
    "                    gene_name = \"enhancer_LINC-PINT\"\n",
    "                else:\n",
    "                    gene_name = \"LINC-PINT\"\n",
    "        if gene_name not in gene_data:\n",
    "            gene_data[gene_name] = [data]\n",
    "        else:\n",
    "            current_gene_data = gene_data[gene_name]\n",
    "            current_gene_data.append(data)\n",
    "\n",
    "list(hepg2_gene_data.keys())[0:5]"
   ]
  },
  {
   "cell_type": "code",
   "execution_count": 26,
   "metadata": {},
   "outputs": [],
   "source": [
    "hepg2_sig_data = {}\n",
    "k562_sig_data = {}\n",
    "\n",
    "hepg2_all_motifs = []\n",
    "k562_all_motifs = []\n",
    "\n",
    "for sig_data, all_motifs, gene_data in zip([hepg2_sig_data, k562_sig_data], [hepg2_all_motifs, k562_all_motifs],\n",
    "                                           [hepg2_gene_data, k562_gene_data]):\n",
    "    for gene in gene_data:\n",
    "        dfs = gene_data[gene]\n",
    "        gene_motifs = []\n",
    "        for df in dfs:\n",
    "            gene_motifs.extend(list(df[\"motif\"]))\n",
    "        gene_motifs = list(set(gene_motifs))\n",
    "        all_motifs.extend(gene_motifs)\n",
    "        if len(gene_motifs) == 0:\n",
    "            continue\n",
    "        sig_data[gene] = gene_motifs"
   ]
  },
  {
   "cell_type": "code",
   "execution_count": 27,
   "metadata": {},
   "outputs": [
    {
     "data": {
      "text/plain": [
       "101"
      ]
     },
     "execution_count": 27,
     "metadata": {},
     "output_type": "execute_result"
    }
   ],
   "source": [
    "hepg2_all_motifs = list(set(hepg2_all_motifs))\n",
    "len(hepg2_all_motifs)"
   ]
  },
  {
   "cell_type": "code",
   "execution_count": 28,
   "metadata": {
    "collapsed": true
   },
   "outputs": [],
   "source": [
    "hepg2_motif_idx_dict = {k:v for k, v in zip(hepg2_all_motifs, list(range(0, len(hepg2_all_motifs))))}"
   ]
  },
  {
   "cell_type": "code",
   "execution_count": 29,
   "metadata": {},
   "outputs": [
    {
     "data": {
      "text/html": [
       "<div>\n",
       "<style>\n",
       "    .dataframe thead tr:only-child th {\n",
       "        text-align: right;\n",
       "    }\n",
       "\n",
       "    .dataframe thead th {\n",
       "        text-align: left;\n",
       "    }\n",
       "\n",
       "    .dataframe tbody tr th {\n",
       "        vertical-align: top;\n",
       "    }\n",
       "</style>\n",
       "<table border=\"1\" class=\"dataframe\">\n",
       "  <thead>\n",
       "    <tr style=\"text-align: right;\">\n",
       "      <th></th>\n",
       "      <th>Myc</th>\n",
       "      <th>ZNF263</th>\n",
       "      <th>FOSL1</th>\n",
       "      <th>MAFK</th>\n",
       "      <th>THAP1</th>\n",
       "      <th>Rfx1</th>\n",
       "      <th>CTCF</th>\n",
       "      <th>GRHL1</th>\n",
       "      <th>HEY1</th>\n",
       "      <th>HINFP</th>\n",
       "      <th>...</th>\n",
       "      <th>ZBTB7A</th>\n",
       "      <th>YY1</th>\n",
       "      <th>KLF5</th>\n",
       "      <th>E2F4</th>\n",
       "      <th>KLF16</th>\n",
       "      <th>MAFF</th>\n",
       "      <th>EGR1</th>\n",
       "      <th>RARA(var.2)</th>\n",
       "      <th>Creb5</th>\n",
       "      <th>ZNF740</th>\n",
       "    </tr>\n",
       "  </thead>\n",
       "  <tbody>\n",
       "    <tr>\n",
       "      <th>enhancer_NEAT1</th>\n",
       "      <td>0.0</td>\n",
       "      <td>1.0</td>\n",
       "      <td>0.0</td>\n",
       "      <td>0.0</td>\n",
       "      <td>0.0</td>\n",
       "      <td>0.0</td>\n",
       "      <td>0.0</td>\n",
       "      <td>0.0</td>\n",
       "      <td>0.0</td>\n",
       "      <td>0.0</td>\n",
       "      <td>...</td>\n",
       "      <td>0.0</td>\n",
       "      <td>0.0</td>\n",
       "      <td>1.0</td>\n",
       "      <td>0.0</td>\n",
       "      <td>0.0</td>\n",
       "      <td>0.0</td>\n",
       "      <td>1.0</td>\n",
       "      <td>0.0</td>\n",
       "      <td>0.0</td>\n",
       "      <td>0.0</td>\n",
       "    </tr>\n",
       "    <tr>\n",
       "      <th>enhancer_MALAT1</th>\n",
       "      <td>0.0</td>\n",
       "      <td>0.0</td>\n",
       "      <td>0.0</td>\n",
       "      <td>0.0</td>\n",
       "      <td>1.0</td>\n",
       "      <td>0.0</td>\n",
       "      <td>0.0</td>\n",
       "      <td>1.0</td>\n",
       "      <td>0.0</td>\n",
       "      <td>0.0</td>\n",
       "      <td>...</td>\n",
       "      <td>1.0</td>\n",
       "      <td>0.0</td>\n",
       "      <td>1.0</td>\n",
       "      <td>0.0</td>\n",
       "      <td>1.0</td>\n",
       "      <td>0.0</td>\n",
       "      <td>1.0</td>\n",
       "      <td>0.0</td>\n",
       "      <td>0.0</td>\n",
       "      <td>1.0</td>\n",
       "    </tr>\n",
       "    <tr>\n",
       "      <th>enhancer_LINC-PINT</th>\n",
       "      <td>0.0</td>\n",
       "      <td>0.0</td>\n",
       "      <td>0.0</td>\n",
       "      <td>0.0</td>\n",
       "      <td>0.0</td>\n",
       "      <td>0.0</td>\n",
       "      <td>0.0</td>\n",
       "      <td>1.0</td>\n",
       "      <td>0.0</td>\n",
       "      <td>0.0</td>\n",
       "      <td>...</td>\n",
       "      <td>0.0</td>\n",
       "      <td>0.0</td>\n",
       "      <td>0.0</td>\n",
       "      <td>0.0</td>\n",
       "      <td>0.0</td>\n",
       "      <td>0.0</td>\n",
       "      <td>0.0</td>\n",
       "      <td>0.0</td>\n",
       "      <td>0.0</td>\n",
       "      <td>0.0</td>\n",
       "    </tr>\n",
       "    <tr>\n",
       "      <th>FALEC</th>\n",
       "      <td>0.0</td>\n",
       "      <td>0.0</td>\n",
       "      <td>0.0</td>\n",
       "      <td>0.0</td>\n",
       "      <td>0.0</td>\n",
       "      <td>0.0</td>\n",
       "      <td>0.0</td>\n",
       "      <td>0.0</td>\n",
       "      <td>1.0</td>\n",
       "      <td>0.0</td>\n",
       "      <td>...</td>\n",
       "      <td>0.0</td>\n",
       "      <td>0.0</td>\n",
       "      <td>0.0</td>\n",
       "      <td>0.0</td>\n",
       "      <td>0.0</td>\n",
       "      <td>0.0</td>\n",
       "      <td>0.0</td>\n",
       "      <td>0.0</td>\n",
       "      <td>0.0</td>\n",
       "      <td>0.0</td>\n",
       "    </tr>\n",
       "    <tr>\n",
       "      <th>GAS5</th>\n",
       "      <td>0.0</td>\n",
       "      <td>0.0</td>\n",
       "      <td>0.0</td>\n",
       "      <td>0.0</td>\n",
       "      <td>0.0</td>\n",
       "      <td>0.0</td>\n",
       "      <td>0.0</td>\n",
       "      <td>0.0</td>\n",
       "      <td>0.0</td>\n",
       "      <td>1.0</td>\n",
       "      <td>...</td>\n",
       "      <td>0.0</td>\n",
       "      <td>0.0</td>\n",
       "      <td>0.0</td>\n",
       "      <td>0.0</td>\n",
       "      <td>0.0</td>\n",
       "      <td>0.0</td>\n",
       "      <td>1.0</td>\n",
       "      <td>0.0</td>\n",
       "      <td>0.0</td>\n",
       "      <td>0.0</td>\n",
       "    </tr>\n",
       "  </tbody>\n",
       "</table>\n",
       "<p>5 rows × 101 columns</p>\n",
       "</div>"
      ],
      "text/plain": [
       "                    Myc  ZNF263  FOSL1  MAFK  THAP1  Rfx1  CTCF  GRHL1  HEY1  \\\n",
       "enhancer_NEAT1      0.0     1.0    0.0   0.0    0.0   0.0   0.0    0.0   0.0   \n",
       "enhancer_MALAT1     0.0     0.0    0.0   0.0    1.0   0.0   0.0    1.0   0.0   \n",
       "enhancer_LINC-PINT  0.0     0.0    0.0   0.0    0.0   0.0   0.0    1.0   0.0   \n",
       "FALEC               0.0     0.0    0.0   0.0    0.0   0.0   0.0    0.0   1.0   \n",
       "GAS5                0.0     0.0    0.0   0.0    0.0   0.0   0.0    0.0   0.0   \n",
       "\n",
       "                    HINFP   ...    ZBTB7A  YY1  KLF5  E2F4  KLF16  MAFF  EGR1  \\\n",
       "enhancer_NEAT1        0.0   ...       0.0  0.0   1.0   0.0    0.0   0.0   1.0   \n",
       "enhancer_MALAT1       0.0   ...       1.0  0.0   1.0   0.0    1.0   0.0   1.0   \n",
       "enhancer_LINC-PINT    0.0   ...       0.0  0.0   0.0   0.0    0.0   0.0   0.0   \n",
       "FALEC                 0.0   ...       0.0  0.0   0.0   0.0    0.0   0.0   0.0   \n",
       "GAS5                  1.0   ...       0.0  0.0   0.0   0.0    0.0   0.0   1.0   \n",
       "\n",
       "                    RARA(var.2)  Creb5  ZNF740  \n",
       "enhancer_NEAT1              0.0    0.0     0.0  \n",
       "enhancer_MALAT1             0.0    0.0     1.0  \n",
       "enhancer_LINC-PINT          0.0    0.0     0.0  \n",
       "FALEC                       0.0    0.0     0.0  \n",
       "GAS5                        0.0    0.0     0.0  \n",
       "\n",
       "[5 rows x 101 columns]"
      ]
     },
     "execution_count": 29,
     "metadata": {},
     "output_type": "execute_result"
    }
   ],
   "source": [
    "hepg2_motif_array = np.zeros((len(hepg2_sig_data), len(hepg2_all_motifs)))\n",
    "for i, gene in enumerate(hepg2_sig_data):\n",
    "    motif_data = hepg2_sig_data[gene]\n",
    "    motif_idxs = [hepg2_motif_idx_dict[motif] for motif in motif_data]\n",
    "    #print(gene)\n",
    "    for j in motif_idxs:\n",
    "        hepg2_motif_array[i, j] = 1\n",
    "\n",
    "hepg2_mo_df = pd.DataFrame(hepg2_motif_array, index=list(hepg2_sig_data.keys()), columns=hepg2_all_motifs)\n",
    "hepg2_mo_df.head()"
   ]
  },
  {
   "cell_type": "code",
   "execution_count": 30,
   "metadata": {
    "collapsed": true
   },
   "outputs": [],
   "source": [
    "cmap = sns.light_palette(\"firebrick\", reverse=False, as_cmap=True)"
   ]
  },
  {
   "cell_type": "code",
   "execution_count": 69,
   "metadata": {},
   "outputs": [
    {
     "data": {
      "image/png": "[encoded data removed]",
      "text/plain": [
       "<matplotlib.figure.Figure at 0x2b93864e6a20>"
      ]
     },
     "metadata": {},
     "output_type": "display_data"
    }
   ],
   "source": [
    "cg = sns.clustermap(hepg2_mo_df, annot=False, cmap=cmap, figsize=(2.25, 3))\n",
    "cg.savefig(\"Fig_4D.pdf\", bbox_inches=\"tight\", dpi=\"figure\")"
   ]
  },
  {
   "cell_type": "code",
   "execution_count": 70,
   "metadata": {},
   "outputs": [
    {
     "data": {
      "image/png": "[encoded data removed]",
      "text/plain": [
       "<matplotlib.figure.Figure at 0x2b938012c198>"
      ]
     },
     "metadata": {},
     "output_type": "display_data"
    }
   ],
   "source": [
    "cg = sns.clustermap(hepg2_mo_df, annot=False, cmap=cmap, figsize=(14, 5))\n",
    "cg.savefig(\"Fig_4D_big.pdf\", bbox_inches=\"tight\", dpi=\"figure\")"
   ]
  },
  {
   "cell_type": "markdown",
   "metadata": {
    "collapsed": true
   },
   "source": [
    "## 7. plot number of motifs found in seqs expressed in only one cell type vs. two"
   ]
  },
  {
   "cell_type": "code",
   "execution_count": 34,
   "metadata": {},
   "outputs": [
    {
     "data": {
      "text/plain": [
       "['enhancer_NEAT1',\n",
       " 'enhancer_TERC',\n",
       " 'enhancer_LINC-PINT',\n",
       " 'NEAT1',\n",
       " 'HOTAIR',\n",
       " 'CRNDE',\n",
       " 'FENDRR',\n",
       " 'PVT1',\n",
       " 'CDKN2A']"
      ]
     },
     "execution_count": 34,
     "metadata": {},
     "output_type": "execute_result"
    }
   ],
   "source": [
    "expr_in_hepg2_not_k562 = [x for x in hepg2_gene_data.keys() if x not in k562_gene_data.keys()]\n",
    "expr_in_both = [x for x in hepg2_gene_data.keys() if x in k562_gene_data.keys()]\n",
    "expr_in_hepg2_not_k562"
   ]
  },
  {
   "cell_type": "code",
   "execution_count": 36,
   "metadata": {},
   "outputs": [
    {
     "data": {
      "text/plain": [
       "dict_keys(['enhancer_NEAT1', 'enhancer_MALAT1', 'enhancer_LINC-PINT', 'FALEC', 'GAS5', 'ZBTB37', 'LINC00467', 'NEAT1', 'MALAT1', 'DLEU1', 'MEG3', 'FOXF1', 'ZFAS1', 'TERC', 'SAMMSON', 'LUCAT1', 'LINC-PINT', 'CDKN2A', 'JPX'])"
      ]
     },
     "execution_count": 36,
     "metadata": {},
     "output_type": "execute_result"
    }
   ],
   "source": [
    "hepg2_sig_data.keys()"
   ]
  },
  {
   "cell_type": "code",
   "execution_count": 38,
   "metadata": {},
   "outputs": [
    {
     "data": {
      "text/html": [
       "<div>\n",
       "<style>\n",
       "    .dataframe thead tr:only-child th {\n",
       "        text-align: right;\n",
       "    }\n",
       "\n",
       "    .dataframe thead th {\n",
       "        text-align: left;\n",
       "    }\n",
       "\n",
       "    .dataframe tbody tr th {\n",
       "        vertical-align: top;\n",
       "    }\n",
       "</style>\n",
       "<table border=\"1\" class=\"dataframe\">\n",
       "  <thead>\n",
       "    <tr style=\"text-align: right;\">\n",
       "      <th></th>\n",
       "      <th>gene</th>\n",
       "      <th>n_sig_motifs</th>\n",
       "      <th>type</th>\n",
       "    </tr>\n",
       "  </thead>\n",
       "  <tbody>\n",
       "    <tr>\n",
       "      <th>0</th>\n",
       "      <td>enhancer_NEAT1</td>\n",
       "      <td>9</td>\n",
       "      <td>on in hepg2, not k562</td>\n",
       "    </tr>\n",
       "    <tr>\n",
       "      <th>1</th>\n",
       "      <td>enhancer_TERC</td>\n",
       "      <td>0</td>\n",
       "      <td>on in hepg2, not k562</td>\n",
       "    </tr>\n",
       "    <tr>\n",
       "      <th>2</th>\n",
       "      <td>enhancer_LINC-PINT</td>\n",
       "      <td>10</td>\n",
       "      <td>on in hepg2, not k562</td>\n",
       "    </tr>\n",
       "    <tr>\n",
       "      <th>3</th>\n",
       "      <td>NEAT1</td>\n",
       "      <td>2</td>\n",
       "      <td>on in hepg2, not k562</td>\n",
       "    </tr>\n",
       "    <tr>\n",
       "      <th>4</th>\n",
       "      <td>HOTAIR</td>\n",
       "      <td>0</td>\n",
       "      <td>on in hepg2, not k562</td>\n",
       "    </tr>\n",
       "  </tbody>\n",
       "</table>\n",
       "</div>"
      ],
      "text/plain": [
       "                 gene  n_sig_motifs                   type\n",
       "0      enhancer_NEAT1             9  on in hepg2, not k562\n",
       "1       enhancer_TERC             0  on in hepg2, not k562\n",
       "2  enhancer_LINC-PINT            10  on in hepg2, not k562\n",
       "3               NEAT1             2  on in hepg2, not k562\n",
       "4              HOTAIR             0  on in hepg2, not k562"
      ]
     },
     "execution_count": 38,
     "metadata": {},
     "output_type": "execute_result"
    }
   ],
   "source": [
    "results_dict = {}\n",
    "for gene in expr_in_hepg2_not_k562:\n",
    "    try:\n",
    "        sig_motifs = hepg2_sig_data[gene]\n",
    "        n_sig_motifs = len(sig_motifs)\n",
    "    except:\n",
    "        n_sig_motifs = 0\n",
    "    results_dict[gene] = (n_sig_motifs, \"on in hepg2, not k562\")\n",
    "    \n",
    "for gene in expr_in_both:\n",
    "    try:\n",
    "        hepg2_sig_motifs = hepg2_sig_data[gene]\n",
    "    except:\n",
    "        hepg2_sig_motifs = []\n",
    "    try:\n",
    "        k562_sig_motifs = k562_sig_data[gene]\n",
    "    except:\n",
    "        k562_sig_motifs = []\n",
    "    hepg2_sig_motifs.extend(k562_sig_motifs)\n",
    "    all_motifs = list(set(hepg2_sig_motifs))\n",
    "    n_sig_motifs = len(all_motifs)\n",
    "    results_dict[gene] = (n_sig_motifs, \"on in both\")\n",
    "\n",
    "results_df = pd.DataFrame.from_dict(results_dict, orient=\"index\").reset_index()\n",
    "results_df.columns = [\"gene\", \"n_sig_motifs\", \"type\"]\n",
    "results_df.head()"
   ]
  },
  {
   "cell_type": "code",
   "execution_count": 71,
   "metadata": {},
   "outputs": [
    {
     "data": {
      "image/png": "[encoded data removed]",
      "text/plain": [
       "<matplotlib.figure.Figure at 0x2b9386963278>"
      ]
     },
     "metadata": {},
     "output_type": "display_data"
    }
   ],
   "source": [
    "fig = plt.figure(figsize=(2.5, 2))\n",
    "ax = sns.boxplot(data=results_df, x=\"type\", y=\"n_sig_motifs\", flierprops = dict(marker='o', markersize=5))\n",
    "ax.set_xticklabels([\"active in one cell type\", \"active in both cell types\"], rotation=30)\n",
    "mimic_r_boxplot(ax)\n",
    "plt.xlabel(\"\")\n",
    "plt.ylabel(\"# of significant motifs\")\n",
    "plt.ylim((-0.1, 45))\n",
    "\n",
    "\n",
    "# calc p-vals b/w dists\n",
    "one_dist = np.asarray(results_df[results_df[\"type\"] == \"on in hepg2, not k562\"][\"n_sig_motifs\"])\n",
    "both_dist = np.asarray(results_df[results_df[\"type\"] == \"on in both\"][\"n_sig_motifs\"])\n",
    "\n",
    "one_dist = one_dist[~np.isnan(one_dist)]\n",
    "both_dist = both_dist[~np.isnan(both_dist)]\n",
    "\n",
    "u, pval = stats.mannwhitneyu(one_dist, both_dist, alternative=\"less\", use_continuity=False)\n",
    "\n",
    "# statistical annotation\n",
    "annotate_pval(ax, 0.2, 0.8, 40, 0, 39, pval, fontsize)\n",
    "\n",
    "fig.savefig(\"Fig_S15B.pdf\", dpi=\"figure\", bbox_inches=\"tight\")"
   ]
  },
  {
   "cell_type": "markdown",
   "metadata": {},
   "source": [
    "## 8. plot correlation b/w number of motifs found and ref tile activity"
   ]
  },
  {
   "cell_type": "code",
   "execution_count": 48,
   "metadata": {
    "collapsed": true
   },
   "outputs": [],
   "source": [
    "hepg2_dict = {}\n",
    "k562_dict = {}\n",
    "\n",
    "for del_dict, motif_dict, d in zip([hepg2_data_peaks, k562_data_peaks], \n",
    "                                   [hepg2_motif_dfs, k562_motif_dfs], \n",
    "                                   [hepg2_dict, k562_dict]):\n",
    "    for key in del_dict:\n",
    "        df = del_dict[key]\n",
    "        wt_activ = df[\"wt_activ\"].iloc[0]\n",
    "        \n",
    "        # find num sig motifs\n",
    "        motifs = motif_dict[key]\n",
    "        n_tot_sig = len(list(set(list(motifs[\"motif\"]))))\n",
    "            \n",
    "        d[key] = [wt_activ, n_tot_sig]"
   ]
  },
  {
   "cell_type": "code",
   "execution_count": 49,
   "metadata": {
    "collapsed": true
   },
   "outputs": [],
   "source": [
    "hepg2_activ = pd.DataFrame.from_dict(hepg2_dict, orient=\"index\").reset_index()\n",
    "hepg2_activ.columns = [\"seq_name\", \"activ\", \"n_sig\"]\n",
    "\n",
    "k562_activ = pd.DataFrame.from_dict(k562_dict, orient=\"index\").reset_index()\n",
    "k562_activ.columns = [\"seq_name\", \"activ\", \"n_sig\"]"
   ]
  },
  {
   "cell_type": "code",
   "execution_count": 50,
   "metadata": {},
   "outputs": [
    {
     "data": {
      "text/html": [
       "<div>\n",
       "<style>\n",
       "    .dataframe thead tr:only-child th {\n",
       "        text-align: right;\n",
       "    }\n",
       "\n",
       "    .dataframe thead th {\n",
       "        text-align: left;\n",
       "    }\n",
       "\n",
       "    .dataframe tbody tr th {\n",
       "        vertical-align: top;\n",
       "    }\n",
       "</style>\n",
       "<table border=\"1\" class=\"dataframe\">\n",
       "  <thead>\n",
       "    <tr style=\"text-align: right;\">\n",
       "      <th></th>\n",
       "      <th>seq_name</th>\n",
       "      <th>activ</th>\n",
       "      <th>n_sig</th>\n",
       "    </tr>\n",
       "  </thead>\n",
       "  <tbody>\n",
       "    <tr>\n",
       "      <th>0</th>\n",
       "      <td>enhancer_NEAT1__pX__tile2__minus</td>\n",
       "      <td>0.024331</td>\n",
       "      <td>23</td>\n",
       "    </tr>\n",
       "    <tr>\n",
       "      <th>1</th>\n",
       "      <td>enhancer_MALAT1__pX__tile1__minus</td>\n",
       "      <td>-0.116371</td>\n",
       "      <td>0</td>\n",
       "    </tr>\n",
       "    <tr>\n",
       "      <th>2</th>\n",
       "      <td>enhancer_MALAT1__pX__tile2__minus</td>\n",
       "      <td>3.202182</td>\n",
       "      <td>35</td>\n",
       "    </tr>\n",
       "    <tr>\n",
       "      <th>3</th>\n",
       "      <td>enhancer_TERC__pX__tile2__minus</td>\n",
       "      <td>-0.504331</td>\n",
       "      <td>0</td>\n",
       "    </tr>\n",
       "    <tr>\n",
       "      <th>4</th>\n",
       "      <td>enhancer_LINC_PINT__pX__tile1__minus</td>\n",
       "      <td>0.060140</td>\n",
       "      <td>16</td>\n",
       "    </tr>\n",
       "  </tbody>\n",
       "</table>\n",
       "</div>"
      ],
      "text/plain": [
       "                               seq_name     activ  n_sig\n",
       "0      enhancer_NEAT1__pX__tile2__minus  0.024331     23\n",
       "1     enhancer_MALAT1__pX__tile1__minus -0.116371      0\n",
       "2     enhancer_MALAT1__pX__tile2__minus  3.202182     35\n",
       "3       enhancer_TERC__pX__tile2__minus -0.504331      0\n",
       "4  enhancer_LINC_PINT__pX__tile1__minus  0.060140     16"
      ]
     },
     "execution_count": 50,
     "metadata": {},
     "output_type": "execute_result"
    }
   ],
   "source": [
    "hepg2_activ.head()"
   ]
  },
  {
   "cell_type": "code",
   "execution_count": 72,
   "metadata": {},
   "outputs": [
    {
     "data": {
      "image/png": "[encoded data removed]",
      "text/plain": [
       "<matplotlib.figure.Figure at 0x2b93864bde48>"
      ]
     },
     "metadata": {},
     "output_type": "display_data"
    }
   ],
   "source": [
    "g = sns.jointplot(data=hepg2_activ, x=\"activ\", y=\"n_sig\", kind=\"reg\", space=0, size=2.625, stat_func=spearmanr, \n",
    "                  marginal_kws={\"hist\": True, \"kde\": False, \"bins\": 10}, color=\"darkgrey\", scatter_kws={\"s\": 25},\n",
    "                  xlim=(-1, 6), ylim=(-10, 60))\n",
    "g.set_axis_labels(\"reference activity\", \"# motifs\")\n",
    "g.savefig(\"Fig_S15A_1.pdf\", dpi=\"figure\", bbox_inches=\"tight\")"
   ]
  },
  {
   "cell_type": "code",
   "execution_count": 73,
   "metadata": {},
   "outputs": [
    {
     "data": {
      "image/png": "[encoded data removed]",
      "text/plain": [
       "<matplotlib.figure.Figure at 0x2b93869a4240>"
      ]
     },
     "metadata": {},
     "output_type": "display_data"
    }
   ],
   "source": [
    "g = sns.jointplot(data=k562_activ, x=\"activ\", y=\"n_sig\", kind=\"reg\", space=0, size=2.625, stat_func=spearmanr, \n",
    "                  marginal_kws={\"hist\": True, \"kde\": False, \"bins\": 10}, color=\"darkgrey\", scatter_kws={\"s\": 25},\n",
    "                  xlim=(-1, 6), ylim=(-10, 60))\n",
    "g.set_axis_labels(\"reference activity\", \"# motifs\")\n",
    "g.savefig(\"Fig_S15A_2.pdf\", dpi=\"figure\", bbox_inches=\"tight\")"
   ]
  },
  {
   "cell_type": "code",
   "execution_count": null,
   "metadata": {
    "collapsed": true
   },
   "outputs": [],
   "source": []
  }
 ],
 "metadata": {
  "kernelspec": {
   "display_name": "Python 3",
   "language": "python",
   "name": "python3"
  },
  "language_info": {
   "codemirror_mode": {
    "name": "ipython",
    "version": 3
   },
   "file_extension": ".py",
   "mimetype": "text/x-python",
   "name": "python",
   "nbconvert_exporter": "python",
   "pygments_lexer": "ipython3",
   "version": "3.6.2"
  }
 },
 "nbformat": 4,
 "nbformat_minor": 2
}
