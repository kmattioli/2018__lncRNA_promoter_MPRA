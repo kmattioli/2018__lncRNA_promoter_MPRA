{
 "cells": [
  {
   "cell_type": "markdown",
   "metadata": {},
   "source": [
    "# 02__normalize\n",
    "# normalizing data (log2, median center, quantile norm)\n",
    "\n",
    "in this notebook, i take all the filtered RNA and DNA barcode counts and calculate activities both per barcode and per element. the steps are as follows:\n",
    "1. add a pseudocount of 1 to every barcode\n",
    "2. normalize each replicate for sequencing depth by converting counts to counts per million (CPMs)\n",
    "3. calculate activity as RNA/DNA\n",
    "4. transform activities to log2\n",
    "5. median center each replicate\n",
    "6. quantile-normalize the replicates within a given condition\n",
    "\n",
    "to calculate activities per element, i take the median activity value across corresponding barcodes. \n",
    "\n",
    "------\n",
    "\n",
    "figures in this notebook:\n",
    "- **Fig S3B**: heatmap of element activity correlation between replicates"
   ]
  },
  {
   "cell_type": "code",
   "execution_count": 1,
   "metadata": {
    "collapsed": true
   },
   "outputs": [],
   "source": [
    "import warnings\n",
    "warnings.filterwarnings('ignore')\n",
    "\n",
    "import pandas as pd\n",
    "import numpy as np\n",
    "import matplotlib as mpl\n",
    "import matplotlib.pyplot as plt\n",
    "import seaborn as sns\n",
    "import sys\n",
    "\n",
    "# import utils\n",
    "sys.path.append(\"../../utils\")\n",
    "from plotting_utils import *\n",
    "from misc_utils import *\n",
    "from norm_utils import *\n",
    "\n",
    "%matplotlib inline"
   ]
  },
  {
   "cell_type": "code",
   "execution_count": 2,
   "metadata": {
    "collapsed": true
   },
   "outputs": [],
   "source": [
    "sns.set(**PAPER_PRESET)\n",
    "fontsize = PAPER_FONTSIZE"
   ]
  },
  {
   "cell_type": "markdown",
   "metadata": {},
   "source": [
    "## variables"
   ]
  },
  {
   "cell_type": "code",
   "execution_count": 3,
   "metadata": {
    "collapsed": true
   },
   "outputs": [],
   "source": [
    "counts_dir = \"../../data/01__counts\"\n",
    "out_dir = \"../../data/02__activs\"\n",
    "!mkdir -p $out_dir"
   ]
  },
  {
   "cell_type": "code",
   "execution_count": 4,
   "metadata": {
    "collapsed": true
   },
   "outputs": [],
   "source": [
    "pool1_pMPRA1_HeLa_barc_counts_f = \"POOL1__pMPRA1__HeLa__all_counts.txt\"\n",
    "pool1_pMPRA1_HepG2_barc_counts_f = \"POOL1__pMPRA1__HepG2__all_counts.txt\"\n",
    "pool1_pMPRA1_K562_barc_counts_f = \"POOL1__pMPRA1__K562__all_counts.txt\"\n",
    "\n",
    "pool1_pNoCMVMPRA1_HeLa_barc_counts_f = \"POOL1__pNoCMVMPRA1__HeLa__all_counts.txt\"\n",
    "pool1_pNoCMVMPRA1_HepG2_barc_counts_f = \"POOL1__pNoCMVMPRA1__HepG2__all_counts.txt\"\n",
    "pool1_pNoCMVMPRA1_K562_barc_counts_f = \"POOL1__pNoCMVMPRA1__K562__all_counts.txt\"\n",
    "\n",
    "pool2_pMPRA1_HepG2_barc_counts_f = \"POOL2__pMPRA1__HepG2__all_counts.txt\"\n",
    "pool2_pMPRA1_K562_barc_counts_f = \"POOL2__pMPRA1__K562__all_counts.txt\""
   ]
  },
  {
   "cell_type": "code",
   "execution_count": 5,
   "metadata": {
    "collapsed": true
   },
   "outputs": [],
   "source": [
    "pool1_index_f = \"../../data/00__index/tss_oligo_pool.index.txt\"\n",
    "pool2_index_f = \"../../data/00__index/dels_oligo_pool.index.txt\""
   ]
  },
  {
   "cell_type": "code",
   "execution_count": 6,
   "metadata": {
    "collapsed": true
   },
   "outputs": [],
   "source": [
    "pool1_pMPRA1_HeLa_activ_elem_f = \"%s/POOL1__pMPRA1__HeLa__activities_per_element.txt\" % out_dir\n",
    "pool1_pMPRA1_HeLa_activ_barc_f = \"%s/POOL1__pMPRA1__HeLa__activities_per_barcode.txt\" % out_dir\n",
    "\n",
    "pool1_pMPRA1_HepG2_activ_elem_f = \"%s/POOL1__pMPRA1__HepG2__activities_per_element.txt\" % out_dir\n",
    "pool1_pMPRA1_HepG2_activ_barc_f = \"%s/POOL1__pMPRA1__HepG2__activities_per_barcode.txt\" % out_dir\n",
    "\n",
    "pool1_pMPRA1_K562_activ_elem_f = \"%s/POOL1__pMPRA1__K562__activities_per_element.txt\" % out_dir\n",
    "pool1_pMPRA1_K562_activ_barc_f = \"%s/POOL1__pMPRA1__K562__activities_per_barcode.txt\" % out_dir\n",
    "\n",
    "pool1_pNoCMVMPRA1_HeLa_activ_elem_f = \"%s/POOL1__pNoCMVMPRA1__HeLa__activities_per_element.txt\" % out_dir\n",
    "pool1_pNoCMVMPRA1_HeLa_activ_barc_f = \"%s/POOL1__pNoCMVMPRA1__HeLa__activities_per_barcode.txt\" % out_dir\n",
    "\n",
    "pool1_pNoCMVMPRA1_HepG2_activ_elem_f = \"%s/POOL1__pNoCMVMPRA1__HepG2__activities_per_element.txt\" % out_dir\n",
    "pool1_pNoCMVMPRA1_HepG2_activ_barc_f = \"%s/POOL1__pNoCMVMPRA1__HepG2__activities_per_barcode.txt\" % out_dir\n",
    "\n",
    "pool1_pNoCMVMPRA1_K562_activ_elem_f = \"%s/POOL1__pNoCMVMPRA1__K562__activities_per_element.txt\" % out_dir\n",
    "pool1_pNoCMVMPRA1_K562_activ_barc_f = \"%s/POOL1__pNoCMVMPRA1__K562__activities_per_barcode.txt\" % out_dir\n",
    "\n",
    "pool2_pMPRA1_HepG2_activ_elem_f = \"%s/POOL2__pMPRA1__HepG2__activities_per_element.txt\" % out_dir\n",
    "pool2_pMPRA1_HepG2_activ_barc_f = \"%s/POOL2__pMPRA1__HepG2__activities_per_barcode.txt\" % out_dir\n",
    "\n",
    "pool2_pMPRA1_K562_activ_elem_f = \"%s/POOL2__pMPRA1__K562__activities_per_element.txt\" % out_dir\n",
    "pool2_pMPRA1_K562_activ_barc_f = \"%s/POOL2__pMPRA1__K562__activities_per_barcode.txt\" % out_dir"
   ]
  },
  {
   "cell_type": "markdown",
   "metadata": {},
   "source": [
    "## 1. import data"
   ]
  },
  {
   "cell_type": "code",
   "execution_count": 7,
   "metadata": {},
   "outputs": [
    {
     "data": {
      "text/html": [
       "<div>\n",
       "<style>\n",
       "    .dataframe thead tr:only-child th {\n",
       "        text-align: right;\n",
       "    }\n",
       "\n",
       "    .dataframe thead th {\n",
       "        text-align: left;\n",
       "    }\n",
       "\n",
       "    .dataframe tbody tr th {\n",
       "        vertical-align: top;\n",
       "    }\n",
       "</style>\n",
       "<table border=\"1\" class=\"dataframe\">\n",
       "  <thead>\n",
       "    <tr style=\"text-align: right;\">\n",
       "      <th></th>\n",
       "      <th>barcode</th>\n",
       "      <th>dna_1</th>\n",
       "      <th>rna_1</th>\n",
       "      <th>rna_2</th>\n",
       "      <th>rna_3</th>\n",
       "      <th>rna_4</th>\n",
       "    </tr>\n",
       "  </thead>\n",
       "  <tbody>\n",
       "    <tr>\n",
       "      <th>0</th>\n",
       "      <td>ACGACTTACTT</td>\n",
       "      <td>26.0</td>\n",
       "      <td>NaN</td>\n",
       "      <td>NaN</td>\n",
       "      <td>NaN</td>\n",
       "      <td>NaN</td>\n",
       "    </tr>\n",
       "    <tr>\n",
       "      <th>1</th>\n",
       "      <td>CCTAAAGAATC</td>\n",
       "      <td>801.0</td>\n",
       "      <td>355.0</td>\n",
       "      <td>NaN</td>\n",
       "      <td>26.0</td>\n",
       "      <td>6.0</td>\n",
       "    </tr>\n",
       "    <tr>\n",
       "      <th>2</th>\n",
       "      <td>ACCCGAGAATG</td>\n",
       "      <td>385.0</td>\n",
       "      <td>760.0</td>\n",
       "      <td>NaN</td>\n",
       "      <td>NaN</td>\n",
       "      <td>NaN</td>\n",
       "    </tr>\n",
       "    <tr>\n",
       "      <th>3</th>\n",
       "      <td>ACTTACTACGA</td>\n",
       "      <td>112.0</td>\n",
       "      <td>1240.0</td>\n",
       "      <td>3040.0</td>\n",
       "      <td>1560.0</td>\n",
       "      <td>2626.0</td>\n",
       "    </tr>\n",
       "    <tr>\n",
       "      <th>4</th>\n",
       "      <td>ACGCTTATGTG</td>\n",
       "      <td>80.0</td>\n",
       "      <td>NaN</td>\n",
       "      <td>NaN</td>\n",
       "      <td>NaN</td>\n",
       "      <td>118.0</td>\n",
       "    </tr>\n",
       "  </tbody>\n",
       "</table>\n",
       "</div>"
      ],
      "text/plain": [
       "       barcode  dna_1   rna_1   rna_2   rna_3   rna_4\n",
       "0  ACGACTTACTT   26.0     NaN     NaN     NaN     NaN\n",
       "1  CCTAAAGAATC  801.0   355.0     NaN    26.0     6.0\n",
       "2  ACCCGAGAATG  385.0   760.0     NaN     NaN     NaN\n",
       "3  ACTTACTACGA  112.0  1240.0  3040.0  1560.0  2626.0\n",
       "4  ACGCTTATGTG   80.0     NaN     NaN     NaN   118.0"
      ]
     },
     "execution_count": 7,
     "metadata": {},
     "output_type": "execute_result"
    }
   ],
   "source": [
    "pool1_pMPRA1_HeLa_barc_counts = pd.read_table(\"%s/%s\" % (counts_dir, pool1_pMPRA1_HeLa_barc_counts_f), sep=\"\\t\")\n",
    "pool1_pMPRA1_HepG2_barc_counts = pd.read_table(\"%s/%s\" % (counts_dir, pool1_pMPRA1_HepG2_barc_counts_f), sep=\"\\t\")\n",
    "pool1_pMPRA1_K562_barc_counts = pd.read_table(\"%s/%s\" % (counts_dir, pool1_pMPRA1_K562_barc_counts_f), sep=\"\\t\")\n",
    "\n",
    "pool1_pNoCMVMPRA1_HeLa_barc_counts = pd.read_table(\"%s/%s\" % (counts_dir, pool1_pNoCMVMPRA1_HeLa_barc_counts_f), sep=\"\\t\")\n",
    "pool1_pNoCMVMPRA1_HepG2_barc_counts = pd.read_table(\"%s/%s\" % (counts_dir, pool1_pNoCMVMPRA1_HepG2_barc_counts_f), sep=\"\\t\")\n",
    "pool1_pNoCMVMPRA1_K562_barc_counts = pd.read_table(\"%s/%s\" % (counts_dir, pool1_pNoCMVMPRA1_K562_barc_counts_f), sep=\"\\t\")\n",
    "\n",
    "pool2_pMPRA1_HepG2_barc_counts = pd.read_table(\"%s/%s\" % (counts_dir, pool2_pMPRA1_HepG2_barc_counts_f), sep=\"\\t\")\n",
    "pool2_pMPRA1_K562_barc_counts = pd.read_table(\"%s/%s\" % (counts_dir, pool2_pMPRA1_K562_barc_counts_f), sep=\"\\t\")\n",
    "\n",
    "pool1_pMPRA1_HeLa_barc_counts.head()"
   ]
  },
  {
   "cell_type": "code",
   "execution_count": 8,
   "metadata": {},
   "outputs": [
    {
     "name": "stdout",
     "output_type": "stream",
     "text": [
      "104899\n",
      "104899\n",
      "104899\n",
      "106290\n",
      "106290\n",
      "106290\n",
      "110967\n",
      "110967\n"
     ]
    }
   ],
   "source": [
    "print(len(pool1_pMPRA1_HeLa_barc_counts))\n",
    "print(len(pool1_pMPRA1_HepG2_barc_counts))\n",
    "print(len(pool1_pMPRA1_K562_barc_counts))\n",
    "\n",
    "print(len(pool1_pNoCMVMPRA1_HeLa_barc_counts))\n",
    "print(len(pool1_pNoCMVMPRA1_HepG2_barc_counts))\n",
    "print(len(pool1_pNoCMVMPRA1_K562_barc_counts))\n",
    "\n",
    "print(len(pool2_pMPRA1_HepG2_barc_counts))\n",
    "print(len(pool2_pMPRA1_K562_barc_counts))"
   ]
  },
  {
   "cell_type": "code",
   "execution_count": 9,
   "metadata": {
    "collapsed": true
   },
   "outputs": [],
   "source": [
    "pool1_index = pd.read_table(pool1_index_f, sep=\"\\t\")\n",
    "pool2_index = pd.read_table(pool2_index_f, sep=\"\\t\")"
   ]
  },
  {
   "cell_type": "code",
   "execution_count": 10,
   "metadata": {
    "collapsed": true
   },
   "outputs": [],
   "source": [
    "pool1_index_elem = pool1_index[[\"element\", \"oligo_type\", \"unique_id\", \"dupe_info\", \"SNP\"]]\n",
    "pool2_index_elem = pool2_index[[\"element\", \"oligo_type\", \"unique_id\", \"dupe_info\", \"SNP\"]]\n",
    "\n",
    "pool1_index_elem = pool1_index_elem.drop_duplicates()\n",
    "pool2_index_elem = pool2_index_elem.drop_duplicates()"
   ]
  },
  {
   "cell_type": "markdown",
   "metadata": {},
   "source": [
    "## 2. normalize"
   ]
  },
  {
   "cell_type": "code",
   "execution_count": 11,
   "metadata": {},
   "outputs": [
    {
     "data": {
      "text/html": [
       "<div>\n",
       "<style>\n",
       "    .dataframe thead tr:only-child th {\n",
       "        text-align: right;\n",
       "    }\n",
       "\n",
       "    .dataframe thead th {\n",
       "        text-align: left;\n",
       "    }\n",
       "\n",
       "    .dataframe tbody tr th {\n",
       "        vertical-align: top;\n",
       "    }\n",
       "</style>\n",
       "<table border=\"1\" class=\"dataframe\">\n",
       "  <thead>\n",
       "    <tr style=\"text-align: right;\">\n",
       "      <th></th>\n",
       "      <th>barcode</th>\n",
       "      <th>dna_1</th>\n",
       "      <th>rna_1</th>\n",
       "      <th>rna_2</th>\n",
       "      <th>rna_3</th>\n",
       "      <th>rna_4</th>\n",
       "    </tr>\n",
       "  </thead>\n",
       "  <tbody>\n",
       "    <tr>\n",
       "      <th>0</th>\n",
       "      <td>ACGACTTACTT</td>\n",
       "      <td>27.0</td>\n",
       "      <td>NaN</td>\n",
       "      <td>NaN</td>\n",
       "      <td>NaN</td>\n",
       "      <td>NaN</td>\n",
       "    </tr>\n",
       "    <tr>\n",
       "      <th>1</th>\n",
       "      <td>CCTAAAGAATC</td>\n",
       "      <td>802.0</td>\n",
       "      <td>356.0</td>\n",
       "      <td>NaN</td>\n",
       "      <td>27.0</td>\n",
       "      <td>7.0</td>\n",
       "    </tr>\n",
       "    <tr>\n",
       "      <th>2</th>\n",
       "      <td>ACCCGAGAATG</td>\n",
       "      <td>386.0</td>\n",
       "      <td>761.0</td>\n",
       "      <td>NaN</td>\n",
       "      <td>NaN</td>\n",
       "      <td>NaN</td>\n",
       "    </tr>\n",
       "    <tr>\n",
       "      <th>3</th>\n",
       "      <td>ACTTACTACGA</td>\n",
       "      <td>113.0</td>\n",
       "      <td>1241.0</td>\n",
       "      <td>3041.0</td>\n",
       "      <td>1561.0</td>\n",
       "      <td>2627.0</td>\n",
       "    </tr>\n",
       "    <tr>\n",
       "      <th>4</th>\n",
       "      <td>ACGCTTATGTG</td>\n",
       "      <td>81.0</td>\n",
       "      <td>NaN</td>\n",
       "      <td>NaN</td>\n",
       "      <td>NaN</td>\n",
       "      <td>119.0</td>\n",
       "    </tr>\n",
       "  </tbody>\n",
       "</table>\n",
       "</div>"
      ],
      "text/plain": [
       "       barcode  dna_1   rna_1   rna_2   rna_3   rna_4\n",
       "0  ACGACTTACTT   27.0     NaN     NaN     NaN     NaN\n",
       "1  CCTAAAGAATC  802.0   356.0     NaN    27.0     7.0\n",
       "2  ACCCGAGAATG  386.0   761.0     NaN     NaN     NaN\n",
       "3  ACTTACTACGA  113.0  1241.0  3041.0  1561.0  2627.0\n",
       "4  ACGCTTATGTG   81.0     NaN     NaN     NaN   119.0"
      ]
     },
     "execution_count": 11,
     "metadata": {},
     "output_type": "execute_result"
    }
   ],
   "source": [
    "pool1_pMPRA1_HeLa_barc_pseudo = pseudocount(pool1_pMPRA1_HeLa_barc_counts)\n",
    "pool1_pMPRA1_HepG2_barc_pseudo = pseudocount(pool1_pMPRA1_HepG2_barc_counts)\n",
    "pool1_pMPRA1_K562_barc_pseudo = pseudocount(pool1_pMPRA1_K562_barc_counts)\n",
    "\n",
    "pool1_pNoCMVMPRA1_HeLa_barc_pseudo = pseudocount(pool1_pNoCMVMPRA1_HeLa_barc_counts)\n",
    "pool1_pNoCMVMPRA1_HepG2_barc_pseudo = pseudocount(pool1_pNoCMVMPRA1_HepG2_barc_counts)\n",
    "pool1_pNoCMVMPRA1_K562_barc_pseudo = pseudocount(pool1_pNoCMVMPRA1_K562_barc_counts)\n",
    "\n",
    "pool2_pMPRA1_HepG2_barc_pseudo = pseudocount(pool2_pMPRA1_HepG2_barc_counts)\n",
    "pool2_pMPRA1_K562_barc_pseudo = pseudocount(pool2_pMPRA1_K562_barc_counts)\n",
    "\n",
    "pool1_pMPRA1_HeLa_barc_pseudo.head()"
   ]
  },
  {
   "cell_type": "code",
   "execution_count": 12,
   "metadata": {},
   "outputs": [
    {
     "data": {
      "text/html": [
       "<div>\n",
       "<style>\n",
       "    .dataframe thead tr:only-child th {\n",
       "        text-align: right;\n",
       "    }\n",
       "\n",
       "    .dataframe thead th {\n",
       "        text-align: left;\n",
       "    }\n",
       "\n",
       "    .dataframe tbody tr th {\n",
       "        vertical-align: top;\n",
       "    }\n",
       "</style>\n",
       "<table border=\"1\" class=\"dataframe\">\n",
       "  <thead>\n",
       "    <tr style=\"text-align: right;\">\n",
       "      <th></th>\n",
       "      <th>barcode</th>\n",
       "      <th>dna_1</th>\n",
       "      <th>rna_1</th>\n",
       "      <th>rna_2</th>\n",
       "      <th>rna_3</th>\n",
       "      <th>rna_4</th>\n",
       "    </tr>\n",
       "  </thead>\n",
       "  <tbody>\n",
       "    <tr>\n",
       "      <th>0</th>\n",
       "      <td>ACGACTTACTT</td>\n",
       "      <td>0.864597</td>\n",
       "      <td>NaN</td>\n",
       "      <td>NaN</td>\n",
       "      <td>NaN</td>\n",
       "      <td>NaN</td>\n",
       "    </tr>\n",
       "    <tr>\n",
       "      <th>1</th>\n",
       "      <td>CCTAAAGAATC</td>\n",
       "      <td>25.681744</td>\n",
       "      <td>6.734017</td>\n",
       "      <td>NaN</td>\n",
       "      <td>0.453591</td>\n",
       "      <td>0.071649</td>\n",
       "    </tr>\n",
       "    <tr>\n",
       "      <th>2</th>\n",
       "      <td>ACCCGAGAATG</td>\n",
       "      <td>12.360540</td>\n",
       "      <td>14.394908</td>\n",
       "      <td>NaN</td>\n",
       "      <td>NaN</td>\n",
       "      <td>NaN</td>\n",
       "    </tr>\n",
       "    <tr>\n",
       "      <th>3</th>\n",
       "      <td>ACTTACTACGA</td>\n",
       "      <td>3.618500</td>\n",
       "      <td>23.474482</td>\n",
       "      <td>51.683706</td>\n",
       "      <td>26.224293</td>\n",
       "      <td>26.888682</td>\n",
       "    </tr>\n",
       "    <tr>\n",
       "      <th>4</th>\n",
       "      <td>ACGCTTATGTG</td>\n",
       "      <td>2.593792</td>\n",
       "      <td>NaN</td>\n",
       "      <td>NaN</td>\n",
       "      <td>NaN</td>\n",
       "      <td>1.218026</td>\n",
       "    </tr>\n",
       "  </tbody>\n",
       "</table>\n",
       "</div>"
      ],
      "text/plain": [
       "       barcode      dna_1      rna_1      rna_2      rna_3      rna_4\n",
       "0  ACGACTTACTT   0.864597        NaN        NaN        NaN        NaN\n",
       "1  CCTAAAGAATC  25.681744   6.734017        NaN   0.453591   0.071649\n",
       "2  ACCCGAGAATG  12.360540  14.394908        NaN        NaN        NaN\n",
       "3  ACTTACTACGA   3.618500  23.474482  51.683706  26.224293  26.888682\n",
       "4  ACGCTTATGTG   2.593792        NaN        NaN        NaN   1.218026"
      ]
     },
     "execution_count": 12,
     "metadata": {},
     "output_type": "execute_result"
    }
   ],
   "source": [
    "pool1_pMPRA1_HeLa_barc_cpm = to_cpm(pool1_pMPRA1_HeLa_barc_pseudo)\n",
    "pool1_pMPRA1_HepG2_barc_cpm = to_cpm(pool1_pMPRA1_HepG2_barc_pseudo)\n",
    "pool1_pMPRA1_K562_barc_cpm = to_cpm(pool1_pMPRA1_K562_barc_pseudo)\n",
    "\n",
    "pool1_pNoCMVMPRA1_HeLa_barc_cpm = to_cpm(pool1_pNoCMVMPRA1_HeLa_barc_pseudo)\n",
    "pool1_pNoCMVMPRA1_HepG2_barc_cpm = to_cpm(pool1_pNoCMVMPRA1_HepG2_barc_pseudo)\n",
    "pool1_pNoCMVMPRA1_K562_barc_cpm = to_cpm(pool1_pNoCMVMPRA1_K562_barc_pseudo)\n",
    "\n",
    "pool2_pMPRA1_HepG2_barc_cpm = to_cpm(pool2_pMPRA1_HepG2_barc_pseudo)\n",
    "pool2_pMPRA1_K562_barc_cpm = to_cpm(pool2_pMPRA1_K562_barc_pseudo)\n",
    "\n",
    "pool1_pMPRA1_HeLa_barc_cpm.head()"
   ]
  },
  {
   "cell_type": "code",
   "execution_count": 13,
   "metadata": {},
   "outputs": [
    {
     "data": {
      "text/html": [
       "<div>\n",
       "<style>\n",
       "    .dataframe thead tr:only-child th {\n",
       "        text-align: right;\n",
       "    }\n",
       "\n",
       "    .dataframe thead th {\n",
       "        text-align: left;\n",
       "    }\n",
       "\n",
       "    .dataframe tbody tr th {\n",
       "        vertical-align: top;\n",
       "    }\n",
       "</style>\n",
       "<table border=\"1\" class=\"dataframe\">\n",
       "  <thead>\n",
       "    <tr style=\"text-align: right;\">\n",
       "      <th></th>\n",
       "      <th>barcode</th>\n",
       "      <th>rna_1</th>\n",
       "      <th>rna_2</th>\n",
       "      <th>rna_3</th>\n",
       "      <th>rna_4</th>\n",
       "    </tr>\n",
       "  </thead>\n",
       "  <tbody>\n",
       "    <tr>\n",
       "      <th>0</th>\n",
       "      <td>ACGACTTACTT</td>\n",
       "      <td>NaN</td>\n",
       "      <td>NaN</td>\n",
       "      <td>NaN</td>\n",
       "      <td>NaN</td>\n",
       "    </tr>\n",
       "    <tr>\n",
       "      <th>1</th>\n",
       "      <td>CCTAAAGAATC</td>\n",
       "      <td>0.262210</td>\n",
       "      <td>NaN</td>\n",
       "      <td>0.017662</td>\n",
       "      <td>0.002790</td>\n",
       "    </tr>\n",
       "    <tr>\n",
       "      <th>2</th>\n",
       "      <td>ACCCGAGAATG</td>\n",
       "      <td>1.164586</td>\n",
       "      <td>NaN</td>\n",
       "      <td>NaN</td>\n",
       "      <td>NaN</td>\n",
       "    </tr>\n",
       "    <tr>\n",
       "      <th>3</th>\n",
       "      <td>ACTTACTACGA</td>\n",
       "      <td>6.487351</td>\n",
       "      <td>14.283185</td>\n",
       "      <td>7.247283</td>\n",
       "      <td>7.430892</td>\n",
       "    </tr>\n",
       "    <tr>\n",
       "      <th>4</th>\n",
       "      <td>ACGCTTATGTG</td>\n",
       "      <td>NaN</td>\n",
       "      <td>NaN</td>\n",
       "      <td>NaN</td>\n",
       "      <td>0.469593</td>\n",
       "    </tr>\n",
       "  </tbody>\n",
       "</table>\n",
       "</div>"
      ],
      "text/plain": [
       "       barcode     rna_1      rna_2     rna_3     rna_4\n",
       "0  ACGACTTACTT       NaN        NaN       NaN       NaN\n",
       "1  CCTAAAGAATC  0.262210        NaN  0.017662  0.002790\n",
       "2  ACCCGAGAATG  1.164586        NaN       NaN       NaN\n",
       "3  ACTTACTACGA  6.487351  14.283185  7.247283  7.430892\n",
       "4  ACGCTTATGTG       NaN        NaN       NaN  0.469593"
      ]
     },
     "execution_count": 13,
     "metadata": {},
     "output_type": "execute_result"
    }
   ],
   "source": [
    "pool1_pMPRA1_HeLa_barc_activ = to_activ(pool1_pMPRA1_HeLa_barc_cpm)\n",
    "pool1_pMPRA1_HepG2_barc_activ = to_activ(pool1_pMPRA1_HepG2_barc_cpm)\n",
    "pool1_pMPRA1_K562_barc_activ = to_activ(pool1_pMPRA1_K562_barc_cpm)\n",
    "\n",
    "pool1_pNoCMVMPRA1_HeLa_barc_activ = to_activ(pool1_pNoCMVMPRA1_HeLa_barc_cpm)\n",
    "pool1_pNoCMVMPRA1_HepG2_barc_activ = to_activ(pool1_pNoCMVMPRA1_HepG2_barc_cpm)\n",
    "pool1_pNoCMVMPRA1_K562_barc_activ = to_activ(pool1_pNoCMVMPRA1_K562_barc_cpm)\n",
    "\n",
    "pool2_pMPRA1_HepG2_barc_activ = to_activ(pool2_pMPRA1_HepG2_barc_cpm)\n",
    "pool2_pMPRA1_K562_barc_activ = to_activ(pool2_pMPRA1_K562_barc_cpm)\n",
    "\n",
    "pool1_pMPRA1_HeLa_barc_activ.head()"
   ]
  },
  {
   "cell_type": "code",
   "execution_count": 14,
   "metadata": {},
   "outputs": [
    {
     "data": {
      "text/html": [
       "<div>\n",
       "<style>\n",
       "    .dataframe thead tr:only-child th {\n",
       "        text-align: right;\n",
       "    }\n",
       "\n",
       "    .dataframe thead th {\n",
       "        text-align: left;\n",
       "    }\n",
       "\n",
       "    .dataframe tbody tr th {\n",
       "        vertical-align: top;\n",
       "    }\n",
       "</style>\n",
       "<table border=\"1\" class=\"dataframe\">\n",
       "  <thead>\n",
       "    <tr style=\"text-align: right;\">\n",
       "      <th></th>\n",
       "      <th>barcode</th>\n",
       "      <th>rna_1</th>\n",
       "      <th>rna_2</th>\n",
       "      <th>rna_3</th>\n",
       "      <th>rna_4</th>\n",
       "    </tr>\n",
       "  </thead>\n",
       "  <tbody>\n",
       "    <tr>\n",
       "      <th>0</th>\n",
       "      <td>ACGACTTACTT</td>\n",
       "      <td>NaN</td>\n",
       "      <td>NaN</td>\n",
       "      <td>NaN</td>\n",
       "      <td>NaN</td>\n",
       "    </tr>\n",
       "    <tr>\n",
       "      <th>1</th>\n",
       "      <td>CCTAAAGAATC</td>\n",
       "      <td>-1.931204</td>\n",
       "      <td>NaN</td>\n",
       "      <td>-5.823207</td>\n",
       "      <td>-8.485590</td>\n",
       "    </tr>\n",
       "    <tr>\n",
       "      <th>2</th>\n",
       "      <td>ACCCGAGAATG</td>\n",
       "      <td>0.219817</td>\n",
       "      <td>NaN</td>\n",
       "      <td>NaN</td>\n",
       "      <td>NaN</td>\n",
       "    </tr>\n",
       "    <tr>\n",
       "      <th>3</th>\n",
       "      <td>ACTTACTACGA</td>\n",
       "      <td>2.697630</td>\n",
       "      <td>3.836246</td>\n",
       "      <td>2.857440</td>\n",
       "      <td>2.893535</td>\n",
       "    </tr>\n",
       "    <tr>\n",
       "      <th>4</th>\n",
       "      <td>ACGCTTATGTG</td>\n",
       "      <td>NaN</td>\n",
       "      <td>NaN</td>\n",
       "      <td>NaN</td>\n",
       "      <td>-1.090518</td>\n",
       "    </tr>\n",
       "  </tbody>\n",
       "</table>\n",
       "</div>"
      ],
      "text/plain": [
       "       barcode     rna_1     rna_2     rna_3     rna_4\n",
       "0  ACGACTTACTT       NaN       NaN       NaN       NaN\n",
       "1  CCTAAAGAATC -1.931204       NaN -5.823207 -8.485590\n",
       "2  ACCCGAGAATG  0.219817       NaN       NaN       NaN\n",
       "3  ACTTACTACGA  2.697630  3.836246  2.857440  2.893535\n",
       "4  ACGCTTATGTG       NaN       NaN       NaN -1.090518"
      ]
     },
     "execution_count": 14,
     "metadata": {},
     "output_type": "execute_result"
    }
   ],
   "source": [
    "pool1_pMPRA1_HeLa_barc_log2 = to_log2(pool1_pMPRA1_HeLa_barc_activ)\n",
    "pool1_pMPRA1_HepG2_barc_log2 = to_log2(pool1_pMPRA1_HepG2_barc_activ)\n",
    "pool1_pMPRA1_K562_barc_log2 = to_log2(pool1_pMPRA1_K562_barc_activ)\n",
    "\n",
    "pool1_pNoCMVMPRA1_HeLa_barc_log2 = to_log2(pool1_pNoCMVMPRA1_HeLa_barc_activ)\n",
    "pool1_pNoCMVMPRA1_HepG2_barc_log2 = to_log2(pool1_pNoCMVMPRA1_HepG2_barc_activ)\n",
    "pool1_pNoCMVMPRA1_K562_barc_log2 = to_log2(pool1_pNoCMVMPRA1_K562_barc_activ)\n",
    "\n",
    "pool2_pMPRA1_HepG2_barc_log2 = to_log2(pool2_pMPRA1_HepG2_barc_activ)\n",
    "pool2_pMPRA1_K562_barc_log2 = to_log2(pool2_pMPRA1_K562_barc_activ)\n",
    "\n",
    "pool1_pMPRA1_HeLa_barc_log2.head()"
   ]
  },
  {
   "cell_type": "code",
   "execution_count": 15,
   "metadata": {},
   "outputs": [
    {
     "data": {
      "text/html": [
       "<div>\n",
       "<style>\n",
       "    .dataframe thead tr:only-child th {\n",
       "        text-align: right;\n",
       "    }\n",
       "\n",
       "    .dataframe thead th {\n",
       "        text-align: left;\n",
       "    }\n",
       "\n",
       "    .dataframe tbody tr th {\n",
       "        vertical-align: top;\n",
       "    }\n",
       "</style>\n",
       "<table border=\"1\" class=\"dataframe\">\n",
       "  <thead>\n",
       "    <tr style=\"text-align: right;\">\n",
       "      <th></th>\n",
       "      <th>barcode</th>\n",
       "      <th>rna_1</th>\n",
       "      <th>rna_2</th>\n",
       "      <th>rna_3</th>\n",
       "      <th>rna_4</th>\n",
       "    </tr>\n",
       "  </thead>\n",
       "  <tbody>\n",
       "    <tr>\n",
       "      <th>0</th>\n",
       "      <td>ACGACTTACTT</td>\n",
       "      <td>NaN</td>\n",
       "      <td>NaN</td>\n",
       "      <td>NaN</td>\n",
       "      <td>NaN</td>\n",
       "    </tr>\n",
       "    <tr>\n",
       "      <th>1</th>\n",
       "      <td>CCTAAAGAATC</td>\n",
       "      <td>-1.565701</td>\n",
       "      <td>NaN</td>\n",
       "      <td>-5.952251</td>\n",
       "      <td>-8.402619</td>\n",
       "    </tr>\n",
       "    <tr>\n",
       "      <th>2</th>\n",
       "      <td>ACCCGAGAATG</td>\n",
       "      <td>0.585320</td>\n",
       "      <td>NaN</td>\n",
       "      <td>NaN</td>\n",
       "      <td>NaN</td>\n",
       "    </tr>\n",
       "    <tr>\n",
       "      <th>3</th>\n",
       "      <td>ACTTACTACGA</td>\n",
       "      <td>3.063133</td>\n",
       "      <td>3.784917</td>\n",
       "      <td>2.728396</td>\n",
       "      <td>2.976506</td>\n",
       "    </tr>\n",
       "    <tr>\n",
       "      <th>4</th>\n",
       "      <td>ACGCTTATGTG</td>\n",
       "      <td>NaN</td>\n",
       "      <td>NaN</td>\n",
       "      <td>NaN</td>\n",
       "      <td>-1.007548</td>\n",
       "    </tr>\n",
       "  </tbody>\n",
       "</table>\n",
       "</div>"
      ],
      "text/plain": [
       "       barcode     rna_1     rna_2     rna_3     rna_4\n",
       "0  ACGACTTACTT       NaN       NaN       NaN       NaN\n",
       "1  CCTAAAGAATC -1.565701       NaN -5.952251 -8.402619\n",
       "2  ACCCGAGAATG  0.585320       NaN       NaN       NaN\n",
       "3  ACTTACTACGA  3.063133  3.784917  2.728396  2.976506\n",
       "4  ACGCTTATGTG       NaN       NaN       NaN -1.007548"
      ]
     },
     "execution_count": 15,
     "metadata": {},
     "output_type": "execute_result"
    }
   ],
   "source": [
    "pool1_pMPRA1_HeLa_barc_norm = median_norm(pool1_pMPRA1_HeLa_barc_log2)\n",
    "pool1_pMPRA1_HepG2_barc_norm = median_norm(pool1_pMPRA1_HepG2_barc_log2)\n",
    "pool1_pMPRA1_K562_barc_norm = median_norm(pool1_pMPRA1_K562_barc_log2)\n",
    "\n",
    "pool1_pNoCMVMPRA1_HeLa_barc_norm = median_norm(pool1_pNoCMVMPRA1_HeLa_barc_log2)\n",
    "pool1_pNoCMVMPRA1_HepG2_barc_norm = median_norm(pool1_pNoCMVMPRA1_HepG2_barc_log2)\n",
    "pool1_pNoCMVMPRA1_K562_barc_norm = median_norm(pool1_pNoCMVMPRA1_K562_barc_log2)\n",
    "\n",
    "pool2_pMPRA1_HepG2_barc_norm = median_norm(pool2_pMPRA1_HepG2_barc_log2)\n",
    "pool2_pMPRA1_K562_barc_norm = median_norm(pool2_pMPRA1_K562_barc_log2)\n",
    "\n",
    "pool1_pMPRA1_HeLa_barc_norm.head()"
   ]
  },
  {
   "cell_type": "code",
   "execution_count": 16,
   "metadata": {},
   "outputs": [
    {
     "data": {
      "text/html": [
       "<div>\n",
       "<style>\n",
       "    .dataframe thead tr:only-child th {\n",
       "        text-align: right;\n",
       "    }\n",
       "\n",
       "    .dataframe thead th {\n",
       "        text-align: left;\n",
       "    }\n",
       "\n",
       "    .dataframe tbody tr th {\n",
       "        vertical-align: top;\n",
       "    }\n",
       "</style>\n",
       "<table border=\"1\" class=\"dataframe\">\n",
       "  <thead>\n",
       "    <tr style=\"text-align: right;\">\n",
       "      <th></th>\n",
       "      <th>barcode</th>\n",
       "      <th>rna_1</th>\n",
       "      <th>rna_2</th>\n",
       "      <th>rna_3</th>\n",
       "      <th>rna_4</th>\n",
       "    </tr>\n",
       "  </thead>\n",
       "  <tbody>\n",
       "    <tr>\n",
       "      <th>0</th>\n",
       "      <td>ACGACTTACTT</td>\n",
       "      <td>NaN</td>\n",
       "      <td>NaN</td>\n",
       "      <td>NaN</td>\n",
       "      <td>NaN</td>\n",
       "    </tr>\n",
       "    <tr>\n",
       "      <th>1</th>\n",
       "      <td>CCTAAAGAATC</td>\n",
       "      <td>-1.307190</td>\n",
       "      <td>NaN</td>\n",
       "      <td>-6.041100</td>\n",
       "      <td>-7.710508</td>\n",
       "    </tr>\n",
       "    <tr>\n",
       "      <th>2</th>\n",
       "      <td>ACCCGAGAATG</td>\n",
       "      <td>1.262392</td>\n",
       "      <td>NaN</td>\n",
       "      <td>NaN</td>\n",
       "      <td>NaN</td>\n",
       "    </tr>\n",
       "    <tr>\n",
       "      <th>3</th>\n",
       "      <td>ACTTACTACGA</td>\n",
       "      <td>3.063133</td>\n",
       "      <td>3.032274</td>\n",
       "      <td>2.310179</td>\n",
       "      <td>2.408170</td>\n",
       "    </tr>\n",
       "    <tr>\n",
       "      <th>4</th>\n",
       "      <td>ACGCTTATGTG</td>\n",
       "      <td>NaN</td>\n",
       "      <td>NaN</td>\n",
       "      <td>NaN</td>\n",
       "      <td>-1.039191</td>\n",
       "    </tr>\n",
       "  </tbody>\n",
       "</table>\n",
       "</div>"
      ],
      "text/plain": [
       "       barcode     rna_1     rna_2     rna_3     rna_4\n",
       "0  ACGACTTACTT       NaN       NaN       NaN       NaN\n",
       "1  CCTAAAGAATC -1.307190       NaN -6.041100 -7.710508\n",
       "2  ACCCGAGAATG  1.262392       NaN       NaN       NaN\n",
       "3  ACTTACTACGA  3.063133  3.032274  2.310179  2.408170\n",
       "4  ACGCTTATGTG       NaN       NaN       NaN -1.039191"
      ]
     },
     "execution_count": 16,
     "metadata": {},
     "output_type": "execute_result"
    }
   ],
   "source": [
    "pool1_pMPRA1_HeLa_barc_quant = quantile_norm(pool1_pMPRA1_HeLa_barc_norm)\n",
    "pool1_pMPRA1_HepG2_barc_quant = quantile_norm(pool1_pMPRA1_HepG2_barc_norm)\n",
    "pool1_pMPRA1_K562_barc_quant = quantile_norm(pool1_pMPRA1_K562_barc_norm)\n",
    "\n",
    "pool1_pNoCMVMPRA1_HeLa_barc_quant = quantile_norm(pool1_pNoCMVMPRA1_HeLa_barc_norm)\n",
    "pool1_pNoCMVMPRA1_HepG2_barc_quant = quantile_norm(pool1_pNoCMVMPRA1_HepG2_barc_norm)\n",
    "pool1_pNoCMVMPRA1_K562_barc_quant = quantile_norm(pool1_pNoCMVMPRA1_K562_barc_norm)\n",
    "\n",
    "pool2_pMPRA1_HepG2_barc_quant = quantile_norm(pool2_pMPRA1_HepG2_barc_norm)\n",
    "pool2_pMPRA1_K562_barc_quant = quantile_norm(pool2_pMPRA1_K562_barc_norm)\n",
    "\n",
    "pool1_pMPRA1_HeLa_barc_quant.head()"
   ]
  },
  {
   "cell_type": "code",
   "execution_count": 17,
   "metadata": {},
   "outputs": [
    {
     "name": "stdout",
     "output_type": "stream",
     "text": [
      "104899\n",
      "104899\n",
      "104899\n",
      "106290\n",
      "106290\n",
      "106290\n",
      "110967\n",
      "110967\n"
     ]
    }
   ],
   "source": [
    "print(len(pool1_pMPRA1_HeLa_barc_quant))\n",
    "print(len(pool1_pMPRA1_HepG2_barc_quant))\n",
    "print(len(pool1_pMPRA1_K562_barc_quant))\n",
    "\n",
    "print(len(pool1_pNoCMVMPRA1_HeLa_barc_quant))\n",
    "print(len(pool1_pNoCMVMPRA1_HepG2_barc_quant))\n",
    "print(len(pool1_pNoCMVMPRA1_K562_barc_quant))\n",
    "\n",
    "print(len(pool2_pMPRA1_HepG2_barc_quant))\n",
    "print(len(pool2_pMPRA1_K562_barc_quant))"
   ]
  },
  {
   "cell_type": "markdown",
   "metadata": {},
   "source": [
    "## 3. join with index"
   ]
  },
  {
   "cell_type": "code",
   "execution_count": 18,
   "metadata": {},
   "outputs": [
    {
     "data": {
      "text/html": [
       "<div>\n",
       "<style>\n",
       "    .dataframe thead tr:only-child th {\n",
       "        text-align: right;\n",
       "    }\n",
       "\n",
       "    .dataframe thead th {\n",
       "        text-align: left;\n",
       "    }\n",
       "\n",
       "    .dataframe tbody tr th {\n",
       "        vertical-align: top;\n",
       "    }\n",
       "</style>\n",
       "<table border=\"1\" class=\"dataframe\">\n",
       "  <thead>\n",
       "    <tr style=\"text-align: right;\">\n",
       "      <th></th>\n",
       "      <th>full_oligo</th>\n",
       "      <th>oligo_type</th>\n",
       "      <th>oligo_id</th>\n",
       "      <th>dupe_info</th>\n",
       "      <th>seq_name</th>\n",
       "      <th>tile_name</th>\n",
       "      <th>chr</th>\n",
       "      <th>locus_start</th>\n",
       "      <th>locus_end</th>\n",
       "      <th>strand</th>\n",
       "      <th>...</th>\n",
       "      <th>RE_count_2</th>\n",
       "      <th>RE_count_3</th>\n",
       "      <th>SNP</th>\n",
       "      <th>barcode</th>\n",
       "      <th>element</th>\n",
       "      <th>unique_id</th>\n",
       "      <th>rna_1</th>\n",
       "      <th>rna_2</th>\n",
       "      <th>rna_3</th>\n",
       "      <th>rna_4</th>\n",
       "    </tr>\n",
       "  </thead>\n",
       "  <tbody>\n",
       "    <tr>\n",
       "      <th>0</th>\n",
       "      <td>ACTGGCCGCTTCACTGGTGCAGCCCAGGCGTTTCCGGGTTCCCGCG...</td>\n",
       "      <td>WILDTYPE</td>\n",
       "      <td>1.1.0.0.1</td>\n",
       "      <td>none</td>\n",
       "      <td>Antisense.noflip.NA__chr1:100435456..100435570,-</td>\n",
       "      <td>Antisense.noflip.NA__chr1:100435456..100435570...</td>\n",
       "      <td>chr1</td>\n",
       "      <td>100435456.0</td>\n",
       "      <td>100435570.0</td>\n",
       "      <td>-</td>\n",
       "      <td>...</td>\n",
       "      <td>1</td>\n",
       "      <td>0</td>\n",
       "      <td>none</td>\n",
       "      <td>CTCGTAACGGG</td>\n",
       "      <td>GTGCAGCCCAGGCGTTTCCGGGTTCCCGCGGTCCCGTCCCCCAAAT...</td>\n",
       "      <td>WILDTYPE__Antisense.noflip.NA__chr1:100435456....</td>\n",
       "      <td>2.636351</td>\n",
       "      <td>0.929049</td>\n",
       "      <td>1.367973</td>\n",
       "      <td>1.780469</td>\n",
       "    </tr>\n",
       "    <tr>\n",
       "      <th>1</th>\n",
       "      <td>ACTGGCCGCTTCACTGGTGCAGCCCAGGCGTTTCCGGGTTCCCGCG...</td>\n",
       "      <td>WILDTYPE</td>\n",
       "      <td>1.1.0.0.2</td>\n",
       "      <td>none</td>\n",
       "      <td>Antisense.noflip.NA__chr1:100435456..100435570,-</td>\n",
       "      <td>Antisense.noflip.NA__chr1:100435456..100435570...</td>\n",
       "      <td>chr1</td>\n",
       "      <td>100435456.0</td>\n",
       "      <td>100435570.0</td>\n",
       "      <td>-</td>\n",
       "      <td>...</td>\n",
       "      <td>1</td>\n",
       "      <td>0</td>\n",
       "      <td>none</td>\n",
       "      <td>ATACGCGATTG</td>\n",
       "      <td>GTGCAGCCCAGGCGTTTCCGGGTTCCCGCGGTCCCGTCCCCCAAAT...</td>\n",
       "      <td>WILDTYPE__Antisense.noflip.NA__chr1:100435456....</td>\n",
       "      <td>1.543398</td>\n",
       "      <td>1.428276</td>\n",
       "      <td>-0.487335</td>\n",
       "      <td>0.612980</td>\n",
       "    </tr>\n",
       "    <tr>\n",
       "      <th>2</th>\n",
       "      <td>ACTGGCCGCTTCACTGGTGCAGCCCAGGCGTTTCCGGGTTCCCGCG...</td>\n",
       "      <td>WILDTYPE</td>\n",
       "      <td>1.1.0.0.3</td>\n",
       "      <td>none</td>\n",
       "      <td>Antisense.noflip.NA__chr1:100435456..100435570,-</td>\n",
       "      <td>Antisense.noflip.NA__chr1:100435456..100435570...</td>\n",
       "      <td>chr1</td>\n",
       "      <td>100435456.0</td>\n",
       "      <td>100435570.0</td>\n",
       "      <td>-</td>\n",
       "      <td>...</td>\n",
       "      <td>1</td>\n",
       "      <td>0</td>\n",
       "      <td>none</td>\n",
       "      <td>GAAACGTAAGT</td>\n",
       "      <td>GTGCAGCCCAGGCGTTTCCGGGTTCCCGCGGTCCCGTCCCCCAAAT...</td>\n",
       "      <td>WILDTYPE__Antisense.noflip.NA__chr1:100435456....</td>\n",
       "      <td>2.388604</td>\n",
       "      <td>-0.727376</td>\n",
       "      <td>-0.608078</td>\n",
       "      <td>0.096449</td>\n",
       "    </tr>\n",
       "    <tr>\n",
       "      <th>3</th>\n",
       "      <td>ACTGGCCGCTTCACTGGTGCAGCCCAGGCGTTTCCGGGTTCCCGCG...</td>\n",
       "      <td>WILDTYPE</td>\n",
       "      <td>1.1.0.0.4</td>\n",
       "      <td>none</td>\n",
       "      <td>Antisense.noflip.NA__chr1:100435456..100435570,-</td>\n",
       "      <td>Antisense.noflip.NA__chr1:100435456..100435570...</td>\n",
       "      <td>chr1</td>\n",
       "      <td>100435456.0</td>\n",
       "      <td>100435570.0</td>\n",
       "      <td>-</td>\n",
       "      <td>...</td>\n",
       "      <td>1</td>\n",
       "      <td>0</td>\n",
       "      <td>none</td>\n",
       "      <td>GTACTAAGAGT</td>\n",
       "      <td>GTGCAGCCCAGGCGTTTCCGGGTTCCCGCGGTCCCGTCCCCCAAAT...</td>\n",
       "      <td>WILDTYPE__Antisense.noflip.NA__chr1:100435456....</td>\n",
       "      <td>1.617867</td>\n",
       "      <td>1.470610</td>\n",
       "      <td>-2.690651</td>\n",
       "      <td>1.287240</td>\n",
       "    </tr>\n",
       "    <tr>\n",
       "      <th>4</th>\n",
       "      <td>ACTGGCCGCTTCACTGGTGCAGCCCAGGCGTTTCCGGGTTCCCGCG...</td>\n",
       "      <td>WILDTYPE</td>\n",
       "      <td>1.1.0.0.5</td>\n",
       "      <td>none</td>\n",
       "      <td>Antisense.noflip.NA__chr1:100435456..100435570,-</td>\n",
       "      <td>Antisense.noflip.NA__chr1:100435456..100435570...</td>\n",
       "      <td>chr1</td>\n",
       "      <td>100435456.0</td>\n",
       "      <td>100435570.0</td>\n",
       "      <td>-</td>\n",
       "      <td>...</td>\n",
       "      <td>1</td>\n",
       "      <td>0</td>\n",
       "      <td>none</td>\n",
       "      <td>ACTTTCCGACG</td>\n",
       "      <td>GTGCAGCCCAGGCGTTTCCGGGTTCCCGCGGTCCCGTCCCCCAAAT...</td>\n",
       "      <td>WILDTYPE__Antisense.noflip.NA__chr1:100435456....</td>\n",
       "      <td>NaN</td>\n",
       "      <td>NaN</td>\n",
       "      <td>2.654832</td>\n",
       "      <td>-3.419911</td>\n",
       "    </tr>\n",
       "  </tbody>\n",
       "</table>\n",
       "<p>5 rows × 26 columns</p>\n",
       "</div>"
      ],
      "text/plain": [
       "                                          full_oligo oligo_type   oligo_id  \\\n",
       "0  ACTGGCCGCTTCACTGGTGCAGCCCAGGCGTTTCCGGGTTCCCGCG...   WILDTYPE  1.1.0.0.1   \n",
       "1  ACTGGCCGCTTCACTGGTGCAGCCCAGGCGTTTCCGGGTTCCCGCG...   WILDTYPE  1.1.0.0.2   \n",
       "2  ACTGGCCGCTTCACTGGTGCAGCCCAGGCGTTTCCGGGTTCCCGCG...   WILDTYPE  1.1.0.0.3   \n",
       "3  ACTGGCCGCTTCACTGGTGCAGCCCAGGCGTTTCCGGGTTCCCGCG...   WILDTYPE  1.1.0.0.4   \n",
       "4  ACTGGCCGCTTCACTGGTGCAGCCCAGGCGTTTCCGGGTTCCCGCG...   WILDTYPE  1.1.0.0.5   \n",
       "\n",
       "  dupe_info                                          seq_name  \\\n",
       "0      none  Antisense.noflip.NA__chr1:100435456..100435570,-   \n",
       "1      none  Antisense.noflip.NA__chr1:100435456..100435570,-   \n",
       "2      none  Antisense.noflip.NA__chr1:100435456..100435570,-   \n",
       "3      none  Antisense.noflip.NA__chr1:100435456..100435570,-   \n",
       "4      none  Antisense.noflip.NA__chr1:100435456..100435570,-   \n",
       "\n",
       "                                           tile_name   chr  locus_start  \\\n",
       "0  Antisense.noflip.NA__chr1:100435456..100435570...  chr1  100435456.0   \n",
       "1  Antisense.noflip.NA__chr1:100435456..100435570...  chr1  100435456.0   \n",
       "2  Antisense.noflip.NA__chr1:100435456..100435570...  chr1  100435456.0   \n",
       "3  Antisense.noflip.NA__chr1:100435456..100435570...  chr1  100435456.0   \n",
       "4  Antisense.noflip.NA__chr1:100435456..100435570...  chr1  100435456.0   \n",
       "\n",
       "     locus_end strand    ...     RE_count_2  RE_count_3   SNP      barcode  \\\n",
       "0  100435570.0      -    ...              1           0  none  CTCGTAACGGG   \n",
       "1  100435570.0      -    ...              1           0  none  ATACGCGATTG   \n",
       "2  100435570.0      -    ...              1           0  none  GAAACGTAAGT   \n",
       "3  100435570.0      -    ...              1           0  none  GTACTAAGAGT   \n",
       "4  100435570.0      -    ...              1           0  none  ACTTTCCGACG   \n",
       "\n",
       "                                             element  \\\n",
       "0  GTGCAGCCCAGGCGTTTCCGGGTTCCCGCGGTCCCGTCCCCCAAAT...   \n",
       "1  GTGCAGCCCAGGCGTTTCCGGGTTCCCGCGGTCCCGTCCCCCAAAT...   \n",
       "2  GTGCAGCCCAGGCGTTTCCGGGTTCCCGCGGTCCCGTCCCCCAAAT...   \n",
       "3  GTGCAGCCCAGGCGTTTCCGGGTTCCCGCGGTCCCGTCCCCCAAAT...   \n",
       "4  GTGCAGCCCAGGCGTTTCCGGGTTCCCGCGGTCCCGTCCCCCAAAT...   \n",
       "\n",
       "                                           unique_id     rna_1     rna_2  \\\n",
       "0  WILDTYPE__Antisense.noflip.NA__chr1:100435456....  2.636351  0.929049   \n",
       "1  WILDTYPE__Antisense.noflip.NA__chr1:100435456....  1.543398  1.428276   \n",
       "2  WILDTYPE__Antisense.noflip.NA__chr1:100435456....  2.388604 -0.727376   \n",
       "3  WILDTYPE__Antisense.noflip.NA__chr1:100435456....  1.617867  1.470610   \n",
       "4  WILDTYPE__Antisense.noflip.NA__chr1:100435456....       NaN       NaN   \n",
       "\n",
       "      rna_3     rna_4  \n",
       "0  1.367973  1.780469  \n",
       "1 -0.487335  0.612980  \n",
       "2 -0.608078  0.096449  \n",
       "3 -2.690651  1.287240  \n",
       "4  2.654832 -3.419911  \n",
       "\n",
       "[5 rows x 26 columns]"
      ]
     },
     "execution_count": 18,
     "metadata": {},
     "output_type": "execute_result"
    }
   ],
   "source": [
    "pool1_pMPRA1_HeLa_barc_quant = pool1_index.merge(pool1_pMPRA1_HeLa_barc_quant, left_on=\"barcode\", right_on=\"barcode\", how=\"left\")\n",
    "pool1_pMPRA1_HepG2_barc_quant = pool1_index.merge(pool1_pMPRA1_HepG2_barc_quant, left_on=\"barcode\", right_on=\"barcode\", how=\"left\")\n",
    "pool1_pMPRA1_K562_barc_quant = pool1_index.merge(pool1_pMPRA1_K562_barc_quant, left_on=\"barcode\", right_on=\"barcode\", how=\"left\")\n",
    "\n",
    "pool1_pNoCMVMPRA1_HeLa_barc_quant = pool1_index.merge(pool1_pNoCMVMPRA1_HeLa_barc_quant, left_on=\"barcode\", right_on=\"barcode\", how=\"left\")\n",
    "pool1_pNoCMVMPRA1_HepG2_barc_quant = pool1_index.merge(pool1_pNoCMVMPRA1_HepG2_barc_quant, left_on=\"barcode\", right_on=\"barcode\", how=\"left\")\n",
    "pool1_pNoCMVMPRA1_K562_barc_quant = pool1_index.merge(pool1_pNoCMVMPRA1_K562_barc_quant, left_on=\"barcode\", right_on=\"barcode\", how=\"left\")\n",
    "\n",
    "pool2_pMPRA1_HepG2_barc_quant = pool2_index.merge(pool2_pMPRA1_HepG2_barc_quant, left_on=\"barcode\", right_on=\"barcode\", how=\"left\")\n",
    "pool2_pMPRA1_K562_barc_quant = pool2_index.merge(pool2_pMPRA1_K562_barc_quant, left_on=\"barcode\", right_on=\"barcode\", how=\"left\")\n",
    "\n",
    "pool1_pMPRA1_HeLa_barc_quant.head()"
   ]
  },
  {
   "cell_type": "code",
   "execution_count": 19,
   "metadata": {},
   "outputs": [
    {
     "name": "stdout",
     "output_type": "stream",
     "text": [
      "120000\n",
      "120000\n",
      "120000\n",
      "120000\n",
      "120000\n",
      "120000\n",
      "119082\n",
      "119082\n"
     ]
    }
   ],
   "source": [
    "print(len(pool1_pMPRA1_HeLa_barc_quant))\n",
    "print(len(pool1_pMPRA1_HepG2_barc_quant))\n",
    "print(len(pool1_pMPRA1_K562_barc_quant))\n",
    "\n",
    "print(len(pool1_pNoCMVMPRA1_HeLa_barc_quant))\n",
    "print(len(pool1_pNoCMVMPRA1_HepG2_barc_quant))\n",
    "print(len(pool1_pNoCMVMPRA1_K562_barc_quant))\n",
    "\n",
    "print(len(pool2_pMPRA1_HepG2_barc_quant))\n",
    "print(len(pool2_pMPRA1_K562_barc_quant))"
   ]
  },
  {
   "cell_type": "markdown",
   "metadata": {},
   "source": [
    "## 4. collapse per element"
   ]
  },
  {
   "cell_type": "code",
   "execution_count": 20,
   "metadata": {
    "collapsed": true
   },
   "outputs": [],
   "source": [
    "pool1_pMPRA1_HeLa_reps = [x for x in pool1_pMPRA1_HeLa_barc_quant.columns if \"rna\" in x]\n",
    "pool1_pMPRA1_HepG2_reps = [x for x in pool1_pMPRA1_HepG2_barc_quant.columns if \"rna\" in x]\n",
    "pool1_pMPRA1_K562_reps = [x for x in pool1_pMPRA1_K562_barc_quant.columns if \"rna\" in x]\n",
    "\n",
    "pool1_pNoCMVMPRA1_HeLa_reps = [x for x in pool1_pNoCMVMPRA1_HeLa_barc_quant.columns if \"rna\" in x]\n",
    "pool1_pNoCMVMPRA1_HepG2_reps = [x for x in pool1_pNoCMVMPRA1_HepG2_barc_quant.columns if \"rna\" in x]\n",
    "pool1_pNoCMVMPRA1_K562_reps = [x for x in pool1_pNoCMVMPRA1_K562_barc_quant.columns if \"rna\" in x]\n",
    "\n",
    "pool2_pMPRA1_HepG2_reps = [x for x in pool2_pMPRA1_HepG2_barc_quant.columns if \"rna\" in x]\n",
    "pool2_pMPRA1_K562_reps = [x for x in pool2_pMPRA1_K562_barc_quant.columns if \"rna\" in x]"
   ]
  },
  {
   "cell_type": "code",
   "execution_count": 21,
   "metadata": {
    "collapsed": true
   },
   "outputs": [],
   "source": [
    "pool1_pMPRA1_HeLa_barc_quant_grp = pool1_pMPRA1_HeLa_barc_quant.groupby([\"element\", \"oligo_type\", \"unique_id\"])[pool1_pMPRA1_HeLa_reps].agg(\"median\").reset_index()\n",
    "pool1_pMPRA1_HepG2_barc_quant_grp = pool1_pMPRA1_HepG2_barc_quant.groupby([\"element\", \"oligo_type\", \"unique_id\"])[pool1_pMPRA1_HepG2_reps].agg(\"median\").reset_index()\n",
    "pool1_pMPRA1_K562_barc_quant_grp = pool1_pMPRA1_K562_barc_quant.groupby([\"element\", \"oligo_type\", \"unique_id\"])[pool1_pMPRA1_K562_reps].agg(\"median\").reset_index()\n",
    "\n",
    "pool1_pNoCMVMPRA1_HeLa_barc_quant_grp = pool1_pNoCMVMPRA1_HeLa_barc_quant.groupby([\"element\", \"oligo_type\", \"unique_id\"])[pool1_pNoCMVMPRA1_HeLa_reps].agg(\"median\").reset_index()\n",
    "pool1_pNoCMVMPRA1_HepG2_barc_quant_grp = pool1_pNoCMVMPRA1_HepG2_barc_quant.groupby([\"element\", \"oligo_type\", \"unique_id\"])[pool1_pNoCMVMPRA1_HepG2_reps].agg(\"median\").reset_index()\n",
    "pool1_pNoCMVMPRA1_K562_barc_quant_grp = pool1_pNoCMVMPRA1_K562_barc_quant.groupby([\"element\", \"oligo_type\", \"unique_id\"])[pool1_pNoCMVMPRA1_K562_reps].agg(\"median\").reset_index()\n",
    "\n",
    "pool2_pMPRA1_HepG2_barc_quant_grp = pool2_pMPRA1_HepG2_barc_quant.groupby([\"element\", \"oligo_type\", \"unique_id\"])[pool2_pMPRA1_HepG2_reps].agg(\"median\").reset_index()\n",
    "pool2_pMPRA1_K562_barc_quant_grp = pool2_pMPRA1_K562_barc_quant.groupby([\"element\", \"oligo_type\", \"unique_id\"])[pool2_pMPRA1_K562_reps].agg(\"median\").reset_index()"
   ]
  },
  {
   "cell_type": "markdown",
   "metadata": {},
   "source": [
    "## 5. write files"
   ]
  },
  {
   "cell_type": "markdown",
   "metadata": {},
   "source": [
    "### activities per element, column per replicate"
   ]
  },
  {
   "cell_type": "code",
   "execution_count": 22,
   "metadata": {
    "collapsed": true
   },
   "outputs": [],
   "source": [
    "pool1_pMPRA1_HeLa_activs_per_elem = pool1_pMPRA1_HeLa_barc_quant.groupby([\"unique_id\", \"element\"])[pool1_pMPRA1_HeLa_reps].agg(\"median\").reset_index()\n",
    "pool1_pMPRA1_HepG2_activs_per_elem = pool1_pMPRA1_HepG2_barc_quant.groupby([\"unique_id\", \"element\"])[pool1_pMPRA1_HepG2_reps].agg(\"median\").reset_index()\n",
    "pool1_pMPRA1_K562_activs_per_elem = pool1_pMPRA1_K562_barc_quant.groupby([\"unique_id\", \"element\"])[pool1_pMPRA1_K562_reps].agg(\"median\").reset_index()\n",
    "\n",
    "pool1_pNoCMVMPRA1_HeLa_activs_per_elem = pool1_pNoCMVMPRA1_HeLa_barc_quant.groupby([\"unique_id\", \"element\"])[pool1_pNoCMVMPRA1_HeLa_reps].agg(\"median\").reset_index()\n",
    "pool1_pNoCMVMPRA1_HepG2_activs_per_elem = pool1_pNoCMVMPRA1_HepG2_barc_quant.groupby([\"unique_id\", \"element\"])[pool1_pNoCMVMPRA1_HepG2_reps].agg(\"median\").reset_index()\n",
    "pool1_pNoCMVMPRA1_K562_activs_per_elem = pool1_pNoCMVMPRA1_K562_barc_quant.groupby([\"unique_id\", \"element\"])[pool1_pNoCMVMPRA1_K562_reps].agg(\"median\").reset_index()\n",
    "\n",
    "pool2_pMPRA1_HepG2_activs_per_elem = pool2_pMPRA1_HepG2_barc_quant.groupby([\"unique_id\", \"element\"])[pool2_pMPRA1_HepG2_reps].agg(\"median\").reset_index()\n",
    "pool2_pMPRA1_K562_activs_per_elem = pool2_pMPRA1_K562_barc_quant.groupby([\"unique_id\", \"element\"])[pool2_pMPRA1_K562_reps].agg(\"median\").reset_index()"
   ]
  },
  {
   "cell_type": "code",
   "execution_count": 23,
   "metadata": {
    "collapsed": true
   },
   "outputs": [],
   "source": [
    "pool1_pMPRA1_HeLa_activs_per_elem.to_csv(pool1_pMPRA1_HeLa_activ_elem_f, sep=\"\\t\", header=True, index=False)\n",
    "pool1_pMPRA1_HepG2_activs_per_elem.to_csv(pool1_pMPRA1_HepG2_activ_elem_f, sep=\"\\t\", header=True, index=False)\n",
    "pool1_pMPRA1_K562_activs_per_elem.to_csv(pool1_pMPRA1_K562_activ_elem_f, sep=\"\\t\", header=True, index=False)\n",
    "\n",
    "pool1_pNoCMVMPRA1_HeLa_activs_per_elem.to_csv(pool1_pNoCMVMPRA1_HeLa_activ_elem_f, sep=\"\\t\", header=True, index=False)\n",
    "pool1_pNoCMVMPRA1_HepG2_activs_per_elem.to_csv(pool1_pNoCMVMPRA1_HepG2_activ_elem_f, sep=\"\\t\", header=True, index=False)\n",
    "pool1_pNoCMVMPRA1_K562_activs_per_elem.to_csv(pool1_pNoCMVMPRA1_K562_activ_elem_f, sep=\"\\t\", header=True, index=False)\n",
    "\n",
    "pool2_pMPRA1_HepG2_activs_per_elem.to_csv(pool2_pMPRA1_HepG2_activ_elem_f, sep=\"\\t\", header=True, index=False)\n",
    "pool2_pMPRA1_K562_activs_per_elem.to_csv(pool2_pMPRA1_K562_activ_elem_f, sep=\"\\t\", header=True, index=False)"
   ]
  },
  {
   "cell_type": "markdown",
   "metadata": {},
   "source": [
    "### activities per barcode, column per replicate"
   ]
  },
  {
   "cell_type": "code",
   "execution_count": 24,
   "metadata": {
    "collapsed": true
   },
   "outputs": [],
   "source": [
    "pool1_pMPRA1_HeLa_activs_per_barc = pool1_pMPRA1_HeLa_barc_quant.groupby([\"barcode\"])[pool1_pMPRA1_HeLa_reps].agg(\"median\").reset_index()\n",
    "pool1_pMPRA1_HepG2_activs_per_barc = pool1_pMPRA1_HepG2_barc_quant.groupby([\"barcode\"])[pool1_pMPRA1_HepG2_reps].agg(\"median\").reset_index()\n",
    "pool1_pMPRA1_K562_activs_per_barc = pool1_pMPRA1_K562_barc_quant.groupby([\"barcode\"])[pool1_pMPRA1_K562_reps].agg(\"median\").reset_index()\n",
    "\n",
    "pool1_pNoCMVMPRA1_HeLa_activs_per_barc = pool1_pNoCMVMPRA1_HeLa_barc_quant.groupby([\"barcode\"])[pool1_pNoCMVMPRA1_HeLa_reps].agg(\"median\").reset_index()\n",
    "pool1_pNoCMVMPRA1_HepG2_activs_per_barc = pool1_pNoCMVMPRA1_HepG2_barc_quant.groupby([\"barcode\"])[pool1_pNoCMVMPRA1_HepG2_reps].agg(\"median\").reset_index()\n",
    "pool1_pNoCMVMPRA1_K562_activs_per_barc = pool1_pNoCMVMPRA1_K562_barc_quant.groupby([\"barcode\"])[pool1_pNoCMVMPRA1_K562_reps].agg(\"median\").reset_index()\n",
    "\n",
    "pool2_pMPRA1_HepG2_activs_per_barc = pool2_pMPRA1_HepG2_barc_quant.groupby([\"barcode\"])[pool2_pMPRA1_HepG2_reps].agg(\"median\").reset_index()\n",
    "pool2_pMPRA1_K562_activs_per_barc = pool2_pMPRA1_K562_barc_quant.groupby([\"barcode\"])[pool2_pMPRA1_K562_reps].agg(\"median\").reset_index()"
   ]
  },
  {
   "cell_type": "code",
   "execution_count": 25,
   "metadata": {
    "collapsed": true
   },
   "outputs": [],
   "source": [
    "pool1_pMPRA1_HeLa_activs_per_barc.to_csv(pool1_pMPRA1_HeLa_activ_barc_f, sep=\"\\t\", header=True, index=False)\n",
    "pool1_pMPRA1_HepG2_activs_per_barc.to_csv(pool1_pMPRA1_HepG2_activ_barc_f, sep=\"\\t\", header=True, index=False)\n",
    "pool1_pMPRA1_K562_activs_per_barc.to_csv(pool1_pMPRA1_K562_activ_barc_f, sep=\"\\t\", header=True, index=False)\n",
    "\n",
    "pool1_pNoCMVMPRA1_HeLa_activs_per_barc.to_csv(pool1_pNoCMVMPRA1_HeLa_activ_barc_f, sep=\"\\t\", header=True, index=False)\n",
    "pool1_pNoCMVMPRA1_HepG2_activs_per_barc.to_csv(pool1_pNoCMVMPRA1_HepG2_activ_barc_f, sep=\"\\t\", header=True, index=False)\n",
    "pool1_pNoCMVMPRA1_K562_activs_per_barc.to_csv(pool1_pNoCMVMPRA1_K562_activ_barc_f, sep=\"\\t\", header=True, index=False)\n",
    "\n",
    "pool2_pMPRA1_HepG2_activs_per_barc.to_csv(pool2_pMPRA1_HepG2_activ_barc_f, sep=\"\\t\", header=True, index=False)\n",
    "pool2_pMPRA1_K562_activs_per_barc.to_csv(pool2_pMPRA1_K562_activ_barc_f, sep=\"\\t\", header=True, index=False)"
   ]
  },
  {
   "cell_type": "markdown",
   "metadata": {},
   "source": [
    "## 6. plot replicate heatmaps"
   ]
  },
  {
   "cell_type": "markdown",
   "metadata": {},
   "source": [
    "### pool 1 (TSS pool)"
   ]
  },
  {
   "cell_type": "code",
   "execution_count": 26,
   "metadata": {
    "collapsed": true
   },
   "outputs": [],
   "source": [
    "pool1_pMPRA1_HeLa_activs_per_elem.columns = [\"HeLa_%s\" % x if \"rna\" in x else x for x in pool1_pMPRA1_HeLa_activs_per_elem.columns]\n",
    "pool1_pMPRA1_HepG2_activs_per_elem.columns = [\"HepG2_%s\" % x if \"rna\" in x else x for x in pool1_pMPRA1_HepG2_activs_per_elem.columns]\n",
    "pool1_pMPRA1_K562_activs_per_elem.columns = [\"K562_%s\" % x if \"rna\" in x else x for x in pool1_pMPRA1_K562_activs_per_elem.columns]\n",
    "\n",
    "pool1_pNoCMVMPRA1_HeLa_activs_per_elem.columns = [\"HeLa_noCMV_%s\" % x if \"rna\" in x else x for x in pool1_pNoCMVMPRA1_HeLa_activs_per_elem.columns]\n",
    "pool1_pNoCMVMPRA1_HepG2_activs_per_elem.columns = [\"HepG2_noCMV_%s\" % x if \"rna\" in x else x for x in pool1_pNoCMVMPRA1_HepG2_activs_per_elem.columns]\n",
    "pool1_pNoCMVMPRA1_K562_activs_per_elem.columns = [\"K562_noCMV_%s\" % x if \"rna\" in x else x for x in pool1_pNoCMVMPRA1_K562_activs_per_elem.columns]"
   ]
  },
  {
   "cell_type": "code",
   "execution_count": 27,
   "metadata": {},
   "outputs": [
    {
     "data": {
      "text/html": [
       "<div>\n",
       "<style>\n",
       "    .dataframe thead tr:only-child th {\n",
       "        text-align: right;\n",
       "    }\n",
       "\n",
       "    .dataframe thead th {\n",
       "        text-align: left;\n",
       "    }\n",
       "\n",
       "    .dataframe tbody tr th {\n",
       "        vertical-align: top;\n",
       "    }\n",
       "</style>\n",
       "<table border=\"1\" class=\"dataframe\">\n",
       "  <thead>\n",
       "    <tr style=\"text-align: right;\">\n",
       "      <th></th>\n",
       "      <th>unique_id</th>\n",
       "      <th>element</th>\n",
       "      <th>HeLa_rna_1</th>\n",
       "      <th>HeLa_rna_2</th>\n",
       "      <th>HeLa_rna_3</th>\n",
       "      <th>HeLa_rna_4</th>\n",
       "      <th>HepG2_rna_3</th>\n",
       "      <th>HepG2_rna_4</th>\n",
       "      <th>HepG2_rna_5</th>\n",
       "      <th>HepG2_rna_6</th>\n",
       "      <th>...</th>\n",
       "      <th>HeLa_noCMV_rna_3</th>\n",
       "      <th>HeLa_noCMV_rna_4</th>\n",
       "      <th>HepG2_noCMV_rna_3</th>\n",
       "      <th>HepG2_noCMV_rna_4</th>\n",
       "      <th>HepG2_noCMV_rna_5</th>\n",
       "      <th>HepG2_noCMV_rna_6</th>\n",
       "      <th>K562_noCMV_rna_1</th>\n",
       "      <th>K562_noCMV_rna_2</th>\n",
       "      <th>K562_noCMV_rna_3</th>\n",
       "      <th>K562_noCMV_rna_4</th>\n",
       "    </tr>\n",
       "  </thead>\n",
       "  <tbody>\n",
       "    <tr>\n",
       "      <th>0</th>\n",
       "      <td>CONTROL_BUT_HAS_SNP__control.flip.sense__chr11...</td>\n",
       "      <td>TGGCCAATCTACTCCCAGGAGCAGGGAGGGCAGGAGCCAGGGCTGG...</td>\n",
       "      <td>-1.406431</td>\n",
       "      <td>-2.020802</td>\n",
       "      <td>-1.944087</td>\n",
       "      <td>-1.883925</td>\n",
       "      <td>-0.974810</td>\n",
       "      <td>-0.987187</td>\n",
       "      <td>-0.980356</td>\n",
       "      <td>-1.028859</td>\n",
       "      <td>...</td>\n",
       "      <td>-1.147053</td>\n",
       "      <td>-1.200795</td>\n",
       "      <td>-1.367733</td>\n",
       "      <td>-1.125886</td>\n",
       "      <td>-1.254455</td>\n",
       "      <td>-1.054973</td>\n",
       "      <td>-1.800431</td>\n",
       "      <td>-2.003048</td>\n",
       "      <td>-1.695153</td>\n",
       "      <td>-1.453248</td>\n",
       "    </tr>\n",
       "    <tr>\n",
       "      <th>1</th>\n",
       "      <td>CONTROL_BUT_HAS_SNP__control.flip.sense__chr16...</td>\n",
       "      <td>CACCCCCATCCCAGGCTGAGTCACTCTAAGAAAAGGACAGTGTGGG...</td>\n",
       "      <td>-0.428314</td>\n",
       "      <td>-0.952140</td>\n",
       "      <td>-0.727745</td>\n",
       "      <td>-1.245375</td>\n",
       "      <td>-0.232201</td>\n",
       "      <td>-0.367854</td>\n",
       "      <td>-0.141330</td>\n",
       "      <td>-0.271426</td>\n",
       "      <td>...</td>\n",
       "      <td>-4.517913</td>\n",
       "      <td>-0.392420</td>\n",
       "      <td>-0.214921</td>\n",
       "      <td>-0.075868</td>\n",
       "      <td>-0.570218</td>\n",
       "      <td>-0.258197</td>\n",
       "      <td>0.005964</td>\n",
       "      <td>0.187738</td>\n",
       "      <td>0.136953</td>\n",
       "      <td>0.250788</td>\n",
       "    </tr>\n",
       "    <tr>\n",
       "      <th>2</th>\n",
       "      <td>CONTROL_BUT_HAS_SNP__control.flip.sense__chr17...</td>\n",
       "      <td>GCCTCGCCCTATGAGAAGGGGGCGGAGGCTGTGCCTGCCTTTGTGG...</td>\n",
       "      <td>-0.179684</td>\n",
       "      <td>-1.075028</td>\n",
       "      <td>-1.018248</td>\n",
       "      <td>-0.201738</td>\n",
       "      <td>-0.723533</td>\n",
       "      <td>-0.698930</td>\n",
       "      <td>-0.682626</td>\n",
       "      <td>-0.734014</td>\n",
       "      <td>...</td>\n",
       "      <td>-0.862486</td>\n",
       "      <td>-3.600438</td>\n",
       "      <td>-0.933320</td>\n",
       "      <td>-1.296015</td>\n",
       "      <td>-1.214499</td>\n",
       "      <td>-1.044805</td>\n",
       "      <td>-0.786478</td>\n",
       "      <td>-1.023928</td>\n",
       "      <td>-1.028086</td>\n",
       "      <td>-0.884119</td>\n",
       "    </tr>\n",
       "    <tr>\n",
       "      <th>3</th>\n",
       "      <td>CONTROL_BUT_HAS_SNP__control.flip.sense__chr17...</td>\n",
       "      <td>CTGACCTATGTGCTTCTTCACTGGCCTTCTTGAGGGAGGGTGGGCG...</td>\n",
       "      <td>-1.064603</td>\n",
       "      <td>-1.265507</td>\n",
       "      <td>-2.253772</td>\n",
       "      <td>-1.490013</td>\n",
       "      <td>-1.033424</td>\n",
       "      <td>-0.942625</td>\n",
       "      <td>-1.413566</td>\n",
       "      <td>-1.064363</td>\n",
       "      <td>...</td>\n",
       "      <td>-2.621573</td>\n",
       "      <td>-0.370748</td>\n",
       "      <td>-1.678796</td>\n",
       "      <td>-1.581389</td>\n",
       "      <td>-1.432467</td>\n",
       "      <td>-1.689603</td>\n",
       "      <td>-1.869078</td>\n",
       "      <td>-1.465448</td>\n",
       "      <td>-1.776735</td>\n",
       "      <td>-1.841760</td>\n",
       "    </tr>\n",
       "    <tr>\n",
       "      <th>4</th>\n",
       "      <td>CONTROL_BUT_HAS_SNP__control.flip.sense__chr1:...</td>\n",
       "      <td>AGTATCCGCTCTCCCCTGTCCCCTGCTATGGGCAGGGCCTGGCTGG...</td>\n",
       "      <td>-1.832317</td>\n",
       "      <td>-2.114391</td>\n",
       "      <td>-1.970246</td>\n",
       "      <td>-2.203425</td>\n",
       "      <td>0.196014</td>\n",
       "      <td>0.263169</td>\n",
       "      <td>0.265157</td>\n",
       "      <td>0.136353</td>\n",
       "      <td>...</td>\n",
       "      <td>-0.049558</td>\n",
       "      <td>-2.250512</td>\n",
       "      <td>-0.130056</td>\n",
       "      <td>-0.123570</td>\n",
       "      <td>-0.207984</td>\n",
       "      <td>-0.140212</td>\n",
       "      <td>-1.323542</td>\n",
       "      <td>-0.806022</td>\n",
       "      <td>-0.956321</td>\n",
       "      <td>-0.943646</td>\n",
       "    </tr>\n",
       "  </tbody>\n",
       "</table>\n",
       "<p>5 rows × 34 columns</p>\n",
       "</div>"
      ],
      "text/plain": [
       "                                           unique_id  \\\n",
       "0  CONTROL_BUT_HAS_SNP__control.flip.sense__chr11...   \n",
       "1  CONTROL_BUT_HAS_SNP__control.flip.sense__chr16...   \n",
       "2  CONTROL_BUT_HAS_SNP__control.flip.sense__chr17...   \n",
       "3  CONTROL_BUT_HAS_SNP__control.flip.sense__chr17...   \n",
       "4  CONTROL_BUT_HAS_SNP__control.flip.sense__chr1:...   \n",
       "\n",
       "                                             element  HeLa_rna_1  HeLa_rna_2  \\\n",
       "0  TGGCCAATCTACTCCCAGGAGCAGGGAGGGCAGGAGCCAGGGCTGG...   -1.406431   -2.020802   \n",
       "1  CACCCCCATCCCAGGCTGAGTCACTCTAAGAAAAGGACAGTGTGGG...   -0.428314   -0.952140   \n",
       "2  GCCTCGCCCTATGAGAAGGGGGCGGAGGCTGTGCCTGCCTTTGTGG...   -0.179684   -1.075028   \n",
       "3  CTGACCTATGTGCTTCTTCACTGGCCTTCTTGAGGGAGGGTGGGCG...   -1.064603   -1.265507   \n",
       "4  AGTATCCGCTCTCCCCTGTCCCCTGCTATGGGCAGGGCCTGGCTGG...   -1.832317   -2.114391   \n",
       "\n",
       "   HeLa_rna_3  HeLa_rna_4  HepG2_rna_3  HepG2_rna_4  HepG2_rna_5  HepG2_rna_6  \\\n",
       "0   -1.944087   -1.883925    -0.974810    -0.987187    -0.980356    -1.028859   \n",
       "1   -0.727745   -1.245375    -0.232201    -0.367854    -0.141330    -0.271426   \n",
       "2   -1.018248   -0.201738    -0.723533    -0.698930    -0.682626    -0.734014   \n",
       "3   -2.253772   -1.490013    -1.033424    -0.942625    -1.413566    -1.064363   \n",
       "4   -1.970246   -2.203425     0.196014     0.263169     0.265157     0.136353   \n",
       "\n",
       "         ...         HeLa_noCMV_rna_3  HeLa_noCMV_rna_4  HepG2_noCMV_rna_3  \\\n",
       "0        ...                -1.147053         -1.200795          -1.367733   \n",
       "1        ...                -4.517913         -0.392420          -0.214921   \n",
       "2        ...                -0.862486         -3.600438          -0.933320   \n",
       "3        ...                -2.621573         -0.370748          -1.678796   \n",
       "4        ...                -0.049558         -2.250512          -0.130056   \n",
       "\n",
       "   HepG2_noCMV_rna_4  HepG2_noCMV_rna_5  HepG2_noCMV_rna_6  K562_noCMV_rna_1  \\\n",
       "0          -1.125886          -1.254455          -1.054973         -1.800431   \n",
       "1          -0.075868          -0.570218          -0.258197          0.005964   \n",
       "2          -1.296015          -1.214499          -1.044805         -0.786478   \n",
       "3          -1.581389          -1.432467          -1.689603         -1.869078   \n",
       "4          -0.123570          -0.207984          -0.140212         -1.323542   \n",
       "\n",
       "   K562_noCMV_rna_2  K562_noCMV_rna_3  K562_noCMV_rna_4  \n",
       "0         -2.003048         -1.695153         -1.453248  \n",
       "1          0.187738          0.136953          0.250788  \n",
       "2         -1.023928         -1.028086         -0.884119  \n",
       "3         -1.465448         -1.776735         -1.841760  \n",
       "4         -0.806022         -0.956321         -0.943646  \n",
       "\n",
       "[5 rows x 34 columns]"
      ]
     },
     "execution_count": 27,
     "metadata": {},
     "output_type": "execute_result"
    }
   ],
   "source": [
    "pool1 = pool1_pMPRA1_HeLa_activs_per_elem.merge(pool1_pMPRA1_HepG2_activs_per_elem, on=[\"unique_id\", \"element\"], how=\"outer\").merge(pool1_pMPRA1_K562_activs_per_elem, on=[\"unique_id\", \"element\"], how=\"outer\")\n",
    "pool1_all = pool1_pMPRA1_HeLa_activs_per_elem.merge(pool1_pMPRA1_HepG2_activs_per_elem, on=[\"unique_id\", \"element\"], how=\"outer\").merge(pool1_pMPRA1_K562_activs_per_elem, on=[\"unique_id\", \"element\"], how=\"outer\").merge(pool1_pNoCMVMPRA1_HeLa_activs_per_elem, on=[\"unique_id\", \"element\"], how=\"outer\").merge(pool1_pNoCMVMPRA1_HepG2_activs_per_elem, on=[\"unique_id\", \"element\"], how=\"outer\").merge(pool1_pNoCMVMPRA1_K562_activs_per_elem, on=[\"unique_id\", \"element\"], how=\"outer\")\n",
    "pool1_all.head()"
   ]
  },
  {
   "cell_type": "code",
   "execution_count": 28,
   "metadata": {
    "collapsed": true
   },
   "outputs": [],
   "source": [
    "pool1_no_neg = pool1[(~pool1.unique_id.str.contains(\"RANDOM\")) | (~pool1.unique_id.str.contains(\"SCRAMBLED\"))]\n",
    "pool1_no_neg = pool1_no_neg.drop(\"unique_id\", axis=1)\n",
    "pool1_no_neg_corr = pool1_no_neg.corr(method=\"spearman\")\n",
    "\n",
    "pool1_all_no_neg = pool1_all[(~pool1_all.unique_id.str.contains(\"RANDOM\")) | (~pool1_all.unique_id.str.contains(\"SCRAMBLED\"))]\n",
    "pool1_all_no_neg = pool1_all_no_neg.drop(\"unique_id\", axis=1)\n",
    "pool1_all_no_neg_corr = pool1_all_no_neg.corr(method=\"spearman\")"
   ]
  },
  {
   "cell_type": "code",
   "execution_count": 29,
   "metadata": {},
   "outputs": [
    {
     "data": {
      "image/png": "[encoded data removed]",
      "text/plain": [
       "<matplotlib.figure.Figure at 0x2ab8d4379f28>"
      ]
     },
     "metadata": {},
     "output_type": "display_data"
    }
   ],
   "source": [
    "pool1_all_no_neg_corr = pool1_all_no_neg.corr(method=\"pearson\")\n",
    "cmap = sns.cubehelix_palette(as_cmap=True)\n",
    "cg = sns.clustermap(pool1_all_no_neg_corr, figsize=(7.2,7.2), cmap=cmap, annot=False)\n",
    "_ = plt.setp(cg.ax_heatmap.yaxis.get_majorticklabels(), rotation=0)\n",
    "plt.suptitle(\"pearson correlation of replicates\\nquantile-normalized activities per element (no neg controls)\")\n",
    "cg.savefig(\"Fig_S3B.pdf\", dpi=\"figure\", transparent=True, bbox_inches=\"tight\")"
   ]
  },
  {
   "cell_type": "markdown",
   "metadata": {},
   "source": [
    "### pool 2 (deletion pool)"
   ]
  },
  {
   "cell_type": "code",
   "execution_count": 30,
   "metadata": {
    "collapsed": true
   },
   "outputs": [],
   "source": [
    "pool2_pMPRA1_HepG2_activs_per_elem.columns = [\"HepG2_%s\" % x if \"rna\" in x else x for x in pool2_pMPRA1_HepG2_activs_per_elem.columns]\n",
    "pool2_pMPRA1_K562_activs_per_elem.columns = [\"K562_%s\" % x if \"rna\" in x else x for x in pool2_pMPRA1_K562_activs_per_elem.columns]"
   ]
  },
  {
   "cell_type": "code",
   "execution_count": 31,
   "metadata": {},
   "outputs": [
    {
     "data": {
      "text/html": [
       "<div>\n",
       "<style>\n",
       "    .dataframe thead tr:only-child th {\n",
       "        text-align: right;\n",
       "    }\n",
       "\n",
       "    .dataframe thead th {\n",
       "        text-align: left;\n",
       "    }\n",
       "\n",
       "    .dataframe tbody tr th {\n",
       "        vertical-align: top;\n",
       "    }\n",
       "</style>\n",
       "<table border=\"1\" class=\"dataframe\">\n",
       "  <thead>\n",
       "    <tr style=\"text-align: right;\">\n",
       "      <th></th>\n",
       "      <th>unique_id</th>\n",
       "      <th>element</th>\n",
       "      <th>HepG2_rna_3</th>\n",
       "      <th>HepG2_rna_4</th>\n",
       "      <th>HepG2_rna_5</th>\n",
       "      <th>HepG2_rna_6</th>\n",
       "      <th>HepG2_rna_7</th>\n",
       "      <th>HepG2_rna_8</th>\n",
       "      <th>HepG2_rna_9</th>\n",
       "      <th>HepG2_rna_10</th>\n",
       "      <th>K562_rna_1</th>\n",
       "      <th>K562_rna_2</th>\n",
       "      <th>K562_rna_3</th>\n",
       "      <th>K562_rna_4</th>\n",
       "    </tr>\n",
       "  </thead>\n",
       "  <tbody>\n",
       "    <tr>\n",
       "      <th>0</th>\n",
       "      <td>CONTROL_BUT_HAS_SNP__control.noflip.NA__p1@HBB...</td>\n",
       "      <td>TTGAAGTCCAACTCCTAAGCCAGTGCCAGAAGAGCCAAGGACAGGT...</td>\n",
       "      <td>-1.790824</td>\n",
       "      <td>-1.506121</td>\n",
       "      <td>-1.253360</td>\n",
       "      <td>-1.425010</td>\n",
       "      <td>-1.616346</td>\n",
       "      <td>-1.290745</td>\n",
       "      <td>-1.357850</td>\n",
       "      <td>-1.364172</td>\n",
       "      <td>-2.282331</td>\n",
       "      <td>-1.157386</td>\n",
       "      <td>-2.500981</td>\n",
       "      <td>-2.169262</td>\n",
       "    </tr>\n",
       "    <tr>\n",
       "      <th>1</th>\n",
       "      <td>CONTROL_BUT_HAS_SNP__control.noflip.NA__p1@HBB...</td>\n",
       "      <td>TGGCCAATCTACTCCCAGGAGCAGGGAGGGCAGGAGCCAGGGCTGG...</td>\n",
       "      <td>-0.654425</td>\n",
       "      <td>-0.593675</td>\n",
       "      <td>-0.604614</td>\n",
       "      <td>-0.724685</td>\n",
       "      <td>-0.759409</td>\n",
       "      <td>-0.652865</td>\n",
       "      <td>-0.591606</td>\n",
       "      <td>-0.501004</td>\n",
       "      <td>-1.986988</td>\n",
       "      <td>-1.381280</td>\n",
       "      <td>-2.396902</td>\n",
       "      <td>-1.425895</td>\n",
       "    </tr>\n",
       "    <tr>\n",
       "      <th>2</th>\n",
       "      <td>CONTROL_BUT_HAS_SNP__control.noflip.NA__p1@S10...</td>\n",
       "      <td>ACGGGTGCCCACCTGGGAACAGGAGGCTTGGTTCCACGGCTGGGCT...</td>\n",
       "      <td>-1.210300</td>\n",
       "      <td>-1.264010</td>\n",
       "      <td>-1.127320</td>\n",
       "      <td>-1.101221</td>\n",
       "      <td>-1.304477</td>\n",
       "      <td>-1.178312</td>\n",
       "      <td>-1.065390</td>\n",
       "      <td>-1.429695</td>\n",
       "      <td>-2.158125</td>\n",
       "      <td>0.012216</td>\n",
       "      <td>-2.379406</td>\n",
       "      <td>-1.631475</td>\n",
       "    </tr>\n",
       "    <tr>\n",
       "      <th>3</th>\n",
       "      <td>CONTROL_BUT_HAS_SNP__control.noflip.NA__p1@S10...</td>\n",
       "      <td>AGTATCCGCTCTCCCCTGTCCCCTGCTATGGGCAGGGCCTGGCTGG...</td>\n",
       "      <td>0.469084</td>\n",
       "      <td>0.792547</td>\n",
       "      <td>0.496125</td>\n",
       "      <td>0.538051</td>\n",
       "      <td>0.669531</td>\n",
       "      <td>0.552507</td>\n",
       "      <td>0.692894</td>\n",
       "      <td>0.565142</td>\n",
       "      <td>-0.992487</td>\n",
       "      <td>0.853702</td>\n",
       "      <td>-1.287107</td>\n",
       "      <td>-0.546660</td>\n",
       "    </tr>\n",
       "    <tr>\n",
       "      <th>4</th>\n",
       "      <td>CONTROL_SNP_INDIV__control.noflip.NA__p1@HBB__...</td>\n",
       "      <td>TTGAAGTCCAACTCCTAAGCCAGTGCCAGAAGAGCCAAGGACAGGT...</td>\n",
       "      <td>-1.703193</td>\n",
       "      <td>-1.657239</td>\n",
       "      <td>-1.342610</td>\n",
       "      <td>-1.407414</td>\n",
       "      <td>-1.560008</td>\n",
       "      <td>-1.441266</td>\n",
       "      <td>-1.275676</td>\n",
       "      <td>-1.331183</td>\n",
       "      <td>-2.837204</td>\n",
       "      <td>-0.714979</td>\n",
       "      <td>-3.225077</td>\n",
       "      <td>-2.058826</td>\n",
       "    </tr>\n",
       "  </tbody>\n",
       "</table>\n",
       "</div>"
      ],
      "text/plain": [
       "                                           unique_id  \\\n",
       "0  CONTROL_BUT_HAS_SNP__control.noflip.NA__p1@HBB...   \n",
       "1  CONTROL_BUT_HAS_SNP__control.noflip.NA__p1@HBB...   \n",
       "2  CONTROL_BUT_HAS_SNP__control.noflip.NA__p1@S10...   \n",
       "3  CONTROL_BUT_HAS_SNP__control.noflip.NA__p1@S10...   \n",
       "4  CONTROL_SNP_INDIV__control.noflip.NA__p1@HBB__...   \n",
       "\n",
       "                                             element  HepG2_rna_3  \\\n",
       "0  TTGAAGTCCAACTCCTAAGCCAGTGCCAGAAGAGCCAAGGACAGGT...    -1.790824   \n",
       "1  TGGCCAATCTACTCCCAGGAGCAGGGAGGGCAGGAGCCAGGGCTGG...    -0.654425   \n",
       "2  ACGGGTGCCCACCTGGGAACAGGAGGCTTGGTTCCACGGCTGGGCT...    -1.210300   \n",
       "3  AGTATCCGCTCTCCCCTGTCCCCTGCTATGGGCAGGGCCTGGCTGG...     0.469084   \n",
       "4  TTGAAGTCCAACTCCTAAGCCAGTGCCAGAAGAGCCAAGGACAGGT...    -1.703193   \n",
       "\n",
       "   HepG2_rna_4  HepG2_rna_5  HepG2_rna_6  HepG2_rna_7  HepG2_rna_8  \\\n",
       "0    -1.506121    -1.253360    -1.425010    -1.616346    -1.290745   \n",
       "1    -0.593675    -0.604614    -0.724685    -0.759409    -0.652865   \n",
       "2    -1.264010    -1.127320    -1.101221    -1.304477    -1.178312   \n",
       "3     0.792547     0.496125     0.538051     0.669531     0.552507   \n",
       "4    -1.657239    -1.342610    -1.407414    -1.560008    -1.441266   \n",
       "\n",
       "   HepG2_rna_9  HepG2_rna_10  K562_rna_1  K562_rna_2  K562_rna_3  K562_rna_4  \n",
       "0    -1.357850     -1.364172   -2.282331   -1.157386   -2.500981   -2.169262  \n",
       "1    -0.591606     -0.501004   -1.986988   -1.381280   -2.396902   -1.425895  \n",
       "2    -1.065390     -1.429695   -2.158125    0.012216   -2.379406   -1.631475  \n",
       "3     0.692894      0.565142   -0.992487    0.853702   -1.287107   -0.546660  \n",
       "4    -1.275676     -1.331183   -2.837204   -0.714979   -3.225077   -2.058826  "
      ]
     },
     "execution_count": 31,
     "metadata": {},
     "output_type": "execute_result"
    }
   ],
   "source": [
    "pool2 = pool2_pMPRA1_HepG2_activs_per_elem.merge(pool2_pMPRA1_K562_activs_per_elem, on=[\"unique_id\", \"element\"], how=\"outer\")\n",
    "pool2.head()"
   ]
  },
  {
   "cell_type": "code",
   "execution_count": 32,
   "metadata": {
    "collapsed": true
   },
   "outputs": [],
   "source": [
    "pool2_no_neg = pool2[(~pool2.unique_id.str.contains(\"RANDOM\")) | (~pool2.unique_id.str.contains(\"SCRAMBLED\"))]\n",
    "pool2_no_neg = pool2_no_neg.drop(\"unique_id\", axis=1)\n",
    "pool2_no_neg_corr = pool2_no_neg.corr(method=\"spearman\")"
   ]
  },
  {
   "cell_type": "code",
   "execution_count": 33,
   "metadata": {},
   "outputs": [
    {
     "data": {
      "text/plain": [
       "<matplotlib.text.Text at 0x2ab8d4391e48>"
      ]
     },
     "execution_count": 33,
     "metadata": {},
     "output_type": "execute_result"
    },
    {
     "data": {
      "image/png": "[encoded data removed]",
      "text/plain": [
       "<matplotlib.figure.Figure at 0x2ab8d61b23c8>"
      ]
     },
     "metadata": {},
     "output_type": "display_data"
    }
   ],
   "source": [
    "pool2_no_neg_corr = pool2_no_neg.corr(method=\"pearson\")\n",
    "cg = sns.clustermap(pool2_no_neg_corr, figsize=(7.2, 7.2), annot=True, cmap=cmap, annot_kws={\"fontsize\":fontsize})\n",
    "_ = plt.setp(cg.ax_heatmap.yaxis.get_majorticklabels(), rotation=0)\n",
    "plt.suptitle(\"pearson correlation of replicates\\nquantile-normalized activities per element (no neg controls)\")"
   ]
  },
  {
   "cell_type": "markdown",
   "metadata": {},
   "source": [
    "## 7. average pairwise spearman & pearson w/in each condition"
   ]
  },
  {
   "cell_type": "markdown",
   "metadata": {},
   "source": [
    "### pool1 - HeLa min. promoter"
   ]
  },
  {
   "cell_type": "code",
   "execution_count": 34,
   "metadata": {},
   "outputs": [
    {
     "name": "stdout",
     "output_type": "stream",
     "text": [
      "avg pearson: 0.579060125216\n",
      "avg spearman: 0.567222567141\n"
     ]
    }
   ],
   "source": [
    "pool1_hela_cmv_p = pool1_all_no_neg[[\"HeLa_rna_1\", \"HeLa_rna_2\", \"HeLa_rna_3\", \"HeLa_rna_4\"]].corr(method=\"pearson\")\n",
    "pool1_hela_cmv_s = pool1_all_no_neg[[\"HeLa_rna_1\", \"HeLa_rna_2\", \"HeLa_rna_3\", \"HeLa_rna_4\"]].corr(method=\"spearman\")\n",
    "\n",
    "tmp = np.tril(pool1_hela_cmv_p, k=-1)\n",
    "tmp[tmp == 0] = np.nan\n",
    "pool1_hela_cmv_avg_p = np.nanmean(tmp)\n",
    "\n",
    "tmp = np.tril(pool1_hela_cmv_s, k=-1)\n",
    "tmp[tmp == 0] = np.nan\n",
    "pool1_hela_cmv_avg_s = np.nanmean(tmp)\n",
    "\n",
    "print(\"avg pearson: %s\" % (pool1_hela_cmv_avg_p))\n",
    "print(\"avg spearman: %s\" % (pool1_hela_cmv_avg_s))"
   ]
  },
  {
   "cell_type": "markdown",
   "metadata": {},
   "source": [
    "### pool1 - HepG2 min. promoter"
   ]
  },
  {
   "cell_type": "code",
   "execution_count": 35,
   "metadata": {},
   "outputs": [
    {
     "name": "stdout",
     "output_type": "stream",
     "text": [
      "avg pearson: 0.877580886468\n",
      "avg spearman: 0.844396657738\n"
     ]
    }
   ],
   "source": [
    "pool1_hepg2_cmv_p = pool1_all_no_neg[[\"HepG2_rna_3\", \"HepG2_rna_4\", \"HepG2_rna_5\", \"HepG2_rna_6\", \"HepG2_rna_7\", \"HepG2_rna_8\", \"HepG2_rna_9\", \"HepG2_rna_10\", \"HepG2_rna_11\", \"HepG2_rna_12\", \"HepG2_rna_13\", \"HepG2_rna_14\"]].corr(method=\"pearson\")\n",
    "pool1_hepg2_cmv_s = pool1_all_no_neg[[\"HepG2_rna_3\", \"HepG2_rna_4\", \"HepG2_rna_5\", \"HepG2_rna_6\", \"HepG2_rna_7\", \"HepG2_rna_8\", \"HepG2_rna_9\", \"HepG2_rna_10\", \"HepG2_rna_11\", \"HepG2_rna_12\", \"HepG2_rna_13\", \"HepG2_rna_14\"]].corr(method=\"spearman\")\n",
    "\n",
    "tmp = np.tril(pool1_hepg2_cmv_p, k=-1)\n",
    "tmp[tmp == 0] = np.nan\n",
    "pool1_hepg2_cmv_avg_p = np.nanmean(tmp)\n",
    "\n",
    "tmp = np.tril(pool1_hepg2_cmv_s, k=-1)\n",
    "tmp[tmp == 0] = np.nan\n",
    "pool1_hepg2_cmv_avg_s = np.nanmean(tmp)\n",
    "\n",
    "print(\"avg pearson: %s\" % (pool1_hepg2_cmv_avg_p))\n",
    "print(\"avg spearman: %s\" % (pool1_hepg2_cmv_avg_s))"
   ]
  },
  {
   "cell_type": "markdown",
   "metadata": {},
   "source": [
    "### pool1 - K562 min. promoter"
   ]
  },
  {
   "cell_type": "code",
   "execution_count": 36,
   "metadata": {},
   "outputs": [
    {
     "name": "stdout",
     "output_type": "stream",
     "text": [
      "avg pearson: 0.8439392659\n",
      "avg spearman: 0.843046803175\n"
     ]
    }
   ],
   "source": [
    "pool1_k562_cmv_p = pool1_all_no_neg[[\"K562_rna_1\", \"K562_rna_2\", \"K562_rna_3\", \"K562_rna_4\"]].corr(method=\"pearson\")\n",
    "pool1_k562_cmv_s = pool1_all_no_neg[[\"K562_rna_1\", \"K562_rna_2\", \"K562_rna_3\", \"K562_rna_4\"]].corr(method=\"spearman\")\n",
    "\n",
    "tmp = np.tril(pool1_k562_cmv_p, k=-1)\n",
    "tmp[tmp == 0] = np.nan\n",
    "pool1_k562_cmv_avg_p = np.nanmean(tmp)\n",
    "\n",
    "tmp = np.tril(pool1_k562_cmv_s, k=-1)\n",
    "tmp[tmp == 0] = np.nan\n",
    "pool1_k562_cmv_avg_s = np.nanmean(tmp)\n",
    "\n",
    "print(\"avg pearson: %s\" % (pool1_k562_cmv_avg_p))\n",
    "print(\"avg spearman: %s\" % (pool1_k562_cmv_avg_s))"
   ]
  },
  {
   "cell_type": "markdown",
   "metadata": {},
   "source": [
    "### pool1 - HeLa no min. promoter"
   ]
  },
  {
   "cell_type": "code",
   "execution_count": 37,
   "metadata": {},
   "outputs": [
    {
     "name": "stdout",
     "output_type": "stream",
     "text": [
      "avg pearson: 0.270623035975\n",
      "avg spearman: 0.309590736661\n"
     ]
    }
   ],
   "source": [
    "pool1_hela_no_cmv_p = pool1_all_no_neg[[\"HeLa_noCMV_rna_1\", \"HeLa_noCMV_rna_2\", \"HeLa_noCMV_rna_3\", \"HeLa_noCMV_rna_4\"]].corr(method=\"pearson\")\n",
    "pool1_hela_no_cmv_s = pool1_all_no_neg[[\"HeLa_noCMV_rna_1\", \"HeLa_noCMV_rna_2\", \"HeLa_noCMV_rna_3\", \"HeLa_noCMV_rna_4\"]].corr(method=\"spearman\")\n",
    "\n",
    "tmp = np.tril(pool1_hela_no_cmv_p, k=-1)\n",
    "tmp[tmp == 0] = np.nan\n",
    "pool1_hela_no_cmv_avg_p = np.nanmean(tmp)\n",
    "\n",
    "tmp = np.tril(pool1_hela_no_cmv_s, k=-1)\n",
    "tmp[tmp == 0] = np.nan\n",
    "pool1_hela_no_cmv_avg_s = np.nanmean(tmp)\n",
    "\n",
    "print(\"avg pearson: %s\" % (pool1_hela_no_cmv_avg_p))\n",
    "print(\"avg spearman: %s\" % (pool1_hela_no_cmv_avg_s))"
   ]
  },
  {
   "cell_type": "markdown",
   "metadata": {},
   "source": [
    "### pool1 - HepG2 no min. promoter"
   ]
  },
  {
   "cell_type": "code",
   "execution_count": 38,
   "metadata": {},
   "outputs": [
    {
     "name": "stdout",
     "output_type": "stream",
     "text": [
      "avg pearson: 0.855175298112\n",
      "avg spearman: 0.826891617841\n"
     ]
    }
   ],
   "source": [
    "pool1_hepg2_no_cmv_p = pool1_all_no_neg[[\"HepG2_noCMV_rna_3\", \"HepG2_noCMV_rna_4\", \"HepG2_noCMV_rna_5\", \"HepG2_noCMV_rna_6\"]].corr(method=\"pearson\")\n",
    "pool1_hepg2_no_cmv_s = pool1_all_no_neg[[\"HepG2_noCMV_rna_3\", \"HepG2_noCMV_rna_4\", \"HepG2_noCMV_rna_5\", \"HepG2_noCMV_rna_6\"]].corr(method=\"spearman\")\n",
    "\n",
    "tmp = np.tril(pool1_hepg2_no_cmv_p, k=-1)\n",
    "tmp[tmp == 0] = np.nan\n",
    "pool1_hepg2_no_cmv_avg_p = np.nanmean(tmp)\n",
    "\n",
    "tmp = np.tril(pool1_hepg2_no_cmv_s, k=-1)\n",
    "tmp[tmp == 0] = np.nan\n",
    "pool1_hepg2_no_cmv_avg_s = np.nanmean(tmp)\n",
    "\n",
    "print(\"avg pearson: %s\" % (pool1_hepg2_no_cmv_avg_p))\n",
    "print(\"avg spearman: %s\" % (pool1_hepg2_no_cmv_avg_s))"
   ]
  },
  {
   "cell_type": "markdown",
   "metadata": {},
   "source": [
    "### pool1 - K562 no min. promoter"
   ]
  },
  {
   "cell_type": "code",
   "execution_count": 39,
   "metadata": {},
   "outputs": [
    {
     "name": "stdout",
     "output_type": "stream",
     "text": [
      "avg pearson: 0.869717404695\n",
      "avg spearman: 0.847346562304\n"
     ]
    }
   ],
   "source": [
    "pool1_k562_no_cmv_p = pool1_all_no_neg[[\"K562_noCMV_rna_1\", \"K562_noCMV_rna_2\", \"K562_noCMV_rna_3\", \"K562_noCMV_rna_4\"]].corr(method=\"pearson\")\n",
    "pool1_k562_no_cmv_s = pool1_all_no_neg[[\"K562_noCMV_rna_1\", \"K562_noCMV_rna_2\", \"K562_noCMV_rna_3\", \"K562_noCMV_rna_4\"]].corr(method=\"spearman\")\n",
    "\n",
    "tmp = np.tril(pool1_k562_no_cmv_p, k=-1)\n",
    "tmp[tmp == 0] = np.nan\n",
    "pool1_k562_no_cmv_avg_p = np.nanmean(tmp)\n",
    "\n",
    "tmp = np.tril(pool1_k562_no_cmv_s, k=-1)\n",
    "tmp[tmp == 0] = np.nan\n",
    "pool1_k562_no_cmv_avg_s = np.nanmean(tmp)\n",
    "\n",
    "print(\"avg pearson: %s\" % (pool1_k562_no_cmv_avg_p))\n",
    "print(\"avg spearman: %s\" % (pool1_k562_no_cmv_avg_s))"
   ]
  },
  {
   "cell_type": "markdown",
   "metadata": {},
   "source": [
    "## pool1 average"
   ]
  },
  {
   "cell_type": "code",
   "execution_count": 40,
   "metadata": {},
   "outputs": [
    {
     "name": "stdout",
     "output_type": "stream",
     "text": [
      "avg pool1 CMV pearson: 0.766860092528\n",
      "avg pool1 no CMV pearson: 0.665171912927\n",
      "avg all pool1 pearson: 0.716016002728\n",
      "\n",
      "avg pool1 CMV spearman: 0.751555342685\n",
      "avg pool1 no CMV spearman: 0.661276305602\n",
      "avg all pool1 spearman: 0.706415824143\n"
     ]
    }
   ],
   "source": [
    "pool1_cmv_avg_p = np.mean([pool1_hela_cmv_avg_p, pool1_hepg2_cmv_avg_p, pool1_k562_cmv_avg_p])\n",
    "pool1_no_cmv_avg_p = np.mean([pool1_hela_no_cmv_avg_p, pool1_hepg2_no_cmv_avg_p, pool1_k562_no_cmv_avg_p])\n",
    "pool1_avg_p = np.mean([pool1_cmv_avg_p, pool1_no_cmv_avg_p])\n",
    "\n",
    "pool1_cmv_avg_s = np.mean([pool1_hela_cmv_avg_s, pool1_hepg2_cmv_avg_s, pool1_k562_cmv_avg_s])\n",
    "pool1_no_cmv_avg_s = np.mean([pool1_hela_no_cmv_avg_s, pool1_hepg2_no_cmv_avg_s, pool1_k562_no_cmv_avg_s])\n",
    "pool1_avg_s = np.mean([pool1_cmv_avg_s, pool1_no_cmv_avg_s])\n",
    "\n",
    "print(\"avg pool1 CMV pearson: %s\" % (pool1_cmv_avg_p))\n",
    "print(\"avg pool1 no CMV pearson: %s\" % (pool1_no_cmv_avg_p))\n",
    "print(\"avg all pool1 pearson: %s\" % (pool1_avg_p))\n",
    "\n",
    "print(\"\")\n",
    "print(\"avg pool1 CMV spearman: %s\" % (pool1_cmv_avg_s))\n",
    "print(\"avg pool1 no CMV spearman: %s\" % (pool1_no_cmv_avg_s))\n",
    "print(\"avg all pool1 spearman: %s\" % (pool1_avg_s))"
   ]
  },
  {
   "cell_type": "markdown",
   "metadata": {},
   "source": [
    "### pool2 - HepG2 (min. promoter)"
   ]
  },
  {
   "cell_type": "code",
   "execution_count": 41,
   "metadata": {},
   "outputs": [
    {
     "name": "stdout",
     "output_type": "stream",
     "text": [
      "avg pearson: 0.830331482683\n",
      "avg spearman: 0.758614053476\n"
     ]
    }
   ],
   "source": [
    "pool2_hepg2_cmv_p = pool2_no_neg[[\"HepG2_rna_3\", \"HepG2_rna_4\", \"HepG2_rna_5\", \"HepG2_rna_6\", \"HepG2_rna_7\", \"HepG2_rna_8\", \"HepG2_rna_9\", \"HepG2_rna_10\"]].corr(method=\"pearson\")\n",
    "pool2_hepg2_cmv_s = pool2_no_neg[[\"HepG2_rna_3\", \"HepG2_rna_4\", \"HepG2_rna_5\", \"HepG2_rna_6\", \"HepG2_rna_7\", \"HepG2_rna_8\", \"HepG2_rna_9\", \"HepG2_rna_10\"]].corr(method=\"spearman\")\n",
    "\n",
    "tmp = np.tril(pool2_hepg2_cmv_p, k=-1)\n",
    "tmp[tmp == 0] = np.nan\n",
    "pool2_hepg2_cmv_avg_p = np.nanmean(tmp)\n",
    "\n",
    "tmp = np.tril(pool2_hepg2_cmv_s, k=-1)\n",
    "tmp[tmp == 0] = np.nan\n",
    "pool2_hepg2_cmv_avg_s = np.nanmean(tmp)\n",
    "\n",
    "print(\"avg pearson: %s\" % (pool2_hepg2_cmv_avg_p))\n",
    "print(\"avg spearman: %s\" % (pool2_hepg2_cmv_avg_s))"
   ]
  },
  {
   "cell_type": "markdown",
   "metadata": {},
   "source": [
    "### pool2 - K562 (min. promoter)"
   ]
  },
  {
   "cell_type": "code",
   "execution_count": 42,
   "metadata": {},
   "outputs": [
    {
     "name": "stdout",
     "output_type": "stream",
     "text": [
      "avg pearson: 0.559093850129\n",
      "avg spearman: 0.587247626827\n"
     ]
    }
   ],
   "source": [
    "pool2_k562_cmv_p = pool2_no_neg[[\"K562_rna_1\", \"K562_rna_2\", \"K562_rna_3\", \"K562_rna_4\"]].corr(method=\"pearson\")\n",
    "pool2_k562_cmv_s = pool2_no_neg[[\"K562_rna_1\", \"K562_rna_2\", \"K562_rna_3\", \"K562_rna_4\"]].corr(method=\"spearman\")\n",
    "\n",
    "tmp = np.tril(pool2_k562_cmv_p, k=-1)\n",
    "tmp[tmp == 0] = np.nan\n",
    "pool2_k562_cmv_avg_p = np.nanmean(tmp)\n",
    "\n",
    "tmp = np.tril(pool2_k562_cmv_s, k=-1)\n",
    "tmp[tmp == 0] = np.nan\n",
    "pool2_k562_cmv_avg_s = np.nanmean(tmp)\n",
    "\n",
    "print(\"avg pearson: %s\" % (pool2_k562_cmv_avg_p))\n",
    "print(\"avg spearman: %s\" % (pool2_k562_cmv_avg_s))"
   ]
  },
  {
   "cell_type": "markdown",
   "metadata": {},
   "source": [
    "## pool2 average"
   ]
  },
  {
   "cell_type": "code",
   "execution_count": 43,
   "metadata": {},
   "outputs": [
    {
     "name": "stdout",
     "output_type": "stream",
     "text": [
      "avg all pool2 pearson: 0.694712666406\n",
      "avg all pool2 spearman: 0.672930840151\n"
     ]
    }
   ],
   "source": [
    "pool2_avg_p = np.mean([pool2_hepg2_cmv_avg_p, pool2_k562_cmv_avg_p])\n",
    "pool2_avg_s = np.mean([pool2_hepg2_cmv_avg_s, pool2_k562_cmv_avg_s])\n",
    "\n",
    "print(\"avg all pool2 pearson: %s\" % (pool2_avg_p))\n",
    "print(\"avg all pool2 spearman: %s\" % (pool2_avg_s))"
   ]
  }
 ],
 "metadata": {
  "anaconda-cloud": {},
  "kernelspec": {
   "display_name": "Python 3",
   "language": "python",
   "name": "python3"
  },
  "language_info": {
   "codemirror_mode": {
    "name": "ipython",
    "version": 3
   },
   "file_extension": ".py",
   "mimetype": "text/x-python",
   "name": "python",
   "nbconvert_exporter": "python",
   "pygments_lexer": "ipython3",
   "version": "3.6.2"
  }
 },
 "nbformat": 4,
 "nbformat_minor": 1
}
