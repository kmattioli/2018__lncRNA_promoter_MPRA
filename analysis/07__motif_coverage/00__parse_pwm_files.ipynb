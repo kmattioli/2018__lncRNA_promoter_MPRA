{
 "cells": [
  {
   "cell_type": "markdown",
   "metadata": {},
   "source": [
    "# notebook to parse PWM files and write them to MEME format"
   ]
  },
  {
   "cell_type": "code",
   "execution_count": 1,
   "metadata": {
    "collapsed": true
   },
   "outputs": [],
   "source": [
    "from os import walk"
   ]
  },
  {
   "cell_type": "code",
   "execution_count": 2,
   "metadata": {
    "collapsed": true
   },
   "outputs": [],
   "source": [
    "file_dir = \"../../misc/02__bulyk_clusters/00__original_files/glossary-pwm\""
   ]
  },
  {
   "cell_type": "code",
   "execution_count": 3,
   "metadata": {
    "collapsed": true
   },
   "outputs": [],
   "source": [
    "out_dir = \"../../misc/02__bulyk_clusters/01__meme_file\"\n",
    "!mkdir -p $out_dir"
   ]
  },
  {
   "cell_type": "code",
   "execution_count": 4,
   "metadata": {
    "collapsed": true
   },
   "outputs": [],
   "source": [
    "files = []\n",
    "for (dirpath, dirnames, filenames) in walk(file_dir):\n",
    "    files.extend(filenames)\n",
    "    break"
   ]
  },
  {
   "cell_type": "code",
   "execution_count": 5,
   "metadata": {},
   "outputs": [
    {
     "name": "stdout",
     "output_type": "stream",
     "text": [
      "108\n"
     ]
    },
    {
     "data": {
      "text/plain": [
       "['AP2.pwm', 'AP4.pwm', 'ARID3.pwm', 'ARID5.pwm', 'AThook_PWWP.pwm']"
      ]
     },
     "execution_count": 5,
     "metadata": {},
     "output_type": "execute_result"
    }
   ],
   "source": [
    "print(len(files))\n",
    "files[0:5]"
   ]
  },
  {
   "cell_type": "code",
   "execution_count": 6,
   "metadata": {},
   "outputs": [
    {
     "data": {
      "text/plain": [
       "108"
      ]
     },
     "execution_count": 6,
     "metadata": {},
     "output_type": "execute_result"
    }
   ],
   "source": [
    "file_contents = {}\n",
    "for filename in files:\n",
    "    path = \"%s/%s\" % (file_dir, filename)\n",
    "    tf = filename.split(\".\")[0]\n",
    "    with open(path) as f:\n",
    "        content = f.readlines()\n",
    "    content = [x.strip() for x in content]\n",
    "    file_contents[tf] = content\n",
    "len(file_contents)"
   ]
  },
  {
   "cell_type": "code",
   "execution_count": 8,
   "metadata": {},
   "outputs": [],
   "source": [
    "out_file = \"glossary-pwm.txt\"\n",
    "with open(\"%s/%s\" % (out_dir, out_file), \"w\") as f:\n",
    "    f.write(\"MEME version 4\\n\\n\")\n",
    "    f.write(\"ALPHABET= ACGT\\n\\n\")\n",
    "    f.write(\"strands: + -\\n\\n\")\n",
    "    f.write(\"Background letter frequences (from uniform background):\\n\")\n",
    "    f.write(\"A 0.25000 C 0.25000 G 0.25000 T 0.25000\\n\\n\")\n",
    "    for tf in file_contents:\n",
    "        f.write(\"MOTIF %s\\n\\n\" % tf)\n",
    "        f.write(\"letter-probability matrix: alength= 4 w= %s nsites= 20 E= 0\\n\" % (len(file_contents[tf])-1))\n",
    "        for i, line in enumerate(file_contents[tf]):\n",
    "            if i == 0:\n",
    "                continue\n",
    "            else:\n",
    "                split_line = line.split(\"\\t\")\n",
    "                new_line = \" %s\\t%s\\t%s\\t%s\\n\" % (split_line[1], split_line[2], split_line[3], split_line[4])\n",
    "                f.write(new_line)\n",
    "        f.write(\"\\n\")\n",
    "f.close()"
   ]
  },
  {
   "cell_type": "code",
   "execution_count": null,
   "metadata": {
    "collapsed": true
   },
   "outputs": [],
   "source": []
  }
 ],
 "metadata": {
  "kernelspec": {
   "display_name": "Python 3",
   "language": "python",
   "name": "python3"
  },
  "language_info": {
   "codemirror_mode": {
    "name": "ipython",
    "version": 3
   },
   "file_extension": ".py",
   "mimetype": "text/x-python",
   "name": "python",
   "nbconvert_exporter": "python",
   "pygments_lexer": "ipython3",
   "version": "3.6.2"
  }
 },
 "nbformat": 4,
 "nbformat_minor": 2
}
