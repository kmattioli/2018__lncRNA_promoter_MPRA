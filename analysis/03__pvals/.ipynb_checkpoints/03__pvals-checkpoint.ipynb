{
 "cells": [
  {
   "cell_type": "markdown",
   "metadata": {},
   "source": [
    "# 02__pvals\n",
    "# calculating significantly active/repressive tiles (compared to neg ctrls)\n",
    "\n",
    "in this notebook, i calculate significantly active/repressive tiles by comparing them to random negative control sequences. this is done per replicate. the *barcode* activity values -- corresponding to a given reference element -- are compared to all negative control activity values using a two-sided wilcoxon test. i require a minimum of 10 barcodes to be present (Pool1 reference sequences have at least 15 barcodes, and Pool2 reference sequences have at least 80 barcodes) in order to calculate a p-value, otherwise i leave it NA. once the p-values are calculated per replicate, i then combine the p-values using stouffer's method. finally, i correct the p-values for multiple hypothesis testing using the Bonferroni family-wise error rate correction method. \n",
    "\n",
    "i define significantly active tiles as those that have a corrected p-value (q-value) of < 0.05, and that are at least a median foldchange of 0.5 above the negative control sequences in 75% of replicates. i define significantly repressive tiles as those that have a q-value of < 0.05, and that are at most a median fold change of -0.5 below the negative control sequences in 75% of replicates.\n",
    "\n",
    "since HepG2 has more replicates than the other cell lines, in order to ensure that HepG2 results could be compared to the other cell lines at about the same power, i also downsampled the HepG2 replicates to get a \"downsampled q-value\". in that case, i randomly sampled 4 replicates, combined the p-values, corrected the p-values, and repeated the sampling process 100 times. i then considered the tile significant if it had a significant q-value in 75% of samples, with the same rules as above.\n",
    "\n",
    "------\n",
    "\n",
    "figures in this notebook:\n",
    "- **Fig SX**: none"
   ]
  },
  {
   "cell_type": "code",
   "execution_count": 1,
   "metadata": {},
   "outputs": [],
   "source": [
    "import warnings\n",
    "warnings.filterwarnings('ignore')\n",
    "\n",
    "import pandas as pd\n",
    "import numpy as np\n",
    "import matplotlib as mpl\n",
    "import matplotlib.pyplot as plt\n",
    "import seaborn as sns\n",
    "import sys\n",
    "import time\n",
    "\n",
    "from decimal import Decimal\n",
    "from itertools import chain\n",
    "from mpl_toolkits.axes_grid1 import make_axes_locatable\n",
    "from scipy import stats\n",
    "from statsmodels.sandbox.stats import multicomp\n",
    "\n",
    "# import utils\n",
    "sys.path.append(\"../../utils\")\n",
    "from plotting_utils import *\n",
    "from misc_utils import *\n",
    "from norm_utils import *\n",
    "\n",
    "%matplotlib inline"
   ]
  },
  {
   "cell_type": "code",
   "execution_count": 2,
   "metadata": {
    "collapsed": true
   },
   "outputs": [],
   "source": [
    "sns.set(**PAPER_PRESET)\n",
    "fontsize = PAPER_FONTSIZE"
   ]
  },
  {
   "cell_type": "code",
   "execution_count": 3,
   "metadata": {
    "collapsed": true
   },
   "outputs": [],
   "source": [
    "np.random.seed(12345)"
   ]
  },
  {
   "cell_type": "markdown",
   "metadata": {},
   "source": [
    "## functions"
   ]
  },
  {
   "cell_type": "code",
   "execution_count": 4,
   "metadata": {
    "collapsed": true
   },
   "outputs": [],
   "source": [
    "def is_sig(row, col, thresh):\n",
    "    if pd.isnull(row[col]):\n",
    "        return \"NA\"\n",
    "    else:\n",
    "        if row[col] < thresh:\n",
    "            return \"sig\"\n",
    "        else:\n",
    "            return \"not sig\"\n",
    "        \n",
    "def is_sig_bin(row, col, thresh):\n",
    "    if pd.isnull(row[col]):\n",
    "        return np.nan\n",
    "    else:\n",
    "        if row[col] < thresh:\n",
    "            return 1\n",
    "        else:\n",
    "            return 0"
   ]
  },
  {
   "cell_type": "markdown",
   "metadata": {},
   "source": [
    "## variables"
   ]
  },
  {
   "cell_type": "code",
   "execution_count": 5,
   "metadata": {
    "collapsed": true
   },
   "outputs": [],
   "source": [
    "activs_dir = \"../../data/02__activs\"\n",
    "out_dir = \"../../data/03__pvals\"\n",
    "!mkdir -p $out_dir"
   ]
  },
  {
   "cell_type": "code",
   "execution_count": 6,
   "metadata": {
    "collapsed": true
   },
   "outputs": [],
   "source": [
    "pool1_index_f = \"../../data/00__index/tss_oligo_pool.index.txt\"\n",
    "pool2_index_f = \"../../data/00__index/dels_oligo_pool.index.txt\""
   ]
  },
  {
   "cell_type": "code",
   "execution_count": 7,
   "metadata": {
    "collapsed": true
   },
   "outputs": [],
   "source": [
    "pool1_pMPRA1_HeLa_activ_elem_f = \"%s/POOL1__pMPRA1__HeLa__activities_per_element.txt\" % activs_dir\n",
    "pool1_pMPRA1_HeLa_activ_barc_f = \"%s/POOL1__pMPRA1__HeLa__activities_per_barcode.txt\" % activs_dir\n",
    "pool1_pMPRA1_HeLa_pval_f = \"%s/POOL1__pMPRA1__HeLa__pvals.txt\" % out_dir\n",
    "\n",
    "pool1_pMPRA1_HepG2_activ_elem_f = \"%s/POOL1__pMPRA1__HepG2__activities_per_element.txt\" % activs_dir\n",
    "pool1_pMPRA1_HepG2_activ_barc_f = \"%s/POOL1__pMPRA1__HepG2__activities_per_barcode.txt\" % activs_dir\n",
    "pool1_pMPRA1_HepG2_pval_f = \"%s/POOL1__pMPRA1__HepG2__pvals.txt\" % out_dir\n",
    "\n",
    "pool1_pMPRA1_K562_activ_elem_f = \"%s/POOL1__pMPRA1__K562__activities_per_element.txt\" % activs_dir\n",
    "pool1_pMPRA1_K562_activ_barc_f = \"%s/POOL1__pMPRA1__K562__activities_per_barcode.txt\" % activs_dir\n",
    "pool1_pMPRA1_K562_pval_f = \"%s/POOL1__pMPRA1__K562__pvals.txt\" % out_dir\n",
    "\n",
    "pool1_pNoCMVMPRA1_HeLa_activ_elem_f = \"%s/POOL1__pNoCMVMPRA1__HeLa__activities_per_element.txt\" % activs_dir\n",
    "pool1_pNoCMVMPRA1_HeLa_activ_barc_f = \"%s/POOL1__pNoCMVMPRA1__HeLa__activities_per_barcode.txt\" % activs_dir\n",
    "pool1_pNoCMVMPRA1_HeLa_pval_f = \"%s/POOL1__pNoCMVMPRA1__HeLa__pvals.txt\" % out_dir\n",
    "\n",
    "pool1_pNoCMVMPRA1_HepG2_activ_elem_f = \"%s/POOL1__pNoCMVMPRA1__HepG2__activities_per_element.txt\" % activs_dir\n",
    "pool1_pNoCMVMPRA1_HepG2_activ_barc_f = \"%s/POOL1__pNoCMVMPRA1__HepG2__activities_per_barcode.txt\" % activs_dir\n",
    "pool1_pNoCMVMPRA1_HepG2_pval_f = \"%s/POOL1__pNoCMVMPRA1__HepG2__pvals.txt\" % out_dir\n",
    "\n",
    "pool1_pNoCMVMPRA1_K562_activ_elem_f = \"%s/POOL1__pNoCMVMPRA1__K562__activities_per_element.txt\" % activs_dir\n",
    "pool1_pNoCMVMPRA1_K562_activ_barc_f = \"%s/POOL1__pNoCMVMPRA1__K562__activities_per_barcode.txt\" % activs_dir\n",
    "pool1_pNoCMVMPRA1_K562_pval_f = \"%s/POOL1__pNoCMVMPRA1__K562__pvals.txt\" % out_dir\n",
    "\n",
    "pool2_pMPRA1_HepG2_activ_elem_f = \"%s/POOL2__pMPRA1__HepG2__activities_per_element.txt\" % activs_dir\n",
    "pool2_pMPRA1_HepG2_activ_barc_f = \"%s/POOL2__pMPRA1__HepG2__activities_per_barcode.txt\" % activs_dir\n",
    "pool2_pMPRA1_HepG2_pval_f = \"%s/POOL2__pMPRA1__HepG2__pvals.txt\" % out_dir\n",
    "\n",
    "pool2_pMPRA1_K562_activ_elem_f = \"%s/POOL2__pMPRA1__K562__activities_per_element.txt\" % activs_dir\n",
    "pool2_pMPRA1_K562_activ_barc_f = \"%s/POOL2__pMPRA1__K562__activities_per_barcode.txt\" % activs_dir\n",
    "pool2_pMPRA1_K562_pval_f = \"%s/POOL2__pMPRA1__K562__pvals.txt\" % out_dir"
   ]
  },
  {
   "cell_type": "code",
   "execution_count": 8,
   "metadata": {
    "collapsed": true
   },
   "outputs": [],
   "source": [
    "# number of times to downsample hepg2 replicates\n",
    "n_samples = 100"
   ]
  },
  {
   "cell_type": "markdown",
   "metadata": {},
   "source": [
    "## 1. import data"
   ]
  },
  {
   "cell_type": "code",
   "execution_count": 9,
   "metadata": {},
   "outputs": [],
   "source": [
    "pool1_index = pd.read_table(pool1_index_f, sep=\"\\t\")\n",
    "pool2_index = pd.read_table(pool2_index_f, sep=\"\\t\")"
   ]
  },
  {
   "cell_type": "code",
   "execution_count": 10,
   "metadata": {
    "collapsed": true
   },
   "outputs": [],
   "source": [
    "pool1_index_elem = pool1_index[[\"element\", \"oligo_type\", \"unique_id\", \"dupe_info\", \"SNP\"]]\n",
    "pool2_index_elem = pool2_index[[\"element\", \"oligo_type\", \"unique_id\", \"dupe_info\", \"SNP\"]]\n",
    "\n",
    "pool1_index_elem = pool1_index_elem.drop_duplicates()\n",
    "pool2_index_elem = pool2_index_elem.drop_duplicates()"
   ]
  },
  {
   "cell_type": "code",
   "execution_count": 11,
   "metadata": {},
   "outputs": [
    {
     "data": {
      "text/html": [
       "<div>\n",
       "<style>\n",
       "    .dataframe thead tr:only-child th {\n",
       "        text-align: right;\n",
       "    }\n",
       "\n",
       "    .dataframe thead th {\n",
       "        text-align: left;\n",
       "    }\n",
       "\n",
       "    .dataframe tbody tr th {\n",
       "        vertical-align: top;\n",
       "    }\n",
       "</style>\n",
       "<table border=\"1\" class=\"dataframe\">\n",
       "  <thead>\n",
       "    <tr style=\"text-align: right;\">\n",
       "      <th></th>\n",
       "      <th>barcode</th>\n",
       "      <th>rna_1</th>\n",
       "      <th>rna_2</th>\n",
       "      <th>rna_3</th>\n",
       "      <th>rna_4</th>\n",
       "    </tr>\n",
       "  </thead>\n",
       "  <tbody>\n",
       "    <tr>\n",
       "      <th>0</th>\n",
       "      <td>AAAACAAAGTC</td>\n",
       "      <td>-0.828025</td>\n",
       "      <td>0.397958</td>\n",
       "      <td>0.210514</td>\n",
       "      <td>-0.794074</td>\n",
       "    </tr>\n",
       "    <tr>\n",
       "      <th>1</th>\n",
       "      <td>AAAACAAAGTT</td>\n",
       "      <td>NaN</td>\n",
       "      <td>NaN</td>\n",
       "      <td>NaN</td>\n",
       "      <td>NaN</td>\n",
       "    </tr>\n",
       "    <tr>\n",
       "      <th>2</th>\n",
       "      <td>AAAACAAATGT</td>\n",
       "      <td>-1.328443</td>\n",
       "      <td>-1.723270</td>\n",
       "      <td>-0.872230</td>\n",
       "      <td>-0.283974</td>\n",
       "    </tr>\n",
       "    <tr>\n",
       "      <th>3</th>\n",
       "      <td>AAAACAACGTC</td>\n",
       "      <td>1.427103</td>\n",
       "      <td>-1.158339</td>\n",
       "      <td>1.879393</td>\n",
       "      <td>2.310252</td>\n",
       "    </tr>\n",
       "    <tr>\n",
       "      <th>4</th>\n",
       "      <td>AAAACAACGTG</td>\n",
       "      <td>NaN</td>\n",
       "      <td>NaN</td>\n",
       "      <td>3.477138</td>\n",
       "      <td>NaN</td>\n",
       "    </tr>\n",
       "  </tbody>\n",
       "</table>\n",
       "</div>"
      ],
      "text/plain": [
       "       barcode     rna_1     rna_2     rna_3     rna_4\n",
       "0  AAAACAAAGTC -0.828025  0.397958  0.210514 -0.794074\n",
       "1  AAAACAAAGTT       NaN       NaN       NaN       NaN\n",
       "2  AAAACAAATGT -1.328443 -1.723270 -0.872230 -0.283974\n",
       "3  AAAACAACGTC  1.427103 -1.158339  1.879393  2.310252\n",
       "4  AAAACAACGTG       NaN       NaN  3.477138       NaN"
      ]
     },
     "execution_count": 11,
     "metadata": {},
     "output_type": "execute_result"
    }
   ],
   "source": [
    "pool1_pMPRA1_HeLa_activ_barc = pd.read_table(pool1_pMPRA1_HeLa_activ_barc_f)\n",
    "pool1_pMPRA1_HepG2_activ_barc = pd.read_table(pool1_pMPRA1_HepG2_activ_barc_f)\n",
    "pool1_pMPRA1_K562_activ_barc = pd.read_table(pool1_pMPRA1_K562_activ_barc_f)\n",
    "pool1_pMPRA1_K562_activ_barc.head()"
   ]
  },
  {
   "cell_type": "code",
   "execution_count": 12,
   "metadata": {
    "collapsed": true
   },
   "outputs": [],
   "source": [
    "pool1_pNoCMVMPRA1_HeLa_activ_barc = pd.read_table(pool1_pNoCMVMPRA1_HeLa_activ_barc_f)\n",
    "pool1_pNoCMVMPRA1_HepG2_activ_barc = pd.read_table(pool1_pNoCMVMPRA1_HepG2_activ_barc_f)\n",
    "pool1_pNoCMVMPRA1_K562_activ_barc = pd.read_table(pool1_pNoCMVMPRA1_K562_activ_barc_f)"
   ]
  },
  {
   "cell_type": "code",
   "execution_count": 13,
   "metadata": {
    "collapsed": true
   },
   "outputs": [],
   "source": [
    "pool2_pMPRA1_HepG2_activ_barc = pd.read_table(pool2_pMPRA1_HepG2_activ_barc_f)\n",
    "pool2_pMPRA1_K562_activ_barc = pd.read_table(pool2_pMPRA1_K562_activ_barc_f)"
   ]
  },
  {
   "cell_type": "code",
   "execution_count": 14,
   "metadata": {},
   "outputs": [
    {
     "data": {
      "text/html": [
       "<div>\n",
       "<style>\n",
       "    .dataframe thead tr:only-child th {\n",
       "        text-align: right;\n",
       "    }\n",
       "\n",
       "    .dataframe thead th {\n",
       "        text-align: left;\n",
       "    }\n",
       "\n",
       "    .dataframe tbody tr th {\n",
       "        vertical-align: top;\n",
       "    }\n",
       "</style>\n",
       "<table border=\"1\" class=\"dataframe\">\n",
       "  <thead>\n",
       "    <tr style=\"text-align: right;\">\n",
       "      <th></th>\n",
       "      <th>unique_id</th>\n",
       "      <th>element</th>\n",
       "      <th>rna_1</th>\n",
       "      <th>rna_2</th>\n",
       "      <th>rna_3</th>\n",
       "      <th>rna_4</th>\n",
       "    </tr>\n",
       "  </thead>\n",
       "  <tbody>\n",
       "    <tr>\n",
       "      <th>0</th>\n",
       "      <td>CONTROL_BUT_HAS_SNP__control.flip.sense__chr11...</td>\n",
       "      <td>TGGCCAATCTACTCCCAGGAGCAGGGAGGGCAGGAGCCAGGGCTGG...</td>\n",
       "      <td>-1.406431</td>\n",
       "      <td>-2.020802</td>\n",
       "      <td>-1.944087</td>\n",
       "      <td>-1.883925</td>\n",
       "    </tr>\n",
       "    <tr>\n",
       "      <th>1</th>\n",
       "      <td>CONTROL_BUT_HAS_SNP__control.flip.sense__chr16...</td>\n",
       "      <td>CACCCCCATCCCAGGCTGAGTCACTCTAAGAAAAGGACAGTGTGGG...</td>\n",
       "      <td>-0.428314</td>\n",
       "      <td>-0.952140</td>\n",
       "      <td>-0.727745</td>\n",
       "      <td>-1.245375</td>\n",
       "    </tr>\n",
       "    <tr>\n",
       "      <th>2</th>\n",
       "      <td>CONTROL_BUT_HAS_SNP__control.flip.sense__chr17...</td>\n",
       "      <td>GCCTCGCCCTATGAGAAGGGGGCGGAGGCTGTGCCTGCCTTTGTGG...</td>\n",
       "      <td>-0.179684</td>\n",
       "      <td>-1.075028</td>\n",
       "      <td>-1.018248</td>\n",
       "      <td>-0.201738</td>\n",
       "    </tr>\n",
       "    <tr>\n",
       "      <th>3</th>\n",
       "      <td>CONTROL_BUT_HAS_SNP__control.flip.sense__chr17...</td>\n",
       "      <td>CTGACCTATGTGCTTCTTCACTGGCCTTCTTGAGGGAGGGTGGGCG...</td>\n",
       "      <td>-1.064603</td>\n",
       "      <td>-1.265507</td>\n",
       "      <td>-2.253772</td>\n",
       "      <td>-1.490013</td>\n",
       "    </tr>\n",
       "    <tr>\n",
       "      <th>4</th>\n",
       "      <td>CONTROL_BUT_HAS_SNP__control.flip.sense__chr1:...</td>\n",
       "      <td>AGTATCCGCTCTCCCCTGTCCCCTGCTATGGGCAGGGCCTGGCTGG...</td>\n",
       "      <td>-1.832317</td>\n",
       "      <td>-2.114391</td>\n",
       "      <td>-1.970246</td>\n",
       "      <td>-2.203425</td>\n",
       "    </tr>\n",
       "  </tbody>\n",
       "</table>\n",
       "</div>"
      ],
      "text/plain": [
       "                                           unique_id  \\\n",
       "0  CONTROL_BUT_HAS_SNP__control.flip.sense__chr11...   \n",
       "1  CONTROL_BUT_HAS_SNP__control.flip.sense__chr16...   \n",
       "2  CONTROL_BUT_HAS_SNP__control.flip.sense__chr17...   \n",
       "3  CONTROL_BUT_HAS_SNP__control.flip.sense__chr17...   \n",
       "4  CONTROL_BUT_HAS_SNP__control.flip.sense__chr1:...   \n",
       "\n",
       "                                             element     rna_1     rna_2  \\\n",
       "0  TGGCCAATCTACTCCCAGGAGCAGGGAGGGCAGGAGCCAGGGCTGG... -1.406431 -2.020802   \n",
       "1  CACCCCCATCCCAGGCTGAGTCACTCTAAGAAAAGGACAGTGTGGG... -0.428314 -0.952140   \n",
       "2  GCCTCGCCCTATGAGAAGGGGGCGGAGGCTGTGCCTGCCTTTGTGG... -0.179684 -1.075028   \n",
       "3  CTGACCTATGTGCTTCTTCACTGGCCTTCTTGAGGGAGGGTGGGCG... -1.064603 -1.265507   \n",
       "4  AGTATCCGCTCTCCCCTGTCCCCTGCTATGGGCAGGGCCTGGCTGG... -1.832317 -2.114391   \n",
       "\n",
       "      rna_3     rna_4  \n",
       "0 -1.944087 -1.883925  \n",
       "1 -0.727745 -1.245375  \n",
       "2 -1.018248 -0.201738  \n",
       "3 -2.253772 -1.490013  \n",
       "4 -1.970246 -2.203425  "
      ]
     },
     "execution_count": 14,
     "metadata": {},
     "output_type": "execute_result"
    }
   ],
   "source": [
    "pool1_pMPRA1_HeLa_activ_elem = pd.read_table(pool1_pMPRA1_HeLa_activ_elem_f)\n",
    "pool1_pMPRA1_HepG2_activ_elem = pd.read_table(pool1_pMPRA1_HepG2_activ_elem_f)\n",
    "pool1_pMPRA1_K562_activ_elem = pd.read_table(pool1_pMPRA1_K562_activ_elem_f)\n",
    "\n",
    "pool1_pNoCMVMPRA1_HeLa_activ_elem = pd.read_table(pool1_pNoCMVMPRA1_HeLa_activ_elem_f)\n",
    "pool1_pNoCMVMPRA1_HepG2_activ_elem = pd.read_table(pool1_pNoCMVMPRA1_HepG2_activ_elem_f)\n",
    "pool1_pNoCMVMPRA1_K562_activ_elem = pd.read_table(pool1_pNoCMVMPRA1_K562_activ_elem_f)\n",
    "\n",
    "pool2_pMPRA1_HepG2_activ_elem = pd.read_table(pool2_pMPRA1_HepG2_activ_elem_f)\n",
    "pool2_pMPRA1_K562_activ_elem = pd.read_table(pool2_pMPRA1_K562_activ_elem_f)\n",
    "\n",
    "pool1_pMPRA1_HeLa_activ_elem.head()"
   ]
  },
  {
   "cell_type": "markdown",
   "metadata": {},
   "source": [
    "## 2. merge with index"
   ]
  },
  {
   "cell_type": "code",
   "execution_count": 15,
   "metadata": {
    "collapsed": true
   },
   "outputs": [],
   "source": [
    "pool1_pMPRA1_HeLa_activ_barc = pool1_pMPRA1_HeLa_activ_barc.merge(pool1_index, left_on=\"barcode\", right_on=\"barcode\", how=\"left\")\n",
    "pool1_pMPRA1_HepG2_activ_barc = pool1_pMPRA1_HepG2_activ_barc.merge(pool1_index, left_on=\"barcode\", right_on=\"barcode\", how=\"left\")\n",
    "pool1_pMPRA1_K562_activ_barc = pool1_pMPRA1_K562_activ_barc.merge(pool1_index, left_on=\"barcode\", right_on=\"barcode\", how=\"left\")\n",
    "\n",
    "pool1_pNoCMVMPRA1_HeLa_activ_barc = pool1_pNoCMVMPRA1_HeLa_activ_barc.merge(pool1_index, left_on=\"barcode\", right_on=\"barcode\", how=\"left\")\n",
    "pool1_pNoCMVMPRA1_HepG2_activ_barc = pool1_pNoCMVMPRA1_HepG2_activ_barc.merge(pool1_index, left_on=\"barcode\", right_on=\"barcode\", how=\"left\")\n",
    "pool1_pNoCMVMPRA1_K562_activ_barc = pool1_pNoCMVMPRA1_K562_activ_barc.merge(pool1_index, left_on=\"barcode\", right_on=\"barcode\", how=\"left\")\n",
    "\n",
    "pool2_pMPRA1_HepG2_activ_barc = pool2_pMPRA1_HepG2_activ_barc.merge(pool2_index, left_on=\"barcode\", right_on=\"barcode\", how=\"left\")\n",
    "pool2_pMPRA1_K562_activ_barc = pool2_pMPRA1_K562_activ_barc.merge(pool2_index, left_on=\"barcode\", right_on=\"barcode\", how=\"left\")"
   ]
  },
  {
   "cell_type": "markdown",
   "metadata": {},
   "source": [
    "## 3. calculate p-values"
   ]
  },
  {
   "cell_type": "markdown",
   "metadata": {},
   "source": [
    "### using RANDOM sequences as negative controls"
   ]
  },
  {
   "cell_type": "markdown",
   "metadata": {},
   "source": [
    "### p values calculated per replicate"
   ]
  },
  {
   "cell_type": "code",
   "execution_count": 16,
   "metadata": {},
   "outputs": [
    {
     "name": "stdout",
     "output_type": "stream",
     "text": [
      "checking 4563 unique elements\n",
      "...elem 0... Fri May 11 16:07:39 2018\n",
      "...elem 250... Fri May 11 16:07:55 2018\n",
      "...elem 500... Fri May 11 16:08:12 2018\n",
      "...elem 750... Fri May 11 16:08:29 2018\n",
      "...elem 1000... Fri May 11 16:08:46 2018\n",
      "...elem 1250... Fri May 11 16:09:02 2018\n",
      "...elem 1500... Fri May 11 16:09:19 2018\n",
      "...elem 1750... Fri May 11 16:09:36 2018\n",
      "...elem 2000... Fri May 11 16:09:53 2018\n",
      "...elem 2250... Fri May 11 16:10:09 2018\n",
      "...elem 2500... Fri May 11 16:10:26 2018\n",
      "...elem 2750... Fri May 11 16:10:43 2018\n",
      "...elem 3000... Fri May 11 16:10:59 2018\n",
      "...elem 3250... Fri May 11 16:11:16 2018\n",
      "...elem 3500... Fri May 11 16:11:33 2018\n",
      "...elem 3750... Fri May 11 16:11:50 2018\n",
      "...elem 4000... Fri May 11 16:12:06 2018\n",
      "...elem 4250... Fri May 11 16:12:23 2018\n",
      "...elem 4500... Fri May 11 16:12:40 2018\n"
     ]
    }
   ],
   "source": [
    "pool1_pMPRA1_HeLa_activ_barc[\"better_type\"] = pool1_pMPRA1_HeLa_activ_barc.apply(better_type, axis=1)\n",
    "pool1_pMPRA1_HeLa_reps = [x for x in pool1_pMPRA1_HeLa_activ_barc.columns if \"rna\" in x]\n",
    "pool1_pMPRA1_HeLa_us, pool1_pMPRA1_HeLa_pvals, pool1_pMPRA1_HeLa_fcs = element_p_val_per_rep_neg_controls(pool1_pMPRA1_HeLa_activ_barc, pool1_pMPRA1_HeLa_reps, 10, [\"RANDOM\"], [\"WILDTYPE\", \"FLIPPED\", \"CONTROL\", \"SNP\", \"CONTROL_SNP\"])"
   ]
  },
  {
   "cell_type": "code",
   "execution_count": 17,
   "metadata": {},
   "outputs": [
    {
     "name": "stdout",
     "output_type": "stream",
     "text": [
      "checking 4563 unique elements\n",
      "...elem 0... Fri May 11 16:12:47 2018\n",
      "...elem 250... Fri May 11 16:13:39 2018\n",
      "...elem 500... Fri May 11 16:14:30 2018\n",
      "...elem 750... Fri May 11 16:15:21 2018\n",
      "...elem 1000... Fri May 11 16:16:13 2018\n",
      "...elem 1250... Fri May 11 16:17:04 2018\n",
      "...elem 1500... Fri May 11 16:17:56 2018\n",
      "...elem 1750... Fri May 11 16:18:47 2018\n",
      "...elem 2000... Fri May 11 16:19:38 2018\n",
      "...elem 2250... Fri May 11 16:20:30 2018\n",
      "...elem 2500... Fri May 11 16:21:21 2018\n",
      "...elem 2750... Fri May 11 16:22:12 2018\n",
      "...elem 3000... Fri May 11 16:23:04 2018\n",
      "...elem 3250... Fri May 11 16:23:55 2018\n",
      "...elem 3500... Fri May 11 16:24:46 2018\n",
      "...elem 3750... Fri May 11 16:25:38 2018\n",
      "...elem 4000... Fri May 11 16:26:30 2018\n",
      "...elem 4250... Fri May 11 16:27:21 2018\n",
      "...elem 4500... Fri May 11 16:28:13 2018\n"
     ]
    }
   ],
   "source": [
    "pool1_pMPRA1_HepG2_activ_barc[\"better_type\"] = pool1_pMPRA1_HepG2_activ_barc.apply(better_type, axis=1)\n",
    "pool1_pMPRA1_HepG2_reps = [x for x in pool1_pMPRA1_HepG2_activ_barc.columns if \"rna\" in x]\n",
    "pool1_pMPRA1_HepG2_us, pool1_pMPRA1_HepG2_pvals, pool1_pMPRA1_HepG2_fcs = element_p_val_per_rep_neg_controls(pool1_pMPRA1_HepG2_activ_barc, pool1_pMPRA1_HepG2_reps, 10, [\"RANDOM\"], [\"WILDTYPE\", \"FLIPPED\", \"CONTROL\", \"SNP\", \"CONTROL_SNP\"])"
   ]
  },
  {
   "cell_type": "code",
   "execution_count": 18,
   "metadata": {},
   "outputs": [
    {
     "name": "stdout",
     "output_type": "stream",
     "text": [
      "checking 4563 unique elements\n",
      "...elem 0... Fri May 11 16:28:28 2018\n",
      "...elem 250... Fri May 11 16:28:45 2018\n",
      "...elem 500... Fri May 11 16:29:02 2018\n",
      "...elem 750... Fri May 11 16:29:19 2018\n",
      "...elem 1000... Fri May 11 16:29:36 2018\n",
      "...elem 1250... Fri May 11 16:29:53 2018\n",
      "...elem 1500... Fri May 11 16:30:10 2018\n",
      "...elem 1750... Fri May 11 16:30:27 2018\n",
      "...elem 2000... Fri May 11 16:30:44 2018\n",
      "...elem 2250... Fri May 11 16:31:00 2018\n",
      "...elem 2500... Fri May 11 16:31:17 2018\n",
      "...elem 2750... Fri May 11 16:31:34 2018\n",
      "...elem 3000... Fri May 11 16:31:51 2018\n",
      "...elem 3250... Fri May 11 16:32:09 2018\n",
      "...elem 3500... Fri May 11 16:32:26 2018\n",
      "...elem 3750... Fri May 11 16:32:43 2018\n",
      "...elem 4000... Fri May 11 16:32:59 2018\n",
      "...elem 4250... Fri May 11 16:33:16 2018\n",
      "...elem 4500... Fri May 11 16:33:33 2018\n"
     ]
    }
   ],
   "source": [
    "pool1_pMPRA1_K562_activ_barc[\"better_type\"] = pool1_pMPRA1_K562_activ_barc.apply(better_type, axis=1)\n",
    "pool1_pMPRA1_K562_reps = [x for x in pool1_pMPRA1_K562_activ_barc.columns if \"rna\" in x]\n",
    "pool1_pMPRA1_K562_us, pool1_pMPRA1_K562_pvals, pool1_pMPRA1_K562_fcs = element_p_val_per_rep_neg_controls(pool1_pMPRA1_K562_activ_barc, pool1_pMPRA1_K562_reps, 10, [\"RANDOM\"], [\"WILDTYPE\", \"FLIPPED\", \"CONTROL\", \"SNP\", \"CONTROL_SNP\"])"
   ]
  },
  {
   "cell_type": "code",
   "execution_count": 19,
   "metadata": {},
   "outputs": [
    {
     "name": "stdout",
     "output_type": "stream",
     "text": [
      "checking 4563 unique elements\n",
      "...elem 0... Fri May 11 16:33:40 2018\n",
      "...elem 250... Fri May 11 16:33:57 2018\n",
      "...elem 500... Fri May 11 16:34:13 2018\n",
      "...elem 750... Fri May 11 16:34:30 2018\n",
      "...elem 1000... Fri May 11 16:34:47 2018\n",
      "...elem 1250... Fri May 11 16:35:03 2018\n",
      "...elem 1500... Fri May 11 16:35:20 2018\n",
      "...elem 1750... Fri May 11 16:35:37 2018\n",
      "...elem 2000... Fri May 11 16:35:53 2018\n",
      "...elem 2250... Fri May 11 16:36:10 2018\n",
      "...elem 2500... Fri May 11 16:36:26 2018\n",
      "...elem 2750... Fri May 11 16:36:43 2018\n",
      "...elem 3000... Fri May 11 16:37:00 2018\n",
      "...elem 3250... Fri May 11 16:37:16 2018\n",
      "...elem 3500... Fri May 11 16:37:33 2018\n",
      "...elem 3750... Fri May 11 16:37:50 2018\n",
      "...elem 4000... Fri May 11 16:38:06 2018\n",
      "...elem 4250... Fri May 11 16:38:23 2018\n",
      "...elem 4500... Fri May 11 16:38:40 2018\n"
     ]
    }
   ],
   "source": [
    "pool1_pNoCMVMPRA1_HeLa_activ_barc[\"better_type\"] = pool1_pNoCMVMPRA1_HeLa_activ_barc.apply(better_type, axis=1)\n",
    "pool1_pNoCMVMPRA1_HeLa_reps = [x for x in pool1_pNoCMVMPRA1_HeLa_activ_barc.columns if \"rna\" in x]\n",
    "pool1_pNoCMVMPRA1_HeLa_us, pool1_pNoCMVMPRA1_HeLa_pvals, pool1_pNoCMVMPRA1_HeLa_fcs = element_p_val_per_rep_neg_controls(pool1_pNoCMVMPRA1_HeLa_activ_barc, pool1_pNoCMVMPRA1_HeLa_reps, 10, [\"RANDOM\"], [\"WILDTYPE\", \"FLIPPED\", \"CONTROL\", \"SNP\", \"CONTROL_SNP\"])"
   ]
  },
  {
   "cell_type": "code",
   "execution_count": 20,
   "metadata": {},
   "outputs": [
    {
     "name": "stdout",
     "output_type": "stream",
     "text": [
      "checking 4563 unique elements\n",
      "...elem 0... Fri May 11 16:38:46 2018\n",
      "...elem 250... Fri May 11 16:39:04 2018\n",
      "...elem 500... Fri May 11 16:39:21 2018\n",
      "...elem 750... Fri May 11 16:39:38 2018\n",
      "...elem 1000... Fri May 11 16:39:55 2018\n",
      "...elem 1250... Fri May 11 16:40:12 2018\n",
      "...elem 1500... Fri May 11 16:40:29 2018\n",
      "...elem 1750... Fri May 11 16:40:46 2018\n",
      "...elem 2000... Fri May 11 16:41:03 2018\n",
      "...elem 2250... Fri May 11 16:41:20 2018\n",
      "...elem 2500... Fri May 11 16:41:37 2018\n",
      "...elem 2750... Fri May 11 16:41:54 2018\n",
      "...elem 3000... Fri May 11 16:42:11 2018\n",
      "...elem 3250... Fri May 11 16:42:28 2018\n",
      "...elem 3500... Fri May 11 16:42:45 2018\n",
      "...elem 3750... Fri May 11 16:43:02 2018\n",
      "...elem 4000... Fri May 11 16:43:19 2018\n",
      "...elem 4250... Fri May 11 16:43:37 2018\n",
      "...elem 4500... Fri May 11 16:43:54 2018\n"
     ]
    }
   ],
   "source": [
    "pool1_pNoCMVMPRA1_HepG2_activ_barc[\"better_type\"] = pool1_pNoCMVMPRA1_HepG2_activ_barc.apply(better_type, axis=1)\n",
    "pool1_pNoCMVMPRA1_HepG2_reps = [x for x in pool1_pNoCMVMPRA1_HepG2_activ_barc.columns if \"rna\" in x]\n",
    "pool1_pNoCMVMPRA1_HepG2_us, pool1_pNoCMVMPRA1_HepG2_pvals, pool1_pNoCMVMPRA1_HepG2_fcs = element_p_val_per_rep_neg_controls(pool1_pNoCMVMPRA1_HepG2_activ_barc, pool1_pNoCMVMPRA1_HepG2_reps, 10, [\"RANDOM\"], [\"WILDTYPE\", \"FLIPPED\", \"CONTROL\", \"SNP\", \"CONTROL_SNP\"])"
   ]
  },
  {
   "cell_type": "code",
   "execution_count": 21,
   "metadata": {},
   "outputs": [
    {
     "name": "stdout",
     "output_type": "stream",
     "text": [
      "checking 4563 unique elements\n",
      "...elem 0... Fri May 11 16:44:01 2018\n",
      "...elem 250... Fri May 11 16:44:18 2018\n",
      "...elem 500... Fri May 11 16:44:35 2018\n",
      "...elem 750... Fri May 11 16:44:52 2018\n",
      "...elem 1000... Fri May 11 16:45:09 2018\n",
      "...elem 1250... Fri May 11 16:45:26 2018\n",
      "...elem 1500... Fri May 11 16:45:43 2018\n",
      "...elem 1750... Fri May 11 16:46:00 2018\n",
      "...elem 2000... Fri May 11 16:46:17 2018\n",
      "...elem 2250... Fri May 11 16:46:34 2018\n",
      "...elem 2500... Fri May 11 16:46:51 2018\n",
      "...elem 2750... Fri May 11 16:47:08 2018\n",
      "...elem 3000... Fri May 11 16:47:25 2018\n",
      "...elem 3250... Fri May 11 16:47:42 2018\n",
      "...elem 3500... Fri May 11 16:47:58 2018\n",
      "...elem 3750... Fri May 11 16:48:16 2018\n",
      "...elem 4000... Fri May 11 16:48:33 2018\n",
      "...elem 4250... Fri May 11 16:48:50 2018\n",
      "...elem 4500... Fri May 11 16:49:07 2018\n"
     ]
    }
   ],
   "source": [
    "pool1_pNoCMVMPRA1_K562_activ_barc[\"better_type\"] = pool1_pNoCMVMPRA1_K562_activ_barc.apply(better_type, axis=1)\n",
    "pool1_pNoCMVMPRA1_K562_reps = [x for x in pool1_pNoCMVMPRA1_K562_activ_barc.columns if \"rna\" in x]\n",
    "pool1_pNoCMVMPRA1_K562_us, pool1_pNoCMVMPRA1_K562_pvals, pool1_pNoCMVMPRA1_K562_fcs = element_p_val_per_rep_neg_controls(pool1_pNoCMVMPRA1_K562_activ_barc, pool1_pNoCMVMPRA1_K562_reps, 10, [\"RANDOM\"], [\"WILDTYPE\", \"FLIPPED\", \"CONTROL\", \"SNP\", \"CONTROL_SNP\"])"
   ]
  },
  {
   "cell_type": "code",
   "execution_count": 22,
   "metadata": {},
   "outputs": [
    {
     "name": "stdout",
     "output_type": "stream",
     "text": [
      "checking 265 unique elements\n",
      "...elem 0... Fri May 11 16:49:14 2018\n",
      "...elem 250... Fri May 11 16:49:42 2018\n"
     ]
    }
   ],
   "source": [
    "pool2_pMPRA1_HepG2_activ_barc[\"better_type\"] = pool2_pMPRA1_HepG2_activ_barc.apply(better_type, axis=1)\n",
    "pool2_pMPRA1_HepG2_reps = [x for x in pool2_pMPRA1_HepG2_activ_barc.columns if \"rna\" in x]\n",
    "pool2_pMPRA1_HepG2_us, pool2_pMPRA1_HepG2_pvals, pool2_pMPRA1_HepG2_fcs = element_p_val_per_rep_neg_controls(pool2_pMPRA1_HepG2_activ_barc, pool2_pMPRA1_HepG2_reps, 10, [\"RANDOM\"], [\"WILDTYPE\", \"FLIPPED\", \"CONTROL\", \"SNP\", \"CONTROL_SNP\"])"
   ]
  },
  {
   "cell_type": "code",
   "execution_count": 23,
   "metadata": {},
   "outputs": [
    {
     "name": "stdout",
     "output_type": "stream",
     "text": [
      "checking 265 unique elements\n",
      "...elem 0... Fri May 11 16:49:46 2018\n",
      "...elem 250... Fri May 11 16:49:59 2018\n"
     ]
    }
   ],
   "source": [
    "pool2_pMPRA1_K562_activ_barc[\"better_type\"] = pool2_pMPRA1_K562_activ_barc.apply(better_type, axis=1)\n",
    "pool2_pMPRA1_K562_reps = [x for x in pool2_pMPRA1_K562_activ_barc.columns if \"rna\" in x]\n",
    "pool2_pMPRA1_K562_us, pool2_pMPRA1_K562_pvals, pool2_pMPRA1_K562_fcs = element_p_val_per_rep_neg_controls(pool2_pMPRA1_K562_activ_barc, pool2_pMPRA1_K562_reps, 10, [\"RANDOM\"], [\"WILDTYPE\", \"FLIPPED\", \"CONTROL\", \"SNP\", \"CONTROL_SNP\"])"
   ]
  },
  {
   "cell_type": "code",
   "execution_count": 24,
   "metadata": {},
   "outputs": [],
   "source": [
    "# change dicts into dfs\n",
    "pool1_pMPRA1_HeLa_pvals_df = pd.DataFrame.from_dict(pool1_pMPRA1_HeLa_pvals, orient=\"index\").reset_index()\n",
    "pool1_pMPRA1_HeLa_fcs_df = pd.DataFrame.from_dict(pool1_pMPRA1_HeLa_fcs, orient=\"index\").reset_index()\n",
    "\n",
    "pool1_pMPRA1_HepG2_pvals_df = pd.DataFrame.from_dict(pool1_pMPRA1_HepG2_pvals, orient=\"index\").reset_index()\n",
    "pool1_pMPRA1_HepG2_fcs_df = pd.DataFrame.from_dict(pool1_pMPRA1_HepG2_fcs, orient=\"index\").reset_index()\n",
    "\n",
    "pool1_pMPRA1_K562_pvals_df = pd.DataFrame.from_dict(pool1_pMPRA1_K562_pvals, orient=\"index\").reset_index()\n",
    "pool1_pMPRA1_K562_fcs_df = pd.DataFrame.from_dict(pool1_pMPRA1_K562_fcs, orient=\"index\").reset_index()\n",
    "\n",
    "pool1_pNoCMVMPRA1_HeLa_pvals_df = pd.DataFrame.from_dict(pool1_pNoCMVMPRA1_HeLa_pvals, orient=\"index\").reset_index()\n",
    "pool1_pNoCMVMPRA1_HeLa_fcs_df = pd.DataFrame.from_dict(pool1_pNoCMVMPRA1_HeLa_fcs, orient=\"index\").reset_index()\n",
    "\n",
    "pool1_pNoCMVMPRA1_HepG2_pvals_df = pd.DataFrame.from_dict(pool1_pNoCMVMPRA1_HepG2_pvals, orient=\"index\").reset_index()\n",
    "pool1_pNoCMVMPRA1_HepG2_fcs_df = pd.DataFrame.from_dict(pool1_pNoCMVMPRA1_HepG2_fcs, orient=\"index\").reset_index()\n",
    "\n",
    "pool1_pNoCMVMPRA1_K562_pvals_df = pd.DataFrame.from_dict(pool1_pNoCMVMPRA1_K562_pvals, orient=\"index\").reset_index()\n",
    "pool1_pNoCMVMPRA1_K562_fcs_df = pd.DataFrame.from_dict(pool1_pNoCMVMPRA1_K562_fcs, orient=\"index\").reset_index()\n",
    "\n",
    "pool2_pMPRA1_HepG2_pvals_df = pd.DataFrame.from_dict(pool2_pMPRA1_HepG2_pvals, orient=\"index\").reset_index()\n",
    "pool2_pMPRA1_HepG2_fcs_df = pd.DataFrame.from_dict(pool2_pMPRA1_HepG2_fcs, orient=\"index\").reset_index()\n",
    "\n",
    "pool2_pMPRA1_K562_pvals_df = pd.DataFrame.from_dict(pool2_pMPRA1_K562_pvals, orient=\"index\").reset_index()\n",
    "pool2_pMPRA1_K562_fcs_df = pd.DataFrame.from_dict(pool2_pMPRA1_K562_fcs, orient=\"index\").reset_index()"
   ]
  },
  {
   "cell_type": "code",
   "execution_count": 25,
   "metadata": {
    "collapsed": true
   },
   "outputs": [],
   "source": [
    "# merge w/ barc data\n",
    "pool1_pMPRA1_HeLa_activ_barc = pool1_pMPRA1_HeLa_activ_barc.merge(pool1_pMPRA1_HeLa_pvals_df, left_on=\"element\", \n",
    "                                                                  right_on=\"index\", how=\"left\",\n",
    "                                                                  suffixes=(\"\", \"_pval\")).drop(\"index\", axis=1)\n",
    "pool1_pMPRA1_HeLa_activ_barc = pool1_pMPRA1_HeLa_activ_barc.merge(pool1_pMPRA1_HeLa_fcs_df, left_on=\"element\", \n",
    "                                                                  right_on=\"index\", how=\"left\", \n",
    "                                                                  suffixes=(\"\", \"_log2fc\")).drop(\"index\", axis=1)\n",
    "\n",
    "\n",
    "pool1_pMPRA1_HepG2_activ_barc = pool1_pMPRA1_HepG2_activ_barc.merge(pool1_pMPRA1_HepG2_pvals_df, left_on=\"element\", \n",
    "                                                                   right_on=\"index\", how=\"left\",\n",
    "                                                                   suffixes=(\"\", \"_pval\")).drop(\"index\", axis=1)\n",
    "pool1_pMPRA1_HepG2_activ_barc = pool1_pMPRA1_HepG2_activ_barc.merge(pool1_pMPRA1_HepG2_fcs_df, left_on=\"element\", \n",
    "                                                                    right_on=\"index\", how=\"left\", \n",
    "                                                                    suffixes=(\"\", \"_log2fc\")).drop(\"index\", axis=1)\n",
    "\n",
    "\n",
    "pool1_pMPRA1_K562_activ_barc = pool1_pMPRA1_K562_activ_barc.merge(pool1_pMPRA1_K562_pvals_df, left_on=\"element\", \n",
    "                                                                  right_on=\"index\", how=\"left\",\n",
    "                                                                  suffixes=(\"\", \"_pval\")).drop(\"index\", axis=1)\n",
    "pool1_pMPRA1_K562_activ_barc = pool1_pMPRA1_K562_activ_barc.merge(pool1_pMPRA1_K562_fcs_df, left_on=\"element\", \n",
    "                                                                  right_on=\"index\", how=\"left\", \n",
    "                                                                  suffixes=(\"\", \"_log2fc\")).drop(\"index\", axis=1)\n",
    "\n",
    "\n",
    "pool1_pNoCMVMPRA1_HeLa_activ_barc = pool1_pNoCMVMPRA1_HeLa_activ_barc.merge(pool1_pNoCMVMPRA1_HeLa_pvals_df, \n",
    "                                                                            left_on=\"element\", \n",
    "                                                                            right_on=\"index\", how=\"left\",\n",
    "                                                                            suffixes=(\"\", \"_pval\")).drop(\"index\", axis=1)\n",
    "pool1_pNoCMVMPRA1_HeLa_activ_barc = pool1_pNoCMVMPRA1_HeLa_activ_barc.merge(pool1_pNoCMVMPRA1_HeLa_fcs_df, \n",
    "                                                                            left_on=\"element\", \n",
    "                                                                            right_on=\"index\", how=\"left\", \n",
    "                                                                            suffixes=(\"\", \"_log2fc\")).drop(\"index\", axis=1)\n",
    "\n",
    "pool1_pNoCMVMPRA1_HepG2_activ_barc = pool1_pNoCMVMPRA1_HepG2_activ_barc.merge(pool1_pNoCMVMPRA1_HepG2_pvals_df, \n",
    "                                                                              left_on=\"element\", \n",
    "                                                                              right_on=\"index\", how=\"left\",\n",
    "                                                                              suffixes=(\"\", \"_pval\")).drop(\"index\", axis=1)\n",
    "pool1_pNoCMVMPRA1_HepG2_activ_barc = pool1_pNoCMVMPRA1_HepG2_activ_barc.merge(pool1_pNoCMVMPRA1_HepG2_fcs_df, \n",
    "                                                                              left_on=\"element\", \n",
    "                                                                              right_on=\"index\", how=\"left\", \n",
    "                                                                              suffixes=(\"\", \"_log2fc\")).drop(\"index\", axis=1)\n",
    "\n",
    "\n",
    "pool1_pNoCMVMPRA1_K562_activ_barc = pool1_pNoCMVMPRA1_K562_activ_barc.merge(pool1_pNoCMVMPRA1_K562_pvals_df, \n",
    "                                                                            left_on=\"element\", \n",
    "                                                                            right_on=\"index\", how=\"left\",\n",
    "                                                                            suffixes=(\"\", \"_pval\")).drop(\"index\", axis=1)\n",
    "pool1_pNoCMVMPRA1_K562_activ_barc = pool1_pNoCMVMPRA1_K562_activ_barc.merge(pool1_pNoCMVMPRA1_K562_fcs_df, \n",
    "                                                                            left_on=\"element\", \n",
    "                                                                            right_on=\"index\", how=\"left\", \n",
    "                                                                            suffixes=(\"\", \"_log2fc\")).drop(\"index\", axis=1)\n",
    "\n",
    "\n",
    "pool2_pMPRA1_HepG2_activ_barc = pool2_pMPRA1_HepG2_activ_barc.merge(pool2_pMPRA1_HepG2_pvals_df, left_on=\"element\", \n",
    "                                                                   right_on=\"index\", how=\"left\",\n",
    "                                                                   suffixes=(\"\", \"_pval\")).drop(\"index\", axis=1)\n",
    "pool2_pMPRA1_HepG2_activ_barc = pool2_pMPRA1_HepG2_activ_barc.merge(pool2_pMPRA1_HepG2_fcs_df, left_on=\"element\", \n",
    "                                                                    right_on=\"index\", how=\"left\", \n",
    "                                                                    suffixes=(\"\", \"_log2fc\")).drop(\"index\", axis=1)\n",
    "\n",
    "\n",
    "pool2_pMPRA1_K562_activ_barc = pool2_pMPRA1_K562_activ_barc.merge(pool2_pMPRA1_K562_pvals_df, left_on=\"element\", \n",
    "                                                                  right_on=\"index\", how=\"left\",\n",
    "                                                                  suffixes=(\"\", \"_pval\")).drop(\"index\", axis=1)\n",
    "pool2_pMPRA1_K562_activ_barc = pool2_pMPRA1_K562_activ_barc.merge(pool2_pMPRA1_K562_fcs_df, left_on=\"element\", \n",
    "                                                                  right_on=\"index\", how=\"left\", \n",
    "                                                                  suffixes=(\"\", \"_log2fc\")).drop(\"index\", axis=1)"
   ]
  },
  {
   "cell_type": "code",
   "execution_count": 26,
   "metadata": {
    "collapsed": true
   },
   "outputs": [],
   "source": [
    "# extract columns\n",
    "drop_cols = [\"barcode\", \"full_oligo\", \"oligo_id\"]\n",
    "\n",
    "all_barc_dfs = [pool1_pMPRA1_HeLa_activ_barc, pool1_pMPRA1_HepG2_activ_barc, pool1_pMPRA1_K562_activ_barc,\n",
    "                pool1_pNoCMVMPRA1_HeLa_activ_barc, pool1_pNoCMVMPRA1_HepG2_activ_barc, \n",
    "                pool1_pNoCMVMPRA1_K562_activ_barc, pool2_pMPRA1_HepG2_activ_barc, pool2_pMPRA1_K562_activ_barc]\n",
    "\n",
    "all_elem_dfs = [pool1_pMPRA1_HeLa_activ_elem, pool1_pMPRA1_HepG2_activ_elem, pool1_pMPRA1_K562_activ_elem,\n",
    "                pool1_pNoCMVMPRA1_HeLa_activ_elem, pool1_pNoCMVMPRA1_HepG2_activ_elem, \n",
    "                pool1_pNoCMVMPRA1_K562_activ_elem, pool2_pMPRA1_HepG2_activ_elem, pool2_pMPRA1_K562_activ_elem]\n",
    "\n",
    "all_reps = [pool1_pMPRA1_HeLa_reps, pool1_pMPRA1_HepG2_reps, pool1_pMPRA1_K562_reps,\n",
    "            pool1_pNoCMVMPRA1_HeLa_reps, pool1_pNoCMVMPRA1_HepG2_reps, pool1_pNoCMVMPRA1_K562_reps,\n",
    "            pool2_pMPRA1_HepG2_reps, pool2_pMPRA1_K562_reps]\n",
    "\n",
    "all_grp_dfs = []\n",
    "\n",
    "for barc_df, elem_df, reps in zip(all_barc_dfs, all_elem_dfs, all_reps):\n",
    "    samp_drop_cols = list(drop_cols)\n",
    "    samp_drop_cols.extend(reps)\n",
    "    \n",
    "    df = elem_df.merge(barc_df.drop(samp_drop_cols, axis=1), on=[\"unique_id\", \"element\"], how=\"left\")\n",
    "    df = df.drop_duplicates()\n",
    "    all_grp_dfs.append(df)"
   ]
  },
  {
   "cell_type": "code",
   "execution_count": 27,
   "metadata": {
    "collapsed": true
   },
   "outputs": [],
   "source": [
    "# correct p values\n",
    "all_corr_dfs = []\n",
    "for df in all_grp_dfs:\n",
    "    pval_cols = [x for x in df.columns if \"_pval\" in x]\n",
    "    for col in pval_cols:\n",
    "        sub_df = df[~pd.isnull(df[col])][[\"unique_id\", \"element\", col]]\n",
    "        new_pvals = multicomp.multipletests(sub_df[col], method=\"bonferroni\")[1]\n",
    "        padj_col = \"rna_%s_padj\" % (col.split(\"_\")[1])\n",
    "        sub_df[padj_col] = new_pvals\n",
    "        sub_df.drop(col, axis=1, inplace=True)\n",
    "        df = df.merge(sub_df, on=[\"unique_id\", \"element\"], how=\"left\")\n",
    "    all_corr_dfs.append(df)"
   ]
  },
  {
   "cell_type": "markdown",
   "metadata": {},
   "source": [
    "## 4. use stouffer's method to combine p-values across replicates"
   ]
  },
  {
   "cell_type": "markdown",
   "metadata": {},
   "source": [
    "in this case, combine the *uncorrected* pvalues and *then adjust* using stouffer's method"
   ]
  },
  {
   "cell_type": "code",
   "execution_count": 28,
   "metadata": {
    "collapsed": true
   },
   "outputs": [],
   "source": [
    "all_names = [\"POOL1__pMPRA1__HeLa\", \"POOL1__pMPRA1__HepG2\", \"POOL1__pMPRA1__K562\", \"POOL1__pNoCMVMPRA1__HeLa\",\n",
    "             \"POOL1__pNoCMVMPRA1__HepG2\", \"POOL1__pNoCMVMPRA1__K562\", \"POOL2__pMPRA1__HepG2\", \"POOL2__pMPRA1__K562\"]"
   ]
  },
  {
   "cell_type": "code",
   "execution_count": 29,
   "metadata": {},
   "outputs": [
    {
     "name": "stdout",
     "output_type": "stream",
     "text": [
      "HeLa\n",
      "   better_type  element_tot  element_sig   perc_sig\n",
      "0      CONTROL           14          1.0   7.142857\n",
      "1  CONTROL_SNP           18          1.0   5.555556\n",
      "2      FLIPPED          544         83.0  15.257353\n",
      "3       RANDOM         1589          0.0   0.000000\n",
      "4    SCRAMBLED         1000          0.0   0.000000\n",
      "5          SNP         1765        351.0  19.886686\n",
      "6     WILDTYPE         2222        332.0  14.941494\n",
      "HepG2\n",
      "   better_type  element_tot  element_sig   perc_sig\n",
      "0      CONTROL           14         10.0  71.428571\n",
      "1  CONTROL_SNP           18         11.0  61.111111\n",
      "2      FLIPPED          544        321.0  59.007353\n",
      "3       RANDOM         1589          0.0   0.000000\n",
      "4    SCRAMBLED         1000          0.0   0.000000\n",
      "5          SNP         1765       1209.0  68.498584\n",
      "6     WILDTYPE         2222       1353.0  60.891089\n",
      "   better_type  element_tot  element_sig   perc_sig\n",
      "0      CONTROL           14          8.0  57.142857\n",
      "1  CONTROL_SNP           18          9.0  50.000000\n",
      "2      FLIPPED          544        287.0  52.757353\n",
      "3       RANDOM         1589          0.0   0.000000\n",
      "4    SCRAMBLED         1000          0.0   0.000000\n",
      "5          SNP         1765       1012.0  57.337110\n",
      "6     WILDTYPE         2222       1166.0  52.475248\n",
      "K562\n",
      "   better_type  element_tot  element_sig   perc_sig\n",
      "0      CONTROL           14          5.0  35.714286\n",
      "1  CONTROL_SNP           18          5.0  27.777778\n",
      "2      FLIPPED          544        235.0  43.198529\n",
      "3       RANDOM         1589          0.0   0.000000\n",
      "4    SCRAMBLED         1000          0.0   0.000000\n",
      "5          SNP         1765        854.0  48.385269\n",
      "6     WILDTYPE         2222        926.0  41.674167\n",
      "HeLa\n",
      "   better_type  element_tot  element_sig  perc_sig\n",
      "0      CONTROL           14          0.0  0.000000\n",
      "1  CONTROL_SNP           18          0.0  0.000000\n",
      "2      FLIPPED          544         47.0  8.639706\n",
      "3       RANDOM         1589          0.0  0.000000\n",
      "4    SCRAMBLED         1000          0.0  0.000000\n",
      "5          SNP         1765        161.0  9.121813\n",
      "6     WILDTYPE         2222        131.0  5.895590\n",
      "HepG2\n",
      "   better_type  element_tot  element_sig   perc_sig\n",
      "0      CONTROL           14          6.0  42.857143\n",
      "1  CONTROL_SNP           18          8.0  44.444444\n",
      "2      FLIPPED          544        285.0  52.389706\n",
      "3       RANDOM         1589          0.0   0.000000\n",
      "4    SCRAMBLED         1000          0.0   0.000000\n",
      "5          SNP         1765        956.0  54.164306\n",
      "6     WILDTYPE         2222       1028.0  46.264626\n",
      "   better_type  element_tot  element_sig   perc_sig\n",
      "0      CONTROL           14          6.0  42.857143\n",
      "1  CONTROL_SNP           18          8.0  44.444444\n",
      "2      FLIPPED          544        272.0  50.000000\n",
      "3       RANDOM         1589          0.0   0.000000\n",
      "4    SCRAMBLED         1000          0.0   0.000000\n",
      "5          SNP         1765        912.0  51.671388\n",
      "6     WILDTYPE         2222        973.0  43.789379\n",
      "K562\n",
      "   better_type  element_tot  element_sig   perc_sig\n",
      "0      CONTROL           14          5.0  35.714286\n",
      "1  CONTROL_SNP           18          3.0  16.666667\n",
      "2      FLIPPED          544        255.0  46.875000\n",
      "3       RANDOM         1589          0.0   0.000000\n",
      "4    SCRAMBLED         1000          0.0   0.000000\n",
      "5          SNP         1765        869.0  49.235127\n",
      "6     WILDTYPE         2222        939.0  42.259226\n",
      "HepG2\n",
      "   better_type  element_tot  element_sig   perc_sig\n",
      "0      CONTROL            4          3.0  75.000000\n",
      "1  CONTROL_SNP           26         19.0  73.076923\n",
      "2     DELETION         3964          0.0   0.000000\n",
      "3      FLIPPED            8          7.0  87.500000\n",
      "4       RANDOM         2000          0.0   0.000000\n",
      "5    SCRAMBLED         2160          0.0   0.000000\n",
      "6          SNP          173        131.0  75.722543\n",
      "7     WILDTYPE           54         43.0  79.629630\n",
      "   better_type  element_tot  element_sig   perc_sig\n",
      "0      CONTROL            4          3.0  75.000000\n",
      "1  CONTROL_SNP           26         13.0  50.000000\n",
      "2     DELETION         3964          0.0   0.000000\n",
      "3      FLIPPED            8          7.0  87.500000\n",
      "4       RANDOM         2000          0.0   0.000000\n",
      "5    SCRAMBLED         2160          0.0   0.000000\n",
      "6          SNP          173        114.0  65.895954\n",
      "7     WILDTYPE           54         41.0  75.925926\n",
      "K562\n",
      "   better_type  element_tot  element_sig   perc_sig\n",
      "0      CONTROL            4          1.0  25.000000\n",
      "1  CONTROL_SNP           26          7.0  26.923077\n",
      "2     DELETION         3964          0.0   0.000000\n",
      "3      FLIPPED            8          2.0  25.000000\n",
      "4       RANDOM         2000          0.0   0.000000\n",
      "5    SCRAMBLED         2160          0.0   0.000000\n",
      "6          SNP          173         66.0  38.150289\n",
      "7     WILDTYPE           54         24.0  44.444444\n"
     ]
    }
   ],
   "source": [
    "all_comb_dfs = []\n",
    "for name, df in zip(all_names, all_corr_dfs):\n",
    "    cell_type = name.split(\"__\")[2]\n",
    "    print(cell_type)\n",
    "    pval_cols = [x for x in df.columns if \"_pval\" in x]\n",
    "    df[\"combined_pval\"] = df.apply(combine_pvals, reps=pval_cols, axis=1)\n",
    "    \n",
    "    # correct combined pvals\n",
    "    df_no_nan = df[~pd.isnull(df[\"combined_pval\"])][[\"unique_id\", \"combined_pval\"]]\n",
    "    combined_padjs = multicomp.multipletests(df_no_nan[\"combined_pval\"], method=\"bonferroni\")[1]\n",
    "    df_no_nan[\"combined_padj\"] = combined_padjs\n",
    "    df_no_nan.drop(\"combined_pval\", axis=1, inplace=True)\n",
    "    df = df.merge(df_no_nan, on=\"unique_id\", how=\"left\")\n",
    "    \n",
    "    l2fc_cols = [x for x in df.columns if \"_log2fc\" in x]\n",
    "    df[\"combined_sig\"] = df.apply(is_sig_combined, col=\"combined_padj\", axis=1, thresh=0.05, l2fc_cols=l2fc_cols)\n",
    "    df[\"combined_class\"] = df.apply(is_active_or_repressive, sig_col=\"combined_sig\", axis=1, \n",
    "                                    thresh=0.5, l2fc_cols=l2fc_cols)\n",
    "    \n",
    "    # if HepG2, where we have a lot of reps, downsample them 100x\n",
    "    if cell_type == \"HepG2\":\n",
    "        for n in range(n_samples):\n",
    "            samp_pval_cols = list(np.random.choice(pval_cols, size=4))\n",
    "            samp_reps = [x.split(\"_\")[1] for x in samp_pval_cols]\n",
    "            samp_l2fc_cols = []\n",
    "            for x in samp_reps:\n",
    "                samp_l2fc_cols.append(\"rna_%s_log2fc\" % x)\n",
    "            \n",
    "            df[\"samp_%s_combined_pval\" % n] = df.apply(combine_pvals, reps=samp_pval_cols, axis=1)\n",
    "            \n",
    "            # correct combined pvals\n",
    "            df_no_nan = df[~pd.isnull(df[\"samp_%s_combined_pval\" % n])][[\"unique_id\", \"samp_%s_combined_pval\" % n]]\n",
    "            combined_padjs = multicomp.multipletests(df_no_nan[\"samp_%s_combined_pval\" % n], method=\"bonferroni\")[1]\n",
    "            df_no_nan[\"samp_%s_combined_padj\" % n] = combined_padjs\n",
    "            df = df.merge(df_no_nan, on=\"unique_id\", how=\"left\")\n",
    "            df[\"samp_%s_combined_sig\" % n] = df.apply(is_sig_combined, col=\"samp_%s_combined_padj\" % n,\n",
    "                                                      thresh=0.05, l2fc_cols=samp_l2fc_cols, axis=1)\n",
    "            df[\"samp_%s_combined_class\" % n] = df.apply(is_active_or_repressive, sig_col=\"samp_%s_combined_sig\" % n, \n",
    "                                                        axis=1, thresh=0.5, l2fc_cols=samp_l2fc_cols)\n",
    "\n",
    "    \n",
    "        # consider it significant if sig in >75% of samples\n",
    "        # take class that occurs max # of times\n",
    "        samp_combined_cols = [x for x in df.columns if \"samp\" in x and \"combined_sig\" in x]\n",
    "        samp_class_cols = [x for x in df.columns if \"samp\" in x and \"combined_class\" in x]\n",
    "        \n",
    "        df[\"downsamp_combined_sig\"] = df.apply(downsamp_is_sig_combined, samp_combined_cols=samp_combined_cols, \n",
    "                                               n_samples=n_samples, axis=1)\n",
    "        df[\"downsamp_combined_class\"] = df.apply(downsamp_is_active_or_repressive, sig_col=\"downsamp_combined_sig\",\n",
    "                                                 samp_class_cols=samp_class_cols, axis=1)\n",
    "        to_drop = [x for x in df.columns if x.startswith(\"samp_\")]\n",
    "        df.drop(to_drop, axis=1, inplace=True)\n",
    "    \n",
    "    \n",
    "    tots = df.groupby([\"better_type\"])[\"element\"].agg(\"count\").reset_index()\n",
    "    sigs = df[df[\"combined_sig\"] == \"sig\"].groupby([\"better_type\"])[\"element\"].agg(\"count\").reset_index()\n",
    "    perc = tots.merge(sigs, on=\"better_type\", how=\"left\", suffixes=(\"_tot\", \"_sig\"))\n",
    "    perc.fillna(0, inplace=True)\n",
    "    perc[\"perc_sig\"] = (perc[\"element_sig\"]/perc[\"element_tot\"])*100\n",
    "    print(perc)\n",
    "    \n",
    "    \n",
    "    if cell_type == \"HepG2\":\n",
    "        sigs = df[df[\"downsamp_combined_sig\"] == \"sig\"].groupby([\"better_type\"])[\"element\"].agg(\"count\").reset_index()\n",
    "        perc = tots.merge(sigs, on=\"better_type\", how=\"left\", suffixes=(\"_tot\", \"_sig\"))\n",
    "        perc.fillna(0, inplace=True)\n",
    "        perc[\"perc_sig\"] = (perc[\"element_sig\"]/perc[\"element_tot\"])*100\n",
    "        print(perc)\n",
    "        \n",
    "    all_comb_dfs.append(df)"
   ]
  },
  {
   "cell_type": "code",
   "execution_count": 30,
   "metadata": {},
   "outputs": [
    {
     "data": {
      "text/html": [
       "<div>\n",
       "<style>\n",
       "    .dataframe thead tr:only-child th {\n",
       "        text-align: right;\n",
       "    }\n",
       "\n",
       "    .dataframe thead th {\n",
       "        text-align: left;\n",
       "    }\n",
       "\n",
       "    .dataframe tbody tr th {\n",
       "        vertical-align: top;\n",
       "    }\n",
       "</style>\n",
       "<table border=\"1\" class=\"dataframe\">\n",
       "  <thead>\n",
       "    <tr style=\"text-align: right;\">\n",
       "      <th></th>\n",
       "      <th>unique_id</th>\n",
       "      <th>element</th>\n",
       "      <th>rna_3</th>\n",
       "      <th>rna_4</th>\n",
       "      <th>rna_5</th>\n",
       "      <th>rna_6</th>\n",
       "      <th>rna_7</th>\n",
       "      <th>rna_8</th>\n",
       "      <th>rna_9</th>\n",
       "      <th>rna_10</th>\n",
       "      <th>...</th>\n",
       "      <th>rna_11_padj</th>\n",
       "      <th>rna_12_padj</th>\n",
       "      <th>rna_13_padj</th>\n",
       "      <th>rna_14_padj</th>\n",
       "      <th>combined_pval</th>\n",
       "      <th>combined_padj</th>\n",
       "      <th>combined_sig</th>\n",
       "      <th>combined_class</th>\n",
       "      <th>downsamp_combined_sig</th>\n",
       "      <th>downsamp_combined_class</th>\n",
       "    </tr>\n",
       "  </thead>\n",
       "  <tbody>\n",
       "    <tr>\n",
       "      <th>0</th>\n",
       "      <td>CONTROL_BUT_HAS_SNP__control.flip.sense__chr11...</td>\n",
       "      <td>TGGCCAATCTACTCCCAGGAGCAGGGAGGGCAGGAGCCAGGGCTGG...</td>\n",
       "      <td>-0.974810</td>\n",
       "      <td>-0.987187</td>\n",
       "      <td>-0.980356</td>\n",
       "      <td>-1.028859</td>\n",
       "      <td>-1.070716</td>\n",
       "      <td>-1.183360</td>\n",
       "      <td>-1.290693</td>\n",
       "      <td>-1.002653</td>\n",
       "      <td>...</td>\n",
       "      <td>1.000000e+00</td>\n",
       "      <td>1.000000e+00</td>\n",
       "      <td>1.000000e+00</td>\n",
       "      <td>1.000000e+00</td>\n",
       "      <td>9.867657e-19</td>\n",
       "      <td>3.821744e-15</td>\n",
       "      <td>sig</td>\n",
       "      <td>not sig</td>\n",
       "      <td>sig</td>\n",
       "      <td>not sig</td>\n",
       "    </tr>\n",
       "    <tr>\n",
       "      <th>1</th>\n",
       "      <td>CONTROL_BUT_HAS_SNP__control.flip.sense__chr16...</td>\n",
       "      <td>CACCCCCATCCCAGGCTGAGTCACTCTAAGAAAAGGACAGTGTGGG...</td>\n",
       "      <td>-0.232201</td>\n",
       "      <td>-0.367854</td>\n",
       "      <td>-0.141330</td>\n",
       "      <td>-0.271426</td>\n",
       "      <td>-0.158697</td>\n",
       "      <td>-0.360512</td>\n",
       "      <td>-0.454494</td>\n",
       "      <td>-0.600754</td>\n",
       "      <td>...</td>\n",
       "      <td>4.644729e-17</td>\n",
       "      <td>3.492436e-17</td>\n",
       "      <td>1.681772e-17</td>\n",
       "      <td>1.101015e-16</td>\n",
       "      <td>1.147946e-193</td>\n",
       "      <td>4.445995e-190</td>\n",
       "      <td>sig</td>\n",
       "      <td>sig active</td>\n",
       "      <td>sig</td>\n",
       "      <td>sig active</td>\n",
       "    </tr>\n",
       "    <tr>\n",
       "      <th>2</th>\n",
       "      <td>CONTROL_BUT_HAS_SNP__control.flip.sense__chr17...</td>\n",
       "      <td>GCCTCGCCCTATGAGAAGGGGGCGGAGGCTGTGCCTGCCTTTGTGG...</td>\n",
       "      <td>-0.723533</td>\n",
       "      <td>-0.698930</td>\n",
       "      <td>-0.682626</td>\n",
       "      <td>-0.734014</td>\n",
       "      <td>-0.632885</td>\n",
       "      <td>-0.503992</td>\n",
       "      <td>-0.800393</td>\n",
       "      <td>-0.563289</td>\n",
       "      <td>...</td>\n",
       "      <td>2.598576e-07</td>\n",
       "      <td>4.289247e-11</td>\n",
       "      <td>2.666966e-08</td>\n",
       "      <td>2.045311e-07</td>\n",
       "      <td>7.174135e-109</td>\n",
       "      <td>2.778543e-105</td>\n",
       "      <td>sig</td>\n",
       "      <td>sig active</td>\n",
       "      <td>sig</td>\n",
       "      <td>sig active</td>\n",
       "    </tr>\n",
       "    <tr>\n",
       "      <th>3</th>\n",
       "      <td>CONTROL_BUT_HAS_SNP__control.flip.sense__chr17...</td>\n",
       "      <td>CTGACCTATGTGCTTCTTCACTGGCCTTCTTGAGGGAGGGTGGGCG...</td>\n",
       "      <td>-1.033424</td>\n",
       "      <td>-0.942625</td>\n",
       "      <td>-1.413566</td>\n",
       "      <td>-1.064363</td>\n",
       "      <td>-1.247515</td>\n",
       "      <td>-1.273615</td>\n",
       "      <td>-1.021660</td>\n",
       "      <td>-1.224471</td>\n",
       "      <td>...</td>\n",
       "      <td>1.000000e+00</td>\n",
       "      <td>1.000000e+00</td>\n",
       "      <td>1.000000e+00</td>\n",
       "      <td>1.000000e+00</td>\n",
       "      <td>8.175235e-10</td>\n",
       "      <td>3.166269e-06</td>\n",
       "      <td>sig</td>\n",
       "      <td>not sig</td>\n",
       "      <td>not sig</td>\n",
       "      <td>not sig</td>\n",
       "    </tr>\n",
       "    <tr>\n",
       "      <th>4</th>\n",
       "      <td>CONTROL_BUT_HAS_SNP__control.flip.sense__chr1:...</td>\n",
       "      <td>AGTATCCGCTCTCCCCTGTCCCCTGCTATGGGCAGGGCCTGGCTGG...</td>\n",
       "      <td>0.196014</td>\n",
       "      <td>0.263169</td>\n",
       "      <td>0.265157</td>\n",
       "      <td>0.136353</td>\n",
       "      <td>0.146875</td>\n",
       "      <td>0.188086</td>\n",
       "      <td>0.042627</td>\n",
       "      <td>0.209762</td>\n",
       "      <td>...</td>\n",
       "      <td>3.273184e-31</td>\n",
       "      <td>5.153033e-31</td>\n",
       "      <td>7.265345e-30</td>\n",
       "      <td>2.474752e-28</td>\n",
       "      <td>0.000000e+00</td>\n",
       "      <td>0.000000e+00</td>\n",
       "      <td>sig</td>\n",
       "      <td>sig active</td>\n",
       "      <td>sig</td>\n",
       "      <td>sig active</td>\n",
       "    </tr>\n",
       "  </tbody>\n",
       "</table>\n",
       "<p>5 rows × 74 columns</p>\n",
       "</div>"
      ],
      "text/plain": [
       "                                           unique_id  \\\n",
       "0  CONTROL_BUT_HAS_SNP__control.flip.sense__chr11...   \n",
       "1  CONTROL_BUT_HAS_SNP__control.flip.sense__chr16...   \n",
       "2  CONTROL_BUT_HAS_SNP__control.flip.sense__chr17...   \n",
       "3  CONTROL_BUT_HAS_SNP__control.flip.sense__chr17...   \n",
       "4  CONTROL_BUT_HAS_SNP__control.flip.sense__chr1:...   \n",
       "\n",
       "                                             element     rna_3     rna_4  \\\n",
       "0  TGGCCAATCTACTCCCAGGAGCAGGGAGGGCAGGAGCCAGGGCTGG... -0.974810 -0.987187   \n",
       "1  CACCCCCATCCCAGGCTGAGTCACTCTAAGAAAAGGACAGTGTGGG... -0.232201 -0.367854   \n",
       "2  GCCTCGCCCTATGAGAAGGGGGCGGAGGCTGTGCCTGCCTTTGTGG... -0.723533 -0.698930   \n",
       "3  CTGACCTATGTGCTTCTTCACTGGCCTTCTTGAGGGAGGGTGGGCG... -1.033424 -0.942625   \n",
       "4  AGTATCCGCTCTCCCCTGTCCCCTGCTATGGGCAGGGCCTGGCTGG...  0.196014  0.263169   \n",
       "\n",
       "      rna_5     rna_6     rna_7     rna_8     rna_9    rna_10  \\\n",
       "0 -0.980356 -1.028859 -1.070716 -1.183360 -1.290693 -1.002653   \n",
       "1 -0.141330 -0.271426 -0.158697 -0.360512 -0.454494 -0.600754   \n",
       "2 -0.682626 -0.734014 -0.632885 -0.503992 -0.800393 -0.563289   \n",
       "3 -1.413566 -1.064363 -1.247515 -1.273615 -1.021660 -1.224471   \n",
       "4  0.265157  0.136353  0.146875  0.188086  0.042627  0.209762   \n",
       "\n",
       "            ...              rna_11_padj   rna_12_padj   rna_13_padj  \\\n",
       "0           ...             1.000000e+00  1.000000e+00  1.000000e+00   \n",
       "1           ...             4.644729e-17  3.492436e-17  1.681772e-17   \n",
       "2           ...             2.598576e-07  4.289247e-11  2.666966e-08   \n",
       "3           ...             1.000000e+00  1.000000e+00  1.000000e+00   \n",
       "4           ...             3.273184e-31  5.153033e-31  7.265345e-30   \n",
       "\n",
       "    rna_14_padj  combined_pval  combined_padj combined_sig combined_class  \\\n",
       "0  1.000000e+00   9.867657e-19   3.821744e-15          sig        not sig   \n",
       "1  1.101015e-16  1.147946e-193  4.445995e-190          sig     sig active   \n",
       "2  2.045311e-07  7.174135e-109  2.778543e-105          sig     sig active   \n",
       "3  1.000000e+00   8.175235e-10   3.166269e-06          sig        not sig   \n",
       "4  2.474752e-28   0.000000e+00   0.000000e+00          sig     sig active   \n",
       "\n",
       "  downsamp_combined_sig  downsamp_combined_class  \n",
       "0                   sig                  not sig  \n",
       "1                   sig               sig active  \n",
       "2                   sig               sig active  \n",
       "3               not sig                  not sig  \n",
       "4                   sig               sig active  \n",
       "\n",
       "[5 rows x 74 columns]"
      ]
     },
     "execution_count": 30,
     "metadata": {},
     "output_type": "execute_result"
    }
   ],
   "source": [
    "all_comb_dfs[1].head()"
   ]
  },
  {
   "cell_type": "code",
   "execution_count": 31,
   "metadata": {},
   "outputs": [
    {
     "data": {
      "text/plain": [
       "sig        2904\n",
       "not sig     969\n",
       "Name: combined_sig, dtype: int64"
      ]
     },
     "execution_count": 31,
     "metadata": {},
     "output_type": "execute_result"
    }
   ],
   "source": [
    "all_comb_dfs[1].combined_sig.value_counts()"
   ]
  },
  {
   "cell_type": "code",
   "execution_count": 32,
   "metadata": {},
   "outputs": [
    {
     "data": {
      "text/plain": [
       "not sig           4449\n",
       "sig active        2677\n",
       "sig repressive      26\n",
       "Name: combined_class, dtype: int64"
      ]
     },
     "execution_count": 32,
     "metadata": {},
     "output_type": "execute_result"
    }
   ],
   "source": [
    "all_comb_dfs[1].combined_class.value_counts()"
   ]
  },
  {
   "cell_type": "code",
   "execution_count": 33,
   "metadata": {},
   "outputs": [
    {
     "data": {
      "text/plain": [
       "not sig    4670\n",
       "sig        2482\n",
       "Name: downsamp_combined_sig, dtype: int64"
      ]
     },
     "execution_count": 33,
     "metadata": {},
     "output_type": "execute_result"
    }
   ],
   "source": [
    "all_comb_dfs[1].downsamp_combined_sig.value_counts()"
   ]
  },
  {
   "cell_type": "code",
   "execution_count": 34,
   "metadata": {},
   "outputs": [
    {
     "data": {
      "text/plain": [
       "not sig           4672\n",
       "sig active        2474\n",
       "sig repressive       6\n",
       "Name: downsamp_combined_class, dtype: int64"
      ]
     },
     "execution_count": 34,
     "metadata": {},
     "output_type": "execute_result"
    }
   ],
   "source": [
    "all_comb_dfs[1].downsamp_combined_class.value_counts()"
   ]
  },
  {
   "cell_type": "markdown",
   "metadata": {},
   "source": [
    "## 5. write files"
   ]
  },
  {
   "cell_type": "markdown",
   "metadata": {},
   "source": [
    "### p-vals per element"
   ]
  },
  {
   "cell_type": "code",
   "execution_count": 35,
   "metadata": {},
   "outputs": [
    {
     "name": "stdout",
     "output_type": "stream",
     "text": [
      "POOL1__pMPRA1__HeLa\n",
      "7152\n",
      "POOL1__pMPRA1__HepG2\n",
      "7152\n",
      "POOL1__pMPRA1__K562\n",
      "7152\n",
      "POOL1__pNoCMVMPRA1__HeLa\n",
      "7152\n",
      "POOL1__pNoCMVMPRA1__HepG2\n",
      "7152\n",
      "POOL1__pNoCMVMPRA1__K562\n",
      "7152\n",
      "POOL2__pMPRA1__HepG2\n",
      "8389\n",
      "POOL2__pMPRA1__K562\n",
      "8389\n"
     ]
    }
   ],
   "source": [
    "all_files = [pool1_pMPRA1_HeLa_pval_f, pool1_pMPRA1_HepG2_pval_f, pool1_pMPRA1_K562_pval_f,\n",
    "             pool1_pNoCMVMPRA1_HeLa_pval_f, pool1_pNoCMVMPRA1_HepG2_pval_f, pool1_pNoCMVMPRA1_K562_pval_f,\n",
    "             pool2_pMPRA1_HepG2_pval_f, pool2_pMPRA1_K562_pval_f]\n",
    "\n",
    "final_dfs = []\n",
    "for name, df, f in zip(all_names, all_comb_dfs, all_files):\n",
    "    print(name)\n",
    "    cols = [\"unique_id\", \"element\", \"oligo_type\"]\n",
    "    pval_cols = [x for x in df.columns if (\"_padj\" in x or \"_log2fc\" in x) and \"non_na\" not in x]\n",
    "    cols.extend(pval_cols)\n",
    "    cols.extend([\"combined_sig\"])\n",
    "    cols.extend([\"combined_class\"])\n",
    "    if \"HepG2\" in name:\n",
    "        downsamp_cols = [x for x in df.columns if \"down\" in x]\n",
    "        cols.extend(downsamp_cols)\n",
    "    \n",
    "    sub_df = df[cols]\n",
    "    sub_df.drop_duplicates(inplace=True)\n",
    "    print(len(sub_df))\n",
    "    #print(sub_df.head())\n",
    "    sub_df.to_csv(f, sep=\"\\t\", index=False)\n",
    "    final_dfs.append(sub_df)"
   ]
  },
  {
   "cell_type": "code",
   "execution_count": 37,
   "metadata": {},
   "outputs": [
    {
     "name": "stdout",
     "output_type": "stream",
     "text": [
      "POOL1__pMPRA1__HeLa\n",
      "0\n",
      "POOL1__pMPRA1__HepG2\n",
      "0\n",
      "POOL1__pMPRA1__K562\n",
      "0\n",
      "POOL1__pNoCMVMPRA1__HeLa\n",
      "0\n",
      "POOL1__pNoCMVMPRA1__HepG2\n",
      "0\n",
      "POOL1__pNoCMVMPRA1__K562\n",
      "0\n",
      "POOL2__pMPRA1__HepG2\n",
      "0\n",
      "POOL2__pMPRA1__K562\n",
      "0\n"
     ]
    }
   ],
   "source": [
    "for name, df in zip(all_names, final_dfs):\n",
    "    print(name)\n",
    "    if \"POOL1\" in name:\n",
    "        ids = pool1_index_elem[\"unique_id\"]\n",
    "    elif \"POOL2\" in name:\n",
    "        ids = pool2_index_elem[\"unique_id\"]\n",
    "    missing = ids[~ids.isin(df[\"unique_id\"])]\n",
    "    print(len(missing))"
   ]
  },
  {
   "cell_type": "code",
   "execution_count": null,
   "metadata": {
    "collapsed": true
   },
   "outputs": [],
   "source": []
  }
 ],
 "metadata": {
  "anaconda-cloud": {},
  "kernelspec": {
   "display_name": "Python 3",
   "language": "python",
   "name": "python3"
  },
  "language_info": {
   "codemirror_mode": {
    "name": "ipython",
    "version": 3
   },
   "file_extension": ".py",
   "mimetype": "text/x-python",
   "name": "python",
   "nbconvert_exporter": "python",
   "pygments_lexer": "ipython3",
   "version": "3.6.2"
  }
 },
 "nbformat": 4,
 "nbformat_minor": 1
}
