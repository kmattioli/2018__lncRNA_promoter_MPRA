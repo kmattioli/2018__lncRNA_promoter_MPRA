{
 "cells": [
  {
   "cell_type": "markdown",
   "metadata": {},
   "source": [
    "# 06__tf_tissue_sp\n",
    "# calculating tissue specificity of TFs (across HepG2, HeLa, and K562)\n",
    "\n",
    "in this notebook, i calculate the tissue specificity of TFs across the 3 cell types in our MPRAs using ENCODE RNA-seq data. then, i correlate motif coverage (# bp covered and maximum coverage) as well as average TF specificity with MPRA activities and specificities.\n",
    "\n",
    "note: the FIMO mappings and coverage calculations were done separately (see methods)\n",
    "\n",
    "------\n",
    "\n",
    "figures in this notebook:\n",
    "- **Fig 3C**: KDE plot of correlations of MPRA activity & specificity with each of the 3 metrics"
   ]
  },
  {
   "cell_type": "code",
   "execution_count": 1,
   "metadata": {
    "collapsed": true
   },
   "outputs": [],
   "source": [
    "import warnings\n",
    "warnings.filterwarnings('ignore')\n",
    "\n",
    "import pandas as pd\n",
    "import numpy as np\n",
    "import matplotlib as mpl\n",
    "import matplotlib.pyplot as plt\n",
    "import seaborn as sns\n",
    "import sys\n",
    "import time\n",
    "\n",
    "from itertools import chain\n",
    "from decimal import Decimal\n",
    "from scipy import stats\n",
    "from scipy import signal\n",
    "from statsmodels.sandbox.stats import multicomp\n",
    "\n",
    "# import utils\n",
    "sys.path.append(\"../../utils\")\n",
    "from plotting_utils import *\n",
    "from misc_utils import *\n",
    "from norm_utils import *\n",
    "\n",
    "%matplotlib inline"
   ]
  },
  {
   "cell_type": "code",
   "execution_count": 2,
   "metadata": {
    "collapsed": true
   },
   "outputs": [],
   "source": [
    "sns.set(**PAPER_PRESET)\n",
    "fontsize = PAPER_FONTSIZE"
   ]
  },
  {
   "cell_type": "markdown",
   "metadata": {},
   "source": [
    "## variables"
   ]
  },
  {
   "cell_type": "code",
   "execution_count": 3,
   "metadata": {
    "collapsed": true
   },
   "outputs": [],
   "source": [
    "index_dir = \"../../data/00__index\"\n",
    "index_f = \"%s/tss_oligo_pool.index.txt\" % index_dir"
   ]
  },
  {
   "cell_type": "code",
   "execution_count": 4,
   "metadata": {
    "collapsed": true
   },
   "outputs": [],
   "source": [
    "hepg2_activ_f = \"../../data/02__activs/POOL1__pMPRA1__HepG2__activities_per_element.txt\"\n",
    "hela_activ_f = \"../../data/02__activs/POOL1__pMPRA1__HeLa__activities_per_element.txt\"\n",
    "k562_activ_f = \"../../data/02__activs/POOL1__pMPRA1__K562__activities_per_element.txt\""
   ]
  },
  {
   "cell_type": "code",
   "execution_count": 5,
   "metadata": {
    "collapsed": true
   },
   "outputs": [],
   "source": [
    "fimo_f = \"../../misc/05__fimo/pool1_fimo_map.txt\"\n",
    "fimo_chip_f = \"../../misc/05__fimo/pool1_fimo_map.chip_intersected.txt\""
   ]
  },
  {
   "cell_type": "code",
   "execution_count": 6,
   "metadata": {
    "collapsed": true
   },
   "outputs": [],
   "source": [
    "fimo_cov_f = \"../../data/04__coverage/FIMO.coverage.new.txt\"\n",
    "fimo_chip_cov_f = \"../../data/04__coverage/FIMO.ChIPIntersect.coverage.new.txt\""
   ]
  },
  {
   "cell_type": "code",
   "execution_count": 7,
   "metadata": {
    "collapsed": true
   },
   "outputs": [],
   "source": [
    "tf_ts_f = \"../../data/04__coverage/TF_tissue_specificities.from_CAGE.txt\""
   ]
  },
  {
   "cell_type": "code",
   "execution_count": 8,
   "metadata": {
    "collapsed": true
   },
   "outputs": [],
   "source": [
    "cage_v_mpra_f = \"../../data/02__activs/POOL1__pMPRA1__CAGE_vs_MPRA_activs.txt\""
   ]
  },
  {
   "cell_type": "markdown",
   "metadata": {},
   "source": [
    "## 1. import data"
   ]
  },
  {
   "cell_type": "code",
   "execution_count": 9,
   "metadata": {},
   "outputs": [
    {
     "data": {
      "text/html": [
       "<div>\n",
       "<style>\n",
       "    .dataframe thead tr:only-child th {\n",
       "        text-align: right;\n",
       "    }\n",
       "\n",
       "    .dataframe thead th {\n",
       "        text-align: left;\n",
       "    }\n",
       "\n",
       "    .dataframe tbody tr th {\n",
       "        vertical-align: top;\n",
       "    }\n",
       "</style>\n",
       "<table border=\"1\" class=\"dataframe\">\n",
       "  <thead>\n",
       "    <tr style=\"text-align: right;\">\n",
       "      <th></th>\n",
       "      <th>motif</th>\n",
       "      <th>unique_id</th>\n",
       "      <th>start</th>\n",
       "      <th>end</th>\n",
       "      <th>strand</th>\n",
       "      <th>score</th>\n",
       "      <th>pval</th>\n",
       "      <th>qval</th>\n",
       "      <th>seq</th>\n",
       "    </tr>\n",
       "  </thead>\n",
       "  <tbody>\n",
       "    <tr>\n",
       "      <th>0</th>\n",
       "      <td>ZNF263</td>\n",
       "      <td>WILDTYPE_SNP_INDIV__Antisense.noflip.NA__chr9:...</td>\n",
       "      <td>60</td>\n",
       "      <td>80</td>\n",
       "      <td>-</td>\n",
       "      <td>29.2449</td>\n",
       "      <td>9.790000e-13</td>\n",
       "      <td>2.160000e-07</td>\n",
       "      <td>GGAGGAGGAGGAGGAGGGGGA</td>\n",
       "    </tr>\n",
       "    <tr>\n",
       "      <th>1</th>\n",
       "      <td>ZNF263</td>\n",
       "      <td>WILDTYPE_BUT_HAS_SNP__Antisense.noflip.NA__chr...</td>\n",
       "      <td>60</td>\n",
       "      <td>80</td>\n",
       "      <td>-</td>\n",
       "      <td>29.2449</td>\n",
       "      <td>9.790000e-13</td>\n",
       "      <td>2.160000e-07</td>\n",
       "      <td>GGAGGAGGAGGAGGAGGGGGA</td>\n",
       "    </tr>\n",
       "    <tr>\n",
       "      <th>2</th>\n",
       "      <td>ZNF263</td>\n",
       "      <td>WILDTYPE_BUT_HAS_SNP__Antisense.noflip.NA__chr...</td>\n",
       "      <td>57</td>\n",
       "      <td>77</td>\n",
       "      <td>-</td>\n",
       "      <td>29.0000</td>\n",
       "      <td>1.740000e-12</td>\n",
       "      <td>2.160000e-07</td>\n",
       "      <td>GGAGGAGGAGGAGGGGGAGGA</td>\n",
       "    </tr>\n",
       "    <tr>\n",
       "      <th>3</th>\n",
       "      <td>ZNF263</td>\n",
       "      <td>WILDTYPE_SNP_INDIV__Antisense.noflip.NA__chr9:...</td>\n",
       "      <td>57</td>\n",
       "      <td>77</td>\n",
       "      <td>-</td>\n",
       "      <td>29.0000</td>\n",
       "      <td>1.740000e-12</td>\n",
       "      <td>2.160000e-07</td>\n",
       "      <td>GGAGGAGGAGGAGGGGGAGGA</td>\n",
       "    </tr>\n",
       "    <tr>\n",
       "      <th>4</th>\n",
       "      <td>ZNF263</td>\n",
       "      <td>FLIPPED__Enhancer.flip.antisense__chr19:185263...</td>\n",
       "      <td>32</td>\n",
       "      <td>52</td>\n",
       "      <td>+</td>\n",
       "      <td>28.7347</td>\n",
       "      <td>2.680000e-12</td>\n",
       "      <td>2.160000e-07</td>\n",
       "      <td>GGAGGAGGAAGAGGAGGAGGG</td>\n",
       "    </tr>\n",
       "  </tbody>\n",
       "</table>\n",
       "</div>"
      ],
      "text/plain": [
       "    motif                                          unique_id  start  end  \\\n",
       "0  ZNF263  WILDTYPE_SNP_INDIV__Antisense.noflip.NA__chr9:...     60   80   \n",
       "1  ZNF263  WILDTYPE_BUT_HAS_SNP__Antisense.noflip.NA__chr...     60   80   \n",
       "2  ZNF263  WILDTYPE_BUT_HAS_SNP__Antisense.noflip.NA__chr...     57   77   \n",
       "3  ZNF263  WILDTYPE_SNP_INDIV__Antisense.noflip.NA__chr9:...     57   77   \n",
       "4  ZNF263  FLIPPED__Enhancer.flip.antisense__chr19:185263...     32   52   \n",
       "\n",
       "  strand    score          pval          qval                    seq  \n",
       "0      -  29.2449  9.790000e-13  2.160000e-07  GGAGGAGGAGGAGGAGGGGGA  \n",
       "1      -  29.2449  9.790000e-13  2.160000e-07  GGAGGAGGAGGAGGAGGGGGA  \n",
       "2      -  29.0000  1.740000e-12  2.160000e-07  GGAGGAGGAGGAGGGGGAGGA  \n",
       "3      -  29.0000  1.740000e-12  2.160000e-07  GGAGGAGGAGGAGGGGGAGGA  \n",
       "4      +  28.7347  2.680000e-12  2.160000e-07  GGAGGAGGAAGAGGAGGAGGG  "
      ]
     },
     "execution_count": 9,
     "metadata": {},
     "output_type": "execute_result"
    }
   ],
   "source": [
    "fimo = pd.read_table(fimo_f, sep=\"\\t\")\n",
    "fimo.columns = [\"motif\", \"unique_id\", \"start\", \"end\", \"strand\", \"score\", \"pval\", \"qval\", \"seq\"]\n",
    "fimo.head()"
   ]
  },
  {
   "cell_type": "code",
   "execution_count": 10,
   "metadata": {},
   "outputs": [
    {
     "data": {
      "text/html": [
       "<div>\n",
       "<style>\n",
       "    .dataframe thead tr:only-child th {\n",
       "        text-align: right;\n",
       "    }\n",
       "\n",
       "    .dataframe thead th {\n",
       "        text-align: left;\n",
       "    }\n",
       "\n",
       "    .dataframe tbody tr th {\n",
       "        vertical-align: top;\n",
       "    }\n",
       "</style>\n",
       "<table border=\"1\" class=\"dataframe\">\n",
       "  <thead>\n",
       "    <tr style=\"text-align: right;\">\n",
       "      <th></th>\n",
       "      <th>motif_chr</th>\n",
       "      <th>motif_start</th>\n",
       "      <th>motif_end</th>\n",
       "      <th>motif</th>\n",
       "      <th>motif_score</th>\n",
       "      <th>motif_strand</th>\n",
       "      <th>tss_chr</th>\n",
       "      <th>tss_start</th>\n",
       "      <th>tss_end</th>\n",
       "      <th>tss_info</th>\n",
       "      <th>tss_score</th>\n",
       "      <th>tss_strand</th>\n",
       "      <th>TSS_id</th>\n",
       "      <th>oligo_reg_x</th>\n",
       "      <th>oligo_reg_y</th>\n",
       "      <th>enhancer_id</th>\n",
       "      <th>oligo_reg</th>\n",
       "      <th>unique_id</th>\n",
       "    </tr>\n",
       "  </thead>\n",
       "  <tbody>\n",
       "    <tr>\n",
       "      <th>0</th>\n",
       "      <td>chr1</td>\n",
       "      <td>714091</td>\n",
       "      <td>714092</td>\n",
       "      <td>Atf1</td>\n",
       "      <td>11.24590</td>\n",
       "      <td>+</td>\n",
       "      <td>chr1</td>\n",
       "      <td>713977</td>\n",
       "      <td>714092</td>\n",
       "      <td>intergenic__p1@ENST00000428504,p1@uc001abo.2__...</td>\n",
       "      <td>0</td>\n",
       "      <td>-</td>\n",
       "      <td>chr1:713985..714054,-</td>\n",
       "      <td>chr1:713977..714091,-</td>\n",
       "      <td>NaN</td>\n",
       "      <td>NaN</td>\n",
       "      <td>chr1:713977..714091,-</td>\n",
       "      <td>WILDTYPE_BUT_HAS_SNP__Lincrna.flip.sense__chr1...</td>\n",
       "    </tr>\n",
       "    <tr>\n",
       "      <th>1</th>\n",
       "      <td>chr1</td>\n",
       "      <td>713979</td>\n",
       "      <td>713991</td>\n",
       "      <td>E2F1</td>\n",
       "      <td>11.96720</td>\n",
       "      <td>+</td>\n",
       "      <td>chr1</td>\n",
       "      <td>713977</td>\n",
       "      <td>714092</td>\n",
       "      <td>intergenic__p1@ENST00000428504,p1@uc001abo.2__...</td>\n",
       "      <td>0</td>\n",
       "      <td>-</td>\n",
       "      <td>chr1:713985..714054,-</td>\n",
       "      <td>chr1:713977..714091,-</td>\n",
       "      <td>NaN</td>\n",
       "      <td>NaN</td>\n",
       "      <td>chr1:713977..714091,-</td>\n",
       "      <td>WILDTYPE_BUT_HAS_SNP__Lincrna.flip.sense__chr1...</td>\n",
       "    </tr>\n",
       "    <tr>\n",
       "      <th>2</th>\n",
       "      <td>chr1</td>\n",
       "      <td>714063</td>\n",
       "      <td>714076</td>\n",
       "      <td>JUN</td>\n",
       "      <td>10.02040</td>\n",
       "      <td>+</td>\n",
       "      <td>chr1</td>\n",
       "      <td>713977</td>\n",
       "      <td>714092</td>\n",
       "      <td>intergenic__p1@ENST00000428504,p1@uc001abo.2__...</td>\n",
       "      <td>0</td>\n",
       "      <td>-</td>\n",
       "      <td>chr1:713985..714054,-</td>\n",
       "      <td>chr1:713977..714091,-</td>\n",
       "      <td>NaN</td>\n",
       "      <td>NaN</td>\n",
       "      <td>chr1:713977..714091,-</td>\n",
       "      <td>WILDTYPE_BUT_HAS_SNP__Lincrna.flip.sense__chr1...</td>\n",
       "    </tr>\n",
       "    <tr>\n",
       "      <th>3</th>\n",
       "      <td>chr1</td>\n",
       "      <td>713977</td>\n",
       "      <td>713988</td>\n",
       "      <td>YY1</td>\n",
       "      <td>9.98077</td>\n",
       "      <td>+</td>\n",
       "      <td>chr1</td>\n",
       "      <td>713977</td>\n",
       "      <td>714092</td>\n",
       "      <td>intergenic__p1@ENST00000428504,p1@uc001abo.2__...</td>\n",
       "      <td>0</td>\n",
       "      <td>-</td>\n",
       "      <td>chr1:713985..714054,-</td>\n",
       "      <td>chr1:713977..714091,-</td>\n",
       "      <td>NaN</td>\n",
       "      <td>NaN</td>\n",
       "      <td>chr1:713977..714091,-</td>\n",
       "      <td>WILDTYPE_BUT_HAS_SNP__Lincrna.flip.sense__chr1...</td>\n",
       "    </tr>\n",
       "    <tr>\n",
       "      <th>4</th>\n",
       "      <td>chr1</td>\n",
       "      <td>53704213</td>\n",
       "      <td>53704221</td>\n",
       "      <td>Atf1</td>\n",
       "      <td>11.24590</td>\n",
       "      <td>+</td>\n",
       "      <td>chr1</td>\n",
       "      <td>53704155</td>\n",
       "      <td>53704270</td>\n",
       "      <td>div_pc__p1@MAGOH__chr1:53704157..53704219,-</td>\n",
       "      <td>0</td>\n",
       "      <td>-</td>\n",
       "      <td>chr1:53704157..53704219,-</td>\n",
       "      <td>chr1:53704155..53704269,-</td>\n",
       "      <td>NaN</td>\n",
       "      <td>NaN</td>\n",
       "      <td>chr1:53704155..53704269,-</td>\n",
       "      <td>WILDTYPE__mrna.flip.sense__chr1:53704155..5370...</td>\n",
       "    </tr>\n",
       "  </tbody>\n",
       "</table>\n",
       "</div>"
      ],
      "text/plain": [
       "  motif_chr  motif_start  motif_end motif  motif_score motif_strand tss_chr  \\\n",
       "0      chr1       714091     714092  Atf1     11.24590            +    chr1   \n",
       "1      chr1       713979     713991  E2F1     11.96720            +    chr1   \n",
       "2      chr1       714063     714076   JUN     10.02040            +    chr1   \n",
       "3      chr1       713977     713988   YY1      9.98077            +    chr1   \n",
       "4      chr1     53704213   53704221  Atf1     11.24590            +    chr1   \n",
       "\n",
       "   tss_start   tss_end                                           tss_info  \\\n",
       "0     713977    714092  intergenic__p1@ENST00000428504,p1@uc001abo.2__...   \n",
       "1     713977    714092  intergenic__p1@ENST00000428504,p1@uc001abo.2__...   \n",
       "2     713977    714092  intergenic__p1@ENST00000428504,p1@uc001abo.2__...   \n",
       "3     713977    714092  intergenic__p1@ENST00000428504,p1@uc001abo.2__...   \n",
       "4   53704155  53704270        div_pc__p1@MAGOH__chr1:53704157..53704219,-   \n",
       "\n",
       "   tss_score tss_strand                     TSS_id                oligo_reg_x  \\\n",
       "0          0          -      chr1:713985..714054,-      chr1:713977..714091,-   \n",
       "1          0          -      chr1:713985..714054,-      chr1:713977..714091,-   \n",
       "2          0          -      chr1:713985..714054,-      chr1:713977..714091,-   \n",
       "3          0          -      chr1:713985..714054,-      chr1:713977..714091,-   \n",
       "4          0          -  chr1:53704157..53704219,-  chr1:53704155..53704269,-   \n",
       "\n",
       "  oligo_reg_y enhancer_id                  oligo_reg  \\\n",
       "0         NaN         NaN      chr1:713977..714091,-   \n",
       "1         NaN         NaN      chr1:713977..714091,-   \n",
       "2         NaN         NaN      chr1:713977..714091,-   \n",
       "3         NaN         NaN      chr1:713977..714091,-   \n",
       "4         NaN         NaN  chr1:53704155..53704269,-   \n",
       "\n",
       "                                           unique_id  \n",
       "0  WILDTYPE_BUT_HAS_SNP__Lincrna.flip.sense__chr1...  \n",
       "1  WILDTYPE_BUT_HAS_SNP__Lincrna.flip.sense__chr1...  \n",
       "2  WILDTYPE_BUT_HAS_SNP__Lincrna.flip.sense__chr1...  \n",
       "3  WILDTYPE_BUT_HAS_SNP__Lincrna.flip.sense__chr1...  \n",
       "4  WILDTYPE__mrna.flip.sense__chr1:53704155..5370...  "
      ]
     },
     "execution_count": 10,
     "metadata": {},
     "output_type": "execute_result"
    }
   ],
   "source": [
    "fimo_chip = pd.read_table(fimo_chip_f, sep=\"\\t\")\n",
    "fimo_chip.head()"
   ]
  },
  {
   "cell_type": "code",
   "execution_count": 11,
   "metadata": {
    "collapsed": true
   },
   "outputs": [],
   "source": [
    "index = pd.read_table(index_f, sep=\"\\t\")\n",
    "index_elem = index[[\"element\", \"oligo_type\", \"unique_id\", \"dupe_info\", \"SNP\", \"seq_name\"]]\n",
    "index_elem = index_elem.drop_duplicates()"
   ]
  },
  {
   "cell_type": "code",
   "execution_count": 12,
   "metadata": {
    "collapsed": true
   },
   "outputs": [],
   "source": [
    "hepg2_activ = pd.read_table(hepg2_activ_f, sep=\"\\t\")\n",
    "hela_activ = pd.read_table(hela_activ_f, sep=\"\\t\")\n",
    "k562_activ = pd.read_table(k562_activ_f, sep=\"\\t\")"
   ]
  },
  {
   "cell_type": "code",
   "execution_count": 13,
   "metadata": {
    "collapsed": true
   },
   "outputs": [],
   "source": [
    "hepg2_reps = [x for x in hepg2_activ.columns if \"rna\" in x]\n",
    "hela_reps = [x for x in hela_activ.columns if \"rna\" in x]\n",
    "k562_reps = [x for x in k562_activ.columns if \"rna\" in x]"
   ]
  },
  {
   "cell_type": "code",
   "execution_count": 14,
   "metadata": {},
   "outputs": [
    {
     "data": {
      "text/html": [
       "<div>\n",
       "<style>\n",
       "    .dataframe thead tr:only-child th {\n",
       "        text-align: right;\n",
       "    }\n",
       "\n",
       "    .dataframe thead th {\n",
       "        text-align: left;\n",
       "    }\n",
       "\n",
       "    .dataframe tbody tr th {\n",
       "        vertical-align: top;\n",
       "    }\n",
       "</style>\n",
       "<table border=\"1\" class=\"dataframe\">\n",
       "  <thead>\n",
       "    <tr style=\"text-align: right;\">\n",
       "      <th></th>\n",
       "      <th>unique_id</th>\n",
       "      <th>n_total_motifs</th>\n",
       "      <th>n_unique_motifs</th>\n",
       "      <th>max_cov</th>\n",
       "      <th>n_bp_cov</th>\n",
       "      <th>log_n_total_motifs</th>\n",
       "      <th>log_n_unique_motifs</th>\n",
       "      <th>log_max_cov</th>\n",
       "      <th>log_n_bp_cov</th>\n",
       "    </tr>\n",
       "  </thead>\n",
       "  <tbody>\n",
       "    <tr>\n",
       "      <th>0</th>\n",
       "      <td>WILDTYPE_BUT_HAS_SNP__Antisense.flip.sense__ch...</td>\n",
       "      <td>48</td>\n",
       "      <td>35</td>\n",
       "      <td>19</td>\n",
       "      <td>83</td>\n",
       "      <td>3.871201</td>\n",
       "      <td>3.555348</td>\n",
       "      <td>2.944439</td>\n",
       "      <td>4.418841</td>\n",
       "    </tr>\n",
       "    <tr>\n",
       "      <th>1</th>\n",
       "      <td>WILDTYPE_BUT_HAS_SNP__Antisense.flip.sense__ch...</td>\n",
       "      <td>37</td>\n",
       "      <td>29</td>\n",
       "      <td>16</td>\n",
       "      <td>84</td>\n",
       "      <td>3.610918</td>\n",
       "      <td>3.367296</td>\n",
       "      <td>2.772589</td>\n",
       "      <td>4.430817</td>\n",
       "    </tr>\n",
       "    <tr>\n",
       "      <th>2</th>\n",
       "      <td>WILDTYPE_BUT_HAS_SNP__Antisense.flip.sense__ch...</td>\n",
       "      <td>10</td>\n",
       "      <td>8</td>\n",
       "      <td>3</td>\n",
       "      <td>77</td>\n",
       "      <td>2.302585</td>\n",
       "      <td>2.079442</td>\n",
       "      <td>1.098612</td>\n",
       "      <td>4.343805</td>\n",
       "    </tr>\n",
       "    <tr>\n",
       "      <th>3</th>\n",
       "      <td>WILDTYPE_BUT_HAS_SNP__Antisense.flip.sense__ch...</td>\n",
       "      <td>12</td>\n",
       "      <td>8</td>\n",
       "      <td>5</td>\n",
       "      <td>54</td>\n",
       "      <td>2.484907</td>\n",
       "      <td>2.079442</td>\n",
       "      <td>1.609438</td>\n",
       "      <td>3.988984</td>\n",
       "    </tr>\n",
       "    <tr>\n",
       "      <th>4</th>\n",
       "      <td>WILDTYPE_BUT_HAS_SNP__Antisense.flip.sense__ch...</td>\n",
       "      <td>37</td>\n",
       "      <td>31</td>\n",
       "      <td>22</td>\n",
       "      <td>80</td>\n",
       "      <td>3.610918</td>\n",
       "      <td>3.433987</td>\n",
       "      <td>3.091042</td>\n",
       "      <td>4.382027</td>\n",
       "    </tr>\n",
       "  </tbody>\n",
       "</table>\n",
       "</div>"
      ],
      "text/plain": [
       "                                           unique_id  n_total_motifs  \\\n",
       "0  WILDTYPE_BUT_HAS_SNP__Antisense.flip.sense__ch...              48   \n",
       "1  WILDTYPE_BUT_HAS_SNP__Antisense.flip.sense__ch...              37   \n",
       "2  WILDTYPE_BUT_HAS_SNP__Antisense.flip.sense__ch...              10   \n",
       "3  WILDTYPE_BUT_HAS_SNP__Antisense.flip.sense__ch...              12   \n",
       "4  WILDTYPE_BUT_HAS_SNP__Antisense.flip.sense__ch...              37   \n",
       "\n",
       "   n_unique_motifs  max_cov  n_bp_cov  log_n_total_motifs  \\\n",
       "0               35       19        83            3.871201   \n",
       "1               29       16        84            3.610918   \n",
       "2                8        3        77            2.302585   \n",
       "3                8        5        54            2.484907   \n",
       "4               31       22        80            3.610918   \n",
       "\n",
       "   log_n_unique_motifs  log_max_cov  log_n_bp_cov  \n",
       "0             3.555348     2.944439      4.418841  \n",
       "1             3.367296     2.772589      4.430817  \n",
       "2             2.079442     1.098612      4.343805  \n",
       "3             2.079442     1.609438      3.988984  \n",
       "4             3.433987     3.091042      4.382027  "
      ]
     },
     "execution_count": 14,
     "metadata": {},
     "output_type": "execute_result"
    }
   ],
   "source": [
    "fimo_cov = pd.read_table(fimo_cov_f, sep=\"\\t\")\n",
    "fimo_cov = fimo_cov[[\"unique_id\", \"n_total_motifs\", \"n_unique_motifs\", \"max_cov\", \"n_bp_cov\",\n",
    "                     \"log_n_total_motifs\", \"log_n_unique_motifs\", \"log_max_cov\", \"log_n_bp_cov\"]]\n",
    "fimo_cov.head()"
   ]
  },
  {
   "cell_type": "code",
   "execution_count": 15,
   "metadata": {},
   "outputs": [
    {
     "data": {
      "text/html": [
       "<div>\n",
       "<style>\n",
       "    .dataframe thead tr:only-child th {\n",
       "        text-align: right;\n",
       "    }\n",
       "\n",
       "    .dataframe thead th {\n",
       "        text-align: left;\n",
       "    }\n",
       "\n",
       "    .dataframe tbody tr th {\n",
       "        vertical-align: top;\n",
       "    }\n",
       "</style>\n",
       "<table border=\"1\" class=\"dataframe\">\n",
       "  <thead>\n",
       "    <tr style=\"text-align: right;\">\n",
       "      <th></th>\n",
       "      <th>unique_id</th>\n",
       "      <th>n_total_motifs</th>\n",
       "      <th>n_unique_motifs</th>\n",
       "      <th>max_cov</th>\n",
       "      <th>n_bp_cov</th>\n",
       "      <th>log_n_total_motifs</th>\n",
       "      <th>log_n_unique_motifs</th>\n",
       "      <th>log_max_cov</th>\n",
       "      <th>log_n_bp_cov</th>\n",
       "    </tr>\n",
       "  </thead>\n",
       "  <tbody>\n",
       "    <tr>\n",
       "      <th>0</th>\n",
       "      <td>WILDTYPE_BUT_HAS_SNP__Antisense.flip.sense__ch...</td>\n",
       "      <td>5</td>\n",
       "      <td>5</td>\n",
       "      <td>2</td>\n",
       "      <td>34</td>\n",
       "      <td>1.609438</td>\n",
       "      <td>1.609438</td>\n",
       "      <td>0.693147</td>\n",
       "      <td>3.526361</td>\n",
       "    </tr>\n",
       "    <tr>\n",
       "      <th>1</th>\n",
       "      <td>WILDTYPE_BUT_HAS_SNP__Antisense.flip.sense__ch...</td>\n",
       "      <td>5</td>\n",
       "      <td>5</td>\n",
       "      <td>3</td>\n",
       "      <td>57</td>\n",
       "      <td>1.609438</td>\n",
       "      <td>1.609438</td>\n",
       "      <td>1.098612</td>\n",
       "      <td>4.043051</td>\n",
       "    </tr>\n",
       "    <tr>\n",
       "      <th>2</th>\n",
       "      <td>WILDTYPE_BUT_HAS_SNP__Antisense.flip.sense__ch...</td>\n",
       "      <td>2</td>\n",
       "      <td>2</td>\n",
       "      <td>1</td>\n",
       "      <td>27</td>\n",
       "      <td>0.693147</td>\n",
       "      <td>0.693147</td>\n",
       "      <td>0.000000</td>\n",
       "      <td>3.295837</td>\n",
       "    </tr>\n",
       "    <tr>\n",
       "      <th>3</th>\n",
       "      <td>WILDTYPE_BUT_HAS_SNP__Antisense.flip.sense__ch...</td>\n",
       "      <td>7</td>\n",
       "      <td>6</td>\n",
       "      <td>2</td>\n",
       "      <td>65</td>\n",
       "      <td>1.945910</td>\n",
       "      <td>1.791759</td>\n",
       "      <td>0.693147</td>\n",
       "      <td>4.174387</td>\n",
       "    </tr>\n",
       "    <tr>\n",
       "      <th>4</th>\n",
       "      <td>WILDTYPE_BUT_HAS_SNP__Antisense.flip.sense__ch...</td>\n",
       "      <td>7</td>\n",
       "      <td>7</td>\n",
       "      <td>5</td>\n",
       "      <td>27</td>\n",
       "      <td>1.945910</td>\n",
       "      <td>1.945910</td>\n",
       "      <td>1.609438</td>\n",
       "      <td>3.295837</td>\n",
       "    </tr>\n",
       "  </tbody>\n",
       "</table>\n",
       "</div>"
      ],
      "text/plain": [
       "                                           unique_id  n_total_motifs  \\\n",
       "0  WILDTYPE_BUT_HAS_SNP__Antisense.flip.sense__ch...               5   \n",
       "1  WILDTYPE_BUT_HAS_SNP__Antisense.flip.sense__ch...               5   \n",
       "2  WILDTYPE_BUT_HAS_SNP__Antisense.flip.sense__ch...               2   \n",
       "3  WILDTYPE_BUT_HAS_SNP__Antisense.flip.sense__ch...               7   \n",
       "4  WILDTYPE_BUT_HAS_SNP__Antisense.flip.sense__ch...               7   \n",
       "\n",
       "   n_unique_motifs  max_cov  n_bp_cov  log_n_total_motifs  \\\n",
       "0                5        2        34            1.609438   \n",
       "1                5        3        57            1.609438   \n",
       "2                2        1        27            0.693147   \n",
       "3                6        2        65            1.945910   \n",
       "4                7        5        27            1.945910   \n",
       "\n",
       "   log_n_unique_motifs  log_max_cov  log_n_bp_cov  \n",
       "0             1.609438     0.693147      3.526361  \n",
       "1             1.609438     1.098612      4.043051  \n",
       "2             0.693147     0.000000      3.295837  \n",
       "3             1.791759     0.693147      4.174387  \n",
       "4             1.945910     1.609438      3.295837  "
      ]
     },
     "execution_count": 15,
     "metadata": {},
     "output_type": "execute_result"
    }
   ],
   "source": [
    "fimo_chip_cov = pd.read_table(fimo_chip_cov_f, sep=\"\\t\")\n",
    "fimo_chip_cov = fimo_chip_cov[[\"unique_id\", \"n_total_motifs\", \"n_unique_motifs\", \"max_cov\", \"n_bp_cov\",\n",
    "                               \"log_n_total_motifs\", \"log_n_unique_motifs\", \"log_max_cov\", \"log_n_bp_cov\"]]\n",
    "fimo_chip_cov.head()"
   ]
  },
  {
   "cell_type": "code",
   "execution_count": 16,
   "metadata": {},
   "outputs": [
    {
     "data": {
      "text/html": [
       "<div>\n",
       "<style>\n",
       "    .dataframe thead tr:only-child th {\n",
       "        text-align: right;\n",
       "    }\n",
       "\n",
       "    .dataframe thead th {\n",
       "        text-align: left;\n",
       "    }\n",
       "\n",
       "    .dataframe tbody tr th {\n",
       "        vertical-align: top;\n",
       "    }\n",
       "</style>\n",
       "<table border=\"1\" class=\"dataframe\">\n",
       "  <thead>\n",
       "    <tr style=\"text-align: right;\">\n",
       "      <th></th>\n",
       "      <th>tf</th>\n",
       "      <th>tissue_sp_all</th>\n",
       "      <th>tissue_sp_3</th>\n",
       "      <th>K562_exp</th>\n",
       "      <th>HeLa_exp</th>\n",
       "      <th>HepG2_exp</th>\n",
       "    </tr>\n",
       "  </thead>\n",
       "  <tbody>\n",
       "    <tr>\n",
       "      <th>0</th>\n",
       "      <td>PAX7</td>\n",
       "      <td>0.990032</td>\n",
       "      <td>NaN</td>\n",
       "      <td>0.000000</td>\n",
       "      <td>0.000000</td>\n",
       "      <td>0.000000</td>\n",
       "    </tr>\n",
       "    <tr>\n",
       "      <th>1</th>\n",
       "      <td>HNF1B</td>\n",
       "      <td>0.979589</td>\n",
       "      <td>0.666667</td>\n",
       "      <td>0.000000</td>\n",
       "      <td>0.000000</td>\n",
       "      <td>5.889702</td>\n",
       "    </tr>\n",
       "    <tr>\n",
       "      <th>2</th>\n",
       "      <td>LIN54</td>\n",
       "      <td>0.794230</td>\n",
       "      <td>0.412303</td>\n",
       "      <td>17.857032</td>\n",
       "      <td>18.290625</td>\n",
       "      <td>47.369957</td>\n",
       "    </tr>\n",
       "    <tr>\n",
       "      <th>3</th>\n",
       "      <td>IRF3</td>\n",
       "      <td>0.719361</td>\n",
       "      <td>0.089475</td>\n",
       "      <td>23.938784</td>\n",
       "      <td>29.128210</td>\n",
       "      <td>26.498907</td>\n",
       "    </tr>\n",
       "    <tr>\n",
       "      <th>4</th>\n",
       "      <td>MEF2C</td>\n",
       "      <td>0.978378</td>\n",
       "      <td>0.665278</td>\n",
       "      <td>112.089652</td>\n",
       "      <td>0.335948</td>\n",
       "      <td>0.131145</td>\n",
       "    </tr>\n",
       "  </tbody>\n",
       "</table>\n",
       "</div>"
      ],
      "text/plain": [
       "      tf  tissue_sp_all  tissue_sp_3    K562_exp   HeLa_exp  HepG2_exp\n",
       "0   PAX7       0.990032          NaN    0.000000   0.000000   0.000000\n",
       "1  HNF1B       0.979589     0.666667    0.000000   0.000000   5.889702\n",
       "2  LIN54       0.794230     0.412303   17.857032  18.290625  47.369957\n",
       "3   IRF3       0.719361     0.089475   23.938784  29.128210  26.498907\n",
       "4  MEF2C       0.978378     0.665278  112.089652   0.335948   0.131145"
      ]
     },
     "execution_count": 16,
     "metadata": {},
     "output_type": "execute_result"
    }
   ],
   "source": [
    "tf_ts = pd.read_table(tf_ts_f, sep=\"\\t\")\n",
    "tf_ts.head()"
   ]
  },
  {
   "cell_type": "code",
   "execution_count": 17,
   "metadata": {},
   "outputs": [
    {
     "data": {
      "text/html": [
       "<div>\n",
       "<style>\n",
       "    .dataframe thead tr:only-child th {\n",
       "        text-align: right;\n",
       "    }\n",
       "\n",
       "    .dataframe thead th {\n",
       "        text-align: left;\n",
       "    }\n",
       "\n",
       "    .dataframe tbody tr th {\n",
       "        vertical-align: top;\n",
       "    }\n",
       "</style>\n",
       "<table border=\"1\" class=\"dataframe\">\n",
       "  <thead>\n",
       "    <tr style=\"text-align: right;\">\n",
       "      <th></th>\n",
       "      <th>unique_id</th>\n",
       "      <th>PromType2</th>\n",
       "      <th>cage_activ</th>\n",
       "      <th>cage_ts</th>\n",
       "      <th>mpra_activ</th>\n",
       "      <th>mpra_ts</th>\n",
       "    </tr>\n",
       "  </thead>\n",
       "  <tbody>\n",
       "    <tr>\n",
       "      <th>0</th>\n",
       "      <td>WILDTYPE_BUT_HAS_SNP__Antisense.flip.sense__ch...</td>\n",
       "      <td>intergenic</td>\n",
       "      <td>1.810702</td>\n",
       "      <td>0.665068</td>\n",
       "      <td>1.400056</td>\n",
       "      <td>0.142230</td>\n",
       "    </tr>\n",
       "    <tr>\n",
       "      <th>1</th>\n",
       "      <td>WILDTYPE_BUT_HAS_SNP__Antisense.flip.sense__ch...</td>\n",
       "      <td>div_lnc</td>\n",
       "      <td>0.869834</td>\n",
       "      <td>0.151243</td>\n",
       "      <td>-0.054568</td>\n",
       "      <td>0.214384</td>\n",
       "    </tr>\n",
       "    <tr>\n",
       "      <th>2</th>\n",
       "      <td>WILDTYPE_BUT_HAS_SNP__Antisense.flip.sense__ch...</td>\n",
       "      <td>intergenic</td>\n",
       "      <td>2.898407</td>\n",
       "      <td>0.158191</td>\n",
       "      <td>1.378850</td>\n",
       "      <td>0.118103</td>\n",
       "    </tr>\n",
       "    <tr>\n",
       "      <th>3</th>\n",
       "      <td>WILDTYPE_BUT_HAS_SNP__Antisense.flip.sense__ch...</td>\n",
       "      <td>intergenic</td>\n",
       "      <td>2.161890</td>\n",
       "      <td>0.140302</td>\n",
       "      <td>0.130581</td>\n",
       "      <td>0.269957</td>\n",
       "    </tr>\n",
       "    <tr>\n",
       "      <th>4</th>\n",
       "      <td>WILDTYPE_BUT_HAS_SNP__Antisense.flip.sense__ch...</td>\n",
       "      <td>div_lnc</td>\n",
       "      <td>1.070710</td>\n",
       "      <td>0.292028</td>\n",
       "      <td>3.046316</td>\n",
       "      <td>0.085757</td>\n",
       "    </tr>\n",
       "  </tbody>\n",
       "</table>\n",
       "</div>"
      ],
      "text/plain": [
       "                                           unique_id   PromType2  cage_activ  \\\n",
       "0  WILDTYPE_BUT_HAS_SNP__Antisense.flip.sense__ch...  intergenic    1.810702   \n",
       "1  WILDTYPE_BUT_HAS_SNP__Antisense.flip.sense__ch...     div_lnc    0.869834   \n",
       "2  WILDTYPE_BUT_HAS_SNP__Antisense.flip.sense__ch...  intergenic    2.898407   \n",
       "3  WILDTYPE_BUT_HAS_SNP__Antisense.flip.sense__ch...  intergenic    2.161890   \n",
       "4  WILDTYPE_BUT_HAS_SNP__Antisense.flip.sense__ch...     div_lnc    1.070710   \n",
       "\n",
       "    cage_ts  mpra_activ   mpra_ts  \n",
       "0  0.665068    1.400056  0.142230  \n",
       "1  0.151243   -0.054568  0.214384  \n",
       "2  0.158191    1.378850  0.118103  \n",
       "3  0.140302    0.130581  0.269957  \n",
       "4  0.292028    3.046316  0.085757  "
      ]
     },
     "execution_count": 17,
     "metadata": {},
     "output_type": "execute_result"
    }
   ],
   "source": [
    "cage_v_mpra = pd.read_table(cage_v_mpra_f, sep=\"\\t\")\n",
    "cage_v_mpra.head()"
   ]
  },
  {
   "cell_type": "markdown",
   "metadata": {},
   "source": [
    "## 2. find avg specificity per tile"
   ]
  },
  {
   "cell_type": "code",
   "execution_count": 18,
   "metadata": {},
   "outputs": [
    {
     "data": {
      "text/html": [
       "<div>\n",
       "<style>\n",
       "    .dataframe thead tr:only-child th {\n",
       "        text-align: right;\n",
       "    }\n",
       "\n",
       "    .dataframe thead th {\n",
       "        text-align: left;\n",
       "    }\n",
       "\n",
       "    .dataframe tbody tr th {\n",
       "        vertical-align: top;\n",
       "    }\n",
       "</style>\n",
       "<table border=\"1\" class=\"dataframe\">\n",
       "  <thead>\n",
       "    <tr style=\"text-align: right;\">\n",
       "      <th></th>\n",
       "      <th>motif</th>\n",
       "      <th>unique_id</th>\n",
       "      <th>start</th>\n",
       "      <th>end</th>\n",
       "      <th>strand</th>\n",
       "      <th>score</th>\n",
       "      <th>pval</th>\n",
       "      <th>qval</th>\n",
       "      <th>seq</th>\n",
       "      <th>tf</th>\n",
       "      <th>tissue_sp_all</th>\n",
       "      <th>tissue_sp_3</th>\n",
       "      <th>K562_exp</th>\n",
       "      <th>HeLa_exp</th>\n",
       "      <th>HepG2_exp</th>\n",
       "    </tr>\n",
       "  </thead>\n",
       "  <tbody>\n",
       "    <tr>\n",
       "      <th>0</th>\n",
       "      <td>ZNF263</td>\n",
       "      <td>WILDTYPE_SNP_INDIV__Antisense.noflip.NA__chr9:...</td>\n",
       "      <td>60</td>\n",
       "      <td>80</td>\n",
       "      <td>-</td>\n",
       "      <td>29.2449</td>\n",
       "      <td>9.790000e-13</td>\n",
       "      <td>2.160000e-07</td>\n",
       "      <td>GGAGGAGGAGGAGGAGGGGGA</td>\n",
       "      <td>ZNF263</td>\n",
       "      <td>0.791717</td>\n",
       "      <td>0.196541</td>\n",
       "      <td>9.773098</td>\n",
       "      <td>15.522255</td>\n",
       "      <td>12.119118</td>\n",
       "    </tr>\n",
       "    <tr>\n",
       "      <th>1</th>\n",
       "      <td>ZNF263</td>\n",
       "      <td>WILDTYPE_BUT_HAS_SNP__Antisense.noflip.NA__chr...</td>\n",
       "      <td>60</td>\n",
       "      <td>80</td>\n",
       "      <td>-</td>\n",
       "      <td>29.2449</td>\n",
       "      <td>9.790000e-13</td>\n",
       "      <td>2.160000e-07</td>\n",
       "      <td>GGAGGAGGAGGAGGAGGGGGA</td>\n",
       "      <td>ZNF263</td>\n",
       "      <td>0.791717</td>\n",
       "      <td>0.196541</td>\n",
       "      <td>9.773098</td>\n",
       "      <td>15.522255</td>\n",
       "      <td>12.119118</td>\n",
       "    </tr>\n",
       "    <tr>\n",
       "      <th>2</th>\n",
       "      <td>ZNF263</td>\n",
       "      <td>WILDTYPE_BUT_HAS_SNP__Antisense.noflip.NA__chr...</td>\n",
       "      <td>57</td>\n",
       "      <td>77</td>\n",
       "      <td>-</td>\n",
       "      <td>29.0000</td>\n",
       "      <td>1.740000e-12</td>\n",
       "      <td>2.160000e-07</td>\n",
       "      <td>GGAGGAGGAGGAGGGGGAGGA</td>\n",
       "      <td>ZNF263</td>\n",
       "      <td>0.791717</td>\n",
       "      <td>0.196541</td>\n",
       "      <td>9.773098</td>\n",
       "      <td>15.522255</td>\n",
       "      <td>12.119118</td>\n",
       "    </tr>\n",
       "    <tr>\n",
       "      <th>3</th>\n",
       "      <td>ZNF263</td>\n",
       "      <td>WILDTYPE_SNP_INDIV__Antisense.noflip.NA__chr9:...</td>\n",
       "      <td>57</td>\n",
       "      <td>77</td>\n",
       "      <td>-</td>\n",
       "      <td>29.0000</td>\n",
       "      <td>1.740000e-12</td>\n",
       "      <td>2.160000e-07</td>\n",
       "      <td>GGAGGAGGAGGAGGGGGAGGA</td>\n",
       "      <td>ZNF263</td>\n",
       "      <td>0.791717</td>\n",
       "      <td>0.196541</td>\n",
       "      <td>9.773098</td>\n",
       "      <td>15.522255</td>\n",
       "      <td>12.119118</td>\n",
       "    </tr>\n",
       "    <tr>\n",
       "      <th>4</th>\n",
       "      <td>ZNF263</td>\n",
       "      <td>FLIPPED__Enhancer.flip.antisense__chr19:185263...</td>\n",
       "      <td>32</td>\n",
       "      <td>52</td>\n",
       "      <td>+</td>\n",
       "      <td>28.7347</td>\n",
       "      <td>2.680000e-12</td>\n",
       "      <td>2.160000e-07</td>\n",
       "      <td>GGAGGAGGAAGAGGAGGAGGG</td>\n",
       "      <td>ZNF263</td>\n",
       "      <td>0.791717</td>\n",
       "      <td>0.196541</td>\n",
       "      <td>9.773098</td>\n",
       "      <td>15.522255</td>\n",
       "      <td>12.119118</td>\n",
       "    </tr>\n",
       "  </tbody>\n",
       "</table>\n",
       "</div>"
      ],
      "text/plain": [
       "    motif                                          unique_id  start  end  \\\n",
       "0  ZNF263  WILDTYPE_SNP_INDIV__Antisense.noflip.NA__chr9:...     60   80   \n",
       "1  ZNF263  WILDTYPE_BUT_HAS_SNP__Antisense.noflip.NA__chr...     60   80   \n",
       "2  ZNF263  WILDTYPE_BUT_HAS_SNP__Antisense.noflip.NA__chr...     57   77   \n",
       "3  ZNF263  WILDTYPE_SNP_INDIV__Antisense.noflip.NA__chr9:...     57   77   \n",
       "4  ZNF263  FLIPPED__Enhancer.flip.antisense__chr19:185263...     32   52   \n",
       "\n",
       "  strand    score          pval          qval                    seq      tf  \\\n",
       "0      -  29.2449  9.790000e-13  2.160000e-07  GGAGGAGGAGGAGGAGGGGGA  ZNF263   \n",
       "1      -  29.2449  9.790000e-13  2.160000e-07  GGAGGAGGAGGAGGAGGGGGA  ZNF263   \n",
       "2      -  29.0000  1.740000e-12  2.160000e-07  GGAGGAGGAGGAGGGGGAGGA  ZNF263   \n",
       "3      -  29.0000  1.740000e-12  2.160000e-07  GGAGGAGGAGGAGGGGGAGGA  ZNF263   \n",
       "4      +  28.7347  2.680000e-12  2.160000e-07  GGAGGAGGAAGAGGAGGAGGG  ZNF263   \n",
       "\n",
       "   tissue_sp_all  tissue_sp_3  K562_exp   HeLa_exp  HepG2_exp  \n",
       "0       0.791717     0.196541  9.773098  15.522255  12.119118  \n",
       "1       0.791717     0.196541  9.773098  15.522255  12.119118  \n",
       "2       0.791717     0.196541  9.773098  15.522255  12.119118  \n",
       "3       0.791717     0.196541  9.773098  15.522255  12.119118  \n",
       "4       0.791717     0.196541  9.773098  15.522255  12.119118  "
      ]
     },
     "execution_count": 18,
     "metadata": {},
     "output_type": "execute_result"
    }
   ],
   "source": [
    "fimo[\"motif\"] = fimo[\"motif\"].str.upper()\n",
    "fimo = fimo.merge(tf_ts, left_on=\"motif\", right_on=\"tf\", how=\"left\")\n",
    "fimo.head()"
   ]
  },
  {
   "cell_type": "code",
   "execution_count": 19,
   "metadata": {},
   "outputs": [
    {
     "data": {
      "text/html": [
       "<div>\n",
       "<style>\n",
       "    .dataframe thead tr:only-child th {\n",
       "        text-align: right;\n",
       "    }\n",
       "\n",
       "    .dataframe thead th {\n",
       "        text-align: left;\n",
       "    }\n",
       "\n",
       "    .dataframe tbody tr th {\n",
       "        vertical-align: top;\n",
       "    }\n",
       "</style>\n",
       "<table border=\"1\" class=\"dataframe\">\n",
       "  <thead>\n",
       "    <tr style=\"text-align: right;\">\n",
       "      <th></th>\n",
       "      <th>motif_chr</th>\n",
       "      <th>motif_start</th>\n",
       "      <th>motif_end</th>\n",
       "      <th>motif</th>\n",
       "      <th>motif_score</th>\n",
       "      <th>motif_strand</th>\n",
       "      <th>tss_chr</th>\n",
       "      <th>tss_start</th>\n",
       "      <th>tss_end</th>\n",
       "      <th>tss_info</th>\n",
       "      <th>...</th>\n",
       "      <th>oligo_reg_y</th>\n",
       "      <th>enhancer_id</th>\n",
       "      <th>oligo_reg</th>\n",
       "      <th>unique_id</th>\n",
       "      <th>tf</th>\n",
       "      <th>tissue_sp_all</th>\n",
       "      <th>tissue_sp_3</th>\n",
       "      <th>K562_exp</th>\n",
       "      <th>HeLa_exp</th>\n",
       "      <th>HepG2_exp</th>\n",
       "    </tr>\n",
       "  </thead>\n",
       "  <tbody>\n",
       "    <tr>\n",
       "      <th>0</th>\n",
       "      <td>chr1</td>\n",
       "      <td>714091</td>\n",
       "      <td>714092</td>\n",
       "      <td>ATF1</td>\n",
       "      <td>11.24590</td>\n",
       "      <td>+</td>\n",
       "      <td>chr1</td>\n",
       "      <td>713977</td>\n",
       "      <td>714092</td>\n",
       "      <td>intergenic__p1@ENST00000428504,p1@uc001abo.2__...</td>\n",
       "      <td>...</td>\n",
       "      <td>NaN</td>\n",
       "      <td>NaN</td>\n",
       "      <td>chr1:713977..714091,-</td>\n",
       "      <td>WILDTYPE_BUT_HAS_SNP__Lincrna.flip.sense__chr1...</td>\n",
       "      <td>ATF1</td>\n",
       "      <td>0.722831</td>\n",
       "      <td>0.304699</td>\n",
       "      <td>46.204331</td>\n",
       "      <td>66.441018</td>\n",
       "      <td>25.944232</td>\n",
       "    </tr>\n",
       "    <tr>\n",
       "      <th>1</th>\n",
       "      <td>chr1</td>\n",
       "      <td>713979</td>\n",
       "      <td>713991</td>\n",
       "      <td>E2F1</td>\n",
       "      <td>11.96720</td>\n",
       "      <td>+</td>\n",
       "      <td>chr1</td>\n",
       "      <td>713977</td>\n",
       "      <td>714092</td>\n",
       "      <td>intergenic__p1@ENST00000428504,p1@uc001abo.2__...</td>\n",
       "      <td>...</td>\n",
       "      <td>NaN</td>\n",
       "      <td>NaN</td>\n",
       "      <td>chr1:713977..714091,-</td>\n",
       "      <td>WILDTYPE_BUT_HAS_SNP__Lincrna.flip.sense__chr1...</td>\n",
       "      <td>E2F1</td>\n",
       "      <td>0.886909</td>\n",
       "      <td>0.325681</td>\n",
       "      <td>8.734665</td>\n",
       "      <td>48.370651</td>\n",
       "      <td>40.746397</td>\n",
       "    </tr>\n",
       "    <tr>\n",
       "      <th>2</th>\n",
       "      <td>chr1</td>\n",
       "      <td>714063</td>\n",
       "      <td>714076</td>\n",
       "      <td>JUN</td>\n",
       "      <td>10.02040</td>\n",
       "      <td>+</td>\n",
       "      <td>chr1</td>\n",
       "      <td>713977</td>\n",
       "      <td>714092</td>\n",
       "      <td>intergenic__p1@ENST00000428504,p1@uc001abo.2__...</td>\n",
       "      <td>...</td>\n",
       "      <td>NaN</td>\n",
       "      <td>NaN</td>\n",
       "      <td>chr1:713977..714091,-</td>\n",
       "      <td>WILDTYPE_BUT_HAS_SNP__Lincrna.flip.sense__chr1...</td>\n",
       "      <td>JUN</td>\n",
       "      <td>0.945275</td>\n",
       "      <td>0.442650</td>\n",
       "      <td>6.565028</td>\n",
       "      <td>6.670227</td>\n",
       "      <td>19.693893</td>\n",
       "    </tr>\n",
       "    <tr>\n",
       "      <th>3</th>\n",
       "      <td>chr1</td>\n",
       "      <td>713977</td>\n",
       "      <td>713988</td>\n",
       "      <td>YY1</td>\n",
       "      <td>9.98077</td>\n",
       "      <td>+</td>\n",
       "      <td>chr1</td>\n",
       "      <td>713977</td>\n",
       "      <td>714092</td>\n",
       "      <td>intergenic__p1@ENST00000428504,p1@uc001abo.2__...</td>\n",
       "      <td>...</td>\n",
       "      <td>NaN</td>\n",
       "      <td>NaN</td>\n",
       "      <td>chr1:713977..714091,-</td>\n",
       "      <td>WILDTYPE_BUT_HAS_SNP__Lincrna.flip.sense__chr1...</td>\n",
       "      <td>YY1</td>\n",
       "      <td>0.659442</td>\n",
       "      <td>0.144840</td>\n",
       "      <td>55.047128</td>\n",
       "      <td>73.832986</td>\n",
       "      <td>60.536861</td>\n",
       "    </tr>\n",
       "    <tr>\n",
       "      <th>4</th>\n",
       "      <td>chr1</td>\n",
       "      <td>53704213</td>\n",
       "      <td>53704221</td>\n",
       "      <td>ATF1</td>\n",
       "      <td>11.24590</td>\n",
       "      <td>+</td>\n",
       "      <td>chr1</td>\n",
       "      <td>53704155</td>\n",
       "      <td>53704270</td>\n",
       "      <td>div_pc__p1@MAGOH__chr1:53704157..53704219,-</td>\n",
       "      <td>...</td>\n",
       "      <td>NaN</td>\n",
       "      <td>NaN</td>\n",
       "      <td>chr1:53704155..53704269,-</td>\n",
       "      <td>WILDTYPE__mrna.flip.sense__chr1:53704155..5370...</td>\n",
       "      <td>ATF1</td>\n",
       "      <td>0.722831</td>\n",
       "      <td>0.304699</td>\n",
       "      <td>46.204331</td>\n",
       "      <td>66.441018</td>\n",
       "      <td>25.944232</td>\n",
       "    </tr>\n",
       "  </tbody>\n",
       "</table>\n",
       "<p>5 rows × 24 columns</p>\n",
       "</div>"
      ],
      "text/plain": [
       "  motif_chr  motif_start  motif_end motif  motif_score motif_strand tss_chr  \\\n",
       "0      chr1       714091     714092  ATF1     11.24590            +    chr1   \n",
       "1      chr1       713979     713991  E2F1     11.96720            +    chr1   \n",
       "2      chr1       714063     714076   JUN     10.02040            +    chr1   \n",
       "3      chr1       713977     713988   YY1      9.98077            +    chr1   \n",
       "4      chr1     53704213   53704221  ATF1     11.24590            +    chr1   \n",
       "\n",
       "   tss_start   tss_end                                           tss_info  \\\n",
       "0     713977    714092  intergenic__p1@ENST00000428504,p1@uc001abo.2__...   \n",
       "1     713977    714092  intergenic__p1@ENST00000428504,p1@uc001abo.2__...   \n",
       "2     713977    714092  intergenic__p1@ENST00000428504,p1@uc001abo.2__...   \n",
       "3     713977    714092  intergenic__p1@ENST00000428504,p1@uc001abo.2__...   \n",
       "4   53704155  53704270        div_pc__p1@MAGOH__chr1:53704157..53704219,-   \n",
       "\n",
       "     ...      oligo_reg_y enhancer_id                  oligo_reg  \\\n",
       "0    ...              NaN         NaN      chr1:713977..714091,-   \n",
       "1    ...              NaN         NaN      chr1:713977..714091,-   \n",
       "2    ...              NaN         NaN      chr1:713977..714091,-   \n",
       "3    ...              NaN         NaN      chr1:713977..714091,-   \n",
       "4    ...              NaN         NaN  chr1:53704155..53704269,-   \n",
       "\n",
       "                                           unique_id    tf tissue_sp_all  \\\n",
       "0  WILDTYPE_BUT_HAS_SNP__Lincrna.flip.sense__chr1...  ATF1      0.722831   \n",
       "1  WILDTYPE_BUT_HAS_SNP__Lincrna.flip.sense__chr1...  E2F1      0.886909   \n",
       "2  WILDTYPE_BUT_HAS_SNP__Lincrna.flip.sense__chr1...   JUN      0.945275   \n",
       "3  WILDTYPE_BUT_HAS_SNP__Lincrna.flip.sense__chr1...   YY1      0.659442   \n",
       "4  WILDTYPE__mrna.flip.sense__chr1:53704155..5370...  ATF1      0.722831   \n",
       "\n",
       "  tissue_sp_3   K562_exp   HeLa_exp  HepG2_exp  \n",
       "0    0.304699  46.204331  66.441018  25.944232  \n",
       "1    0.325681   8.734665  48.370651  40.746397  \n",
       "2    0.442650   6.565028   6.670227  19.693893  \n",
       "3    0.144840  55.047128  73.832986  60.536861  \n",
       "4    0.304699  46.204331  66.441018  25.944232  \n",
       "\n",
       "[5 rows x 24 columns]"
      ]
     },
     "execution_count": 19,
     "metadata": {},
     "output_type": "execute_result"
    }
   ],
   "source": [
    "fimo_chip[\"motif\"] = fimo_chip[\"motif\"].str.upper()\n",
    "fimo_chip = fimo_chip.merge(tf_ts, left_on=\"motif\", right_on=\"tf\", how=\"left\")\n",
    "fimo_chip.head()"
   ]
  },
  {
   "cell_type": "code",
   "execution_count": 20,
   "metadata": {},
   "outputs": [
    {
     "data": {
      "text/plain": [
       "121996"
      ]
     },
     "execution_count": 20,
     "metadata": {},
     "output_type": "execute_result"
    }
   ],
   "source": [
    "len(fimo)"
   ]
  },
  {
   "cell_type": "code",
   "execution_count": 21,
   "metadata": {},
   "outputs": [
    {
     "data": {
      "text/plain": [
       "3346"
      ]
     },
     "execution_count": 21,
     "metadata": {},
     "output_type": "execute_result"
    }
   ],
   "source": [
    "len(fimo_chip)"
   ]
  },
  {
   "cell_type": "code",
   "execution_count": 22,
   "metadata": {},
   "outputs": [
    {
     "data": {
      "text/plain": [
       "95675"
      ]
     },
     "execution_count": 22,
     "metadata": {},
     "output_type": "execute_result"
    }
   ],
   "source": [
    "fimo_nonan = fimo[~pd.isnull(fimo[\"tissue_sp_3\"])]\n",
    "len(fimo_nonan)"
   ]
  },
  {
   "cell_type": "code",
   "execution_count": 23,
   "metadata": {},
   "outputs": [
    {
     "data": {
      "text/plain": [
       "3290"
      ]
     },
     "execution_count": 23,
     "metadata": {},
     "output_type": "execute_result"
    }
   ],
   "source": [
    "fimo_chip_nonan = fimo_chip[~pd.isnull(fimo_chip[\"tissue_sp_3\"])]\n",
    "len(fimo_chip_nonan)"
   ]
  },
  {
   "cell_type": "code",
   "execution_count": 24,
   "metadata": {},
   "outputs": [
    {
     "data": {
      "text/plain": [
       "68981"
      ]
     },
     "execution_count": 24,
     "metadata": {},
     "output_type": "execute_result"
    }
   ],
   "source": [
    "fimo_deduped = fimo_nonan.drop_duplicates(subset=[\"motif\", \"unique_id\"])\n",
    "len(fimo_deduped)"
   ]
  },
  {
   "cell_type": "code",
   "execution_count": 25,
   "metadata": {},
   "outputs": [
    {
     "data": {
      "text/plain": [
       "3249"
      ]
     },
     "execution_count": 25,
     "metadata": {},
     "output_type": "execute_result"
    }
   ],
   "source": [
    "fimo_chip_deduped = fimo_chip_nonan.drop_duplicates(subset=[\"motif\", \"unique_id\"])\n",
    "len(fimo_chip_deduped)"
   ]
  },
  {
   "cell_type": "code",
   "execution_count": 26,
   "metadata": {},
   "outputs": [
    {
     "data": {
      "text/html": [
       "<div>\n",
       "<style>\n",
       "    .dataframe thead tr:only-child th {\n",
       "        text-align: right;\n",
       "    }\n",
       "\n",
       "    .dataframe thead th {\n",
       "        text-align: left;\n",
       "    }\n",
       "\n",
       "    .dataframe tbody tr th {\n",
       "        vertical-align: top;\n",
       "    }\n",
       "</style>\n",
       "<table border=\"1\" class=\"dataframe\">\n",
       "  <thead>\n",
       "    <tr style=\"text-align: right;\">\n",
       "      <th></th>\n",
       "      <th>unique_id</th>\n",
       "      <th>avg_tf_tissue_sp</th>\n",
       "    </tr>\n",
       "  </thead>\n",
       "  <tbody>\n",
       "    <tr>\n",
       "      <th>0</th>\n",
       "      <td>CONTROL_BUT_HAS_SNP__control.flip.sense__chr11...</td>\n",
       "      <td>0.304391</td>\n",
       "    </tr>\n",
       "    <tr>\n",
       "      <th>1</th>\n",
       "      <td>CONTROL_BUT_HAS_SNP__control.flip.sense__chr16...</td>\n",
       "      <td>0.409446</td>\n",
       "    </tr>\n",
       "    <tr>\n",
       "      <th>2</th>\n",
       "      <td>CONTROL_BUT_HAS_SNP__control.flip.sense__chr17...</td>\n",
       "      <td>0.384379</td>\n",
       "    </tr>\n",
       "    <tr>\n",
       "      <th>3</th>\n",
       "      <td>CONTROL_BUT_HAS_SNP__control.flip.sense__chr17...</td>\n",
       "      <td>0.388853</td>\n",
       "    </tr>\n",
       "    <tr>\n",
       "      <th>4</th>\n",
       "      <td>CONTROL_BUT_HAS_SNP__control.flip.sense__chr1:...</td>\n",
       "      <td>0.411511</td>\n",
       "    </tr>\n",
       "  </tbody>\n",
       "</table>\n",
       "</div>"
      ],
      "text/plain": [
       "                                           unique_id  avg_tf_tissue_sp\n",
       "0  CONTROL_BUT_HAS_SNP__control.flip.sense__chr11...          0.304391\n",
       "1  CONTROL_BUT_HAS_SNP__control.flip.sense__chr16...          0.409446\n",
       "2  CONTROL_BUT_HAS_SNP__control.flip.sense__chr17...          0.384379\n",
       "3  CONTROL_BUT_HAS_SNP__control.flip.sense__chr17...          0.388853\n",
       "4  CONTROL_BUT_HAS_SNP__control.flip.sense__chr1:...          0.411511"
      ]
     },
     "execution_count": 26,
     "metadata": {},
     "output_type": "execute_result"
    }
   ],
   "source": [
    "avg_sp_fimo = fimo_deduped.groupby([\"unique_id\"])[\"tissue_sp_3\"].agg(\"mean\").reset_index()\n",
    "avg_sp_fimo.columns = [\"unique_id\", \"avg_tf_tissue_sp\"]\n",
    "avg_sp_fimo.head()"
   ]
  },
  {
   "cell_type": "code",
   "execution_count": 27,
   "metadata": {},
   "outputs": [
    {
     "data": {
      "text/html": [
       "<div>\n",
       "<style>\n",
       "    .dataframe thead tr:only-child th {\n",
       "        text-align: right;\n",
       "    }\n",
       "\n",
       "    .dataframe thead th {\n",
       "        text-align: left;\n",
       "    }\n",
       "\n",
       "    .dataframe tbody tr th {\n",
       "        vertical-align: top;\n",
       "    }\n",
       "</style>\n",
       "<table border=\"1\" class=\"dataframe\">\n",
       "  <thead>\n",
       "    <tr style=\"text-align: right;\">\n",
       "      <th></th>\n",
       "      <th>unique_id</th>\n",
       "      <th>avg_tf_tissue_sp</th>\n",
       "    </tr>\n",
       "  </thead>\n",
       "  <tbody>\n",
       "    <tr>\n",
       "      <th>0</th>\n",
       "      <td>WILDTYPE_BUT_HAS_SNP__Antisense.flip.sense__ch...</td>\n",
       "      <td>0.264009</td>\n",
       "    </tr>\n",
       "    <tr>\n",
       "      <th>1</th>\n",
       "      <td>WILDTYPE_BUT_HAS_SNP__Antisense.flip.sense__ch...</td>\n",
       "      <td>0.343763</td>\n",
       "    </tr>\n",
       "    <tr>\n",
       "      <th>2</th>\n",
       "      <td>WILDTYPE_BUT_HAS_SNP__Antisense.flip.sense__ch...</td>\n",
       "      <td>0.162771</td>\n",
       "    </tr>\n",
       "    <tr>\n",
       "      <th>3</th>\n",
       "      <td>WILDTYPE_BUT_HAS_SNP__Antisense.flip.sense__ch...</td>\n",
       "      <td>0.327722</td>\n",
       "    </tr>\n",
       "    <tr>\n",
       "      <th>4</th>\n",
       "      <td>WILDTYPE_BUT_HAS_SNP__Antisense.flip.sense__ch...</td>\n",
       "      <td>0.367769</td>\n",
       "    </tr>\n",
       "  </tbody>\n",
       "</table>\n",
       "</div>"
      ],
      "text/plain": [
       "                                           unique_id  avg_tf_tissue_sp\n",
       "0  WILDTYPE_BUT_HAS_SNP__Antisense.flip.sense__ch...          0.264009\n",
       "1  WILDTYPE_BUT_HAS_SNP__Antisense.flip.sense__ch...          0.343763\n",
       "2  WILDTYPE_BUT_HAS_SNP__Antisense.flip.sense__ch...          0.162771\n",
       "3  WILDTYPE_BUT_HAS_SNP__Antisense.flip.sense__ch...          0.327722\n",
       "4  WILDTYPE_BUT_HAS_SNP__Antisense.flip.sense__ch...          0.367769"
      ]
     },
     "execution_count": 27,
     "metadata": {},
     "output_type": "execute_result"
    }
   ],
   "source": [
    "avg_sp_fimo_chip = fimo_chip_deduped.groupby([\"unique_id\"])[\"tissue_sp_3\"].agg(\"mean\").reset_index()\n",
    "avg_sp_fimo_chip.columns = [\"unique_id\", \"avg_tf_tissue_sp\"]\n",
    "avg_sp_fimo_chip.head()"
   ]
  },
  {
   "cell_type": "code",
   "execution_count": 28,
   "metadata": {},
   "outputs": [
    {
     "data": {
      "text/html": [
       "<div>\n",
       "<style>\n",
       "    .dataframe thead tr:only-child th {\n",
       "        text-align: right;\n",
       "    }\n",
       "\n",
       "    .dataframe thead th {\n",
       "        text-align: left;\n",
       "    }\n",
       "\n",
       "    .dataframe tbody tr th {\n",
       "        vertical-align: top;\n",
       "    }\n",
       "</style>\n",
       "<table border=\"1\" class=\"dataframe\">\n",
       "  <thead>\n",
       "    <tr style=\"text-align: right;\">\n",
       "      <th></th>\n",
       "      <th>unique_id</th>\n",
       "      <th>med_tf_tissue_sp</th>\n",
       "    </tr>\n",
       "  </thead>\n",
       "  <tbody>\n",
       "    <tr>\n",
       "      <th>0</th>\n",
       "      <td>CONTROL_BUT_HAS_SNP__control.flip.sense__chr11...</td>\n",
       "      <td>0.213972</td>\n",
       "    </tr>\n",
       "    <tr>\n",
       "      <th>1</th>\n",
       "      <td>CONTROL_BUT_HAS_SNP__control.flip.sense__chr16...</td>\n",
       "      <td>0.402299</td>\n",
       "    </tr>\n",
       "    <tr>\n",
       "      <th>2</th>\n",
       "      <td>CONTROL_BUT_HAS_SNP__control.flip.sense__chr17...</td>\n",
       "      <td>0.317076</td>\n",
       "    </tr>\n",
       "    <tr>\n",
       "      <th>3</th>\n",
       "      <td>CONTROL_BUT_HAS_SNP__control.flip.sense__chr17...</td>\n",
       "      <td>0.331621</td>\n",
       "    </tr>\n",
       "    <tr>\n",
       "      <th>4</th>\n",
       "      <td>CONTROL_BUT_HAS_SNP__control.flip.sense__chr1:...</td>\n",
       "      <td>0.324284</td>\n",
       "    </tr>\n",
       "  </tbody>\n",
       "</table>\n",
       "</div>"
      ],
      "text/plain": [
       "                                           unique_id  med_tf_tissue_sp\n",
       "0  CONTROL_BUT_HAS_SNP__control.flip.sense__chr11...          0.213972\n",
       "1  CONTROL_BUT_HAS_SNP__control.flip.sense__chr16...          0.402299\n",
       "2  CONTROL_BUT_HAS_SNP__control.flip.sense__chr17...          0.317076\n",
       "3  CONTROL_BUT_HAS_SNP__control.flip.sense__chr17...          0.331621\n",
       "4  CONTROL_BUT_HAS_SNP__control.flip.sense__chr1:...          0.324284"
      ]
     },
     "execution_count": 28,
     "metadata": {},
     "output_type": "execute_result"
    }
   ],
   "source": [
    "med_sp_fimo = fimo_deduped.groupby([\"unique_id\"])[\"tissue_sp_3\"].agg(\"median\").reset_index()\n",
    "med_sp_fimo.columns = [\"unique_id\", \"med_tf_tissue_sp\"]\n",
    "med_sp_fimo.head()"
   ]
  },
  {
   "cell_type": "code",
   "execution_count": 29,
   "metadata": {},
   "outputs": [
    {
     "data": {
      "text/html": [
       "<div>\n",
       "<style>\n",
       "    .dataframe thead tr:only-child th {\n",
       "        text-align: right;\n",
       "    }\n",
       "\n",
       "    .dataframe thead th {\n",
       "        text-align: left;\n",
       "    }\n",
       "\n",
       "    .dataframe tbody tr th {\n",
       "        vertical-align: top;\n",
       "    }\n",
       "</style>\n",
       "<table border=\"1\" class=\"dataframe\">\n",
       "  <thead>\n",
       "    <tr style=\"text-align: right;\">\n",
       "      <th></th>\n",
       "      <th>unique_id</th>\n",
       "      <th>med_tf_tissue_sp</th>\n",
       "    </tr>\n",
       "  </thead>\n",
       "  <tbody>\n",
       "    <tr>\n",
       "      <th>0</th>\n",
       "      <td>WILDTYPE_BUT_HAS_SNP__Antisense.flip.sense__ch...</td>\n",
       "      <td>0.266032</td>\n",
       "    </tr>\n",
       "    <tr>\n",
       "      <th>1</th>\n",
       "      <td>WILDTYPE_BUT_HAS_SNP__Antisense.flip.sense__ch...</td>\n",
       "      <td>0.290029</td>\n",
       "    </tr>\n",
       "    <tr>\n",
       "      <th>2</th>\n",
       "      <td>WILDTYPE_BUT_HAS_SNP__Antisense.flip.sense__ch...</td>\n",
       "      <td>0.162771</td>\n",
       "    </tr>\n",
       "    <tr>\n",
       "      <th>3</th>\n",
       "      <td>WILDTYPE_BUT_HAS_SNP__Antisense.flip.sense__ch...</td>\n",
       "      <td>0.311208</td>\n",
       "    </tr>\n",
       "    <tr>\n",
       "      <th>4</th>\n",
       "      <td>WILDTYPE_BUT_HAS_SNP__Antisense.flip.sense__ch...</td>\n",
       "      <td>0.472201</td>\n",
       "    </tr>\n",
       "  </tbody>\n",
       "</table>\n",
       "</div>"
      ],
      "text/plain": [
       "                                           unique_id  med_tf_tissue_sp\n",
       "0  WILDTYPE_BUT_HAS_SNP__Antisense.flip.sense__ch...          0.266032\n",
       "1  WILDTYPE_BUT_HAS_SNP__Antisense.flip.sense__ch...          0.290029\n",
       "2  WILDTYPE_BUT_HAS_SNP__Antisense.flip.sense__ch...          0.162771\n",
       "3  WILDTYPE_BUT_HAS_SNP__Antisense.flip.sense__ch...          0.311208\n",
       "4  WILDTYPE_BUT_HAS_SNP__Antisense.flip.sense__ch...          0.472201"
      ]
     },
     "execution_count": 29,
     "metadata": {},
     "output_type": "execute_result"
    }
   ],
   "source": [
    "med_sp_fimo_chip = fimo_chip_deduped.groupby([\"unique_id\"])[\"tissue_sp_3\"].agg(\"median\").reset_index()\n",
    "med_sp_fimo_chip.columns = [\"unique_id\", \"med_tf_tissue_sp\"]\n",
    "med_sp_fimo_chip.head()"
   ]
  },
  {
   "cell_type": "code",
   "execution_count": 30,
   "metadata": {},
   "outputs": [
    {
     "data": {
      "text/html": [
       "<div>\n",
       "<style>\n",
       "    .dataframe thead tr:only-child th {\n",
       "        text-align: right;\n",
       "    }\n",
       "\n",
       "    .dataframe thead th {\n",
       "        text-align: left;\n",
       "    }\n",
       "\n",
       "    .dataframe tbody tr th {\n",
       "        vertical-align: top;\n",
       "    }\n",
       "</style>\n",
       "<table border=\"1\" class=\"dataframe\">\n",
       "  <thead>\n",
       "    <tr style=\"text-align: right;\">\n",
       "      <th></th>\n",
       "      <th>unique_id</th>\n",
       "      <th>avg_tf_tissue_sp</th>\n",
       "      <th>med_tf_tissue_sp</th>\n",
       "      <th>log_avg_tf_tissue_sp</th>\n",
       "      <th>log_med_tf_tissue_sp</th>\n",
       "    </tr>\n",
       "  </thead>\n",
       "  <tbody>\n",
       "    <tr>\n",
       "      <th>0</th>\n",
       "      <td>CONTROL_BUT_HAS_SNP__control.flip.sense__chr11...</td>\n",
       "      <td>0.304391</td>\n",
       "      <td>0.213972</td>\n",
       "      <td>0.265737</td>\n",
       "      <td>0.193898</td>\n",
       "    </tr>\n",
       "    <tr>\n",
       "      <th>1</th>\n",
       "      <td>CONTROL_BUT_HAS_SNP__control.flip.sense__chr16...</td>\n",
       "      <td>0.409446</td>\n",
       "      <td>0.402299</td>\n",
       "      <td>0.343196</td>\n",
       "      <td>0.338113</td>\n",
       "    </tr>\n",
       "    <tr>\n",
       "      <th>2</th>\n",
       "      <td>CONTROL_BUT_HAS_SNP__control.flip.sense__chr17...</td>\n",
       "      <td>0.384379</td>\n",
       "      <td>0.317076</td>\n",
       "      <td>0.325252</td>\n",
       "      <td>0.275414</td>\n",
       "    </tr>\n",
       "    <tr>\n",
       "      <th>3</th>\n",
       "      <td>CONTROL_BUT_HAS_SNP__control.flip.sense__chr17...</td>\n",
       "      <td>0.388853</td>\n",
       "      <td>0.331621</td>\n",
       "      <td>0.328478</td>\n",
       "      <td>0.286397</td>\n",
       "    </tr>\n",
       "    <tr>\n",
       "      <th>4</th>\n",
       "      <td>CONTROL_BUT_HAS_SNP__control.flip.sense__chr1:...</td>\n",
       "      <td>0.411511</td>\n",
       "      <td>0.324284</td>\n",
       "      <td>0.344661</td>\n",
       "      <td>0.280872</td>\n",
       "    </tr>\n",
       "  </tbody>\n",
       "</table>\n",
       "</div>"
      ],
      "text/plain": [
       "                                           unique_id  avg_tf_tissue_sp  \\\n",
       "0  CONTROL_BUT_HAS_SNP__control.flip.sense__chr11...          0.304391   \n",
       "1  CONTROL_BUT_HAS_SNP__control.flip.sense__chr16...          0.409446   \n",
       "2  CONTROL_BUT_HAS_SNP__control.flip.sense__chr17...          0.384379   \n",
       "3  CONTROL_BUT_HAS_SNP__control.flip.sense__chr17...          0.388853   \n",
       "4  CONTROL_BUT_HAS_SNP__control.flip.sense__chr1:...          0.411511   \n",
       "\n",
       "   med_tf_tissue_sp  log_avg_tf_tissue_sp  log_med_tf_tissue_sp  \n",
       "0          0.213972              0.265737              0.193898  \n",
       "1          0.402299              0.343196              0.338113  \n",
       "2          0.317076              0.325252              0.275414  \n",
       "3          0.331621              0.328478              0.286397  \n",
       "4          0.324284              0.344661              0.280872  "
      ]
     },
     "execution_count": 30,
     "metadata": {},
     "output_type": "execute_result"
    }
   ],
   "source": [
    "tissue_sp_fimo = avg_sp_fimo.merge(med_sp_fimo, on=\"unique_id\")\n",
    "tissue_sp_fimo[\"log_avg_tf_tissue_sp\"] = np.log(tissue_sp_fimo[\"avg_tf_tissue_sp\"]+1)\n",
    "tissue_sp_fimo[\"log_med_tf_tissue_sp\"] = np.log(tissue_sp_fimo[\"med_tf_tissue_sp\"]+1)\n",
    "tissue_sp_fimo.head()"
   ]
  },
  {
   "cell_type": "code",
   "execution_count": 31,
   "metadata": {},
   "outputs": [
    {
     "data": {
      "text/html": [
       "<div>\n",
       "<style>\n",
       "    .dataframe thead tr:only-child th {\n",
       "        text-align: right;\n",
       "    }\n",
       "\n",
       "    .dataframe thead th {\n",
       "        text-align: left;\n",
       "    }\n",
       "\n",
       "    .dataframe tbody tr th {\n",
       "        vertical-align: top;\n",
       "    }\n",
       "</style>\n",
       "<table border=\"1\" class=\"dataframe\">\n",
       "  <thead>\n",
       "    <tr style=\"text-align: right;\">\n",
       "      <th></th>\n",
       "      <th>unique_id</th>\n",
       "      <th>avg_tf_tissue_sp</th>\n",
       "      <th>med_tf_tissue_sp</th>\n",
       "      <th>log_avg_tf_tissue_sp</th>\n",
       "      <th>log_med_tf_tissue_sp</th>\n",
       "    </tr>\n",
       "  </thead>\n",
       "  <tbody>\n",
       "    <tr>\n",
       "      <th>0</th>\n",
       "      <td>WILDTYPE_BUT_HAS_SNP__Antisense.flip.sense__ch...</td>\n",
       "      <td>0.264009</td>\n",
       "      <td>0.266032</td>\n",
       "      <td>0.234288</td>\n",
       "      <td>0.235888</td>\n",
       "    </tr>\n",
       "    <tr>\n",
       "      <th>1</th>\n",
       "      <td>WILDTYPE_BUT_HAS_SNP__Antisense.flip.sense__ch...</td>\n",
       "      <td>0.343763</td>\n",
       "      <td>0.290029</td>\n",
       "      <td>0.295474</td>\n",
       "      <td>0.254665</td>\n",
       "    </tr>\n",
       "    <tr>\n",
       "      <th>2</th>\n",
       "      <td>WILDTYPE_BUT_HAS_SNP__Antisense.flip.sense__ch...</td>\n",
       "      <td>0.162771</td>\n",
       "      <td>0.162771</td>\n",
       "      <td>0.150806</td>\n",
       "      <td>0.150806</td>\n",
       "    </tr>\n",
       "    <tr>\n",
       "      <th>3</th>\n",
       "      <td>WILDTYPE_BUT_HAS_SNP__Antisense.flip.sense__ch...</td>\n",
       "      <td>0.327722</td>\n",
       "      <td>0.311208</td>\n",
       "      <td>0.283465</td>\n",
       "      <td>0.270949</td>\n",
       "    </tr>\n",
       "    <tr>\n",
       "      <th>4</th>\n",
       "      <td>WILDTYPE_BUT_HAS_SNP__Antisense.flip.sense__ch...</td>\n",
       "      <td>0.367769</td>\n",
       "      <td>0.472201</td>\n",
       "      <td>0.313181</td>\n",
       "      <td>0.386758</td>\n",
       "    </tr>\n",
       "  </tbody>\n",
       "</table>\n",
       "</div>"
      ],
      "text/plain": [
       "                                           unique_id  avg_tf_tissue_sp  \\\n",
       "0  WILDTYPE_BUT_HAS_SNP__Antisense.flip.sense__ch...          0.264009   \n",
       "1  WILDTYPE_BUT_HAS_SNP__Antisense.flip.sense__ch...          0.343763   \n",
       "2  WILDTYPE_BUT_HAS_SNP__Antisense.flip.sense__ch...          0.162771   \n",
       "3  WILDTYPE_BUT_HAS_SNP__Antisense.flip.sense__ch...          0.327722   \n",
       "4  WILDTYPE_BUT_HAS_SNP__Antisense.flip.sense__ch...          0.367769   \n",
       "\n",
       "   med_tf_tissue_sp  log_avg_tf_tissue_sp  log_med_tf_tissue_sp  \n",
       "0          0.266032              0.234288              0.235888  \n",
       "1          0.290029              0.295474              0.254665  \n",
       "2          0.162771              0.150806              0.150806  \n",
       "3          0.311208              0.283465              0.270949  \n",
       "4          0.472201              0.313181              0.386758  "
      ]
     },
     "execution_count": 31,
     "metadata": {},
     "output_type": "execute_result"
    }
   ],
   "source": [
    "tissue_sp_fimo_chip = avg_sp_fimo_chip.merge(med_sp_fimo_chip, on=\"unique_id\")\n",
    "tissue_sp_fimo_chip[\"log_avg_tf_tissue_sp\"] = np.log(tissue_sp_fimo_chip[\"avg_tf_tissue_sp\"]+1)\n",
    "tissue_sp_fimo_chip[\"log_med_tf_tissue_sp\"] = np.log(tissue_sp_fimo_chip[\"med_tf_tissue_sp\"]+1)\n",
    "tissue_sp_fimo_chip.head()"
   ]
  },
  {
   "cell_type": "markdown",
   "metadata": {},
   "source": [
    "## 3. find tissue specificity per tile"
   ]
  },
  {
   "cell_type": "code",
   "execution_count": 32,
   "metadata": {},
   "outputs": [
    {
     "data": {
      "text/html": [
       "<div>\n",
       "<style>\n",
       "    .dataframe thead tr:only-child th {\n",
       "        text-align: right;\n",
       "    }\n",
       "\n",
       "    .dataframe thead th {\n",
       "        text-align: left;\n",
       "    }\n",
       "\n",
       "    .dataframe tbody tr th {\n",
       "        vertical-align: top;\n",
       "    }\n",
       "</style>\n",
       "<table border=\"1\" class=\"dataframe\">\n",
       "  <thead>\n",
       "    <tr style=\"text-align: right;\">\n",
       "      <th></th>\n",
       "      <th>unique_id</th>\n",
       "      <th>PromType2</th>\n",
       "      <th>cage_activ</th>\n",
       "      <th>cage_ts</th>\n",
       "      <th>mpra_activ</th>\n",
       "      <th>mpra_ts</th>\n",
       "      <th>avg_tf_tissue_sp</th>\n",
       "      <th>med_tf_tissue_sp</th>\n",
       "      <th>log_avg_tf_tissue_sp</th>\n",
       "      <th>log_med_tf_tissue_sp</th>\n",
       "    </tr>\n",
       "  </thead>\n",
       "  <tbody>\n",
       "    <tr>\n",
       "      <th>240</th>\n",
       "      <td>WILDTYPE_BUT_HAS_SNP__Enhancer.noflip.NA__chr1...</td>\n",
       "      <td>Enhancer</td>\n",
       "      <td>0.018383</td>\n",
       "      <td>0.396783</td>\n",
       "      <td>-1.939413</td>\n",
       "      <td>0.421748</td>\n",
       "      <td>0.455059</td>\n",
       "      <td>0.497550</td>\n",
       "      <td>0.375046</td>\n",
       "      <td>0.403830</td>\n",
       "    </tr>\n",
       "    <tr>\n",
       "      <th>848</th>\n",
       "      <td>WILDTYPE_BUT_HAS_SNP__mrna.noflip.NA__chr4:387...</td>\n",
       "      <td>protein_coding</td>\n",
       "      <td>0.010581</td>\n",
       "      <td>0.666667</td>\n",
       "      <td>-0.728335</td>\n",
       "      <td>0.148198</td>\n",
       "      <td>0.276130</td>\n",
       "      <td>0.342912</td>\n",
       "      <td>0.243832</td>\n",
       "      <td>0.294841</td>\n",
       "    </tr>\n",
       "    <tr>\n",
       "      <th>2044</th>\n",
       "      <td>WILDTYPE__mrna.noflip.NA__chr7:93204001..93204...</td>\n",
       "      <td>protein_coding</td>\n",
       "      <td>0.000000</td>\n",
       "      <td>NaN</td>\n",
       "      <td>-1.087826</td>\n",
       "      <td>0.095572</td>\n",
       "      <td>0.394077</td>\n",
       "      <td>0.346578</td>\n",
       "      <td>0.332232</td>\n",
       "      <td>0.297567</td>\n",
       "    </tr>\n",
       "    <tr>\n",
       "      <th>106</th>\n",
       "      <td>WILDTYPE_BUT_HAS_SNP__Antisense.noflip.NA__chr...</td>\n",
       "      <td>intergenic</td>\n",
       "      <td>0.308449</td>\n",
       "      <td>0.406588</td>\n",
       "      <td>2.103994</td>\n",
       "      <td>0.053100</td>\n",
       "      <td>0.337096</td>\n",
       "      <td>0.350244</td>\n",
       "      <td>0.290500</td>\n",
       "      <td>0.300285</td>\n",
       "    </tr>\n",
       "    <tr>\n",
       "      <th>1305</th>\n",
       "      <td>WILDTYPE__Enhancer.noflip.NA__chr16:86965152.....</td>\n",
       "      <td>Enhancer</td>\n",
       "      <td>0.032195</td>\n",
       "      <td>0.666667</td>\n",
       "      <td>-2.224334</td>\n",
       "      <td>0.156665</td>\n",
       "      <td>0.446001</td>\n",
       "      <td>0.439685</td>\n",
       "      <td>0.368802</td>\n",
       "      <td>0.364424</td>\n",
       "    </tr>\n",
       "  </tbody>\n",
       "</table>\n",
       "</div>"
      ],
      "text/plain": [
       "                                              unique_id       PromType2  \\\n",
       "240   WILDTYPE_BUT_HAS_SNP__Enhancer.noflip.NA__chr1...        Enhancer   \n",
       "848   WILDTYPE_BUT_HAS_SNP__mrna.noflip.NA__chr4:387...  protein_coding   \n",
       "2044  WILDTYPE__mrna.noflip.NA__chr7:93204001..93204...  protein_coding   \n",
       "106   WILDTYPE_BUT_HAS_SNP__Antisense.noflip.NA__chr...      intergenic   \n",
       "1305  WILDTYPE__Enhancer.noflip.NA__chr16:86965152.....        Enhancer   \n",
       "\n",
       "      cage_activ   cage_ts  mpra_activ   mpra_ts  avg_tf_tissue_sp  \\\n",
       "240     0.018383  0.396783   -1.939413  0.421748          0.455059   \n",
       "848     0.010581  0.666667   -0.728335  0.148198          0.276130   \n",
       "2044    0.000000       NaN   -1.087826  0.095572          0.394077   \n",
       "106     0.308449  0.406588    2.103994  0.053100          0.337096   \n",
       "1305    0.032195  0.666667   -2.224334  0.156665          0.446001   \n",
       "\n",
       "      med_tf_tissue_sp  log_avg_tf_tissue_sp  log_med_tf_tissue_sp  \n",
       "240           0.497550              0.375046              0.403830  \n",
       "848           0.342912              0.243832              0.294841  \n",
       "2044          0.346578              0.332232              0.297567  \n",
       "106           0.350244              0.290500              0.300285  \n",
       "1305          0.439685              0.368802              0.364424  "
      ]
     },
     "execution_count": 32,
     "metadata": {},
     "output_type": "execute_result"
    }
   ],
   "source": [
    "mean_activ_fimo = cage_v_mpra.merge(tissue_sp_fimo, on=\"unique_id\")\n",
    "mean_activ_fimo.sample(5)"
   ]
  },
  {
   "cell_type": "code",
   "execution_count": 33,
   "metadata": {},
   "outputs": [
    {
     "data": {
      "text/html": [
       "<div>\n",
       "<style>\n",
       "    .dataframe thead tr:only-child th {\n",
       "        text-align: right;\n",
       "    }\n",
       "\n",
       "    .dataframe thead th {\n",
       "        text-align: left;\n",
       "    }\n",
       "\n",
       "    .dataframe tbody tr th {\n",
       "        vertical-align: top;\n",
       "    }\n",
       "</style>\n",
       "<table border=\"1\" class=\"dataframe\">\n",
       "  <thead>\n",
       "    <tr style=\"text-align: right;\">\n",
       "      <th></th>\n",
       "      <th>unique_id</th>\n",
       "      <th>n_total_motifs</th>\n",
       "      <th>n_unique_motifs</th>\n",
       "      <th>max_cov</th>\n",
       "      <th>n_bp_cov</th>\n",
       "      <th>log_n_total_motifs</th>\n",
       "      <th>log_n_unique_motifs</th>\n",
       "      <th>log_max_cov</th>\n",
       "      <th>log_n_bp_cov</th>\n",
       "    </tr>\n",
       "  </thead>\n",
       "  <tbody>\n",
       "    <tr>\n",
       "      <th>0</th>\n",
       "      <td>WILDTYPE_BUT_HAS_SNP__Antisense.flip.sense__ch...</td>\n",
       "      <td>48</td>\n",
       "      <td>35</td>\n",
       "      <td>19</td>\n",
       "      <td>83</td>\n",
       "      <td>3.871201</td>\n",
       "      <td>3.555348</td>\n",
       "      <td>2.944439</td>\n",
       "      <td>4.418841</td>\n",
       "    </tr>\n",
       "    <tr>\n",
       "      <th>1</th>\n",
       "      <td>WILDTYPE_BUT_HAS_SNP__Antisense.flip.sense__ch...</td>\n",
       "      <td>37</td>\n",
       "      <td>29</td>\n",
       "      <td>16</td>\n",
       "      <td>84</td>\n",
       "      <td>3.610918</td>\n",
       "      <td>3.367296</td>\n",
       "      <td>2.772589</td>\n",
       "      <td>4.430817</td>\n",
       "    </tr>\n",
       "    <tr>\n",
       "      <th>2</th>\n",
       "      <td>WILDTYPE_BUT_HAS_SNP__Antisense.flip.sense__ch...</td>\n",
       "      <td>10</td>\n",
       "      <td>8</td>\n",
       "      <td>3</td>\n",
       "      <td>77</td>\n",
       "      <td>2.302585</td>\n",
       "      <td>2.079442</td>\n",
       "      <td>1.098612</td>\n",
       "      <td>4.343805</td>\n",
       "    </tr>\n",
       "    <tr>\n",
       "      <th>3</th>\n",
       "      <td>WILDTYPE_BUT_HAS_SNP__Antisense.flip.sense__ch...</td>\n",
       "      <td>12</td>\n",
       "      <td>8</td>\n",
       "      <td>5</td>\n",
       "      <td>54</td>\n",
       "      <td>2.484907</td>\n",
       "      <td>2.079442</td>\n",
       "      <td>1.609438</td>\n",
       "      <td>3.988984</td>\n",
       "    </tr>\n",
       "    <tr>\n",
       "      <th>4</th>\n",
       "      <td>WILDTYPE_BUT_HAS_SNP__Antisense.flip.sense__ch...</td>\n",
       "      <td>37</td>\n",
       "      <td>31</td>\n",
       "      <td>22</td>\n",
       "      <td>80</td>\n",
       "      <td>3.610918</td>\n",
       "      <td>3.433987</td>\n",
       "      <td>3.091042</td>\n",
       "      <td>4.382027</td>\n",
       "    </tr>\n",
       "  </tbody>\n",
       "</table>\n",
       "</div>"
      ],
      "text/plain": [
       "                                           unique_id  n_total_motifs  \\\n",
       "0  WILDTYPE_BUT_HAS_SNP__Antisense.flip.sense__ch...              48   \n",
       "1  WILDTYPE_BUT_HAS_SNP__Antisense.flip.sense__ch...              37   \n",
       "2  WILDTYPE_BUT_HAS_SNP__Antisense.flip.sense__ch...              10   \n",
       "3  WILDTYPE_BUT_HAS_SNP__Antisense.flip.sense__ch...              12   \n",
       "4  WILDTYPE_BUT_HAS_SNP__Antisense.flip.sense__ch...              37   \n",
       "\n",
       "   n_unique_motifs  max_cov  n_bp_cov  log_n_total_motifs  \\\n",
       "0               35       19        83            3.871201   \n",
       "1               29       16        84            3.610918   \n",
       "2                8        3        77            2.302585   \n",
       "3                8        5        54            2.484907   \n",
       "4               31       22        80            3.610918   \n",
       "\n",
       "   log_n_unique_motifs  log_max_cov  log_n_bp_cov  \n",
       "0             3.555348     2.944439      4.418841  \n",
       "1             3.367296     2.772589      4.430817  \n",
       "2             2.079442     1.098612      4.343805  \n",
       "3             2.079442     1.609438      3.988984  \n",
       "4             3.433987     3.091042      4.382027  "
      ]
     },
     "execution_count": 33,
     "metadata": {},
     "output_type": "execute_result"
    }
   ],
   "source": [
    "fimo_cov.head()"
   ]
  },
  {
   "cell_type": "code",
   "execution_count": 34,
   "metadata": {},
   "outputs": [
    {
     "data": {
      "text/html": [
       "<div>\n",
       "<style>\n",
       "    .dataframe thead tr:only-child th {\n",
       "        text-align: right;\n",
       "    }\n",
       "\n",
       "    .dataframe thead th {\n",
       "        text-align: left;\n",
       "    }\n",
       "\n",
       "    .dataframe tbody tr th {\n",
       "        vertical-align: top;\n",
       "    }\n",
       "</style>\n",
       "<table border=\"1\" class=\"dataframe\">\n",
       "  <thead>\n",
       "    <tr style=\"text-align: right;\">\n",
       "      <th></th>\n",
       "      <th>unique_id</th>\n",
       "      <th>PromType2</th>\n",
       "      <th>cage_activ</th>\n",
       "      <th>cage_ts</th>\n",
       "      <th>mpra_activ</th>\n",
       "      <th>mpra_ts</th>\n",
       "      <th>avg_tf_tissue_sp</th>\n",
       "      <th>med_tf_tissue_sp</th>\n",
       "      <th>log_avg_tf_tissue_sp</th>\n",
       "      <th>log_med_tf_tissue_sp</th>\n",
       "      <th>n_total_motifs</th>\n",
       "      <th>n_unique_motifs</th>\n",
       "      <th>max_cov</th>\n",
       "      <th>n_bp_cov</th>\n",
       "      <th>log_n_total_motifs</th>\n",
       "      <th>log_n_unique_motifs</th>\n",
       "      <th>log_max_cov</th>\n",
       "      <th>log_n_bp_cov</th>\n",
       "    </tr>\n",
       "  </thead>\n",
       "  <tbody>\n",
       "    <tr>\n",
       "      <th>1982</th>\n",
       "      <td>WILDTYPE__mrna.noflip.NA__chr21:42798059..4279...</td>\n",
       "      <td>protein_coding</td>\n",
       "      <td>0.018144</td>\n",
       "      <td>0.666667</td>\n",
       "      <td>-0.259744</td>\n",
       "      <td>0.034225</td>\n",
       "      <td>0.400010</td>\n",
       "      <td>0.324284</td>\n",
       "      <td>0.336480</td>\n",
       "      <td>0.280872</td>\n",
       "      <td>22</td>\n",
       "      <td>20</td>\n",
       "      <td>17</td>\n",
       "      <td>95</td>\n",
       "      <td>3.091042</td>\n",
       "      <td>2.995732</td>\n",
       "      <td>2.833213</td>\n",
       "      <td>4.553877</td>\n",
       "    </tr>\n",
       "    <tr>\n",
       "      <th>1826</th>\n",
       "      <td>WILDTYPE__mrna.flip.sense__chr2:27579833..2757...</td>\n",
       "      <td>div_pc</td>\n",
       "      <td>1.859131</td>\n",
       "      <td>0.099385</td>\n",
       "      <td>-1.613957</td>\n",
       "      <td>0.175771</td>\n",
       "      <td>0.387645</td>\n",
       "      <td>0.439664</td>\n",
       "      <td>0.327608</td>\n",
       "      <td>0.364410</td>\n",
       "      <td>7</td>\n",
       "      <td>7</td>\n",
       "      <td>3</td>\n",
       "      <td>44</td>\n",
       "      <td>1.945910</td>\n",
       "      <td>1.945910</td>\n",
       "      <td>1.098612</td>\n",
       "      <td>3.784190</td>\n",
       "    </tr>\n",
       "    <tr>\n",
       "      <th>24</th>\n",
       "      <td>WILDTYPE_BUT_HAS_SNP__Antisense.flip.sense__ch...</td>\n",
       "      <td>div_lnc</td>\n",
       "      <td>1.295849</td>\n",
       "      <td>0.666667</td>\n",
       "      <td>1.744206</td>\n",
       "      <td>0.151705</td>\n",
       "      <td>0.364583</td>\n",
       "      <td>0.305103</td>\n",
       "      <td>0.310849</td>\n",
       "      <td>0.266282</td>\n",
       "      <td>38</td>\n",
       "      <td>31</td>\n",
       "      <td>24</td>\n",
       "      <td>67</td>\n",
       "      <td>3.637586</td>\n",
       "      <td>3.433987</td>\n",
       "      <td>3.178054</td>\n",
       "      <td>4.204693</td>\n",
       "    </tr>\n",
       "    <tr>\n",
       "      <th>1451</th>\n",
       "      <td>WILDTYPE__Enhancer.noflip.NA__chr7:44677823..4...</td>\n",
       "      <td>Enhancer</td>\n",
       "      <td>0.316283</td>\n",
       "      <td>0.666667</td>\n",
       "      <td>-1.597019</td>\n",
       "      <td>0.258111</td>\n",
       "      <td>0.488785</td>\n",
       "      <td>0.520827</td>\n",
       "      <td>0.397961</td>\n",
       "      <td>0.419254</td>\n",
       "      <td>31</td>\n",
       "      <td>28</td>\n",
       "      <td>23</td>\n",
       "      <td>64</td>\n",
       "      <td>3.433987</td>\n",
       "      <td>3.332205</td>\n",
       "      <td>3.135494</td>\n",
       "      <td>4.158883</td>\n",
       "    </tr>\n",
       "    <tr>\n",
       "      <th>89</th>\n",
       "      <td>WILDTYPE_BUT_HAS_SNP__Antisense.noflip.NA__chr...</td>\n",
       "      <td>div_lnc</td>\n",
       "      <td>0.015860</td>\n",
       "      <td>0.666667</td>\n",
       "      <td>-1.476764</td>\n",
       "      <td>0.294307</td>\n",
       "      <td>0.286443</td>\n",
       "      <td>0.324284</td>\n",
       "      <td>0.251881</td>\n",
       "      <td>0.280872</td>\n",
       "      <td>6</td>\n",
       "      <td>5</td>\n",
       "      <td>4</td>\n",
       "      <td>51</td>\n",
       "      <td>1.791759</td>\n",
       "      <td>1.609438</td>\n",
       "      <td>1.386294</td>\n",
       "      <td>3.931826</td>\n",
       "    </tr>\n",
       "  </tbody>\n",
       "</table>\n",
       "</div>"
      ],
      "text/plain": [
       "                                              unique_id       PromType2  \\\n",
       "1982  WILDTYPE__mrna.noflip.NA__chr21:42798059..4279...  protein_coding   \n",
       "1826  WILDTYPE__mrna.flip.sense__chr2:27579833..2757...          div_pc   \n",
       "24    WILDTYPE_BUT_HAS_SNP__Antisense.flip.sense__ch...         div_lnc   \n",
       "1451  WILDTYPE__Enhancer.noflip.NA__chr7:44677823..4...        Enhancer   \n",
       "89    WILDTYPE_BUT_HAS_SNP__Antisense.noflip.NA__chr...         div_lnc   \n",
       "\n",
       "      cage_activ   cage_ts  mpra_activ   mpra_ts  avg_tf_tissue_sp  \\\n",
       "1982    0.018144  0.666667   -0.259744  0.034225          0.400010   \n",
       "1826    1.859131  0.099385   -1.613957  0.175771          0.387645   \n",
       "24      1.295849  0.666667    1.744206  0.151705          0.364583   \n",
       "1451    0.316283  0.666667   -1.597019  0.258111          0.488785   \n",
       "89      0.015860  0.666667   -1.476764  0.294307          0.286443   \n",
       "\n",
       "      med_tf_tissue_sp  log_avg_tf_tissue_sp  log_med_tf_tissue_sp  \\\n",
       "1982          0.324284              0.336480              0.280872   \n",
       "1826          0.439664              0.327608              0.364410   \n",
       "24            0.305103              0.310849              0.266282   \n",
       "1451          0.520827              0.397961              0.419254   \n",
       "89            0.324284              0.251881              0.280872   \n",
       "\n",
       "      n_total_motifs  n_unique_motifs  max_cov  n_bp_cov  log_n_total_motifs  \\\n",
       "1982              22               20       17        95            3.091042   \n",
       "1826               7                7        3        44            1.945910   \n",
       "24                38               31       24        67            3.637586   \n",
       "1451              31               28       23        64            3.433987   \n",
       "89                 6                5        4        51            1.791759   \n",
       "\n",
       "      log_n_unique_motifs  log_max_cov  log_n_bp_cov  \n",
       "1982             2.995732     2.833213      4.553877  \n",
       "1826             1.945910     1.098612      3.784190  \n",
       "24               3.433987     3.178054      4.204693  \n",
       "1451             3.332205     3.135494      4.158883  \n",
       "89               1.609438     1.386294      3.931826  "
      ]
     },
     "execution_count": 34,
     "metadata": {},
     "output_type": "execute_result"
    }
   ],
   "source": [
    "mean_activ_fimo = mean_activ_fimo.merge(fimo_cov, on=\"unique_id\")\n",
    "mean_activ_fimo.sample(5)"
   ]
  },
  {
   "cell_type": "code",
   "execution_count": 35,
   "metadata": {},
   "outputs": [
    {
     "data": {
      "text/html": [
       "<div>\n",
       "<style>\n",
       "    .dataframe thead tr:only-child th {\n",
       "        text-align: right;\n",
       "    }\n",
       "\n",
       "    .dataframe thead th {\n",
       "        text-align: left;\n",
       "    }\n",
       "\n",
       "    .dataframe tbody tr th {\n",
       "        vertical-align: top;\n",
       "    }\n",
       "</style>\n",
       "<table border=\"1\" class=\"dataframe\">\n",
       "  <thead>\n",
       "    <tr style=\"text-align: right;\">\n",
       "      <th></th>\n",
       "      <th>unique_id</th>\n",
       "      <th>PromType2</th>\n",
       "      <th>cage_activ</th>\n",
       "      <th>cage_ts</th>\n",
       "      <th>mpra_activ</th>\n",
       "      <th>mpra_ts</th>\n",
       "      <th>avg_tf_tissue_sp</th>\n",
       "      <th>med_tf_tissue_sp</th>\n",
       "      <th>log_avg_tf_tissue_sp</th>\n",
       "      <th>log_med_tf_tissue_sp</th>\n",
       "    </tr>\n",
       "  </thead>\n",
       "  <tbody>\n",
       "    <tr>\n",
       "      <th>357</th>\n",
       "      <td>WILDTYPE_BUT_HAS_SNP__mrna.noflip.NA__chr6:347...</td>\n",
       "      <td>protein_coding</td>\n",
       "      <td>3.069156</td>\n",
       "      <td>0.071924</td>\n",
       "      <td>-0.295720</td>\n",
       "      <td>0.145786</td>\n",
       "      <td>0.393291</td>\n",
       "      <td>0.325681</td>\n",
       "      <td>0.331668</td>\n",
       "      <td>0.281926</td>\n",
       "    </tr>\n",
       "    <tr>\n",
       "      <th>205</th>\n",
       "      <td>WILDTYPE_BUT_HAS_SNP__Lincrna.noflip.NA__chr21...</td>\n",
       "      <td>intergenic</td>\n",
       "      <td>0.000000</td>\n",
       "      <td>NaN</td>\n",
       "      <td>0.273860</td>\n",
       "      <td>0.233957</td>\n",
       "      <td>0.473003</td>\n",
       "      <td>0.473003</td>\n",
       "      <td>0.387303</td>\n",
       "      <td>0.387303</td>\n",
       "    </tr>\n",
       "    <tr>\n",
       "      <th>243</th>\n",
       "      <td>WILDTYPE_BUT_HAS_SNP__mrna.flip.sense__chr11:6...</td>\n",
       "      <td>protein_coding</td>\n",
       "      <td>3.787208</td>\n",
       "      <td>0.048258</td>\n",
       "      <td>2.617666</td>\n",
       "      <td>0.171002</td>\n",
       "      <td>0.230764</td>\n",
       "      <td>0.225678</td>\n",
       "      <td>0.207635</td>\n",
       "      <td>0.203494</td>\n",
       "    </tr>\n",
       "    <tr>\n",
       "      <th>503</th>\n",
       "      <td>WILDTYPE__Enhancer.flip.sense__chr1:26827439.....</td>\n",
       "      <td>Enhancer</td>\n",
       "      <td>0.949664</td>\n",
       "      <td>0.297224</td>\n",
       "      <td>-1.800926</td>\n",
       "      <td>NaN</td>\n",
       "      <td>0.393817</td>\n",
       "      <td>0.381450</td>\n",
       "      <td>0.332046</td>\n",
       "      <td>0.323134</td>\n",
       "    </tr>\n",
       "    <tr>\n",
       "      <th>277</th>\n",
       "      <td>WILDTYPE_BUT_HAS_SNP__mrna.flip.sense__chr6:96...</td>\n",
       "      <td>div_pc</td>\n",
       "      <td>3.553027</td>\n",
       "      <td>0.079464</td>\n",
       "      <td>1.424475</td>\n",
       "      <td>0.168422</td>\n",
       "      <td>0.309556</td>\n",
       "      <td>0.309556</td>\n",
       "      <td>0.269688</td>\n",
       "      <td>0.269688</td>\n",
       "    </tr>\n",
       "  </tbody>\n",
       "</table>\n",
       "</div>"
      ],
      "text/plain": [
       "                                             unique_id       PromType2  \\\n",
       "357  WILDTYPE_BUT_HAS_SNP__mrna.noflip.NA__chr6:347...  protein_coding   \n",
       "205  WILDTYPE_BUT_HAS_SNP__Lincrna.noflip.NA__chr21...      intergenic   \n",
       "243  WILDTYPE_BUT_HAS_SNP__mrna.flip.sense__chr11:6...  protein_coding   \n",
       "503  WILDTYPE__Enhancer.flip.sense__chr1:26827439.....        Enhancer   \n",
       "277  WILDTYPE_BUT_HAS_SNP__mrna.flip.sense__chr6:96...          div_pc   \n",
       "\n",
       "     cage_activ   cage_ts  mpra_activ   mpra_ts  avg_tf_tissue_sp  \\\n",
       "357    3.069156  0.071924   -0.295720  0.145786          0.393291   \n",
       "205    0.000000       NaN    0.273860  0.233957          0.473003   \n",
       "243    3.787208  0.048258    2.617666  0.171002          0.230764   \n",
       "503    0.949664  0.297224   -1.800926       NaN          0.393817   \n",
       "277    3.553027  0.079464    1.424475  0.168422          0.309556   \n",
       "\n",
       "     med_tf_tissue_sp  log_avg_tf_tissue_sp  log_med_tf_tissue_sp  \n",
       "357          0.325681              0.331668              0.281926  \n",
       "205          0.473003              0.387303              0.387303  \n",
       "243          0.225678              0.207635              0.203494  \n",
       "503          0.381450              0.332046              0.323134  \n",
       "277          0.309556              0.269688              0.269688  "
      ]
     },
     "execution_count": 35,
     "metadata": {},
     "output_type": "execute_result"
    }
   ],
   "source": [
    "mean_activ_fimo_chip = cage_v_mpra.merge(tissue_sp_fimo_chip, on=\"unique_id\")\n",
    "mean_activ_fimo_chip.sample(5)"
   ]
  },
  {
   "cell_type": "code",
   "execution_count": 36,
   "metadata": {},
   "outputs": [
    {
     "data": {
      "text/html": [
       "<div>\n",
       "<style>\n",
       "    .dataframe thead tr:only-child th {\n",
       "        text-align: right;\n",
       "    }\n",
       "\n",
       "    .dataframe thead th {\n",
       "        text-align: left;\n",
       "    }\n",
       "\n",
       "    .dataframe tbody tr th {\n",
       "        vertical-align: top;\n",
       "    }\n",
       "</style>\n",
       "<table border=\"1\" class=\"dataframe\">\n",
       "  <thead>\n",
       "    <tr style=\"text-align: right;\">\n",
       "      <th></th>\n",
       "      <th>unique_id</th>\n",
       "      <th>PromType2</th>\n",
       "      <th>cage_activ</th>\n",
       "      <th>cage_ts</th>\n",
       "      <th>mpra_activ</th>\n",
       "      <th>mpra_ts</th>\n",
       "      <th>avg_tf_tissue_sp</th>\n",
       "      <th>med_tf_tissue_sp</th>\n",
       "      <th>log_avg_tf_tissue_sp</th>\n",
       "      <th>log_med_tf_tissue_sp</th>\n",
       "      <th>n_total_motifs</th>\n",
       "      <th>n_unique_motifs</th>\n",
       "      <th>max_cov</th>\n",
       "      <th>n_bp_cov</th>\n",
       "      <th>log_n_total_motifs</th>\n",
       "      <th>log_n_unique_motifs</th>\n",
       "      <th>log_max_cov</th>\n",
       "      <th>log_n_bp_cov</th>\n",
       "    </tr>\n",
       "  </thead>\n",
       "  <tbody>\n",
       "    <tr>\n",
       "      <th>524</th>\n",
       "      <td>WILDTYPE__Enhancer.noflip.NA__chr10:74032412.....</td>\n",
       "      <td>Enhancer</td>\n",
       "      <td>0.756452</td>\n",
       "      <td>0.509430</td>\n",
       "      <td>-1.960498</td>\n",
       "      <td>0.449185</td>\n",
       "      <td>0.525147</td>\n",
       "      <td>0.564277</td>\n",
       "      <td>0.422091</td>\n",
       "      <td>0.447424</td>\n",
       "      <td>5</td>\n",
       "      <td>5</td>\n",
       "      <td>4</td>\n",
       "      <td>27</td>\n",
       "      <td>1.609438</td>\n",
       "      <td>1.609438</td>\n",
       "      <td>1.386294</td>\n",
       "      <td>3.295837</td>\n",
       "    </tr>\n",
       "    <tr>\n",
       "      <th>32</th>\n",
       "      <td>WILDTYPE_BUT_HAS_SNP__Antisense.noflip.NA__chr...</td>\n",
       "      <td>intergenic</td>\n",
       "      <td>1.473302</td>\n",
       "      <td>0.428820</td>\n",
       "      <td>-0.635878</td>\n",
       "      <td>0.127076</td>\n",
       "      <td>0.666667</td>\n",
       "      <td>0.666667</td>\n",
       "      <td>0.510826</td>\n",
       "      <td>0.510826</td>\n",
       "      <td>1</td>\n",
       "      <td>1</td>\n",
       "      <td>1</td>\n",
       "      <td>14</td>\n",
       "      <td>0.000000</td>\n",
       "      <td>0.000000</td>\n",
       "      <td>0.000000</td>\n",
       "      <td>2.639057</td>\n",
       "    </tr>\n",
       "    <tr>\n",
       "      <th>488</th>\n",
       "      <td>WILDTYPE__Enhancer.flip.sense__chr14:105948394...</td>\n",
       "      <td>Enhancer</td>\n",
       "      <td>0.270124</td>\n",
       "      <td>0.586244</td>\n",
       "      <td>-1.865186</td>\n",
       "      <td>0.113662</td>\n",
       "      <td>0.522747</td>\n",
       "      <td>0.522747</td>\n",
       "      <td>0.420516</td>\n",
       "      <td>0.420516</td>\n",
       "      <td>1</td>\n",
       "      <td>1</td>\n",
       "      <td>1</td>\n",
       "      <td>12</td>\n",
       "      <td>0.000000</td>\n",
       "      <td>0.000000</td>\n",
       "      <td>0.000000</td>\n",
       "      <td>2.484907</td>\n",
       "    </tr>\n",
       "    <tr>\n",
       "      <th>536</th>\n",
       "      <td>WILDTYPE__Enhancer.noflip.NA__chr11:65255188.....</td>\n",
       "      <td>Enhancer</td>\n",
       "      <td>0.214251</td>\n",
       "      <td>0.527092</td>\n",
       "      <td>-2.061971</td>\n",
       "      <td>0.122433</td>\n",
       "      <td>0.307187</td>\n",
       "      <td>0.265413</td>\n",
       "      <td>0.267877</td>\n",
       "      <td>0.235399</td>\n",
       "      <td>8</td>\n",
       "      <td>8</td>\n",
       "      <td>5</td>\n",
       "      <td>58</td>\n",
       "      <td>2.079442</td>\n",
       "      <td>2.079442</td>\n",
       "      <td>1.609438</td>\n",
       "      <td>4.060443</td>\n",
       "    </tr>\n",
       "    <tr>\n",
       "      <th>129</th>\n",
       "      <td>WILDTYPE_BUT_HAS_SNP__Enhancer.noflip.NA__chr2...</td>\n",
       "      <td>Enhancer</td>\n",
       "      <td>0.736238</td>\n",
       "      <td>0.114857</td>\n",
       "      <td>1.135325</td>\n",
       "      <td>0.171504</td>\n",
       "      <td>0.389033</td>\n",
       "      <td>0.381729</td>\n",
       "      <td>0.328608</td>\n",
       "      <td>0.323335</td>\n",
       "      <td>5</td>\n",
       "      <td>5</td>\n",
       "      <td>3</td>\n",
       "      <td>40</td>\n",
       "      <td>1.609438</td>\n",
       "      <td>1.609438</td>\n",
       "      <td>1.098612</td>\n",
       "      <td>3.688879</td>\n",
       "    </tr>\n",
       "  </tbody>\n",
       "</table>\n",
       "</div>"
      ],
      "text/plain": [
       "                                             unique_id   PromType2  \\\n",
       "524  WILDTYPE__Enhancer.noflip.NA__chr10:74032412.....    Enhancer   \n",
       "32   WILDTYPE_BUT_HAS_SNP__Antisense.noflip.NA__chr...  intergenic   \n",
       "488  WILDTYPE__Enhancer.flip.sense__chr14:105948394...    Enhancer   \n",
       "536  WILDTYPE__Enhancer.noflip.NA__chr11:65255188.....    Enhancer   \n",
       "129  WILDTYPE_BUT_HAS_SNP__Enhancer.noflip.NA__chr2...    Enhancer   \n",
       "\n",
       "     cage_activ   cage_ts  mpra_activ   mpra_ts  avg_tf_tissue_sp  \\\n",
       "524    0.756452  0.509430   -1.960498  0.449185          0.525147   \n",
       "32     1.473302  0.428820   -0.635878  0.127076          0.666667   \n",
       "488    0.270124  0.586244   -1.865186  0.113662          0.522747   \n",
       "536    0.214251  0.527092   -2.061971  0.122433          0.307187   \n",
       "129    0.736238  0.114857    1.135325  0.171504          0.389033   \n",
       "\n",
       "     med_tf_tissue_sp  log_avg_tf_tissue_sp  log_med_tf_tissue_sp  \\\n",
       "524          0.564277              0.422091              0.447424   \n",
       "32           0.666667              0.510826              0.510826   \n",
       "488          0.522747              0.420516              0.420516   \n",
       "536          0.265413              0.267877              0.235399   \n",
       "129          0.381729              0.328608              0.323335   \n",
       "\n",
       "     n_total_motifs  n_unique_motifs  max_cov  n_bp_cov  log_n_total_motifs  \\\n",
       "524               5                5        4        27            1.609438   \n",
       "32                1                1        1        14            0.000000   \n",
       "488               1                1        1        12            0.000000   \n",
       "536               8                8        5        58            2.079442   \n",
       "129               5                5        3        40            1.609438   \n",
       "\n",
       "     log_n_unique_motifs  log_max_cov  log_n_bp_cov  \n",
       "524             1.609438     1.386294      3.295837  \n",
       "32              0.000000     0.000000      2.639057  \n",
       "488             0.000000     0.000000      2.484907  \n",
       "536             2.079442     1.609438      4.060443  \n",
       "129             1.609438     1.098612      3.688879  "
      ]
     },
     "execution_count": 36,
     "metadata": {},
     "output_type": "execute_result"
    }
   ],
   "source": [
    "mean_activ_fimo_chip = mean_activ_fimo_chip.merge(fimo_chip_cov, on=\"unique_id\")\n",
    "mean_activ_fimo_chip.sample(5)"
   ]
  },
  {
   "cell_type": "markdown",
   "metadata": {},
   "source": [
    "## 4. plot correlations w/ MPRA data"
   ]
  },
  {
   "cell_type": "markdown",
   "metadata": {},
   "source": [
    "## tissue specificity"
   ]
  },
  {
   "cell_type": "markdown",
   "metadata": {},
   "source": [
    "#### fimo only"
   ]
  },
  {
   "cell_type": "code",
   "execution_count": 37,
   "metadata": {
    "collapsed": true
   },
   "outputs": [],
   "source": [
    "#cmap = sns.light_palette(\"#8da0cb\", as_cmap=True)\n",
    "cmap = sns.light_palette(\"darkslategray\", as_cmap=True)"
   ]
  },
  {
   "cell_type": "code",
   "execution_count": 38,
   "metadata": {
    "collapsed": true
   },
   "outputs": [],
   "source": [
    "no_nan = mean_activ_fimo[~pd.isnull(mean_activ_fimo[\"log_avg_tf_tissue_sp\"]) &\n",
    "                         ~pd.isnull(mean_activ_fimo[\"mpra_activ\"])]"
   ]
  },
  {
   "cell_type": "code",
   "execution_count": 39,
   "metadata": {},
   "outputs": [
    {
     "name": "stdout",
     "output_type": "stream",
     "text": [
      "r: -0.189914085238, spearman p: 4.63857152383e-18\n"
     ]
    },
    {
     "data": {
      "image/png": "[encoded data removed]",
      "text/plain": [
       "<matplotlib.figure.Figure at 0x2b018ba80828>"
      ]
     },
     "metadata": {},
     "output_type": "display_data"
    }
   ],
   "source": [
    "fig = plt.figure(figsize=(1.2, 1.2))\n",
    "ax = sns.kdeplot(no_nan[\"log_avg_tf_tissue_sp\"], no_nan[\"mpra_activ\"], cmap=cmap, \n",
    "                 shade=True, shade_lowest=False)\n",
    "ax.set_ylabel(\"mean MPRA activity\")\n",
    "ax.set_xlabel(\"log(mean TF tissue specificity)\")\n",
    "\n",
    "r, p = stats.spearmanr(no_nan[\"log_avg_tf_tissue_sp\"], no_nan[\"mpra_activ\"])\n",
    "print(\"r: %s, spearman p: %s\" % (r, p))\n",
    "ax.annotate(\"r = {:.2f}\".format(r), xy=(.05, .9), xycoords=ax.transAxes, fontsize=fontsize)\n",
    "fig.savefig(\"Fig_3C_3.pdf\", bbox_inches=\"tight\", dpi=\"figure\")"
   ]
  },
  {
   "cell_type": "code",
   "execution_count": 40,
   "metadata": {
    "collapsed": true
   },
   "outputs": [],
   "source": [
    "no_nan = mean_activ_fimo[~pd.isnull(mean_activ_fimo[\"log_avg_tf_tissue_sp\"]) &\n",
    "                         ~pd.isnull(mean_activ_fimo[\"mpra_ts\"])]"
   ]
  },
  {
   "cell_type": "code",
   "execution_count": 41,
   "metadata": {},
   "outputs": [
    {
     "name": "stdout",
     "output_type": "stream",
     "text": [
      "r: 0.178457917206, spearman p: 1.90474180664e-15\n"
     ]
    },
    {
     "data": {
      "image/png": "[encoded data removed]",
      "text/plain": [
       "<matplotlib.figure.Figure at 0x2b018bd8f860>"
      ]
     },
     "metadata": {},
     "output_type": "display_data"
    }
   ],
   "source": [
    "fig = plt.figure(figsize=(1.2, 1.2))\n",
    "ax = sns.kdeplot(no_nan[\"log_avg_tf_tissue_sp\"], no_nan[\"mpra_ts\"], cmap=cmap, \n",
    "                 shade=True, shade_lowest=False)\n",
    "ax.set_ylabel(\"tissue specificity in MPRA\")\n",
    "ax.set_xlabel(\"log(mean TF tissue specificity)\")\n",
    "\n",
    "r, p = stats.spearmanr(no_nan[\"log_avg_tf_tissue_sp\"], no_nan[\"mpra_ts\"])\n",
    "print(\"r: %s, spearman p: %s\" % (r, p))\n",
    "ax.annotate(\"r = {:.2f}\".format(r), xy=(.05, .9), xycoords=ax.transAxes, fontsize=fontsize)\n",
    "fig.savefig(\"Fig_3C_6.pdf\", bbox_inches=\"tight\", dpi=\"figure\")"
   ]
  },
  {
   "cell_type": "markdown",
   "metadata": {},
   "source": [
    "#### fimo intersected w/ chip"
   ]
  },
  {
   "cell_type": "code",
   "execution_count": 42,
   "metadata": {
    "collapsed": true
   },
   "outputs": [],
   "source": [
    "no_nan = mean_activ_fimo_chip[~pd.isnull(mean_activ_fimo_chip[\"log_avg_tf_tissue_sp\"]) &\n",
    "                              ~pd.isnull(mean_activ_fimo_chip[\"mpra_activ\"])]"
   ]
  },
  {
   "cell_type": "code",
   "execution_count": 43,
   "metadata": {},
   "outputs": [
    {
     "name": "stdout",
     "output_type": "stream",
     "text": [
      "r: -0.188992759675, spearman p: 5.65147994308e-08\n"
     ]
    },
    {
     "data": {
      "text/plain": [
       "<matplotlib.text.Annotation at 0x2b018c0f3898>"
      ]
     },
     "execution_count": 43,
     "metadata": {},
     "output_type": "execute_result"
    },
    {
     "data": {
      "image/png": "[encoded data removed]",
      "text/plain": [
       "<matplotlib.figure.Figure at 0x2b018ba805f8>"
      ]
     },
     "metadata": {},
     "output_type": "display_data"
    }
   ],
   "source": [
    "fig = plt.figure(figsize=(1.2, 1.2))\n",
    "ax = sns.kdeplot(no_nan[\"log_avg_tf_tissue_sp\"], no_nan[\"mpra_activ\"], cmap=cmap, \n",
    "                 shade=True, shade_lowest=False)\n",
    "ax.set_ylabel(\"mean MPRA activity\")\n",
    "ax.set_xlabel(\"log(mean TF tissue specificity)\")\n",
    "\n",
    "r, p = stats.spearmanr(no_nan[\"log_avg_tf_tissue_sp\"], no_nan[\"mpra_activ\"])\n",
    "print(\"r: %s, spearman p: %s\" % (r, p))\n",
    "ax.annotate(\"r = {:.2f}\".format(r), xy=(.05, .9), xycoords=ax.transAxes, fontsize=fontsize)\n",
    "#fig.savefig(\"Fig_3C_3.pdf\", bbox_inches=\"tight\", dpi=\"figure\")"
   ]
  },
  {
   "cell_type": "code",
   "execution_count": 44,
   "metadata": {
    "collapsed": true
   },
   "outputs": [],
   "source": [
    "no_nan = mean_activ_fimo_chip[~pd.isnull(mean_activ_fimo_chip[\"log_avg_tf_tissue_sp\"]) &\n",
    "                              ~pd.isnull(mean_activ_fimo_chip[\"mpra_ts\"])]"
   ]
  },
  {
   "cell_type": "code",
   "execution_count": 45,
   "metadata": {},
   "outputs": [
    {
     "name": "stdout",
     "output_type": "stream",
     "text": [
      "r: 0.174484990707, spearman p: 9.74923010822e-07\n"
     ]
    },
    {
     "data": {
      "text/plain": [
       "<matplotlib.text.Annotation at 0x2b018c1b7780>"
      ]
     },
     "execution_count": 45,
     "metadata": {},
     "output_type": "execute_result"
    },
    {
     "data": {
      "image/png": "[encoded data removed]",
      "text/plain": [
       "<matplotlib.figure.Figure at 0x2b018c1c4128>"
      ]
     },
     "metadata": {},
     "output_type": "display_data"
    }
   ],
   "source": [
    "fig = plt.figure(figsize=(1.2, 1.2))\n",
    "ax = sns.kdeplot(no_nan[\"log_avg_tf_tissue_sp\"], no_nan[\"mpra_ts\"], cmap=cmap, \n",
    "                 shade=True, shade_lowest=False)\n",
    "ax.set_ylabel(\"tissue specificity in MPRA\")\n",
    "ax.set_xlabel(\"log(mean TF tissue specificity)\")\n",
    "\n",
    "r, p = stats.spearmanr(no_nan[\"log_avg_tf_tissue_sp\"], no_nan[\"mpra_ts\"])\n",
    "print(\"r: %s, spearman p: %s\" % (r, p))\n",
    "ax.annotate(\"r = {:.2f}\".format(r), xy=(.05, .9), xycoords=ax.transAxes, fontsize=fontsize)\n",
    "#fig.savefig(\"Fig_3C_6.pdf\", bbox_inches=\"tight\", dpi=\"figure\")"
   ]
  },
  {
   "cell_type": "markdown",
   "metadata": {},
   "source": [
    "## number of bp covered"
   ]
  },
  {
   "cell_type": "markdown",
   "metadata": {},
   "source": [
    "#### fimo only"
   ]
  },
  {
   "cell_type": "code",
   "execution_count": 46,
   "metadata": {
    "collapsed": true
   },
   "outputs": [],
   "source": [
    "no_nan = mean_activ_fimo[~pd.isnull(mean_activ_fimo[\"log_n_bp_cov\"]) &\n",
    "                         ~pd.isnull(mean_activ_fimo[\"mpra_activ\"])]"
   ]
  },
  {
   "cell_type": "code",
   "execution_count": 47,
   "metadata": {},
   "outputs": [
    {
     "name": "stdout",
     "output_type": "stream",
     "text": [
      "r: 0.285024146464, spearman p: 1.5886278675e-39\n"
     ]
    },
    {
     "data": {
      "image/png": "[encoded data removed]",
      "text/plain": [
       "<matplotlib.figure.Figure at 0x2b018c1dd0b8>"
      ]
     },
     "metadata": {},
     "output_type": "display_data"
    }
   ],
   "source": [
    "fig = plt.figure(figsize=(1.2, 1.2))\n",
    "ax = sns.kdeplot(no_nan[\"log_n_bp_cov\"], no_nan[\"mpra_activ\"], cmap=\"Blues\", \n",
    "                 shade=True, shade_lowest=False)\n",
    "ax.set_ylabel(\"mean MPRA activity\")\n",
    "ax.set_xlabel(\"log(number of bp covered by motif)\")\n",
    "\n",
    "r, p = stats.spearmanr(no_nan[\"log_n_bp_cov\"], no_nan[\"mpra_activ\"])\n",
    "print(\"r: %s, spearman p: %s\" % (r, p))\n",
    "ax.annotate(\"r = {:.2f}\".format(r), xy=(.05, .9), xycoords=ax.transAxes, fontsize=fontsize)\n",
    "fig.savefig(\"Fig_3C_1.pdf\", bbox_inches=\"tight\", dpi=\"figure\")"
   ]
  },
  {
   "cell_type": "code",
   "execution_count": 48,
   "metadata": {
    "collapsed": true
   },
   "outputs": [],
   "source": [
    "no_nan = mean_activ_fimo[~pd.isnull(mean_activ_fimo[\"log_n_bp_cov\"]) &\n",
    "                         ~pd.isnull(mean_activ_fimo[\"mpra_ts\"])]"
   ]
  },
  {
   "cell_type": "code",
   "execution_count": 49,
   "metadata": {},
   "outputs": [
    {
     "name": "stdout",
     "output_type": "stream",
     "text": [
      "r: -0.170268799265, spearman p: 3.53227511359e-14\n"
     ]
    },
    {
     "data": {
      "image/png": "[encoded data removed]",
      "text/plain": [
       "<matplotlib.figure.Figure at 0x2b018c1dd080>"
      ]
     },
     "metadata": {},
     "output_type": "display_data"
    }
   ],
   "source": [
    "fig = plt.figure(figsize=(1.2, 1.2))\n",
    "ax = sns.kdeplot(no_nan[\"log_n_bp_cov\"], no_nan[\"mpra_ts\"], cmap=\"Blues\", \n",
    "                 shade=True, shade_lowest=False)\n",
    "ax.set_ylabel(\"tissue specificity in MPRA\")\n",
    "ax.set_xlabel(\"log(number of bp covered by motif)\")\n",
    "\n",
    "r, p = stats.spearmanr(no_nan[\"log_n_bp_cov\"], no_nan[\"mpra_ts\"])\n",
    "print(\"r: %s, spearman p: %s\" % (r, p))\n",
    "ax.annotate(\"r = {:.2f}\".format(r), xy=(.05, .9), xycoords=ax.transAxes, fontsize=fontsize)\n",
    "fig.savefig(\"Fig_3C_4.pdf\", bbox_inches=\"tight\", dpi=\"figure\")"
   ]
  },
  {
   "cell_type": "markdown",
   "metadata": {},
   "source": [
    "#### fimo intersected w/ chip"
   ]
  },
  {
   "cell_type": "code",
   "execution_count": 50,
   "metadata": {
    "collapsed": true
   },
   "outputs": [],
   "source": [
    "no_nan = mean_activ_fimo_chip[~pd.isnull(mean_activ_fimo_chip[\"log_n_bp_cov\"]) &\n",
    "                              ~pd.isnull(mean_activ_fimo_chip[\"mpra_activ\"])]"
   ]
  },
  {
   "cell_type": "code",
   "execution_count": 51,
   "metadata": {},
   "outputs": [
    {
     "name": "stdout",
     "output_type": "stream",
     "text": [
      "r: 0.441460649203, spearman p: 4.21756794424e-40\n"
     ]
    },
    {
     "data": {
      "text/plain": [
       "<matplotlib.text.Annotation at 0x2b018cb47390>"
      ]
     },
     "execution_count": 51,
     "metadata": {},
     "output_type": "execute_result"
    },
    {
     "data": {
      "image/png": "[encoded data removed]",
      "text/plain": [
       "<matplotlib.figure.Figure at 0x2b018c1dd0f0>"
      ]
     },
     "metadata": {},
     "output_type": "display_data"
    }
   ],
   "source": [
    "fig = plt.figure(figsize=(1.2, 1.2))\n",
    "ax = sns.kdeplot(no_nan[\"log_n_bp_cov\"], no_nan[\"mpra_activ\"], cmap=\"Blues\", \n",
    "                 shade=True, shade_lowest=False)\n",
    "ax.set_ylabel(\"mean MPRA activity\")\n",
    "ax.set_xlabel(\"log(number of bp covered by motif)\")\n",
    "\n",
    "r, p = stats.spearmanr(no_nan[\"log_n_bp_cov\"], no_nan[\"mpra_activ\"])\n",
    "print(\"r: %s, spearman p: %s\" % (r, p))\n",
    "ax.annotate(\"r = {:.2f}\".format(r), xy=(.05, .9), xycoords=ax.transAxes, fontsize=fontsize)\n",
    "#fig.savefig(\"Fig_3C_1.pdf\", bbox_inches=\"tight\", dpi=\"figure\")"
   ]
  },
  {
   "cell_type": "code",
   "execution_count": 52,
   "metadata": {
    "collapsed": true
   },
   "outputs": [],
   "source": [
    "no_nan = mean_activ_fimo_chip[~pd.isnull(mean_activ_fimo_chip[\"log_n_bp_cov\"]) &\n",
    "                              ~pd.isnull(mean_activ_fimo_chip[\"mpra_ts\"])]"
   ]
  },
  {
   "cell_type": "code",
   "execution_count": 53,
   "metadata": {},
   "outputs": [
    {
     "name": "stdout",
     "output_type": "stream",
     "text": [
      "r: -0.313538101667, spearman p: 3.30017216655e-19\n"
     ]
    },
    {
     "data": {
      "text/plain": [
       "<matplotlib.text.Annotation at 0x2b018c01a588>"
      ]
     },
     "execution_count": 53,
     "metadata": {},
     "output_type": "execute_result"
    },
    {
     "data": {
      "image/png": "[encoded data removed]",
      "text/plain": [
       "<matplotlib.figure.Figure at 0x2b018ca25f98>"
      ]
     },
     "metadata": {},
     "output_type": "display_data"
    }
   ],
   "source": [
    "fig = plt.figure(figsize=(1.2, 1.2))\n",
    "ax = sns.kdeplot(no_nan[\"log_n_bp_cov\"], no_nan[\"mpra_ts\"], cmap=\"Blues\", \n",
    "                 shade=True, shade_lowest=False)\n",
    "ax.set_ylabel(\"tissue specificity in MPRA\")\n",
    "ax.set_xlabel(\"log(number of bp covered by motif)\")\n",
    "\n",
    "r, p = stats.spearmanr(no_nan[\"log_n_bp_cov\"], no_nan[\"mpra_ts\"])\n",
    "print(\"r: %s, spearman p: %s\" % (r, p))\n",
    "ax.annotate(\"r = {:.2f}\".format(r), xy=(.05, .9), xycoords=ax.transAxes, fontsize=fontsize)\n",
    "#fig.savefig(\"Fig_3C_4.pdf\", bbox_inches=\"tight\", dpi=\"figure\")"
   ]
  },
  {
   "cell_type": "markdown",
   "metadata": {},
   "source": [
    "## mean overlapping coverage"
   ]
  },
  {
   "cell_type": "markdown",
   "metadata": {},
   "source": [
    "#### fimo only"
   ]
  },
  {
   "cell_type": "code",
   "execution_count": 54,
   "metadata": {
    "collapsed": true
   },
   "outputs": [],
   "source": [
    "cmap = sns.light_palette(\"firebrick\", as_cmap=True)"
   ]
  },
  {
   "cell_type": "code",
   "execution_count": 55,
   "metadata": {
    "collapsed": true
   },
   "outputs": [],
   "source": [
    "no_nan = mean_activ_fimo[~pd.isnull(mean_activ_fimo[\"log_max_cov\"]) &\n",
    "                         ~pd.isnull(mean_activ_fimo[\"mpra_activ\"])]"
   ]
  },
  {
   "cell_type": "code",
   "execution_count": 56,
   "metadata": {},
   "outputs": [
    {
     "name": "stdout",
     "output_type": "stream",
     "text": [
      "r: 0.369728534301, spearman p: 2.93206659497e-67\n"
     ]
    },
    {
     "data": {
      "image/png": "[encoded data removed]",
      "text/plain": [
       "<matplotlib.figure.Figure at 0x2b018bd5c6a0>"
      ]
     },
     "metadata": {},
     "output_type": "display_data"
    }
   ],
   "source": [
    "fig = plt.figure(figsize=(1.2, 1.2))\n",
    "ax = sns.kdeplot(no_nan[\"log_max_cov\"], no_nan[\"mpra_activ\"], cmap=cmap, \n",
    "                 shade=True, shade_lowest=False)\n",
    "ax.set_ylabel(\"mean MPRA activity\")\n",
    "ax.set_xlabel(\"log(max overlapping motifs)\")\n",
    "\n",
    "r, p = stats.spearmanr(no_nan[\"log_max_cov\"], no_nan[\"mpra_activ\"])\n",
    "print(\"r: %s, spearman p: %s\" % (r, p))\n",
    "ax.annotate(\"r = {:.2f}\".format(r), xy=(.05, .9), xycoords=ax.transAxes, fontsize=fontsize)\n",
    "fig.savefig(\"Fig_3C_2.pdf\", bbox_inches=\"tight\", dpi=\"figure\")"
   ]
  },
  {
   "cell_type": "code",
   "execution_count": 57,
   "metadata": {
    "collapsed": true
   },
   "outputs": [],
   "source": [
    "no_nan = mean_activ_fimo[~pd.isnull(mean_activ_fimo[\"log_max_cov\"]) &\n",
    "                         ~pd.isnull(mean_activ_fimo[\"mpra_ts\"])]"
   ]
  },
  {
   "cell_type": "code",
   "execution_count": 58,
   "metadata": {},
   "outputs": [
    {
     "name": "stdout",
     "output_type": "stream",
     "text": [
      "r: -0.275862481994, spearman p: 1.83320940414e-35\n"
     ]
    },
    {
     "data": {
      "image/png": "[encoded data removed]",
      "text/plain": [
       "<matplotlib.figure.Figure at 0x2b018c0e9358>"
      ]
     },
     "metadata": {},
     "output_type": "display_data"
    }
   ],
   "source": [
    "fig = plt.figure(figsize=(1.2, 1.2))\n",
    "ax = sns.kdeplot(no_nan[\"log_max_cov\"], no_nan[\"mpra_ts\"], cmap=cmap, \n",
    "                 shade=True, shade_lowest=False)\n",
    "ax.set_ylabel(\"tissue specificity in MPRA\")\n",
    "ax.set_xlabel(\"log(max overlapping motifs)\")\n",
    "\n",
    "r, p = stats.spearmanr(no_nan[\"log_max_cov\"], no_nan[\"mpra_ts\"])\n",
    "print(\"r: %s, spearman p: %s\" % (r, p))\n",
    "ax.annotate(\"r = {:.2f}\".format(r), xy=(.05, .9), xycoords=ax.transAxes, fontsize=fontsize)\n",
    "fig.savefig(\"Fig_3C_5.pdf\", bbox_inches=\"tight\", dpi=\"figure\")"
   ]
  },
  {
   "cell_type": "markdown",
   "metadata": {},
   "source": [
    "#### fimo intersected w/ chip"
   ]
  },
  {
   "cell_type": "code",
   "execution_count": 59,
   "metadata": {
    "collapsed": true
   },
   "outputs": [],
   "source": [
    "no_nan = mean_activ_fimo_chip[~pd.isnull(mean_activ_fimo_chip[\"log_max_cov\"]) &\n",
    "                              ~pd.isnull(mean_activ_fimo_chip[\"mpra_activ\"])]"
   ]
  },
  {
   "cell_type": "code",
   "execution_count": 60,
   "metadata": {},
   "outputs": [
    {
     "name": "stdout",
     "output_type": "stream",
     "text": [
      "r: 0.29930477588, spearman p: 2.74038017328e-18\n"
     ]
    },
    {
     "data": {
      "text/plain": [
       "<matplotlib.text.Annotation at 0x2b018cbcdda0>"
      ]
     },
     "execution_count": 60,
     "metadata": {},
     "output_type": "execute_result"
    },
    {
     "data": {
      "image/png": "[encoded data removed]",
      "text/plain": [
       "<matplotlib.figure.Figure at 0x2b018c093ef0>"
      ]
     },
     "metadata": {},
     "output_type": "display_data"
    }
   ],
   "source": [
    "fig = plt.figure(figsize=(1.2, 1.2))\n",
    "ax = sns.kdeplot(no_nan[\"log_max_cov\"], no_nan[\"mpra_activ\"], cmap=cmap, \n",
    "                 shade=True, shade_lowest=False)\n",
    "ax.set_ylabel(\"mean MPRA activity\")\n",
    "ax.set_xlabel(\"log(max overlapping motifs)\")\n",
    "\n",
    "r, p = stats.spearmanr(no_nan[\"log_max_cov\"], no_nan[\"mpra_activ\"])\n",
    "print(\"r: %s, spearman p: %s\" % (r, p))\n",
    "ax.annotate(\"r = {:.2f}\".format(r), xy=(.05, .9), xycoords=ax.transAxes, fontsize=fontsize)\n",
    "#fig.savefig(\"Fig_3C_2.pdf\", bbox_inches=\"tight\", dpi=\"figure\")"
   ]
  },
  {
   "cell_type": "code",
   "execution_count": null,
   "metadata": {
    "collapsed": true
   },
   "outputs": [],
   "source": [
    "no_nan = mean_activ_fimo_chip[~pd.isnull(mean_activ_fimo_chip[\"log_max_cov\"]) &\n",
    "                              ~pd.isnull(mean_activ_fimo_chip[\"mpra_ts\"])]"
   ]
  },
  {
   "cell_type": "code",
   "execution_count": null,
   "metadata": {},
   "outputs": [],
   "source": [
    "fig = plt.figure(figsize=(1.2, 1.2))\n",
    "ax = sns.kdeplot(no_nan[\"log_max_cov\"], no_nan[\"mpra_ts\"], cmap=cmap, \n",
    "                 shade=True, shade_lowest=False)\n",
    "ax.set_ylabel(\"tissue specificity in MPRA\")\n",
    "ax.set_xlabel(\"log(max overlapping motifs)\")\n",
    "\n",
    "r, p = stats.spearmanr(no_nan[\"log_max_cov\"], no_nan[\"mpra_ts\"])\n",
    "print(\"r: %s, spearman p: %s\" % (r, p))\n",
    "ax.annotate(\"r = {:.2f}\".format(r), xy=(.05, .9), xycoords=ax.transAxes, fontsize=fontsize)\n",
    "#fig.savefig(\"Fig_3C_5.pdf\", bbox_inches=\"tight\", dpi=\"figure\")"
   ]
  },
  {
   "cell_type": "markdown",
   "metadata": {},
   "source": [
    "## 5. plot correlations w/ CAGE data"
   ]
  },
  {
   "cell_type": "markdown",
   "metadata": {},
   "source": [
    "## TF tissue specificity"
   ]
  },
  {
   "cell_type": "markdown",
   "metadata": {},
   "source": [
    "#### fimo only"
   ]
  },
  {
   "cell_type": "code",
   "execution_count": null,
   "metadata": {
    "collapsed": true
   },
   "outputs": [],
   "source": [
    "#cmap = sns.light_palette(\"#8da0cb\", as_cmap=True)\n",
    "cmap = sns.light_palette(\"darkslategray\", as_cmap=True)"
   ]
  },
  {
   "cell_type": "code",
   "execution_count": null,
   "metadata": {
    "collapsed": true
   },
   "outputs": [],
   "source": [
    "no_nan = mean_activ_fimo[~pd.isnull(mean_activ_fimo[\"log_avg_tf_tissue_sp\"]) &\n",
    "                         ~pd.isnull(mean_activ_fimo[\"cage_activ\"])]"
   ]
  },
  {
   "cell_type": "code",
   "execution_count": null,
   "metadata": {},
   "outputs": [],
   "source": [
    "fig = plt.figure(figsize=(1.2, 1.2))\n",
    "ax = sns.kdeplot(no_nan[\"log_avg_tf_tissue_sp\"], no_nan[\"cage_activ\"], cmap=cmap, \n",
    "                 shade=True, shade_lowest=False)\n",
    "ax.set_ylabel(\"CAGE expression\")\n",
    "ax.set_xlabel(\"log(mean TF tissue specificity)\")\n",
    "\n",
    "r, p = stats.spearmanr(no_nan[\"log_avg_tf_tissue_sp\"], no_nan[\"cage_activ\"])\n",
    "print(\"r: %s, spearman p: %s\" % (r, p))\n",
    "ax.annotate(\"r = {:.2f}\".format(r), xy=(.05, .9), xycoords=ax.transAxes, fontsize=fontsize)\n",
    "#fig.savefig(\"Fig_3C_6.pdf\", bbox_inches=\"tight\", dpi=\"figure\")"
   ]
  },
  {
   "cell_type": "code",
   "execution_count": null,
   "metadata": {
    "collapsed": true
   },
   "outputs": [],
   "source": [
    "no_nan = mean_activ_fimo[~pd.isnull(mean_activ_fimo[\"log_avg_tf_tissue_sp\"]) &\n",
    "                         ~pd.isnull(mean_activ_fimo[\"cage_ts\"])]"
   ]
  },
  {
   "cell_type": "code",
   "execution_count": null,
   "metadata": {},
   "outputs": [],
   "source": [
    "fig = plt.figure(figsize=(1.2, 1.2))\n",
    "ax = sns.kdeplot(no_nan[\"log_avg_tf_tissue_sp\"], no_nan[\"cage_ts\"], cmap=cmap, \n",
    "                 shade=True, shade_lowest=False)\n",
    "ax.set_ylabel(\"tissue specificity in CAGE\")\n",
    "ax.set_xlabel(\"log(mean TF tissue specificity)\")\n",
    "\n",
    "r, p = stats.spearmanr(no_nan[\"log_avg_tf_tissue_sp\"], no_nan[\"cage_ts\"])\n",
    "print(\"r: %s, spearman p: %s\" % (r, p))\n",
    "ax.annotate(\"r = {:.2f}\".format(r), xy=(.05, .9), xycoords=ax.transAxes, fontsize=fontsize)\n",
    "#fig.savefig(\"Fig_3C_6.pdf\", bbox_inches=\"tight\", dpi=\"figure\")"
   ]
  },
  {
   "cell_type": "markdown",
   "metadata": {},
   "source": [
    "#### fimo intersected w/ chip"
   ]
  },
  {
   "cell_type": "code",
   "execution_count": null,
   "metadata": {
    "collapsed": true
   },
   "outputs": [],
   "source": [
    "no_nan = mean_activ_fimo_chip[~pd.isnull(mean_activ_fimo_chip[\"log_avg_tf_tissue_sp\"]) &\n",
    "                              ~pd.isnull(mean_activ_fimo_chip[\"cage_activ\"])]"
   ]
  },
  {
   "cell_type": "code",
   "execution_count": null,
   "metadata": {},
   "outputs": [],
   "source": [
    "fig = plt.figure(figsize=(1.2, 1.2))\n",
    "ax = sns.kdeplot(no_nan[\"log_avg_tf_tissue_sp\"], no_nan[\"cage_activ\"], cmap=cmap, \n",
    "                 shade=True, shade_lowest=False)\n",
    "ax.set_ylabel(\"CAGE expression\")\n",
    "ax.set_xlabel(\"log(mean TF tissue specificity)\")\n",
    "\n",
    "r, p = stats.spearmanr(no_nan[\"log_avg_tf_tissue_sp\"], no_nan[\"cage_activ\"])\n",
    "print(\"r: %s, spearman p: %s\" % (r, p))\n",
    "ax.annotate(\"r = {:.2f}\".format(r), xy=(.05, .9), xycoords=ax.transAxes, fontsize=fontsize)\n",
    "#fig.savefig(\"Fig_3C_6.pdf\", bbox_inches=\"tight\", dpi=\"figure\")"
   ]
  },
  {
   "cell_type": "code",
   "execution_count": null,
   "metadata": {
    "collapsed": true
   },
   "outputs": [],
   "source": [
    "no_nan = mean_activ_fimo_chip[~pd.isnull(mean_activ_fimo_chip[\"log_avg_tf_tissue_sp\"]) &\n",
    "                              ~pd.isnull(mean_activ_fimo_chip[\"cage_ts\"])]"
   ]
  },
  {
   "cell_type": "code",
   "execution_count": null,
   "metadata": {},
   "outputs": [],
   "source": [
    "fig = plt.figure(figsize=(1.2, 1.2))\n",
    "ax = sns.kdeplot(no_nan[\"log_avg_tf_tissue_sp\"], no_nan[\"cage_ts\"], cmap=cmap, \n",
    "                 shade=True, shade_lowest=False)\n",
    "ax.set_ylabel(\"tissue specificity in CAGE\")\n",
    "ax.set_xlabel(\"log(mean TF tissue specificity)\")\n",
    "\n",
    "r, p = stats.spearmanr(no_nan[\"log_avg_tf_tissue_sp\"], no_nan[\"cage_ts\"])\n",
    "print(\"r: %s, spearman p: %s\" % (r, p))\n",
    "ax.annotate(\"r = {:.2f}\".format(r), xy=(.05, .9), xycoords=ax.transAxes, fontsize=fontsize)\n",
    "#fig.savefig(\"Fig_3C_6.pdf\", bbox_inches=\"tight\", dpi=\"figure\")"
   ]
  },
  {
   "cell_type": "markdown",
   "metadata": {},
   "source": [
    "## # bp covered"
   ]
  },
  {
   "cell_type": "markdown",
   "metadata": {},
   "source": [
    "#### fimo only"
   ]
  },
  {
   "cell_type": "code",
   "execution_count": null,
   "metadata": {
    "collapsed": true
   },
   "outputs": [],
   "source": [
    "no_nan = mean_activ_fimo[~pd.isnull(mean_activ_fimo[\"log_n_bp_cov\"]) &\n",
    "                         ~pd.isnull(mean_activ_fimo[\"cage_activ\"])]"
   ]
  },
  {
   "cell_type": "code",
   "execution_count": null,
   "metadata": {},
   "outputs": [],
   "source": [
    "fig = plt.figure(figsize=(1.2, 1.2))\n",
    "ax = sns.kdeplot(no_nan[\"log_n_bp_cov\"], no_nan[\"cage_activ\"], cmap=\"Blues\", \n",
    "                 shade=True, shade_lowest=False)\n",
    "ax.set_ylabel(\"CAGE expression\")\n",
    "ax.set_xlabel(\"log(number of bp covered by motif)\")\n",
    "\n",
    "r, p = stats.spearmanr(no_nan[\"log_n_bp_cov\"], no_nan[\"cage_activ\"])\n",
    "print(\"r: %s, spearman p: %s\" % (r, p))\n",
    "ax.annotate(\"r = {:.2f}\".format(r), xy=(.05, .9), xycoords=ax.transAxes, fontsize=fontsize)\n",
    "#fig.savefig(\"Fig_3C_4.pdf\", bbox_inches=\"tight\", dpi=\"figure\")"
   ]
  },
  {
   "cell_type": "code",
   "execution_count": null,
   "metadata": {
    "collapsed": true
   },
   "outputs": [],
   "source": [
    "no_nan = mean_activ_fimo[~pd.isnull(mean_activ_fimo[\"log_n_bp_cov\"]) &\n",
    "                         ~pd.isnull(mean_activ_fimo[\"cage_ts\"])]"
   ]
  },
  {
   "cell_type": "code",
   "execution_count": null,
   "metadata": {},
   "outputs": [],
   "source": [
    "fig = plt.figure(figsize=(1.2, 1.2))\n",
    "ax = sns.kdeplot(no_nan[\"log_n_bp_cov\"], no_nan[\"cage_ts\"], cmap=\"Blues\", \n",
    "                 shade=True, shade_lowest=False)\n",
    "ax.set_ylabel(\"tissue specificity in CAGE\")\n",
    "ax.set_xlabel(\"log(number of bp covered by motif)\")\n",
    "\n",
    "r, p = stats.spearmanr(no_nan[\"log_n_bp_cov\"], no_nan[\"cage_ts\"])\n",
    "print(\"r: %s, spearman p: %s\" % (r, p))\n",
    "ax.annotate(\"r = {:.2f}\".format(r), xy=(.05, .9), xycoords=ax.transAxes, fontsize=fontsize)\n",
    "#fig.savefig(\"Fig_3C_4.pdf\", bbox_inches=\"tight\", dpi=\"figure\")"
   ]
  },
  {
   "cell_type": "markdown",
   "metadata": {},
   "source": [
    "#### fimo intersected w/ chip"
   ]
  },
  {
   "cell_type": "code",
   "execution_count": null,
   "metadata": {
    "collapsed": true
   },
   "outputs": [],
   "source": [
    "no_nan = mean_activ_fimo_chip[~pd.isnull(mean_activ_fimo_chip[\"log_n_bp_cov\"]) &\n",
    "                              ~pd.isnull(mean_activ_fimo_chip[\"cage_activ\"])]"
   ]
  },
  {
   "cell_type": "code",
   "execution_count": null,
   "metadata": {},
   "outputs": [],
   "source": [
    "fig = plt.figure(figsize=(1.2, 1.2))\n",
    "ax = sns.kdeplot(no_nan[\"log_n_bp_cov\"], no_nan[\"cage_activ\"], cmap=\"Blues\", \n",
    "                 shade=True, shade_lowest=False)\n",
    "ax.set_ylabel(\"CAGE expression\")\n",
    "ax.set_xlabel(\"log(number of bp covered by motif)\")\n",
    "\n",
    "r, p = stats.spearmanr(no_nan[\"log_n_bp_cov\"], no_nan[\"cage_activ\"])\n",
    "print(\"r: %s, spearman p: %s\" % (r, p))\n",
    "ax.annotate(\"r = {:.2f}\".format(r), xy=(.05, .9), xycoords=ax.transAxes, fontsize=fontsize)\n",
    "#fig.savefig(\"Fig_3C_4.pdf\", bbox_inches=\"tight\", dpi=\"figure\")"
   ]
  },
  {
   "cell_type": "code",
   "execution_count": null,
   "metadata": {
    "collapsed": true
   },
   "outputs": [],
   "source": [
    "no_nan = mean_activ_fimo_chip[~pd.isnull(mean_activ_fimo_chip[\"log_n_bp_cov\"]) &\n",
    "                              ~pd.isnull(mean_activ_fimo_chip[\"cage_ts\"])]"
   ]
  },
  {
   "cell_type": "code",
   "execution_count": null,
   "metadata": {},
   "outputs": [],
   "source": [
    "fig = plt.figure(figsize=(1.2, 1.2))\n",
    "ax = sns.kdeplot(no_nan[\"log_n_bp_cov\"], no_nan[\"cage_ts\"], cmap=\"Blues\", \n",
    "                 shade=True, shade_lowest=False)\n",
    "ax.set_ylabel(\"tissue specificity in CAGE\")\n",
    "ax.set_xlabel(\"log(number of bp covered by motif)\")\n",
    "\n",
    "r, p = stats.spearmanr(no_nan[\"log_n_bp_cov\"], no_nan[\"cage_ts\"])\n",
    "print(\"r: %s, spearman p: %s\" % (r, p))\n",
    "ax.annotate(\"r = {:.2f}\".format(r), xy=(.05, .9), xycoords=ax.transAxes, fontsize=fontsize)\n",
    "#fig.savefig(\"Fig_3C_4.pdf\", bbox_inches=\"tight\", dpi=\"figure\")"
   ]
  },
  {
   "cell_type": "markdown",
   "metadata": {},
   "source": [
    "## mean overlapping motifs"
   ]
  },
  {
   "cell_type": "markdown",
   "metadata": {},
   "source": [
    "#### fimo only"
   ]
  },
  {
   "cell_type": "code",
   "execution_count": null,
   "metadata": {
    "collapsed": true
   },
   "outputs": [],
   "source": [
    "cmap = sns.light_palette(\"firebrick\", as_cmap=True)"
   ]
  },
  {
   "cell_type": "code",
   "execution_count": null,
   "metadata": {
    "collapsed": true
   },
   "outputs": [],
   "source": [
    "no_nan = mean_activ_fimo[~pd.isnull(mean_activ_fimo[\"log_max_cov\"]) &\n",
    "                         ~pd.isnull(mean_activ_fimo[\"cage_activ\"])]"
   ]
  },
  {
   "cell_type": "code",
   "execution_count": null,
   "metadata": {},
   "outputs": [],
   "source": [
    "fig = plt.figure(figsize=(1.2, 1.2))\n",
    "ax = sns.kdeplot(no_nan[\"log_max_cov\"], no_nan[\"cage_activ\"], cmap=cmap, \n",
    "                 shade=True, shade_lowest=False)\n",
    "ax.set_ylabel(\"CAGE expression\")\n",
    "ax.set_xlabel(\"log(max overlapping motifs)\")\n",
    "\n",
    "r, p = stats.spearmanr(no_nan[\"log_max_cov\"], no_nan[\"cage_activ\"])\n",
    "print(\"r: %s, spearman p: %s\" % (r, p))\n",
    "ax.annotate(\"r = {:.2f}\".format(r), xy=(.05, .9), xycoords=ax.transAxes, fontsize=fontsize)\n",
    "#fig.savefig(\"Fig_3C_5.pdf\", bbox_inches=\"tight\", dpi=\"figure\")"
   ]
  },
  {
   "cell_type": "code",
   "execution_count": null,
   "metadata": {
    "collapsed": true
   },
   "outputs": [],
   "source": [
    "no_nan = mean_activ_fimo[~pd.isnull(mean_activ_fimo[\"log_max_cov\"]) &\n",
    "                         ~pd.isnull(mean_activ_fimo[\"cage_ts\"])]"
   ]
  },
  {
   "cell_type": "code",
   "execution_count": null,
   "metadata": {},
   "outputs": [],
   "source": [
    "fig = plt.figure(figsize=(1.2, 1.2))\n",
    "ax = sns.kdeplot(no_nan[\"log_max_cov\"], no_nan[\"cage_ts\"], cmap=cmap, \n",
    "                 shade=True, shade_lowest=False)\n",
    "ax.set_ylabel(\"tissue specificity in CAGE\")\n",
    "ax.set_xlabel(\"log(max overlapping motifs)\")\n",
    "\n",
    "r, p = stats.spearmanr(no_nan[\"log_max_cov\"], no_nan[\"cage_ts\"])\n",
    "print(\"r: %s, spearman p: %s\" % (r, p))\n",
    "ax.annotate(\"r = {:.2f}\".format(r), xy=(.05, .9), xycoords=ax.transAxes, fontsize=fontsize)\n",
    "#fig.savefig(\"Fig_3C_5.pdf\", bbox_inches=\"tight\", dpi=\"figure\")"
   ]
  },
  {
   "cell_type": "markdown",
   "metadata": {},
   "source": [
    "#### fimo intersected w/ chip"
   ]
  },
  {
   "cell_type": "code",
   "execution_count": null,
   "metadata": {
    "collapsed": true
   },
   "outputs": [],
   "source": [
    "no_nan = mean_activ_fimo_chip[~pd.isnull(mean_activ_fimo_chip[\"log_max_cov\"]) &\n",
    "                              ~pd.isnull(mean_activ_fimo_chip[\"cage_activ\"])]"
   ]
  },
  {
   "cell_type": "code",
   "execution_count": null,
   "metadata": {},
   "outputs": [],
   "source": [
    "fig = plt.figure(figsize=(1.2, 1.2))\n",
    "ax = sns.kdeplot(no_nan[\"log_max_cov\"], no_nan[\"cage_activ\"], cmap=cmap, \n",
    "                 shade=True, shade_lowest=False)\n",
    "ax.set_ylabel(\"CAGE expression\")\n",
    "ax.set_xlabel(\"log(max overlapping motifs)\")\n",
    "\n",
    "r, p = stats.spearmanr(no_nan[\"log_max_cov\"], no_nan[\"cage_activ\"])\n",
    "print(\"r: %s, spearman p: %s\" % (r, p))\n",
    "ax.annotate(\"r = {:.2f}\".format(r), xy=(.05, .9), xycoords=ax.transAxes, fontsize=fontsize)\n",
    "#fig.savefig(\"Fig_3C_5.pdf\", bbox_inches=\"tight\", dpi=\"figure\")"
   ]
  },
  {
   "cell_type": "code",
   "execution_count": null,
   "metadata": {
    "collapsed": true
   },
   "outputs": [],
   "source": [
    "no_nan = mean_activ_fimo_chip[~pd.isnull(mean_activ_fimo_chip[\"log_max_cov\"]) &\n",
    "                              ~pd.isnull(mean_activ_fimo_chip[\"cage_ts\"])]"
   ]
  },
  {
   "cell_type": "code",
   "execution_count": null,
   "metadata": {},
   "outputs": [],
   "source": [
    "fig = plt.figure(figsize=(1.2, 1.2))\n",
    "ax = sns.kdeplot(no_nan[\"log_max_cov\"], no_nan[\"cage_ts\"], cmap=cmap, \n",
    "                 shade=True, shade_lowest=False)\n",
    "ax.set_ylabel(\"tissue specificity in CAGE\")\n",
    "ax.set_xlabel(\"log(max overlapping motifs)\")\n",
    "\n",
    "r, p = stats.spearmanr(no_nan[\"log_max_cov\"], no_nan[\"cage_ts\"])\n",
    "print(\"r: %s, spearman p: %s\" % (r, p))\n",
    "ax.annotate(\"r = {:.2f}\".format(r), xy=(.05, .9), xycoords=ax.transAxes, fontsize=fontsize)\n",
    "#fig.savefig(\"Fig_3C_5.pdf\", bbox_inches=\"tight\", dpi=\"figure\")"
   ]
  },
  {
   "cell_type": "markdown",
   "metadata": {},
   "source": [
    "### check correlation b/w CAGE and MPRA ts"
   ]
  },
  {
   "cell_type": "code",
   "execution_count": null,
   "metadata": {
    "collapsed": true
   },
   "outputs": [],
   "source": [
    "no_nan = mean_activ_fimo[~pd.isnull(mean_activ_fimo[\"mpra_ts\"]) &\n",
    "                         ~pd.isnull(mean_activ_fimo[\"cage_ts\"])]"
   ]
  },
  {
   "cell_type": "code",
   "execution_count": null,
   "metadata": {},
   "outputs": [],
   "source": [
    "fig = plt.figure(figsize=(1.2, 1.2))\n",
    "ax = sns.kdeplot(no_nan[\"mpra_ts\"], no_nan[\"cage_ts\"], cmap=cmap, \n",
    "                 shade=True, shade_lowest=False)\n",
    "ax.set_ylabel(\"tissue specificity in CAGE\")\n",
    "ax.set_xlabel(\"tissue specificity in MPRA\")\n",
    "\n",
    "r, p = stats.spearmanr(no_nan[\"mpra_ts\"], no_nan[\"cage_ts\"])\n",
    "print(\"r: %s, spearman p: %s\" % (r, p))\n",
    "ax.annotate(\"r = {:.2f}\".format(r), xy=(.05, .9), xycoords=ax.transAxes, fontsize=fontsize)\n",
    "#fig.savefig(\"Fig_3C_5.pdf\", bbox_inches=\"tight\", dpi=\"figure\")"
   ]
  },
  {
   "cell_type": "markdown",
   "metadata": {},
   "source": [
    "## 6. write files"
   ]
  },
  {
   "cell_type": "code",
   "execution_count": null,
   "metadata": {
    "collapsed": true
   },
   "outputs": [],
   "source": [
    "mean_activ_fimo.drop([\"med_tf_tissue_sp\", \"log_med_tf_tissue_sp\"], axis=1, inplace=True)"
   ]
  },
  {
   "cell_type": "code",
   "execution_count": null,
   "metadata": {
    "collapsed": true
   },
   "outputs": [],
   "source": [
    "mean_activ_fimo_chip.drop([\"med_tf_tissue_sp\", \"log_med_tf_tissue_sp\"], axis=1, inplace=True)"
   ]
  },
  {
   "cell_type": "code",
   "execution_count": null,
   "metadata": {
    "collapsed": true
   },
   "outputs": [],
   "source": [
    "out_dir = \"../../data/04__coverage\"\n",
    "!mkdir -p $out_dir\n",
    "mean_activ_fimo.to_csv(\"%s/FIMO.coverage.new.txt\" % out_dir, sep=\"\\t\", index=False)\n",
    "mean_activ_fimo_chip.to_csv(\"%s/FIMO.ChIPIntersect.coverage.new.txt\" % out_dir, sep=\"\\t\", index=False)"
   ]
  },
  {
   "cell_type": "code",
   "execution_count": null,
   "metadata": {
    "collapsed": true
   },
   "outputs": [],
   "source": []
  }
 ],
 "metadata": {
  "kernelspec": {
   "display_name": "Python 3",
   "language": "python",
   "name": "python3"
  },
  "language_info": {
   "codemirror_mode": {
    "name": "ipython",
    "version": 3
   },
   "file_extension": ".py",
   "mimetype": "text/x-python",
   "name": "python",
   "nbconvert_exporter": "python",
   "pygments_lexer": "ipython3",
   "version": "3.6.2"
  }
 },
 "nbformat": 4,
 "nbformat_minor": 2
}
