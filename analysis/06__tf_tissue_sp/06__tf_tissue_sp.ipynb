{
 "cells": [
  {
   "cell_type": "markdown",
   "metadata": {},
   "source": [
    "# 06__tf_tissue_sp\n",
    "# calculating tissue specificity of TFs (across HepG2, HeLa, and K562)\n",
    "\n",
    "in this notebook, i calculate the tissue specificity of TFs across the 3 cell types in our MPRAs using ENCODE RNA-seq data. then, i correlate motif coverage (# bp covered and maximum coverage) as well as average TF specificity with MPRA activities and specificities.\n",
    "\n",
    "note: the FIMO mappings and coverage calculations were done separately (see methods)\n",
    "\n",
    "------\n",
    "\n",
    "figures in this notebook:\n",
    "- **Fig 2C**: KDE plot of correlations of MPRA activity & specificity with each of the 3 metrics"
   ]
  },
  {
   "cell_type": "code",
   "execution_count": 1,
   "metadata": {
    "collapsed": true
   },
   "outputs": [],
   "source": [
    "import warnings\n",
    "warnings.filterwarnings('ignore')\n",
    "\n",
    "import pandas as pd\n",
    "import numpy as np\n",
    "import matplotlib as mpl\n",
    "import matplotlib.pyplot as plt\n",
    "import seaborn as sns\n",
    "import sys\n",
    "import time\n",
    "\n",
    "from itertools import chain\n",
    "from decimal import Decimal\n",
    "from scipy import stats\n",
    "from scipy import signal\n",
    "from statsmodels.sandbox.stats import multicomp\n",
    "\n",
    "# import utils\n",
    "sys.path.append(\"../../utils\")\n",
    "from plotting_utils import *\n",
    "from misc_utils import *\n",
    "from norm_utils import *\n",
    "\n",
    "%matplotlib inline"
   ]
  },
  {
   "cell_type": "code",
   "execution_count": 2,
   "metadata": {
    "collapsed": true
   },
   "outputs": [],
   "source": [
    "sns.set(**PAPER_PRESET)\n",
    "fontsize = PAPER_FONTSIZE"
   ]
  },
  {
   "cell_type": "markdown",
   "metadata": {},
   "source": [
    "## functions"
   ]
  },
  {
   "cell_type": "code",
   "execution_count": 3,
   "metadata": {
    "collapsed": true
   },
   "outputs": [],
   "source": [
    "def fix_small_decimal(row):\n",
    "    if row.max_cov < 1:\n",
    "        return 0\n",
    "    else:\n",
    "        return row.max_cov"
   ]
  },
  {
   "cell_type": "code",
   "execution_count": 4,
   "metadata": {
    "collapsed": true
   },
   "outputs": [],
   "source": [
    "def get_cage_id(row):\n",
    "    if \"Enhancer\" in row.unique_id:\n",
    "        return row.unique_id.split(\"__\")[1]\n",
    "    else:\n",
    "        return row.unique_id.split(\"__\")[2]"
   ]
  },
  {
   "cell_type": "markdown",
   "metadata": {},
   "source": [
    "## variables"
   ]
  },
  {
   "cell_type": "code",
   "execution_count": 5,
   "metadata": {
    "collapsed": true
   },
   "outputs": [],
   "source": [
    "index_dir = \"../../data/00__index\"\n",
    "index_f = \"%s/tss_oligo_pool.index.txt\" % index_dir"
   ]
  },
  {
   "cell_type": "code",
   "execution_count": 6,
   "metadata": {
    "collapsed": true
   },
   "outputs": [],
   "source": [
    "hepg2_activ_f = \"../../data/02__activs/POOL1__pMPRA1__HepG2__activities_per_element.txt\"\n",
    "hela_activ_f = \"../../data/02__activs/POOL1__pMPRA1__HeLa__activities_per_element.txt\"\n",
    "k562_activ_f = \"../../data/02__activs/POOL1__pMPRA1__K562__activities_per_element.txt\""
   ]
  },
  {
   "cell_type": "code",
   "execution_count": 7,
   "metadata": {
    "collapsed": true
   },
   "outputs": [],
   "source": [
    "fimo_f = \"../../misc/03__fimo/00__fimo_outputs/all_fimo_map.new_deduped.txt.gz\"\n",
    "fimo_chip_f = \"../../misc/03__fimo/00__fimo_outputs/all_fimo_map.new_chip_intersected.new_deduped.txt.gz\"\n",
    "pool1_fimo_f = \"../../misc/03__fimo/00__fimo_outputs/pool1_fimo_map.new_deduped.txt\"\n",
    "pool1_fimo_chip_f = \"../../misc/03__fimo/00__fimo_outputs/pool1_fimo_map.new_chip_intersected.new_deduped.txt\"\n",
    "pool1_fimo_no_ets_f = \"../../misc/03__fimo/00__fimo_outputs/pool1_fimo_map.no_ETS_motifs.new_deduped.txt\"\n",
    "pool1_fimo_no_ets_chip_f = \"../../misc/03__fimo/00__fimo_outputs/pool1_fimo_map.new_chip_intersected.no_ETS_motifs.new_deduped.txt\""
   ]
  },
  {
   "cell_type": "code",
   "execution_count": 8,
   "metadata": {
    "collapsed": true
   },
   "outputs": [],
   "source": [
    "fimo_bp_cov_f = \"../../data/04__coverage/all_fimo_map.new_deduped.bp_covered.txt\"\n",
    "fimo_max_cov_f = \"../../data/04__coverage/all_fimo_map.new_deduped.max_coverage.txt\"\n",
    "\n",
    "fimo_chip_bp_cov_f = \"../../data/04__coverage/all_fimo_map.new_chip_intersected.new_deduped.bp_covered.txt\"\n",
    "fimo_chip_max_cov_f = \"../../data/04__coverage/all_fimo_map.new_chip_intersected.new_deduped.max_coverage.txt\"\n",
    "\n",
    "fimo_clust_bp_cov_f = \"../../data/04__coverage/all_fimo_map.bulyk_clusters.new_deduped.bp_covered.txt\"\n",
    "fimo_clust_max_cov_f = \"../../data/04__coverage/all_fimo_map.bulyk_clusters.new_deduped.max_coverage.txt\"\n",
    "\n",
    "fimo_mosbat_bp_cov_f = \"../../data/04__coverage/all_fimo_map.mosbat_clusters.bp_covered.txt\"\n",
    "fimo_mosbat_max_cov_f = \"../../data/04__coverage/all_fimo_map.mosbat_clusters.max_coverage.txt\""
   ]
  },
  {
   "cell_type": "code",
   "execution_count": 9,
   "metadata": {
    "collapsed": true
   },
   "outputs": [],
   "source": [
    "fimo_no_ets_bp_cov_f = \"../../data/04__coverage/all_fimo_map.no_ETS_motifs.new_deduped.bp_covered.txt\"\n",
    "fimo_no_ets_max_cov_f = \"../../data/04__coverage/all_fimo_map.no_ETS_motifs.new_deduped.max_coverage.txt\"\n",
    "\n",
    "fimo_no_ets_chip_bp_cov_f = \"../../data/04__coverage/all_fimo_map.new_chip_intersected.no_ETS_motifs.new_deduped.bp_covered.txt\"\n",
    "fimo_no_ets_chip_max_cov_f = \"../../data/04__coverage/all_fimo_map.new_chip_intersected.no_ETS_motifs.new_deduped.max_coverage.txt\""
   ]
  },
  {
   "cell_type": "code",
   "execution_count": 10,
   "metadata": {
    "collapsed": true
   },
   "outputs": [],
   "source": [
    "pool1_fimo_bp_cov_f = \"../../data/04__coverage/pool1_fimo_map.new_deduped.bp_covered.txt\"\n",
    "pool1_fimo_max_cov_f = \"../../data/04__coverage/pool1_fimo_map.new_deduped.max_coverage.txt\"\n",
    "\n",
    "pool1_fimo_chip_bp_cov_f = \"../../data/04__coverage/pool1_fimo_map.new_chip_intersected.new_deduped.bp_covered.txt\"\n",
    "pool1_fimo_chip_max_cov_f = \"../../data/04__coverage/pool1_fimo_map.new_chip_intersected.new_deduped.max_coverage.txt\""
   ]
  },
  {
   "cell_type": "code",
   "execution_count": 11,
   "metadata": {
    "collapsed": true
   },
   "outputs": [],
   "source": [
    "pool1_fimo_no_ets_bp_cov_f = \"../../data/04__coverage/pool1_fimo_map.no_ETS_motifs.new_deduped.bp_covered.txt\"\n",
    "pool1_fimo_no_ets_max_cov_f = \"../../data/04__coverage/pool1_fimo_map.no_ETS_motifs.new_deduped.max_coverage.txt\"\n",
    "\n",
    "pool1_fimo_no_ets_chip_bp_cov_f = \"../../data/04__coverage/pool1_fimo_map.new_chip_intersected.no_ETS_motifs.new_deduped.bp_covered.txt\"\n",
    "pool1_fimo_no_ets_chip_max_cov_f = \"../../data/04__coverage/pool1_fimo_map.new_chip_intersected.no_ETS_motifs.new_deduped.max_coverage.txt\""
   ]
  },
  {
   "cell_type": "code",
   "execution_count": 12,
   "metadata": {
    "collapsed": true
   },
   "outputs": [],
   "source": [
    "tf_ts_f = \"../../data/04__coverage/TF_tissue_specificities.from_CAGE.txt\""
   ]
  },
  {
   "cell_type": "code",
   "execution_count": 13,
   "metadata": {
    "collapsed": true
   },
   "outputs": [],
   "source": [
    "cage_v_mpra_f = \"../../data/02__activs/POOL1__pMPRA1__CAGE_vs_MPRA_activs.txt\""
   ]
  },
  {
   "cell_type": "code",
   "execution_count": 14,
   "metadata": {
    "collapsed": true
   },
   "outputs": [],
   "source": [
    "tss_cage_map_f = \"../../misc/00__tss_properties/mpra_tss_detailed_info.txt\"\n",
    "enh_cage_map_f = \"../../misc/00__tss_properties/enhancer_id_map.txt\""
   ]
  },
  {
   "cell_type": "markdown",
   "metadata": {},
   "source": [
    "## 1. import data"
   ]
  },
  {
   "cell_type": "code",
   "execution_count": 15,
   "metadata": {},
   "outputs": [
    {
     "data": {
      "text/html": [
       "<div>\n",
       "<style>\n",
       "    .dataframe thead tr:only-child th {\n",
       "        text-align: right;\n",
       "    }\n",
       "\n",
       "    .dataframe thead th {\n",
       "        text-align: left;\n",
       "    }\n",
       "\n",
       "    .dataframe tbody tr th {\n",
       "        vertical-align: top;\n",
       "    }\n",
       "</style>\n",
       "<table border=\"1\" class=\"dataframe\">\n",
       "  <thead>\n",
       "    <tr style=\"text-align: right;\">\n",
       "      <th></th>\n",
       "      <th>motif_chr</th>\n",
       "      <th>motif_start</th>\n",
       "      <th>motif_end</th>\n",
       "      <th>unique_id</th>\n",
       "      <th>score</th>\n",
       "      <th>strand</th>\n",
       "      <th>chr</th>\n",
       "      <th>start</th>\n",
       "      <th>end</th>\n",
       "      <th>motif</th>\n",
       "      <th>motif_score</th>\n",
       "      <th>motif_strand</th>\n",
       "    </tr>\n",
       "  </thead>\n",
       "  <tbody>\n",
       "    <tr>\n",
       "      <th>0</th>\n",
       "      <td>chr10</td>\n",
       "      <td>100027916</td>\n",
       "      <td>100027925</td>\n",
       "      <td>protein_coding__p1@LOXL4__chr10:100027943..100...</td>\n",
       "      <td>0</td>\n",
       "      <td>-</td>\n",
       "      <td>chr10</td>\n",
       "      <td>100027914</td>\n",
       "      <td>100027925</td>\n",
       "      <td>NRF1</td>\n",
       "      <td>12.7455</td>\n",
       "      <td>-</td>\n",
       "    </tr>\n",
       "    <tr>\n",
       "      <th>1</th>\n",
       "      <td>chr10</td>\n",
       "      <td>100027946</td>\n",
       "      <td>100027957</td>\n",
       "      <td>protein_coding__p1@LOXL4__chr10:100027943..100...</td>\n",
       "      <td>0</td>\n",
       "      <td>-</td>\n",
       "      <td>chr10</td>\n",
       "      <td>100027946</td>\n",
       "      <td>100027957</td>\n",
       "      <td>E2F6</td>\n",
       "      <td>13.5862</td>\n",
       "      <td>-</td>\n",
       "    </tr>\n",
       "    <tr>\n",
       "      <th>2</th>\n",
       "      <td>chr10</td>\n",
       "      <td>100027961</td>\n",
       "      <td>100027973</td>\n",
       "      <td>protein_coding__p1@LOXL4__chr10:100027943..100...</td>\n",
       "      <td>0</td>\n",
       "      <td>-</td>\n",
       "      <td>chr10</td>\n",
       "      <td>100027961</td>\n",
       "      <td>100027973</td>\n",
       "      <td>TFAP2A(var.2)</td>\n",
       "      <td>13.9273</td>\n",
       "      <td>+</td>\n",
       "    </tr>\n",
       "    <tr>\n",
       "      <th>3</th>\n",
       "      <td>chr10</td>\n",
       "      <td>100027961</td>\n",
       "      <td>100027973</td>\n",
       "      <td>protein_coding__p1@LOXL4__chr10:100027943..100...</td>\n",
       "      <td>0</td>\n",
       "      <td>-</td>\n",
       "      <td>chr10</td>\n",
       "      <td>100027961</td>\n",
       "      <td>100027973</td>\n",
       "      <td>TFAP2B</td>\n",
       "      <td>13.5091</td>\n",
       "      <td>-</td>\n",
       "    </tr>\n",
       "    <tr>\n",
       "      <th>4</th>\n",
       "      <td>chr10</td>\n",
       "      <td>100027961</td>\n",
       "      <td>100027973</td>\n",
       "      <td>protein_coding__p1@LOXL4__chr10:100027943..100...</td>\n",
       "      <td>0</td>\n",
       "      <td>-</td>\n",
       "      <td>chr10</td>\n",
       "      <td>100027961</td>\n",
       "      <td>100027973</td>\n",
       "      <td>TFAP2C</td>\n",
       "      <td>13.1735</td>\n",
       "      <td>+</td>\n",
       "    </tr>\n",
       "  </tbody>\n",
       "</table>\n",
       "</div>"
      ],
      "text/plain": [
       "  motif_chr  motif_start  motif_end  \\\n",
       "0     chr10    100027916  100027925   \n",
       "1     chr10    100027946  100027957   \n",
       "2     chr10    100027961  100027973   \n",
       "3     chr10    100027961  100027973   \n",
       "4     chr10    100027961  100027973   \n",
       "\n",
       "                                           unique_id  score strand    chr  \\\n",
       "0  protein_coding__p1@LOXL4__chr10:100027943..100...      0      -  chr10   \n",
       "1  protein_coding__p1@LOXL4__chr10:100027943..100...      0      -  chr10   \n",
       "2  protein_coding__p1@LOXL4__chr10:100027943..100...      0      -  chr10   \n",
       "3  protein_coding__p1@LOXL4__chr10:100027943..100...      0      -  chr10   \n",
       "4  protein_coding__p1@LOXL4__chr10:100027943..100...      0      -  chr10   \n",
       "\n",
       "       start        end          motif  motif_score motif_strand  \n",
       "0  100027914  100027925           NRF1      12.7455            -  \n",
       "1  100027946  100027957           E2F6      13.5862            -  \n",
       "2  100027961  100027973  TFAP2A(var.2)      13.9273            +  \n",
       "3  100027961  100027973         TFAP2B      13.5091            -  \n",
       "4  100027961  100027973         TFAP2C      13.1735            +  "
      ]
     },
     "execution_count": 15,
     "metadata": {},
     "output_type": "execute_result"
    }
   ],
   "source": [
    "fimo = pd.read_table(fimo_f, sep=\"\\t\", header=None, compression=\"gzip\")\n",
    "fimo.columns = [\"motif_chr\", \"motif_start\", \"motif_end\", \"unique_id\", \"score\", \"strand\", \"chr\", \"start\", \"end\", \n",
    "                \"motif\", \"motif_score\", \"motif_strand\"]\n",
    "fimo.head()"
   ]
  },
  {
   "cell_type": "code",
   "execution_count": 16,
   "metadata": {
    "collapsed": true
   },
   "outputs": [],
   "source": [
    "fimo_chip = pd.read_table(fimo_chip_f, sep=\"\\t\", header=None, compression=\"gzip\")\n",
    "fimo_chip.columns = [\"motif_chr\", \"motif_start\", \"motif_end\", \"unique_id\", \"score\", \"strand\", \"chr\", \"start\", \"end\", \n",
    "                     \"motif\", \"motif_score\", \"motif_strand\"]"
   ]
  },
  {
   "cell_type": "code",
   "execution_count": 17,
   "metadata": {
    "collapsed": true
   },
   "outputs": [],
   "source": [
    "pool1_fimo = pd.read_table(pool1_fimo_f, sep=\"\\t\", header=None)\n",
    "pool1_fimo.columns = [\"motif_chr\", \"motif_start\", \"motif_end\", \"unique_id\", \"score\", \"strand\", \"chr\", \"start\", \"end\", \n",
    "                      \"motif\", \"motif_score\", \"motif_strand\"]"
   ]
  },
  {
   "cell_type": "code",
   "execution_count": 18,
   "metadata": {
    "collapsed": true
   },
   "outputs": [],
   "source": [
    "pool1_fimo_chip = pd.read_table(pool1_fimo_chip_f, sep=\"\\t\", header=None)\n",
    "pool1_fimo_chip.columns = [\"motif_chr\", \"motif_start\", \"motif_end\", \"unique_id\", \"score\", \"strand\", \"chr\", \"start\", \n",
    "                           \"end\", \"motif\", \"motif_score\", \"motif_strand\"]"
   ]
  },
  {
   "cell_type": "code",
   "execution_count": 19,
   "metadata": {
    "collapsed": true
   },
   "outputs": [],
   "source": [
    "pool1_fimo_no_ets = pd.read_table(pool1_fimo_no_ets_f, sep=\"\\t\", header=None)\n",
    "pool1_fimo_no_ets.columns = [\"motif_chr\", \"motif_start\", \"motif_end\", \"unique_id\", \"score\", \"strand\", \"chr\", \"start\", \n",
    "                             \"end\", \"motif\", \"motif_score\", \"motif_strand\"]"
   ]
  },
  {
   "cell_type": "code",
   "execution_count": 20,
   "metadata": {
    "collapsed": true
   },
   "outputs": [],
   "source": [
    "pool1_fimo_no_ets_chip = pd.read_table(pool1_fimo_no_ets_chip_f, sep=\"\\t\", header=None)\n",
    "pool1_fimo_no_ets_chip.columns = [\"motif_chr\", \"motif_start\", \"motif_end\", \"unique_id\", \"score\", \"strand\", \"chr\", \n",
    "                                  \"start\", \"end\", \"motif\", \"motif_score\", \"motif_strand\"]"
   ]
  },
  {
   "cell_type": "code",
   "execution_count": 21,
   "metadata": {
    "collapsed": true
   },
   "outputs": [],
   "source": [
    "index = pd.read_table(index_f, sep=\"\\t\")\n",
    "index_elem = index[[\"element\", \"oligo_type\", \"unique_id\", \"dupe_info\", \"SNP\", \"seq_name\"]]\n",
    "index_elem = index_elem.drop_duplicates()"
   ]
  },
  {
   "cell_type": "code",
   "execution_count": 22,
   "metadata": {
    "collapsed": true
   },
   "outputs": [],
   "source": [
    "hepg2_activ = pd.read_table(hepg2_activ_f, sep=\"\\t\")\n",
    "hela_activ = pd.read_table(hela_activ_f, sep=\"\\t\")\n",
    "k562_activ = pd.read_table(k562_activ_f, sep=\"\\t\")"
   ]
  },
  {
   "cell_type": "code",
   "execution_count": 23,
   "metadata": {
    "collapsed": true
   },
   "outputs": [],
   "source": [
    "hepg2_reps = [x for x in hepg2_activ.columns if \"rna\" in x]\n",
    "hela_reps = [x for x in hela_activ.columns if \"rna\" in x]\n",
    "k562_reps = [x for x in k562_activ.columns if \"rna\" in x]"
   ]
  },
  {
   "cell_type": "code",
   "execution_count": 24,
   "metadata": {},
   "outputs": [
    {
     "name": "stdout",
     "output_type": "stream",
     "text": [
      "56562\n"
     ]
    },
    {
     "data": {
      "text/html": [
       "<div>\n",
       "<style>\n",
       "    .dataframe thead tr:only-child th {\n",
       "        text-align: right;\n",
       "    }\n",
       "\n",
       "    .dataframe thead th {\n",
       "        text-align: left;\n",
       "    }\n",
       "\n",
       "    .dataframe tbody tr th {\n",
       "        vertical-align: top;\n",
       "    }\n",
       "</style>\n",
       "<table border=\"1\" class=\"dataframe\">\n",
       "  <thead>\n",
       "    <tr style=\"text-align: right;\">\n",
       "      <th></th>\n",
       "      <th>chr</th>\n",
       "      <th>start</th>\n",
       "      <th>end</th>\n",
       "      <th>unique_id</th>\n",
       "      <th>score</th>\n",
       "      <th>strand</th>\n",
       "      <th>n_motifs</th>\n",
       "      <th>n_bp_cov</th>\n",
       "      <th>seq_len</th>\n",
       "      <th>frac_bp_cov</th>\n",
       "      <th>max_cov</th>\n",
       "    </tr>\n",
       "  </thead>\n",
       "  <tbody>\n",
       "    <tr>\n",
       "      <th>0</th>\n",
       "      <td>chr10</td>\n",
       "      <td>100027916</td>\n",
       "      <td>100028031</td>\n",
       "      <td>protein_coding__p1@LOXL4__chr10:100027943..100...</td>\n",
       "      <td>0</td>\n",
       "      <td>-</td>\n",
       "      <td>19</td>\n",
       "      <td>66</td>\n",
       "      <td>115</td>\n",
       "      <td>0.573913</td>\n",
       "      <td>7</td>\n",
       "    </tr>\n",
       "    <tr>\n",
       "      <th>1</th>\n",
       "      <td>chr10</td>\n",
       "      <td>100074495</td>\n",
       "      <td>100074610</td>\n",
       "      <td>Enhancer__chr10:100074404-100074582</td>\n",
       "      <td>0</td>\n",
       "      <td>+</td>\n",
       "      <td>26</td>\n",
       "      <td>91</td>\n",
       "      <td>115</td>\n",
       "      <td>0.791304</td>\n",
       "      <td>9</td>\n",
       "    </tr>\n",
       "    <tr>\n",
       "      <th>2</th>\n",
       "      <td>chr10</td>\n",
       "      <td>100076068</td>\n",
       "      <td>100076183</td>\n",
       "      <td>Enhancer__chr10:100076038-100076149</td>\n",
       "      <td>0</td>\n",
       "      <td>+</td>\n",
       "      <td>25</td>\n",
       "      <td>78</td>\n",
       "      <td>115</td>\n",
       "      <td>0.678261</td>\n",
       "      <td>8</td>\n",
       "    </tr>\n",
       "    <tr>\n",
       "      <th>3</th>\n",
       "      <td>chr10</td>\n",
       "      <td>100076605</td>\n",
       "      <td>100076720</td>\n",
       "      <td>Enhancer__chr10:100076500-100076699</td>\n",
       "      <td>0</td>\n",
       "      <td>+</td>\n",
       "      <td>21</td>\n",
       "      <td>89</td>\n",
       "      <td>115</td>\n",
       "      <td>0.773913</td>\n",
       "      <td>8</td>\n",
       "    </tr>\n",
       "    <tr>\n",
       "      <th>4</th>\n",
       "      <td>chr10</td>\n",
       "      <td>100083158</td>\n",
       "      <td>100083273</td>\n",
       "      <td>Enhancer__chr10:100082942-100083374</td>\n",
       "      <td>0</td>\n",
       "      <td>+</td>\n",
       "      <td>36</td>\n",
       "      <td>93</td>\n",
       "      <td>115</td>\n",
       "      <td>0.808696</td>\n",
       "      <td>13</td>\n",
       "    </tr>\n",
       "  </tbody>\n",
       "</table>\n",
       "</div>"
      ],
      "text/plain": [
       "     chr      start        end  \\\n",
       "0  chr10  100027916  100028031   \n",
       "1  chr10  100074495  100074610   \n",
       "2  chr10  100076068  100076183   \n",
       "3  chr10  100076605  100076720   \n",
       "4  chr10  100083158  100083273   \n",
       "\n",
       "                                           unique_id  score strand  n_motifs  \\\n",
       "0  protein_coding__p1@LOXL4__chr10:100027943..100...      0      -        19   \n",
       "1                Enhancer__chr10:100074404-100074582      0      +        26   \n",
       "2                Enhancer__chr10:100076038-100076149      0      +        25   \n",
       "3                Enhancer__chr10:100076500-100076699      0      +        21   \n",
       "4                Enhancer__chr10:100082942-100083374      0      +        36   \n",
       "\n",
       "   n_bp_cov  seq_len  frac_bp_cov  max_cov  \n",
       "0        66      115     0.573913        7  \n",
       "1        91      115     0.791304        9  \n",
       "2        78      115     0.678261        8  \n",
       "3        89      115     0.773913        8  \n",
       "4        93      115     0.808696       13  "
      ]
     },
     "execution_count": 24,
     "metadata": {},
     "output_type": "execute_result"
    }
   ],
   "source": [
    "fimo_bp_cov = pd.read_table(fimo_bp_cov_f, sep=\"\\t\", header=None)\n",
    "fimo_bp_cov.columns = [\"chr\", \"start\", \"end\", \"unique_id\", \"score\", \"strand\", \"n_motifs\", \"n_bp_cov\", \"seq_len\", \n",
    "                       \"frac_bp_cov\"]\n",
    "\n",
    "fimo_max_cov = pd.read_table(fimo_max_cov_f, sep=\"\\t\", header=None)\n",
    "fimo_max_cov.columns = [\"unique_id\", \"max_cov\"]\n",
    "\n",
    "fimo_cov = fimo_bp_cov.merge(fimo_max_cov, on=\"unique_id\")\n",
    "print(len(fimo_cov))\n",
    "fimo_cov.head()"
   ]
  },
  {
   "cell_type": "code",
   "execution_count": 25,
   "metadata": {},
   "outputs": [
    {
     "name": "stdout",
     "output_type": "stream",
     "text": [
      "40360\n"
     ]
    }
   ],
   "source": [
    "fimo_chip_bp_cov = pd.read_table(fimo_chip_bp_cov_f, sep=\"\\t\", header=None)\n",
    "fimo_chip_bp_cov.columns = [\"chr\", \"start\", \"end\", \"unique_id\", \"score\", \"strand\", \"n_motifs\", \"n_bp_cov\", \"seq_len\", \n",
    "                            \"frac_bp_cov\"]\n",
    "\n",
    "fimo_chip_max_cov = pd.read_table(fimo_chip_max_cov_f, sep=\"\\t\", header=None)\n",
    "fimo_chip_max_cov.columns = [\"unique_id\", \"max_cov\"]\n",
    "\n",
    "fimo_chip_cov = fimo_chip_bp_cov.merge(fimo_chip_max_cov, on=\"unique_id\")\n",
    "print(len(fimo_chip_cov))"
   ]
  },
  {
   "cell_type": "code",
   "execution_count": 26,
   "metadata": {},
   "outputs": [
    {
     "name": "stdout",
     "output_type": "stream",
     "text": [
      "35093\n"
     ]
    }
   ],
   "source": [
    "fimo_clust_bp_cov = pd.read_table(fimo_clust_bp_cov_f, sep=\"\\t\", header=None)\n",
    "fimo_clust_bp_cov.columns = [\"chr\", \"start\", \"end\", \"unique_id\", \"score\", \"strand\", \"n_motifs\", \"n_bp_cov\", \"seq_len\", \n",
    "                             \"frac_bp_cov\"]\n",
    "\n",
    "fimo_clust_max_cov = pd.read_table(fimo_clust_max_cov_f, sep=\"\\t\", header=None)\n",
    "fimo_clust_max_cov.columns = [\"unique_id\", \"max_cov\"]\n",
    "\n",
    "fimo_clust_cov = fimo_clust_bp_cov.merge(fimo_clust_max_cov, on=\"unique_id\")\n",
    "print(len(fimo_clust_cov))"
   ]
  },
  {
   "cell_type": "code",
   "execution_count": 27,
   "metadata": {},
   "outputs": [
    {
     "name": "stdout",
     "output_type": "stream",
     "text": [
      "56514\n"
     ]
    }
   ],
   "source": [
    "fimo_mosbat_bp_cov = pd.read_table(fimo_mosbat_bp_cov_f, sep=\"\\t\", header=None)\n",
    "fimo_mosbat_bp_cov.columns = [\"chr\", \"start\", \"end\", \"unique_id\", \"score\", \"strand\", \"n_motifs\", \"n_bp_cov\", \"seq_len\", \n",
    "                             \"frac_bp_cov\"]\n",
    "\n",
    "fimo_mosbat_max_cov = pd.read_table(fimo_mosbat_max_cov_f, sep=\"\\t\", header=None)\n",
    "fimo_mosbat_max_cov.columns = [\"unique_id\", \"max_cov\"]\n",
    "\n",
    "fimo_mosbat_cov = fimo_mosbat_bp_cov.merge(fimo_mosbat_max_cov, on=\"unique_id\")\n",
    "print(len(fimo_mosbat_cov))"
   ]
  },
  {
   "cell_type": "code",
   "execution_count": 28,
   "metadata": {},
   "outputs": [
    {
     "name": "stdout",
     "output_type": "stream",
     "text": [
      "4660\n"
     ]
    }
   ],
   "source": [
    "pool1_fimo_bp_cov = pd.read_table(pool1_fimo_bp_cov_f, sep=\"\\t\", header=None)\n",
    "pool1_fimo_bp_cov.columns = [\"chr\", \"start\", \"end\", \"unique_id\", \"score\", \"strand\", \"n_motifs\", \"n_bp_cov\", \"seq_len\", \n",
    "                             \"frac_bp_cov\"]\n",
    "\n",
    "pool1_fimo_max_cov = pd.read_table(pool1_fimo_max_cov_f, sep=\"\\t\", header=None)\n",
    "pool1_fimo_max_cov.columns = [\"unique_id\", \"max_cov\"]\n",
    "\n",
    "pool1_fimo_cov = pool1_fimo_bp_cov.merge(pool1_fimo_max_cov, on=\"unique_id\")\n",
    "print(len(pool1_fimo_cov))"
   ]
  },
  {
   "cell_type": "code",
   "execution_count": 29,
   "metadata": {},
   "outputs": [
    {
     "name": "stdout",
     "output_type": "stream",
     "text": [
      "4348\n"
     ]
    }
   ],
   "source": [
    "pool1_fimo_chip_bp_cov = pd.read_table(pool1_fimo_chip_bp_cov_f, sep=\"\\t\", header=None)\n",
    "pool1_fimo_chip_bp_cov.columns = [\"chr\", \"start\", \"end\", \"unique_id\", \"score\", \"strand\", \"n_motifs\", \"n_bp_cov\", \n",
    "                                  \"seq_len\", \"frac_bp_cov\"]\n",
    "\n",
    "pool1_fimo_chip_max_cov = pd.read_table(pool1_fimo_chip_max_cov_f, sep=\"\\t\", header=None)\n",
    "pool1_fimo_chip_max_cov.columns = [\"unique_id\", \"max_cov\"]\n",
    "\n",
    "pool1_fimo_chip_cov = pool1_fimo_chip_bp_cov.merge(pool1_fimo_chip_max_cov, on=\"unique_id\")\n",
    "print(len(pool1_fimo_chip_cov))"
   ]
  },
  {
   "cell_type": "code",
   "execution_count": 30,
   "metadata": {},
   "outputs": [
    {
     "name": "stdout",
     "output_type": "stream",
     "text": [
      "4660\n"
     ]
    }
   ],
   "source": [
    "pool1_fimo_no_ets_bp_cov = pd.read_table(pool1_fimo_no_ets_bp_cov_f, sep=\"\\t\", header=None)\n",
    "pool1_fimo_no_ets_bp_cov.columns = [\"chr\", \"start\", \"end\", \"unique_id\", \"score\", \"strand\", \"n_motifs\", \"n_bp_cov\", \n",
    "                                    \"seq_len\", \"frac_bp_cov\"]\n",
    "\n",
    "pool1_fimo_no_ets_max_cov = pd.read_table(pool1_fimo_no_ets_max_cov_f, sep=\"\\t\", header=None)\n",
    "pool1_fimo_no_ets_max_cov.columns = [\"unique_id\", \"max_cov\"]\n",
    "\n",
    "pool1_fimo_no_ets_cov = pool1_fimo_no_ets_bp_cov.merge(pool1_fimo_no_ets_max_cov, on=\"unique_id\")\n",
    "print(len(pool1_fimo_no_ets_cov))"
   ]
  },
  {
   "cell_type": "code",
   "execution_count": 31,
   "metadata": {},
   "outputs": [
    {
     "name": "stdout",
     "output_type": "stream",
     "text": [
      "4319\n"
     ]
    }
   ],
   "source": [
    "pool1_fimo_no_ets_chip_bp_cov = pd.read_table(pool1_fimo_no_ets_chip_bp_cov_f, sep=\"\\t\", header=None)\n",
    "pool1_fimo_no_ets_chip_bp_cov.columns = [\"chr\", \"start\", \"end\", \"unique_id\", \"score\", \"strand\", \"n_motifs\", \n",
    "                                         \"n_bp_cov\", \"seq_len\", \"frac_bp_cov\"]\n",
    "\n",
    "pool1_fimo_no_ets_chip_max_cov = pd.read_table(pool1_fimo_no_ets_chip_max_cov_f, sep=\"\\t\", header=None)\n",
    "pool1_fimo_no_ets_chip_max_cov.columns = [\"unique_id\", \"max_cov\"]\n",
    "\n",
    "pool1_fimo_no_ets_chip_cov = pool1_fimo_no_ets_chip_bp_cov.merge(pool1_fimo_no_ets_chip_max_cov, on=\"unique_id\")\n",
    "print(len(pool1_fimo_no_ets_chip_cov))"
   ]
  },
  {
   "cell_type": "code",
   "execution_count": 32,
   "metadata": {
    "collapsed": true
   },
   "outputs": [],
   "source": [
    "all_cov_dfs = {\"fimo\": fimo_cov, \"fimo_chip\": fimo_chip_cov, \"fimo_clust\": fimo_clust_cov,  \n",
    "               \"pool1_fimo\": pool1_fimo_cov, \"pool1_fimo_chip\": pool1_fimo_chip_cov, \n",
    "               \"pool1_fimo_no_ets\": pool1_fimo_no_ets_cov, \n",
    "               \"pool1_fimo_no_ets_chip\": pool1_fimo_no_ets_chip_cov,\n",
    "               \"fimo_mosbat\": fimo_mosbat_cov}\n",
    "\n",
    "all_motif_dfs = {\"fimo\": fimo, \"fimo_chip\": fimo_chip, \"pool1_fimo\": pool1_fimo, \"pool1_fimo_chip\": pool1_fimo_chip,\n",
    "                 \"pool1_fimo_no_ets\": pool1_fimo_no_ets, \"pool1_fimo_no_ets_chip\": pool1_fimo_no_ets_chip}"
   ]
  },
  {
   "cell_type": "code",
   "execution_count": 33,
   "metadata": {},
   "outputs": [
    {
     "data": {
      "text/html": [
       "<div>\n",
       "<style>\n",
       "    .dataframe thead tr:only-child th {\n",
       "        text-align: right;\n",
       "    }\n",
       "\n",
       "    .dataframe thead th {\n",
       "        text-align: left;\n",
       "    }\n",
       "\n",
       "    .dataframe tbody tr th {\n",
       "        vertical-align: top;\n",
       "    }\n",
       "</style>\n",
       "<table border=\"1\" class=\"dataframe\">\n",
       "  <thead>\n",
       "    <tr style=\"text-align: right;\">\n",
       "      <th></th>\n",
       "      <th>chr</th>\n",
       "      <th>start</th>\n",
       "      <th>end</th>\n",
       "      <th>unique_id</th>\n",
       "      <th>score</th>\n",
       "      <th>strand</th>\n",
       "      <th>n_motifs</th>\n",
       "      <th>n_bp_cov</th>\n",
       "      <th>seq_len</th>\n",
       "      <th>frac_bp_cov</th>\n",
       "      <th>max_cov</th>\n",
       "      <th>log_n_motifs</th>\n",
       "      <th>log_bp_cov</th>\n",
       "      <th>log_max_cov</th>\n",
       "      <th>cage_id</th>\n",
       "    </tr>\n",
       "  </thead>\n",
       "  <tbody>\n",
       "    <tr>\n",
       "      <th>0</th>\n",
       "      <td>chr10</td>\n",
       "      <td>100027916</td>\n",
       "      <td>100028031</td>\n",
       "      <td>protein_coding__p1@LOXL4__chr10:100027943..100...</td>\n",
       "      <td>0</td>\n",
       "      <td>-</td>\n",
       "      <td>3</td>\n",
       "      <td>26</td>\n",
       "      <td>115</td>\n",
       "      <td>0.226087</td>\n",
       "      <td>1</td>\n",
       "      <td>1.386294</td>\n",
       "      <td>3.295837</td>\n",
       "      <td>0.693147</td>\n",
       "      <td>chr10:100027943..100027958,-</td>\n",
       "    </tr>\n",
       "    <tr>\n",
       "      <th>1</th>\n",
       "      <td>chr10</td>\n",
       "      <td>100074495</td>\n",
       "      <td>100074610</td>\n",
       "      <td>Enhancer__chr10:100074404-100074582</td>\n",
       "      <td>0</td>\n",
       "      <td>+</td>\n",
       "      <td>5</td>\n",
       "      <td>25</td>\n",
       "      <td>115</td>\n",
       "      <td>0.217391</td>\n",
       "      <td>2</td>\n",
       "      <td>1.791759</td>\n",
       "      <td>3.258097</td>\n",
       "      <td>1.098612</td>\n",
       "      <td>chr10:100074404-100074582</td>\n",
       "    </tr>\n",
       "    <tr>\n",
       "      <th>2</th>\n",
       "      <td>chr10</td>\n",
       "      <td>100076068</td>\n",
       "      <td>100076183</td>\n",
       "      <td>Enhancer__chr10:100076038-100076149</td>\n",
       "      <td>0</td>\n",
       "      <td>+</td>\n",
       "      <td>2</td>\n",
       "      <td>22</td>\n",
       "      <td>115</td>\n",
       "      <td>0.191304</td>\n",
       "      <td>1</td>\n",
       "      <td>1.098612</td>\n",
       "      <td>3.135494</td>\n",
       "      <td>0.693147</td>\n",
       "      <td>chr10:100076038-100076149</td>\n",
       "    </tr>\n",
       "    <tr>\n",
       "      <th>3</th>\n",
       "      <td>chr10</td>\n",
       "      <td>100076605</td>\n",
       "      <td>100076720</td>\n",
       "      <td>Enhancer__chr10:100076500-100076699</td>\n",
       "      <td>0</td>\n",
       "      <td>+</td>\n",
       "      <td>6</td>\n",
       "      <td>53</td>\n",
       "      <td>115</td>\n",
       "      <td>0.460870</td>\n",
       "      <td>3</td>\n",
       "      <td>1.945910</td>\n",
       "      <td>3.988984</td>\n",
       "      <td>1.386294</td>\n",
       "      <td>chr10:100076500-100076699</td>\n",
       "    </tr>\n",
       "    <tr>\n",
       "      <th>4</th>\n",
       "      <td>chr10</td>\n",
       "      <td>100083158</td>\n",
       "      <td>100083273</td>\n",
       "      <td>Enhancer__chr10:100082942-100083374</td>\n",
       "      <td>0</td>\n",
       "      <td>+</td>\n",
       "      <td>10</td>\n",
       "      <td>74</td>\n",
       "      <td>115</td>\n",
       "      <td>0.643478</td>\n",
       "      <td>2</td>\n",
       "      <td>2.397895</td>\n",
       "      <td>4.317488</td>\n",
       "      <td>1.098612</td>\n",
       "      <td>chr10:100082942-100083374</td>\n",
       "    </tr>\n",
       "  </tbody>\n",
       "</table>\n",
       "</div>"
      ],
      "text/plain": [
       "     chr      start        end  \\\n",
       "0  chr10  100027916  100028031   \n",
       "1  chr10  100074495  100074610   \n",
       "2  chr10  100076068  100076183   \n",
       "3  chr10  100076605  100076720   \n",
       "4  chr10  100083158  100083273   \n",
       "\n",
       "                                           unique_id  score strand  n_motifs  \\\n",
       "0  protein_coding__p1@LOXL4__chr10:100027943..100...      0      -         3   \n",
       "1                Enhancer__chr10:100074404-100074582      0      +         5   \n",
       "2                Enhancer__chr10:100076038-100076149      0      +         2   \n",
       "3                Enhancer__chr10:100076500-100076699      0      +         6   \n",
       "4                Enhancer__chr10:100082942-100083374      0      +        10   \n",
       "\n",
       "   n_bp_cov  seq_len  frac_bp_cov  max_cov  log_n_motifs  log_bp_cov  \\\n",
       "0        26      115     0.226087        1      1.386294    3.295837   \n",
       "1        25      115     0.217391        2      1.791759    3.258097   \n",
       "2        22      115     0.191304        1      1.098612    3.135494   \n",
       "3        53      115     0.460870        3      1.945910    3.988984   \n",
       "4        74      115     0.643478        2      2.397895    4.317488   \n",
       "\n",
       "   log_max_cov                       cage_id  \n",
       "0     0.693147  chr10:100027943..100027958,-  \n",
       "1     1.098612     chr10:100074404-100074582  \n",
       "2     0.693147     chr10:100076038-100076149  \n",
       "3     1.386294     chr10:100076500-100076699  \n",
       "4     1.098612     chr10:100082942-100083374  "
      ]
     },
     "execution_count": 33,
     "metadata": {},
     "output_type": "execute_result"
    }
   ],
   "source": [
    "for key in all_cov_dfs.keys():\n",
    "    df = all_cov_dfs[key]\n",
    "    df[\"max_cov\"] = df.apply(fix_small_decimal, axis=1)\n",
    "    df[\"log_n_motifs\"] = np.log(df[\"n_motifs\"]+1)\n",
    "    df[\"log_bp_cov\"] = np.log(df[\"n_bp_cov\"]+1)\n",
    "    df[\"log_max_cov\"] = np.log(df[\"max_cov\"]+1)\n",
    "    df[\"cage_id\"] = df.apply(get_cage_id, axis=1)\n",
    "\n",
    "fimo_chip_cov.head()"
   ]
  },
  {
   "cell_type": "code",
   "execution_count": 34,
   "metadata": {},
   "outputs": [
    {
     "data": {
      "text/html": [
       "<div>\n",
       "<style>\n",
       "    .dataframe thead tr:only-child th {\n",
       "        text-align: right;\n",
       "    }\n",
       "\n",
       "    .dataframe thead th {\n",
       "        text-align: left;\n",
       "    }\n",
       "\n",
       "    .dataframe tbody tr th {\n",
       "        vertical-align: top;\n",
       "    }\n",
       "</style>\n",
       "<table border=\"1\" class=\"dataframe\">\n",
       "  <thead>\n",
       "    <tr style=\"text-align: right;\">\n",
       "      <th></th>\n",
       "      <th>motif_chr</th>\n",
       "      <th>motif_start</th>\n",
       "      <th>motif_end</th>\n",
       "      <th>unique_id</th>\n",
       "      <th>score</th>\n",
       "      <th>strand</th>\n",
       "      <th>chr</th>\n",
       "      <th>start</th>\n",
       "      <th>end</th>\n",
       "      <th>motif</th>\n",
       "      <th>motif_score</th>\n",
       "      <th>motif_strand</th>\n",
       "      <th>cage_id</th>\n",
       "    </tr>\n",
       "  </thead>\n",
       "  <tbody>\n",
       "    <tr>\n",
       "      <th>509086</th>\n",
       "      <td>chr19</td>\n",
       "      <td>11925034</td>\n",
       "      <td>11925048</td>\n",
       "      <td>protein_coding__p1@ZNF440__chr19:11925071..119...</td>\n",
       "      <td>0</td>\n",
       "      <td>+</td>\n",
       "      <td>chr19</td>\n",
       "      <td>11925034</td>\n",
       "      <td>11925048</td>\n",
       "      <td>KLF14</td>\n",
       "      <td>9.36207</td>\n",
       "      <td>-</td>\n",
       "      <td>chr19:11925071..11925113,+::</td>\n",
       "    </tr>\n",
       "    <tr>\n",
       "      <th>657221</th>\n",
       "      <td>chr2</td>\n",
       "      <td>18741931</td>\n",
       "      <td>18741947</td>\n",
       "      <td>protein_coding__p1@RDH14__chr2:18741882..18741...</td>\n",
       "      <td>0</td>\n",
       "      <td>-</td>\n",
       "      <td>chr2</td>\n",
       "      <td>18741931</td>\n",
       "      <td>18741947</td>\n",
       "      <td>GLIS1</td>\n",
       "      <td>-8.36538</td>\n",
       "      <td>-</td>\n",
       "      <td>chr2:18741882..18741968,-::</td>\n",
       "    </tr>\n",
       "    <tr>\n",
       "      <th>1065780</th>\n",
       "      <td>chr8</td>\n",
       "      <td>22526621</td>\n",
       "      <td>22526631</td>\n",
       "      <td>protein_coding__p1@BIN3__chr8:22526597..225266...</td>\n",
       "      <td>0</td>\n",
       "      <td>-</td>\n",
       "      <td>chr8</td>\n",
       "      <td>22526621</td>\n",
       "      <td>22526631</td>\n",
       "      <td>ETV1</td>\n",
       "      <td>13.34550</td>\n",
       "      <td>-</td>\n",
       "      <td>chr8:22526597..22526657,-::</td>\n",
       "    </tr>\n",
       "    <tr>\n",
       "      <th>1128880</th>\n",
       "      <td>chr9</td>\n",
       "      <td>841631</td>\n",
       "      <td>841641</td>\n",
       "      <td>protein_coding__p1@DMRT1__chr9:841691..841702,+::</td>\n",
       "      <td>0</td>\n",
       "      <td>+</td>\n",
       "      <td>chr9</td>\n",
       "      <td>841631</td>\n",
       "      <td>841641</td>\n",
       "      <td>Tcfl5</td>\n",
       "      <td>10.75000</td>\n",
       "      <td>-</td>\n",
       "      <td>chr9:841691..841702,+::</td>\n",
       "    </tr>\n",
       "    <tr>\n",
       "      <th>951673</th>\n",
       "      <td>chr6</td>\n",
       "      <td>2842209</td>\n",
       "      <td>2842226</td>\n",
       "      <td>protein_coding__p2@SERPINB1__chr6:2842219..284...</td>\n",
       "      <td>0</td>\n",
       "      <td>-</td>\n",
       "      <td>chr6</td>\n",
       "      <td>2842209</td>\n",
       "      <td>2842226</td>\n",
       "      <td>Rarg(var.2)</td>\n",
       "      <td>-5.47273</td>\n",
       "      <td>+</td>\n",
       "      <td>chr6:2842219..2842246,-::</td>\n",
       "    </tr>\n",
       "  </tbody>\n",
       "</table>\n",
       "</div>"
      ],
      "text/plain": [
       "        motif_chr  motif_start  motif_end  \\\n",
       "509086      chr19     11925034   11925048   \n",
       "657221       chr2     18741931   18741947   \n",
       "1065780      chr8     22526621   22526631   \n",
       "1128880      chr9       841631     841641   \n",
       "951673       chr6      2842209    2842226   \n",
       "\n",
       "                                                 unique_id  score strand  \\\n",
       "509086   protein_coding__p1@ZNF440__chr19:11925071..119...      0      +   \n",
       "657221   protein_coding__p1@RDH14__chr2:18741882..18741...      0      -   \n",
       "1065780  protein_coding__p1@BIN3__chr8:22526597..225266...      0      -   \n",
       "1128880  protein_coding__p1@DMRT1__chr9:841691..841702,+::      0      +   \n",
       "951673   protein_coding__p2@SERPINB1__chr6:2842219..284...      0      -   \n",
       "\n",
       "           chr     start       end        motif  motif_score motif_strand  \\\n",
       "509086   chr19  11925034  11925048        KLF14      9.36207            -   \n",
       "657221    chr2  18741931  18741947        GLIS1     -8.36538            -   \n",
       "1065780   chr8  22526621  22526631         ETV1     13.34550            -   \n",
       "1128880   chr9    841631    841641        Tcfl5     10.75000            -   \n",
       "951673    chr6   2842209   2842226  Rarg(var.2)     -5.47273            +   \n",
       "\n",
       "                              cage_id  \n",
       "509086   chr19:11925071..11925113,+::  \n",
       "657221    chr2:18741882..18741968,-::  \n",
       "1065780   chr8:22526597..22526657,-::  \n",
       "1128880       chr9:841691..841702,+::  \n",
       "951673      chr6:2842219..2842246,-::  "
      ]
     },
     "execution_count": 34,
     "metadata": {},
     "output_type": "execute_result"
    }
   ],
   "source": [
    "for key in all_motif_dfs.keys():\n",
    "    df = all_motif_dfs[key]\n",
    "    df[\"cage_id\"] = df.apply(get_cage_id, axis=1)\n",
    "    \n",
    "fimo.sample(5)"
   ]
  },
  {
   "cell_type": "code",
   "execution_count": 35,
   "metadata": {},
   "outputs": [
    {
     "data": {
      "text/html": [
       "<div>\n",
       "<style>\n",
       "    .dataframe thead tr:only-child th {\n",
       "        text-align: right;\n",
       "    }\n",
       "\n",
       "    .dataframe thead th {\n",
       "        text-align: left;\n",
       "    }\n",
       "\n",
       "    .dataframe tbody tr th {\n",
       "        vertical-align: top;\n",
       "    }\n",
       "</style>\n",
       "<table border=\"1\" class=\"dataframe\">\n",
       "  <thead>\n",
       "    <tr style=\"text-align: right;\">\n",
       "      <th></th>\n",
       "      <th>tf</th>\n",
       "      <th>tissue_sp_all</th>\n",
       "      <th>tissue_sp_3</th>\n",
       "      <th>K562_exp</th>\n",
       "      <th>HeLa_exp</th>\n",
       "      <th>HepG2_exp</th>\n",
       "    </tr>\n",
       "  </thead>\n",
       "  <tbody>\n",
       "    <tr>\n",
       "      <th>0</th>\n",
       "      <td>PAX7</td>\n",
       "      <td>0.990032</td>\n",
       "      <td>NaN</td>\n",
       "      <td>0.000000</td>\n",
       "      <td>0.000000</td>\n",
       "      <td>0.000000</td>\n",
       "    </tr>\n",
       "    <tr>\n",
       "      <th>1</th>\n",
       "      <td>HNF1B</td>\n",
       "      <td>0.979589</td>\n",
       "      <td>0.666667</td>\n",
       "      <td>0.000000</td>\n",
       "      <td>0.000000</td>\n",
       "      <td>5.889702</td>\n",
       "    </tr>\n",
       "    <tr>\n",
       "      <th>2</th>\n",
       "      <td>LIN54</td>\n",
       "      <td>0.794230</td>\n",
       "      <td>0.412303</td>\n",
       "      <td>17.857032</td>\n",
       "      <td>18.290625</td>\n",
       "      <td>47.369957</td>\n",
       "    </tr>\n",
       "    <tr>\n",
       "      <th>3</th>\n",
       "      <td>IRF3</td>\n",
       "      <td>0.719361</td>\n",
       "      <td>0.089475</td>\n",
       "      <td>23.938784</td>\n",
       "      <td>29.128210</td>\n",
       "      <td>26.498907</td>\n",
       "    </tr>\n",
       "    <tr>\n",
       "      <th>4</th>\n",
       "      <td>MEF2C</td>\n",
       "      <td>0.978378</td>\n",
       "      <td>0.665278</td>\n",
       "      <td>112.089652</td>\n",
       "      <td>0.335948</td>\n",
       "      <td>0.131145</td>\n",
       "    </tr>\n",
       "  </tbody>\n",
       "</table>\n",
       "</div>"
      ],
      "text/plain": [
       "      tf  tissue_sp_all  tissue_sp_3    K562_exp   HeLa_exp  HepG2_exp\n",
       "0   PAX7       0.990032          NaN    0.000000   0.000000   0.000000\n",
       "1  HNF1B       0.979589     0.666667    0.000000   0.000000   5.889702\n",
       "2  LIN54       0.794230     0.412303   17.857032  18.290625  47.369957\n",
       "3   IRF3       0.719361     0.089475   23.938784  29.128210  26.498907\n",
       "4  MEF2C       0.978378     0.665278  112.089652   0.335948   0.131145"
      ]
     },
     "execution_count": 35,
     "metadata": {},
     "output_type": "execute_result"
    }
   ],
   "source": [
    "tf_ts = pd.read_table(tf_ts_f, sep=\"\\t\")\n",
    "tf_ts.head()"
   ]
  },
  {
   "cell_type": "code",
   "execution_count": 36,
   "metadata": {},
   "outputs": [
    {
     "data": {
      "text/html": [
       "<div>\n",
       "<style>\n",
       "    .dataframe thead tr:only-child th {\n",
       "        text-align: right;\n",
       "    }\n",
       "\n",
       "    .dataframe thead th {\n",
       "        text-align: left;\n",
       "    }\n",
       "\n",
       "    .dataframe tbody tr th {\n",
       "        vertical-align: top;\n",
       "    }\n",
       "</style>\n",
       "<table border=\"1\" class=\"dataframe\">\n",
       "  <thead>\n",
       "    <tr style=\"text-align: right;\">\n",
       "      <th></th>\n",
       "      <th>unique_id</th>\n",
       "      <th>PromType2</th>\n",
       "      <th>cage_activ</th>\n",
       "      <th>cage_ts</th>\n",
       "      <th>mpra_activ</th>\n",
       "      <th>mpra_ts</th>\n",
       "      <th>oligo_reg</th>\n",
       "    </tr>\n",
       "  </thead>\n",
       "  <tbody>\n",
       "    <tr>\n",
       "      <th>0</th>\n",
       "      <td>WILDTYPE_BUT_HAS_SNP__Antisense.flip.sense__ch...</td>\n",
       "      <td>intergenic</td>\n",
       "      <td>0.786378</td>\n",
       "      <td>0.665068</td>\n",
       "      <td>1.400056</td>\n",
       "      <td>0.142230</td>\n",
       "      <td>chr10:11936664..11936778,-</td>\n",
       "    </tr>\n",
       "    <tr>\n",
       "      <th>1</th>\n",
       "      <td>WILDTYPE_BUT_HAS_SNP__Antisense.flip.sense__ch...</td>\n",
       "      <td>div_lnc</td>\n",
       "      <td>0.377764</td>\n",
       "      <td>0.151243</td>\n",
       "      <td>-0.054568</td>\n",
       "      <td>0.214384</td>\n",
       "      <td>chr10:28821597..28821711,-</td>\n",
       "    </tr>\n",
       "    <tr>\n",
       "      <th>2</th>\n",
       "      <td>WILDTYPE_BUT_HAS_SNP__Antisense.flip.sense__ch...</td>\n",
       "      <td>intergenic</td>\n",
       "      <td>1.258762</td>\n",
       "      <td>0.158191</td>\n",
       "      <td>1.378850</td>\n",
       "      <td>0.118103</td>\n",
       "      <td>chr10:29698406..29698520,+</td>\n",
       "    </tr>\n",
       "    <tr>\n",
       "      <th>3</th>\n",
       "      <td>WILDTYPE_BUT_HAS_SNP__Antisense.flip.sense__ch...</td>\n",
       "      <td>intergenic</td>\n",
       "      <td>0.938897</td>\n",
       "      <td>0.140302</td>\n",
       "      <td>0.130581</td>\n",
       "      <td>0.269957</td>\n",
       "      <td>chr10:97667625..97667739,-</td>\n",
       "    </tr>\n",
       "    <tr>\n",
       "      <th>4</th>\n",
       "      <td>WILDTYPE_BUT_HAS_SNP__Antisense.flip.sense__ch...</td>\n",
       "      <td>div_lnc</td>\n",
       "      <td>0.465003</td>\n",
       "      <td>0.292028</td>\n",
       "      <td>3.046316</td>\n",
       "      <td>0.085757</td>\n",
       "      <td>chr11:27528316..27528430,+</td>\n",
       "    </tr>\n",
       "  </tbody>\n",
       "</table>\n",
       "</div>"
      ],
      "text/plain": [
       "                                           unique_id   PromType2  cage_activ  \\\n",
       "0  WILDTYPE_BUT_HAS_SNP__Antisense.flip.sense__ch...  intergenic    0.786378   \n",
       "1  WILDTYPE_BUT_HAS_SNP__Antisense.flip.sense__ch...     div_lnc    0.377764   \n",
       "2  WILDTYPE_BUT_HAS_SNP__Antisense.flip.sense__ch...  intergenic    1.258762   \n",
       "3  WILDTYPE_BUT_HAS_SNP__Antisense.flip.sense__ch...  intergenic    0.938897   \n",
       "4  WILDTYPE_BUT_HAS_SNP__Antisense.flip.sense__ch...     div_lnc    0.465003   \n",
       "\n",
       "    cage_ts  mpra_activ   mpra_ts                   oligo_reg  \n",
       "0  0.665068    1.400056  0.142230  chr10:11936664..11936778,-  \n",
       "1  0.151243   -0.054568  0.214384  chr10:28821597..28821711,-  \n",
       "2  0.158191    1.378850  0.118103  chr10:29698406..29698520,+  \n",
       "3  0.140302    0.130581  0.269957  chr10:97667625..97667739,-  \n",
       "4  0.292028    3.046316  0.085757  chr11:27528316..27528430,+  "
      ]
     },
     "execution_count": 36,
     "metadata": {},
     "output_type": "execute_result"
    }
   ],
   "source": [
    "cage_v_mpra = pd.read_table(cage_v_mpra_f, sep=\"\\t\")\n",
    "cage_v_mpra[\"oligo_reg\"] = cage_v_mpra[\"unique_id\"].str.split(\"__\", expand=True)[2]\n",
    "cage_v_mpra.head()"
   ]
  },
  {
   "cell_type": "code",
   "execution_count": 37,
   "metadata": {},
   "outputs": [
    {
     "data": {
      "text/html": [
       "<div>\n",
       "<style>\n",
       "    .dataframe thead tr:only-child th {\n",
       "        text-align: right;\n",
       "    }\n",
       "\n",
       "    .dataframe thead th {\n",
       "        text-align: left;\n",
       "    }\n",
       "\n",
       "    .dataframe tbody tr th {\n",
       "        vertical-align: top;\n",
       "    }\n",
       "</style>\n",
       "<table border=\"1\" class=\"dataframe\">\n",
       "  <thead>\n",
       "    <tr style=\"text-align: right;\">\n",
       "      <th></th>\n",
       "      <th>gene_id</th>\n",
       "      <th>TSS_associated_1st.transc_id</th>\n",
       "      <th>oligo_reg</th>\n",
       "      <th>TSS_id</th>\n",
       "      <th>TSS_description</th>\n",
       "      <th>TSS_transc_association</th>\n",
       "      <th>avExpALL</th>\n",
       "      <th>gene_name</th>\n",
       "      <th>gene_type</th>\n",
       "      <th>GeneType</th>\n",
       "      <th>...</th>\n",
       "      <th>rs.SNP1</th>\n",
       "      <th>rs.SNP2</th>\n",
       "      <th>R.squared</th>\n",
       "      <th>Distance</th>\n",
       "      <th>trait</th>\n",
       "      <th>n.eQTLs</th>\n",
       "      <th>n.eQTLs94</th>\n",
       "      <th>PromType</th>\n",
       "      <th>PromType2</th>\n",
       "      <th>PromType3</th>\n",
       "    </tr>\n",
       "  </thead>\n",
       "  <tbody>\n",
       "    <tr>\n",
       "      <th>0</th>\n",
       "      <td>ENSG00000000419.8</td>\n",
       "      <td>ENST00000371583</td>\n",
       "      <td>chr20:49575034..49575148,-</td>\n",
       "      <td>chr20:49575059..49575077,-</td>\n",
       "      <td>p1@DPM1</td>\n",
       "      <td>0bp_to_ENST00000371583,ENST00000413082,ENST000...</td>\n",
       "      <td>71.110566</td>\n",
       "      <td>DPM1</td>\n",
       "      <td>protein_coding</td>\n",
       "      <td>protein_coding</td>\n",
       "      <td>...</td>\n",
       "      <td>NaN</td>\n",
       "      <td>NaN</td>\n",
       "      <td>NaN</td>\n",
       "      <td>NaN</td>\n",
       "      <td>NaN</td>\n",
       "      <td>0</td>\n",
       "      <td>0</td>\n",
       "      <td>protein_coding</td>\n",
       "      <td>protein_coding</td>\n",
       "      <td>protein_coding</td>\n",
       "    </tr>\n",
       "    <tr>\n",
       "      <th>1</th>\n",
       "      <td>ENSG00000002586.13</td>\n",
       "      <td>ENST00000381187</td>\n",
       "      <td>chrX:2609217..2609331,+</td>\n",
       "      <td>chrX:2609278..2609302,+</td>\n",
       "      <td>p3@CD99</td>\n",
       "      <td>-14bp_to_ENST00000381187_5end</td>\n",
       "      <td>17.394880</td>\n",
       "      <td>CD99</td>\n",
       "      <td>protein_coding</td>\n",
       "      <td>protein_coding</td>\n",
       "      <td>...</td>\n",
       "      <td>NaN</td>\n",
       "      <td>NaN</td>\n",
       "      <td>NaN</td>\n",
       "      <td>NaN</td>\n",
       "      <td>NaN</td>\n",
       "      <td>0</td>\n",
       "      <td>0</td>\n",
       "      <td>protein_coding</td>\n",
       "      <td>protein_coding</td>\n",
       "      <td>protein_coding</td>\n",
       "    </tr>\n",
       "    <tr>\n",
       "      <th>2</th>\n",
       "      <td>ENSG00000002919.10</td>\n",
       "      <td>ENST00000359238</td>\n",
       "      <td>chr17:46184858..46184972,+</td>\n",
       "      <td>chr17:46184920..46184951,+</td>\n",
       "      <td>p2@SNX11</td>\n",
       "      <td>0bp_to_ENST00000359238,ENST00000393405,ENST000...</td>\n",
       "      <td>4.722549</td>\n",
       "      <td>SNX11</td>\n",
       "      <td>protein_coding</td>\n",
       "      <td>protein_coding</td>\n",
       "      <td>...</td>\n",
       "      <td>rs72823592</td>\n",
       "      <td>rs16952265</td>\n",
       "      <td>0.844249196799263</td>\n",
       "      <td>-61879</td>\n",
       "      <td>Epilepsy_(generalized)</td>\n",
       "      <td>2</td>\n",
       "      <td>2</td>\n",
       "      <td>protein_coding</td>\n",
       "      <td>protein_coding</td>\n",
       "      <td>protein_coding</td>\n",
       "    </tr>\n",
       "    <tr>\n",
       "      <th>3</th>\n",
       "      <td>ENSG00000003436.10</td>\n",
       "      <td>ENST00000435414</td>\n",
       "      <td>chr2:188378345..188378459,-</td>\n",
       "      <td>chr2:188378374..188378387,-</td>\n",
       "      <td>p3@TFPI</td>\n",
       "      <td>0bp_to_ENST00000435414_5end</td>\n",
       "      <td>3.679946</td>\n",
       "      <td>TFPI</td>\n",
       "      <td>protein_coding</td>\n",
       "      <td>protein_coding</td>\n",
       "      <td>...</td>\n",
       "      <td>NaN</td>\n",
       "      <td>NaN</td>\n",
       "      <td>NaN</td>\n",
       "      <td>NaN</td>\n",
       "      <td>NaN</td>\n",
       "      <td>0</td>\n",
       "      <td>0</td>\n",
       "      <td>protein_coding</td>\n",
       "      <td>protein_coding</td>\n",
       "      <td>protein_coding</td>\n",
       "    </tr>\n",
       "    <tr>\n",
       "      <th>4</th>\n",
       "      <td>ENSG00000003436.10</td>\n",
       "      <td>ENST00000435414</td>\n",
       "      <td>chr2:188378345..188378459,+</td>\n",
       "      <td>chr2:188378374..188378387,-</td>\n",
       "      <td>p3@TFPI</td>\n",
       "      <td>0bp_to_ENST00000435414_5end</td>\n",
       "      <td>3.679946</td>\n",
       "      <td>TFPI</td>\n",
       "      <td>protein_coding</td>\n",
       "      <td>protein_coding</td>\n",
       "      <td>...</td>\n",
       "      <td>NaN</td>\n",
       "      <td>NaN</td>\n",
       "      <td>NaN</td>\n",
       "      <td>NaN</td>\n",
       "      <td>NaN</td>\n",
       "      <td>0</td>\n",
       "      <td>0</td>\n",
       "      <td>protein_coding</td>\n",
       "      <td>protein_coding</td>\n",
       "      <td>protein_coding</td>\n",
       "    </tr>\n",
       "  </tbody>\n",
       "</table>\n",
       "<p>5 rows × 42 columns</p>\n",
       "</div>"
      ],
      "text/plain": [
       "              gene_id TSS_associated_1st.transc_id  \\\n",
       "0   ENSG00000000419.8              ENST00000371583   \n",
       "1  ENSG00000002586.13              ENST00000381187   \n",
       "2  ENSG00000002919.10              ENST00000359238   \n",
       "3  ENSG00000003436.10              ENST00000435414   \n",
       "4  ENSG00000003436.10              ENST00000435414   \n",
       "\n",
       "                     oligo_reg                       TSS_id TSS_description  \\\n",
       "0   chr20:49575034..49575148,-   chr20:49575059..49575077,-         p1@DPM1   \n",
       "1      chrX:2609217..2609331,+      chrX:2609278..2609302,+         p3@CD99   \n",
       "2   chr17:46184858..46184972,+   chr17:46184920..46184951,+        p2@SNX11   \n",
       "3  chr2:188378345..188378459,-  chr2:188378374..188378387,-         p3@TFPI   \n",
       "4  chr2:188378345..188378459,+  chr2:188378374..188378387,-         p3@TFPI   \n",
       "\n",
       "                              TSS_transc_association   avExpALL gene_name  \\\n",
       "0  0bp_to_ENST00000371583,ENST00000413082,ENST000...  71.110566      DPM1   \n",
       "1                      -14bp_to_ENST00000381187_5end  17.394880      CD99   \n",
       "2  0bp_to_ENST00000359238,ENST00000393405,ENST000...   4.722549     SNX11   \n",
       "3                        0bp_to_ENST00000435414_5end   3.679946      TFPI   \n",
       "4                        0bp_to_ENST00000435414_5end   3.679946      TFPI   \n",
       "\n",
       "        gene_type        GeneType       ...           rs.SNP1     rs.SNP2  \\\n",
       "0  protein_coding  protein_coding       ...               NaN         NaN   \n",
       "1  protein_coding  protein_coding       ...               NaN         NaN   \n",
       "2  protein_coding  protein_coding       ...        rs72823592  rs16952265   \n",
       "3  protein_coding  protein_coding       ...               NaN         NaN   \n",
       "4  protein_coding  protein_coding       ...               NaN         NaN   \n",
       "\n",
       "           R.squared Distance                   trait  n.eQTLs  n.eQTLs94  \\\n",
       "0                NaN      NaN                     NaN        0          0   \n",
       "1                NaN      NaN                     NaN        0          0   \n",
       "2  0.844249196799263   -61879  Epilepsy_(generalized)        2          2   \n",
       "3                NaN      NaN                     NaN        0          0   \n",
       "4                NaN      NaN                     NaN        0          0   \n",
       "\n",
       "         PromType       PromType2       PromType3  \n",
       "0  protein_coding  protein_coding  protein_coding  \n",
       "1  protein_coding  protein_coding  protein_coding  \n",
       "2  protein_coding  protein_coding  protein_coding  \n",
       "3  protein_coding  protein_coding  protein_coding  \n",
       "4  protein_coding  protein_coding  protein_coding  \n",
       "\n",
       "[5 rows x 42 columns]"
      ]
     },
     "execution_count": 37,
     "metadata": {},
     "output_type": "execute_result"
    }
   ],
   "source": [
    "tss_cage_map = pd.read_table(tss_cage_map_f, sep=\"\\t\")\n",
    "tss_cage_map.head()"
   ]
  },
  {
   "cell_type": "code",
   "execution_count": 38,
   "metadata": {},
   "outputs": [
    {
     "data": {
      "text/html": [
       "<div>\n",
       "<style>\n",
       "    .dataframe thead tr:only-child th {\n",
       "        text-align: right;\n",
       "    }\n",
       "\n",
       "    .dataframe thead th {\n",
       "        text-align: left;\n",
       "    }\n",
       "\n",
       "    .dataframe tbody tr th {\n",
       "        vertical-align: top;\n",
       "    }\n",
       "</style>\n",
       "<table border=\"1\" class=\"dataframe\">\n",
       "  <thead>\n",
       "    <tr style=\"text-align: right;\">\n",
       "      <th></th>\n",
       "      <th>enhancer_id</th>\n",
       "      <th>TSS_id_Neg</th>\n",
       "      <th>TSS_id_Pos</th>\n",
       "      <th>distTSSs</th>\n",
       "      <th>sum_1828_samples</th>\n",
       "      <th>avExpALL</th>\n",
       "      <th>K562_rep1</th>\n",
       "      <th>K562_rep2</th>\n",
       "      <th>K562_rep3</th>\n",
       "      <th>HeLa_rep1</th>\n",
       "      <th>HeLa_rep2</th>\n",
       "      <th>HeLa_rep3</th>\n",
       "      <th>HepG2_rep1</th>\n",
       "      <th>HepG2_rep2</th>\n",
       "      <th>HepG2_rep3</th>\n",
       "      <th>avExpCS</th>\n",
       "      <th>oligo_reg_Neg</th>\n",
       "      <th>oligo_reg_Pos</th>\n",
       "    </tr>\n",
       "  </thead>\n",
       "  <tbody>\n",
       "    <tr>\n",
       "      <th>0</th>\n",
       "      <td>chr1:1004646-1004986</td>\n",
       "      <td>chr1:1004724..1004725,-</td>\n",
       "      <td>chr1:1004806..1004807,+</td>\n",
       "      <td>239</td>\n",
       "      <td>2186.660</td>\n",
       "      <td>1.196204</td>\n",
       "      <td>1.75865</td>\n",
       "      <td>1.718966</td>\n",
       "      <td>0.0</td>\n",
       "      <td>0.278501</td>\n",
       "      <td>0.634142</td>\n",
       "      <td>0.471889</td>\n",
       "      <td>0.224833</td>\n",
       "      <td>0.0</td>\n",
       "      <td>0.193772</td>\n",
       "      <td>0.586750</td>\n",
       "      <td>chr1:1004690..1004804,-</td>\n",
       "      <td>chr1:1004727..1004841,+</td>\n",
       "    </tr>\n",
       "    <tr>\n",
       "      <th>1</th>\n",
       "      <td>chr1:108483614-108484145</td>\n",
       "      <td>chr1:108483919..108483920,-</td>\n",
       "      <td>chr1:108484014..108484015,+</td>\n",
       "      <td>706</td>\n",
       "      <td>949.696</td>\n",
       "      <td>0.519527</td>\n",
       "      <td>0.00000</td>\n",
       "      <td>0.000000</td>\n",
       "      <td>0.0</td>\n",
       "      <td>0.000000</td>\n",
       "      <td>0.000000</td>\n",
       "      <td>0.000000</td>\n",
       "      <td>0.000000</td>\n",
       "      <td>0.0</td>\n",
       "      <td>0.000000</td>\n",
       "      <td>0.000000</td>\n",
       "      <td>chr1:108483885..108483999,-</td>\n",
       "      <td>chr1:108483935..108484049,+</td>\n",
       "    </tr>\n",
       "    <tr>\n",
       "      <th>2</th>\n",
       "      <td>chr1:108592862-108593109</td>\n",
       "      <td>chr1:108592862..108592863,-</td>\n",
       "      <td>chr1:108592945..108592946,+</td>\n",
       "      <td>84</td>\n",
       "      <td>1794.280</td>\n",
       "      <td>0.981554</td>\n",
       "      <td>0.00000</td>\n",
       "      <td>0.000000</td>\n",
       "      <td>0.0</td>\n",
       "      <td>0.000000</td>\n",
       "      <td>0.000000</td>\n",
       "      <td>0.000000</td>\n",
       "      <td>0.000000</td>\n",
       "      <td>0.0</td>\n",
       "      <td>0.000000</td>\n",
       "      <td>0.000000</td>\n",
       "      <td>chr1:108592828..108592942,-</td>\n",
       "      <td>chr1:108592866..108592980,+</td>\n",
       "    </tr>\n",
       "    <tr>\n",
       "      <th>3</th>\n",
       "      <td>chr1:109099158-109099479</td>\n",
       "      <td>chr1:109099171..109099172,-</td>\n",
       "      <td>chr1:109099303..109099304,+</td>\n",
       "      <td>159</td>\n",
       "      <td>1366.590</td>\n",
       "      <td>0.747588</td>\n",
       "      <td>0.00000</td>\n",
       "      <td>0.000000</td>\n",
       "      <td>0.0</td>\n",
       "      <td>0.000000</td>\n",
       "      <td>0.000000</td>\n",
       "      <td>0.078648</td>\n",
       "      <td>0.000000</td>\n",
       "      <td>0.0</td>\n",
       "      <td>0.000000</td>\n",
       "      <td>0.008739</td>\n",
       "      <td>chr1:109099137..109099251,-</td>\n",
       "      <td>chr1:109099224..109099338,+</td>\n",
       "    </tr>\n",
       "    <tr>\n",
       "      <th>4</th>\n",
       "      <td>chr1:109788948-109789150</td>\n",
       "      <td>chr1:109788975..109788976,-</td>\n",
       "      <td>chr1:109789149..109789150,+</td>\n",
       "      <td>229</td>\n",
       "      <td>2093.390</td>\n",
       "      <td>1.145181</td>\n",
       "      <td>0.00000</td>\n",
       "      <td>0.000000</td>\n",
       "      <td>0.0</td>\n",
       "      <td>0.000000</td>\n",
       "      <td>0.000000</td>\n",
       "      <td>0.000000</td>\n",
       "      <td>0.000000</td>\n",
       "      <td>0.0</td>\n",
       "      <td>0.000000</td>\n",
       "      <td>0.000000</td>\n",
       "      <td>chr1:109788941..109789055,-</td>\n",
       "      <td>chr1:109789070..109789184,+</td>\n",
       "    </tr>\n",
       "  </tbody>\n",
       "</table>\n",
       "</div>"
      ],
      "text/plain": [
       "                enhancer_id                   TSS_id_Neg  \\\n",
       "0      chr1:1004646-1004986      chr1:1004724..1004725,-   \n",
       "1  chr1:108483614-108484145  chr1:108483919..108483920,-   \n",
       "2  chr1:108592862-108593109  chr1:108592862..108592863,-   \n",
       "3  chr1:109099158-109099479  chr1:109099171..109099172,-   \n",
       "4  chr1:109788948-109789150  chr1:109788975..109788976,-   \n",
       "\n",
       "                    TSS_id_Pos  distTSSs  sum_1828_samples  avExpALL  \\\n",
       "0      chr1:1004806..1004807,+       239          2186.660  1.196204   \n",
       "1  chr1:108484014..108484015,+       706           949.696  0.519527   \n",
       "2  chr1:108592945..108592946,+        84          1794.280  0.981554   \n",
       "3  chr1:109099303..109099304,+       159          1366.590  0.747588   \n",
       "4  chr1:109789149..109789150,+       229          2093.390  1.145181   \n",
       "\n",
       "   K562_rep1  K562_rep2  K562_rep3  HeLa_rep1  HeLa_rep2  HeLa_rep3  \\\n",
       "0    1.75865   1.718966        0.0   0.278501   0.634142   0.471889   \n",
       "1    0.00000   0.000000        0.0   0.000000   0.000000   0.000000   \n",
       "2    0.00000   0.000000        0.0   0.000000   0.000000   0.000000   \n",
       "3    0.00000   0.000000        0.0   0.000000   0.000000   0.078648   \n",
       "4    0.00000   0.000000        0.0   0.000000   0.000000   0.000000   \n",
       "\n",
       "   HepG2_rep1  HepG2_rep2  HepG2_rep3   avExpCS                oligo_reg_Neg  \\\n",
       "0    0.224833         0.0    0.193772  0.586750      chr1:1004690..1004804,-   \n",
       "1    0.000000         0.0    0.000000  0.000000  chr1:108483885..108483999,-   \n",
       "2    0.000000         0.0    0.000000  0.000000  chr1:108592828..108592942,-   \n",
       "3    0.000000         0.0    0.000000  0.008739  chr1:109099137..109099251,-   \n",
       "4    0.000000         0.0    0.000000  0.000000  chr1:109788941..109789055,-   \n",
       "\n",
       "                 oligo_reg_Pos  \n",
       "0      chr1:1004727..1004841,+  \n",
       "1  chr1:108483935..108484049,+  \n",
       "2  chr1:108592866..108592980,+  \n",
       "3  chr1:109099224..109099338,+  \n",
       "4  chr1:109789070..109789184,+  "
      ]
     },
     "execution_count": 38,
     "metadata": {},
     "output_type": "execute_result"
    }
   ],
   "source": [
    "enh_cage_map = pd.read_table(enh_cage_map_f, sep=\"\\t\")\n",
    "enh_cage_map.head()"
   ]
  },
  {
   "cell_type": "markdown",
   "metadata": {},
   "source": [
    "## 2. for pool1: join coverage and motif files with MPRA expr/spec files"
   ]
  },
  {
   "cell_type": "code",
   "execution_count": 39,
   "metadata": {},
   "outputs": [
    {
     "data": {
      "text/html": [
       "<div>\n",
       "<style>\n",
       "    .dataframe thead tr:only-child th {\n",
       "        text-align: right;\n",
       "    }\n",
       "\n",
       "    .dataframe thead th {\n",
       "        text-align: left;\n",
       "    }\n",
       "\n",
       "    .dataframe tbody tr th {\n",
       "        vertical-align: top;\n",
       "    }\n",
       "</style>\n",
       "<table border=\"1\" class=\"dataframe\">\n",
       "  <thead>\n",
       "    <tr style=\"text-align: right;\">\n",
       "      <th></th>\n",
       "      <th>unique_id</th>\n",
       "      <th>PromType2</th>\n",
       "      <th>cage_activ</th>\n",
       "      <th>cage_ts</th>\n",
       "      <th>mpra_activ</th>\n",
       "      <th>mpra_ts</th>\n",
       "      <th>oligo_reg</th>\n",
       "      <th>TSS_id</th>\n",
       "    </tr>\n",
       "  </thead>\n",
       "  <tbody>\n",
       "    <tr>\n",
       "      <th>273</th>\n",
       "      <td>WILDTYPE__Enhancer.noflip.NA__chr8:62679813..6...</td>\n",
       "      <td>Enhancer</td>\n",
       "      <td>0.055995</td>\n",
       "      <td>0.406557</td>\n",
       "      <td>-1.961143</td>\n",
       "      <td>0.236891</td>\n",
       "      <td>chr8:62679813..62679927,-</td>\n",
       "      <td>chr8:62679636-62680132</td>\n",
       "    </tr>\n",
       "    <tr>\n",
       "      <th>247</th>\n",
       "      <td>WILDTYPE__Enhancer.noflip.NA__chr5:100113448.....</td>\n",
       "      <td>Enhancer</td>\n",
       "      <td>0.015315</td>\n",
       "      <td>0.666667</td>\n",
       "      <td>-0.031772</td>\n",
       "      <td>0.230417</td>\n",
       "      <td>chr5:100113448..100113562,-</td>\n",
       "      <td>chr5:100113377-100113868</td>\n",
       "    </tr>\n",
       "    <tr>\n",
       "      <th>0</th>\n",
       "      <td>WILDTYPE_BUT_HAS_SNP__Enhancer.flip.sense__chr...</td>\n",
       "      <td>Enhancer</td>\n",
       "      <td>0.000000</td>\n",
       "      <td>NaN</td>\n",
       "      <td>-1.659291</td>\n",
       "      <td>0.221290</td>\n",
       "      <td>chr10:30782546..30782660,+</td>\n",
       "      <td>chr10:30782405-30782910</td>\n",
       "    </tr>\n",
       "    <tr>\n",
       "      <th>235</th>\n",
       "      <td>WILDTYPE__Enhancer.noflip.NA__chr2:208176289.....</td>\n",
       "      <td>Enhancer</td>\n",
       "      <td>0.007682</td>\n",
       "      <td>0.666667</td>\n",
       "      <td>2.380135</td>\n",
       "      <td>0.153395</td>\n",
       "      <td>chr2:208176289..208176403,+</td>\n",
       "      <td>chr2:208176046-208176541</td>\n",
       "    </tr>\n",
       "    <tr>\n",
       "      <th>87</th>\n",
       "      <td>WILDTYPE_BUT_HAS_SNP__Enhancer.noflip.NA__chr5...</td>\n",
       "      <td>Enhancer</td>\n",
       "      <td>0.000000</td>\n",
       "      <td>NaN</td>\n",
       "      <td>-2.039454</td>\n",
       "      <td>0.445833</td>\n",
       "      <td>chr5:40410488..40410602,-</td>\n",
       "      <td>chr5:40410103-40410947</td>\n",
       "    </tr>\n",
       "  </tbody>\n",
       "</table>\n",
       "</div>"
      ],
      "text/plain": [
       "                                             unique_id PromType2  cage_activ  \\\n",
       "273  WILDTYPE__Enhancer.noflip.NA__chr8:62679813..6...  Enhancer    0.055995   \n",
       "247  WILDTYPE__Enhancer.noflip.NA__chr5:100113448.....  Enhancer    0.015315   \n",
       "0    WILDTYPE_BUT_HAS_SNP__Enhancer.flip.sense__chr...  Enhancer    0.000000   \n",
       "235  WILDTYPE__Enhancer.noflip.NA__chr2:208176289.....  Enhancer    0.007682   \n",
       "87   WILDTYPE_BUT_HAS_SNP__Enhancer.noflip.NA__chr5...  Enhancer    0.000000   \n",
       "\n",
       "      cage_ts  mpra_activ   mpra_ts                    oligo_reg  \\\n",
       "273  0.406557   -1.961143  0.236891    chr8:62679813..62679927,-   \n",
       "247  0.666667   -0.031772  0.230417  chr5:100113448..100113562,-   \n",
       "0         NaN   -1.659291  0.221290   chr10:30782546..30782660,+   \n",
       "235  0.666667    2.380135  0.153395  chr2:208176289..208176403,+   \n",
       "87        NaN   -2.039454  0.445833    chr5:40410488..40410602,-   \n",
       "\n",
       "                       TSS_id  \n",
       "273    chr8:62679636-62680132  \n",
       "247  chr5:100113377-100113868  \n",
       "0     chr10:30782405-30782910  \n",
       "235  chr2:208176046-208176541  \n",
       "87     chr5:40410103-40410947  "
      ]
     },
     "execution_count": 39,
     "metadata": {},
     "output_type": "execute_result"
    }
   ],
   "source": [
    "# since enhancers have 2 TSS_ids, need to join these separately\n",
    "tmp = cage_v_mpra.merge(tss_cage_map[[\"oligo_reg\", \"TSS_id\"]], on=\"oligo_reg\", how=\"left\")\n",
    "tmp_enh_pos = tmp[(tmp[\"unique_id\"].str.contains(\"Enhancer\")) & (tmp[\"TSS_id\"].str[-1] == \"+\")]\n",
    "tmp_enh_neg = tmp[(tmp[\"unique_id\"].str.contains(\"Enhancer\")) & (tmp[\"TSS_id\"].str[-1] == \"-\")]\n",
    "\n",
    "tmp_enh_pos = tmp_enh_pos.merge(enh_cage_map[[\"TSS_id_Pos\", \"enhancer_id\"]], left_on=\"TSS_id\", right_on=\"TSS_id_Pos\",\n",
    "                                how=\"left\")\n",
    "tmp_enh_neg = tmp_enh_neg.merge(enh_cage_map[[\"TSS_id_Neg\", \"enhancer_id\"]], left_on=\"TSS_id\", right_on=\"TSS_id_Neg\",\n",
    "                                how=\"left\")\n",
    "tmp_enh_pos = tmp_enh_pos.drop(\"TSS_id_Pos\", axis=1)\n",
    "tmp_enh_neg = tmp_enh_neg.drop(\"TSS_id_Neg\", axis=1)\n",
    "tmp_enh = tmp_enh_pos.append(tmp_enh_neg)\n",
    "tmp_enh[\"TSS_id\"] = tmp_enh[\"enhancer_id\"]\n",
    "tmp_enh.drop(\"enhancer_id\", axis=1, inplace=True)\n",
    "tmp_enh.sample(5)"
   ]
  },
  {
   "cell_type": "code",
   "execution_count": 40,
   "metadata": {},
   "outputs": [
    {
     "data": {
      "text/html": [
       "<div>\n",
       "<style>\n",
       "    .dataframe thead tr:only-child th {\n",
       "        text-align: right;\n",
       "    }\n",
       "\n",
       "    .dataframe thead th {\n",
       "        text-align: left;\n",
       "    }\n",
       "\n",
       "    .dataframe tbody tr th {\n",
       "        vertical-align: top;\n",
       "    }\n",
       "</style>\n",
       "<table border=\"1\" class=\"dataframe\">\n",
       "  <thead>\n",
       "    <tr style=\"text-align: right;\">\n",
       "      <th></th>\n",
       "      <th>unique_id</th>\n",
       "      <th>PromType2</th>\n",
       "      <th>cage_activ</th>\n",
       "      <th>cage_ts</th>\n",
       "      <th>mpra_activ</th>\n",
       "      <th>mpra_ts</th>\n",
       "      <th>oligo_reg</th>\n",
       "      <th>TSS_id</th>\n",
       "    </tr>\n",
       "  </thead>\n",
       "  <tbody>\n",
       "    <tr>\n",
       "      <th>1025</th>\n",
       "      <td>WILDTYPE__Antisense.noflip.NA__chr11:70244440....</td>\n",
       "      <td>div_lnc</td>\n",
       "      <td>0.716815</td>\n",
       "      <td>0.044094</td>\n",
       "      <td>-1.177274</td>\n",
       "      <td>0.093583</td>\n",
       "      <td>chr11:70244440..70244554,-</td>\n",
       "      <td>chr11:70244451..70244505,-</td>\n",
       "    </tr>\n",
       "    <tr>\n",
       "      <th>1995</th>\n",
       "      <td>WILDTYPE__mrna.noflip.NA__chr2:136499246..1364...</td>\n",
       "      <td>protein_coding</td>\n",
       "      <td>1.320543</td>\n",
       "      <td>0.051119</td>\n",
       "      <td>-1.488498</td>\n",
       "      <td>0.302343</td>\n",
       "      <td>chr2:136499246..136499360,+</td>\n",
       "      <td>chr2:136499305..136499381,+</td>\n",
       "    </tr>\n",
       "    <tr>\n",
       "      <th>1640</th>\n",
       "      <td>WILDTYPE__Lincrna.noflip.NA__chr22:27053472..2...</td>\n",
       "      <td>intergenic</td>\n",
       "      <td>0.009165</td>\n",
       "      <td>0.666667</td>\n",
       "      <td>0.422933</td>\n",
       "      <td>0.183777</td>\n",
       "      <td>chr22:27053472..27053586,+</td>\n",
       "      <td>chr22:27053545..27053561,+</td>\n",
       "    </tr>\n",
       "    <tr>\n",
       "      <th>14</th>\n",
       "      <td>WILDTYPE_BUT_HAS_SNP__Enhancer.flip.sense__chr...</td>\n",
       "      <td>Enhancer</td>\n",
       "      <td>0.252262</td>\n",
       "      <td>0.026592</td>\n",
       "      <td>-1.772559</td>\n",
       "      <td>0.021159</td>\n",
       "      <td>chr22:41047707..41047821,-</td>\n",
       "      <td>chr22:41047729-41047883</td>\n",
       "    </tr>\n",
       "    <tr>\n",
       "      <th>653</th>\n",
       "      <td>WILDTYPE_BUT_HAS_SNP__mrna.noflip.NA__chr13:10...</td>\n",
       "      <td>protein_coding</td>\n",
       "      <td>0.000000</td>\n",
       "      <td>NaN</td>\n",
       "      <td>-2.008370</td>\n",
       "      <td>0.485906</td>\n",
       "      <td>chr13:102104846..102104960,+</td>\n",
       "      <td>chr13:102104920..102104936,+</td>\n",
       "    </tr>\n",
       "  </tbody>\n",
       "</table>\n",
       "</div>"
      ],
      "text/plain": [
       "                                              unique_id       PromType2  \\\n",
       "1025  WILDTYPE__Antisense.noflip.NA__chr11:70244440....         div_lnc   \n",
       "1995  WILDTYPE__mrna.noflip.NA__chr2:136499246..1364...  protein_coding   \n",
       "1640  WILDTYPE__Lincrna.noflip.NA__chr22:27053472..2...      intergenic   \n",
       "14    WILDTYPE_BUT_HAS_SNP__Enhancer.flip.sense__chr...        Enhancer   \n",
       "653   WILDTYPE_BUT_HAS_SNP__mrna.noflip.NA__chr13:10...  protein_coding   \n",
       "\n",
       "      cage_activ   cage_ts  mpra_activ   mpra_ts  \\\n",
       "1025    0.716815  0.044094   -1.177274  0.093583   \n",
       "1995    1.320543  0.051119   -1.488498  0.302343   \n",
       "1640    0.009165  0.666667    0.422933  0.183777   \n",
       "14      0.252262  0.026592   -1.772559  0.021159   \n",
       "653     0.000000       NaN   -2.008370  0.485906   \n",
       "\n",
       "                         oligo_reg                        TSS_id  \n",
       "1025    chr11:70244440..70244554,-    chr11:70244451..70244505,-  \n",
       "1995   chr2:136499246..136499360,+   chr2:136499305..136499381,+  \n",
       "1640    chr22:27053472..27053586,+    chr22:27053545..27053561,+  \n",
       "14      chr22:41047707..41047821,-       chr22:41047729-41047883  \n",
       "653   chr13:102104846..102104960,+  chr13:102104920..102104936,+  "
      ]
     },
     "execution_count": 40,
     "metadata": {},
     "output_type": "execute_result"
    }
   ],
   "source": [
    "tmp_no_enh = tmp[~tmp[\"unique_id\"].str.contains(\"Enhancer\")]\n",
    "cage_v_mpra = tmp_no_enh.append(tmp_enh)\n",
    "cage_v_mpra.sample(5)"
   ]
  },
  {
   "cell_type": "code",
   "execution_count": 42,
   "metadata": {},
   "outputs": [
    {
     "data": {
      "text/plain": [
       "protein_coding    599\n",
       "Enhancer          564\n",
       "intergenic        425\n",
       "div_lnc           353\n",
       "div_pc            137\n",
       "Name: PromType2, dtype: int64"
      ]
     },
     "execution_count": 42,
     "metadata": {},
     "output_type": "execute_result"
    }
   ],
   "source": [
    "cage_v_mpra.PromType2.value_counts()"
   ]
  },
  {
   "cell_type": "code",
   "execution_count": 43,
   "metadata": {},
   "outputs": [
    {
     "name": "stdout",
     "output_type": "stream",
     "text": [
      "2076\n"
     ]
    },
    {
     "data": {
      "text/html": [
       "<div>\n",
       "<style>\n",
       "    .dataframe thead tr:only-child th {\n",
       "        text-align: right;\n",
       "    }\n",
       "\n",
       "    .dataframe thead th {\n",
       "        text-align: left;\n",
       "    }\n",
       "\n",
       "    .dataframe tbody tr th {\n",
       "        vertical-align: top;\n",
       "    }\n",
       "</style>\n",
       "<table border=\"1\" class=\"dataframe\">\n",
       "  <thead>\n",
       "    <tr style=\"text-align: right;\">\n",
       "      <th></th>\n",
       "      <th>chr</th>\n",
       "      <th>start</th>\n",
       "      <th>end</th>\n",
       "      <th>unique_id</th>\n",
       "      <th>score</th>\n",
       "      <th>strand</th>\n",
       "      <th>n_motifs</th>\n",
       "      <th>n_bp_cov</th>\n",
       "      <th>seq_len</th>\n",
       "      <th>frac_bp_cov</th>\n",
       "      <th>...</th>\n",
       "      <th>log_bp_cov</th>\n",
       "      <th>log_max_cov</th>\n",
       "      <th>cage_id</th>\n",
       "      <th>PromType2</th>\n",
       "      <th>cage_activ</th>\n",
       "      <th>cage_ts</th>\n",
       "      <th>mpra_activ</th>\n",
       "      <th>mpra_ts</th>\n",
       "      <th>oligo_reg</th>\n",
       "      <th>TSS_id</th>\n",
       "    </tr>\n",
       "  </thead>\n",
       "  <tbody>\n",
       "    <tr>\n",
       "      <th>249</th>\n",
       "      <td>chr11</td>\n",
       "      <td>62622801</td>\n",
       "      <td>62622915</td>\n",
       "      <td>WILDTYPE__Lincrna.noflip.NA__chr11:62622801..6...</td>\n",
       "      <td>1</td>\n",
       "      <td>-</td>\n",
       "      <td>4</td>\n",
       "      <td>42</td>\n",
       "      <td>114</td>\n",
       "      <td>0.368421</td>\n",
       "      <td>...</td>\n",
       "      <td>3.761200</td>\n",
       "      <td>1.098612</td>\n",
       "      <td>chr11:62622833..62622839,-</td>\n",
       "      <td>div_lnc</td>\n",
       "      <td>0.143108</td>\n",
       "      <td>0.247555</td>\n",
       "      <td>-1.017493</td>\n",
       "      <td>0.281407</td>\n",
       "      <td>chr11:62622801..62622915,-</td>\n",
       "      <td>chr11:62622833..62622839,-</td>\n",
       "    </tr>\n",
       "    <tr>\n",
       "      <th>705</th>\n",
       "      <td>chr1</td>\n",
       "      <td>59250755</td>\n",
       "      <td>59250869</td>\n",
       "      <td>WILDTYPE__Lincrna.noflip.NA__chr1:59250755..59...</td>\n",
       "      <td>1</td>\n",
       "      <td>+</td>\n",
       "      <td>37</td>\n",
       "      <td>73</td>\n",
       "      <td>114</td>\n",
       "      <td>0.640351</td>\n",
       "      <td>...</td>\n",
       "      <td>4.304065</td>\n",
       "      <td>3.091042</td>\n",
       "      <td>chr1:59250815..59250848,+</td>\n",
       "      <td>intergenic</td>\n",
       "      <td>0.091471</td>\n",
       "      <td>0.530494</td>\n",
       "      <td>0.093626</td>\n",
       "      <td>0.075114</td>\n",
       "      <td>chr1:59250755..59250869,+</td>\n",
       "      <td>chr1:59250815..59250848,+</td>\n",
       "    </tr>\n",
       "    <tr>\n",
       "      <th>1522</th>\n",
       "      <td>chr5</td>\n",
       "      <td>173763185</td>\n",
       "      <td>173763299</td>\n",
       "      <td>WILDTYPE__Lincrna.noflip.NA__chr5:173763185..1...</td>\n",
       "      <td>1</td>\n",
       "      <td>+</td>\n",
       "      <td>7</td>\n",
       "      <td>40</td>\n",
       "      <td>114</td>\n",
       "      <td>0.350877</td>\n",
       "      <td>...</td>\n",
       "      <td>3.713572</td>\n",
       "      <td>1.791759</td>\n",
       "      <td>chr5:173763250..173763302,+</td>\n",
       "      <td>intergenic</td>\n",
       "      <td>0.096098</td>\n",
       "      <td>0.666667</td>\n",
       "      <td>-1.952821</td>\n",
       "      <td>0.483426</td>\n",
       "      <td>chr5:173763185..173763299,+</td>\n",
       "      <td>chr5:173763250..173763302,+</td>\n",
       "    </tr>\n",
       "    <tr>\n",
       "      <th>281</th>\n",
       "      <td>chr1</td>\n",
       "      <td>167587039</td>\n",
       "      <td>167587153</td>\n",
       "      <td>WILDTYPE__Enhancer.noflip.NA__chr1:167587039.....</td>\n",
       "      <td>1</td>\n",
       "      <td>-</td>\n",
       "      <td>57</td>\n",
       "      <td>77</td>\n",
       "      <td>114</td>\n",
       "      <td>0.675439</td>\n",
       "      <td>...</td>\n",
       "      <td>4.356709</td>\n",
       "      <td>2.890372</td>\n",
       "      <td>chr1:167586596-167587245</td>\n",
       "      <td>Enhancer</td>\n",
       "      <td>0.241065</td>\n",
       "      <td>0.666667</td>\n",
       "      <td>-0.363099</td>\n",
       "      <td>0.076945</td>\n",
       "      <td>chr1:167587039..167587153,-</td>\n",
       "      <td>chr1:167586596-167587245</td>\n",
       "    </tr>\n",
       "    <tr>\n",
       "      <th>1769</th>\n",
       "      <td>chr7</td>\n",
       "      <td>23720421</td>\n",
       "      <td>23720535</td>\n",
       "      <td>WILDTYPE_BUT_HAS_SNP__Antisense.noflip.NA__chr...</td>\n",
       "      <td>1</td>\n",
       "      <td>-</td>\n",
       "      <td>14</td>\n",
       "      <td>57</td>\n",
       "      <td>114</td>\n",
       "      <td>0.500000</td>\n",
       "      <td>...</td>\n",
       "      <td>4.060443</td>\n",
       "      <td>1.791759</td>\n",
       "      <td>chr7:23720431..23720470,-</td>\n",
       "      <td>div_lnc</td>\n",
       "      <td>0.000000</td>\n",
       "      <td>NaN</td>\n",
       "      <td>-2.121316</td>\n",
       "      <td>0.328832</td>\n",
       "      <td>chr7:23720421..23720535,-</td>\n",
       "      <td>chr7:23720431..23720470,-</td>\n",
       "    </tr>\n",
       "  </tbody>\n",
       "</table>\n",
       "<p>5 rows × 22 columns</p>\n",
       "</div>"
      ],
      "text/plain": [
       "        chr      start        end  \\\n",
       "249   chr11   62622801   62622915   \n",
       "705    chr1   59250755   59250869   \n",
       "1522   chr5  173763185  173763299   \n",
       "281    chr1  167587039  167587153   \n",
       "1769   chr7   23720421   23720535   \n",
       "\n",
       "                                              unique_id  score strand  \\\n",
       "249   WILDTYPE__Lincrna.noflip.NA__chr11:62622801..6...      1      -   \n",
       "705   WILDTYPE__Lincrna.noflip.NA__chr1:59250755..59...      1      +   \n",
       "1522  WILDTYPE__Lincrna.noflip.NA__chr5:173763185..1...      1      +   \n",
       "281   WILDTYPE__Enhancer.noflip.NA__chr1:167587039.....      1      -   \n",
       "1769  WILDTYPE_BUT_HAS_SNP__Antisense.noflip.NA__chr...      1      -   \n",
       "\n",
       "      n_motifs  n_bp_cov  seq_len  frac_bp_cov             ...               \\\n",
       "249          4        42      114     0.368421             ...                \n",
       "705         37        73      114     0.640351             ...                \n",
       "1522         7        40      114     0.350877             ...                \n",
       "281         57        77      114     0.675439             ...                \n",
       "1769        14        57      114     0.500000             ...                \n",
       "\n",
       "      log_bp_cov  log_max_cov                      cage_id   PromType2  \\\n",
       "249     3.761200     1.098612   chr11:62622833..62622839,-     div_lnc   \n",
       "705     4.304065     3.091042    chr1:59250815..59250848,+  intergenic   \n",
       "1522    3.713572     1.791759  chr5:173763250..173763302,+  intergenic   \n",
       "281     4.356709     2.890372     chr1:167586596-167587245    Enhancer   \n",
       "1769    4.060443     1.791759    chr7:23720431..23720470,-     div_lnc   \n",
       "\n",
       "     cage_activ   cage_ts  mpra_activ   mpra_ts                    oligo_reg  \\\n",
       "249    0.143108  0.247555   -1.017493  0.281407   chr11:62622801..62622915,-   \n",
       "705    0.091471  0.530494    0.093626  0.075114    chr1:59250755..59250869,+   \n",
       "1522   0.096098  0.666667   -1.952821  0.483426  chr5:173763185..173763299,+   \n",
       "281    0.241065  0.666667   -0.363099  0.076945  chr1:167587039..167587153,-   \n",
       "1769   0.000000       NaN   -2.121316  0.328832    chr7:23720421..23720535,-   \n",
       "\n",
       "                           TSS_id  \n",
       "249    chr11:62622833..62622839,-  \n",
       "705     chr1:59250815..59250848,+  \n",
       "1522  chr5:173763250..173763302,+  \n",
       "281      chr1:167586596-167587245  \n",
       "1769    chr7:23720431..23720470,-  \n",
       "\n",
       "[5 rows x 22 columns]"
      ]
     },
     "execution_count": 43,
     "metadata": {},
     "output_type": "execute_result"
    }
   ],
   "source": [
    "pool1_fimo_cov = pool1_fimo_cov.merge(cage_v_mpra, on=\"unique_id\")\n",
    "pool1_fimo = pool1_fimo.merge(cage_v_mpra, on=\"unique_id\")\n",
    "pool1_fimo_cov[\"cage_id\"] = pool1_fimo_cov[\"TSS_id\"]\n",
    "pool1_fimo[\"cage_id\"] = pool1_fimo[\"TSS_id\"]\n",
    "all_cov_dfs[\"pool1_fimo\"] = pool1_fimo_cov\n",
    "all_motif_dfs[\"pool1_fimo\"] = pool1_fimo\n",
    "print(len(pool1_fimo_cov))\n",
    "pool1_fimo_cov.sample(5)"
   ]
  },
  {
   "cell_type": "code",
   "execution_count": 44,
   "metadata": {},
   "outputs": [
    {
     "name": "stdout",
     "output_type": "stream",
     "text": [
      "1926\n"
     ]
    }
   ],
   "source": [
    "pool1_fimo_chip_cov = pool1_fimo_chip_cov.merge(cage_v_mpra, on=\"unique_id\")\n",
    "\n",
    "# for old chip files:\n",
    "#pool1_fimo_chip = pool1_fimo_chip.drop(\"unique_id\", axis=1).merge(cage_v_mpra, left_on=\"cage_id\", right_on=\"TSS_id\")\n",
    "\n",
    "# for new chip files:\n",
    "pool1_fimo_chip = pool1_fimo_chip.merge(cage_v_mpra, on=\"unique_id\")\n",
    "\n",
    "pool1_fimo_chip_cov[\"cage_id\"] = pool1_fimo_chip_cov[\"TSS_id\"]\n",
    "pool1_fimo_chip[\"cage_id\"] = pool1_fimo_chip[\"TSS_id\"]\n",
    "all_cov_dfs[\"pool1_fimo_chip\"] = pool1_fimo_chip_cov\n",
    "all_motif_dfs[\"pool1_fimo_chip\"] = pool1_fimo_chip\n",
    "print(len(pool1_fimo_chip_cov))"
   ]
  },
  {
   "cell_type": "code",
   "execution_count": 45,
   "metadata": {},
   "outputs": [
    {
     "name": "stdout",
     "output_type": "stream",
     "text": [
      "2076\n"
     ]
    }
   ],
   "source": [
    "pool1_fimo_no_ets_cov = pool1_fimo_no_ets_cov.merge(cage_v_mpra, on=\"unique_id\")\n",
    "pool1_fimo_no_ets = pool1_fimo_no_ets.merge(cage_v_mpra, on=\"unique_id\")\n",
    "pool1_fimo_no_ets_cov[\"cage_id\"] = pool1_fimo_no_ets_cov[\"TSS_id\"]\n",
    "pool1_fimo_no_ets[\"cage_id\"] = pool1_fimo_no_ets[\"TSS_id\"]\n",
    "all_cov_dfs[\"pool1_fimo_no_ets\"] = pool1_fimo_no_ets_cov\n",
    "all_motif_dfs[\"pool1_fimo_no_ets\"] = pool1_fimo_no_ets\n",
    "print(len(pool1_fimo_no_ets_cov))"
   ]
  },
  {
   "cell_type": "code",
   "execution_count": 46,
   "metadata": {},
   "outputs": [
    {
     "name": "stdout",
     "output_type": "stream",
     "text": [
      "1912\n"
     ]
    }
   ],
   "source": [
    "pool1_fimo_no_ets_chip_cov = pool1_fimo_no_ets_chip_cov.merge(cage_v_mpra, on=\"unique_id\")\n",
    "\n",
    "# for old chip files:\n",
    "# pool1_fimo_no_ets_chip = pool1_fimo_no_ets_chip.drop(\"unique_id\", axis=1).merge(cage_v_mpra, left_on=\"cage_id\", \n",
    "#                                                                                 right_on=\"TSS_id\")\n",
    "\n",
    "# for new chip files:\n",
    "pool1_fimo_no_ets_chip = pool1_fimo_no_ets_chip.merge(cage_v_mpra, on=\"unique_id\")\n",
    "\n",
    "pool1_fimo_no_ets_chip_cov[\"cage_id\"] = pool1_fimo_no_ets_chip_cov[\"TSS_id\"]\n",
    "pool1_fimo_no_ets_chip[\"cage_id\"] = pool1_fimo_no_ets_chip[\"TSS_id\"]\n",
    "all_cov_dfs[\"pool1_fimo_no_ets_chip\"] = pool1_fimo_no_ets_chip_cov\n",
    "all_motif_dfs[\"pool1_fimo_no_ets_chip\"] = pool1_fimo_no_ets_chip\n",
    "print(len(pool1_fimo_no_ets_chip_cov))"
   ]
  },
  {
   "cell_type": "code",
   "execution_count": 47,
   "metadata": {},
   "outputs": [
    {
     "data": {
      "text/html": [
       "<div>\n",
       "<style>\n",
       "    .dataframe thead tr:only-child th {\n",
       "        text-align: right;\n",
       "    }\n",
       "\n",
       "    .dataframe thead th {\n",
       "        text-align: left;\n",
       "    }\n",
       "\n",
       "    .dataframe tbody tr th {\n",
       "        vertical-align: top;\n",
       "    }\n",
       "</style>\n",
       "<table border=\"1\" class=\"dataframe\">\n",
       "  <thead>\n",
       "    <tr style=\"text-align: right;\">\n",
       "      <th></th>\n",
       "      <th>motif_chr</th>\n",
       "      <th>motif_start</th>\n",
       "      <th>motif_end</th>\n",
       "      <th>unique_id</th>\n",
       "      <th>score</th>\n",
       "      <th>strand</th>\n",
       "      <th>chr</th>\n",
       "      <th>start</th>\n",
       "      <th>end</th>\n",
       "      <th>motif</th>\n",
       "      <th>motif_score</th>\n",
       "      <th>motif_strand</th>\n",
       "      <th>cage_id</th>\n",
       "      <th>PromType2</th>\n",
       "      <th>cage_activ</th>\n",
       "      <th>cage_ts</th>\n",
       "      <th>mpra_activ</th>\n",
       "      <th>mpra_ts</th>\n",
       "      <th>oligo_reg</th>\n",
       "      <th>TSS_id</th>\n",
       "    </tr>\n",
       "  </thead>\n",
       "  <tbody>\n",
       "    <tr>\n",
       "      <th>0</th>\n",
       "      <td>chr1</td>\n",
       "      <td>713979</td>\n",
       "      <td>713991</td>\n",
       "      <td>WILDTYPE_BUT_HAS_SNP__Lincrna.flip.sense__chr1...</td>\n",
       "      <td>0</td>\n",
       "      <td>-</td>\n",
       "      <td>chr1</td>\n",
       "      <td>713979</td>\n",
       "      <td>713991</td>\n",
       "      <td>E2F1</td>\n",
       "      <td>11.96720</td>\n",
       "      <td>-</td>\n",
       "      <td>chr1:713985..714054,-</td>\n",
       "      <td>intergenic</td>\n",
       "      <td>0.975524</td>\n",
       "      <td>0.155088</td>\n",
       "      <td>1.227084</td>\n",
       "      <td>0.153124</td>\n",
       "      <td>chr1:713977..714091,-</td>\n",
       "      <td>chr1:713985..714054,-</td>\n",
       "    </tr>\n",
       "    <tr>\n",
       "      <th>1</th>\n",
       "      <td>chr1</td>\n",
       "      <td>713979</td>\n",
       "      <td>713991</td>\n",
       "      <td>WILDTYPE_BUT_HAS_SNP__Lincrna.flip.sense__chr1...</td>\n",
       "      <td>0</td>\n",
       "      <td>-</td>\n",
       "      <td>chr1</td>\n",
       "      <td>713979</td>\n",
       "      <td>713991</td>\n",
       "      <td>E2F1</td>\n",
       "      <td>11.55740</td>\n",
       "      <td>+</td>\n",
       "      <td>chr1:713985..714054,-</td>\n",
       "      <td>intergenic</td>\n",
       "      <td>0.975524</td>\n",
       "      <td>0.155088</td>\n",
       "      <td>1.227084</td>\n",
       "      <td>0.153124</td>\n",
       "      <td>chr1:713977..714091,-</td>\n",
       "      <td>chr1:713985..714054,-</td>\n",
       "    </tr>\n",
       "    <tr>\n",
       "      <th>2</th>\n",
       "      <td>chr1</td>\n",
       "      <td>714030</td>\n",
       "      <td>714041</td>\n",
       "      <td>WILDTYPE_BUT_HAS_SNP__Lincrna.flip.sense__chr1...</td>\n",
       "      <td>0</td>\n",
       "      <td>-</td>\n",
       "      <td>chr1</td>\n",
       "      <td>714030</td>\n",
       "      <td>714041</td>\n",
       "      <td>SP1</td>\n",
       "      <td>10.48080</td>\n",
       "      <td>-</td>\n",
       "      <td>chr1:713985..714054,-</td>\n",
       "      <td>intergenic</td>\n",
       "      <td>0.975524</td>\n",
       "      <td>0.155088</td>\n",
       "      <td>1.227084</td>\n",
       "      <td>0.153124</td>\n",
       "      <td>chr1:713977..714091,-</td>\n",
       "      <td>chr1:713985..714054,-</td>\n",
       "    </tr>\n",
       "    <tr>\n",
       "      <th>3</th>\n",
       "      <td>chr1</td>\n",
       "      <td>714030</td>\n",
       "      <td>714045</td>\n",
       "      <td>WILDTYPE_BUT_HAS_SNP__Lincrna.flip.sense__chr1...</td>\n",
       "      <td>0</td>\n",
       "      <td>-</td>\n",
       "      <td>chr1</td>\n",
       "      <td>714030</td>\n",
       "      <td>714045</td>\n",
       "      <td>SP2</td>\n",
       "      <td>10.44830</td>\n",
       "      <td>-</td>\n",
       "      <td>chr1:713985..714054,-</td>\n",
       "      <td>intergenic</td>\n",
       "      <td>0.975524</td>\n",
       "      <td>0.155088</td>\n",
       "      <td>1.227084</td>\n",
       "      <td>0.153124</td>\n",
       "      <td>chr1:713977..714091,-</td>\n",
       "      <td>chr1:713985..714054,-</td>\n",
       "    </tr>\n",
       "    <tr>\n",
       "      <th>4</th>\n",
       "      <td>chr1</td>\n",
       "      <td>714052</td>\n",
       "      <td>714069</td>\n",
       "      <td>WILDTYPE_BUT_HAS_SNP__Lincrna.flip.sense__chr1...</td>\n",
       "      <td>0</td>\n",
       "      <td>-</td>\n",
       "      <td>chr1</td>\n",
       "      <td>714052</td>\n",
       "      <td>714069</td>\n",
       "      <td>SP4</td>\n",
       "      <td>7.27273</td>\n",
       "      <td>-</td>\n",
       "      <td>chr1:713985..714054,-</td>\n",
       "      <td>intergenic</td>\n",
       "      <td>0.975524</td>\n",
       "      <td>0.155088</td>\n",
       "      <td>1.227084</td>\n",
       "      <td>0.153124</td>\n",
       "      <td>chr1:713977..714091,-</td>\n",
       "      <td>chr1:713985..714054,-</td>\n",
       "    </tr>\n",
       "  </tbody>\n",
       "</table>\n",
       "</div>"
      ],
      "text/plain": [
       "  motif_chr  motif_start  motif_end  \\\n",
       "0      chr1       713979     713991   \n",
       "1      chr1       713979     713991   \n",
       "2      chr1       714030     714041   \n",
       "3      chr1       714030     714045   \n",
       "4      chr1       714052     714069   \n",
       "\n",
       "                                           unique_id  score strand   chr  \\\n",
       "0  WILDTYPE_BUT_HAS_SNP__Lincrna.flip.sense__chr1...      0      -  chr1   \n",
       "1  WILDTYPE_BUT_HAS_SNP__Lincrna.flip.sense__chr1...      0      -  chr1   \n",
       "2  WILDTYPE_BUT_HAS_SNP__Lincrna.flip.sense__chr1...      0      -  chr1   \n",
       "3  WILDTYPE_BUT_HAS_SNP__Lincrna.flip.sense__chr1...      0      -  chr1   \n",
       "4  WILDTYPE_BUT_HAS_SNP__Lincrna.flip.sense__chr1...      0      -  chr1   \n",
       "\n",
       "    start     end motif  motif_score motif_strand                cage_id  \\\n",
       "0  713979  713991  E2F1     11.96720            -  chr1:713985..714054,-   \n",
       "1  713979  713991  E2F1     11.55740            +  chr1:713985..714054,-   \n",
       "2  714030  714041   SP1     10.48080            -  chr1:713985..714054,-   \n",
       "3  714030  714045   SP2     10.44830            -  chr1:713985..714054,-   \n",
       "4  714052  714069   SP4      7.27273            -  chr1:713985..714054,-   \n",
       "\n",
       "    PromType2  cage_activ   cage_ts  mpra_activ   mpra_ts  \\\n",
       "0  intergenic    0.975524  0.155088    1.227084  0.153124   \n",
       "1  intergenic    0.975524  0.155088    1.227084  0.153124   \n",
       "2  intergenic    0.975524  0.155088    1.227084  0.153124   \n",
       "3  intergenic    0.975524  0.155088    1.227084  0.153124   \n",
       "4  intergenic    0.975524  0.155088    1.227084  0.153124   \n",
       "\n",
       "               oligo_reg                 TSS_id  \n",
       "0  chr1:713977..714091,-  chr1:713985..714054,-  \n",
       "1  chr1:713977..714091,-  chr1:713985..714054,-  \n",
       "2  chr1:713977..714091,-  chr1:713985..714054,-  \n",
       "3  chr1:713977..714091,-  chr1:713985..714054,-  \n",
       "4  chr1:713977..714091,-  chr1:713985..714054,-  "
      ]
     },
     "execution_count": 47,
     "metadata": {},
     "output_type": "execute_result"
    }
   ],
   "source": [
    "pool1_fimo_no_ets_chip.head()"
   ]
  },
  {
   "cell_type": "markdown",
   "metadata": {},
   "source": [
    "## 3. find avg TF/motif specificity per tile"
   ]
  },
  {
   "cell_type": "code",
   "execution_count": 48,
   "metadata": {},
   "outputs": [
    {
     "name": "stdout",
     "output_type": "stream",
     "text": [
      "fimo\n",
      "fimo_chip\n",
      "pool1_fimo\n",
      "pool1_fimo_chip\n",
      "pool1_fimo_no_ets\n",
      "pool1_fimo_no_ets_chip\n"
     ]
    },
    {
     "data": {
      "text/html": [
       "<div>\n",
       "<style>\n",
       "    .dataframe thead tr:only-child th {\n",
       "        text-align: right;\n",
       "    }\n",
       "\n",
       "    .dataframe thead th {\n",
       "        text-align: left;\n",
       "    }\n",
       "\n",
       "    .dataframe tbody tr th {\n",
       "        vertical-align: top;\n",
       "    }\n",
       "</style>\n",
       "<table border=\"1\" class=\"dataframe\">\n",
       "  <thead>\n",
       "    <tr style=\"text-align: right;\">\n",
       "      <th></th>\n",
       "      <th>cage_id</th>\n",
       "      <th>avg_tf_tissue_sp</th>\n",
       "      <th>log_avg_tf_tissue_sp</th>\n",
       "    </tr>\n",
       "  </thead>\n",
       "  <tbody>\n",
       "    <tr>\n",
       "      <th>840</th>\n",
       "      <td>chr22:29261004-29261197</td>\n",
       "      <td>0.497076</td>\n",
       "      <td>0.403514</td>\n",
       "    </tr>\n",
       "    <tr>\n",
       "      <th>757</th>\n",
       "      <td>chr20:25731814..25731865,+</td>\n",
       "      <td>0.487283</td>\n",
       "      <td>0.396951</td>\n",
       "    </tr>\n",
       "    <tr>\n",
       "      <th>736</th>\n",
       "      <td>chr1:93811339..93811410,-</td>\n",
       "      <td>0.451685</td>\n",
       "      <td>0.372725</td>\n",
       "    </tr>\n",
       "    <tr>\n",
       "      <th>152</th>\n",
       "      <td>chr11:65244638-65245303</td>\n",
       "      <td>0.357927</td>\n",
       "      <td>0.305959</td>\n",
       "    </tr>\n",
       "    <tr>\n",
       "      <th>1222</th>\n",
       "      <td>chr5:33049491..33049516,-</td>\n",
       "      <td>0.485069</td>\n",
       "      <td>0.395461</td>\n",
       "    </tr>\n",
       "  </tbody>\n",
       "</table>\n",
       "</div>"
      ],
      "text/plain": [
       "                         cage_id  avg_tf_tissue_sp  log_avg_tf_tissue_sp\n",
       "840      chr22:29261004-29261197          0.497076              0.403514\n",
       "757   chr20:25731814..25731865,+          0.487283              0.396951\n",
       "736    chr1:93811339..93811410,-          0.451685              0.372725\n",
       "152      chr11:65244638-65245303          0.357927              0.305959\n",
       "1222   chr5:33049491..33049516,-          0.485069              0.395461"
      ]
     },
     "execution_count": 48,
     "metadata": {},
     "output_type": "execute_result"
    }
   ],
   "source": [
    "all_spec_dfs = {}\n",
    "for key in all_motif_dfs.keys():\n",
    "    print(key)\n",
    "    df = all_motif_dfs[key]\n",
    "    df[\"motif\"] = df[\"motif\"].str.upper()\n",
    "    df = df.merge(tf_ts, left_on=\"motif\", right_on=\"tf\", how=\"left\")\n",
    "    df_nonan = df[~pd.isnull(df[\"tissue_sp_3\"])]\n",
    "    df_deduped = df_nonan.drop_duplicates(subset=[\"motif\", \"unique_id\"])\n",
    "    avg_sp = df_deduped.groupby([\"cage_id\"])[\"tissue_sp_3\"].agg(\"mean\").reset_index()\n",
    "    avg_sp.columns = [\"cage_id\", \"avg_tf_tissue_sp\"]\n",
    "    avg_sp[\"log_avg_tf_tissue_sp\"] = np.log(avg_sp[\"avg_tf_tissue_sp\"]+1)\n",
    "    all_spec_dfs[key] = avg_sp\n",
    "avg_sp.sample(5)"
   ]
  },
  {
   "cell_type": "markdown",
   "metadata": {},
   "source": [
    "## 4. merge and write coverage files"
   ]
  },
  {
   "cell_type": "code",
   "execution_count": 49,
   "metadata": {},
   "outputs": [
    {
     "name": "stdout",
     "output_type": "stream",
     "text": [
      "fimo\n",
      "fimo_chip\n",
      "fimo_clust\n",
      "pool1_fimo\n",
      "pool1_fimo_chip\n",
      "pool1_fimo_no_ets\n",
      "pool1_fimo_no_ets_chip\n",
      "fimo_mosbat\n"
     ]
    }
   ],
   "source": [
    "file_prefixes = {\"fimo\": \"all_fimo_map\", \"fimo_chip\": \"all_fimo_map.chip_intersected\", \n",
    "                 \"fimo_clust\": \"all_fimo_map.bulyk_clusters\", \n",
    "                 \"pool1_fimo\": \"pool1_fimo_map\", \"pool1_fimo_chip\": \"pool1_fimo_map.chip_intersected\", \n",
    "                 \"pool1_fimo_no_ets\": \"pool1_fimo_map.no_ETS_motifs\", \n",
    "                 \"pool1_fimo_no_ets_chip\": \"pool1_fimo_map.chip_intersected.no_ETS_motifs\",\n",
    "                 \"fimo_mosbat\": \"all_fimo_map.mosbat_clusters\"}\n",
    "\n",
    "for key in all_cov_dfs.keys():\n",
    "    print(key)\n",
    "    name = file_prefixes[key]\n",
    "    cov_df = all_cov_dfs[key]\n",
    "    if key in all_spec_dfs.keys():\n",
    "        spec_df = all_spec_dfs[key]\n",
    "        merge_df = cov_df.merge(spec_df, on=\"cage_id\", how=\"left\")\n",
    "        merge_df = merge_df[[\"unique_id\", \"cage_id\", \"n_motifs\", \"n_bp_cov\", \"max_cov\", \"avg_tf_tissue_sp\", \n",
    "                             \"log_n_motifs\", \"log_bp_cov\", \"log_max_cov\", \"log_avg_tf_tissue_sp\"]].drop_duplicates()\n",
    "    else:\n",
    "        merge_df = cov_df[[\"unique_id\", \"cage_id\", \"n_motifs\", \"n_bp_cov\", \"max_cov\", \n",
    "                                 \"log_n_motifs\", \"log_bp_cov\", \"log_max_cov\"]].drop_duplicates()\n",
    "    \n",
    "    merge_df.to_csv(\"../../data/04__coverage/%s.all_cov.new.txt\" % name, sep=\"\\t\", index=False)\n",
    "    \n",
    "    if \"pool1\" in name:\n",
    "        merge_df = merge_df.merge(cage_v_mpra[[\"unique_id\", \"mpra_activ\", \"mpra_ts\"]], on=\"unique_id\")\n",
    "    all_cov_dfs[key] = merge_df"
   ]
  },
  {
   "cell_type": "markdown",
   "metadata": {},
   "source": [
    "## 5. plot correlations w/ MPRA data"
   ]
  },
  {
   "cell_type": "markdown",
   "metadata": {},
   "source": [
    "## tissue specificity"
   ]
  },
  {
   "cell_type": "markdown",
   "metadata": {},
   "source": [
    "#### fimo only"
   ]
  },
  {
   "cell_type": "code",
   "execution_count": 50,
   "metadata": {},
   "outputs": [
    {
     "data": {
      "text/html": [
       "<div>\n",
       "<style>\n",
       "    .dataframe thead tr:only-child th {\n",
       "        text-align: right;\n",
       "    }\n",
       "\n",
       "    .dataframe thead th {\n",
       "        text-align: left;\n",
       "    }\n",
       "\n",
       "    .dataframe tbody tr th {\n",
       "        vertical-align: top;\n",
       "    }\n",
       "</style>\n",
       "<table border=\"1\" class=\"dataframe\">\n",
       "  <thead>\n",
       "    <tr style=\"text-align: right;\">\n",
       "      <th></th>\n",
       "      <th>unique_id</th>\n",
       "      <th>cage_id</th>\n",
       "      <th>n_motifs</th>\n",
       "      <th>n_bp_cov</th>\n",
       "      <th>max_cov</th>\n",
       "      <th>avg_tf_tissue_sp</th>\n",
       "      <th>log_n_motifs</th>\n",
       "      <th>log_bp_cov</th>\n",
       "      <th>log_max_cov</th>\n",
       "      <th>log_avg_tf_tissue_sp</th>\n",
       "      <th>mpra_activ</th>\n",
       "      <th>mpra_ts</th>\n",
       "    </tr>\n",
       "  </thead>\n",
       "  <tbody>\n",
       "    <tr>\n",
       "      <th>0</th>\n",
       "      <td>WILDTYPE__mrna.noflip.NA__chr10:102046079..102...</td>\n",
       "      <td>chr10:102046098..102046122,-</td>\n",
       "      <td>13</td>\n",
       "      <td>39</td>\n",
       "      <td>11</td>\n",
       "      <td>0.417349</td>\n",
       "      <td>2.639057</td>\n",
       "      <td>3.688879</td>\n",
       "      <td>2.484907</td>\n",
       "      <td>0.348788</td>\n",
       "      <td>0.755234</td>\n",
       "      <td>0.339882</td>\n",
       "    </tr>\n",
       "    <tr>\n",
       "      <th>1</th>\n",
       "      <td>WILDTYPE_BUT_HAS_SNP__Lincrna.noflip.NA__chr10...</td>\n",
       "      <td>chr10:102133377..102133394,+</td>\n",
       "      <td>18</td>\n",
       "      <td>61</td>\n",
       "      <td>5</td>\n",
       "      <td>0.444224</td>\n",
       "      <td>2.944439</td>\n",
       "      <td>4.127134</td>\n",
       "      <td>1.791759</td>\n",
       "      <td>0.367572</td>\n",
       "      <td>-1.257574</td>\n",
       "      <td>0.401928</td>\n",
       "    </tr>\n",
       "    <tr>\n",
       "      <th>2</th>\n",
       "      <td>WILDTYPE_BUT_HAS_SNP__mrna.flip.sense__chr10:1...</td>\n",
       "      <td>chr10:1034365..1034411,+</td>\n",
       "      <td>31</td>\n",
       "      <td>77</td>\n",
       "      <td>11</td>\n",
       "      <td>0.391036</td>\n",
       "      <td>3.465736</td>\n",
       "      <td>4.356709</td>\n",
       "      <td>2.484907</td>\n",
       "      <td>0.330049</td>\n",
       "      <td>0.480824</td>\n",
       "      <td>0.144071</td>\n",
       "    </tr>\n",
       "    <tr>\n",
       "      <th>3</th>\n",
       "      <td>WILDTYPE_BUT_HAS_SNP__mrna.noflip.NA__chr10:10...</td>\n",
       "      <td>chr10:104597163..104597180,-</td>\n",
       "      <td>10</td>\n",
       "      <td>78</td>\n",
       "      <td>3</td>\n",
       "      <td>0.452162</td>\n",
       "      <td>2.397895</td>\n",
       "      <td>4.369448</td>\n",
       "      <td>1.386294</td>\n",
       "      <td>0.373054</td>\n",
       "      <td>-1.168195</td>\n",
       "      <td>0.270406</td>\n",
       "    </tr>\n",
       "    <tr>\n",
       "      <th>4</th>\n",
       "      <td>WILDTYPE__Lincrna.noflip.NA__chr10:106113294.....</td>\n",
       "      <td>chr10:106113320..106113338,-</td>\n",
       "      <td>25</td>\n",
       "      <td>65</td>\n",
       "      <td>13</td>\n",
       "      <td>0.408014</td>\n",
       "      <td>3.258097</td>\n",
       "      <td>4.189655</td>\n",
       "      <td>2.639057</td>\n",
       "      <td>0.342180</td>\n",
       "      <td>0.412117</td>\n",
       "      <td>0.107425</td>\n",
       "    </tr>\n",
       "  </tbody>\n",
       "</table>\n",
       "</div>"
      ],
      "text/plain": [
       "                                           unique_id  \\\n",
       "0  WILDTYPE__mrna.noflip.NA__chr10:102046079..102...   \n",
       "1  WILDTYPE_BUT_HAS_SNP__Lincrna.noflip.NA__chr10...   \n",
       "2  WILDTYPE_BUT_HAS_SNP__mrna.flip.sense__chr10:1...   \n",
       "3  WILDTYPE_BUT_HAS_SNP__mrna.noflip.NA__chr10:10...   \n",
       "4  WILDTYPE__Lincrna.noflip.NA__chr10:106113294.....   \n",
       "\n",
       "                        cage_id  n_motifs  n_bp_cov  max_cov  \\\n",
       "0  chr10:102046098..102046122,-        13        39       11   \n",
       "1  chr10:102133377..102133394,+        18        61        5   \n",
       "2      chr10:1034365..1034411,+        31        77       11   \n",
       "3  chr10:104597163..104597180,-        10        78        3   \n",
       "4  chr10:106113320..106113338,-        25        65       13   \n",
       "\n",
       "   avg_tf_tissue_sp  log_n_motifs  log_bp_cov  log_max_cov  \\\n",
       "0          0.417349      2.639057    3.688879     2.484907   \n",
       "1          0.444224      2.944439    4.127134     1.791759   \n",
       "2          0.391036      3.465736    4.356709     2.484907   \n",
       "3          0.452162      2.397895    4.369448     1.386294   \n",
       "4          0.408014      3.258097    4.189655     2.639057   \n",
       "\n",
       "   log_avg_tf_tissue_sp  mpra_activ   mpra_ts  \n",
       "0              0.348788    0.755234  0.339882  \n",
       "1              0.367572   -1.257574  0.401928  \n",
       "2              0.330049    0.480824  0.144071  \n",
       "3              0.373054   -1.168195  0.270406  \n",
       "4              0.342180    0.412117  0.107425  "
      ]
     },
     "execution_count": 50,
     "metadata": {},
     "output_type": "execute_result"
    }
   ],
   "source": [
    "df = all_cov_dfs[\"pool1_fimo\"]\n",
    "df.head()"
   ]
  },
  {
   "cell_type": "code",
   "execution_count": 51,
   "metadata": {
    "collapsed": true
   },
   "outputs": [],
   "source": [
    "#cmap = sns.light_palette(\"#8da0cb\", as_cmap=True)\n",
    "cmap = sns.light_palette(\"darkslategray\", as_cmap=True)"
   ]
  },
  {
   "cell_type": "code",
   "execution_count": 52,
   "metadata": {},
   "outputs": [
    {
     "data": {
      "text/plain": [
       "2047"
      ]
     },
     "execution_count": 52,
     "metadata": {},
     "output_type": "execute_result"
    }
   ],
   "source": [
    "no_nan = df[~pd.isnull(df[\"log_avg_tf_tissue_sp\"]) &\n",
    "            ~pd.isnull(df[\"mpra_activ\"])]\n",
    "len(no_nan)"
   ]
  },
  {
   "cell_type": "code",
   "execution_count": 53,
   "metadata": {},
   "outputs": [
    {
     "name": "stdout",
     "output_type": "stream",
     "text": [
      "r: -0.194622411683, spearman p: 6.38254121464e-19\n"
     ]
    },
    {
     "data": {
      "text/plain": [
       "<matplotlib.text.Annotation at 0x2b2995916780>"
      ]
     },
     "execution_count": 53,
     "metadata": {},
     "output_type": "execute_result"
    },
    {
     "data": {
      "image/png": "[encoded data removed]",
      "text/plain": [
       "<matplotlib.figure.Figure at 0x2b29956440f0>"
      ]
     },
     "metadata": {},
     "output_type": "display_data"
    }
   ],
   "source": [
    "fig = plt.figure(figsize=(1.2, 1.2))\n",
    "ax = sns.kdeplot(no_nan[\"log_avg_tf_tissue_sp\"], no_nan[\"mpra_activ\"], cmap=cmap, \n",
    "                 shade=True, shade_lowest=False)\n",
    "ax.set_ylabel(\"mean MPRA activity\")\n",
    "ax.set_xlabel(\"log(mean TF tissue specificity)\")\n",
    "\n",
    "r, p = stats.spearmanr(no_nan[\"log_avg_tf_tissue_sp\"], no_nan[\"mpra_activ\"])\n",
    "print(\"r: %s, spearman p: %s\" % (r, p))\n",
    "ax.annotate(\"r = {:.2f}\".format(r), xy=(.05, .9), xycoords=ax.transAxes, fontsize=fontsize)\n",
    "\n",
    "# add n-value\n",
    "ax.annotate(\"n = %s\" % len(no_nan), ha=\"right\", xy=(.96, .9), xycoords=ax.transAxes, \n",
    "            fontsize=fontsize)"
   ]
  },
  {
   "cell_type": "code",
   "execution_count": 54,
   "metadata": {},
   "outputs": [
    {
     "data": {
      "text/plain": [
       "1956"
      ]
     },
     "execution_count": 54,
     "metadata": {},
     "output_type": "execute_result"
    }
   ],
   "source": [
    "no_nan = df[~pd.isnull(df[\"log_avg_tf_tissue_sp\"]) &\n",
    "            ~pd.isnull(df[\"mpra_ts\"])]\n",
    "len(no_nan)"
   ]
  },
  {
   "cell_type": "code",
   "execution_count": 55,
   "metadata": {},
   "outputs": [
    {
     "name": "stdout",
     "output_type": "stream",
     "text": [
      "r: 0.174477337355, spearman p: 7.76830099959e-15\n"
     ]
    },
    {
     "data": {
      "text/plain": [
       "<matplotlib.text.Annotation at 0x2b2995950208>"
      ]
     },
     "execution_count": 55,
     "metadata": {},
     "output_type": "execute_result"
    },
    {
     "data": {
      "image/png": "[encoded data removed]",
      "text/plain": [
       "<matplotlib.figure.Figure at 0x2b29958ef908>"
      ]
     },
     "metadata": {},
     "output_type": "display_data"
    }
   ],
   "source": [
    "fig = plt.figure(figsize=(1.2, 1.2))\n",
    "ax = sns.kdeplot(no_nan[\"log_avg_tf_tissue_sp\"], no_nan[\"mpra_ts\"], cmap=cmap, \n",
    "                 shade=True, shade_lowest=False)\n",
    "ax.set_ylabel(\"tissue specificity in MPRA\")\n",
    "ax.set_xlabel(\"log(mean TF tissue specificity)\")\n",
    "\n",
    "r, p = stats.spearmanr(no_nan[\"log_avg_tf_tissue_sp\"], no_nan[\"mpra_ts\"])\n",
    "print(\"r: %s, spearman p: %s\" % (r, p))\n",
    "ax.annotate(\"r = {:.2f}\".format(r), xy=(.05, .9), xycoords=ax.transAxes, fontsize=fontsize)\n",
    "\n",
    "# add n-value\n",
    "ax.annotate(\"n = %s\" % len(no_nan), ha=\"right\", xy=(.96, .9), xycoords=ax.transAxes, \n",
    "            fontsize=fontsize)"
   ]
  },
  {
   "cell_type": "markdown",
   "metadata": {},
   "source": [
    "#### fimo intersected w/ chip"
   ]
  },
  {
   "cell_type": "code",
   "execution_count": 56,
   "metadata": {
    "collapsed": true
   },
   "outputs": [],
   "source": [
    "df = all_cov_dfs[\"pool1_fimo_chip\"]"
   ]
  },
  {
   "cell_type": "code",
   "execution_count": 57,
   "metadata": {},
   "outputs": [
    {
     "data": {
      "text/plain": [
       "1887"
      ]
     },
     "execution_count": 57,
     "metadata": {},
     "output_type": "execute_result"
    }
   ],
   "source": [
    "no_nan = df[~pd.isnull(df[\"log_avg_tf_tissue_sp\"]) &\n",
    "            ~pd.isnull(df[\"mpra_activ\"])]\n",
    "len(no_nan)"
   ]
  },
  {
   "cell_type": "code",
   "execution_count": 58,
   "metadata": {},
   "outputs": [
    {
     "name": "stdout",
     "output_type": "stream",
     "text": [
      "r: -0.0926340154874, spearman p: 5.57799593204e-05\n"
     ]
    },
    {
     "data": {
      "image/png": "[encoded data removed]",
      "text/plain": [
       "<matplotlib.figure.Figure at 0x2b29959c8fd0>"
      ]
     },
     "metadata": {},
     "output_type": "display_data"
    }
   ],
   "source": [
    "fig = plt.figure(figsize=(1.2, 1.2))\n",
    "ax = sns.kdeplot(no_nan[\"log_avg_tf_tissue_sp\"], no_nan[\"mpra_activ\"], cmap=cmap, \n",
    "                 shade=True, shade_lowest=False)\n",
    "ax.set_ylabel(\"mean MPRA activity\")\n",
    "ax.set_xlabel(\"log(mean TF tissue specificity)\")\n",
    "\n",
    "r, p = stats.spearmanr(no_nan[\"log_avg_tf_tissue_sp\"], no_nan[\"mpra_activ\"])\n",
    "print(\"r: %s, spearman p: %s\" % (r, p))\n",
    "ax.annotate(\"r = {:.2f}\".format(r), xy=(.05, .9), xycoords=ax.transAxes, fontsize=fontsize)\n",
    "\n",
    "# add n-value\n",
    "ax.annotate(\"n = %s\" % len(no_nan), ha=\"right\", xy=(.96, .9), xycoords=ax.transAxes, \n",
    "            fontsize=fontsize)\n",
    "fig.savefig(\"Fig_2C_3.pdf\", bbox_inches=\"tight\", dpi=\"figure\")"
   ]
  },
  {
   "cell_type": "code",
   "execution_count": 59,
   "metadata": {},
   "outputs": [
    {
     "data": {
      "text/plain": [
       "1798"
      ]
     },
     "execution_count": 59,
     "metadata": {},
     "output_type": "execute_result"
    }
   ],
   "source": [
    "no_nan = df[~pd.isnull(df[\"log_avg_tf_tissue_sp\"]) &\n",
    "            ~pd.isnull(df[\"mpra_ts\"])]\n",
    "len(no_nan)"
   ]
  },
  {
   "cell_type": "code",
   "execution_count": 60,
   "metadata": {},
   "outputs": [
    {
     "name": "stdout",
     "output_type": "stream",
     "text": [
      "r: 0.119866943369, spearman p: 3.44074606519e-07\n"
     ]
    },
    {
     "data": {
      "image/png": "[encoded data removed]",
      "text/plain": [
       "<matplotlib.figure.Figure at 0x2b2995ae42b0>"
      ]
     },
     "metadata": {},
     "output_type": "display_data"
    }
   ],
   "source": [
    "fig = plt.figure(figsize=(1.2, 1.2))\n",
    "ax = sns.kdeplot(no_nan[\"log_avg_tf_tissue_sp\"], no_nan[\"mpra_ts\"], cmap=cmap, \n",
    "                 shade=True, shade_lowest=False)\n",
    "ax.set_ylabel(\"tissue specificity in MPRA\")\n",
    "ax.set_xlabel(\"log(mean TF tissue specificity)\")\n",
    "\n",
    "r, p = stats.spearmanr(no_nan[\"log_avg_tf_tissue_sp\"], no_nan[\"mpra_ts\"])\n",
    "print(\"r: %s, spearman p: %s\" % (r, p))\n",
    "ax.annotate(\"r = {:.2f}\".format(r), xy=(.05, .9), xycoords=ax.transAxes, fontsize=fontsize)\n",
    "\n",
    "# add n-value\n",
    "ax.annotate(\"n = %s\" % len(no_nan), ha=\"right\", xy=(.96, .9), xycoords=ax.transAxes, \n",
    "            fontsize=fontsize)\n",
    "fig.savefig(\"Fig_2C_6.pdf\", bbox_inches=\"tight\", dpi=\"figure\")"
   ]
  },
  {
   "cell_type": "markdown",
   "metadata": {},
   "source": [
    "## number of bp covered"
   ]
  },
  {
   "cell_type": "markdown",
   "metadata": {},
   "source": [
    "#### fimo only"
   ]
  },
  {
   "cell_type": "code",
   "execution_count": 61,
   "metadata": {
    "collapsed": true
   },
   "outputs": [],
   "source": [
    "df = all_cov_dfs[\"pool1_fimo\"]"
   ]
  },
  {
   "cell_type": "code",
   "execution_count": 62,
   "metadata": {},
   "outputs": [
    {
     "data": {
      "text/plain": [
       "2050"
      ]
     },
     "execution_count": 62,
     "metadata": {},
     "output_type": "execute_result"
    }
   ],
   "source": [
    "no_nan = df[~pd.isnull(df[\"log_bp_cov\"]) &\n",
    "            ~pd.isnull(df[\"mpra_activ\"])]\n",
    "\n",
    "# for these, only look at those with >1 motif\n",
    "no_nan = no_nan[no_nan[\"n_motifs\"] > 0]\n",
    "len(no_nan)"
   ]
  },
  {
   "cell_type": "code",
   "execution_count": 63,
   "metadata": {},
   "outputs": [
    {
     "name": "stdout",
     "output_type": "stream",
     "text": [
      "r: 0.285490951836, spearman p: 9.52518428583e-40\n"
     ]
    },
    {
     "data": {
      "text/plain": [
       "<matplotlib.text.Annotation at 0x2b2995de8400>"
      ]
     },
     "execution_count": 63,
     "metadata": {},
     "output_type": "execute_result"
    },
    {
     "data": {
      "image/png": "[encoded data removed]",
      "text/plain": [
       "<matplotlib.figure.Figure at 0x2b299599b0f0>"
      ]
     },
     "metadata": {},
     "output_type": "display_data"
    }
   ],
   "source": [
    "fig = plt.figure(figsize=(1.2, 1.2))\n",
    "ax = sns.kdeplot(no_nan[\"log_bp_cov\"], no_nan[\"mpra_activ\"], cmap=\"Blues\", \n",
    "                 shade=True, shade_lowest=False)\n",
    "ax.set_ylabel(\"mean MPRA activity\")\n",
    "ax.set_xlabel(\"log(number of bp covered by motif)\")\n",
    "ax.set_xlim((3,5))\n",
    "\n",
    "r, p = stats.spearmanr(no_nan[\"log_bp_cov\"], no_nan[\"mpra_activ\"])\n",
    "print(\"r: %s, spearman p: %s\" % (r, p))\n",
    "ax.annotate(\"r = {:.2f}\".format(r), xy=(.05, .9), xycoords=ax.transAxes, fontsize=fontsize)\n",
    "\n",
    "# add n-value\n",
    "ax.annotate(\"n = %s\" % len(no_nan), ha=\"right\", xy=(.96, .9), xycoords=ax.transAxes, \n",
    "            fontsize=fontsize)"
   ]
  },
  {
   "cell_type": "code",
   "execution_count": 64,
   "metadata": {},
   "outputs": [
    {
     "data": {
      "text/plain": [
       "1959"
      ]
     },
     "execution_count": 64,
     "metadata": {},
     "output_type": "execute_result"
    }
   ],
   "source": [
    "no_nan = df[~pd.isnull(df[\"log_bp_cov\"]) &\n",
    "            ~pd.isnull(df[\"mpra_ts\"])]\n",
    "\n",
    "# for these, only look at those with >1 motif\n",
    "no_nan = no_nan[no_nan[\"n_motifs\"] > 0]\n",
    "len(no_nan)"
   ]
  },
  {
   "cell_type": "code",
   "execution_count": 65,
   "metadata": {},
   "outputs": [
    {
     "name": "stdout",
     "output_type": "stream",
     "text": [
      "r: -0.165931840763, spearman p: 1.45899177146e-13\n"
     ]
    },
    {
     "data": {
      "text/plain": [
       "<matplotlib.text.Annotation at 0x2b2995dec438>"
      ]
     },
     "execution_count": 65,
     "metadata": {},
     "output_type": "execute_result"
    },
    {
     "data": {
      "image/png": "[encoded data removed]",
      "text/plain": [
       "<matplotlib.figure.Figure at 0x2b2995e00ba8>"
      ]
     },
     "metadata": {},
     "output_type": "display_data"
    }
   ],
   "source": [
    "fig = plt.figure(figsize=(1.2, 1.2))\n",
    "ax = sns.kdeplot(no_nan[\"log_bp_cov\"], no_nan[\"mpra_ts\"], cmap=\"Blues\", \n",
    "                 shade=True, shade_lowest=False)\n",
    "ax.set_ylabel(\"tissue specificity in MPRA\")\n",
    "ax.set_xlabel(\"log(number of bp covered by motif)\")\n",
    "ax.set_xlim((3, 5))\n",
    "\n",
    "r, p = stats.spearmanr(no_nan[\"log_bp_cov\"], no_nan[\"mpra_ts\"])\n",
    "print(\"r: %s, spearman p: %s\" % (r, p))\n",
    "ax.annotate(\"r = {:.2f}\".format(r), xy=(.05, .9), xycoords=ax.transAxes, fontsize=fontsize)\n",
    "\n",
    "# add n-value\n",
    "ax.annotate(\"n = %s\" % len(no_nan), ha=\"right\", xy=(.96, .9), xycoords=ax.transAxes, \n",
    "            fontsize=fontsize)"
   ]
  },
  {
   "cell_type": "markdown",
   "metadata": {},
   "source": [
    "#### fimo intersected w/ chip"
   ]
  },
  {
   "cell_type": "code",
   "execution_count": 66,
   "metadata": {
    "collapsed": true
   },
   "outputs": [],
   "source": [
    "df = all_cov_dfs[\"pool1_fimo_chip\"]"
   ]
  },
  {
   "cell_type": "code",
   "execution_count": 67,
   "metadata": {},
   "outputs": [
    {
     "data": {
      "text/plain": [
       "1899"
      ]
     },
     "execution_count": 67,
     "metadata": {},
     "output_type": "execute_result"
    }
   ],
   "source": [
    "no_nan = df[~pd.isnull(df[\"log_bp_cov\"]) &\n",
    "            ~pd.isnull(df[\"mpra_activ\"])]\n",
    "\n",
    "# for these, only look at those with >1 motif\n",
    "no_nan = no_nan[no_nan[\"n_motifs\"] > 0]\n",
    "len(no_nan)"
   ]
  },
  {
   "cell_type": "code",
   "execution_count": 68,
   "metadata": {},
   "outputs": [
    {
     "name": "stdout",
     "output_type": "stream",
     "text": [
      "r: 0.466227983786, spearman p: 4.29077318116e-103\n"
     ]
    },
    {
     "data": {
      "image/png": "[encoded data removed]",
      "text/plain": [
       "<matplotlib.figure.Figure at 0x2b2995e95e48>"
      ]
     },
     "metadata": {},
     "output_type": "display_data"
    }
   ],
   "source": [
    "fig = plt.figure(figsize=(1.2, 1.2))\n",
    "no_0 = no_nan[no_nan[\"n_bp_cov\"] > 0]\n",
    "all_0 = no_nan[no_nan[\"n_bp_cov\"] == 0]\n",
    "ax = sns.kdeplot(no_0[\"log_bp_cov\"], no_0[\"mpra_activ\"], cmap=\"Blues\", \n",
    "                 shade=True, shade_lowest=False)\n",
    "ax.set_ylabel(\"mean MPRA activity\")\n",
    "ax.set_xlabel(\"log(number of bp covered by motif)\")\n",
    "\n",
    "r, p = stats.spearmanr(no_nan[\"log_bp_cov\"], no_nan[\"mpra_activ\"])\n",
    "print(\"r: %s, spearman p: %s\" % (r, p))\n",
    "ax.annotate(\"r = {:.2f}\".format(r), xy=(.05, .9), xycoords=ax.transAxes, fontsize=fontsize)\n",
    "\n",
    "# add n-value\n",
    "ax.annotate(\"n = %s\" % len(no_nan), ha=\"right\", xy=(.96, .9), xycoords=ax.transAxes, \n",
    "            fontsize=fontsize)\n",
    "\n",
    "fig.savefig(\"Fig_2C_1.pdf\", bbox_inches=\"tight\", dpi=\"figure\")"
   ]
  },
  {
   "cell_type": "code",
   "execution_count": 69,
   "metadata": {},
   "outputs": [
    {
     "data": {
      "text/plain": [
       "1810"
      ]
     },
     "execution_count": 69,
     "metadata": {},
     "output_type": "execute_result"
    }
   ],
   "source": [
    "no_nan = df[~pd.isnull(df[\"log_bp_cov\"]) &\n",
    "            ~pd.isnull(df[\"mpra_ts\"])]\n",
    "\n",
    "# for these, only look at those with >1 motif\n",
    "no_nan = no_nan[no_nan[\"n_motifs\"] > 0]\n",
    "len(no_nan)"
   ]
  },
  {
   "cell_type": "code",
   "execution_count": 70,
   "metadata": {},
   "outputs": [
    {
     "name": "stdout",
     "output_type": "stream",
     "text": [
      "r: -0.310352568139, spearman p: 1.03997426937e-41\n"
     ]
    },
    {
     "data": {
      "image/png": "[encoded data removed]",
      "text/plain": [
       "<matplotlib.figure.Figure at 0x2b2995d7a6d8>"
      ]
     },
     "metadata": {},
     "output_type": "display_data"
    }
   ],
   "source": [
    "fig = plt.figure(figsize=(1.2, 1.2))\n",
    "ax = sns.kdeplot(no_nan[\"log_bp_cov\"], no_nan[\"mpra_ts\"], cmap=\"Blues\", \n",
    "                 shade=True, shade_lowest=False)\n",
    "ax.set_ylabel(\"tissue specificity in MPRA\")\n",
    "ax.set_xlabel(\"log(number of bp covered by motif)\")\n",
    "\n",
    "r, p = stats.spearmanr(no_nan[\"log_bp_cov\"], no_nan[\"mpra_ts\"])\n",
    "print(\"r: %s, spearman p: %s\" % (r, p))\n",
    "ax.annotate(\"r = {:.2f}\".format(r), xy=(.05, .9), xycoords=ax.transAxes, fontsize=fontsize)\n",
    "\n",
    "# add n-value\n",
    "ax.annotate(\"n = %s\" % len(no_nan), ha=\"right\", xy=(.96, .9), xycoords=ax.transAxes, \n",
    "            fontsize=fontsize)\n",
    "\n",
    "fig.savefig(\"Fig_2C_4.pdf\", bbox_inches=\"tight\", dpi=\"figure\")"
   ]
  },
  {
   "cell_type": "markdown",
   "metadata": {},
   "source": [
    "## max overlapping coverage"
   ]
  },
  {
   "cell_type": "markdown",
   "metadata": {},
   "source": [
    "#### fimo only"
   ]
  },
  {
   "cell_type": "code",
   "execution_count": 71,
   "metadata": {
    "collapsed": true
   },
   "outputs": [],
   "source": [
    "df = all_cov_dfs[\"pool1_fimo\"]"
   ]
  },
  {
   "cell_type": "code",
   "execution_count": 72,
   "metadata": {
    "collapsed": true
   },
   "outputs": [],
   "source": [
    "cmap = sns.light_palette(\"firebrick\", as_cmap=True)"
   ]
  },
  {
   "cell_type": "code",
   "execution_count": 73,
   "metadata": {},
   "outputs": [
    {
     "data": {
      "text/plain": [
       "2050"
      ]
     },
     "execution_count": 73,
     "metadata": {},
     "output_type": "execute_result"
    }
   ],
   "source": [
    "no_nan = df[~pd.isnull(df[\"log_max_cov\"]) &\n",
    "            ~pd.isnull(df[\"mpra_activ\"])]\n",
    "\n",
    "# for these, only look at those with >1 motif\n",
    "no_nan = no_nan[no_nan[\"n_motifs\"] > 0]\n",
    "len(no_nan)"
   ]
  },
  {
   "cell_type": "code",
   "execution_count": 74,
   "metadata": {},
   "outputs": [
    {
     "name": "stdout",
     "output_type": "stream",
     "text": [
      "r: 0.363203310073, spearman p: 5.91007117938e-65\n"
     ]
    },
    {
     "data": {
      "text/plain": [
       "<matplotlib.text.Annotation at 0x2b2995d3e828>"
      ]
     },
     "execution_count": 74,
     "metadata": {},
     "output_type": "execute_result"
    },
    {
     "data": {
      "image/png": "[encoded data removed]",
      "text/plain": [
       "<matplotlib.figure.Figure at 0x2b299599b160>"
      ]
     },
     "metadata": {},
     "output_type": "display_data"
    }
   ],
   "source": [
    "fig = plt.figure(figsize=(1.2, 1.2))\n",
    "ax = sns.kdeplot(no_nan[\"log_max_cov\"], no_nan[\"mpra_activ\"], cmap=cmap, \n",
    "                 shade=True, shade_lowest=False)\n",
    "ax.set_ylabel(\"mean MPRA activity\")\n",
    "ax.set_xlabel(\"log(max overlapping motifs)\")\n",
    "\n",
    "r, p = stats.spearmanr(no_nan[\"log_max_cov\"], no_nan[\"mpra_activ\"])\n",
    "print(\"r: %s, spearman p: %s\" % (r, p))\n",
    "ax.annotate(\"r = {:.2f}\".format(r), xy=(.05, .9), xycoords=ax.transAxes, fontsize=fontsize)\n",
    "\n",
    "# add n-value\n",
    "ax.annotate(\"n = %s\" % len(no_nan), ha=\"right\", xy=(.96, .9), xycoords=ax.transAxes, \n",
    "            fontsize=fontsize)"
   ]
  },
  {
   "cell_type": "code",
   "execution_count": 75,
   "metadata": {},
   "outputs": [
    {
     "data": {
      "text/plain": [
       "1959"
      ]
     },
     "execution_count": 75,
     "metadata": {},
     "output_type": "execute_result"
    }
   ],
   "source": [
    "no_nan = df[~pd.isnull(df[\"log_max_cov\"]) &\n",
    "            ~pd.isnull(df[\"mpra_ts\"])]\n",
    "\n",
    "# for these, only look at those with >1 motif\n",
    "no_nan = no_nan[no_nan[\"n_motifs\"] > 0]\n",
    "len(no_nan)"
   ]
  },
  {
   "cell_type": "code",
   "execution_count": 76,
   "metadata": {},
   "outputs": [
    {
     "name": "stdout",
     "output_type": "stream",
     "text": [
      "r: -0.280937064449, spearman p: 7.36699080159e-37\n"
     ]
    },
    {
     "data": {
      "text/plain": [
       "<matplotlib.text.Annotation at 0x2b2995f90b00>"
      ]
     },
     "execution_count": 76,
     "metadata": {},
     "output_type": "execute_result"
    },
    {
     "data": {
      "image/png": "[encoded data removed]",
      "text/plain": [
       "<matplotlib.figure.Figure at 0x2b2995d46a20>"
      ]
     },
     "metadata": {},
     "output_type": "display_data"
    }
   ],
   "source": [
    "fig = plt.figure(figsize=(1.2, 1.2))\n",
    "ax = sns.kdeplot(no_nan[\"log_max_cov\"], no_nan[\"mpra_ts\"], cmap=cmap, \n",
    "                 shade=True, shade_lowest=False)\n",
    "ax.set_ylabel(\"tissue specificity in MPRA\")\n",
    "ax.set_xlabel(\"log(max overlapping motifs)\")\n",
    "\n",
    "r, p = stats.spearmanr(no_nan[\"log_max_cov\"], no_nan[\"mpra_ts\"])\n",
    "print(\"r: %s, spearman p: %s\" % (r, p))\n",
    "ax.annotate(\"r = {:.2f}\".format(r), xy=(.05, .9), xycoords=ax.transAxes, fontsize=fontsize)\n",
    "\n",
    "# add n-value\n",
    "ax.annotate(\"n = %s\" % len(no_nan), ha=\"right\", xy=(.96, .9), xycoords=ax.transAxes, \n",
    "            fontsize=fontsize)"
   ]
  },
  {
   "cell_type": "markdown",
   "metadata": {},
   "source": [
    "#### fimo intersected w/ chip"
   ]
  },
  {
   "cell_type": "code",
   "execution_count": 77,
   "metadata": {
    "collapsed": true
   },
   "outputs": [],
   "source": [
    "df = all_cov_dfs[\"pool1_fimo_chip\"]"
   ]
  },
  {
   "cell_type": "code",
   "execution_count": 78,
   "metadata": {},
   "outputs": [
    {
     "data": {
      "text/plain": [
       "1899"
      ]
     },
     "execution_count": 78,
     "metadata": {},
     "output_type": "execute_result"
    }
   ],
   "source": [
    "no_nan = df[~pd.isnull(df[\"log_max_cov\"]) &\n",
    "            ~pd.isnull(df[\"mpra_activ\"])]\n",
    "\n",
    "# for these, only look at those with >1 motif\n",
    "no_nan = no_nan[no_nan[\"n_motifs\"] > 0]\n",
    "len(no_nan)"
   ]
  },
  {
   "cell_type": "code",
   "execution_count": 79,
   "metadata": {},
   "outputs": [
    {
     "name": "stdout",
     "output_type": "stream",
     "text": [
      "r: 0.444130555558, spearman p: 1.2818580762e-92\n"
     ]
    },
    {
     "data": {
      "image/png": "[encoded data removed]",
      "text/plain": [
       "<matplotlib.figure.Figure at 0x2b2995fd8278>"
      ]
     },
     "metadata": {},
     "output_type": "display_data"
    }
   ],
   "source": [
    "fig = plt.figure(figsize=(1.2, 1.2))\n",
    "ax = sns.kdeplot(no_nan[\"log_max_cov\"], no_nan[\"mpra_activ\"], cmap=cmap, \n",
    "                 shade=True, shade_lowest=False)\n",
    "ax.set_ylabel(\"mean MPRA activity\")\n",
    "ax.set_xlabel(\"log(max overlapping motifs)\")\n",
    "\n",
    "r, p = stats.spearmanr(no_nan[\"log_max_cov\"], no_nan[\"mpra_activ\"])\n",
    "print(\"r: %s, spearman p: %s\" % (r, p))\n",
    "ax.annotate(\"r = {:.2f}\".format(r), xy=(.05, .9), xycoords=ax.transAxes, fontsize=fontsize)\n",
    "\n",
    "# add n-value\n",
    "ax.annotate(\"n = %s\" % len(no_nan), ha=\"right\", xy=(.96, .9), xycoords=ax.transAxes, \n",
    "            fontsize=fontsize)\n",
    "\n",
    "fig.savefig(\"Fig_2C_2.pdf\", bbox_inches=\"tight\", dpi=\"figure\")"
   ]
  },
  {
   "cell_type": "code",
   "execution_count": 80,
   "metadata": {},
   "outputs": [
    {
     "data": {
      "text/plain": [
       "1810"
      ]
     },
     "execution_count": 80,
     "metadata": {},
     "output_type": "execute_result"
    }
   ],
   "source": [
    "no_nan = df[~pd.isnull(df[\"log_max_cov\"]) &\n",
    "            ~pd.isnull(df[\"mpra_ts\"])]\n",
    "\n",
    "# for these, only look at those with >1 motif\n",
    "no_nan = no_nan[no_nan[\"n_motifs\"] > 0]\n",
    "len(no_nan)"
   ]
  },
  {
   "cell_type": "code",
   "execution_count": 81,
   "metadata": {},
   "outputs": [
    {
     "name": "stdout",
     "output_type": "stream",
     "text": [
      "r: -0.340141195812, spearman p: 2.93513951774e-50\n"
     ]
    },
    {
     "data": {
      "image/png": "[encoded data removed]",
      "text/plain": [
       "<matplotlib.figure.Figure at 0x2b2995fad978>"
      ]
     },
     "metadata": {},
     "output_type": "display_data"
    }
   ],
   "source": [
    "fig = plt.figure(figsize=(1.2, 1.2))\n",
    "ax = sns.kdeplot(no_nan[\"log_max_cov\"], no_nan[\"mpra_ts\"], cmap=cmap, \n",
    "                 shade=True, shade_lowest=False)\n",
    "ax.set_ylabel(\"tissue specificity in MPRA\")\n",
    "ax.set_xlabel(\"log(max overlapping motifs)\")\n",
    "\n",
    "r, p = stats.spearmanr(no_nan[\"log_max_cov\"], no_nan[\"mpra_ts\"])\n",
    "print(\"r: %s, spearman p: %s\" % (r, p))\n",
    "ax.annotate(\"r = {:.2f}\".format(r), xy=(.05, .9), xycoords=ax.transAxes, fontsize=fontsize)\n",
    "\n",
    "# add n-value\n",
    "ax.annotate(\"n = %s\" % len(no_nan), ha=\"right\", xy=(.96, .9), xycoords=ax.transAxes, \n",
    "            fontsize=fontsize)\n",
    "\n",
    "fig.savefig(\"Fig_2C_5.pdf\", bbox_inches=\"tight\", dpi=\"figure\")"
   ]
  }
 ],
 "metadata": {
  "kernelspec": {
   "display_name": "Python 3",
   "language": "python",
   "name": "python3"
  },
  "language_info": {
   "codemirror_mode": {
    "name": "ipython",
    "version": 3
   },
   "file_extension": ".py",
   "mimetype": "text/x-python",
   "name": "python",
   "nbconvert_exporter": "python",
   "pygments_lexer": "ipython3",
   "version": "3.6.2"
  }
 },
 "nbformat": 4,
 "nbformat_minor": 2
}
