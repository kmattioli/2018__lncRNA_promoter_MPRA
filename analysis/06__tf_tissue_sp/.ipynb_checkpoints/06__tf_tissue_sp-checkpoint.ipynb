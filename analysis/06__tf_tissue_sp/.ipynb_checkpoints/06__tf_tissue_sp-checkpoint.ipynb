{
 "cells": [
  {
   "cell_type": "markdown",
   "metadata": {},
   "source": [
    "# 06__tf_tissue_sp\n",
    "# calculating tissue specificity of TFs (across HepG2, HeLa, and K562)\n",
    "\n",
    "in this notebook, i calculate the tissue specificity of TFs across the 3 cell types in our MPRAs using ENCODE RNA-seq data. then, i correlate motif coverage (# bp covered and maximum coverage) as well as average TF specificity with MPRA activities and specificities.\n",
    "\n",
    "note: the FIMO mappings and coverage calculations were done separately (see methods)\n",
    "\n",
    "------\n",
    "\n",
    "figures in this notebook:\n",
    "- **Fig 2C**: KDE plot of correlations of MPRA activity & specificity with each of the 3 metrics"
   ]
  },
  {
   "cell_type": "code",
   "execution_count": 1,
   "metadata": {
    "collapsed": true
   },
   "outputs": [],
   "source": [
    "import warnings\n",
    "warnings.filterwarnings('ignore')\n",
    "\n",
    "import pandas as pd\n",
    "import numpy as np\n",
    "import matplotlib as mpl\n",
    "import matplotlib.pyplot as plt\n",
    "import seaborn as sns\n",
    "import sys\n",
    "import time\n",
    "\n",
    "from itertools import chain\n",
    "from decimal import Decimal\n",
    "from scipy import stats\n",
    "from scipy import signal\n",
    "from statsmodels.sandbox.stats import multicomp\n",
    "\n",
    "# import utils\n",
    "sys.path.append(\"../../utils\")\n",
    "from plotting_utils import *\n",
    "from misc_utils import *\n",
    "from norm_utils import *\n",
    "\n",
    "%matplotlib inline"
   ]
  },
  {
   "cell_type": "code",
   "execution_count": 2,
   "metadata": {
    "collapsed": true
   },
   "outputs": [],
   "source": [
    "sns.set(**PAPER_PRESET)\n",
    "fontsize = PAPER_FONTSIZE"
   ]
  },
  {
   "cell_type": "markdown",
   "metadata": {},
   "source": [
    "## variables"
   ]
  },
  {
   "cell_type": "code",
   "execution_count": 3,
   "metadata": {
    "collapsed": true
   },
   "outputs": [],
   "source": [
    "index_dir = \"../../data/00__index\"\n",
    "index_f = \"%s/tss_oligo_pool.index.txt\" % index_dir"
   ]
  },
  {
   "cell_type": "code",
   "execution_count": 4,
   "metadata": {
    "collapsed": true
   },
   "outputs": [],
   "source": [
    "hepg2_activ_f = \"../../data/02__activs/POOL1__pMPRA1__HepG2__activities_per_element.txt\"\n",
    "hela_activ_f = \"../../data/02__activs/POOL1__pMPRA1__HeLa__activities_per_element.txt\"\n",
    "k562_activ_f = \"../../data/02__activs/POOL1__pMPRA1__K562__activities_per_element.txt\""
   ]
  },
  {
   "cell_type": "code",
   "execution_count": 5,
   "metadata": {
    "collapsed": true
   },
   "outputs": [],
   "source": [
    "fimo_f = \"../../misc/03__fimo/pool1_fimo_map.txt\"\n",
    "fimo_chip_f = \"../../misc/03__fimo/pool1_fimo_map.chip_intersected.txt\""
   ]
  },
  {
   "cell_type": "code",
   "execution_count": 6,
   "metadata": {
    "collapsed": true
   },
   "outputs": [],
   "source": [
    "fimo_cov_f = \"../../data/04__coverage/FIMO.coverage.new.txt\"\n",
    "fimo_chip_cov_f = \"../../data/04__coverage/FIMO.ChIPIntersect.coverage.new.txt\""
   ]
  },
  {
   "cell_type": "code",
   "execution_count": 7,
   "metadata": {
    "collapsed": true
   },
   "outputs": [],
   "source": [
    "tf_ts_f = \"../../data/04__coverage/TF_tissue_specificities.from_CAGE.txt\""
   ]
  },
  {
   "cell_type": "code",
   "execution_count": 8,
   "metadata": {
    "collapsed": true
   },
   "outputs": [],
   "source": [
    "cage_v_mpra_f = \"../../data/02__activs/POOL1__pMPRA1__CAGE_vs_MPRA_activs.txt\""
   ]
  },
  {
   "cell_type": "markdown",
   "metadata": {},
   "source": [
    "## 1. import data"
   ]
  },
  {
   "cell_type": "code",
   "execution_count": 9,
   "metadata": {},
   "outputs": [
    {
     "data": {
      "text/html": [
       "<div>\n",
       "<style>\n",
       "    .dataframe thead tr:only-child th {\n",
       "        text-align: right;\n",
       "    }\n",
       "\n",
       "    .dataframe thead th {\n",
       "        text-align: left;\n",
       "    }\n",
       "\n",
       "    .dataframe tbody tr th {\n",
       "        vertical-align: top;\n",
       "    }\n",
       "</style>\n",
       "<table border=\"1\" class=\"dataframe\">\n",
       "  <thead>\n",
       "    <tr style=\"text-align: right;\">\n",
       "      <th></th>\n",
       "      <th>motif</th>\n",
       "      <th>unique_id</th>\n",
       "      <th>start</th>\n",
       "      <th>end</th>\n",
       "      <th>strand</th>\n",
       "      <th>score</th>\n",
       "      <th>pval</th>\n",
       "      <th>qval</th>\n",
       "      <th>seq</th>\n",
       "    </tr>\n",
       "  </thead>\n",
       "  <tbody>\n",
       "    <tr>\n",
       "      <th>0</th>\n",
       "      <td>ZNF263</td>\n",
       "      <td>WILDTYPE_SNP_INDIV__Antisense.noflip.NA__chr9:...</td>\n",
       "      <td>60</td>\n",
       "      <td>80</td>\n",
       "      <td>-</td>\n",
       "      <td>29.2449</td>\n",
       "      <td>9.790000e-13</td>\n",
       "      <td>2.160000e-07</td>\n",
       "      <td>GGAGGAGGAGGAGGAGGGGGA</td>\n",
       "    </tr>\n",
       "    <tr>\n",
       "      <th>1</th>\n",
       "      <td>ZNF263</td>\n",
       "      <td>WILDTYPE_BUT_HAS_SNP__Antisense.noflip.NA__chr...</td>\n",
       "      <td>60</td>\n",
       "      <td>80</td>\n",
       "      <td>-</td>\n",
       "      <td>29.2449</td>\n",
       "      <td>9.790000e-13</td>\n",
       "      <td>2.160000e-07</td>\n",
       "      <td>GGAGGAGGAGGAGGAGGGGGA</td>\n",
       "    </tr>\n",
       "    <tr>\n",
       "      <th>2</th>\n",
       "      <td>ZNF263</td>\n",
       "      <td>WILDTYPE_BUT_HAS_SNP__Antisense.noflip.NA__chr...</td>\n",
       "      <td>57</td>\n",
       "      <td>77</td>\n",
       "      <td>-</td>\n",
       "      <td>29.0000</td>\n",
       "      <td>1.740000e-12</td>\n",
       "      <td>2.160000e-07</td>\n",
       "      <td>GGAGGAGGAGGAGGGGGAGGA</td>\n",
       "    </tr>\n",
       "    <tr>\n",
       "      <th>3</th>\n",
       "      <td>ZNF263</td>\n",
       "      <td>WILDTYPE_SNP_INDIV__Antisense.noflip.NA__chr9:...</td>\n",
       "      <td>57</td>\n",
       "      <td>77</td>\n",
       "      <td>-</td>\n",
       "      <td>29.0000</td>\n",
       "      <td>1.740000e-12</td>\n",
       "      <td>2.160000e-07</td>\n",
       "      <td>GGAGGAGGAGGAGGGGGAGGA</td>\n",
       "    </tr>\n",
       "    <tr>\n",
       "      <th>4</th>\n",
       "      <td>ZNF263</td>\n",
       "      <td>FLIPPED__Enhancer.flip.antisense__chr19:185263...</td>\n",
       "      <td>32</td>\n",
       "      <td>52</td>\n",
       "      <td>+</td>\n",
       "      <td>28.7347</td>\n",
       "      <td>2.680000e-12</td>\n",
       "      <td>2.160000e-07</td>\n",
       "      <td>GGAGGAGGAAGAGGAGGAGGG</td>\n",
       "    </tr>\n",
       "  </tbody>\n",
       "</table>\n",
       "</div>"
      ],
      "text/plain": [
       "    motif                                          unique_id  start  end  \\\n",
       "0  ZNF263  WILDTYPE_SNP_INDIV__Antisense.noflip.NA__chr9:...     60   80   \n",
       "1  ZNF263  WILDTYPE_BUT_HAS_SNP__Antisense.noflip.NA__chr...     60   80   \n",
       "2  ZNF263  WILDTYPE_BUT_HAS_SNP__Antisense.noflip.NA__chr...     57   77   \n",
       "3  ZNF263  WILDTYPE_SNP_INDIV__Antisense.noflip.NA__chr9:...     57   77   \n",
       "4  ZNF263  FLIPPED__Enhancer.flip.antisense__chr19:185263...     32   52   \n",
       "\n",
       "  strand    score          pval          qval                    seq  \n",
       "0      -  29.2449  9.790000e-13  2.160000e-07  GGAGGAGGAGGAGGAGGGGGA  \n",
       "1      -  29.2449  9.790000e-13  2.160000e-07  GGAGGAGGAGGAGGAGGGGGA  \n",
       "2      -  29.0000  1.740000e-12  2.160000e-07  GGAGGAGGAGGAGGGGGAGGA  \n",
       "3      -  29.0000  1.740000e-12  2.160000e-07  GGAGGAGGAGGAGGGGGAGGA  \n",
       "4      +  28.7347  2.680000e-12  2.160000e-07  GGAGGAGGAAGAGGAGGAGGG  "
      ]
     },
     "execution_count": 9,
     "metadata": {},
     "output_type": "execute_result"
    }
   ],
   "source": [
    "fimo = pd.read_table(fimo_f, sep=\"\\t\")\n",
    "fimo.columns = [\"motif\", \"unique_id\", \"start\", \"end\", \"strand\", \"score\", \"pval\", \"qval\", \"seq\"]\n",
    "fimo.head()"
   ]
  },
  {
   "cell_type": "code",
   "execution_count": 10,
   "metadata": {},
   "outputs": [
    {
     "data": {
      "text/html": [
       "<div>\n",
       "<style>\n",
       "    .dataframe thead tr:only-child th {\n",
       "        text-align: right;\n",
       "    }\n",
       "\n",
       "    .dataframe thead th {\n",
       "        text-align: left;\n",
       "    }\n",
       "\n",
       "    .dataframe tbody tr th {\n",
       "        vertical-align: top;\n",
       "    }\n",
       "</style>\n",
       "<table border=\"1\" class=\"dataframe\">\n",
       "  <thead>\n",
       "    <tr style=\"text-align: right;\">\n",
       "      <th></th>\n",
       "      <th>motif_chr</th>\n",
       "      <th>motif_start</th>\n",
       "      <th>motif_end</th>\n",
       "      <th>motif</th>\n",
       "      <th>motif_score</th>\n",
       "      <th>motif_strand</th>\n",
       "      <th>tss_chr</th>\n",
       "      <th>tss_start</th>\n",
       "      <th>tss_end</th>\n",
       "      <th>tss_info</th>\n",
       "      <th>tss_score</th>\n",
       "      <th>tss_strand</th>\n",
       "      <th>TSS_id</th>\n",
       "      <th>oligo_reg_x</th>\n",
       "      <th>oligo_reg_y</th>\n",
       "      <th>enhancer_id</th>\n",
       "      <th>oligo_reg</th>\n",
       "      <th>unique_id</th>\n",
       "    </tr>\n",
       "  </thead>\n",
       "  <tbody>\n",
       "    <tr>\n",
       "      <th>0</th>\n",
       "      <td>chr1</td>\n",
       "      <td>714091</td>\n",
       "      <td>714092</td>\n",
       "      <td>Atf1</td>\n",
       "      <td>11.24590</td>\n",
       "      <td>+</td>\n",
       "      <td>chr1</td>\n",
       "      <td>713977</td>\n",
       "      <td>714092</td>\n",
       "      <td>intergenic__p1@ENST00000428504,p1@uc001abo.2__...</td>\n",
       "      <td>0</td>\n",
       "      <td>-</td>\n",
       "      <td>chr1:713985..714054,-</td>\n",
       "      <td>chr1:713977..714091,-</td>\n",
       "      <td>NaN</td>\n",
       "      <td>NaN</td>\n",
       "      <td>chr1:713977..714091,-</td>\n",
       "      <td>WILDTYPE_BUT_HAS_SNP__Lincrna.flip.sense__chr1...</td>\n",
       "    </tr>\n",
       "    <tr>\n",
       "      <th>1</th>\n",
       "      <td>chr1</td>\n",
       "      <td>713979</td>\n",
       "      <td>713991</td>\n",
       "      <td>E2F1</td>\n",
       "      <td>11.96720</td>\n",
       "      <td>+</td>\n",
       "      <td>chr1</td>\n",
       "      <td>713977</td>\n",
       "      <td>714092</td>\n",
       "      <td>intergenic__p1@ENST00000428504,p1@uc001abo.2__...</td>\n",
       "      <td>0</td>\n",
       "      <td>-</td>\n",
       "      <td>chr1:713985..714054,-</td>\n",
       "      <td>chr1:713977..714091,-</td>\n",
       "      <td>NaN</td>\n",
       "      <td>NaN</td>\n",
       "      <td>chr1:713977..714091,-</td>\n",
       "      <td>WILDTYPE_BUT_HAS_SNP__Lincrna.flip.sense__chr1...</td>\n",
       "    </tr>\n",
       "    <tr>\n",
       "      <th>2</th>\n",
       "      <td>chr1</td>\n",
       "      <td>714063</td>\n",
       "      <td>714076</td>\n",
       "      <td>JUN</td>\n",
       "      <td>10.02040</td>\n",
       "      <td>+</td>\n",
       "      <td>chr1</td>\n",
       "      <td>713977</td>\n",
       "      <td>714092</td>\n",
       "      <td>intergenic__p1@ENST00000428504,p1@uc001abo.2__...</td>\n",
       "      <td>0</td>\n",
       "      <td>-</td>\n",
       "      <td>chr1:713985..714054,-</td>\n",
       "      <td>chr1:713977..714091,-</td>\n",
       "      <td>NaN</td>\n",
       "      <td>NaN</td>\n",
       "      <td>chr1:713977..714091,-</td>\n",
       "      <td>WILDTYPE_BUT_HAS_SNP__Lincrna.flip.sense__chr1...</td>\n",
       "    </tr>\n",
       "    <tr>\n",
       "      <th>3</th>\n",
       "      <td>chr1</td>\n",
       "      <td>713977</td>\n",
       "      <td>713988</td>\n",
       "      <td>YY1</td>\n",
       "      <td>9.98077</td>\n",
       "      <td>+</td>\n",
       "      <td>chr1</td>\n",
       "      <td>713977</td>\n",
       "      <td>714092</td>\n",
       "      <td>intergenic__p1@ENST00000428504,p1@uc001abo.2__...</td>\n",
       "      <td>0</td>\n",
       "      <td>-</td>\n",
       "      <td>chr1:713985..714054,-</td>\n",
       "      <td>chr1:713977..714091,-</td>\n",
       "      <td>NaN</td>\n",
       "      <td>NaN</td>\n",
       "      <td>chr1:713977..714091,-</td>\n",
       "      <td>WILDTYPE_BUT_HAS_SNP__Lincrna.flip.sense__chr1...</td>\n",
       "    </tr>\n",
       "    <tr>\n",
       "      <th>4</th>\n",
       "      <td>chr1</td>\n",
       "      <td>53704213</td>\n",
       "      <td>53704221</td>\n",
       "      <td>Atf1</td>\n",
       "      <td>11.24590</td>\n",
       "      <td>+</td>\n",
       "      <td>chr1</td>\n",
       "      <td>53704155</td>\n",
       "      <td>53704270</td>\n",
       "      <td>div_pc__p1@MAGOH__chr1:53704157..53704219,-</td>\n",
       "      <td>0</td>\n",
       "      <td>-</td>\n",
       "      <td>chr1:53704157..53704219,-</td>\n",
       "      <td>chr1:53704155..53704269,-</td>\n",
       "      <td>NaN</td>\n",
       "      <td>NaN</td>\n",
       "      <td>chr1:53704155..53704269,-</td>\n",
       "      <td>WILDTYPE__mrna.flip.sense__chr1:53704155..5370...</td>\n",
       "    </tr>\n",
       "  </tbody>\n",
       "</table>\n",
       "</div>"
      ],
      "text/plain": [
       "  motif_chr  motif_start  motif_end motif  motif_score motif_strand tss_chr  \\\n",
       "0      chr1       714091     714092  Atf1     11.24590            +    chr1   \n",
       "1      chr1       713979     713991  E2F1     11.96720            +    chr1   \n",
       "2      chr1       714063     714076   JUN     10.02040            +    chr1   \n",
       "3      chr1       713977     713988   YY1      9.98077            +    chr1   \n",
       "4      chr1     53704213   53704221  Atf1     11.24590            +    chr1   \n",
       "\n",
       "   tss_start   tss_end                                           tss_info  \\\n",
       "0     713977    714092  intergenic__p1@ENST00000428504,p1@uc001abo.2__...   \n",
       "1     713977    714092  intergenic__p1@ENST00000428504,p1@uc001abo.2__...   \n",
       "2     713977    714092  intergenic__p1@ENST00000428504,p1@uc001abo.2__...   \n",
       "3     713977    714092  intergenic__p1@ENST00000428504,p1@uc001abo.2__...   \n",
       "4   53704155  53704270        div_pc__p1@MAGOH__chr1:53704157..53704219,-   \n",
       "\n",
       "   tss_score tss_strand                     TSS_id                oligo_reg_x  \\\n",
       "0          0          -      chr1:713985..714054,-      chr1:713977..714091,-   \n",
       "1          0          -      chr1:713985..714054,-      chr1:713977..714091,-   \n",
       "2          0          -      chr1:713985..714054,-      chr1:713977..714091,-   \n",
       "3          0          -      chr1:713985..714054,-      chr1:713977..714091,-   \n",
       "4          0          -  chr1:53704157..53704219,-  chr1:53704155..53704269,-   \n",
       "\n",
       "  oligo_reg_y enhancer_id                  oligo_reg  \\\n",
       "0         NaN         NaN      chr1:713977..714091,-   \n",
       "1         NaN         NaN      chr1:713977..714091,-   \n",
       "2         NaN         NaN      chr1:713977..714091,-   \n",
       "3         NaN         NaN      chr1:713977..714091,-   \n",
       "4         NaN         NaN  chr1:53704155..53704269,-   \n",
       "\n",
       "                                           unique_id  \n",
       "0  WILDTYPE_BUT_HAS_SNP__Lincrna.flip.sense__chr1...  \n",
       "1  WILDTYPE_BUT_HAS_SNP__Lincrna.flip.sense__chr1...  \n",
       "2  WILDTYPE_BUT_HAS_SNP__Lincrna.flip.sense__chr1...  \n",
       "3  WILDTYPE_BUT_HAS_SNP__Lincrna.flip.sense__chr1...  \n",
       "4  WILDTYPE__mrna.flip.sense__chr1:53704155..5370...  "
      ]
     },
     "execution_count": 10,
     "metadata": {},
     "output_type": "execute_result"
    }
   ],
   "source": [
    "fimo_chip = pd.read_table(fimo_chip_f, sep=\"\\t\")\n",
    "fimo_chip.head()"
   ]
  },
  {
   "cell_type": "code",
   "execution_count": 11,
   "metadata": {
    "collapsed": true
   },
   "outputs": [],
   "source": [
    "index = pd.read_table(index_f, sep=\"\\t\")\n",
    "index_elem = index[[\"element\", \"oligo_type\", \"unique_id\", \"dupe_info\", \"SNP\", \"seq_name\"]]\n",
    "index_elem = index_elem.drop_duplicates()"
   ]
  },
  {
   "cell_type": "code",
   "execution_count": 12,
   "metadata": {
    "collapsed": true
   },
   "outputs": [],
   "source": [
    "hepg2_activ = pd.read_table(hepg2_activ_f, sep=\"\\t\")\n",
    "hela_activ = pd.read_table(hela_activ_f, sep=\"\\t\")\n",
    "k562_activ = pd.read_table(k562_activ_f, sep=\"\\t\")"
   ]
  },
  {
   "cell_type": "code",
   "execution_count": 13,
   "metadata": {
    "collapsed": true
   },
   "outputs": [],
   "source": [
    "hepg2_reps = [x for x in hepg2_activ.columns if \"rna\" in x]\n",
    "hela_reps = [x for x in hela_activ.columns if \"rna\" in x]\n",
    "k562_reps = [x for x in k562_activ.columns if \"rna\" in x]"
   ]
  },
  {
   "cell_type": "code",
   "execution_count": 14,
   "metadata": {},
   "outputs": [
    {
     "data": {
      "text/html": [
       "<div>\n",
       "<style>\n",
       "    .dataframe thead tr:only-child th {\n",
       "        text-align: right;\n",
       "    }\n",
       "\n",
       "    .dataframe thead th {\n",
       "        text-align: left;\n",
       "    }\n",
       "\n",
       "    .dataframe tbody tr th {\n",
       "        vertical-align: top;\n",
       "    }\n",
       "</style>\n",
       "<table border=\"1\" class=\"dataframe\">\n",
       "  <thead>\n",
       "    <tr style=\"text-align: right;\">\n",
       "      <th></th>\n",
       "      <th>unique_id</th>\n",
       "      <th>n_total_motifs</th>\n",
       "      <th>n_unique_motifs</th>\n",
       "      <th>max_cov</th>\n",
       "      <th>n_bp_cov</th>\n",
       "      <th>log_n_total_motifs</th>\n",
       "      <th>log_n_unique_motifs</th>\n",
       "      <th>log_max_cov</th>\n",
       "      <th>log_n_bp_cov</th>\n",
       "    </tr>\n",
       "  </thead>\n",
       "  <tbody>\n",
       "    <tr>\n",
       "      <th>0</th>\n",
       "      <td>WILDTYPE_BUT_HAS_SNP__Antisense.flip.sense__ch...</td>\n",
       "      <td>48</td>\n",
       "      <td>35</td>\n",
       "      <td>19</td>\n",
       "      <td>83</td>\n",
       "      <td>3.871201</td>\n",
       "      <td>3.555348</td>\n",
       "      <td>2.944439</td>\n",
       "      <td>4.418841</td>\n",
       "    </tr>\n",
       "    <tr>\n",
       "      <th>1</th>\n",
       "      <td>WILDTYPE_BUT_HAS_SNP__Antisense.flip.sense__ch...</td>\n",
       "      <td>37</td>\n",
       "      <td>29</td>\n",
       "      <td>16</td>\n",
       "      <td>84</td>\n",
       "      <td>3.610918</td>\n",
       "      <td>3.367296</td>\n",
       "      <td>2.772589</td>\n",
       "      <td>4.430817</td>\n",
       "    </tr>\n",
       "    <tr>\n",
       "      <th>2</th>\n",
       "      <td>WILDTYPE_BUT_HAS_SNP__Antisense.flip.sense__ch...</td>\n",
       "      <td>10</td>\n",
       "      <td>8</td>\n",
       "      <td>3</td>\n",
       "      <td>77</td>\n",
       "      <td>2.302585</td>\n",
       "      <td>2.079442</td>\n",
       "      <td>1.098612</td>\n",
       "      <td>4.343805</td>\n",
       "    </tr>\n",
       "    <tr>\n",
       "      <th>3</th>\n",
       "      <td>WILDTYPE_BUT_HAS_SNP__Antisense.flip.sense__ch...</td>\n",
       "      <td>12</td>\n",
       "      <td>8</td>\n",
       "      <td>5</td>\n",
       "      <td>54</td>\n",
       "      <td>2.484907</td>\n",
       "      <td>2.079442</td>\n",
       "      <td>1.609438</td>\n",
       "      <td>3.988984</td>\n",
       "    </tr>\n",
       "    <tr>\n",
       "      <th>4</th>\n",
       "      <td>WILDTYPE_BUT_HAS_SNP__Antisense.flip.sense__ch...</td>\n",
       "      <td>37</td>\n",
       "      <td>31</td>\n",
       "      <td>22</td>\n",
       "      <td>80</td>\n",
       "      <td>3.610918</td>\n",
       "      <td>3.433987</td>\n",
       "      <td>3.091042</td>\n",
       "      <td>4.382027</td>\n",
       "    </tr>\n",
       "  </tbody>\n",
       "</table>\n",
       "</div>"
      ],
      "text/plain": [
       "                                           unique_id  n_total_motifs  \\\n",
       "0  WILDTYPE_BUT_HAS_SNP__Antisense.flip.sense__ch...              48   \n",
       "1  WILDTYPE_BUT_HAS_SNP__Antisense.flip.sense__ch...              37   \n",
       "2  WILDTYPE_BUT_HAS_SNP__Antisense.flip.sense__ch...              10   \n",
       "3  WILDTYPE_BUT_HAS_SNP__Antisense.flip.sense__ch...              12   \n",
       "4  WILDTYPE_BUT_HAS_SNP__Antisense.flip.sense__ch...              37   \n",
       "\n",
       "   n_unique_motifs  max_cov  n_bp_cov  log_n_total_motifs  \\\n",
       "0               35       19        83            3.871201   \n",
       "1               29       16        84            3.610918   \n",
       "2                8        3        77            2.302585   \n",
       "3                8        5        54            2.484907   \n",
       "4               31       22        80            3.610918   \n",
       "\n",
       "   log_n_unique_motifs  log_max_cov  log_n_bp_cov  \n",
       "0             3.555348     2.944439      4.418841  \n",
       "1             3.367296     2.772589      4.430817  \n",
       "2             2.079442     1.098612      4.343805  \n",
       "3             2.079442     1.609438      3.988984  \n",
       "4             3.433987     3.091042      4.382027  "
      ]
     },
     "execution_count": 14,
     "metadata": {},
     "output_type": "execute_result"
    }
   ],
   "source": [
    "fimo_cov = pd.read_table(fimo_cov_f, sep=\"\\t\")\n",
    "fimo_cov = fimo_cov[[\"unique_id\", \"n_total_motifs\", \"n_unique_motifs\", \"max_cov\", \"n_bp_cov\",\n",
    "                     \"log_n_total_motifs\", \"log_n_unique_motifs\", \"log_max_cov\", \"log_n_bp_cov\"]]\n",
    "fimo_cov.head()"
   ]
  },
  {
   "cell_type": "code",
   "execution_count": 15,
   "metadata": {},
   "outputs": [
    {
     "data": {
      "text/html": [
       "<div>\n",
       "<style>\n",
       "    .dataframe thead tr:only-child th {\n",
       "        text-align: right;\n",
       "    }\n",
       "\n",
       "    .dataframe thead th {\n",
       "        text-align: left;\n",
       "    }\n",
       "\n",
       "    .dataframe tbody tr th {\n",
       "        vertical-align: top;\n",
       "    }\n",
       "</style>\n",
       "<table border=\"1\" class=\"dataframe\">\n",
       "  <thead>\n",
       "    <tr style=\"text-align: right;\">\n",
       "      <th></th>\n",
       "      <th>unique_id</th>\n",
       "      <th>n_total_motifs</th>\n",
       "      <th>n_unique_motifs</th>\n",
       "      <th>max_cov</th>\n",
       "      <th>n_bp_cov</th>\n",
       "      <th>log_n_total_motifs</th>\n",
       "      <th>log_n_unique_motifs</th>\n",
       "      <th>log_max_cov</th>\n",
       "      <th>log_n_bp_cov</th>\n",
       "    </tr>\n",
       "  </thead>\n",
       "  <tbody>\n",
       "    <tr>\n",
       "      <th>0</th>\n",
       "      <td>WILDTYPE_BUT_HAS_SNP__Antisense.flip.sense__ch...</td>\n",
       "      <td>5</td>\n",
       "      <td>5</td>\n",
       "      <td>2</td>\n",
       "      <td>34</td>\n",
       "      <td>1.609438</td>\n",
       "      <td>1.609438</td>\n",
       "      <td>0.693147</td>\n",
       "      <td>3.526361</td>\n",
       "    </tr>\n",
       "    <tr>\n",
       "      <th>1</th>\n",
       "      <td>WILDTYPE_BUT_HAS_SNP__Antisense.flip.sense__ch...</td>\n",
       "      <td>5</td>\n",
       "      <td>5</td>\n",
       "      <td>3</td>\n",
       "      <td>57</td>\n",
       "      <td>1.609438</td>\n",
       "      <td>1.609438</td>\n",
       "      <td>1.098612</td>\n",
       "      <td>4.043051</td>\n",
       "    </tr>\n",
       "    <tr>\n",
       "      <th>2</th>\n",
       "      <td>WILDTYPE_BUT_HAS_SNP__Antisense.flip.sense__ch...</td>\n",
       "      <td>2</td>\n",
       "      <td>2</td>\n",
       "      <td>1</td>\n",
       "      <td>27</td>\n",
       "      <td>0.693147</td>\n",
       "      <td>0.693147</td>\n",
       "      <td>0.000000</td>\n",
       "      <td>3.295837</td>\n",
       "    </tr>\n",
       "    <tr>\n",
       "      <th>3</th>\n",
       "      <td>WILDTYPE_BUT_HAS_SNP__Antisense.flip.sense__ch...</td>\n",
       "      <td>7</td>\n",
       "      <td>6</td>\n",
       "      <td>2</td>\n",
       "      <td>65</td>\n",
       "      <td>1.945910</td>\n",
       "      <td>1.791759</td>\n",
       "      <td>0.693147</td>\n",
       "      <td>4.174387</td>\n",
       "    </tr>\n",
       "    <tr>\n",
       "      <th>4</th>\n",
       "      <td>WILDTYPE_BUT_HAS_SNP__Antisense.flip.sense__ch...</td>\n",
       "      <td>7</td>\n",
       "      <td>7</td>\n",
       "      <td>5</td>\n",
       "      <td>27</td>\n",
       "      <td>1.945910</td>\n",
       "      <td>1.945910</td>\n",
       "      <td>1.609438</td>\n",
       "      <td>3.295837</td>\n",
       "    </tr>\n",
       "  </tbody>\n",
       "</table>\n",
       "</div>"
      ],
      "text/plain": [
       "                                           unique_id  n_total_motifs  \\\n",
       "0  WILDTYPE_BUT_HAS_SNP__Antisense.flip.sense__ch...               5   \n",
       "1  WILDTYPE_BUT_HAS_SNP__Antisense.flip.sense__ch...               5   \n",
       "2  WILDTYPE_BUT_HAS_SNP__Antisense.flip.sense__ch...               2   \n",
       "3  WILDTYPE_BUT_HAS_SNP__Antisense.flip.sense__ch...               7   \n",
       "4  WILDTYPE_BUT_HAS_SNP__Antisense.flip.sense__ch...               7   \n",
       "\n",
       "   n_unique_motifs  max_cov  n_bp_cov  log_n_total_motifs  \\\n",
       "0                5        2        34            1.609438   \n",
       "1                5        3        57            1.609438   \n",
       "2                2        1        27            0.693147   \n",
       "3                6        2        65            1.945910   \n",
       "4                7        5        27            1.945910   \n",
       "\n",
       "   log_n_unique_motifs  log_max_cov  log_n_bp_cov  \n",
       "0             1.609438     0.693147      3.526361  \n",
       "1             1.609438     1.098612      4.043051  \n",
       "2             0.693147     0.000000      3.295837  \n",
       "3             1.791759     0.693147      4.174387  \n",
       "4             1.945910     1.609438      3.295837  "
      ]
     },
     "execution_count": 15,
     "metadata": {},
     "output_type": "execute_result"
    }
   ],
   "source": [
    "fimo_chip_cov = pd.read_table(fimo_chip_cov_f, sep=\"\\t\")\n",
    "fimo_chip_cov = fimo_chip_cov[[\"unique_id\", \"n_total_motifs\", \"n_unique_motifs\", \"max_cov\", \"n_bp_cov\",\n",
    "                               \"log_n_total_motifs\", \"log_n_unique_motifs\", \"log_max_cov\", \"log_n_bp_cov\"]]\n",
    "fimo_chip_cov.head()"
   ]
  },
  {
   "cell_type": "code",
   "execution_count": 16,
   "metadata": {},
   "outputs": [
    {
     "data": {
      "text/html": [
       "<div>\n",
       "<style>\n",
       "    .dataframe thead tr:only-child th {\n",
       "        text-align: right;\n",
       "    }\n",
       "\n",
       "    .dataframe thead th {\n",
       "        text-align: left;\n",
       "    }\n",
       "\n",
       "    .dataframe tbody tr th {\n",
       "        vertical-align: top;\n",
       "    }\n",
       "</style>\n",
       "<table border=\"1\" class=\"dataframe\">\n",
       "  <thead>\n",
       "    <tr style=\"text-align: right;\">\n",
       "      <th></th>\n",
       "      <th>tf</th>\n",
       "      <th>tissue_sp_all</th>\n",
       "      <th>tissue_sp_3</th>\n",
       "      <th>K562_exp</th>\n",
       "      <th>HeLa_exp</th>\n",
       "      <th>HepG2_exp</th>\n",
       "    </tr>\n",
       "  </thead>\n",
       "  <tbody>\n",
       "    <tr>\n",
       "      <th>0</th>\n",
       "      <td>PAX7</td>\n",
       "      <td>0.990032</td>\n",
       "      <td>NaN</td>\n",
       "      <td>0.000000</td>\n",
       "      <td>0.000000</td>\n",
       "      <td>0.000000</td>\n",
       "    </tr>\n",
       "    <tr>\n",
       "      <th>1</th>\n",
       "      <td>HNF1B</td>\n",
       "      <td>0.979589</td>\n",
       "      <td>0.666667</td>\n",
       "      <td>0.000000</td>\n",
       "      <td>0.000000</td>\n",
       "      <td>5.889702</td>\n",
       "    </tr>\n",
       "    <tr>\n",
       "      <th>2</th>\n",
       "      <td>LIN54</td>\n",
       "      <td>0.794230</td>\n",
       "      <td>0.412303</td>\n",
       "      <td>17.857032</td>\n",
       "      <td>18.290625</td>\n",
       "      <td>47.369957</td>\n",
       "    </tr>\n",
       "    <tr>\n",
       "      <th>3</th>\n",
       "      <td>IRF3</td>\n",
       "      <td>0.719361</td>\n",
       "      <td>0.089475</td>\n",
       "      <td>23.938784</td>\n",
       "      <td>29.128210</td>\n",
       "      <td>26.498907</td>\n",
       "    </tr>\n",
       "    <tr>\n",
       "      <th>4</th>\n",
       "      <td>MEF2C</td>\n",
       "      <td>0.978378</td>\n",
       "      <td>0.665278</td>\n",
       "      <td>112.089652</td>\n",
       "      <td>0.335948</td>\n",
       "      <td>0.131145</td>\n",
       "    </tr>\n",
       "  </tbody>\n",
       "</table>\n",
       "</div>"
      ],
      "text/plain": [
       "      tf  tissue_sp_all  tissue_sp_3    K562_exp   HeLa_exp  HepG2_exp\n",
       "0   PAX7       0.990032          NaN    0.000000   0.000000   0.000000\n",
       "1  HNF1B       0.979589     0.666667    0.000000   0.000000   5.889702\n",
       "2  LIN54       0.794230     0.412303   17.857032  18.290625  47.369957\n",
       "3   IRF3       0.719361     0.089475   23.938784  29.128210  26.498907\n",
       "4  MEF2C       0.978378     0.665278  112.089652   0.335948   0.131145"
      ]
     },
     "execution_count": 16,
     "metadata": {},
     "output_type": "execute_result"
    }
   ],
   "source": [
    "tf_ts = pd.read_table(tf_ts_f, sep=\"\\t\")\n",
    "tf_ts.head()"
   ]
  },
  {
   "cell_type": "code",
   "execution_count": 17,
   "metadata": {},
   "outputs": [
    {
     "data": {
      "text/html": [
       "<div>\n",
       "<style>\n",
       "    .dataframe thead tr:only-child th {\n",
       "        text-align: right;\n",
       "    }\n",
       "\n",
       "    .dataframe thead th {\n",
       "        text-align: left;\n",
       "    }\n",
       "\n",
       "    .dataframe tbody tr th {\n",
       "        vertical-align: top;\n",
       "    }\n",
       "</style>\n",
       "<table border=\"1\" class=\"dataframe\">\n",
       "  <thead>\n",
       "    <tr style=\"text-align: right;\">\n",
       "      <th></th>\n",
       "      <th>unique_id</th>\n",
       "      <th>PromType2</th>\n",
       "      <th>cage_activ</th>\n",
       "      <th>cage_ts</th>\n",
       "      <th>mpra_activ</th>\n",
       "      <th>mpra_ts</th>\n",
       "    </tr>\n",
       "  </thead>\n",
       "  <tbody>\n",
       "    <tr>\n",
       "      <th>0</th>\n",
       "      <td>WILDTYPE_BUT_HAS_SNP__Antisense.flip.sense__ch...</td>\n",
       "      <td>intergenic</td>\n",
       "      <td>1.810702</td>\n",
       "      <td>0.665068</td>\n",
       "      <td>1.400056</td>\n",
       "      <td>0.142230</td>\n",
       "    </tr>\n",
       "    <tr>\n",
       "      <th>1</th>\n",
       "      <td>WILDTYPE_BUT_HAS_SNP__Antisense.flip.sense__ch...</td>\n",
       "      <td>div_lnc</td>\n",
       "      <td>0.869834</td>\n",
       "      <td>0.151243</td>\n",
       "      <td>-0.054568</td>\n",
       "      <td>0.214384</td>\n",
       "    </tr>\n",
       "    <tr>\n",
       "      <th>2</th>\n",
       "      <td>WILDTYPE_BUT_HAS_SNP__Antisense.flip.sense__ch...</td>\n",
       "      <td>intergenic</td>\n",
       "      <td>2.898407</td>\n",
       "      <td>0.158191</td>\n",
       "      <td>1.378850</td>\n",
       "      <td>0.118103</td>\n",
       "    </tr>\n",
       "    <tr>\n",
       "      <th>3</th>\n",
       "      <td>WILDTYPE_BUT_HAS_SNP__Antisense.flip.sense__ch...</td>\n",
       "      <td>intergenic</td>\n",
       "      <td>2.161890</td>\n",
       "      <td>0.140302</td>\n",
       "      <td>0.130581</td>\n",
       "      <td>0.269957</td>\n",
       "    </tr>\n",
       "    <tr>\n",
       "      <th>4</th>\n",
       "      <td>WILDTYPE_BUT_HAS_SNP__Antisense.flip.sense__ch...</td>\n",
       "      <td>div_lnc</td>\n",
       "      <td>1.070710</td>\n",
       "      <td>0.292028</td>\n",
       "      <td>3.046316</td>\n",
       "      <td>0.085757</td>\n",
       "    </tr>\n",
       "  </tbody>\n",
       "</table>\n",
       "</div>"
      ],
      "text/plain": [
       "                                           unique_id   PromType2  cage_activ  \\\n",
       "0  WILDTYPE_BUT_HAS_SNP__Antisense.flip.sense__ch...  intergenic    1.810702   \n",
       "1  WILDTYPE_BUT_HAS_SNP__Antisense.flip.sense__ch...     div_lnc    0.869834   \n",
       "2  WILDTYPE_BUT_HAS_SNP__Antisense.flip.sense__ch...  intergenic    2.898407   \n",
       "3  WILDTYPE_BUT_HAS_SNP__Antisense.flip.sense__ch...  intergenic    2.161890   \n",
       "4  WILDTYPE_BUT_HAS_SNP__Antisense.flip.sense__ch...     div_lnc    1.070710   \n",
       "\n",
       "    cage_ts  mpra_activ   mpra_ts  \n",
       "0  0.665068    1.400056  0.142230  \n",
       "1  0.151243   -0.054568  0.214384  \n",
       "2  0.158191    1.378850  0.118103  \n",
       "3  0.140302    0.130581  0.269957  \n",
       "4  0.292028    3.046316  0.085757  "
      ]
     },
     "execution_count": 17,
     "metadata": {},
     "output_type": "execute_result"
    }
   ],
   "source": [
    "cage_v_mpra = pd.read_table(cage_v_mpra_f, sep=\"\\t\")\n",
    "cage_v_mpra.head()"
   ]
  },
  {
   "cell_type": "markdown",
   "metadata": {},
   "source": [
    "## 2. find avg specificity per tile"
   ]
  },
  {
   "cell_type": "code",
   "execution_count": 18,
   "metadata": {},
   "outputs": [
    {
     "data": {
      "text/html": [
       "<div>\n",
       "<style>\n",
       "    .dataframe thead tr:only-child th {\n",
       "        text-align: right;\n",
       "    }\n",
       "\n",
       "    .dataframe thead th {\n",
       "        text-align: left;\n",
       "    }\n",
       "\n",
       "    .dataframe tbody tr th {\n",
       "        vertical-align: top;\n",
       "    }\n",
       "</style>\n",
       "<table border=\"1\" class=\"dataframe\">\n",
       "  <thead>\n",
       "    <tr style=\"text-align: right;\">\n",
       "      <th></th>\n",
       "      <th>motif</th>\n",
       "      <th>unique_id</th>\n",
       "      <th>start</th>\n",
       "      <th>end</th>\n",
       "      <th>strand</th>\n",
       "      <th>score</th>\n",
       "      <th>pval</th>\n",
       "      <th>qval</th>\n",
       "      <th>seq</th>\n",
       "      <th>tf</th>\n",
       "      <th>tissue_sp_all</th>\n",
       "      <th>tissue_sp_3</th>\n",
       "      <th>K562_exp</th>\n",
       "      <th>HeLa_exp</th>\n",
       "      <th>HepG2_exp</th>\n",
       "    </tr>\n",
       "  </thead>\n",
       "  <tbody>\n",
       "    <tr>\n",
       "      <th>0</th>\n",
       "      <td>ZNF263</td>\n",
       "      <td>WILDTYPE_SNP_INDIV__Antisense.noflip.NA__chr9:...</td>\n",
       "      <td>60</td>\n",
       "      <td>80</td>\n",
       "      <td>-</td>\n",
       "      <td>29.2449</td>\n",
       "      <td>9.790000e-13</td>\n",
       "      <td>2.160000e-07</td>\n",
       "      <td>GGAGGAGGAGGAGGAGGGGGA</td>\n",
       "      <td>ZNF263</td>\n",
       "      <td>0.791717</td>\n",
       "      <td>0.196541</td>\n",
       "      <td>9.773098</td>\n",
       "      <td>15.522255</td>\n",
       "      <td>12.119118</td>\n",
       "    </tr>\n",
       "    <tr>\n",
       "      <th>1</th>\n",
       "      <td>ZNF263</td>\n",
       "      <td>WILDTYPE_BUT_HAS_SNP__Antisense.noflip.NA__chr...</td>\n",
       "      <td>60</td>\n",
       "      <td>80</td>\n",
       "      <td>-</td>\n",
       "      <td>29.2449</td>\n",
       "      <td>9.790000e-13</td>\n",
       "      <td>2.160000e-07</td>\n",
       "      <td>GGAGGAGGAGGAGGAGGGGGA</td>\n",
       "      <td>ZNF263</td>\n",
       "      <td>0.791717</td>\n",
       "      <td>0.196541</td>\n",
       "      <td>9.773098</td>\n",
       "      <td>15.522255</td>\n",
       "      <td>12.119118</td>\n",
       "    </tr>\n",
       "    <tr>\n",
       "      <th>2</th>\n",
       "      <td>ZNF263</td>\n",
       "      <td>WILDTYPE_BUT_HAS_SNP__Antisense.noflip.NA__chr...</td>\n",
       "      <td>57</td>\n",
       "      <td>77</td>\n",
       "      <td>-</td>\n",
       "      <td>29.0000</td>\n",
       "      <td>1.740000e-12</td>\n",
       "      <td>2.160000e-07</td>\n",
       "      <td>GGAGGAGGAGGAGGGGGAGGA</td>\n",
       "      <td>ZNF263</td>\n",
       "      <td>0.791717</td>\n",
       "      <td>0.196541</td>\n",
       "      <td>9.773098</td>\n",
       "      <td>15.522255</td>\n",
       "      <td>12.119118</td>\n",
       "    </tr>\n",
       "    <tr>\n",
       "      <th>3</th>\n",
       "      <td>ZNF263</td>\n",
       "      <td>WILDTYPE_SNP_INDIV__Antisense.noflip.NA__chr9:...</td>\n",
       "      <td>57</td>\n",
       "      <td>77</td>\n",
       "      <td>-</td>\n",
       "      <td>29.0000</td>\n",
       "      <td>1.740000e-12</td>\n",
       "      <td>2.160000e-07</td>\n",
       "      <td>GGAGGAGGAGGAGGGGGAGGA</td>\n",
       "      <td>ZNF263</td>\n",
       "      <td>0.791717</td>\n",
       "      <td>0.196541</td>\n",
       "      <td>9.773098</td>\n",
       "      <td>15.522255</td>\n",
       "      <td>12.119118</td>\n",
       "    </tr>\n",
       "    <tr>\n",
       "      <th>4</th>\n",
       "      <td>ZNF263</td>\n",
       "      <td>FLIPPED__Enhancer.flip.antisense__chr19:185263...</td>\n",
       "      <td>32</td>\n",
       "      <td>52</td>\n",
       "      <td>+</td>\n",
       "      <td>28.7347</td>\n",
       "      <td>2.680000e-12</td>\n",
       "      <td>2.160000e-07</td>\n",
       "      <td>GGAGGAGGAAGAGGAGGAGGG</td>\n",
       "      <td>ZNF263</td>\n",
       "      <td>0.791717</td>\n",
       "      <td>0.196541</td>\n",
       "      <td>9.773098</td>\n",
       "      <td>15.522255</td>\n",
       "      <td>12.119118</td>\n",
       "    </tr>\n",
       "  </tbody>\n",
       "</table>\n",
       "</div>"
      ],
      "text/plain": [
       "    motif                                          unique_id  start  end  \\\n",
       "0  ZNF263  WILDTYPE_SNP_INDIV__Antisense.noflip.NA__chr9:...     60   80   \n",
       "1  ZNF263  WILDTYPE_BUT_HAS_SNP__Antisense.noflip.NA__chr...     60   80   \n",
       "2  ZNF263  WILDTYPE_BUT_HAS_SNP__Antisense.noflip.NA__chr...     57   77   \n",
       "3  ZNF263  WILDTYPE_SNP_INDIV__Antisense.noflip.NA__chr9:...     57   77   \n",
       "4  ZNF263  FLIPPED__Enhancer.flip.antisense__chr19:185263...     32   52   \n",
       "\n",
       "  strand    score          pval          qval                    seq      tf  \\\n",
       "0      -  29.2449  9.790000e-13  2.160000e-07  GGAGGAGGAGGAGGAGGGGGA  ZNF263   \n",
       "1      -  29.2449  9.790000e-13  2.160000e-07  GGAGGAGGAGGAGGAGGGGGA  ZNF263   \n",
       "2      -  29.0000  1.740000e-12  2.160000e-07  GGAGGAGGAGGAGGGGGAGGA  ZNF263   \n",
       "3      -  29.0000  1.740000e-12  2.160000e-07  GGAGGAGGAGGAGGGGGAGGA  ZNF263   \n",
       "4      +  28.7347  2.680000e-12  2.160000e-07  GGAGGAGGAAGAGGAGGAGGG  ZNF263   \n",
       "\n",
       "   tissue_sp_all  tissue_sp_3  K562_exp   HeLa_exp  HepG2_exp  \n",
       "0       0.791717     0.196541  9.773098  15.522255  12.119118  \n",
       "1       0.791717     0.196541  9.773098  15.522255  12.119118  \n",
       "2       0.791717     0.196541  9.773098  15.522255  12.119118  \n",
       "3       0.791717     0.196541  9.773098  15.522255  12.119118  \n",
       "4       0.791717     0.196541  9.773098  15.522255  12.119118  "
      ]
     },
     "execution_count": 18,
     "metadata": {},
     "output_type": "execute_result"
    }
   ],
   "source": [
    "fimo[\"motif\"] = fimo[\"motif\"].str.upper()\n",
    "fimo = fimo.merge(tf_ts, left_on=\"motif\", right_on=\"tf\", how=\"left\")\n",
    "fimo.head()"
   ]
  },
  {
   "cell_type": "code",
   "execution_count": 19,
   "metadata": {},
   "outputs": [
    {
     "data": {
      "text/html": [
       "<div>\n",
       "<style>\n",
       "    .dataframe thead tr:only-child th {\n",
       "        text-align: right;\n",
       "    }\n",
       "\n",
       "    .dataframe thead th {\n",
       "        text-align: left;\n",
       "    }\n",
       "\n",
       "    .dataframe tbody tr th {\n",
       "        vertical-align: top;\n",
       "    }\n",
       "</style>\n",
       "<table border=\"1\" class=\"dataframe\">\n",
       "  <thead>\n",
       "    <tr style=\"text-align: right;\">\n",
       "      <th></th>\n",
       "      <th>motif_chr</th>\n",
       "      <th>motif_start</th>\n",
       "      <th>motif_end</th>\n",
       "      <th>motif</th>\n",
       "      <th>motif_score</th>\n",
       "      <th>motif_strand</th>\n",
       "      <th>tss_chr</th>\n",
       "      <th>tss_start</th>\n",
       "      <th>tss_end</th>\n",
       "      <th>tss_info</th>\n",
       "      <th>...</th>\n",
       "      <th>oligo_reg_y</th>\n",
       "      <th>enhancer_id</th>\n",
       "      <th>oligo_reg</th>\n",
       "      <th>unique_id</th>\n",
       "      <th>tf</th>\n",
       "      <th>tissue_sp_all</th>\n",
       "      <th>tissue_sp_3</th>\n",
       "      <th>K562_exp</th>\n",
       "      <th>HeLa_exp</th>\n",
       "      <th>HepG2_exp</th>\n",
       "    </tr>\n",
       "  </thead>\n",
       "  <tbody>\n",
       "    <tr>\n",
       "      <th>0</th>\n",
       "      <td>chr1</td>\n",
       "      <td>714091</td>\n",
       "      <td>714092</td>\n",
       "      <td>ATF1</td>\n",
       "      <td>11.24590</td>\n",
       "      <td>+</td>\n",
       "      <td>chr1</td>\n",
       "      <td>713977</td>\n",
       "      <td>714092</td>\n",
       "      <td>intergenic__p1@ENST00000428504,p1@uc001abo.2__...</td>\n",
       "      <td>...</td>\n",
       "      <td>NaN</td>\n",
       "      <td>NaN</td>\n",
       "      <td>chr1:713977..714091,-</td>\n",
       "      <td>WILDTYPE_BUT_HAS_SNP__Lincrna.flip.sense__chr1...</td>\n",
       "      <td>ATF1</td>\n",
       "      <td>0.722831</td>\n",
       "      <td>0.304699</td>\n",
       "      <td>46.204331</td>\n",
       "      <td>66.441018</td>\n",
       "      <td>25.944232</td>\n",
       "    </tr>\n",
       "    <tr>\n",
       "      <th>1</th>\n",
       "      <td>chr1</td>\n",
       "      <td>713979</td>\n",
       "      <td>713991</td>\n",
       "      <td>E2F1</td>\n",
       "      <td>11.96720</td>\n",
       "      <td>+</td>\n",
       "      <td>chr1</td>\n",
       "      <td>713977</td>\n",
       "      <td>714092</td>\n",
       "      <td>intergenic__p1@ENST00000428504,p1@uc001abo.2__...</td>\n",
       "      <td>...</td>\n",
       "      <td>NaN</td>\n",
       "      <td>NaN</td>\n",
       "      <td>chr1:713977..714091,-</td>\n",
       "      <td>WILDTYPE_BUT_HAS_SNP__Lincrna.flip.sense__chr1...</td>\n",
       "      <td>E2F1</td>\n",
       "      <td>0.886909</td>\n",
       "      <td>0.325681</td>\n",
       "      <td>8.734665</td>\n",
       "      <td>48.370651</td>\n",
       "      <td>40.746397</td>\n",
       "    </tr>\n",
       "    <tr>\n",
       "      <th>2</th>\n",
       "      <td>chr1</td>\n",
       "      <td>714063</td>\n",
       "      <td>714076</td>\n",
       "      <td>JUN</td>\n",
       "      <td>10.02040</td>\n",
       "      <td>+</td>\n",
       "      <td>chr1</td>\n",
       "      <td>713977</td>\n",
       "      <td>714092</td>\n",
       "      <td>intergenic__p1@ENST00000428504,p1@uc001abo.2__...</td>\n",
       "      <td>...</td>\n",
       "      <td>NaN</td>\n",
       "      <td>NaN</td>\n",
       "      <td>chr1:713977..714091,-</td>\n",
       "      <td>WILDTYPE_BUT_HAS_SNP__Lincrna.flip.sense__chr1...</td>\n",
       "      <td>JUN</td>\n",
       "      <td>0.945275</td>\n",
       "      <td>0.442650</td>\n",
       "      <td>6.565028</td>\n",
       "      <td>6.670227</td>\n",
       "      <td>19.693893</td>\n",
       "    </tr>\n",
       "    <tr>\n",
       "      <th>3</th>\n",
       "      <td>chr1</td>\n",
       "      <td>713977</td>\n",
       "      <td>713988</td>\n",
       "      <td>YY1</td>\n",
       "      <td>9.98077</td>\n",
       "      <td>+</td>\n",
       "      <td>chr1</td>\n",
       "      <td>713977</td>\n",
       "      <td>714092</td>\n",
       "      <td>intergenic__p1@ENST00000428504,p1@uc001abo.2__...</td>\n",
       "      <td>...</td>\n",
       "      <td>NaN</td>\n",
       "      <td>NaN</td>\n",
       "      <td>chr1:713977..714091,-</td>\n",
       "      <td>WILDTYPE_BUT_HAS_SNP__Lincrna.flip.sense__chr1...</td>\n",
       "      <td>YY1</td>\n",
       "      <td>0.659442</td>\n",
       "      <td>0.144840</td>\n",
       "      <td>55.047128</td>\n",
       "      <td>73.832986</td>\n",
       "      <td>60.536861</td>\n",
       "    </tr>\n",
       "    <tr>\n",
       "      <th>4</th>\n",
       "      <td>chr1</td>\n",
       "      <td>53704213</td>\n",
       "      <td>53704221</td>\n",
       "      <td>ATF1</td>\n",
       "      <td>11.24590</td>\n",
       "      <td>+</td>\n",
       "      <td>chr1</td>\n",
       "      <td>53704155</td>\n",
       "      <td>53704270</td>\n",
       "      <td>div_pc__p1@MAGOH__chr1:53704157..53704219,-</td>\n",
       "      <td>...</td>\n",
       "      <td>NaN</td>\n",
       "      <td>NaN</td>\n",
       "      <td>chr1:53704155..53704269,-</td>\n",
       "      <td>WILDTYPE__mrna.flip.sense__chr1:53704155..5370...</td>\n",
       "      <td>ATF1</td>\n",
       "      <td>0.722831</td>\n",
       "      <td>0.304699</td>\n",
       "      <td>46.204331</td>\n",
       "      <td>66.441018</td>\n",
       "      <td>25.944232</td>\n",
       "    </tr>\n",
       "  </tbody>\n",
       "</table>\n",
       "<p>5 rows × 24 columns</p>\n",
       "</div>"
      ],
      "text/plain": [
       "  motif_chr  motif_start  motif_end motif  motif_score motif_strand tss_chr  \\\n",
       "0      chr1       714091     714092  ATF1     11.24590            +    chr1   \n",
       "1      chr1       713979     713991  E2F1     11.96720            +    chr1   \n",
       "2      chr1       714063     714076   JUN     10.02040            +    chr1   \n",
       "3      chr1       713977     713988   YY1      9.98077            +    chr1   \n",
       "4      chr1     53704213   53704221  ATF1     11.24590            +    chr1   \n",
       "\n",
       "   tss_start   tss_end                                           tss_info  \\\n",
       "0     713977    714092  intergenic__p1@ENST00000428504,p1@uc001abo.2__...   \n",
       "1     713977    714092  intergenic__p1@ENST00000428504,p1@uc001abo.2__...   \n",
       "2     713977    714092  intergenic__p1@ENST00000428504,p1@uc001abo.2__...   \n",
       "3     713977    714092  intergenic__p1@ENST00000428504,p1@uc001abo.2__...   \n",
       "4   53704155  53704270        div_pc__p1@MAGOH__chr1:53704157..53704219,-   \n",
       "\n",
       "     ...      oligo_reg_y enhancer_id                  oligo_reg  \\\n",
       "0    ...              NaN         NaN      chr1:713977..714091,-   \n",
       "1    ...              NaN         NaN      chr1:713977..714091,-   \n",
       "2    ...              NaN         NaN      chr1:713977..714091,-   \n",
       "3    ...              NaN         NaN      chr1:713977..714091,-   \n",
       "4    ...              NaN         NaN  chr1:53704155..53704269,-   \n",
       "\n",
       "                                           unique_id    tf tissue_sp_all  \\\n",
       "0  WILDTYPE_BUT_HAS_SNP__Lincrna.flip.sense__chr1...  ATF1      0.722831   \n",
       "1  WILDTYPE_BUT_HAS_SNP__Lincrna.flip.sense__chr1...  E2F1      0.886909   \n",
       "2  WILDTYPE_BUT_HAS_SNP__Lincrna.flip.sense__chr1...   JUN      0.945275   \n",
       "3  WILDTYPE_BUT_HAS_SNP__Lincrna.flip.sense__chr1...   YY1      0.659442   \n",
       "4  WILDTYPE__mrna.flip.sense__chr1:53704155..5370...  ATF1      0.722831   \n",
       "\n",
       "  tissue_sp_3   K562_exp   HeLa_exp  HepG2_exp  \n",
       "0    0.304699  46.204331  66.441018  25.944232  \n",
       "1    0.325681   8.734665  48.370651  40.746397  \n",
       "2    0.442650   6.565028   6.670227  19.693893  \n",
       "3    0.144840  55.047128  73.832986  60.536861  \n",
       "4    0.304699  46.204331  66.441018  25.944232  \n",
       "\n",
       "[5 rows x 24 columns]"
      ]
     },
     "execution_count": 19,
     "metadata": {},
     "output_type": "execute_result"
    }
   ],
   "source": [
    "fimo_chip[\"motif\"] = fimo_chip[\"motif\"].str.upper()\n",
    "fimo_chip = fimo_chip.merge(tf_ts, left_on=\"motif\", right_on=\"tf\", how=\"left\")\n",
    "fimo_chip.head()"
   ]
  },
  {
   "cell_type": "code",
   "execution_count": 20,
   "metadata": {},
   "outputs": [
    {
     "data": {
      "text/plain": [
       "121996"
      ]
     },
     "execution_count": 20,
     "metadata": {},
     "output_type": "execute_result"
    }
   ],
   "source": [
    "len(fimo)"
   ]
  },
  {
   "cell_type": "code",
   "execution_count": 21,
   "metadata": {},
   "outputs": [
    {
     "data": {
      "text/plain": [
       "3346"
      ]
     },
     "execution_count": 21,
     "metadata": {},
     "output_type": "execute_result"
    }
   ],
   "source": [
    "len(fimo_chip)"
   ]
  },
  {
   "cell_type": "code",
   "execution_count": 22,
   "metadata": {},
   "outputs": [
    {
     "data": {
      "text/plain": [
       "95675"
      ]
     },
     "execution_count": 22,
     "metadata": {},
     "output_type": "execute_result"
    }
   ],
   "source": [
    "fimo_nonan = fimo[~pd.isnull(fimo[\"tissue_sp_3\"])]\n",
    "len(fimo_nonan)"
   ]
  },
  {
   "cell_type": "code",
   "execution_count": 23,
   "metadata": {},
   "outputs": [
    {
     "data": {
      "text/plain": [
       "3290"
      ]
     },
     "execution_count": 23,
     "metadata": {},
     "output_type": "execute_result"
    }
   ],
   "source": [
    "fimo_chip_nonan = fimo_chip[~pd.isnull(fimo_chip[\"tissue_sp_3\"])]\n",
    "len(fimo_chip_nonan)"
   ]
  },
  {
   "cell_type": "code",
   "execution_count": 24,
   "metadata": {},
   "outputs": [
    {
     "data": {
      "text/plain": [
       "68981"
      ]
     },
     "execution_count": 24,
     "metadata": {},
     "output_type": "execute_result"
    }
   ],
   "source": [
    "fimo_deduped = fimo_nonan.drop_duplicates(subset=[\"motif\", \"unique_id\"])\n",
    "len(fimo_deduped)"
   ]
  },
  {
   "cell_type": "code",
   "execution_count": 25,
   "metadata": {},
   "outputs": [
    {
     "data": {
      "text/plain": [
       "3249"
      ]
     },
     "execution_count": 25,
     "metadata": {},
     "output_type": "execute_result"
    }
   ],
   "source": [
    "fimo_chip_deduped = fimo_chip_nonan.drop_duplicates(subset=[\"motif\", \"unique_id\"])\n",
    "len(fimo_chip_deduped)"
   ]
  },
  {
   "cell_type": "code",
   "execution_count": 26,
   "metadata": {},
   "outputs": [
    {
     "data": {
      "text/html": [
       "<div>\n",
       "<style>\n",
       "    .dataframe thead tr:only-child th {\n",
       "        text-align: right;\n",
       "    }\n",
       "\n",
       "    .dataframe thead th {\n",
       "        text-align: left;\n",
       "    }\n",
       "\n",
       "    .dataframe tbody tr th {\n",
       "        vertical-align: top;\n",
       "    }\n",
       "</style>\n",
       "<table border=\"1\" class=\"dataframe\">\n",
       "  <thead>\n",
       "    <tr style=\"text-align: right;\">\n",
       "      <th></th>\n",
       "      <th>unique_id</th>\n",
       "      <th>avg_tf_tissue_sp</th>\n",
       "    </tr>\n",
       "  </thead>\n",
       "  <tbody>\n",
       "    <tr>\n",
       "      <th>0</th>\n",
       "      <td>CONTROL_BUT_HAS_SNP__control.flip.sense__chr11...</td>\n",
       "      <td>0.304391</td>\n",
       "    </tr>\n",
       "    <tr>\n",
       "      <th>1</th>\n",
       "      <td>CONTROL_BUT_HAS_SNP__control.flip.sense__chr16...</td>\n",
       "      <td>0.409446</td>\n",
       "    </tr>\n",
       "    <tr>\n",
       "      <th>2</th>\n",
       "      <td>CONTROL_BUT_HAS_SNP__control.flip.sense__chr17...</td>\n",
       "      <td>0.384379</td>\n",
       "    </tr>\n",
       "    <tr>\n",
       "      <th>3</th>\n",
       "      <td>CONTROL_BUT_HAS_SNP__control.flip.sense__chr17...</td>\n",
       "      <td>0.388853</td>\n",
       "    </tr>\n",
       "    <tr>\n",
       "      <th>4</th>\n",
       "      <td>CONTROL_BUT_HAS_SNP__control.flip.sense__chr1:...</td>\n",
       "      <td>0.411511</td>\n",
       "    </tr>\n",
       "  </tbody>\n",
       "</table>\n",
       "</div>"
      ],
      "text/plain": [
       "                                           unique_id  avg_tf_tissue_sp\n",
       "0  CONTROL_BUT_HAS_SNP__control.flip.sense__chr11...          0.304391\n",
       "1  CONTROL_BUT_HAS_SNP__control.flip.sense__chr16...          0.409446\n",
       "2  CONTROL_BUT_HAS_SNP__control.flip.sense__chr17...          0.384379\n",
       "3  CONTROL_BUT_HAS_SNP__control.flip.sense__chr17...          0.388853\n",
       "4  CONTROL_BUT_HAS_SNP__control.flip.sense__chr1:...          0.411511"
      ]
     },
     "execution_count": 26,
     "metadata": {},
     "output_type": "execute_result"
    }
   ],
   "source": [
    "avg_sp_fimo = fimo_deduped.groupby([\"unique_id\"])[\"tissue_sp_3\"].agg(\"mean\").reset_index()\n",
    "avg_sp_fimo.columns = [\"unique_id\", \"avg_tf_tissue_sp\"]\n",
    "avg_sp_fimo.head()"
   ]
  },
  {
   "cell_type": "code",
   "execution_count": 27,
   "metadata": {},
   "outputs": [
    {
     "data": {
      "text/html": [
       "<div>\n",
       "<style>\n",
       "    .dataframe thead tr:only-child th {\n",
       "        text-align: right;\n",
       "    }\n",
       "\n",
       "    .dataframe thead th {\n",
       "        text-align: left;\n",
       "    }\n",
       "\n",
       "    .dataframe tbody tr th {\n",
       "        vertical-align: top;\n",
       "    }\n",
       "</style>\n",
       "<table border=\"1\" class=\"dataframe\">\n",
       "  <thead>\n",
       "    <tr style=\"text-align: right;\">\n",
       "      <th></th>\n",
       "      <th>unique_id</th>\n",
       "      <th>avg_tf_tissue_sp</th>\n",
       "    </tr>\n",
       "  </thead>\n",
       "  <tbody>\n",
       "    <tr>\n",
       "      <th>0</th>\n",
       "      <td>WILDTYPE_BUT_HAS_SNP__Antisense.flip.sense__ch...</td>\n",
       "      <td>0.264009</td>\n",
       "    </tr>\n",
       "    <tr>\n",
       "      <th>1</th>\n",
       "      <td>WILDTYPE_BUT_HAS_SNP__Antisense.flip.sense__ch...</td>\n",
       "      <td>0.343763</td>\n",
       "    </tr>\n",
       "    <tr>\n",
       "      <th>2</th>\n",
       "      <td>WILDTYPE_BUT_HAS_SNP__Antisense.flip.sense__ch...</td>\n",
       "      <td>0.162771</td>\n",
       "    </tr>\n",
       "    <tr>\n",
       "      <th>3</th>\n",
       "      <td>WILDTYPE_BUT_HAS_SNP__Antisense.flip.sense__ch...</td>\n",
       "      <td>0.327722</td>\n",
       "    </tr>\n",
       "    <tr>\n",
       "      <th>4</th>\n",
       "      <td>WILDTYPE_BUT_HAS_SNP__Antisense.flip.sense__ch...</td>\n",
       "      <td>0.367769</td>\n",
       "    </tr>\n",
       "  </tbody>\n",
       "</table>\n",
       "</div>"
      ],
      "text/plain": [
       "                                           unique_id  avg_tf_tissue_sp\n",
       "0  WILDTYPE_BUT_HAS_SNP__Antisense.flip.sense__ch...          0.264009\n",
       "1  WILDTYPE_BUT_HAS_SNP__Antisense.flip.sense__ch...          0.343763\n",
       "2  WILDTYPE_BUT_HAS_SNP__Antisense.flip.sense__ch...          0.162771\n",
       "3  WILDTYPE_BUT_HAS_SNP__Antisense.flip.sense__ch...          0.327722\n",
       "4  WILDTYPE_BUT_HAS_SNP__Antisense.flip.sense__ch...          0.367769"
      ]
     },
     "execution_count": 27,
     "metadata": {},
     "output_type": "execute_result"
    }
   ],
   "source": [
    "avg_sp_fimo_chip = fimo_chip_deduped.groupby([\"unique_id\"])[\"tissue_sp_3\"].agg(\"mean\").reset_index()\n",
    "avg_sp_fimo_chip.columns = [\"unique_id\", \"avg_tf_tissue_sp\"]\n",
    "avg_sp_fimo_chip.head()"
   ]
  },
  {
   "cell_type": "code",
   "execution_count": 28,
   "metadata": {},
   "outputs": [
    {
     "data": {
      "text/html": [
       "<div>\n",
       "<style>\n",
       "    .dataframe thead tr:only-child th {\n",
       "        text-align: right;\n",
       "    }\n",
       "\n",
       "    .dataframe thead th {\n",
       "        text-align: left;\n",
       "    }\n",
       "\n",
       "    .dataframe tbody tr th {\n",
       "        vertical-align: top;\n",
       "    }\n",
       "</style>\n",
       "<table border=\"1\" class=\"dataframe\">\n",
       "  <thead>\n",
       "    <tr style=\"text-align: right;\">\n",
       "      <th></th>\n",
       "      <th>unique_id</th>\n",
       "      <th>med_tf_tissue_sp</th>\n",
       "    </tr>\n",
       "  </thead>\n",
       "  <tbody>\n",
       "    <tr>\n",
       "      <th>0</th>\n",
       "      <td>CONTROL_BUT_HAS_SNP__control.flip.sense__chr11...</td>\n",
       "      <td>0.213972</td>\n",
       "    </tr>\n",
       "    <tr>\n",
       "      <th>1</th>\n",
       "      <td>CONTROL_BUT_HAS_SNP__control.flip.sense__chr16...</td>\n",
       "      <td>0.402299</td>\n",
       "    </tr>\n",
       "    <tr>\n",
       "      <th>2</th>\n",
       "      <td>CONTROL_BUT_HAS_SNP__control.flip.sense__chr17...</td>\n",
       "      <td>0.317076</td>\n",
       "    </tr>\n",
       "    <tr>\n",
       "      <th>3</th>\n",
       "      <td>CONTROL_BUT_HAS_SNP__control.flip.sense__chr17...</td>\n",
       "      <td>0.331621</td>\n",
       "    </tr>\n",
       "    <tr>\n",
       "      <th>4</th>\n",
       "      <td>CONTROL_BUT_HAS_SNP__control.flip.sense__chr1:...</td>\n",
       "      <td>0.324284</td>\n",
       "    </tr>\n",
       "  </tbody>\n",
       "</table>\n",
       "</div>"
      ],
      "text/plain": [
       "                                           unique_id  med_tf_tissue_sp\n",
       "0  CONTROL_BUT_HAS_SNP__control.flip.sense__chr11...          0.213972\n",
       "1  CONTROL_BUT_HAS_SNP__control.flip.sense__chr16...          0.402299\n",
       "2  CONTROL_BUT_HAS_SNP__control.flip.sense__chr17...          0.317076\n",
       "3  CONTROL_BUT_HAS_SNP__control.flip.sense__chr17...          0.331621\n",
       "4  CONTROL_BUT_HAS_SNP__control.flip.sense__chr1:...          0.324284"
      ]
     },
     "execution_count": 28,
     "metadata": {},
     "output_type": "execute_result"
    }
   ],
   "source": [
    "med_sp_fimo = fimo_deduped.groupby([\"unique_id\"])[\"tissue_sp_3\"].agg(\"median\").reset_index()\n",
    "med_sp_fimo.columns = [\"unique_id\", \"med_tf_tissue_sp\"]\n",
    "med_sp_fimo.head()"
   ]
  },
  {
   "cell_type": "code",
   "execution_count": 29,
   "metadata": {},
   "outputs": [
    {
     "data": {
      "text/html": [
       "<div>\n",
       "<style>\n",
       "    .dataframe thead tr:only-child th {\n",
       "        text-align: right;\n",
       "    }\n",
       "\n",
       "    .dataframe thead th {\n",
       "        text-align: left;\n",
       "    }\n",
       "\n",
       "    .dataframe tbody tr th {\n",
       "        vertical-align: top;\n",
       "    }\n",
       "</style>\n",
       "<table border=\"1\" class=\"dataframe\">\n",
       "  <thead>\n",
       "    <tr style=\"text-align: right;\">\n",
       "      <th></th>\n",
       "      <th>unique_id</th>\n",
       "      <th>med_tf_tissue_sp</th>\n",
       "    </tr>\n",
       "  </thead>\n",
       "  <tbody>\n",
       "    <tr>\n",
       "      <th>0</th>\n",
       "      <td>WILDTYPE_BUT_HAS_SNP__Antisense.flip.sense__ch...</td>\n",
       "      <td>0.266032</td>\n",
       "    </tr>\n",
       "    <tr>\n",
       "      <th>1</th>\n",
       "      <td>WILDTYPE_BUT_HAS_SNP__Antisense.flip.sense__ch...</td>\n",
       "      <td>0.290029</td>\n",
       "    </tr>\n",
       "    <tr>\n",
       "      <th>2</th>\n",
       "      <td>WILDTYPE_BUT_HAS_SNP__Antisense.flip.sense__ch...</td>\n",
       "      <td>0.162771</td>\n",
       "    </tr>\n",
       "    <tr>\n",
       "      <th>3</th>\n",
       "      <td>WILDTYPE_BUT_HAS_SNP__Antisense.flip.sense__ch...</td>\n",
       "      <td>0.311208</td>\n",
       "    </tr>\n",
       "    <tr>\n",
       "      <th>4</th>\n",
       "      <td>WILDTYPE_BUT_HAS_SNP__Antisense.flip.sense__ch...</td>\n",
       "      <td>0.472201</td>\n",
       "    </tr>\n",
       "  </tbody>\n",
       "</table>\n",
       "</div>"
      ],
      "text/plain": [
       "                                           unique_id  med_tf_tissue_sp\n",
       "0  WILDTYPE_BUT_HAS_SNP__Antisense.flip.sense__ch...          0.266032\n",
       "1  WILDTYPE_BUT_HAS_SNP__Antisense.flip.sense__ch...          0.290029\n",
       "2  WILDTYPE_BUT_HAS_SNP__Antisense.flip.sense__ch...          0.162771\n",
       "3  WILDTYPE_BUT_HAS_SNP__Antisense.flip.sense__ch...          0.311208\n",
       "4  WILDTYPE_BUT_HAS_SNP__Antisense.flip.sense__ch...          0.472201"
      ]
     },
     "execution_count": 29,
     "metadata": {},
     "output_type": "execute_result"
    }
   ],
   "source": [
    "med_sp_fimo_chip = fimo_chip_deduped.groupby([\"unique_id\"])[\"tissue_sp_3\"].agg(\"median\").reset_index()\n",
    "med_sp_fimo_chip.columns = [\"unique_id\", \"med_tf_tissue_sp\"]\n",
    "med_sp_fimo_chip.head()"
   ]
  },
  {
   "cell_type": "code",
   "execution_count": 30,
   "metadata": {},
   "outputs": [
    {
     "data": {
      "text/html": [
       "<div>\n",
       "<style>\n",
       "    .dataframe thead tr:only-child th {\n",
       "        text-align: right;\n",
       "    }\n",
       "\n",
       "    .dataframe thead th {\n",
       "        text-align: left;\n",
       "    }\n",
       "\n",
       "    .dataframe tbody tr th {\n",
       "        vertical-align: top;\n",
       "    }\n",
       "</style>\n",
       "<table border=\"1\" class=\"dataframe\">\n",
       "  <thead>\n",
       "    <tr style=\"text-align: right;\">\n",
       "      <th></th>\n",
       "      <th>unique_id</th>\n",
       "      <th>avg_tf_tissue_sp</th>\n",
       "      <th>med_tf_tissue_sp</th>\n",
       "      <th>log_avg_tf_tissue_sp</th>\n",
       "      <th>log_med_tf_tissue_sp</th>\n",
       "    </tr>\n",
       "  </thead>\n",
       "  <tbody>\n",
       "    <tr>\n",
       "      <th>0</th>\n",
       "      <td>CONTROL_BUT_HAS_SNP__control.flip.sense__chr11...</td>\n",
       "      <td>0.304391</td>\n",
       "      <td>0.213972</td>\n",
       "      <td>0.265737</td>\n",
       "      <td>0.193898</td>\n",
       "    </tr>\n",
       "    <tr>\n",
       "      <th>1</th>\n",
       "      <td>CONTROL_BUT_HAS_SNP__control.flip.sense__chr16...</td>\n",
       "      <td>0.409446</td>\n",
       "      <td>0.402299</td>\n",
       "      <td>0.343196</td>\n",
       "      <td>0.338113</td>\n",
       "    </tr>\n",
       "    <tr>\n",
       "      <th>2</th>\n",
       "      <td>CONTROL_BUT_HAS_SNP__control.flip.sense__chr17...</td>\n",
       "      <td>0.384379</td>\n",
       "      <td>0.317076</td>\n",
       "      <td>0.325252</td>\n",
       "      <td>0.275414</td>\n",
       "    </tr>\n",
       "    <tr>\n",
       "      <th>3</th>\n",
       "      <td>CONTROL_BUT_HAS_SNP__control.flip.sense__chr17...</td>\n",
       "      <td>0.388853</td>\n",
       "      <td>0.331621</td>\n",
       "      <td>0.328478</td>\n",
       "      <td>0.286397</td>\n",
       "    </tr>\n",
       "    <tr>\n",
       "      <th>4</th>\n",
       "      <td>CONTROL_BUT_HAS_SNP__control.flip.sense__chr1:...</td>\n",
       "      <td>0.411511</td>\n",
       "      <td>0.324284</td>\n",
       "      <td>0.344661</td>\n",
       "      <td>0.280872</td>\n",
       "    </tr>\n",
       "  </tbody>\n",
       "</table>\n",
       "</div>"
      ],
      "text/plain": [
       "                                           unique_id  avg_tf_tissue_sp  \\\n",
       "0  CONTROL_BUT_HAS_SNP__control.flip.sense__chr11...          0.304391   \n",
       "1  CONTROL_BUT_HAS_SNP__control.flip.sense__chr16...          0.409446   \n",
       "2  CONTROL_BUT_HAS_SNP__control.flip.sense__chr17...          0.384379   \n",
       "3  CONTROL_BUT_HAS_SNP__control.flip.sense__chr17...          0.388853   \n",
       "4  CONTROL_BUT_HAS_SNP__control.flip.sense__chr1:...          0.411511   \n",
       "\n",
       "   med_tf_tissue_sp  log_avg_tf_tissue_sp  log_med_tf_tissue_sp  \n",
       "0          0.213972              0.265737              0.193898  \n",
       "1          0.402299              0.343196              0.338113  \n",
       "2          0.317076              0.325252              0.275414  \n",
       "3          0.331621              0.328478              0.286397  \n",
       "4          0.324284              0.344661              0.280872  "
      ]
     },
     "execution_count": 30,
     "metadata": {},
     "output_type": "execute_result"
    }
   ],
   "source": [
    "tissue_sp_fimo = avg_sp_fimo.merge(med_sp_fimo, on=\"unique_id\")\n",
    "tissue_sp_fimo[\"log_avg_tf_tissue_sp\"] = np.log(tissue_sp_fimo[\"avg_tf_tissue_sp\"]+1)\n",
    "tissue_sp_fimo[\"log_med_tf_tissue_sp\"] = np.log(tissue_sp_fimo[\"med_tf_tissue_sp\"]+1)\n",
    "tissue_sp_fimo.head()"
   ]
  },
  {
   "cell_type": "code",
   "execution_count": 31,
   "metadata": {},
   "outputs": [
    {
     "data": {
      "text/html": [
       "<div>\n",
       "<style>\n",
       "    .dataframe thead tr:only-child th {\n",
       "        text-align: right;\n",
       "    }\n",
       "\n",
       "    .dataframe thead th {\n",
       "        text-align: left;\n",
       "    }\n",
       "\n",
       "    .dataframe tbody tr th {\n",
       "        vertical-align: top;\n",
       "    }\n",
       "</style>\n",
       "<table border=\"1\" class=\"dataframe\">\n",
       "  <thead>\n",
       "    <tr style=\"text-align: right;\">\n",
       "      <th></th>\n",
       "      <th>unique_id</th>\n",
       "      <th>avg_tf_tissue_sp</th>\n",
       "      <th>med_tf_tissue_sp</th>\n",
       "      <th>log_avg_tf_tissue_sp</th>\n",
       "      <th>log_med_tf_tissue_sp</th>\n",
       "    </tr>\n",
       "  </thead>\n",
       "  <tbody>\n",
       "    <tr>\n",
       "      <th>0</th>\n",
       "      <td>WILDTYPE_BUT_HAS_SNP__Antisense.flip.sense__ch...</td>\n",
       "      <td>0.264009</td>\n",
       "      <td>0.266032</td>\n",
       "      <td>0.234288</td>\n",
       "      <td>0.235888</td>\n",
       "    </tr>\n",
       "    <tr>\n",
       "      <th>1</th>\n",
       "      <td>WILDTYPE_BUT_HAS_SNP__Antisense.flip.sense__ch...</td>\n",
       "      <td>0.343763</td>\n",
       "      <td>0.290029</td>\n",
       "      <td>0.295474</td>\n",
       "      <td>0.254665</td>\n",
       "    </tr>\n",
       "    <tr>\n",
       "      <th>2</th>\n",
       "      <td>WILDTYPE_BUT_HAS_SNP__Antisense.flip.sense__ch...</td>\n",
       "      <td>0.162771</td>\n",
       "      <td>0.162771</td>\n",
       "      <td>0.150806</td>\n",
       "      <td>0.150806</td>\n",
       "    </tr>\n",
       "    <tr>\n",
       "      <th>3</th>\n",
       "      <td>WILDTYPE_BUT_HAS_SNP__Antisense.flip.sense__ch...</td>\n",
       "      <td>0.327722</td>\n",
       "      <td>0.311208</td>\n",
       "      <td>0.283465</td>\n",
       "      <td>0.270949</td>\n",
       "    </tr>\n",
       "    <tr>\n",
       "      <th>4</th>\n",
       "      <td>WILDTYPE_BUT_HAS_SNP__Antisense.flip.sense__ch...</td>\n",
       "      <td>0.367769</td>\n",
       "      <td>0.472201</td>\n",
       "      <td>0.313181</td>\n",
       "      <td>0.386758</td>\n",
       "    </tr>\n",
       "  </tbody>\n",
       "</table>\n",
       "</div>"
      ],
      "text/plain": [
       "                                           unique_id  avg_tf_tissue_sp  \\\n",
       "0  WILDTYPE_BUT_HAS_SNP__Antisense.flip.sense__ch...          0.264009   \n",
       "1  WILDTYPE_BUT_HAS_SNP__Antisense.flip.sense__ch...          0.343763   \n",
       "2  WILDTYPE_BUT_HAS_SNP__Antisense.flip.sense__ch...          0.162771   \n",
       "3  WILDTYPE_BUT_HAS_SNP__Antisense.flip.sense__ch...          0.327722   \n",
       "4  WILDTYPE_BUT_HAS_SNP__Antisense.flip.sense__ch...          0.367769   \n",
       "\n",
       "   med_tf_tissue_sp  log_avg_tf_tissue_sp  log_med_tf_tissue_sp  \n",
       "0          0.266032              0.234288              0.235888  \n",
       "1          0.290029              0.295474              0.254665  \n",
       "2          0.162771              0.150806              0.150806  \n",
       "3          0.311208              0.283465              0.270949  \n",
       "4          0.472201              0.313181              0.386758  "
      ]
     },
     "execution_count": 31,
     "metadata": {},
     "output_type": "execute_result"
    }
   ],
   "source": [
    "tissue_sp_fimo_chip = avg_sp_fimo_chip.merge(med_sp_fimo_chip, on=\"unique_id\")\n",
    "tissue_sp_fimo_chip[\"log_avg_tf_tissue_sp\"] = np.log(tissue_sp_fimo_chip[\"avg_tf_tissue_sp\"]+1)\n",
    "tissue_sp_fimo_chip[\"log_med_tf_tissue_sp\"] = np.log(tissue_sp_fimo_chip[\"med_tf_tissue_sp\"]+1)\n",
    "tissue_sp_fimo_chip.head()"
   ]
  },
  {
   "cell_type": "markdown",
   "metadata": {},
   "source": [
    "## 3. find tissue specificity per tile"
   ]
  },
  {
   "cell_type": "code",
   "execution_count": 32,
   "metadata": {},
   "outputs": [
    {
     "data": {
      "text/html": [
       "<div>\n",
       "<style>\n",
       "    .dataframe thead tr:only-child th {\n",
       "        text-align: right;\n",
       "    }\n",
       "\n",
       "    .dataframe thead th {\n",
       "        text-align: left;\n",
       "    }\n",
       "\n",
       "    .dataframe tbody tr th {\n",
       "        vertical-align: top;\n",
       "    }\n",
       "</style>\n",
       "<table border=\"1\" class=\"dataframe\">\n",
       "  <thead>\n",
       "    <tr style=\"text-align: right;\">\n",
       "      <th></th>\n",
       "      <th>unique_id</th>\n",
       "      <th>PromType2</th>\n",
       "      <th>cage_activ</th>\n",
       "      <th>cage_ts</th>\n",
       "      <th>mpra_activ</th>\n",
       "      <th>mpra_ts</th>\n",
       "      <th>avg_tf_tissue_sp</th>\n",
       "      <th>med_tf_tissue_sp</th>\n",
       "      <th>log_avg_tf_tissue_sp</th>\n",
       "      <th>log_med_tf_tissue_sp</th>\n",
       "    </tr>\n",
       "  </thead>\n",
       "  <tbody>\n",
       "    <tr>\n",
       "      <th>1123</th>\n",
       "      <td>WILDTYPE__Antisense.noflip.NA__chr7:17338909.....</td>\n",
       "      <td>div_lnc</td>\n",
       "      <td>0.469256</td>\n",
       "      <td>0.464276</td>\n",
       "      <td>1.043455</td>\n",
       "      <td>0.228433</td>\n",
       "      <td>0.365025</td>\n",
       "      <td>0.331621</td>\n",
       "      <td>0.311173</td>\n",
       "      <td>0.286397</td>\n",
       "    </tr>\n",
       "    <tr>\n",
       "      <th>303</th>\n",
       "      <td>WILDTYPE_BUT_HAS_SNP__Enhancer.noflip.NA__chr5...</td>\n",
       "      <td>Enhancer</td>\n",
       "      <td>0.000000</td>\n",
       "      <td>NaN</td>\n",
       "      <td>-1.849300</td>\n",
       "      <td>0.379680</td>\n",
       "      <td>0.462496</td>\n",
       "      <td>0.472201</td>\n",
       "      <td>0.380145</td>\n",
       "      <td>0.386758</td>\n",
       "    </tr>\n",
       "    <tr>\n",
       "      <th>722</th>\n",
       "      <td>WILDTYPE_BUT_HAS_SNP__mrna.noflip.NA__chr19:82...</td>\n",
       "      <td>protein_coding</td>\n",
       "      <td>0.326128</td>\n",
       "      <td>0.639987</td>\n",
       "      <td>0.416618</td>\n",
       "      <td>0.277550</td>\n",
       "      <td>0.479642</td>\n",
       "      <td>0.559886</td>\n",
       "      <td>0.391800</td>\n",
       "      <td>0.444613</td>\n",
       "    </tr>\n",
       "    <tr>\n",
       "      <th>1098</th>\n",
       "      <td>WILDTYPE__Antisense.noflip.NA__chr4:174090228....</td>\n",
       "      <td>div_lnc</td>\n",
       "      <td>0.542112</td>\n",
       "      <td>0.334476</td>\n",
       "      <td>NaN</td>\n",
       "      <td>NaN</td>\n",
       "      <td>0.388757</td>\n",
       "      <td>0.337267</td>\n",
       "      <td>0.328409</td>\n",
       "      <td>0.290628</td>\n",
       "    </tr>\n",
       "    <tr>\n",
       "      <th>1809</th>\n",
       "      <td>WILDTYPE__mrna.flip.sense__chr1:229644039..229...</td>\n",
       "      <td>div_pc</td>\n",
       "      <td>3.705641</td>\n",
       "      <td>0.100985</td>\n",
       "      <td>3.378580</td>\n",
       "      <td>0.034470</td>\n",
       "      <td>0.343082</td>\n",
       "      <td>0.326518</td>\n",
       "      <td>0.294967</td>\n",
       "      <td>0.282557</td>\n",
       "    </tr>\n",
       "  </tbody>\n",
       "</table>\n",
       "</div>"
      ],
      "text/plain": [
       "                                              unique_id       PromType2  \\\n",
       "1123  WILDTYPE__Antisense.noflip.NA__chr7:17338909.....         div_lnc   \n",
       "303   WILDTYPE_BUT_HAS_SNP__Enhancer.noflip.NA__chr5...        Enhancer   \n",
       "722   WILDTYPE_BUT_HAS_SNP__mrna.noflip.NA__chr19:82...  protein_coding   \n",
       "1098  WILDTYPE__Antisense.noflip.NA__chr4:174090228....         div_lnc   \n",
       "1809  WILDTYPE__mrna.flip.sense__chr1:229644039..229...          div_pc   \n",
       "\n",
       "      cage_activ   cage_ts  mpra_activ   mpra_ts  avg_tf_tissue_sp  \\\n",
       "1123    0.469256  0.464276    1.043455  0.228433          0.365025   \n",
       "303     0.000000       NaN   -1.849300  0.379680          0.462496   \n",
       "722     0.326128  0.639987    0.416618  0.277550          0.479642   \n",
       "1098    0.542112  0.334476         NaN       NaN          0.388757   \n",
       "1809    3.705641  0.100985    3.378580  0.034470          0.343082   \n",
       "\n",
       "      med_tf_tissue_sp  log_avg_tf_tissue_sp  log_med_tf_tissue_sp  \n",
       "1123          0.331621              0.311173              0.286397  \n",
       "303           0.472201              0.380145              0.386758  \n",
       "722           0.559886              0.391800              0.444613  \n",
       "1098          0.337267              0.328409              0.290628  \n",
       "1809          0.326518              0.294967              0.282557  "
      ]
     },
     "execution_count": 32,
     "metadata": {},
     "output_type": "execute_result"
    }
   ],
   "source": [
    "mean_activ_fimo = cage_v_mpra.merge(tissue_sp_fimo, on=\"unique_id\")\n",
    "mean_activ_fimo.sample(5)"
   ]
  },
  {
   "cell_type": "code",
   "execution_count": 33,
   "metadata": {},
   "outputs": [
    {
     "data": {
      "text/html": [
       "<div>\n",
       "<style>\n",
       "    .dataframe thead tr:only-child th {\n",
       "        text-align: right;\n",
       "    }\n",
       "\n",
       "    .dataframe thead th {\n",
       "        text-align: left;\n",
       "    }\n",
       "\n",
       "    .dataframe tbody tr th {\n",
       "        vertical-align: top;\n",
       "    }\n",
       "</style>\n",
       "<table border=\"1\" class=\"dataframe\">\n",
       "  <thead>\n",
       "    <tr style=\"text-align: right;\">\n",
       "      <th></th>\n",
       "      <th>unique_id</th>\n",
       "      <th>n_total_motifs</th>\n",
       "      <th>n_unique_motifs</th>\n",
       "      <th>max_cov</th>\n",
       "      <th>n_bp_cov</th>\n",
       "      <th>log_n_total_motifs</th>\n",
       "      <th>log_n_unique_motifs</th>\n",
       "      <th>log_max_cov</th>\n",
       "      <th>log_n_bp_cov</th>\n",
       "    </tr>\n",
       "  </thead>\n",
       "  <tbody>\n",
       "    <tr>\n",
       "      <th>0</th>\n",
       "      <td>WILDTYPE_BUT_HAS_SNP__Antisense.flip.sense__ch...</td>\n",
       "      <td>48</td>\n",
       "      <td>35</td>\n",
       "      <td>19</td>\n",
       "      <td>83</td>\n",
       "      <td>3.871201</td>\n",
       "      <td>3.555348</td>\n",
       "      <td>2.944439</td>\n",
       "      <td>4.418841</td>\n",
       "    </tr>\n",
       "    <tr>\n",
       "      <th>1</th>\n",
       "      <td>WILDTYPE_BUT_HAS_SNP__Antisense.flip.sense__ch...</td>\n",
       "      <td>37</td>\n",
       "      <td>29</td>\n",
       "      <td>16</td>\n",
       "      <td>84</td>\n",
       "      <td>3.610918</td>\n",
       "      <td>3.367296</td>\n",
       "      <td>2.772589</td>\n",
       "      <td>4.430817</td>\n",
       "    </tr>\n",
       "    <tr>\n",
       "      <th>2</th>\n",
       "      <td>WILDTYPE_BUT_HAS_SNP__Antisense.flip.sense__ch...</td>\n",
       "      <td>10</td>\n",
       "      <td>8</td>\n",
       "      <td>3</td>\n",
       "      <td>77</td>\n",
       "      <td>2.302585</td>\n",
       "      <td>2.079442</td>\n",
       "      <td>1.098612</td>\n",
       "      <td>4.343805</td>\n",
       "    </tr>\n",
       "    <tr>\n",
       "      <th>3</th>\n",
       "      <td>WILDTYPE_BUT_HAS_SNP__Antisense.flip.sense__ch...</td>\n",
       "      <td>12</td>\n",
       "      <td>8</td>\n",
       "      <td>5</td>\n",
       "      <td>54</td>\n",
       "      <td>2.484907</td>\n",
       "      <td>2.079442</td>\n",
       "      <td>1.609438</td>\n",
       "      <td>3.988984</td>\n",
       "    </tr>\n",
       "    <tr>\n",
       "      <th>4</th>\n",
       "      <td>WILDTYPE_BUT_HAS_SNP__Antisense.flip.sense__ch...</td>\n",
       "      <td>37</td>\n",
       "      <td>31</td>\n",
       "      <td>22</td>\n",
       "      <td>80</td>\n",
       "      <td>3.610918</td>\n",
       "      <td>3.433987</td>\n",
       "      <td>3.091042</td>\n",
       "      <td>4.382027</td>\n",
       "    </tr>\n",
       "  </tbody>\n",
       "</table>\n",
       "</div>"
      ],
      "text/plain": [
       "                                           unique_id  n_total_motifs  \\\n",
       "0  WILDTYPE_BUT_HAS_SNP__Antisense.flip.sense__ch...              48   \n",
       "1  WILDTYPE_BUT_HAS_SNP__Antisense.flip.sense__ch...              37   \n",
       "2  WILDTYPE_BUT_HAS_SNP__Antisense.flip.sense__ch...              10   \n",
       "3  WILDTYPE_BUT_HAS_SNP__Antisense.flip.sense__ch...              12   \n",
       "4  WILDTYPE_BUT_HAS_SNP__Antisense.flip.sense__ch...              37   \n",
       "\n",
       "   n_unique_motifs  max_cov  n_bp_cov  log_n_total_motifs  \\\n",
       "0               35       19        83            3.871201   \n",
       "1               29       16        84            3.610918   \n",
       "2                8        3        77            2.302585   \n",
       "3                8        5        54            2.484907   \n",
       "4               31       22        80            3.610918   \n",
       "\n",
       "   log_n_unique_motifs  log_max_cov  log_n_bp_cov  \n",
       "0             3.555348     2.944439      4.418841  \n",
       "1             3.367296     2.772589      4.430817  \n",
       "2             2.079442     1.098612      4.343805  \n",
       "3             2.079442     1.609438      3.988984  \n",
       "4             3.433987     3.091042      4.382027  "
      ]
     },
     "execution_count": 33,
     "metadata": {},
     "output_type": "execute_result"
    }
   ],
   "source": [
    "fimo_cov.head()"
   ]
  },
  {
   "cell_type": "code",
   "execution_count": 34,
   "metadata": {},
   "outputs": [
    {
     "data": {
      "text/html": [
       "<div>\n",
       "<style>\n",
       "    .dataframe thead tr:only-child th {\n",
       "        text-align: right;\n",
       "    }\n",
       "\n",
       "    .dataframe thead th {\n",
       "        text-align: left;\n",
       "    }\n",
       "\n",
       "    .dataframe tbody tr th {\n",
       "        vertical-align: top;\n",
       "    }\n",
       "</style>\n",
       "<table border=\"1\" class=\"dataframe\">\n",
       "  <thead>\n",
       "    <tr style=\"text-align: right;\">\n",
       "      <th></th>\n",
       "      <th>unique_id</th>\n",
       "      <th>PromType2</th>\n",
       "      <th>cage_activ</th>\n",
       "      <th>cage_ts</th>\n",
       "      <th>mpra_activ</th>\n",
       "      <th>mpra_ts</th>\n",
       "      <th>avg_tf_tissue_sp</th>\n",
       "      <th>med_tf_tissue_sp</th>\n",
       "      <th>log_avg_tf_tissue_sp</th>\n",
       "      <th>log_med_tf_tissue_sp</th>\n",
       "      <th>n_total_motifs</th>\n",
       "      <th>n_unique_motifs</th>\n",
       "      <th>max_cov</th>\n",
       "      <th>n_bp_cov</th>\n",
       "      <th>log_n_total_motifs</th>\n",
       "      <th>log_n_unique_motifs</th>\n",
       "      <th>log_max_cov</th>\n",
       "      <th>log_n_bp_cov</th>\n",
       "    </tr>\n",
       "  </thead>\n",
       "  <tbody>\n",
       "    <tr>\n",
       "      <th>210</th>\n",
       "      <td>WILDTYPE_BUT_HAS_SNP__Enhancer.noflip.NA__chr1...</td>\n",
       "      <td>Enhancer</td>\n",
       "      <td>0.302206</td>\n",
       "      <td>0.627882</td>\n",
       "      <td>0.344572</td>\n",
       "      <td>0.357419</td>\n",
       "      <td>0.425481</td>\n",
       "      <td>0.418523</td>\n",
       "      <td>0.354509</td>\n",
       "      <td>0.349616</td>\n",
       "      <td>27</td>\n",
       "      <td>24</td>\n",
       "      <td>19</td>\n",
       "      <td>76</td>\n",
       "      <td>3.295837</td>\n",
       "      <td>3.178054</td>\n",
       "      <td>2.944439</td>\n",
       "      <td>4.330733</td>\n",
       "    </tr>\n",
       "    <tr>\n",
       "      <th>349</th>\n",
       "      <td>WILDTYPE_BUT_HAS_SNP__Enhancer.noflip.NA__chrX...</td>\n",
       "      <td>Enhancer</td>\n",
       "      <td>0.000000</td>\n",
       "      <td>NaN</td>\n",
       "      <td>-1.508756</td>\n",
       "      <td>0.161487</td>\n",
       "      <td>0.387294</td>\n",
       "      <td>0.381729</td>\n",
       "      <td>0.327355</td>\n",
       "      <td>0.323335</td>\n",
       "      <td>18</td>\n",
       "      <td>13</td>\n",
       "      <td>13</td>\n",
       "      <td>89</td>\n",
       "      <td>2.890372</td>\n",
       "      <td>2.564949</td>\n",
       "      <td>2.564949</td>\n",
       "      <td>4.488636</td>\n",
       "    </tr>\n",
       "    <tr>\n",
       "      <th>845</th>\n",
       "      <td>WILDTYPE_BUT_HAS_SNP__mrna.noflip.NA__chr4:159...</td>\n",
       "      <td>protein_coding</td>\n",
       "      <td>0.009034</td>\n",
       "      <td>0.666667</td>\n",
       "      <td>-2.011963</td>\n",
       "      <td>0.323071</td>\n",
       "      <td>0.509410</td>\n",
       "      <td>0.571476</td>\n",
       "      <td>0.411719</td>\n",
       "      <td>0.452015</td>\n",
       "      <td>8</td>\n",
       "      <td>8</td>\n",
       "      <td>6</td>\n",
       "      <td>34</td>\n",
       "      <td>2.079442</td>\n",
       "      <td>2.079442</td>\n",
       "      <td>1.791759</td>\n",
       "      <td>3.526361</td>\n",
       "    </tr>\n",
       "    <tr>\n",
       "      <th>715</th>\n",
       "      <td>WILDTYPE_BUT_HAS_SNP__mrna.noflip.NA__chr19:45...</td>\n",
       "      <td>protein_coding</td>\n",
       "      <td>1.667926</td>\n",
       "      <td>0.666667</td>\n",
       "      <td>-0.334950</td>\n",
       "      <td>0.282511</td>\n",
       "      <td>0.428157</td>\n",
       "      <td>0.408607</td>\n",
       "      <td>0.356385</td>\n",
       "      <td>0.342601</td>\n",
       "      <td>28</td>\n",
       "      <td>27</td>\n",
       "      <td>18</td>\n",
       "      <td>52</td>\n",
       "      <td>3.332205</td>\n",
       "      <td>3.295837</td>\n",
       "      <td>2.890372</td>\n",
       "      <td>3.951244</td>\n",
       "    </tr>\n",
       "    <tr>\n",
       "      <th>120</th>\n",
       "      <td>WILDTYPE_BUT_HAS_SNP__Antisense.noflip.NA__chr...</td>\n",
       "      <td>div_lnc</td>\n",
       "      <td>0.000000</td>\n",
       "      <td>NaN</td>\n",
       "      <td>-2.121316</td>\n",
       "      <td>0.328832</td>\n",
       "      <td>0.462174</td>\n",
       "      <td>0.599567</td>\n",
       "      <td>0.379924</td>\n",
       "      <td>0.469733</td>\n",
       "      <td>11</td>\n",
       "      <td>11</td>\n",
       "      <td>5</td>\n",
       "      <td>45</td>\n",
       "      <td>2.397895</td>\n",
       "      <td>2.397895</td>\n",
       "      <td>1.609438</td>\n",
       "      <td>3.806662</td>\n",
       "    </tr>\n",
       "  </tbody>\n",
       "</table>\n",
       "</div>"
      ],
      "text/plain": [
       "                                             unique_id       PromType2  \\\n",
       "210  WILDTYPE_BUT_HAS_SNP__Enhancer.noflip.NA__chr1...        Enhancer   \n",
       "349  WILDTYPE_BUT_HAS_SNP__Enhancer.noflip.NA__chrX...        Enhancer   \n",
       "845  WILDTYPE_BUT_HAS_SNP__mrna.noflip.NA__chr4:159...  protein_coding   \n",
       "715  WILDTYPE_BUT_HAS_SNP__mrna.noflip.NA__chr19:45...  protein_coding   \n",
       "120  WILDTYPE_BUT_HAS_SNP__Antisense.noflip.NA__chr...         div_lnc   \n",
       "\n",
       "     cage_activ   cage_ts  mpra_activ   mpra_ts  avg_tf_tissue_sp  \\\n",
       "210    0.302206  0.627882    0.344572  0.357419          0.425481   \n",
       "349    0.000000       NaN   -1.508756  0.161487          0.387294   \n",
       "845    0.009034  0.666667   -2.011963  0.323071          0.509410   \n",
       "715    1.667926  0.666667   -0.334950  0.282511          0.428157   \n",
       "120    0.000000       NaN   -2.121316  0.328832          0.462174   \n",
       "\n",
       "     med_tf_tissue_sp  log_avg_tf_tissue_sp  log_med_tf_tissue_sp  \\\n",
       "210          0.418523              0.354509              0.349616   \n",
       "349          0.381729              0.327355              0.323335   \n",
       "845          0.571476              0.411719              0.452015   \n",
       "715          0.408607              0.356385              0.342601   \n",
       "120          0.599567              0.379924              0.469733   \n",
       "\n",
       "     n_total_motifs  n_unique_motifs  max_cov  n_bp_cov  log_n_total_motifs  \\\n",
       "210              27               24       19        76            3.295837   \n",
       "349              18               13       13        89            2.890372   \n",
       "845               8                8        6        34            2.079442   \n",
       "715              28               27       18        52            3.332205   \n",
       "120              11               11        5        45            2.397895   \n",
       "\n",
       "     log_n_unique_motifs  log_max_cov  log_n_bp_cov  \n",
       "210             3.178054     2.944439      4.330733  \n",
       "349             2.564949     2.564949      4.488636  \n",
       "845             2.079442     1.791759      3.526361  \n",
       "715             3.295837     2.890372      3.951244  \n",
       "120             2.397895     1.609438      3.806662  "
      ]
     },
     "execution_count": 34,
     "metadata": {},
     "output_type": "execute_result"
    }
   ],
   "source": [
    "mean_activ_fimo = mean_activ_fimo.merge(fimo_cov, on=\"unique_id\")\n",
    "mean_activ_fimo.sample(5)"
   ]
  },
  {
   "cell_type": "code",
   "execution_count": 35,
   "metadata": {},
   "outputs": [
    {
     "data": {
      "text/html": [
       "<div>\n",
       "<style>\n",
       "    .dataframe thead tr:only-child th {\n",
       "        text-align: right;\n",
       "    }\n",
       "\n",
       "    .dataframe thead th {\n",
       "        text-align: left;\n",
       "    }\n",
       "\n",
       "    .dataframe tbody tr th {\n",
       "        vertical-align: top;\n",
       "    }\n",
       "</style>\n",
       "<table border=\"1\" class=\"dataframe\">\n",
       "  <thead>\n",
       "    <tr style=\"text-align: right;\">\n",
       "      <th></th>\n",
       "      <th>unique_id</th>\n",
       "      <th>PromType2</th>\n",
       "      <th>cage_activ</th>\n",
       "      <th>cage_ts</th>\n",
       "      <th>mpra_activ</th>\n",
       "      <th>mpra_ts</th>\n",
       "      <th>avg_tf_tissue_sp</th>\n",
       "      <th>med_tf_tissue_sp</th>\n",
       "      <th>log_avg_tf_tissue_sp</th>\n",
       "      <th>log_med_tf_tissue_sp</th>\n",
       "    </tr>\n",
       "  </thead>\n",
       "  <tbody>\n",
       "    <tr>\n",
       "      <th>564</th>\n",
       "      <td>WILDTYPE__Enhancer.noflip.NA__chr1:203258795.....</td>\n",
       "      <td>Enhancer</td>\n",
       "      <td>0.008225</td>\n",
       "      <td>0.666667</td>\n",
       "      <td>-1.822178</td>\n",
       "      <td>0.454793</td>\n",
       "      <td>0.397510</td>\n",
       "      <td>0.397510</td>\n",
       "      <td>0.334692</td>\n",
       "      <td>0.334692</td>\n",
       "    </tr>\n",
       "    <tr>\n",
       "      <th>574</th>\n",
       "      <td>WILDTYPE__Enhancer.noflip.NA__chr20:48391907.....</td>\n",
       "      <td>Enhancer</td>\n",
       "      <td>0.305158</td>\n",
       "      <td>0.365929</td>\n",
       "      <td>-2.241343</td>\n",
       "      <td>0.303204</td>\n",
       "      <td>0.323646</td>\n",
       "      <td>0.341439</td>\n",
       "      <td>0.280390</td>\n",
       "      <td>0.293743</td>\n",
       "    </tr>\n",
       "    <tr>\n",
       "      <th>600</th>\n",
       "      <td>WILDTYPE__Enhancer.noflip.NA__chr5:34586331..3...</td>\n",
       "      <td>Enhancer</td>\n",
       "      <td>0.014053</td>\n",
       "      <td>0.666667</td>\n",
       "      <td>-0.378807</td>\n",
       "      <td>0.191960</td>\n",
       "      <td>0.296303</td>\n",
       "      <td>0.296303</td>\n",
       "      <td>0.259517</td>\n",
       "      <td>0.259517</td>\n",
       "    </tr>\n",
       "    <tr>\n",
       "      <th>91</th>\n",
       "      <td>WILDTYPE_BUT_HAS_SNP__Enhancer.noflip.NA__chr1...</td>\n",
       "      <td>Enhancer</td>\n",
       "      <td>2.030171</td>\n",
       "      <td>0.150503</td>\n",
       "      <td>1.419559</td>\n",
       "      <td>0.122369</td>\n",
       "      <td>0.366719</td>\n",
       "      <td>0.472201</td>\n",
       "      <td>0.312413</td>\n",
       "      <td>0.386758</td>\n",
       "    </tr>\n",
       "    <tr>\n",
       "      <th>759</th>\n",
       "      <td>WILDTYPE__mrna.flip.sense__chr1:229644039..229...</td>\n",
       "      <td>div_pc</td>\n",
       "      <td>3.705641</td>\n",
       "      <td>0.100985</td>\n",
       "      <td>3.378580</td>\n",
       "      <td>0.034470</td>\n",
       "      <td>0.341747</td>\n",
       "      <td>0.326518</td>\n",
       "      <td>0.293973</td>\n",
       "      <td>0.282557</td>\n",
       "    </tr>\n",
       "  </tbody>\n",
       "</table>\n",
       "</div>"
      ],
      "text/plain": [
       "                                             unique_id PromType2  cage_activ  \\\n",
       "564  WILDTYPE__Enhancer.noflip.NA__chr1:203258795.....  Enhancer    0.008225   \n",
       "574  WILDTYPE__Enhancer.noflip.NA__chr20:48391907.....  Enhancer    0.305158   \n",
       "600  WILDTYPE__Enhancer.noflip.NA__chr5:34586331..3...  Enhancer    0.014053   \n",
       "91   WILDTYPE_BUT_HAS_SNP__Enhancer.noflip.NA__chr1...  Enhancer    2.030171   \n",
       "759  WILDTYPE__mrna.flip.sense__chr1:229644039..229...    div_pc    3.705641   \n",
       "\n",
       "      cage_ts  mpra_activ   mpra_ts  avg_tf_tissue_sp  med_tf_tissue_sp  \\\n",
       "564  0.666667   -1.822178  0.454793          0.397510          0.397510   \n",
       "574  0.365929   -2.241343  0.303204          0.323646          0.341439   \n",
       "600  0.666667   -0.378807  0.191960          0.296303          0.296303   \n",
       "91   0.150503    1.419559  0.122369          0.366719          0.472201   \n",
       "759  0.100985    3.378580  0.034470          0.341747          0.326518   \n",
       "\n",
       "     log_avg_tf_tissue_sp  log_med_tf_tissue_sp  \n",
       "564              0.334692              0.334692  \n",
       "574              0.280390              0.293743  \n",
       "600              0.259517              0.259517  \n",
       "91               0.312413              0.386758  \n",
       "759              0.293973              0.282557  "
      ]
     },
     "execution_count": 35,
     "metadata": {},
     "output_type": "execute_result"
    }
   ],
   "source": [
    "mean_activ_fimo_chip = cage_v_mpra.merge(tissue_sp_fimo_chip, on=\"unique_id\")\n",
    "mean_activ_fimo_chip.sample(5)"
   ]
  },
  {
   "cell_type": "code",
   "execution_count": 36,
   "metadata": {},
   "outputs": [
    {
     "data": {
      "text/html": [
       "<div>\n",
       "<style>\n",
       "    .dataframe thead tr:only-child th {\n",
       "        text-align: right;\n",
       "    }\n",
       "\n",
       "    .dataframe thead th {\n",
       "        text-align: left;\n",
       "    }\n",
       "\n",
       "    .dataframe tbody tr th {\n",
       "        vertical-align: top;\n",
       "    }\n",
       "</style>\n",
       "<table border=\"1\" class=\"dataframe\">\n",
       "  <thead>\n",
       "    <tr style=\"text-align: right;\">\n",
       "      <th></th>\n",
       "      <th>unique_id</th>\n",
       "      <th>PromType2</th>\n",
       "      <th>cage_activ</th>\n",
       "      <th>cage_ts</th>\n",
       "      <th>mpra_activ</th>\n",
       "      <th>mpra_ts</th>\n",
       "      <th>avg_tf_tissue_sp</th>\n",
       "      <th>med_tf_tissue_sp</th>\n",
       "      <th>log_avg_tf_tissue_sp</th>\n",
       "      <th>log_med_tf_tissue_sp</th>\n",
       "      <th>n_total_motifs</th>\n",
       "      <th>n_unique_motifs</th>\n",
       "      <th>max_cov</th>\n",
       "      <th>n_bp_cov</th>\n",
       "      <th>log_n_total_motifs</th>\n",
       "      <th>log_n_unique_motifs</th>\n",
       "      <th>log_max_cov</th>\n",
       "      <th>log_n_bp_cov</th>\n",
       "    </tr>\n",
       "  </thead>\n",
       "  <tbody>\n",
       "    <tr>\n",
       "      <th>371</th>\n",
       "      <td>WILDTYPE_BUT_HAS_SNP__mrna.noflip.NA__chr9:131...</td>\n",
       "      <td>protein_coding</td>\n",
       "      <td>0.870267</td>\n",
       "      <td>0.348665</td>\n",
       "      <td>0.584024</td>\n",
       "      <td>0.180698</td>\n",
       "      <td>0.076611</td>\n",
       "      <td>0.076611</td>\n",
       "      <td>0.073818</td>\n",
       "      <td>0.073818</td>\n",
       "      <td>1</td>\n",
       "      <td>1</td>\n",
       "      <td>1</td>\n",
       "      <td>21</td>\n",
       "      <td>0.000000</td>\n",
       "      <td>0.000000</td>\n",
       "      <td>0.000000</td>\n",
       "      <td>3.044522</td>\n",
       "    </tr>\n",
       "    <tr>\n",
       "      <th>362</th>\n",
       "      <td>WILDTYPE_BUT_HAS_SNP__mrna.noflip.NA__chr7:732...</td>\n",
       "      <td>protein_coding</td>\n",
       "      <td>0.995620</td>\n",
       "      <td>0.100159</td>\n",
       "      <td>-0.105824</td>\n",
       "      <td>0.252086</td>\n",
       "      <td>0.524158</td>\n",
       "      <td>0.524158</td>\n",
       "      <td>0.421442</td>\n",
       "      <td>0.421442</td>\n",
       "      <td>2</td>\n",
       "      <td>2</td>\n",
       "      <td>1</td>\n",
       "      <td>22</td>\n",
       "      <td>0.693147</td>\n",
       "      <td>0.693147</td>\n",
       "      <td>0.000000</td>\n",
       "      <td>3.091042</td>\n",
       "    </tr>\n",
       "    <tr>\n",
       "      <th>566</th>\n",
       "      <td>WILDTYPE__Enhancer.noflip.NA__chr1:25360542..2...</td>\n",
       "      <td>Enhancer</td>\n",
       "      <td>0.000000</td>\n",
       "      <td>NaN</td>\n",
       "      <td>-1.919909</td>\n",
       "      <td>0.249931</td>\n",
       "      <td>0.427648</td>\n",
       "      <td>0.350244</td>\n",
       "      <td>0.356028</td>\n",
       "      <td>0.300285</td>\n",
       "      <td>3</td>\n",
       "      <td>3</td>\n",
       "      <td>1</td>\n",
       "      <td>37</td>\n",
       "      <td>1.098612</td>\n",
       "      <td>1.098612</td>\n",
       "      <td>0.000000</td>\n",
       "      <td>3.610918</td>\n",
       "    </tr>\n",
       "    <tr>\n",
       "      <th>150</th>\n",
       "      <td>WILDTYPE_BUT_HAS_SNP__Enhancer.noflip.NA__chr7...</td>\n",
       "      <td>Enhancer</td>\n",
       "      <td>0.896296</td>\n",
       "      <td>0.243634</td>\n",
       "      <td>1.402107</td>\n",
       "      <td>0.139168</td>\n",
       "      <td>0.334011</td>\n",
       "      <td>0.311208</td>\n",
       "      <td>0.288190</td>\n",
       "      <td>0.270949</td>\n",
       "      <td>9</td>\n",
       "      <td>9</td>\n",
       "      <td>4</td>\n",
       "      <td>64</td>\n",
       "      <td>2.197225</td>\n",
       "      <td>2.197225</td>\n",
       "      <td>1.386294</td>\n",
       "      <td>4.158883</td>\n",
       "    </tr>\n",
       "    <tr>\n",
       "      <th>784</th>\n",
       "      <td>WILDTYPE__mrna.flip.sense__chr8:94753202..9475...</td>\n",
       "      <td>div_pc</td>\n",
       "      <td>2.340400</td>\n",
       "      <td>0.109221</td>\n",
       "      <td>2.564956</td>\n",
       "      <td>0.059706</td>\n",
       "      <td>0.216547</td>\n",
       "      <td>0.197834</td>\n",
       "      <td>0.196017</td>\n",
       "      <td>0.180515</td>\n",
       "      <td>4</td>\n",
       "      <td>4</td>\n",
       "      <td>3</td>\n",
       "      <td>29</td>\n",
       "      <td>1.386294</td>\n",
       "      <td>1.386294</td>\n",
       "      <td>1.098612</td>\n",
       "      <td>3.367296</td>\n",
       "    </tr>\n",
       "  </tbody>\n",
       "</table>\n",
       "</div>"
      ],
      "text/plain": [
       "                                             unique_id       PromType2  \\\n",
       "371  WILDTYPE_BUT_HAS_SNP__mrna.noflip.NA__chr9:131...  protein_coding   \n",
       "362  WILDTYPE_BUT_HAS_SNP__mrna.noflip.NA__chr7:732...  protein_coding   \n",
       "566  WILDTYPE__Enhancer.noflip.NA__chr1:25360542..2...        Enhancer   \n",
       "150  WILDTYPE_BUT_HAS_SNP__Enhancer.noflip.NA__chr7...        Enhancer   \n",
       "784  WILDTYPE__mrna.flip.sense__chr8:94753202..9475...          div_pc   \n",
       "\n",
       "     cage_activ   cage_ts  mpra_activ   mpra_ts  avg_tf_tissue_sp  \\\n",
       "371    0.870267  0.348665    0.584024  0.180698          0.076611   \n",
       "362    0.995620  0.100159   -0.105824  0.252086          0.524158   \n",
       "566    0.000000       NaN   -1.919909  0.249931          0.427648   \n",
       "150    0.896296  0.243634    1.402107  0.139168          0.334011   \n",
       "784    2.340400  0.109221    2.564956  0.059706          0.216547   \n",
       "\n",
       "     med_tf_tissue_sp  log_avg_tf_tissue_sp  log_med_tf_tissue_sp  \\\n",
       "371          0.076611              0.073818              0.073818   \n",
       "362          0.524158              0.421442              0.421442   \n",
       "566          0.350244              0.356028              0.300285   \n",
       "150          0.311208              0.288190              0.270949   \n",
       "784          0.197834              0.196017              0.180515   \n",
       "\n",
       "     n_total_motifs  n_unique_motifs  max_cov  n_bp_cov  log_n_total_motifs  \\\n",
       "371               1                1        1        21            0.000000   \n",
       "362               2                2        1        22            0.693147   \n",
       "566               3                3        1        37            1.098612   \n",
       "150               9                9        4        64            2.197225   \n",
       "784               4                4        3        29            1.386294   \n",
       "\n",
       "     log_n_unique_motifs  log_max_cov  log_n_bp_cov  \n",
       "371             0.000000     0.000000      3.044522  \n",
       "362             0.693147     0.000000      3.091042  \n",
       "566             1.098612     0.000000      3.610918  \n",
       "150             2.197225     1.386294      4.158883  \n",
       "784             1.386294     1.098612      3.367296  "
      ]
     },
     "execution_count": 36,
     "metadata": {},
     "output_type": "execute_result"
    }
   ],
   "source": [
    "mean_activ_fimo_chip = mean_activ_fimo_chip.merge(fimo_chip_cov, on=\"unique_id\")\n",
    "mean_activ_fimo_chip.sample(5)"
   ]
  },
  {
   "cell_type": "markdown",
   "metadata": {},
   "source": [
    "## 4. plot correlations w/ MPRA data"
   ]
  },
  {
   "cell_type": "markdown",
   "metadata": {},
   "source": [
    "## tissue specificity"
   ]
  },
  {
   "cell_type": "markdown",
   "metadata": {},
   "source": [
    "#### fimo only"
   ]
  },
  {
   "cell_type": "code",
   "execution_count": 37,
   "metadata": {
    "collapsed": true
   },
   "outputs": [],
   "source": [
    "#cmap = sns.light_palette(\"#8da0cb\", as_cmap=True)\n",
    "cmap = sns.light_palette(\"darkslategray\", as_cmap=True)"
   ]
  },
  {
   "cell_type": "code",
   "execution_count": 38,
   "metadata": {
    "collapsed": true
   },
   "outputs": [],
   "source": [
    "no_nan = mean_activ_fimo[~pd.isnull(mean_activ_fimo[\"log_avg_tf_tissue_sp\"]) &\n",
    "                         ~pd.isnull(mean_activ_fimo[\"mpra_activ\"])]"
   ]
  },
  {
   "cell_type": "code",
   "execution_count": 39,
   "metadata": {},
   "outputs": [
    {
     "name": "stdout",
     "output_type": "stream",
     "text": [
      "r: -0.189914085238, spearman p: 4.63857152383e-18\n"
     ]
    },
    {
     "data": {
      "image/png": "[encoded data removed]",
      "text/plain": [
       "<matplotlib.figure.Figure at 0x2adb47723c50>"
      ]
     },
     "metadata": {},
     "output_type": "display_data"
    }
   ],
   "source": [
    "fig = plt.figure(figsize=(1.2, 1.2))\n",
    "ax = sns.kdeplot(no_nan[\"log_avg_tf_tissue_sp\"], no_nan[\"mpra_activ\"], cmap=cmap, \n",
    "                 shade=True, shade_lowest=False)\n",
    "ax.set_ylabel(\"mean MPRA activity\")\n",
    "ax.set_xlabel(\"log(mean TF tissue specificity)\")\n",
    "\n",
    "r, p = stats.spearmanr(no_nan[\"log_avg_tf_tissue_sp\"], no_nan[\"mpra_activ\"])\n",
    "print(\"r: %s, spearman p: %s\" % (r, p))\n",
    "ax.annotate(\"r = {:.2f}\".format(r), xy=(.05, .9), xycoords=ax.transAxes, fontsize=fontsize)\n",
    "fig.savefig(\"Fig_2C_3.pdf\", bbox_inches=\"tight\", dpi=\"figure\")"
   ]
  },
  {
   "cell_type": "code",
   "execution_count": 40,
   "metadata": {
    "collapsed": true
   },
   "outputs": [],
   "source": [
    "no_nan = mean_activ_fimo[~pd.isnull(mean_activ_fimo[\"log_avg_tf_tissue_sp\"]) &\n",
    "                         ~pd.isnull(mean_activ_fimo[\"mpra_ts\"])]"
   ]
  },
  {
   "cell_type": "code",
   "execution_count": 41,
   "metadata": {},
   "outputs": [
    {
     "name": "stdout",
     "output_type": "stream",
     "text": [
      "r: 0.178457917206, spearman p: 1.90474180664e-15\n"
     ]
    },
    {
     "data": {
      "image/png": "[encoded data removed]",
      "text/plain": [
       "<matplotlib.figure.Figure at 0x2adb47a2f7f0>"
      ]
     },
     "metadata": {},
     "output_type": "display_data"
    }
   ],
   "source": [
    "fig = plt.figure(figsize=(1.2, 1.2))\n",
    "ax = sns.kdeplot(no_nan[\"log_avg_tf_tissue_sp\"], no_nan[\"mpra_ts\"], cmap=cmap, \n",
    "                 shade=True, shade_lowest=False)\n",
    "ax.set_ylabel(\"tissue specificity in MPRA\")\n",
    "ax.set_xlabel(\"log(mean TF tissue specificity)\")\n",
    "\n",
    "r, p = stats.spearmanr(no_nan[\"log_avg_tf_tissue_sp\"], no_nan[\"mpra_ts\"])\n",
    "print(\"r: %s, spearman p: %s\" % (r, p))\n",
    "ax.annotate(\"r = {:.2f}\".format(r), xy=(.05, .9), xycoords=ax.transAxes, fontsize=fontsize)\n",
    "fig.savefig(\"Fig_2C_6.pdf\", bbox_inches=\"tight\", dpi=\"figure\")"
   ]
  },
  {
   "cell_type": "markdown",
   "metadata": {},
   "source": [
    "#### fimo intersected w/ chip"
   ]
  },
  {
   "cell_type": "code",
   "execution_count": 42,
   "metadata": {
    "collapsed": true
   },
   "outputs": [],
   "source": [
    "no_nan = mean_activ_fimo_chip[~pd.isnull(mean_activ_fimo_chip[\"log_avg_tf_tissue_sp\"]) &\n",
    "                              ~pd.isnull(mean_activ_fimo_chip[\"mpra_activ\"])]"
   ]
  },
  {
   "cell_type": "code",
   "execution_count": 43,
   "metadata": {},
   "outputs": [
    {
     "name": "stdout",
     "output_type": "stream",
     "text": [
      "r: -0.188992759675, spearman p: 5.65147994308e-08\n"
     ]
    },
    {
     "data": {
      "text/plain": [
       "<matplotlib.text.Annotation at 0x2adb47d75dd8>"
      ]
     },
     "execution_count": 43,
     "metadata": {},
     "output_type": "execute_result"
    },
    {
     "data": {
      "image/png": "[encoded data removed]",
      "text/plain": [
       "<matplotlib.figure.Figure at 0x2adb477233c8>"
      ]
     },
     "metadata": {},
     "output_type": "display_data"
    }
   ],
   "source": [
    "fig = plt.figure(figsize=(1.2, 1.2))\n",
    "ax = sns.kdeplot(no_nan[\"log_avg_tf_tissue_sp\"], no_nan[\"mpra_activ\"], cmap=cmap, \n",
    "                 shade=True, shade_lowest=False)\n",
    "ax.set_ylabel(\"mean MPRA activity\")\n",
    "ax.set_xlabel(\"log(mean TF tissue specificity)\")\n",
    "\n",
    "r, p = stats.spearmanr(no_nan[\"log_avg_tf_tissue_sp\"], no_nan[\"mpra_activ\"])\n",
    "print(\"r: %s, spearman p: %s\" % (r, p))\n",
    "ax.annotate(\"r = {:.2f}\".format(r), xy=(.05, .9), xycoords=ax.transAxes, fontsize=fontsize)"
   ]
  },
  {
   "cell_type": "code",
   "execution_count": 44,
   "metadata": {
    "collapsed": true
   },
   "outputs": [],
   "source": [
    "no_nan = mean_activ_fimo_chip[~pd.isnull(mean_activ_fimo_chip[\"log_avg_tf_tissue_sp\"]) &\n",
    "                              ~pd.isnull(mean_activ_fimo_chip[\"mpra_ts\"])]"
   ]
  },
  {
   "cell_type": "code",
   "execution_count": 45,
   "metadata": {},
   "outputs": [
    {
     "name": "stdout",
     "output_type": "stream",
     "text": [
      "r: 0.174484990707, spearman p: 9.74923010822e-07\n"
     ]
    },
    {
     "data": {
      "text/plain": [
       "<matplotlib.text.Annotation at 0x2adb47e56550>"
      ]
     },
     "execution_count": 45,
     "metadata": {},
     "output_type": "execute_result"
    },
    {
     "data": {
      "image/png": "[encoded data removed]",
      "text/plain": [
       "<matplotlib.figure.Figure at 0x2adb47e64208>"
      ]
     },
     "metadata": {},
     "output_type": "display_data"
    }
   ],
   "source": [
    "fig = plt.figure(figsize=(1.2, 1.2))\n",
    "ax = sns.kdeplot(no_nan[\"log_avg_tf_tissue_sp\"], no_nan[\"mpra_ts\"], cmap=cmap, \n",
    "                 shade=True, shade_lowest=False)\n",
    "ax.set_ylabel(\"tissue specificity in MPRA\")\n",
    "ax.set_xlabel(\"log(mean TF tissue specificity)\")\n",
    "\n",
    "r, p = stats.spearmanr(no_nan[\"log_avg_tf_tissue_sp\"], no_nan[\"mpra_ts\"])\n",
    "print(\"r: %s, spearman p: %s\" % (r, p))\n",
    "ax.annotate(\"r = {:.2f}\".format(r), xy=(.05, .9), xycoords=ax.transAxes, fontsize=fontsize)"
   ]
  },
  {
   "cell_type": "markdown",
   "metadata": {},
   "source": [
    "## number of bp covered"
   ]
  },
  {
   "cell_type": "markdown",
   "metadata": {},
   "source": [
    "#### fimo only"
   ]
  },
  {
   "cell_type": "code",
   "execution_count": 46,
   "metadata": {
    "collapsed": true
   },
   "outputs": [],
   "source": [
    "no_nan = mean_activ_fimo[~pd.isnull(mean_activ_fimo[\"log_n_bp_cov\"]) &\n",
    "                         ~pd.isnull(mean_activ_fimo[\"mpra_activ\"])]"
   ]
  },
  {
   "cell_type": "code",
   "execution_count": 47,
   "metadata": {},
   "outputs": [
    {
     "name": "stdout",
     "output_type": "stream",
     "text": [
      "r: 0.285024146464, spearman p: 1.5886278675e-39\n"
     ]
    },
    {
     "data": {
      "image/png": "[encoded data removed]",
      "text/plain": [
       "<matplotlib.figure.Figure at 0x2adb47e7d630>"
      ]
     },
     "metadata": {},
     "output_type": "display_data"
    }
   ],
   "source": [
    "fig = plt.figure(figsize=(1.2, 1.2))\n",
    "ax = sns.kdeplot(no_nan[\"log_n_bp_cov\"], no_nan[\"mpra_activ\"], cmap=\"Blues\", \n",
    "                 shade=True, shade_lowest=False)\n",
    "ax.set_ylabel(\"mean MPRA activity\")\n",
    "ax.set_xlabel(\"log(number of bp covered by motif)\")\n",
    "\n",
    "r, p = stats.spearmanr(no_nan[\"log_n_bp_cov\"], no_nan[\"mpra_activ\"])\n",
    "print(\"r: %s, spearman p: %s\" % (r, p))\n",
    "ax.annotate(\"r = {:.2f}\".format(r), xy=(.05, .9), xycoords=ax.transAxes, fontsize=fontsize)\n",
    "fig.savefig(\"Fig_2C_1.pdf\", bbox_inches=\"tight\", dpi=\"figure\")"
   ]
  },
  {
   "cell_type": "code",
   "execution_count": 48,
   "metadata": {
    "collapsed": true
   },
   "outputs": [],
   "source": [
    "no_nan = mean_activ_fimo[~pd.isnull(mean_activ_fimo[\"log_n_bp_cov\"]) &\n",
    "                         ~pd.isnull(mean_activ_fimo[\"mpra_ts\"])]"
   ]
  },
  {
   "cell_type": "code",
   "execution_count": 49,
   "metadata": {},
   "outputs": [
    {
     "name": "stdout",
     "output_type": "stream",
     "text": [
      "r: -0.170268799265, spearman p: 3.53227511359e-14\n"
     ]
    },
    {
     "data": {
      "image/png": "[encoded data removed]",
      "text/plain": [
       "<matplotlib.figure.Figure at 0x2adb47e7d8d0>"
      ]
     },
     "metadata": {},
     "output_type": "display_data"
    }
   ],
   "source": [
    "fig = plt.figure(figsize=(1.2, 1.2))\n",
    "ax = sns.kdeplot(no_nan[\"log_n_bp_cov\"], no_nan[\"mpra_ts\"], cmap=\"Blues\", \n",
    "                 shade=True, shade_lowest=False)\n",
    "ax.set_ylabel(\"tissue specificity in MPRA\")\n",
    "ax.set_xlabel(\"log(number of bp covered by motif)\")\n",
    "\n",
    "r, p = stats.spearmanr(no_nan[\"log_n_bp_cov\"], no_nan[\"mpra_ts\"])\n",
    "print(\"r: %s, spearman p: %s\" % (r, p))\n",
    "ax.annotate(\"r = {:.2f}\".format(r), xy=(.05, .9), xycoords=ax.transAxes, fontsize=fontsize)\n",
    "fig.savefig(\"Fig_2C_4.pdf\", bbox_inches=\"tight\", dpi=\"figure\")"
   ]
  },
  {
   "cell_type": "markdown",
   "metadata": {},
   "source": [
    "#### fimo intersected w/ chip"
   ]
  },
  {
   "cell_type": "code",
   "execution_count": 50,
   "metadata": {
    "collapsed": true
   },
   "outputs": [],
   "source": [
    "no_nan = mean_activ_fimo_chip[~pd.isnull(mean_activ_fimo_chip[\"log_n_bp_cov\"]) &\n",
    "                              ~pd.isnull(mean_activ_fimo_chip[\"mpra_activ\"])]"
   ]
  },
  {
   "cell_type": "code",
   "execution_count": 51,
   "metadata": {},
   "outputs": [
    {
     "name": "stdout",
     "output_type": "stream",
     "text": [
      "r: 0.441460649203, spearman p: 4.21756794424e-40\n"
     ]
    },
    {
     "data": {
      "text/plain": [
       "<matplotlib.text.Annotation at 0x2adb487ede48>"
      ]
     },
     "execution_count": 51,
     "metadata": {},
     "output_type": "execute_result"
    },
    {
     "data": {
      "image/png": "[encoded data removed]",
      "text/plain": [
       "<matplotlib.figure.Figure at 0x2adb47e7dac8>"
      ]
     },
     "metadata": {},
     "output_type": "display_data"
    }
   ],
   "source": [
    "fig = plt.figure(figsize=(1.2, 1.2))\n",
    "ax = sns.kdeplot(no_nan[\"log_n_bp_cov\"], no_nan[\"mpra_activ\"], cmap=\"Blues\", \n",
    "                 shade=True, shade_lowest=False)\n",
    "ax.set_ylabel(\"mean MPRA activity\")\n",
    "ax.set_xlabel(\"log(number of bp covered by motif)\")\n",
    "\n",
    "r, p = stats.spearmanr(no_nan[\"log_n_bp_cov\"], no_nan[\"mpra_activ\"])\n",
    "print(\"r: %s, spearman p: %s\" % (r, p))\n",
    "ax.annotate(\"r = {:.2f}\".format(r), xy=(.05, .9), xycoords=ax.transAxes, fontsize=fontsize)"
   ]
  },
  {
   "cell_type": "code",
   "execution_count": 52,
   "metadata": {
    "collapsed": true
   },
   "outputs": [],
   "source": [
    "no_nan = mean_activ_fimo_chip[~pd.isnull(mean_activ_fimo_chip[\"log_n_bp_cov\"]) &\n",
    "                              ~pd.isnull(mean_activ_fimo_chip[\"mpra_ts\"])]"
   ]
  },
  {
   "cell_type": "code",
   "execution_count": 53,
   "metadata": {},
   "outputs": [
    {
     "name": "stdout",
     "output_type": "stream",
     "text": [
      "r: -0.313538101667, spearman p: 3.30017216655e-19\n"
     ]
    },
    {
     "data": {
      "text/plain": [
       "<matplotlib.text.Annotation at 0x2adb47d10630>"
      ]
     },
     "execution_count": 53,
     "metadata": {},
     "output_type": "execute_result"
    },
    {
     "data": {
      "image/png": "[encoded data removed]",
      "text/plain": [
       "<matplotlib.figure.Figure at 0x2adb486de128>"
      ]
     },
     "metadata": {},
     "output_type": "display_data"
    }
   ],
   "source": [
    "fig = plt.figure(figsize=(1.2, 1.2))\n",
    "ax = sns.kdeplot(no_nan[\"log_n_bp_cov\"], no_nan[\"mpra_ts\"], cmap=\"Blues\", \n",
    "                 shade=True, shade_lowest=False)\n",
    "ax.set_ylabel(\"tissue specificity in MPRA\")\n",
    "ax.set_xlabel(\"log(number of bp covered by motif)\")\n",
    "\n",
    "r, p = stats.spearmanr(no_nan[\"log_n_bp_cov\"], no_nan[\"mpra_ts\"])\n",
    "print(\"r: %s, spearman p: %s\" % (r, p))\n",
    "ax.annotate(\"r = {:.2f}\".format(r), xy=(.05, .9), xycoords=ax.transAxes, fontsize=fontsize)"
   ]
  },
  {
   "cell_type": "markdown",
   "metadata": {},
   "source": [
    "## max overlapping coverage"
   ]
  },
  {
   "cell_type": "markdown",
   "metadata": {},
   "source": [
    "#### fimo only"
   ]
  },
  {
   "cell_type": "code",
   "execution_count": 54,
   "metadata": {
    "collapsed": true
   },
   "outputs": [],
   "source": [
    "cmap = sns.light_palette(\"firebrick\", as_cmap=True)"
   ]
  },
  {
   "cell_type": "code",
   "execution_count": 55,
   "metadata": {
    "collapsed": true
   },
   "outputs": [],
   "source": [
    "no_nan = mean_activ_fimo[~pd.isnull(mean_activ_fimo[\"log_max_cov\"]) &\n",
    "                         ~pd.isnull(mean_activ_fimo[\"mpra_activ\"])]"
   ]
  },
  {
   "cell_type": "code",
   "execution_count": 56,
   "metadata": {},
   "outputs": [
    {
     "name": "stdout",
     "output_type": "stream",
     "text": [
      "r: 0.369728534301, spearman p: 2.93206659497e-67\n"
     ]
    },
    {
     "data": {
      "image/png": "[encoded data removed]",
      "text/plain": [
       "<matplotlib.figure.Figure at 0x2adb47ce0c88>"
      ]
     },
     "metadata": {},
     "output_type": "display_data"
    }
   ],
   "source": [
    "fig = plt.figure(figsize=(1.2, 1.2))\n",
    "ax = sns.kdeplot(no_nan[\"log_max_cov\"], no_nan[\"mpra_activ\"], cmap=cmap, \n",
    "                 shade=True, shade_lowest=False)\n",
    "ax.set_ylabel(\"mean MPRA activity\")\n",
    "ax.set_xlabel(\"log(max overlapping motifs)\")\n",
    "\n",
    "r, p = stats.spearmanr(no_nan[\"log_max_cov\"], no_nan[\"mpra_activ\"])\n",
    "print(\"r: %s, spearman p: %s\" % (r, p))\n",
    "ax.annotate(\"r = {:.2f}\".format(r), xy=(.05, .9), xycoords=ax.transAxes, fontsize=fontsize)\n",
    "fig.savefig(\"Fig_2C_2.pdf\", bbox_inches=\"tight\", dpi=\"figure\")"
   ]
  },
  {
   "cell_type": "code",
   "execution_count": 57,
   "metadata": {
    "collapsed": true
   },
   "outputs": [],
   "source": [
    "no_nan = mean_activ_fimo[~pd.isnull(mean_activ_fimo[\"log_max_cov\"]) &\n",
    "                         ~pd.isnull(mean_activ_fimo[\"mpra_ts\"])]"
   ]
  },
  {
   "cell_type": "code",
   "execution_count": 58,
   "metadata": {},
   "outputs": [
    {
     "name": "stdout",
     "output_type": "stream",
     "text": [
      "r: -0.275862481994, spearman p: 1.83320940414e-35\n"
     ]
    },
    {
     "data": {
      "image/png": "[encoded data removed]",
      "text/plain": [
       "<matplotlib.figure.Figure at 0x2adb486accc0>"
      ]
     },
     "metadata": {},
     "output_type": "display_data"
    }
   ],
   "source": [
    "fig = plt.figure(figsize=(1.2, 1.2))\n",
    "ax = sns.kdeplot(no_nan[\"log_max_cov\"], no_nan[\"mpra_ts\"], cmap=cmap, \n",
    "                 shade=True, shade_lowest=False)\n",
    "ax.set_ylabel(\"tissue specificity in MPRA\")\n",
    "ax.set_xlabel(\"log(max overlapping motifs)\")\n",
    "\n",
    "r, p = stats.spearmanr(no_nan[\"log_max_cov\"], no_nan[\"mpra_ts\"])\n",
    "print(\"r: %s, spearman p: %s\" % (r, p))\n",
    "ax.annotate(\"r = {:.2f}\".format(r), xy=(.05, .9), xycoords=ax.transAxes, fontsize=fontsize)\n",
    "fig.savefig(\"Fig_2C_5.pdf\", bbox_inches=\"tight\", dpi=\"figure\")"
   ]
  },
  {
   "cell_type": "markdown",
   "metadata": {},
   "source": [
    "#### fimo intersected w/ chip"
   ]
  },
  {
   "cell_type": "code",
   "execution_count": 59,
   "metadata": {
    "collapsed": true
   },
   "outputs": [],
   "source": [
    "no_nan = mean_activ_fimo_chip[~pd.isnull(mean_activ_fimo_chip[\"log_max_cov\"]) &\n",
    "                              ~pd.isnull(mean_activ_fimo_chip[\"mpra_activ\"])]"
   ]
  },
  {
   "cell_type": "code",
   "execution_count": 60,
   "metadata": {},
   "outputs": [
    {
     "name": "stdout",
     "output_type": "stream",
     "text": [
      "r: 0.29930477588, spearman p: 2.74038017328e-18\n"
     ]
    },
    {
     "data": {
      "text/plain": [
       "<matplotlib.text.Annotation at 0x2adb4886e8d0>"
      ]
     },
     "execution_count": 60,
     "metadata": {},
     "output_type": "execute_result"
    },
    {
     "data": {
      "image/png": "[encoded data removed]",
      "text/plain": [
       "<matplotlib.figure.Figure at 0x2adb47cb66a0>"
      ]
     },
     "metadata": {},
     "output_type": "display_data"
    }
   ],
   "source": [
    "fig = plt.figure(figsize=(1.2, 1.2))\n",
    "ax = sns.kdeplot(no_nan[\"log_max_cov\"], no_nan[\"mpra_activ\"], cmap=cmap, \n",
    "                 shade=True, shade_lowest=False)\n",
    "ax.set_ylabel(\"mean MPRA activity\")\n",
    "ax.set_xlabel(\"log(max overlapping motifs)\")\n",
    "\n",
    "r, p = stats.spearmanr(no_nan[\"log_max_cov\"], no_nan[\"mpra_activ\"])\n",
    "print(\"r: %s, spearman p: %s\" % (r, p))\n",
    "ax.annotate(\"r = {:.2f}\".format(r), xy=(.05, .9), xycoords=ax.transAxes, fontsize=fontsize)"
   ]
  },
  {
   "cell_type": "code",
   "execution_count": 61,
   "metadata": {
    "collapsed": true
   },
   "outputs": [],
   "source": [
    "no_nan = mean_activ_fimo_chip[~pd.isnull(mean_activ_fimo_chip[\"log_max_cov\"]) &\n",
    "                              ~pd.isnull(mean_activ_fimo_chip[\"mpra_ts\"])]"
   ]
  },
  {
   "cell_type": "code",
   "execution_count": 62,
   "metadata": {},
   "outputs": [
    {
     "name": "stdout",
     "output_type": "stream",
     "text": [
      "r: -0.216149495994, spearman p: 1.11899564229e-09\n"
     ]
    },
    {
     "data": {
      "text/plain": [
       "<matplotlib.text.Annotation at 0x2adb488a39b0>"
      ]
     },
     "execution_count": 62,
     "metadata": {},
     "output_type": "execute_result"
    },
    {
     "data": {
      "image/png": "[encoded data removed]",
      "text/plain": [
       "<matplotlib.figure.Figure at 0x2adb488aedd8>"
      ]
     },
     "metadata": {},
     "output_type": "display_data"
    }
   ],
   "source": [
    "fig = plt.figure(figsize=(1.2, 1.2))\n",
    "ax = sns.kdeplot(no_nan[\"log_max_cov\"], no_nan[\"mpra_ts\"], cmap=cmap, \n",
    "                 shade=True, shade_lowest=False)\n",
    "ax.set_ylabel(\"tissue specificity in MPRA\")\n",
    "ax.set_xlabel(\"log(max overlapping motifs)\")\n",
    "\n",
    "r, p = stats.spearmanr(no_nan[\"log_max_cov\"], no_nan[\"mpra_ts\"])\n",
    "print(\"r: %s, spearman p: %s\" % (r, p))\n",
    "ax.annotate(\"r = {:.2f}\".format(r), xy=(.05, .9), xycoords=ax.transAxes, fontsize=fontsize)"
   ]
  },
  {
   "cell_type": "markdown",
   "metadata": {},
   "source": [
    "## 5. plot correlations w/ CAGE data"
   ]
  },
  {
   "cell_type": "markdown",
   "metadata": {},
   "source": [
    "## TF tissue specificity"
   ]
  },
  {
   "cell_type": "markdown",
   "metadata": {},
   "source": [
    "#### fimo only"
   ]
  },
  {
   "cell_type": "code",
   "execution_count": 63,
   "metadata": {
    "collapsed": true
   },
   "outputs": [],
   "source": [
    "#cmap = sns.light_palette(\"#8da0cb\", as_cmap=True)\n",
    "cmap = sns.light_palette(\"darkslategray\", as_cmap=True)"
   ]
  },
  {
   "cell_type": "code",
   "execution_count": 64,
   "metadata": {
    "collapsed": true
   },
   "outputs": [],
   "source": [
    "no_nan = mean_activ_fimo[~pd.isnull(mean_activ_fimo[\"log_avg_tf_tissue_sp\"]) &\n",
    "                         ~pd.isnull(mean_activ_fimo[\"cage_activ\"])]"
   ]
  },
  {
   "cell_type": "code",
   "execution_count": 65,
   "metadata": {},
   "outputs": [
    {
     "name": "stdout",
     "output_type": "stream",
     "text": [
      "r: -0.133511516734, spearman p: 1.06379899401e-09\n"
     ]
    },
    {
     "data": {
      "text/plain": [
       "<matplotlib.text.Annotation at 0x2adb48953390>"
      ]
     },
     "execution_count": 65,
     "metadata": {},
     "output_type": "execute_result"
    },
    {
     "data": {
      "image/png": "[encoded data removed]",
      "text/plain": [
       "<matplotlib.figure.Figure at 0x2adb4895d320>"
      ]
     },
     "metadata": {},
     "output_type": "display_data"
    }
   ],
   "source": [
    "fig = plt.figure(figsize=(1.2, 1.2))\n",
    "ax = sns.kdeplot(no_nan[\"log_avg_tf_tissue_sp\"], no_nan[\"cage_activ\"], cmap=cmap, \n",
    "                 shade=True, shade_lowest=False)\n",
    "ax.set_ylabel(\"CAGE expression\")\n",
    "ax.set_xlabel(\"log(mean TF tissue specificity)\")\n",
    "\n",
    "r, p = stats.spearmanr(no_nan[\"log_avg_tf_tissue_sp\"], no_nan[\"cage_activ\"])\n",
    "print(\"r: %s, spearman p: %s\" % (r, p))\n",
    "ax.annotate(\"r = {:.2f}\".format(r), xy=(.05, .9), xycoords=ax.transAxes, fontsize=fontsize)"
   ]
  },
  {
   "cell_type": "code",
   "execution_count": 66,
   "metadata": {
    "collapsed": true
   },
   "outputs": [],
   "source": [
    "no_nan = mean_activ_fimo[~pd.isnull(mean_activ_fimo[\"log_avg_tf_tissue_sp\"]) &\n",
    "                         ~pd.isnull(mean_activ_fimo[\"cage_ts\"])]"
   ]
  },
  {
   "cell_type": "code",
   "execution_count": 67,
   "metadata": {},
   "outputs": [
    {
     "name": "stdout",
     "output_type": "stream",
     "text": [
      "r: 0.121920057609, spearman p: 3.3253225128e-07\n"
     ]
    },
    {
     "data": {
      "text/plain": [
       "<matplotlib.text.Annotation at 0x2adb489f5898>"
      ]
     },
     "execution_count": 67,
     "metadata": {},
     "output_type": "execute_result"
    },
    {
     "data": {
      "image/png": "[encoded data removed]",
      "text/plain": [
       "<matplotlib.figure.Figure at 0x2adb4c9a2940>"
      ]
     },
     "metadata": {},
     "output_type": "display_data"
    }
   ],
   "source": [
    "fig = plt.figure(figsize=(1.2, 1.2))\n",
    "ax = sns.kdeplot(no_nan[\"log_avg_tf_tissue_sp\"], no_nan[\"cage_ts\"], cmap=cmap, \n",
    "                 shade=True, shade_lowest=False)\n",
    "ax.set_ylabel(\"tissue specificity in CAGE\")\n",
    "ax.set_xlabel(\"log(mean TF tissue specificity)\")\n",
    "\n",
    "r, p = stats.spearmanr(no_nan[\"log_avg_tf_tissue_sp\"], no_nan[\"cage_ts\"])\n",
    "print(\"r: %s, spearman p: %s\" % (r, p))\n",
    "ax.annotate(\"r = {:.2f}\".format(r), xy=(.05, .9), xycoords=ax.transAxes, fontsize=fontsize)"
   ]
  },
  {
   "cell_type": "markdown",
   "metadata": {},
   "source": [
    "#### fimo intersected w/ chip"
   ]
  },
  {
   "cell_type": "code",
   "execution_count": 68,
   "metadata": {
    "collapsed": true
   },
   "outputs": [],
   "source": [
    "no_nan = mean_activ_fimo_chip[~pd.isnull(mean_activ_fimo_chip[\"log_avg_tf_tissue_sp\"]) &\n",
    "                              ~pd.isnull(mean_activ_fimo_chip[\"cage_activ\"])]"
   ]
  },
  {
   "cell_type": "code",
   "execution_count": 69,
   "metadata": {},
   "outputs": [
    {
     "name": "stdout",
     "output_type": "stream",
     "text": [
      "r: -0.199944837075, spearman p: 7.06632615449e-09\n"
     ]
    },
    {
     "data": {
      "text/plain": [
       "<matplotlib.text.Annotation at 0x2adb4ca5da58>"
      ]
     },
     "execution_count": 69,
     "metadata": {},
     "output_type": "execute_result"
    },
    {
     "data": {
      "image/png": "[encoded data removed]",
      "text/plain": [
       "<matplotlib.figure.Figure at 0x2adb4ca06208>"
      ]
     },
     "metadata": {},
     "output_type": "display_data"
    }
   ],
   "source": [
    "fig = plt.figure(figsize=(1.2, 1.2))\n",
    "ax = sns.kdeplot(no_nan[\"log_avg_tf_tissue_sp\"], no_nan[\"cage_activ\"], cmap=cmap, \n",
    "                 shade=True, shade_lowest=False)\n",
    "ax.set_ylabel(\"CAGE expression\")\n",
    "ax.set_xlabel(\"log(mean TF tissue specificity)\")\n",
    "\n",
    "r, p = stats.spearmanr(no_nan[\"log_avg_tf_tissue_sp\"], no_nan[\"cage_activ\"])\n",
    "print(\"r: %s, spearman p: %s\" % (r, p))\n",
    "ax.annotate(\"r = {:.2f}\".format(r), xy=(.05, .9), xycoords=ax.transAxes, fontsize=fontsize)"
   ]
  },
  {
   "cell_type": "code",
   "execution_count": 70,
   "metadata": {
    "collapsed": true
   },
   "outputs": [],
   "source": [
    "no_nan = mean_activ_fimo_chip[~pd.isnull(mean_activ_fimo_chip[\"log_avg_tf_tissue_sp\"]) &\n",
    "                              ~pd.isnull(mean_activ_fimo_chip[\"cage_ts\"])]"
   ]
  },
  {
   "cell_type": "code",
   "execution_count": 71,
   "metadata": {},
   "outputs": [
    {
     "name": "stdout",
     "output_type": "stream",
     "text": [
      "r: 0.182509023636, spearman p: 4.36386988374e-07\n"
     ]
    },
    {
     "data": {
      "text/plain": [
       "<matplotlib.text.Annotation at 0x2adb4ca42a90>"
      ]
     },
     "execution_count": 71,
     "metadata": {},
     "output_type": "execute_result"
    },
    {
     "data": {
      "image/png": "[encoded data removed]",
      "text/plain": [
       "<matplotlib.figure.Figure at 0x2adb48814080>"
      ]
     },
     "metadata": {},
     "output_type": "display_data"
    }
   ],
   "source": [
    "fig = plt.figure(figsize=(1.2, 1.2))\n",
    "ax = sns.kdeplot(no_nan[\"log_avg_tf_tissue_sp\"], no_nan[\"cage_ts\"], cmap=cmap, \n",
    "                 shade=True, shade_lowest=False)\n",
    "ax.set_ylabel(\"tissue specificity in CAGE\")\n",
    "ax.set_xlabel(\"log(mean TF tissue specificity)\")\n",
    "\n",
    "r, p = stats.spearmanr(no_nan[\"log_avg_tf_tissue_sp\"], no_nan[\"cage_ts\"])\n",
    "print(\"r: %s, spearman p: %s\" % (r, p))\n",
    "ax.annotate(\"r = {:.2f}\".format(r), xy=(.05, .9), xycoords=ax.transAxes, fontsize=fontsize)"
   ]
  },
  {
   "cell_type": "markdown",
   "metadata": {},
   "source": [
    "## # bp covered"
   ]
  },
  {
   "cell_type": "markdown",
   "metadata": {},
   "source": [
    "#### fimo only"
   ]
  },
  {
   "cell_type": "code",
   "execution_count": 72,
   "metadata": {
    "collapsed": true
   },
   "outputs": [],
   "source": [
    "no_nan = mean_activ_fimo[~pd.isnull(mean_activ_fimo[\"log_n_bp_cov\"]) &\n",
    "                         ~pd.isnull(mean_activ_fimo[\"cage_activ\"])]"
   ]
  },
  {
   "cell_type": "code",
   "execution_count": 73,
   "metadata": {},
   "outputs": [
    {
     "name": "stdout",
     "output_type": "stream",
     "text": [
      "r: 0.173679812592, spearman p: 1.72519296715e-15\n"
     ]
    },
    {
     "data": {
      "text/plain": [
       "<matplotlib.text.Annotation at 0x2adb486ebeb8>"
      ]
     },
     "execution_count": 73,
     "metadata": {},
     "output_type": "execute_result"
    },
    {
     "data": {
      "image/png": "[encoded data removed]",
      "text/plain": [
       "<matplotlib.figure.Figure at 0x2adb47d7eac8>"
      ]
     },
     "metadata": {},
     "output_type": "display_data"
    }
   ],
   "source": [
    "fig = plt.figure(figsize=(1.2, 1.2))\n",
    "ax = sns.kdeplot(no_nan[\"log_n_bp_cov\"], no_nan[\"cage_activ\"], cmap=\"Blues\", \n",
    "                 shade=True, shade_lowest=False)\n",
    "ax.set_ylabel(\"CAGE expression\")\n",
    "ax.set_xlabel(\"log(number of bp covered by motif)\")\n",
    "\n",
    "r, p = stats.spearmanr(no_nan[\"log_n_bp_cov\"], no_nan[\"cage_activ\"])\n",
    "print(\"r: %s, spearman p: %s\" % (r, p))\n",
    "ax.annotate(\"r = {:.2f}\".format(r), xy=(.05, .9), xycoords=ax.transAxes, fontsize=fontsize)"
   ]
  },
  {
   "cell_type": "code",
   "execution_count": 74,
   "metadata": {
    "collapsed": true
   },
   "outputs": [],
   "source": [
    "no_nan = mean_activ_fimo[~pd.isnull(mean_activ_fimo[\"log_n_bp_cov\"]) &\n",
    "                         ~pd.isnull(mean_activ_fimo[\"cage_ts\"])]"
   ]
  },
  {
   "cell_type": "code",
   "execution_count": 75,
   "metadata": {},
   "outputs": [
    {
     "name": "stdout",
     "output_type": "stream",
     "text": [
      "r: -0.109583271463, spearman p: 4.55650312506e-06\n"
     ]
    },
    {
     "data": {
      "text/plain": [
       "<matplotlib.text.Annotation at 0x2adb48781dd8>"
      ]
     },
     "execution_count": 75,
     "metadata": {},
     "output_type": "execute_result"
    },
    {
     "data": {
      "image/png": "[encoded data removed]",
      "text/plain": [
       "<matplotlib.figure.Figure at 0x2adb486c5668>"
      ]
     },
     "metadata": {},
     "output_type": "display_data"
    }
   ],
   "source": [
    "fig = plt.figure(figsize=(1.2, 1.2))\n",
    "ax = sns.kdeplot(no_nan[\"log_n_bp_cov\"], no_nan[\"cage_ts\"], cmap=\"Blues\", \n",
    "                 shade=True, shade_lowest=False)\n",
    "ax.set_ylabel(\"tissue specificity in CAGE\")\n",
    "ax.set_xlabel(\"log(number of bp covered by motif)\")\n",
    "\n",
    "r, p = stats.spearmanr(no_nan[\"log_n_bp_cov\"], no_nan[\"cage_ts\"])\n",
    "print(\"r: %s, spearman p: %s\" % (r, p))\n",
    "ax.annotate(\"r = {:.2f}\".format(r), xy=(.05, .9), xycoords=ax.transAxes, fontsize=fontsize)"
   ]
  },
  {
   "cell_type": "markdown",
   "metadata": {},
   "source": [
    "#### fimo intersected w/ chip"
   ]
  },
  {
   "cell_type": "code",
   "execution_count": 76,
   "metadata": {
    "collapsed": true
   },
   "outputs": [],
   "source": [
    "no_nan = mean_activ_fimo_chip[~pd.isnull(mean_activ_fimo_chip[\"log_n_bp_cov\"]) &\n",
    "                              ~pd.isnull(mean_activ_fimo_chip[\"cage_activ\"])]"
   ]
  },
  {
   "cell_type": "code",
   "execution_count": 77,
   "metadata": {},
   "outputs": [
    {
     "name": "stdout",
     "output_type": "stream",
     "text": [
      "r: 0.397196633401, spearman p: 1.56906855851e-32\n"
     ]
    },
    {
     "data": {
      "text/plain": [
       "<matplotlib.text.Annotation at 0x2adb4caef048>"
      ]
     },
     "execution_count": 77,
     "metadata": {},
     "output_type": "execute_result"
    },
    {
     "data": {
      "image/png": "[encoded data removed]",
      "text/plain": [
       "<matplotlib.figure.Figure at 0x2adb486c5940>"
      ]
     },
     "metadata": {},
     "output_type": "display_data"
    }
   ],
   "source": [
    "fig = plt.figure(figsize=(1.2, 1.2))\n",
    "ax = sns.kdeplot(no_nan[\"log_n_bp_cov\"], no_nan[\"cage_activ\"], cmap=\"Blues\", \n",
    "                 shade=True, shade_lowest=False)\n",
    "ax.set_ylabel(\"CAGE expression\")\n",
    "ax.set_xlabel(\"log(number of bp covered by motif)\")\n",
    "\n",
    "r, p = stats.spearmanr(no_nan[\"log_n_bp_cov\"], no_nan[\"cage_activ\"])\n",
    "print(\"r: %s, spearman p: %s\" % (r, p))\n",
    "ax.annotate(\"r = {:.2f}\".format(r), xy=(.05, .9), xycoords=ax.transAxes, fontsize=fontsize)"
   ]
  },
  {
   "cell_type": "code",
   "execution_count": 78,
   "metadata": {
    "collapsed": true
   },
   "outputs": [],
   "source": [
    "no_nan = mean_activ_fimo_chip[~pd.isnull(mean_activ_fimo_chip[\"log_n_bp_cov\"]) &\n",
    "                              ~pd.isnull(mean_activ_fimo_chip[\"cage_ts\"])]"
   ]
  },
  {
   "cell_type": "code",
   "execution_count": 79,
   "metadata": {},
   "outputs": [
    {
     "name": "stdout",
     "output_type": "stream",
     "text": [
      "r: -0.368420419965, spearman p: 1.02173388163e-25\n"
     ]
    },
    {
     "data": {
      "text/plain": [
       "<matplotlib.text.Annotation at 0x2adb488587b8>"
      ]
     },
     "execution_count": 79,
     "metadata": {},
     "output_type": "execute_result"
    },
    {
     "data": {
      "image/png": "[encoded data removed]",
      "text/plain": [
       "<matplotlib.figure.Figure at 0x2adb4cb01cf8>"
      ]
     },
     "metadata": {},
     "output_type": "display_data"
    }
   ],
   "source": [
    "fig = plt.figure(figsize=(1.2, 1.2))\n",
    "ax = sns.kdeplot(no_nan[\"log_n_bp_cov\"], no_nan[\"cage_ts\"], cmap=\"Blues\", \n",
    "                 shade=True, shade_lowest=False)\n",
    "ax.set_ylabel(\"tissue specificity in CAGE\")\n",
    "ax.set_xlabel(\"log(number of bp covered by motif)\")\n",
    "\n",
    "r, p = stats.spearmanr(no_nan[\"log_n_bp_cov\"], no_nan[\"cage_ts\"])\n",
    "print(\"r: %s, spearman p: %s\" % (r, p))\n",
    "ax.annotate(\"r = {:.2f}\".format(r), xy=(.05, .9), xycoords=ax.transAxes, fontsize=fontsize)"
   ]
  },
  {
   "cell_type": "markdown",
   "metadata": {},
   "source": [
    "## max overlapping motifs"
   ]
  },
  {
   "cell_type": "markdown",
   "metadata": {},
   "source": [
    "#### fimo only"
   ]
  },
  {
   "cell_type": "code",
   "execution_count": 80,
   "metadata": {
    "collapsed": true
   },
   "outputs": [],
   "source": [
    "cmap = sns.light_palette(\"firebrick\", as_cmap=True)"
   ]
  },
  {
   "cell_type": "code",
   "execution_count": 81,
   "metadata": {
    "collapsed": true
   },
   "outputs": [],
   "source": [
    "no_nan = mean_activ_fimo[~pd.isnull(mean_activ_fimo[\"log_max_cov\"]) &\n",
    "                         ~pd.isnull(mean_activ_fimo[\"cage_activ\"])]"
   ]
  },
  {
   "cell_type": "code",
   "execution_count": 82,
   "metadata": {},
   "outputs": [
    {
     "name": "stdout",
     "output_type": "stream",
     "text": [
      "r: 0.253875184384, spearman p: 8.01597574031e-32\n"
     ]
    },
    {
     "data": {
      "text/plain": [
       "<matplotlib.text.Annotation at 0x2adb4cba6160>"
      ]
     },
     "execution_count": 82,
     "metadata": {},
     "output_type": "execute_result"
    },
    {
     "data": {
      "image/png": "[encoded data removed]",
      "text/plain": [
       "<matplotlib.figure.Figure at 0x2adb4cac2c88>"
      ]
     },
     "metadata": {},
     "output_type": "display_data"
    }
   ],
   "source": [
    "fig = plt.figure(figsize=(1.2, 1.2))\n",
    "ax = sns.kdeplot(no_nan[\"log_max_cov\"], no_nan[\"cage_activ\"], cmap=cmap, \n",
    "                 shade=True, shade_lowest=False)\n",
    "ax.set_ylabel(\"CAGE expression\")\n",
    "ax.set_xlabel(\"log(max overlapping motifs)\")\n",
    "\n",
    "r, p = stats.spearmanr(no_nan[\"log_max_cov\"], no_nan[\"cage_activ\"])\n",
    "print(\"r: %s, spearman p: %s\" % (r, p))\n",
    "ax.annotate(\"r = {:.2f}\".format(r), xy=(.05, .9), xycoords=ax.transAxes, fontsize=fontsize)"
   ]
  },
  {
   "cell_type": "code",
   "execution_count": 83,
   "metadata": {
    "collapsed": true
   },
   "outputs": [],
   "source": [
    "no_nan = mean_activ_fimo[~pd.isnull(mean_activ_fimo[\"log_max_cov\"]) &\n",
    "                         ~pd.isnull(mean_activ_fimo[\"cage_ts\"])]"
   ]
  },
  {
   "cell_type": "code",
   "execution_count": 84,
   "metadata": {},
   "outputs": [
    {
     "name": "stdout",
     "output_type": "stream",
     "text": [
      "r: -0.188838196051, spearman p: 1.90250323754e-15\n"
     ]
    },
    {
     "data": {
      "text/plain": [
       "<matplotlib.text.Annotation at 0x2adb4cc4f320>"
      ]
     },
     "execution_count": 84,
     "metadata": {},
     "output_type": "execute_result"
    },
    {
     "data": {
      "image/png": "[encoded data removed]",
      "text/plain": [
       "<matplotlib.figure.Figure at 0x2adb4ccd7748>"
      ]
     },
     "metadata": {},
     "output_type": "display_data"
    }
   ],
   "source": [
    "fig = plt.figure(figsize=(1.2, 1.2))\n",
    "ax = sns.kdeplot(no_nan[\"log_max_cov\"], no_nan[\"cage_ts\"], cmap=cmap, \n",
    "                 shade=True, shade_lowest=False)\n",
    "ax.set_ylabel(\"tissue specificity in CAGE\")\n",
    "ax.set_xlabel(\"log(max overlapping motifs)\")\n",
    "\n",
    "r, p = stats.spearmanr(no_nan[\"log_max_cov\"], no_nan[\"cage_ts\"])\n",
    "print(\"r: %s, spearman p: %s\" % (r, p))\n",
    "ax.annotate(\"r = {:.2f}\".format(r), xy=(.05, .9), xycoords=ax.transAxes, fontsize=fontsize)"
   ]
  },
  {
   "cell_type": "markdown",
   "metadata": {},
   "source": [
    "#### fimo intersected w/ chip"
   ]
  },
  {
   "cell_type": "code",
   "execution_count": 85,
   "metadata": {
    "collapsed": true
   },
   "outputs": [],
   "source": [
    "no_nan = mean_activ_fimo_chip[~pd.isnull(mean_activ_fimo_chip[\"log_max_cov\"]) &\n",
    "                              ~pd.isnull(mean_activ_fimo_chip[\"cage_activ\"])]"
   ]
  },
  {
   "cell_type": "code",
   "execution_count": 86,
   "metadata": {},
   "outputs": [
    {
     "name": "stdout",
     "output_type": "stream",
     "text": [
      "r: 0.239061507537, spearman p: 3.5760035583e-12\n"
     ]
    },
    {
     "data": {
      "text/plain": [
       "<matplotlib.text.Annotation at 0x2adb4ccc9e80>"
      ]
     },
     "execution_count": 86,
     "metadata": {},
     "output_type": "execute_result"
    },
    {
     "data": {
      "image/png": "[encoded data removed]",
      "text/plain": [
       "<matplotlib.figure.Figure at 0x2adb48786240>"
      ]
     },
     "metadata": {},
     "output_type": "display_data"
    }
   ],
   "source": [
    "fig = plt.figure(figsize=(1.2, 1.2))\n",
    "ax = sns.kdeplot(no_nan[\"log_max_cov\"], no_nan[\"cage_activ\"], cmap=cmap, \n",
    "                 shade=True, shade_lowest=False)\n",
    "ax.set_ylabel(\"CAGE expression\")\n",
    "ax.set_xlabel(\"log(max overlapping motifs)\")\n",
    "\n",
    "r, p = stats.spearmanr(no_nan[\"log_max_cov\"], no_nan[\"cage_activ\"])\n",
    "print(\"r: %s, spearman p: %s\" % (r, p))\n",
    "ax.annotate(\"r = {:.2f}\".format(r), xy=(.05, .9), xycoords=ax.transAxes, fontsize=fontsize)"
   ]
  },
  {
   "cell_type": "code",
   "execution_count": 87,
   "metadata": {
    "collapsed": true
   },
   "outputs": [],
   "source": [
    "no_nan = mean_activ_fimo_chip[~pd.isnull(mean_activ_fimo_chip[\"log_max_cov\"]) &\n",
    "                              ~pd.isnull(mean_activ_fimo_chip[\"cage_ts\"])]"
   ]
  },
  {
   "cell_type": "code",
   "execution_count": 88,
   "metadata": {},
   "outputs": [
    {
     "name": "stdout",
     "output_type": "stream",
     "text": [
      "r: -0.234426777849, spearman p: 6.74776948963e-11\n"
     ]
    },
    {
     "data": {
      "text/plain": [
       "<matplotlib.text.Annotation at 0x2adb4cd8d9b0>"
      ]
     },
     "execution_count": 88,
     "metadata": {},
     "output_type": "execute_result"
    },
    {
     "data": {
      "image/png": "[encoded data removed]",
      "text/plain": [
       "<matplotlib.figure.Figure at 0x2adb4caef320>"
      ]
     },
     "metadata": {},
     "output_type": "display_data"
    }
   ],
   "source": [
    "fig = plt.figure(figsize=(1.2, 1.2))\n",
    "ax = sns.kdeplot(no_nan[\"log_max_cov\"], no_nan[\"cage_ts\"], cmap=cmap, \n",
    "                 shade=True, shade_lowest=False)\n",
    "ax.set_ylabel(\"tissue specificity in CAGE\")\n",
    "ax.set_xlabel(\"log(max overlapping motifs)\")\n",
    "\n",
    "r, p = stats.spearmanr(no_nan[\"log_max_cov\"], no_nan[\"cage_ts\"])\n",
    "print(\"r: %s, spearman p: %s\" % (r, p))\n",
    "ax.annotate(\"r = {:.2f}\".format(r), xy=(.05, .9), xycoords=ax.transAxes, fontsize=fontsize)"
   ]
  },
  {
   "cell_type": "markdown",
   "metadata": {},
   "source": [
    "## 6. write files"
   ]
  },
  {
   "cell_type": "code",
   "execution_count": 89,
   "metadata": {
    "collapsed": true
   },
   "outputs": [],
   "source": [
    "mean_activ_fimo.drop([\"med_tf_tissue_sp\", \"log_med_tf_tissue_sp\"], axis=1, inplace=True)"
   ]
  },
  {
   "cell_type": "code",
   "execution_count": 90,
   "metadata": {
    "collapsed": true
   },
   "outputs": [],
   "source": [
    "mean_activ_fimo_chip.drop([\"med_tf_tissue_sp\", \"log_med_tf_tissue_sp\"], axis=1, inplace=True)"
   ]
  },
  {
   "cell_type": "code",
   "execution_count": 91,
   "metadata": {
    "collapsed": true
   },
   "outputs": [],
   "source": [
    "out_dir = \"../../data/04__coverage\"\n",
    "!mkdir -p $out_dir\n",
    "mean_activ_fimo.to_csv(\"%s/FIMO.coverage.new.txt\" % out_dir, sep=\"\\t\", index=False)\n",
    "mean_activ_fimo_chip.to_csv(\"%s/FIMO.ChIPIntersect.coverage.new.txt\" % out_dir, sep=\"\\t\", index=False)"
   ]
  },
  {
   "cell_type": "code",
   "execution_count": null,
   "metadata": {
    "collapsed": true
   },
   "outputs": [],
   "source": []
  }
 ],
 "metadata": {
  "kernelspec": {
   "display_name": "Python 3",
   "language": "python",
   "name": "python3"
  },
  "language_info": {
   "codemirror_mode": {
    "name": "ipython",
    "version": 3
   },
   "file_extension": ".py",
   "mimetype": "text/x-python",
   "name": "python",
   "nbconvert_exporter": "python",
   "pygments_lexer": "ipython3",
   "version": "3.6.2"
  }
 },
 "nbformat": 4,
 "nbformat_minor": 2
}
