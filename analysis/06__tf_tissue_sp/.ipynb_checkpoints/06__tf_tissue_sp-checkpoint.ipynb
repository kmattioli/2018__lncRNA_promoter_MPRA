{
 "cells": [
  {
   "cell_type": "markdown",
   "metadata": {},
   "source": [
    "# 06__tf_tissue_sp\n",
    "# calculating tissue specificity of TFs (across HepG2, HeLa, and K562)\n",
    "\n",
    "in this notebook, i calculate the tissue specificity of TFs across the 3 cell types in our MPRAs using ENCODE RNA-seq data. then, i correlate motif coverage (# bp covered and maximum coverage) as well as average TF specificity with MPRA activities and specificities.\n",
    "\n",
    "note: the FIMO mappings and coverage calculations were done separately (see methods)\n",
    "\n",
    "------\n",
    "\n",
    "figures in this notebook:\n",
    "- **Fig 2C**: KDE plot of correlations of MPRA activity & specificity with each of the 3 metrics"
   ]
  },
  {
   "cell_type": "code",
   "execution_count": 1,
   "metadata": {
    "collapsed": true
   },
   "outputs": [],
   "source": [
    "import warnings\n",
    "warnings.filterwarnings('ignore')\n",
    "\n",
    "import pandas as pd\n",
    "import numpy as np\n",
    "import matplotlib as mpl\n",
    "import matplotlib.pyplot as plt\n",
    "import seaborn as sns\n",
    "import sys\n",
    "import time\n",
    "\n",
    "from itertools import chain\n",
    "from decimal import Decimal\n",
    "from scipy import stats\n",
    "from scipy import signal\n",
    "from statsmodels.sandbox.stats import multicomp\n",
    "\n",
    "# import utils\n",
    "sys.path.append(\"../../utils\")\n",
    "from plotting_utils import *\n",
    "from misc_utils import *\n",
    "from norm_utils import *\n",
    "\n",
    "%matplotlib inline"
   ]
  },
  {
   "cell_type": "code",
   "execution_count": 2,
   "metadata": {
    "collapsed": true
   },
   "outputs": [],
   "source": [
    "sns.set(**PAPER_PRESET)\n",
    "fontsize = PAPER_FONTSIZE"
   ]
  },
  {
   "cell_type": "markdown",
   "metadata": {},
   "source": [
    "## functions"
   ]
  },
  {
   "cell_type": "code",
   "execution_count": 3,
   "metadata": {
    "collapsed": true
   },
   "outputs": [],
   "source": [
    "def fix_small_decimal(row):\n",
    "    if row.max_cov < 1:\n",
    "        return 0\n",
    "    else:\n",
    "        return row.max_cov"
   ]
  },
  {
   "cell_type": "code",
   "execution_count": 4,
   "metadata": {
    "collapsed": true
   },
   "outputs": [],
   "source": [
    "def get_cage_id(row):\n",
    "    if \"Enhancer\" in row.unique_id:\n",
    "        return row.unique_id.split(\"__\")[1]\n",
    "    else:\n",
    "        return row.unique_id.split(\"__\")[2]"
   ]
  },
  {
   "cell_type": "markdown",
   "metadata": {},
   "source": [
    "## variables"
   ]
  },
  {
   "cell_type": "code",
   "execution_count": 5,
   "metadata": {
    "collapsed": true
   },
   "outputs": [],
   "source": [
    "index_dir = \"../../data/00__index\"\n",
    "index_f = \"%s/tss_oligo_pool.index.txt\" % index_dir"
   ]
  },
  {
   "cell_type": "code",
   "execution_count": 6,
   "metadata": {
    "collapsed": true
   },
   "outputs": [],
   "source": [
    "hepg2_activ_f = \"../../data/02__activs/POOL1__pMPRA1__HepG2__activities_per_element.txt\"\n",
    "hela_activ_f = \"../../data/02__activs/POOL1__pMPRA1__HeLa__activities_per_element.txt\"\n",
    "k562_activ_f = \"../../data/02__activs/POOL1__pMPRA1__K562__activities_per_element.txt\""
   ]
  },
  {
   "cell_type": "code",
   "execution_count": 7,
   "metadata": {
    "collapsed": true
   },
   "outputs": [],
   "source": [
    "fimo_f = \"../../misc/03__fimo/03__grouped_fimo_outputs/all_fimo_map.grouped.uniq.txt\"\n",
    "fimo_chip_f = \"../../misc/03__fimo/03__grouped_fimo_outputs/all_fimo_map.new_chip_intersected.grouped.uniq.txt\"\n",
    "pool1_fimo_f = \"../../misc/03__fimo/03__grouped_fimo_outputs/pool1_fimo_map.grouped.uniq.txt\"\n",
    "pool1_fimo_chip_f = \"../../misc/03__fimo/03__grouped_fimo_outputs/pool1_fimo_map.new_chip_intersected.grouped.uniq.txt\"\n",
    "pool1_fimo_no_ets_f = \"../../misc/03__fimo/03__grouped_fimo_outputs/pool1_fimo_map.grouped.no_ETS_motifs.txt\"\n",
    "pool1_fimo_no_ets_chip_f = \"../../misc/03__fimo/03__grouped_fimo_outputs/pool1_fimo_map.new_chip_intersected.grouped.no_ETS_motifs.txt\""
   ]
  },
  {
   "cell_type": "code",
   "execution_count": 8,
   "metadata": {
    "collapsed": true
   },
   "outputs": [],
   "source": [
    "fimo_bp_cov_f = \"../../data/04__coverage/all_fimo_map.bp_covered.new.txt\"\n",
    "fimo_max_cov_f = \"../../data/04__coverage/all_fimo_map.max_coverage.new.txt\"\n",
    "\n",
    "fimo_chip_bp_cov_f = \"../../data/04__coverage/all_fimo_map.new_chip_intersected.bp_covered.txt\"\n",
    "fimo_chip_max_cov_f = \"../../data/04__coverage/all_fimo_map.new_chip_intersected.max_coverage.txt\"\n",
    "\n",
    "fimo_clust_bp_cov_f = \"../../data/04__coverage/all_fimo_map.bulyk_clusters.bp_covered.new.txt\"\n",
    "fimo_clust_max_cov_f = \"../../data/04__coverage/all_fimo_map.bulyk_clusters.max_coverage.new.txt\""
   ]
  },
  {
   "cell_type": "code",
   "execution_count": 9,
   "metadata": {
    "collapsed": true
   },
   "outputs": [],
   "source": [
    "fimo_no_ets_bp_cov_f = \"../../data/04__coverage/all_fimo_map.no_ETS_motifs.bp_covered.txt\"\n",
    "fimo_no_ets_max_cov_f = \"../../data/04__coverage/all_fimo_map.no_ETS_motifs.max_coverage.txt\"\n",
    "\n",
    "fimo_no_ets_chip_bp_cov_f = \"../../data/04__coverage/all_fimo_map.new_chip_intersected.no_ETS_motifs.bp_covered.txt\"\n",
    "fimo_no_ets_chip_max_cov_f = \"../../data/04__coverage/all_fimo_map.new_chip_intersected.no_ETS_motifs.max_coverage.txt\""
   ]
  },
  {
   "cell_type": "code",
   "execution_count": 10,
   "metadata": {
    "collapsed": true
   },
   "outputs": [],
   "source": [
    "pool1_fimo_bp_cov_f = \"../../data/04__coverage/pool1_fimo_map.bp_covered.new.txt\"\n",
    "pool1_fimo_max_cov_f = \"../../data/04__coverage/pool1_fimo_map.max_coverage.new.txt\"\n",
    "\n",
    "pool1_fimo_chip_bp_cov_f = \"../../data/04__coverage/pool1_fimo_map.new_chip_intersected.bp_covered.txt\"\n",
    "pool1_fimo_chip_max_cov_f = \"../../data/04__coverage/pool1_fimo_map.new_chip_intersected.max_coverage.txt\""
   ]
  },
  {
   "cell_type": "code",
   "execution_count": 11,
   "metadata": {
    "collapsed": true
   },
   "outputs": [],
   "source": [
    "pool1_fimo_no_ets_bp_cov_f = \"../../data/04__coverage/pool1_fimo_map.no_ETS_motifs.bp_covered.txt\"\n",
    "pool1_fimo_no_ets_max_cov_f = \"../../data/04__coverage/pool1_fimo_map.no_ETS_motifs.max_coverage.txt\"\n",
    "\n",
    "pool1_fimo_no_ets_chip_bp_cov_f = \"../../data/04__coverage/pool1_fimo_map.new_chip_intersected.no_ETS_motifs.bp_covered.txt\"\n",
    "pool1_fimo_no_ets_chip_max_cov_f = \"../../data/04__coverage/pool1_fimo_map.new_chip_intersected.no_ETS_motifs.max_coverage.txt\""
   ]
  },
  {
   "cell_type": "code",
   "execution_count": 12,
   "metadata": {
    "collapsed": true
   },
   "outputs": [],
   "source": [
    "tf_ts_f = \"../../data/04__coverage/TF_tissue_specificities.from_CAGE.txt\""
   ]
  },
  {
   "cell_type": "code",
   "execution_count": 13,
   "metadata": {
    "collapsed": true
   },
   "outputs": [],
   "source": [
    "cage_v_mpra_f = \"../../data/02__activs/POOL1__pMPRA1__CAGE_vs_MPRA_activs.txt\""
   ]
  },
  {
   "cell_type": "code",
   "execution_count": 14,
   "metadata": {
    "collapsed": true
   },
   "outputs": [],
   "source": [
    "tss_cage_map_f = \"../../misc/00__tss_properties/mpra_tss_detailed_info.txt\"\n",
    "enh_cage_map_f = \"../../misc/00__tss_properties/enhancer_id_map.txt\""
   ]
  },
  {
   "cell_type": "markdown",
   "metadata": {},
   "source": [
    "## 1. import data"
   ]
  },
  {
   "cell_type": "code",
   "execution_count": 15,
   "metadata": {},
   "outputs": [
    {
     "data": {
      "text/html": [
       "<div>\n",
       "<style>\n",
       "    .dataframe thead tr:only-child th {\n",
       "        text-align: right;\n",
       "    }\n",
       "\n",
       "    .dataframe thead th {\n",
       "        text-align: left;\n",
       "    }\n",
       "\n",
       "    .dataframe tbody tr th {\n",
       "        vertical-align: top;\n",
       "    }\n",
       "</style>\n",
       "<table border=\"1\" class=\"dataframe\">\n",
       "  <thead>\n",
       "    <tr style=\"text-align: right;\">\n",
       "      <th></th>\n",
       "      <th>motif_chr</th>\n",
       "      <th>motif_start</th>\n",
       "      <th>motif_end</th>\n",
       "      <th>unique_id</th>\n",
       "      <th>score</th>\n",
       "      <th>strand</th>\n",
       "      <th>chr</th>\n",
       "      <th>start</th>\n",
       "      <th>end</th>\n",
       "      <th>motif</th>\n",
       "      <th>motif_score</th>\n",
       "      <th>motif_strand</th>\n",
       "    </tr>\n",
       "  </thead>\n",
       "  <tbody>\n",
       "    <tr>\n",
       "      <th>0</th>\n",
       "      <td>chr10</td>\n",
       "      <td>100027916</td>\n",
       "      <td>100027925</td>\n",
       "      <td>protein_coding__p1@LOXL4__chr10:100027943..100...</td>\n",
       "      <td>0</td>\n",
       "      <td>-</td>\n",
       "      <td>chr10</td>\n",
       "      <td>100027914</td>\n",
       "      <td>100027925</td>\n",
       "      <td>NRF1</td>\n",
       "      <td>12.7455</td>\n",
       "      <td>-</td>\n",
       "    </tr>\n",
       "    <tr>\n",
       "      <th>1</th>\n",
       "      <td>chr10</td>\n",
       "      <td>100027946</td>\n",
       "      <td>100027957</td>\n",
       "      <td>protein_coding__p1@LOXL4__chr10:100027943..100...</td>\n",
       "      <td>0</td>\n",
       "      <td>-</td>\n",
       "      <td>chr10</td>\n",
       "      <td>100027946</td>\n",
       "      <td>100027957</td>\n",
       "      <td>E2F6</td>\n",
       "      <td>13.5862</td>\n",
       "      <td>-</td>\n",
       "    </tr>\n",
       "    <tr>\n",
       "      <th>2</th>\n",
       "      <td>chr10</td>\n",
       "      <td>100027961</td>\n",
       "      <td>100027973</td>\n",
       "      <td>protein_coding__p1@LOXL4__chr10:100027943..100...</td>\n",
       "      <td>0</td>\n",
       "      <td>-</td>\n",
       "      <td>chr10</td>\n",
       "      <td>100027961</td>\n",
       "      <td>100027973</td>\n",
       "      <td>TFAP2A(var.2)</td>\n",
       "      <td>13.9273</td>\n",
       "      <td>+</td>\n",
       "    </tr>\n",
       "    <tr>\n",
       "      <th>3</th>\n",
       "      <td>chr10</td>\n",
       "      <td>100027961</td>\n",
       "      <td>100027973</td>\n",
       "      <td>protein_coding__p1@LOXL4__chr10:100027943..100...</td>\n",
       "      <td>0</td>\n",
       "      <td>-</td>\n",
       "      <td>chr10</td>\n",
       "      <td>100027961</td>\n",
       "      <td>100027973</td>\n",
       "      <td>TFAP2B</td>\n",
       "      <td>13.5091</td>\n",
       "      <td>-</td>\n",
       "    </tr>\n",
       "    <tr>\n",
       "      <th>4</th>\n",
       "      <td>chr10</td>\n",
       "      <td>100027961</td>\n",
       "      <td>100027973</td>\n",
       "      <td>protein_coding__p1@LOXL4__chr10:100027943..100...</td>\n",
       "      <td>0</td>\n",
       "      <td>-</td>\n",
       "      <td>chr10</td>\n",
       "      <td>100027961</td>\n",
       "      <td>100027973</td>\n",
       "      <td>TFAP2C</td>\n",
       "      <td>13.1735</td>\n",
       "      <td>+</td>\n",
       "    </tr>\n",
       "  </tbody>\n",
       "</table>\n",
       "</div>"
      ],
      "text/plain": [
       "  motif_chr  motif_start  motif_end  \\\n",
       "0     chr10    100027916  100027925   \n",
       "1     chr10    100027946  100027957   \n",
       "2     chr10    100027961  100027973   \n",
       "3     chr10    100027961  100027973   \n",
       "4     chr10    100027961  100027973   \n",
       "\n",
       "                                           unique_id  score strand    chr  \\\n",
       "0  protein_coding__p1@LOXL4__chr10:100027943..100...      0      -  chr10   \n",
       "1  protein_coding__p1@LOXL4__chr10:100027943..100...      0      -  chr10   \n",
       "2  protein_coding__p1@LOXL4__chr10:100027943..100...      0      -  chr10   \n",
       "3  protein_coding__p1@LOXL4__chr10:100027943..100...      0      -  chr10   \n",
       "4  protein_coding__p1@LOXL4__chr10:100027943..100...      0      -  chr10   \n",
       "\n",
       "       start        end          motif  motif_score motif_strand  \n",
       "0  100027914  100027925           NRF1      12.7455            -  \n",
       "1  100027946  100027957           E2F6      13.5862            -  \n",
       "2  100027961  100027973  TFAP2A(var.2)      13.9273            +  \n",
       "3  100027961  100027973         TFAP2B      13.5091            -  \n",
       "4  100027961  100027973         TFAP2C      13.1735            +  "
      ]
     },
     "execution_count": 15,
     "metadata": {},
     "output_type": "execute_result"
    }
   ],
   "source": [
    "fimo = pd.read_table(fimo_f, sep=\"\\t\", header=None)\n",
    "fimo.columns = [\"motif_chr\", \"motif_start\", \"motif_end\", \"unique_id\", \"score\", \"strand\", \"chr\", \"start\", \"end\", \n",
    "                \"motif\", \"motif_score\", \"motif_strand\"]\n",
    "fimo.head()"
   ]
  },
  {
   "cell_type": "code",
   "execution_count": 16,
   "metadata": {
    "collapsed": true
   },
   "outputs": [],
   "source": [
    "fimo_chip = pd.read_table(fimo_chip_f, sep=\"\\t\", header=None)\n",
    "fimo_chip.columns = [\"motif_chr\", \"motif_start\", \"motif_end\", \"unique_id\", \"score\", \"strand\", \"chr\", \"start\", \"end\", \n",
    "                     \"motif\", \"motif_score\", \"motif_strand\"]"
   ]
  },
  {
   "cell_type": "code",
   "execution_count": 17,
   "metadata": {
    "collapsed": true
   },
   "outputs": [],
   "source": [
    "pool1_fimo = pd.read_table(pool1_fimo_f, sep=\"\\t\", header=None)\n",
    "pool1_fimo.columns = [\"motif_chr\", \"motif_start\", \"motif_end\", \"unique_id\", \"score\", \"strand\", \"chr\", \"start\", \"end\", \n",
    "                      \"motif\", \"motif_score\", \"motif_strand\"]"
   ]
  },
  {
   "cell_type": "code",
   "execution_count": 18,
   "metadata": {
    "collapsed": true
   },
   "outputs": [],
   "source": [
    "pool1_fimo_chip = pd.read_table(pool1_fimo_chip_f, sep=\"\\t\", header=None)\n",
    "pool1_fimo_chip.columns = [\"motif_chr\", \"motif_start\", \"motif_end\", \"unique_id\", \"score\", \"strand\", \"chr\", \"start\", \n",
    "                           \"end\", \"motif\", \"motif_score\", \"motif_strand\"]"
   ]
  },
  {
   "cell_type": "code",
   "execution_count": 19,
   "metadata": {
    "collapsed": true
   },
   "outputs": [],
   "source": [
    "pool1_fimo_no_ets = pd.read_table(pool1_fimo_no_ets_f, sep=\"\\t\", header=None)\n",
    "pool1_fimo_no_ets.columns = [\"motif_chr\", \"motif_start\", \"motif_end\", \"unique_id\", \"score\", \"strand\", \"chr\", \"start\", \n",
    "                             \"end\", \"motif\", \"motif_score\", \"motif_strand\"]"
   ]
  },
  {
   "cell_type": "code",
   "execution_count": 20,
   "metadata": {
    "collapsed": true
   },
   "outputs": [],
   "source": [
    "pool1_fimo_no_ets_chip = pd.read_table(pool1_fimo_no_ets_chip_f, sep=\"\\t\", header=None)\n",
    "pool1_fimo_no_ets_chip.columns = [\"motif_chr\", \"motif_start\", \"motif_end\", \"unique_id\", \"score\", \"strand\", \"chr\", \n",
    "                                  \"start\", \"end\", \"motif\", \"motif_score\", \"motif_strand\"]"
   ]
  },
  {
   "cell_type": "code",
   "execution_count": 21,
   "metadata": {
    "collapsed": true
   },
   "outputs": [],
   "source": [
    "index = pd.read_table(index_f, sep=\"\\t\")\n",
    "index_elem = index[[\"element\", \"oligo_type\", \"unique_id\", \"dupe_info\", \"SNP\", \"seq_name\"]]\n",
    "index_elem = index_elem.drop_duplicates()"
   ]
  },
  {
   "cell_type": "code",
   "execution_count": 22,
   "metadata": {
    "collapsed": true
   },
   "outputs": [],
   "source": [
    "hepg2_activ = pd.read_table(hepg2_activ_f, sep=\"\\t\")\n",
    "hela_activ = pd.read_table(hela_activ_f, sep=\"\\t\")\n",
    "k562_activ = pd.read_table(k562_activ_f, sep=\"\\t\")"
   ]
  },
  {
   "cell_type": "code",
   "execution_count": 23,
   "metadata": {
    "collapsed": true
   },
   "outputs": [],
   "source": [
    "hepg2_reps = [x for x in hepg2_activ.columns if \"rna\" in x]\n",
    "hela_reps = [x for x in hela_activ.columns if \"rna\" in x]\n",
    "k562_reps = [x for x in k562_activ.columns if \"rna\" in x]"
   ]
  },
  {
   "cell_type": "code",
   "execution_count": 24,
   "metadata": {},
   "outputs": [
    {
     "name": "stdout",
     "output_type": "stream",
     "text": [
      "56630\n"
     ]
    },
    {
     "data": {
      "text/html": [
       "<div>\n",
       "<style>\n",
       "    .dataframe thead tr:only-child th {\n",
       "        text-align: right;\n",
       "    }\n",
       "\n",
       "    .dataframe thead th {\n",
       "        text-align: left;\n",
       "    }\n",
       "\n",
       "    .dataframe tbody tr th {\n",
       "        vertical-align: top;\n",
       "    }\n",
       "</style>\n",
       "<table border=\"1\" class=\"dataframe\">\n",
       "  <thead>\n",
       "    <tr style=\"text-align: right;\">\n",
       "      <th></th>\n",
       "      <th>chr</th>\n",
       "      <th>start</th>\n",
       "      <th>end</th>\n",
       "      <th>unique_id</th>\n",
       "      <th>score</th>\n",
       "      <th>strand</th>\n",
       "      <th>n_motifs</th>\n",
       "      <th>n_bp_cov</th>\n",
       "      <th>seq_len</th>\n",
       "      <th>frac_bp_cov</th>\n",
       "      <th>max_cov</th>\n",
       "    </tr>\n",
       "  </thead>\n",
       "  <tbody>\n",
       "    <tr>\n",
       "      <th>0</th>\n",
       "      <td>chr10</td>\n",
       "      <td>100027916</td>\n",
       "      <td>100028031</td>\n",
       "      <td>protein_coding__p1@LOXL4__chr10:100027943..100...</td>\n",
       "      <td>0</td>\n",
       "      <td>-</td>\n",
       "      <td>19</td>\n",
       "      <td>66</td>\n",
       "      <td>115</td>\n",
       "      <td>0.573913</td>\n",
       "      <td>7.0</td>\n",
       "    </tr>\n",
       "    <tr>\n",
       "      <th>1</th>\n",
       "      <td>chr10</td>\n",
       "      <td>100074495</td>\n",
       "      <td>100074610</td>\n",
       "      <td>Enhancer__chr10:100074404-100074582</td>\n",
       "      <td>0</td>\n",
       "      <td>+</td>\n",
       "      <td>24</td>\n",
       "      <td>74</td>\n",
       "      <td>115</td>\n",
       "      <td>0.643478</td>\n",
       "      <td>9.0</td>\n",
       "    </tr>\n",
       "    <tr>\n",
       "      <th>2</th>\n",
       "      <td>chr10</td>\n",
       "      <td>100076068</td>\n",
       "      <td>100076183</td>\n",
       "      <td>Enhancer__chr10:100076038-100076149</td>\n",
       "      <td>0</td>\n",
       "      <td>+</td>\n",
       "      <td>24</td>\n",
       "      <td>78</td>\n",
       "      <td>115</td>\n",
       "      <td>0.678261</td>\n",
       "      <td>8.0</td>\n",
       "    </tr>\n",
       "    <tr>\n",
       "      <th>3</th>\n",
       "      <td>chr10</td>\n",
       "      <td>100076605</td>\n",
       "      <td>100076720</td>\n",
       "      <td>Enhancer__chr10:100076500-100076699</td>\n",
       "      <td>0</td>\n",
       "      <td>+</td>\n",
       "      <td>19</td>\n",
       "      <td>83</td>\n",
       "      <td>115</td>\n",
       "      <td>0.721739</td>\n",
       "      <td>8.0</td>\n",
       "    </tr>\n",
       "    <tr>\n",
       "      <th>4</th>\n",
       "      <td>chr10</td>\n",
       "      <td>100083158</td>\n",
       "      <td>100083273</td>\n",
       "      <td>Enhancer__chr10:100082942-100083374</td>\n",
       "      <td>0</td>\n",
       "      <td>+</td>\n",
       "      <td>34</td>\n",
       "      <td>90</td>\n",
       "      <td>115</td>\n",
       "      <td>0.782609</td>\n",
       "      <td>13.0</td>\n",
       "    </tr>\n",
       "  </tbody>\n",
       "</table>\n",
       "</div>"
      ],
      "text/plain": [
       "     chr      start        end  \\\n",
       "0  chr10  100027916  100028031   \n",
       "1  chr10  100074495  100074610   \n",
       "2  chr10  100076068  100076183   \n",
       "3  chr10  100076605  100076720   \n",
       "4  chr10  100083158  100083273   \n",
       "\n",
       "                                           unique_id  score strand  n_motifs  \\\n",
       "0  protein_coding__p1@LOXL4__chr10:100027943..100...      0      -        19   \n",
       "1                Enhancer__chr10:100074404-100074582      0      +        24   \n",
       "2                Enhancer__chr10:100076038-100076149      0      +        24   \n",
       "3                Enhancer__chr10:100076500-100076699      0      +        19   \n",
       "4                Enhancer__chr10:100082942-100083374      0      +        34   \n",
       "\n",
       "   n_bp_cov  seq_len  frac_bp_cov  max_cov  \n",
       "0        66      115     0.573913      7.0  \n",
       "1        74      115     0.643478      9.0  \n",
       "2        78      115     0.678261      8.0  \n",
       "3        83      115     0.721739      8.0  \n",
       "4        90      115     0.782609     13.0  "
      ]
     },
     "execution_count": 24,
     "metadata": {},
     "output_type": "execute_result"
    }
   ],
   "source": [
    "fimo_bp_cov = pd.read_table(fimo_bp_cov_f, sep=\"\\t\", header=None)\n",
    "fimo_bp_cov.columns = [\"chr\", \"start\", \"end\", \"unique_id\", \"score\", \"strand\", \"n_motifs\", \"n_bp_cov\", \"seq_len\", \n",
    "                       \"frac_bp_cov\"]\n",
    "\n",
    "fimo_max_cov = pd.read_table(fimo_max_cov_f, sep=\"\\t\", header=None)\n",
    "fimo_max_cov.columns = [\"unique_id\", \"max_cov\"]\n",
    "\n",
    "fimo_cov = fimo_bp_cov.merge(fimo_max_cov, on=\"unique_id\")\n",
    "print(len(fimo_cov))\n",
    "fimo_cov.head()"
   ]
  },
  {
   "cell_type": "code",
   "execution_count": 25,
   "metadata": {},
   "outputs": [
    {
     "name": "stdout",
     "output_type": "stream",
     "text": [
      "56630\n"
     ]
    }
   ],
   "source": [
    "fimo_no_ets_bp_cov = pd.read_table(fimo_no_ets_bp_cov_f, sep=\"\\t\", header=None)\n",
    "fimo_no_ets_bp_cov.columns = [\"chr\", \"start\", \"end\", \"unique_id\", \"score\", \"strand\", \"n_motifs\", \"n_bp_cov\", \n",
    "                              \"seq_len\", \"frac_bp_cov\"]\n",
    "\n",
    "fimo_no_ets_max_cov = pd.read_table(fimo_no_ets_max_cov_f, sep=\"\\t\", header=None)\n",
    "fimo_no_ets_max_cov.columns = [\"unique_id\", \"max_cov\"]\n",
    "\n",
    "fimo_no_ets_cov = fimo_no_ets_bp_cov.merge(fimo_no_ets_max_cov, on=\"unique_id\")\n",
    "print(len(fimo_no_ets_cov))"
   ]
  },
  {
   "cell_type": "code",
   "execution_count": 26,
   "metadata": {},
   "outputs": [
    {
     "name": "stdout",
     "output_type": "stream",
     "text": [
      "56630\n"
     ]
    }
   ],
   "source": [
    "fimo_no_ets_chip_bp_cov = pd.read_table(fimo_no_ets_chip_bp_cov_f, sep=\"\\t\", header=None)\n",
    "fimo_no_ets_chip_bp_cov.columns = [\"chr\", \"start\", \"end\", \"unique_id\", \"score\", \"strand\", \"n_motifs\", \"n_bp_cov\", \n",
    "                                   \"seq_len\", \"frac_bp_cov\"]\n",
    "\n",
    "fimo_no_ets_chip_max_cov = pd.read_table(fimo_no_ets_chip_max_cov_f, sep=\"\\t\", header=None)\n",
    "fimo_no_ets_chip_max_cov.columns = [\"unique_id\", \"max_cov\"]\n",
    "\n",
    "fimo_no_ets_chip_cov = fimo_no_ets_chip_bp_cov.merge(fimo_no_ets_chip_max_cov, on=\"unique_id\")\n",
    "print(len(fimo_no_ets_chip_cov))"
   ]
  },
  {
   "cell_type": "code",
   "execution_count": 27,
   "metadata": {},
   "outputs": [
    {
     "name": "stdout",
     "output_type": "stream",
     "text": [
      "56630\n"
     ]
    }
   ],
   "source": [
    "fimo_chip_bp_cov = pd.read_table(fimo_chip_bp_cov_f, sep=\"\\t\", header=None)\n",
    "fimo_chip_bp_cov.columns = [\"chr\", \"start\", \"end\", \"unique_id\", \"score\", \"strand\", \"n_motifs\", \"n_bp_cov\", \"seq_len\", \n",
    "                            \"frac_bp_cov\"]\n",
    "\n",
    "fimo_chip_max_cov = pd.read_table(fimo_chip_max_cov_f, sep=\"\\t\", header=None)\n",
    "fimo_chip_max_cov.columns = [\"unique_id\", \"max_cov\"]\n",
    "\n",
    "fimo_chip_cov = fimo_chip_bp_cov.merge(fimo_chip_max_cov, on=\"unique_id\")\n",
    "print(len(fimo_chip_cov))"
   ]
  },
  {
   "cell_type": "code",
   "execution_count": 28,
   "metadata": {},
   "outputs": [
    {
     "name": "stdout",
     "output_type": "stream",
     "text": [
      "56630\n"
     ]
    }
   ],
   "source": [
    "fimo_clust_bp_cov = pd.read_table(fimo_clust_bp_cov_f, sep=\"\\t\", header=None)\n",
    "fimo_clust_bp_cov.columns = [\"chr\", \"start\", \"end\", \"unique_id\", \"score\", \"strand\", \"n_motifs\", \"n_bp_cov\", \"seq_len\", \n",
    "                             \"frac_bp_cov\"]\n",
    "\n",
    "fimo_clust_max_cov = pd.read_table(fimo_clust_max_cov_f, sep=\"\\t\", header=None)\n",
    "fimo_clust_max_cov.columns = [\"unique_id\", \"max_cov\"]\n",
    "\n",
    "fimo_clust_cov = fimo_clust_bp_cov.merge(fimo_clust_max_cov, on=\"unique_id\")\n",
    "print(len(fimo_clust_cov))"
   ]
  },
  {
   "cell_type": "code",
   "execution_count": 29,
   "metadata": {},
   "outputs": [
    {
     "name": "stdout",
     "output_type": "stream",
     "text": [
      "4663\n"
     ]
    }
   ],
   "source": [
    "pool1_fimo_bp_cov = pd.read_table(pool1_fimo_bp_cov_f, sep=\"\\t\", header=None)\n",
    "pool1_fimo_bp_cov.columns = [\"chr\", \"start\", \"end\", \"unique_id\", \"score\", \"strand\", \"n_motifs\", \"n_bp_cov\", \"seq_len\", \n",
    "                             \"frac_bp_cov\"]\n",
    "\n",
    "pool1_fimo_max_cov = pd.read_table(pool1_fimo_max_cov_f, sep=\"\\t\", header=None)\n",
    "pool1_fimo_max_cov.columns = [\"unique_id\", \"max_cov\"]\n",
    "\n",
    "pool1_fimo_cov = pool1_fimo_bp_cov.merge(pool1_fimo_max_cov, on=\"unique_id\")\n",
    "print(len(pool1_fimo_cov))"
   ]
  },
  {
   "cell_type": "code",
   "execution_count": 30,
   "metadata": {},
   "outputs": [
    {
     "name": "stdout",
     "output_type": "stream",
     "text": [
      "4663\n"
     ]
    }
   ],
   "source": [
    "pool1_fimo_chip_bp_cov = pd.read_table(pool1_fimo_chip_bp_cov_f, sep=\"\\t\", header=None)\n",
    "pool1_fimo_chip_bp_cov.columns = [\"chr\", \"start\", \"end\", \"unique_id\", \"score\", \"strand\", \"n_motifs\", \"n_bp_cov\", \n",
    "                                  \"seq_len\", \"frac_bp_cov\"]\n",
    "\n",
    "pool1_fimo_chip_max_cov = pd.read_table(pool1_fimo_chip_max_cov_f, sep=\"\\t\", header=None)\n",
    "pool1_fimo_chip_max_cov.columns = [\"unique_id\", \"max_cov\"]\n",
    "\n",
    "pool1_fimo_chip_cov = pool1_fimo_chip_bp_cov.merge(pool1_fimo_chip_max_cov, on=\"unique_id\")\n",
    "print(len(pool1_fimo_chip_cov))"
   ]
  },
  {
   "cell_type": "code",
   "execution_count": 31,
   "metadata": {},
   "outputs": [
    {
     "name": "stdout",
     "output_type": "stream",
     "text": [
      "4663\n"
     ]
    }
   ],
   "source": [
    "pool1_fimo_no_ets_bp_cov = pd.read_table(pool1_fimo_no_ets_bp_cov_f, sep=\"\\t\", header=None)\n",
    "pool1_fimo_no_ets_bp_cov.columns = [\"chr\", \"start\", \"end\", \"unique_id\", \"score\", \"strand\", \"n_motifs\", \"n_bp_cov\", \n",
    "                                    \"seq_len\", \"frac_bp_cov\"]\n",
    "\n",
    "pool1_fimo_no_ets_max_cov = pd.read_table(pool1_fimo_no_ets_max_cov_f, sep=\"\\t\", header=None)\n",
    "pool1_fimo_no_ets_max_cov.columns = [\"unique_id\", \"max_cov\"]\n",
    "\n",
    "pool1_fimo_no_ets_cov = pool1_fimo_no_ets_bp_cov.merge(pool1_fimo_no_ets_max_cov, on=\"unique_id\")\n",
    "print(len(pool1_fimo_no_ets_cov))"
   ]
  },
  {
   "cell_type": "code",
   "execution_count": 32,
   "metadata": {},
   "outputs": [
    {
     "name": "stdout",
     "output_type": "stream",
     "text": [
      "4663\n"
     ]
    }
   ],
   "source": [
    "pool1_fimo_no_ets_chip_bp_cov = pd.read_table(pool1_fimo_no_ets_chip_bp_cov_f, sep=\"\\t\", header=None)\n",
    "pool1_fimo_no_ets_chip_bp_cov.columns = [\"chr\", \"start\", \"end\", \"unique_id\", \"score\", \"strand\", \"n_motifs\", \n",
    "                                         \"n_bp_cov\", \"seq_len\", \"frac_bp_cov\"]\n",
    "\n",
    "pool1_fimo_no_ets_chip_max_cov = pd.read_table(pool1_fimo_no_ets_chip_max_cov_f, sep=\"\\t\", header=None)\n",
    "pool1_fimo_no_ets_chip_max_cov.columns = [\"unique_id\", \"max_cov\"]\n",
    "\n",
    "pool1_fimo_no_ets_chip_cov = pool1_fimo_no_ets_chip_bp_cov.merge(pool1_fimo_no_ets_chip_max_cov, on=\"unique_id\")\n",
    "print(len(pool1_fimo_no_ets_chip_cov))"
   ]
  },
  {
   "cell_type": "code",
   "execution_count": 33,
   "metadata": {
    "collapsed": true
   },
   "outputs": [],
   "source": [
    "all_cov_dfs = {\"fimo\": fimo_cov, \"fimo_chip\": fimo_chip_cov, \"fimo_clust\": fimo_clust_cov, \n",
    "               \"fimo_no_ets\": fimo_no_ets_cov, \"fimo_no_ets_chip\": fimo_no_ets_chip_cov, \n",
    "               \"pool1_fimo\": pool1_fimo_cov, \"pool1_fimo_chip\": pool1_fimo_chip_cov, \n",
    "               \"pool1_fimo_no_ets\": pool1_fimo_no_ets_cov, \n",
    "               \"pool1_fimo_no_ets_chip\": pool1_fimo_no_ets_chip_cov}\n",
    "\n",
    "all_motif_dfs = {\"fimo\": fimo, \"fimo_chip\": fimo_chip, \"pool1_fimo\": pool1_fimo, \"pool1_fimo_chip\": pool1_fimo_chip,\n",
    "                 \"pool1_fimo_no_ets\": pool1_fimo_no_ets, \"pool1_fimo_no_ets_chip\": pool1_fimo_no_ets_chip}"
   ]
  },
  {
   "cell_type": "code",
   "execution_count": 34,
   "metadata": {},
   "outputs": [
    {
     "data": {
      "text/html": [
       "<div>\n",
       "<style>\n",
       "    .dataframe thead tr:only-child th {\n",
       "        text-align: right;\n",
       "    }\n",
       "\n",
       "    .dataframe thead th {\n",
       "        text-align: left;\n",
       "    }\n",
       "\n",
       "    .dataframe tbody tr th {\n",
       "        vertical-align: top;\n",
       "    }\n",
       "</style>\n",
       "<table border=\"1\" class=\"dataframe\">\n",
       "  <thead>\n",
       "    <tr style=\"text-align: right;\">\n",
       "      <th></th>\n",
       "      <th>chr</th>\n",
       "      <th>start</th>\n",
       "      <th>end</th>\n",
       "      <th>unique_id</th>\n",
       "      <th>score</th>\n",
       "      <th>strand</th>\n",
       "      <th>n_motifs</th>\n",
       "      <th>n_bp_cov</th>\n",
       "      <th>seq_len</th>\n",
       "      <th>frac_bp_cov</th>\n",
       "      <th>max_cov</th>\n",
       "      <th>log_n_motifs</th>\n",
       "      <th>log_bp_cov</th>\n",
       "      <th>log_max_cov</th>\n",
       "      <th>cage_id</th>\n",
       "    </tr>\n",
       "  </thead>\n",
       "  <tbody>\n",
       "    <tr>\n",
       "      <th>0</th>\n",
       "      <td>chr10</td>\n",
       "      <td>100027916</td>\n",
       "      <td>100028031</td>\n",
       "      <td>protein_coding__p1@LOXL4__chr10:100027943..100...</td>\n",
       "      <td>0</td>\n",
       "      <td>-</td>\n",
       "      <td>0</td>\n",
       "      <td>0</td>\n",
       "      <td>115</td>\n",
       "      <td>0.0</td>\n",
       "      <td>0.0</td>\n",
       "      <td>0.0</td>\n",
       "      <td>0.0</td>\n",
       "      <td>0.0</td>\n",
       "      <td>chr10:100027943..100027958,-</td>\n",
       "    </tr>\n",
       "    <tr>\n",
       "      <th>1</th>\n",
       "      <td>chr10</td>\n",
       "      <td>100074495</td>\n",
       "      <td>100074610</td>\n",
       "      <td>Enhancer__chr10:100074404-100074582</td>\n",
       "      <td>0</td>\n",
       "      <td>+</td>\n",
       "      <td>0</td>\n",
       "      <td>0</td>\n",
       "      <td>115</td>\n",
       "      <td>0.0</td>\n",
       "      <td>0.0</td>\n",
       "      <td>0.0</td>\n",
       "      <td>0.0</td>\n",
       "      <td>0.0</td>\n",
       "      <td>chr10:100074404-100074582</td>\n",
       "    </tr>\n",
       "    <tr>\n",
       "      <th>2</th>\n",
       "      <td>chr10</td>\n",
       "      <td>100076068</td>\n",
       "      <td>100076183</td>\n",
       "      <td>Enhancer__chr10:100076038-100076149</td>\n",
       "      <td>0</td>\n",
       "      <td>+</td>\n",
       "      <td>0</td>\n",
       "      <td>0</td>\n",
       "      <td>115</td>\n",
       "      <td>0.0</td>\n",
       "      <td>0.0</td>\n",
       "      <td>0.0</td>\n",
       "      <td>0.0</td>\n",
       "      <td>0.0</td>\n",
       "      <td>chr10:100076038-100076149</td>\n",
       "    </tr>\n",
       "    <tr>\n",
       "      <th>3</th>\n",
       "      <td>chr10</td>\n",
       "      <td>100076605</td>\n",
       "      <td>100076720</td>\n",
       "      <td>Enhancer__chr10:100076500-100076699</td>\n",
       "      <td>0</td>\n",
       "      <td>+</td>\n",
       "      <td>0</td>\n",
       "      <td>0</td>\n",
       "      <td>115</td>\n",
       "      <td>0.0</td>\n",
       "      <td>0.0</td>\n",
       "      <td>0.0</td>\n",
       "      <td>0.0</td>\n",
       "      <td>0.0</td>\n",
       "      <td>chr10:100076500-100076699</td>\n",
       "    </tr>\n",
       "    <tr>\n",
       "      <th>4</th>\n",
       "      <td>chr10</td>\n",
       "      <td>100083158</td>\n",
       "      <td>100083273</td>\n",
       "      <td>Enhancer__chr10:100082942-100083374</td>\n",
       "      <td>0</td>\n",
       "      <td>+</td>\n",
       "      <td>0</td>\n",
       "      <td>0</td>\n",
       "      <td>115</td>\n",
       "      <td>0.0</td>\n",
       "      <td>0.0</td>\n",
       "      <td>0.0</td>\n",
       "      <td>0.0</td>\n",
       "      <td>0.0</td>\n",
       "      <td>chr10:100082942-100083374</td>\n",
       "    </tr>\n",
       "  </tbody>\n",
       "</table>\n",
       "</div>"
      ],
      "text/plain": [
       "     chr      start        end  \\\n",
       "0  chr10  100027916  100028031   \n",
       "1  chr10  100074495  100074610   \n",
       "2  chr10  100076068  100076183   \n",
       "3  chr10  100076605  100076720   \n",
       "4  chr10  100083158  100083273   \n",
       "\n",
       "                                           unique_id  score strand  n_motifs  \\\n",
       "0  protein_coding__p1@LOXL4__chr10:100027943..100...      0      -         0   \n",
       "1                Enhancer__chr10:100074404-100074582      0      +         0   \n",
       "2                Enhancer__chr10:100076038-100076149      0      +         0   \n",
       "3                Enhancer__chr10:100076500-100076699      0      +         0   \n",
       "4                Enhancer__chr10:100082942-100083374      0      +         0   \n",
       "\n",
       "   n_bp_cov  seq_len  frac_bp_cov  max_cov  log_n_motifs  log_bp_cov  \\\n",
       "0         0      115          0.0      0.0           0.0         0.0   \n",
       "1         0      115          0.0      0.0           0.0         0.0   \n",
       "2         0      115          0.0      0.0           0.0         0.0   \n",
       "3         0      115          0.0      0.0           0.0         0.0   \n",
       "4         0      115          0.0      0.0           0.0         0.0   \n",
       "\n",
       "   log_max_cov                       cage_id  \n",
       "0          0.0  chr10:100027943..100027958,-  \n",
       "1          0.0     chr10:100074404-100074582  \n",
       "2          0.0     chr10:100076038-100076149  \n",
       "3          0.0     chr10:100076500-100076699  \n",
       "4          0.0     chr10:100082942-100083374  "
      ]
     },
     "execution_count": 34,
     "metadata": {},
     "output_type": "execute_result"
    }
   ],
   "source": [
    "for key in all_cov_dfs.keys():\n",
    "    df = all_cov_dfs[key]\n",
    "    df[\"max_cov\"] = df.apply(fix_small_decimal, axis=1)\n",
    "    df[\"log_n_motifs\"] = np.log(df[\"n_motifs\"]+1)\n",
    "    df[\"log_bp_cov\"] = np.log(df[\"n_bp_cov\"]+1)\n",
    "    df[\"log_max_cov\"] = np.log(df[\"max_cov\"]+1)\n",
    "    df[\"cage_id\"] = df.apply(get_cage_id, axis=1)\n",
    "\n",
    "fimo_chip_cov.head()"
   ]
  },
  {
   "cell_type": "code",
   "execution_count": 35,
   "metadata": {},
   "outputs": [
    {
     "data": {
      "text/html": [
       "<div>\n",
       "<style>\n",
       "    .dataframe thead tr:only-child th {\n",
       "        text-align: right;\n",
       "    }\n",
       "\n",
       "    .dataframe thead th {\n",
       "        text-align: left;\n",
       "    }\n",
       "\n",
       "    .dataframe tbody tr th {\n",
       "        vertical-align: top;\n",
       "    }\n",
       "</style>\n",
       "<table border=\"1\" class=\"dataframe\">\n",
       "  <thead>\n",
       "    <tr style=\"text-align: right;\">\n",
       "      <th></th>\n",
       "      <th>motif_chr</th>\n",
       "      <th>motif_start</th>\n",
       "      <th>motif_end</th>\n",
       "      <th>unique_id</th>\n",
       "      <th>score</th>\n",
       "      <th>strand</th>\n",
       "      <th>chr</th>\n",
       "      <th>start</th>\n",
       "      <th>end</th>\n",
       "      <th>motif</th>\n",
       "      <th>motif_score</th>\n",
       "      <th>motif_strand</th>\n",
       "      <th>cage_id</th>\n",
       "    </tr>\n",
       "  </thead>\n",
       "  <tbody>\n",
       "    <tr>\n",
       "      <th>156610</th>\n",
       "      <td>chr12</td>\n",
       "      <td>115122037</td>\n",
       "      <td>115122045</td>\n",
       "      <td>protein_coding__p1@TBX3__chr12:115121962..1151...</td>\n",
       "      <td>0</td>\n",
       "      <td>-</td>\n",
       "      <td>chr12</td>\n",
       "      <td>115122037</td>\n",
       "      <td>115122045</td>\n",
       "      <td>Dux</td>\n",
       "      <td>12.86890</td>\n",
       "      <td>-</td>\n",
       "      <td>chr12:115121962..115121987,-</td>\n",
       "    </tr>\n",
       "    <tr>\n",
       "      <th>438234</th>\n",
       "      <td>chr1</td>\n",
       "      <td>8258060</td>\n",
       "      <td>8258074</td>\n",
       "      <td>Enhancer__chr1:8257762-8258040</td>\n",
       "      <td>0</td>\n",
       "      <td>+</td>\n",
       "      <td>chr1</td>\n",
       "      <td>8258060</td>\n",
       "      <td>8258077</td>\n",
       "      <td>SP4</td>\n",
       "      <td>2.54545</td>\n",
       "      <td>-</td>\n",
       "      <td>chr1:8257762-8258040</td>\n",
       "    </tr>\n",
       "    <tr>\n",
       "      <th>769543</th>\n",
       "      <td>chr4</td>\n",
       "      <td>86181000</td>\n",
       "      <td>86181005</td>\n",
       "      <td>Enhancer__chr4:86180599-86180971</td>\n",
       "      <td>0</td>\n",
       "      <td>+</td>\n",
       "      <td>chr4</td>\n",
       "      <td>86181000</td>\n",
       "      <td>86181010</td>\n",
       "      <td>MIXL1</td>\n",
       "      <td>10.16670</td>\n",
       "      <td>-</td>\n",
       "      <td>chr4:86180599-86180971</td>\n",
       "    </tr>\n",
       "    <tr>\n",
       "      <th>543482</th>\n",
       "      <td>chr20</td>\n",
       "      <td>56176264</td>\n",
       "      <td>56176278</td>\n",
       "      <td>intergenic__p1@ENST00000424850__chr20:56176244...</td>\n",
       "      <td>0</td>\n",
       "      <td>-</td>\n",
       "      <td>chr20</td>\n",
       "      <td>56176264</td>\n",
       "      <td>56176278</td>\n",
       "      <td>Bcl6</td>\n",
       "      <td>10.58060</td>\n",
       "      <td>-</td>\n",
       "      <td>chr20:56176244..56176254,-</td>\n",
       "    </tr>\n",
       "    <tr>\n",
       "      <th>757109</th>\n",
       "      <td>chr4</td>\n",
       "      <td>39659205</td>\n",
       "      <td>39659226</td>\n",
       "      <td>Enhancer__chr4:39659267-39659273</td>\n",
       "      <td>0</td>\n",
       "      <td>+</td>\n",
       "      <td>chr4</td>\n",
       "      <td>39659205</td>\n",
       "      <td>39659226</td>\n",
       "      <td>ZNF263</td>\n",
       "      <td>18.04080</td>\n",
       "      <td>+</td>\n",
       "      <td>chr4:39659267-39659273</td>\n",
       "    </tr>\n",
       "  </tbody>\n",
       "</table>\n",
       "</div>"
      ],
      "text/plain": [
       "       motif_chr  motif_start  motif_end  \\\n",
       "156610     chr12    115122037  115122045   \n",
       "438234      chr1      8258060    8258074   \n",
       "769543      chr4     86181000   86181005   \n",
       "543482     chr20     56176264   56176278   \n",
       "757109      chr4     39659205   39659226   \n",
       "\n",
       "                                                unique_id  score strand  \\\n",
       "156610  protein_coding__p1@TBX3__chr12:115121962..1151...      0      -   \n",
       "438234                     Enhancer__chr1:8257762-8258040      0      +   \n",
       "769543                   Enhancer__chr4:86180599-86180971      0      +   \n",
       "543482  intergenic__p1@ENST00000424850__chr20:56176244...      0      -   \n",
       "757109                   Enhancer__chr4:39659267-39659273      0      +   \n",
       "\n",
       "          chr      start        end   motif  motif_score motif_strand  \\\n",
       "156610  chr12  115122037  115122045     Dux     12.86890            -   \n",
       "438234   chr1    8258060    8258077     SP4      2.54545            -   \n",
       "769543   chr4   86181000   86181010   MIXL1     10.16670            -   \n",
       "543482  chr20   56176264   56176278    Bcl6     10.58060            -   \n",
       "757109   chr4   39659205   39659226  ZNF263     18.04080            +   \n",
       "\n",
       "                             cage_id  \n",
       "156610  chr12:115121962..115121987,-  \n",
       "438234          chr1:8257762-8258040  \n",
       "769543        chr4:86180599-86180971  \n",
       "543482    chr20:56176244..56176254,-  \n",
       "757109        chr4:39659267-39659273  "
      ]
     },
     "execution_count": 35,
     "metadata": {},
     "output_type": "execute_result"
    }
   ],
   "source": [
    "for key in all_motif_dfs.keys():\n",
    "    df = all_motif_dfs[key]\n",
    "    df[\"cage_id\"] = df.apply(get_cage_id, axis=1)\n",
    "    \n",
    "fimo.sample(5)"
   ]
  },
  {
   "cell_type": "code",
   "execution_count": 36,
   "metadata": {},
   "outputs": [
    {
     "data": {
      "text/html": [
       "<div>\n",
       "<style>\n",
       "    .dataframe thead tr:only-child th {\n",
       "        text-align: right;\n",
       "    }\n",
       "\n",
       "    .dataframe thead th {\n",
       "        text-align: left;\n",
       "    }\n",
       "\n",
       "    .dataframe tbody tr th {\n",
       "        vertical-align: top;\n",
       "    }\n",
       "</style>\n",
       "<table border=\"1\" class=\"dataframe\">\n",
       "  <thead>\n",
       "    <tr style=\"text-align: right;\">\n",
       "      <th></th>\n",
       "      <th>tf</th>\n",
       "      <th>tissue_sp_all</th>\n",
       "      <th>tissue_sp_3</th>\n",
       "      <th>K562_exp</th>\n",
       "      <th>HeLa_exp</th>\n",
       "      <th>HepG2_exp</th>\n",
       "    </tr>\n",
       "  </thead>\n",
       "  <tbody>\n",
       "    <tr>\n",
       "      <th>0</th>\n",
       "      <td>PAX7</td>\n",
       "      <td>0.990032</td>\n",
       "      <td>NaN</td>\n",
       "      <td>0.000000</td>\n",
       "      <td>0.000000</td>\n",
       "      <td>0.000000</td>\n",
       "    </tr>\n",
       "    <tr>\n",
       "      <th>1</th>\n",
       "      <td>HNF1B</td>\n",
       "      <td>0.979589</td>\n",
       "      <td>0.666667</td>\n",
       "      <td>0.000000</td>\n",
       "      <td>0.000000</td>\n",
       "      <td>5.889702</td>\n",
       "    </tr>\n",
       "    <tr>\n",
       "      <th>2</th>\n",
       "      <td>LIN54</td>\n",
       "      <td>0.794230</td>\n",
       "      <td>0.412303</td>\n",
       "      <td>17.857032</td>\n",
       "      <td>18.290625</td>\n",
       "      <td>47.369957</td>\n",
       "    </tr>\n",
       "    <tr>\n",
       "      <th>3</th>\n",
       "      <td>IRF3</td>\n",
       "      <td>0.719361</td>\n",
       "      <td>0.089475</td>\n",
       "      <td>23.938784</td>\n",
       "      <td>29.128210</td>\n",
       "      <td>26.498907</td>\n",
       "    </tr>\n",
       "    <tr>\n",
       "      <th>4</th>\n",
       "      <td>MEF2C</td>\n",
       "      <td>0.978378</td>\n",
       "      <td>0.665278</td>\n",
       "      <td>112.089652</td>\n",
       "      <td>0.335948</td>\n",
       "      <td>0.131145</td>\n",
       "    </tr>\n",
       "  </tbody>\n",
       "</table>\n",
       "</div>"
      ],
      "text/plain": [
       "      tf  tissue_sp_all  tissue_sp_3    K562_exp   HeLa_exp  HepG2_exp\n",
       "0   PAX7       0.990032          NaN    0.000000   0.000000   0.000000\n",
       "1  HNF1B       0.979589     0.666667    0.000000   0.000000   5.889702\n",
       "2  LIN54       0.794230     0.412303   17.857032  18.290625  47.369957\n",
       "3   IRF3       0.719361     0.089475   23.938784  29.128210  26.498907\n",
       "4  MEF2C       0.978378     0.665278  112.089652   0.335948   0.131145"
      ]
     },
     "execution_count": 36,
     "metadata": {},
     "output_type": "execute_result"
    }
   ],
   "source": [
    "tf_ts = pd.read_table(tf_ts_f, sep=\"\\t\")\n",
    "tf_ts.head()"
   ]
  },
  {
   "cell_type": "code",
   "execution_count": 37,
   "metadata": {},
   "outputs": [
    {
     "data": {
      "text/html": [
       "<div>\n",
       "<style>\n",
       "    .dataframe thead tr:only-child th {\n",
       "        text-align: right;\n",
       "    }\n",
       "\n",
       "    .dataframe thead th {\n",
       "        text-align: left;\n",
       "    }\n",
       "\n",
       "    .dataframe tbody tr th {\n",
       "        vertical-align: top;\n",
       "    }\n",
       "</style>\n",
       "<table border=\"1\" class=\"dataframe\">\n",
       "  <thead>\n",
       "    <tr style=\"text-align: right;\">\n",
       "      <th></th>\n",
       "      <th>unique_id</th>\n",
       "      <th>PromType2</th>\n",
       "      <th>cage_activ</th>\n",
       "      <th>cage_ts</th>\n",
       "      <th>mpra_activ</th>\n",
       "      <th>mpra_ts</th>\n",
       "      <th>oligo_reg</th>\n",
       "    </tr>\n",
       "  </thead>\n",
       "  <tbody>\n",
       "    <tr>\n",
       "      <th>0</th>\n",
       "      <td>WILDTYPE_BUT_HAS_SNP__Antisense.flip.sense__ch...</td>\n",
       "      <td>intergenic</td>\n",
       "      <td>0.786378</td>\n",
       "      <td>0.665068</td>\n",
       "      <td>1.400056</td>\n",
       "      <td>0.142230</td>\n",
       "      <td>chr10:11936664..11936778,-</td>\n",
       "    </tr>\n",
       "    <tr>\n",
       "      <th>1</th>\n",
       "      <td>WILDTYPE_BUT_HAS_SNP__Antisense.flip.sense__ch...</td>\n",
       "      <td>div_lnc</td>\n",
       "      <td>0.377764</td>\n",
       "      <td>0.151243</td>\n",
       "      <td>-0.054568</td>\n",
       "      <td>0.214384</td>\n",
       "      <td>chr10:28821597..28821711,-</td>\n",
       "    </tr>\n",
       "    <tr>\n",
       "      <th>2</th>\n",
       "      <td>WILDTYPE_BUT_HAS_SNP__Antisense.flip.sense__ch...</td>\n",
       "      <td>intergenic</td>\n",
       "      <td>1.258762</td>\n",
       "      <td>0.158191</td>\n",
       "      <td>1.378850</td>\n",
       "      <td>0.118103</td>\n",
       "      <td>chr10:29698406..29698520,+</td>\n",
       "    </tr>\n",
       "    <tr>\n",
       "      <th>3</th>\n",
       "      <td>WILDTYPE_BUT_HAS_SNP__Antisense.flip.sense__ch...</td>\n",
       "      <td>intergenic</td>\n",
       "      <td>0.938897</td>\n",
       "      <td>0.140302</td>\n",
       "      <td>0.130581</td>\n",
       "      <td>0.269957</td>\n",
       "      <td>chr10:97667625..97667739,-</td>\n",
       "    </tr>\n",
       "    <tr>\n",
       "      <th>4</th>\n",
       "      <td>WILDTYPE_BUT_HAS_SNP__Antisense.flip.sense__ch...</td>\n",
       "      <td>div_lnc</td>\n",
       "      <td>0.465003</td>\n",
       "      <td>0.292028</td>\n",
       "      <td>3.046316</td>\n",
       "      <td>0.085757</td>\n",
       "      <td>chr11:27528316..27528430,+</td>\n",
       "    </tr>\n",
       "  </tbody>\n",
       "</table>\n",
       "</div>"
      ],
      "text/plain": [
       "                                           unique_id   PromType2  cage_activ  \\\n",
       "0  WILDTYPE_BUT_HAS_SNP__Antisense.flip.sense__ch...  intergenic    0.786378   \n",
       "1  WILDTYPE_BUT_HAS_SNP__Antisense.flip.sense__ch...     div_lnc    0.377764   \n",
       "2  WILDTYPE_BUT_HAS_SNP__Antisense.flip.sense__ch...  intergenic    1.258762   \n",
       "3  WILDTYPE_BUT_HAS_SNP__Antisense.flip.sense__ch...  intergenic    0.938897   \n",
       "4  WILDTYPE_BUT_HAS_SNP__Antisense.flip.sense__ch...     div_lnc    0.465003   \n",
       "\n",
       "    cage_ts  mpra_activ   mpra_ts                   oligo_reg  \n",
       "0  0.665068    1.400056  0.142230  chr10:11936664..11936778,-  \n",
       "1  0.151243   -0.054568  0.214384  chr10:28821597..28821711,-  \n",
       "2  0.158191    1.378850  0.118103  chr10:29698406..29698520,+  \n",
       "3  0.140302    0.130581  0.269957  chr10:97667625..97667739,-  \n",
       "4  0.292028    3.046316  0.085757  chr11:27528316..27528430,+  "
      ]
     },
     "execution_count": 37,
     "metadata": {},
     "output_type": "execute_result"
    }
   ],
   "source": [
    "cage_v_mpra = pd.read_table(cage_v_mpra_f, sep=\"\\t\")\n",
    "cage_v_mpra[\"oligo_reg\"] = cage_v_mpra[\"unique_id\"].str.split(\"__\", expand=True)[2]\n",
    "cage_v_mpra.head()"
   ]
  },
  {
   "cell_type": "code",
   "execution_count": 38,
   "metadata": {},
   "outputs": [
    {
     "data": {
      "text/html": [
       "<div>\n",
       "<style>\n",
       "    .dataframe thead tr:only-child th {\n",
       "        text-align: right;\n",
       "    }\n",
       "\n",
       "    .dataframe thead th {\n",
       "        text-align: left;\n",
       "    }\n",
       "\n",
       "    .dataframe tbody tr th {\n",
       "        vertical-align: top;\n",
       "    }\n",
       "</style>\n",
       "<table border=\"1\" class=\"dataframe\">\n",
       "  <thead>\n",
       "    <tr style=\"text-align: right;\">\n",
       "      <th></th>\n",
       "      <th>gene_id</th>\n",
       "      <th>TSS_associated_1st.transc_id</th>\n",
       "      <th>oligo_reg</th>\n",
       "      <th>TSS_id</th>\n",
       "      <th>TSS_description</th>\n",
       "      <th>TSS_transc_association</th>\n",
       "      <th>avExpALL</th>\n",
       "      <th>gene_name</th>\n",
       "      <th>gene_type</th>\n",
       "      <th>GeneType</th>\n",
       "      <th>...</th>\n",
       "      <th>rs.SNP1</th>\n",
       "      <th>rs.SNP2</th>\n",
       "      <th>R.squared</th>\n",
       "      <th>Distance</th>\n",
       "      <th>trait</th>\n",
       "      <th>n.eQTLs</th>\n",
       "      <th>n.eQTLs94</th>\n",
       "      <th>PromType</th>\n",
       "      <th>PromType2</th>\n",
       "      <th>PromType3</th>\n",
       "    </tr>\n",
       "  </thead>\n",
       "  <tbody>\n",
       "    <tr>\n",
       "      <th>0</th>\n",
       "      <td>ENSG00000000419.8</td>\n",
       "      <td>ENST00000371583</td>\n",
       "      <td>chr20:49575034..49575148,-</td>\n",
       "      <td>chr20:49575059..49575077,-</td>\n",
       "      <td>p1@DPM1</td>\n",
       "      <td>0bp_to_ENST00000371583,ENST00000413082,ENST000...</td>\n",
       "      <td>71.110566</td>\n",
       "      <td>DPM1</td>\n",
       "      <td>protein_coding</td>\n",
       "      <td>protein_coding</td>\n",
       "      <td>...</td>\n",
       "      <td>NaN</td>\n",
       "      <td>NaN</td>\n",
       "      <td>NaN</td>\n",
       "      <td>NaN</td>\n",
       "      <td>NaN</td>\n",
       "      <td>0</td>\n",
       "      <td>0</td>\n",
       "      <td>protein_coding</td>\n",
       "      <td>protein_coding</td>\n",
       "      <td>protein_coding</td>\n",
       "    </tr>\n",
       "    <tr>\n",
       "      <th>1</th>\n",
       "      <td>ENSG00000002586.13</td>\n",
       "      <td>ENST00000381187</td>\n",
       "      <td>chrX:2609217..2609331,+</td>\n",
       "      <td>chrX:2609278..2609302,+</td>\n",
       "      <td>p3@CD99</td>\n",
       "      <td>-14bp_to_ENST00000381187_5end</td>\n",
       "      <td>17.394880</td>\n",
       "      <td>CD99</td>\n",
       "      <td>protein_coding</td>\n",
       "      <td>protein_coding</td>\n",
       "      <td>...</td>\n",
       "      <td>NaN</td>\n",
       "      <td>NaN</td>\n",
       "      <td>NaN</td>\n",
       "      <td>NaN</td>\n",
       "      <td>NaN</td>\n",
       "      <td>0</td>\n",
       "      <td>0</td>\n",
       "      <td>protein_coding</td>\n",
       "      <td>protein_coding</td>\n",
       "      <td>protein_coding</td>\n",
       "    </tr>\n",
       "    <tr>\n",
       "      <th>2</th>\n",
       "      <td>ENSG00000002919.10</td>\n",
       "      <td>ENST00000359238</td>\n",
       "      <td>chr17:46184858..46184972,+</td>\n",
       "      <td>chr17:46184920..46184951,+</td>\n",
       "      <td>p2@SNX11</td>\n",
       "      <td>0bp_to_ENST00000359238,ENST00000393405,ENST000...</td>\n",
       "      <td>4.722549</td>\n",
       "      <td>SNX11</td>\n",
       "      <td>protein_coding</td>\n",
       "      <td>protein_coding</td>\n",
       "      <td>...</td>\n",
       "      <td>rs72823592</td>\n",
       "      <td>rs16952265</td>\n",
       "      <td>0.844249196799263</td>\n",
       "      <td>-61879</td>\n",
       "      <td>Epilepsy_(generalized)</td>\n",
       "      <td>2</td>\n",
       "      <td>2</td>\n",
       "      <td>protein_coding</td>\n",
       "      <td>protein_coding</td>\n",
       "      <td>protein_coding</td>\n",
       "    </tr>\n",
       "    <tr>\n",
       "      <th>3</th>\n",
       "      <td>ENSG00000003436.10</td>\n",
       "      <td>ENST00000435414</td>\n",
       "      <td>chr2:188378345..188378459,-</td>\n",
       "      <td>chr2:188378374..188378387,-</td>\n",
       "      <td>p3@TFPI</td>\n",
       "      <td>0bp_to_ENST00000435414_5end</td>\n",
       "      <td>3.679946</td>\n",
       "      <td>TFPI</td>\n",
       "      <td>protein_coding</td>\n",
       "      <td>protein_coding</td>\n",
       "      <td>...</td>\n",
       "      <td>NaN</td>\n",
       "      <td>NaN</td>\n",
       "      <td>NaN</td>\n",
       "      <td>NaN</td>\n",
       "      <td>NaN</td>\n",
       "      <td>0</td>\n",
       "      <td>0</td>\n",
       "      <td>protein_coding</td>\n",
       "      <td>protein_coding</td>\n",
       "      <td>protein_coding</td>\n",
       "    </tr>\n",
       "    <tr>\n",
       "      <th>4</th>\n",
       "      <td>ENSG00000003436.10</td>\n",
       "      <td>ENST00000435414</td>\n",
       "      <td>chr2:188378345..188378459,+</td>\n",
       "      <td>chr2:188378374..188378387,-</td>\n",
       "      <td>p3@TFPI</td>\n",
       "      <td>0bp_to_ENST00000435414_5end</td>\n",
       "      <td>3.679946</td>\n",
       "      <td>TFPI</td>\n",
       "      <td>protein_coding</td>\n",
       "      <td>protein_coding</td>\n",
       "      <td>...</td>\n",
       "      <td>NaN</td>\n",
       "      <td>NaN</td>\n",
       "      <td>NaN</td>\n",
       "      <td>NaN</td>\n",
       "      <td>NaN</td>\n",
       "      <td>0</td>\n",
       "      <td>0</td>\n",
       "      <td>protein_coding</td>\n",
       "      <td>protein_coding</td>\n",
       "      <td>protein_coding</td>\n",
       "    </tr>\n",
       "  </tbody>\n",
       "</table>\n",
       "<p>5 rows × 42 columns</p>\n",
       "</div>"
      ],
      "text/plain": [
       "              gene_id TSS_associated_1st.transc_id  \\\n",
       "0   ENSG00000000419.8              ENST00000371583   \n",
       "1  ENSG00000002586.13              ENST00000381187   \n",
       "2  ENSG00000002919.10              ENST00000359238   \n",
       "3  ENSG00000003436.10              ENST00000435414   \n",
       "4  ENSG00000003436.10              ENST00000435414   \n",
       "\n",
       "                     oligo_reg                       TSS_id TSS_description  \\\n",
       "0   chr20:49575034..49575148,-   chr20:49575059..49575077,-         p1@DPM1   \n",
       "1      chrX:2609217..2609331,+      chrX:2609278..2609302,+         p3@CD99   \n",
       "2   chr17:46184858..46184972,+   chr17:46184920..46184951,+        p2@SNX11   \n",
       "3  chr2:188378345..188378459,-  chr2:188378374..188378387,-         p3@TFPI   \n",
       "4  chr2:188378345..188378459,+  chr2:188378374..188378387,-         p3@TFPI   \n",
       "\n",
       "                              TSS_transc_association   avExpALL gene_name  \\\n",
       "0  0bp_to_ENST00000371583,ENST00000413082,ENST000...  71.110566      DPM1   \n",
       "1                      -14bp_to_ENST00000381187_5end  17.394880      CD99   \n",
       "2  0bp_to_ENST00000359238,ENST00000393405,ENST000...   4.722549     SNX11   \n",
       "3                        0bp_to_ENST00000435414_5end   3.679946      TFPI   \n",
       "4                        0bp_to_ENST00000435414_5end   3.679946      TFPI   \n",
       "\n",
       "        gene_type        GeneType       ...           rs.SNP1     rs.SNP2  \\\n",
       "0  protein_coding  protein_coding       ...               NaN         NaN   \n",
       "1  protein_coding  protein_coding       ...               NaN         NaN   \n",
       "2  protein_coding  protein_coding       ...        rs72823592  rs16952265   \n",
       "3  protein_coding  protein_coding       ...               NaN         NaN   \n",
       "4  protein_coding  protein_coding       ...               NaN         NaN   \n",
       "\n",
       "           R.squared Distance                   trait  n.eQTLs  n.eQTLs94  \\\n",
       "0                NaN      NaN                     NaN        0          0   \n",
       "1                NaN      NaN                     NaN        0          0   \n",
       "2  0.844249196799263   -61879  Epilepsy_(generalized)        2          2   \n",
       "3                NaN      NaN                     NaN        0          0   \n",
       "4                NaN      NaN                     NaN        0          0   \n",
       "\n",
       "         PromType       PromType2       PromType3  \n",
       "0  protein_coding  protein_coding  protein_coding  \n",
       "1  protein_coding  protein_coding  protein_coding  \n",
       "2  protein_coding  protein_coding  protein_coding  \n",
       "3  protein_coding  protein_coding  protein_coding  \n",
       "4  protein_coding  protein_coding  protein_coding  \n",
       "\n",
       "[5 rows x 42 columns]"
      ]
     },
     "execution_count": 38,
     "metadata": {},
     "output_type": "execute_result"
    }
   ],
   "source": [
    "tss_cage_map = pd.read_table(tss_cage_map_f, sep=\"\\t\")\n",
    "tss_cage_map.head()"
   ]
  },
  {
   "cell_type": "code",
   "execution_count": 39,
   "metadata": {},
   "outputs": [
    {
     "data": {
      "text/html": [
       "<div>\n",
       "<style>\n",
       "    .dataframe thead tr:only-child th {\n",
       "        text-align: right;\n",
       "    }\n",
       "\n",
       "    .dataframe thead th {\n",
       "        text-align: left;\n",
       "    }\n",
       "\n",
       "    .dataframe tbody tr th {\n",
       "        vertical-align: top;\n",
       "    }\n",
       "</style>\n",
       "<table border=\"1\" class=\"dataframe\">\n",
       "  <thead>\n",
       "    <tr style=\"text-align: right;\">\n",
       "      <th></th>\n",
       "      <th>enhancer_id</th>\n",
       "      <th>TSS_id_Neg</th>\n",
       "      <th>TSS_id_Pos</th>\n",
       "      <th>distTSSs</th>\n",
       "      <th>sum_1828_samples</th>\n",
       "      <th>avExpALL</th>\n",
       "      <th>K562_rep1</th>\n",
       "      <th>K562_rep2</th>\n",
       "      <th>K562_rep3</th>\n",
       "      <th>HeLa_rep1</th>\n",
       "      <th>HeLa_rep2</th>\n",
       "      <th>HeLa_rep3</th>\n",
       "      <th>HepG2_rep1</th>\n",
       "      <th>HepG2_rep2</th>\n",
       "      <th>HepG2_rep3</th>\n",
       "      <th>avExpCS</th>\n",
       "      <th>oligo_reg_Neg</th>\n",
       "      <th>oligo_reg_Pos</th>\n",
       "    </tr>\n",
       "  </thead>\n",
       "  <tbody>\n",
       "    <tr>\n",
       "      <th>0</th>\n",
       "      <td>chr1:1004646-1004986</td>\n",
       "      <td>chr1:1004724..1004725,-</td>\n",
       "      <td>chr1:1004806..1004807,+</td>\n",
       "      <td>239</td>\n",
       "      <td>2186.660</td>\n",
       "      <td>1.196204</td>\n",
       "      <td>1.75865</td>\n",
       "      <td>1.718966</td>\n",
       "      <td>0.0</td>\n",
       "      <td>0.278501</td>\n",
       "      <td>0.634142</td>\n",
       "      <td>0.471889</td>\n",
       "      <td>0.224833</td>\n",
       "      <td>0.0</td>\n",
       "      <td>0.193772</td>\n",
       "      <td>0.586750</td>\n",
       "      <td>chr1:1004690..1004804,-</td>\n",
       "      <td>chr1:1004727..1004841,+</td>\n",
       "    </tr>\n",
       "    <tr>\n",
       "      <th>1</th>\n",
       "      <td>chr1:108483614-108484145</td>\n",
       "      <td>chr1:108483919..108483920,-</td>\n",
       "      <td>chr1:108484014..108484015,+</td>\n",
       "      <td>706</td>\n",
       "      <td>949.696</td>\n",
       "      <td>0.519527</td>\n",
       "      <td>0.00000</td>\n",
       "      <td>0.000000</td>\n",
       "      <td>0.0</td>\n",
       "      <td>0.000000</td>\n",
       "      <td>0.000000</td>\n",
       "      <td>0.000000</td>\n",
       "      <td>0.000000</td>\n",
       "      <td>0.0</td>\n",
       "      <td>0.000000</td>\n",
       "      <td>0.000000</td>\n",
       "      <td>chr1:108483885..108483999,-</td>\n",
       "      <td>chr1:108483935..108484049,+</td>\n",
       "    </tr>\n",
       "    <tr>\n",
       "      <th>2</th>\n",
       "      <td>chr1:108592862-108593109</td>\n",
       "      <td>chr1:108592862..108592863,-</td>\n",
       "      <td>chr1:108592945..108592946,+</td>\n",
       "      <td>84</td>\n",
       "      <td>1794.280</td>\n",
       "      <td>0.981554</td>\n",
       "      <td>0.00000</td>\n",
       "      <td>0.000000</td>\n",
       "      <td>0.0</td>\n",
       "      <td>0.000000</td>\n",
       "      <td>0.000000</td>\n",
       "      <td>0.000000</td>\n",
       "      <td>0.000000</td>\n",
       "      <td>0.0</td>\n",
       "      <td>0.000000</td>\n",
       "      <td>0.000000</td>\n",
       "      <td>chr1:108592828..108592942,-</td>\n",
       "      <td>chr1:108592866..108592980,+</td>\n",
       "    </tr>\n",
       "    <tr>\n",
       "      <th>3</th>\n",
       "      <td>chr1:109099158-109099479</td>\n",
       "      <td>chr1:109099171..109099172,-</td>\n",
       "      <td>chr1:109099303..109099304,+</td>\n",
       "      <td>159</td>\n",
       "      <td>1366.590</td>\n",
       "      <td>0.747588</td>\n",
       "      <td>0.00000</td>\n",
       "      <td>0.000000</td>\n",
       "      <td>0.0</td>\n",
       "      <td>0.000000</td>\n",
       "      <td>0.000000</td>\n",
       "      <td>0.078648</td>\n",
       "      <td>0.000000</td>\n",
       "      <td>0.0</td>\n",
       "      <td>0.000000</td>\n",
       "      <td>0.008739</td>\n",
       "      <td>chr1:109099137..109099251,-</td>\n",
       "      <td>chr1:109099224..109099338,+</td>\n",
       "    </tr>\n",
       "    <tr>\n",
       "      <th>4</th>\n",
       "      <td>chr1:109788948-109789150</td>\n",
       "      <td>chr1:109788975..109788976,-</td>\n",
       "      <td>chr1:109789149..109789150,+</td>\n",
       "      <td>229</td>\n",
       "      <td>2093.390</td>\n",
       "      <td>1.145181</td>\n",
       "      <td>0.00000</td>\n",
       "      <td>0.000000</td>\n",
       "      <td>0.0</td>\n",
       "      <td>0.000000</td>\n",
       "      <td>0.000000</td>\n",
       "      <td>0.000000</td>\n",
       "      <td>0.000000</td>\n",
       "      <td>0.0</td>\n",
       "      <td>0.000000</td>\n",
       "      <td>0.000000</td>\n",
       "      <td>chr1:109788941..109789055,-</td>\n",
       "      <td>chr1:109789070..109789184,+</td>\n",
       "    </tr>\n",
       "  </tbody>\n",
       "</table>\n",
       "</div>"
      ],
      "text/plain": [
       "                enhancer_id                   TSS_id_Neg  \\\n",
       "0      chr1:1004646-1004986      chr1:1004724..1004725,-   \n",
       "1  chr1:108483614-108484145  chr1:108483919..108483920,-   \n",
       "2  chr1:108592862-108593109  chr1:108592862..108592863,-   \n",
       "3  chr1:109099158-109099479  chr1:109099171..109099172,-   \n",
       "4  chr1:109788948-109789150  chr1:109788975..109788976,-   \n",
       "\n",
       "                    TSS_id_Pos  distTSSs  sum_1828_samples  avExpALL  \\\n",
       "0      chr1:1004806..1004807,+       239          2186.660  1.196204   \n",
       "1  chr1:108484014..108484015,+       706           949.696  0.519527   \n",
       "2  chr1:108592945..108592946,+        84          1794.280  0.981554   \n",
       "3  chr1:109099303..109099304,+       159          1366.590  0.747588   \n",
       "4  chr1:109789149..109789150,+       229          2093.390  1.145181   \n",
       "\n",
       "   K562_rep1  K562_rep2  K562_rep3  HeLa_rep1  HeLa_rep2  HeLa_rep3  \\\n",
       "0    1.75865   1.718966        0.0   0.278501   0.634142   0.471889   \n",
       "1    0.00000   0.000000        0.0   0.000000   0.000000   0.000000   \n",
       "2    0.00000   0.000000        0.0   0.000000   0.000000   0.000000   \n",
       "3    0.00000   0.000000        0.0   0.000000   0.000000   0.078648   \n",
       "4    0.00000   0.000000        0.0   0.000000   0.000000   0.000000   \n",
       "\n",
       "   HepG2_rep1  HepG2_rep2  HepG2_rep3   avExpCS                oligo_reg_Neg  \\\n",
       "0    0.224833         0.0    0.193772  0.586750      chr1:1004690..1004804,-   \n",
       "1    0.000000         0.0    0.000000  0.000000  chr1:108483885..108483999,-   \n",
       "2    0.000000         0.0    0.000000  0.000000  chr1:108592828..108592942,-   \n",
       "3    0.000000         0.0    0.000000  0.008739  chr1:109099137..109099251,-   \n",
       "4    0.000000         0.0    0.000000  0.000000  chr1:109788941..109789055,-   \n",
       "\n",
       "                 oligo_reg_Pos  \n",
       "0      chr1:1004727..1004841,+  \n",
       "1  chr1:108483935..108484049,+  \n",
       "2  chr1:108592866..108592980,+  \n",
       "3  chr1:109099224..109099338,+  \n",
       "4  chr1:109789070..109789184,+  "
      ]
     },
     "execution_count": 39,
     "metadata": {},
     "output_type": "execute_result"
    }
   ],
   "source": [
    "enh_cage_map = pd.read_table(enh_cage_map_f, sep=\"\\t\")\n",
    "enh_cage_map.head()"
   ]
  },
  {
   "cell_type": "markdown",
   "metadata": {},
   "source": [
    "## 2. for pool1: join coverage and motif files with MPRA expr/spec files"
   ]
  },
  {
   "cell_type": "code",
   "execution_count": 40,
   "metadata": {},
   "outputs": [
    {
     "data": {
      "text/html": [
       "<div>\n",
       "<style>\n",
       "    .dataframe thead tr:only-child th {\n",
       "        text-align: right;\n",
       "    }\n",
       "\n",
       "    .dataframe thead th {\n",
       "        text-align: left;\n",
       "    }\n",
       "\n",
       "    .dataframe tbody tr th {\n",
       "        vertical-align: top;\n",
       "    }\n",
       "</style>\n",
       "<table border=\"1\" class=\"dataframe\">\n",
       "  <thead>\n",
       "    <tr style=\"text-align: right;\">\n",
       "      <th></th>\n",
       "      <th>unique_id</th>\n",
       "      <th>PromType2</th>\n",
       "      <th>cage_activ</th>\n",
       "      <th>cage_ts</th>\n",
       "      <th>mpra_activ</th>\n",
       "      <th>mpra_ts</th>\n",
       "      <th>oligo_reg</th>\n",
       "      <th>TSS_id</th>\n",
       "    </tr>\n",
       "  </thead>\n",
       "  <tbody>\n",
       "    <tr>\n",
       "      <th>70</th>\n",
       "      <td>WILDTYPE_BUT_HAS_SNP__Enhancer.noflip.NA__chr2...</td>\n",
       "      <td>Enhancer</td>\n",
       "      <td>0.134960</td>\n",
       "      <td>0.363017</td>\n",
       "      <td>0.383850</td>\n",
       "      <td>0.228238</td>\n",
       "      <td>chr20:30249477..30249591,-</td>\n",
       "      <td>chr20:30249247-30249862</td>\n",
       "    </tr>\n",
       "    <tr>\n",
       "      <th>73</th>\n",
       "      <td>WILDTYPE_BUT_HAS_SNP__Enhancer.noflip.NA__chr2...</td>\n",
       "      <td>Enhancer</td>\n",
       "      <td>0.156207</td>\n",
       "      <td>0.270880</td>\n",
       "      <td>-1.313054</td>\n",
       "      <td>0.215413</td>\n",
       "      <td>chr22:41418056..41418170,+</td>\n",
       "      <td>chr22:41417973-41418366</td>\n",
       "    </tr>\n",
       "    <tr>\n",
       "      <th>16</th>\n",
       "      <td>WILDTYPE_BUT_HAS_SNP__Enhancer.flip.sense__chr...</td>\n",
       "      <td>Enhancer</td>\n",
       "      <td>0.011805</td>\n",
       "      <td>0.511019</td>\n",
       "      <td>-1.034775</td>\n",
       "      <td>0.235149</td>\n",
       "      <td>chr4:122611996..122612110,-</td>\n",
       "      <td>chr4:122611926-122612330</td>\n",
       "    </tr>\n",
       "    <tr>\n",
       "      <th>156</th>\n",
       "      <td>WILDTYPE__Enhancer.noflip.NA__chr10:74057103.....</td>\n",
       "      <td>Enhancer</td>\n",
       "      <td>0.099831</td>\n",
       "      <td>0.666667</td>\n",
       "      <td>-1.197627</td>\n",
       "      <td>0.171462</td>\n",
       "      <td>chr10:74057103..74057217,-</td>\n",
       "      <td>chr10:74056833-74058104</td>\n",
       "    </tr>\n",
       "    <tr>\n",
       "      <th>20</th>\n",
       "      <td>WILDTYPE_BUT_HAS_SNP__Enhancer.flip.sense__chr...</td>\n",
       "      <td>Enhancer</td>\n",
       "      <td>0.125489</td>\n",
       "      <td>0.666667</td>\n",
       "      <td>-0.942611</td>\n",
       "      <td>0.180576</td>\n",
       "      <td>chr6:11299464..11299578,-</td>\n",
       "      <td>chr6:11299498-11299626</td>\n",
       "    </tr>\n",
       "  </tbody>\n",
       "</table>\n",
       "</div>"
      ],
      "text/plain": [
       "                                             unique_id PromType2  cage_activ  \\\n",
       "70   WILDTYPE_BUT_HAS_SNP__Enhancer.noflip.NA__chr2...  Enhancer    0.134960   \n",
       "73   WILDTYPE_BUT_HAS_SNP__Enhancer.noflip.NA__chr2...  Enhancer    0.156207   \n",
       "16   WILDTYPE_BUT_HAS_SNP__Enhancer.flip.sense__chr...  Enhancer    0.011805   \n",
       "156  WILDTYPE__Enhancer.noflip.NA__chr10:74057103.....  Enhancer    0.099831   \n",
       "20   WILDTYPE_BUT_HAS_SNP__Enhancer.flip.sense__chr...  Enhancer    0.125489   \n",
       "\n",
       "      cage_ts  mpra_activ   mpra_ts                    oligo_reg  \\\n",
       "70   0.363017    0.383850  0.228238   chr20:30249477..30249591,-   \n",
       "73   0.270880   -1.313054  0.215413   chr22:41418056..41418170,+   \n",
       "16   0.511019   -1.034775  0.235149  chr4:122611996..122612110,-   \n",
       "156  0.666667   -1.197627  0.171462   chr10:74057103..74057217,-   \n",
       "20   0.666667   -0.942611  0.180576    chr6:11299464..11299578,-   \n",
       "\n",
       "                       TSS_id  \n",
       "70    chr20:30249247-30249862  \n",
       "73    chr22:41417973-41418366  \n",
       "16   chr4:122611926-122612330  \n",
       "156   chr10:74056833-74058104  \n",
       "20     chr6:11299498-11299626  "
      ]
     },
     "execution_count": 40,
     "metadata": {},
     "output_type": "execute_result"
    }
   ],
   "source": [
    "# since enhancers have 2 TSS_ids, need to join these separately\n",
    "tmp = cage_v_mpra.merge(tss_cage_map[[\"oligo_reg\", \"TSS_id\"]], on=\"oligo_reg\", how=\"left\")\n",
    "tmp_enh_pos = tmp[(tmp[\"unique_id\"].str.contains(\"Enhancer\")) & (tmp[\"TSS_id\"].str[-1] == \"+\")]\n",
    "tmp_enh_neg = tmp[(tmp[\"unique_id\"].str.contains(\"Enhancer\")) & (tmp[\"TSS_id\"].str[-1] == \"-\")]\n",
    "\n",
    "tmp_enh_pos = tmp_enh_pos.merge(enh_cage_map[[\"TSS_id_Pos\", \"enhancer_id\"]], left_on=\"TSS_id\", right_on=\"TSS_id_Pos\",\n",
    "                                how=\"left\")\n",
    "tmp_enh_neg = tmp_enh_neg.merge(enh_cage_map[[\"TSS_id_Neg\", \"enhancer_id\"]], left_on=\"TSS_id\", right_on=\"TSS_id_Neg\",\n",
    "                                how=\"left\")\n",
    "tmp_enh_pos = tmp_enh_pos.drop(\"TSS_id_Pos\", axis=1)\n",
    "tmp_enh_neg = tmp_enh_neg.drop(\"TSS_id_Neg\", axis=1)\n",
    "tmp_enh = tmp_enh_pos.append(tmp_enh_neg)\n",
    "tmp_enh[\"TSS_id\"] = tmp_enh[\"enhancer_id\"]\n",
    "tmp_enh.drop(\"enhancer_id\", axis=1, inplace=True)\n",
    "tmp_enh.sample(5)"
   ]
  },
  {
   "cell_type": "code",
   "execution_count": 41,
   "metadata": {},
   "outputs": [
    {
     "data": {
      "text/html": [
       "<div>\n",
       "<style>\n",
       "    .dataframe thead tr:only-child th {\n",
       "        text-align: right;\n",
       "    }\n",
       "\n",
       "    .dataframe thead th {\n",
       "        text-align: left;\n",
       "    }\n",
       "\n",
       "    .dataframe tbody tr th {\n",
       "        vertical-align: top;\n",
       "    }\n",
       "</style>\n",
       "<table border=\"1\" class=\"dataframe\">\n",
       "  <thead>\n",
       "    <tr style=\"text-align: right;\">\n",
       "      <th></th>\n",
       "      <th>unique_id</th>\n",
       "      <th>PromType2</th>\n",
       "      <th>cage_activ</th>\n",
       "      <th>cage_ts</th>\n",
       "      <th>mpra_activ</th>\n",
       "      <th>mpra_ts</th>\n",
       "      <th>oligo_reg</th>\n",
       "      <th>TSS_id</th>\n",
       "    </tr>\n",
       "  </thead>\n",
       "  <tbody>\n",
       "    <tr>\n",
       "      <th>62</th>\n",
       "      <td>WILDTYPE_BUT_HAS_SNP__Enhancer.noflip.NA__chr1...</td>\n",
       "      <td>Enhancer</td>\n",
       "      <td>0.796684</td>\n",
       "      <td>0.187072</td>\n",
       "      <td>3.309177</td>\n",
       "      <td>0.024933</td>\n",
       "      <td>chr1:224180275..224180389,-</td>\n",
       "      <td>chr1:224180261-224180516</td>\n",
       "    </tr>\n",
       "    <tr>\n",
       "      <th>163</th>\n",
       "      <td>WILDTYPE__Enhancer.noflip.NA__chr11:118792018....</td>\n",
       "      <td>Enhancer</td>\n",
       "      <td>0.137641</td>\n",
       "      <td>0.470218</td>\n",
       "      <td>-1.543053</td>\n",
       "      <td>0.320886</td>\n",
       "      <td>chr11:118792018..118792132,-</td>\n",
       "      <td>chr11:118791529-118792348</td>\n",
       "    </tr>\n",
       "    <tr>\n",
       "      <th>618</th>\n",
       "      <td>WILDTYPE_BUT_HAS_SNP__mrna.noflip.NA__chr11:33...</td>\n",
       "      <td>protein_coding</td>\n",
       "      <td>0.199294</td>\n",
       "      <td>0.650599</td>\n",
       "      <td>-0.987246</td>\n",
       "      <td>0.311858</td>\n",
       "      <td>chr11:33744186..33744300,-</td>\n",
       "      <td>chr11:33744198..33744239,-</td>\n",
       "    </tr>\n",
       "    <tr>\n",
       "      <th>23</th>\n",
       "      <td>WILDTYPE_BUT_HAS_SNP__Antisense.flip.sense__ch...</td>\n",
       "      <td>div_lnc</td>\n",
       "      <td>1.192169</td>\n",
       "      <td>0.112579</td>\n",
       "      <td>-0.411365</td>\n",
       "      <td>0.129823</td>\n",
       "      <td>chr22:28315407..28315521,+</td>\n",
       "      <td>chr22:28315407..28315499,+</td>\n",
       "    </tr>\n",
       "    <tr>\n",
       "      <th>173</th>\n",
       "      <td>WILDTYPE__Enhancer.noflip.NA__chr12:92996282.....</td>\n",
       "      <td>Enhancer</td>\n",
       "      <td>0.006645</td>\n",
       "      <td>0.666667</td>\n",
       "      <td>-2.883021</td>\n",
       "      <td>0.325552</td>\n",
       "      <td>chr12:92996282..92996396,-</td>\n",
       "      <td>chr12:92995849-92996628</td>\n",
       "    </tr>\n",
       "  </tbody>\n",
       "</table>\n",
       "</div>"
      ],
      "text/plain": [
       "                                             unique_id       PromType2  \\\n",
       "62   WILDTYPE_BUT_HAS_SNP__Enhancer.noflip.NA__chr1...        Enhancer   \n",
       "163  WILDTYPE__Enhancer.noflip.NA__chr11:118792018....        Enhancer   \n",
       "618  WILDTYPE_BUT_HAS_SNP__mrna.noflip.NA__chr11:33...  protein_coding   \n",
       "23   WILDTYPE_BUT_HAS_SNP__Antisense.flip.sense__ch...         div_lnc   \n",
       "173  WILDTYPE__Enhancer.noflip.NA__chr12:92996282.....        Enhancer   \n",
       "\n",
       "     cage_activ   cage_ts  mpra_activ   mpra_ts                     oligo_reg  \\\n",
       "62     0.796684  0.187072    3.309177  0.024933   chr1:224180275..224180389,-   \n",
       "163    0.137641  0.470218   -1.543053  0.320886  chr11:118792018..118792132,-   \n",
       "618    0.199294  0.650599   -0.987246  0.311858    chr11:33744186..33744300,-   \n",
       "23     1.192169  0.112579   -0.411365  0.129823    chr22:28315407..28315521,+   \n",
       "173    0.006645  0.666667   -2.883021  0.325552    chr12:92996282..92996396,-   \n",
       "\n",
       "                         TSS_id  \n",
       "62     chr1:224180261-224180516  \n",
       "163   chr11:118791529-118792348  \n",
       "618  chr11:33744198..33744239,-  \n",
       "23   chr22:28315407..28315499,+  \n",
       "173     chr12:92995849-92996628  "
      ]
     },
     "execution_count": 41,
     "metadata": {},
     "output_type": "execute_result"
    }
   ],
   "source": [
    "tmp_no_enh = tmp[~tmp[\"unique_id\"].str.contains(\"Enhancer\")]\n",
    "cage_v_mpra = tmp_no_enh.append(tmp_enh)\n",
    "cage_v_mpra.sample(5)"
   ]
  },
  {
   "cell_type": "code",
   "execution_count": 42,
   "metadata": {},
   "outputs": [
    {
     "name": "stdout",
     "output_type": "stream",
     "text": [
      "2078\n"
     ]
    },
    {
     "data": {
      "text/html": [
       "<div>\n",
       "<style>\n",
       "    .dataframe thead tr:only-child th {\n",
       "        text-align: right;\n",
       "    }\n",
       "\n",
       "    .dataframe thead th {\n",
       "        text-align: left;\n",
       "    }\n",
       "\n",
       "    .dataframe tbody tr th {\n",
       "        vertical-align: top;\n",
       "    }\n",
       "</style>\n",
       "<table border=\"1\" class=\"dataframe\">\n",
       "  <thead>\n",
       "    <tr style=\"text-align: right;\">\n",
       "      <th></th>\n",
       "      <th>chr</th>\n",
       "      <th>start</th>\n",
       "      <th>end</th>\n",
       "      <th>unique_id</th>\n",
       "      <th>score</th>\n",
       "      <th>strand</th>\n",
       "      <th>n_motifs</th>\n",
       "      <th>n_bp_cov</th>\n",
       "      <th>seq_len</th>\n",
       "      <th>frac_bp_cov</th>\n",
       "      <th>...</th>\n",
       "      <th>log_bp_cov</th>\n",
       "      <th>log_max_cov</th>\n",
       "      <th>cage_id</th>\n",
       "      <th>PromType2</th>\n",
       "      <th>cage_activ</th>\n",
       "      <th>cage_ts</th>\n",
       "      <th>mpra_activ</th>\n",
       "      <th>mpra_ts</th>\n",
       "      <th>oligo_reg</th>\n",
       "      <th>TSS_id</th>\n",
       "    </tr>\n",
       "  </thead>\n",
       "  <tbody>\n",
       "    <tr>\n",
       "      <th>1316</th>\n",
       "      <td>chr3</td>\n",
       "      <td>156878514</td>\n",
       "      <td>156878628</td>\n",
       "      <td>WILDTYPE_BUT_HAS_SNP__mrna.noflip.NA__chr3:156...</td>\n",
       "      <td>1</td>\n",
       "      <td>-</td>\n",
       "      <td>103</td>\n",
       "      <td>86</td>\n",
       "      <td>114</td>\n",
       "      <td>0.754386</td>\n",
       "      <td>...</td>\n",
       "      <td>4.465908</td>\n",
       "      <td>3.713572</td>\n",
       "      <td>chr3:156878540..156878560,-</td>\n",
       "      <td>protein_coding</td>\n",
       "      <td>0.046558</td>\n",
       "      <td>0.428005</td>\n",
       "      <td>-0.397789</td>\n",
       "      <td>0.088869</td>\n",
       "      <td>chr3:156878514..156878628,-</td>\n",
       "      <td>chr3:156878540..156878560,-</td>\n",
       "    </tr>\n",
       "    <tr>\n",
       "      <th>1696</th>\n",
       "      <td>chr6</td>\n",
       "      <td>42946923</td>\n",
       "      <td>42947037</td>\n",
       "      <td>WILDTYPE_BUT_HAS_SNP__mrna.noflip.NA__chr6:429...</td>\n",
       "      <td>1</td>\n",
       "      <td>-</td>\n",
       "      <td>215</td>\n",
       "      <td>73</td>\n",
       "      <td>114</td>\n",
       "      <td>0.640351</td>\n",
       "      <td>...</td>\n",
       "      <td>4.304065</td>\n",
       "      <td>4.744932</td>\n",
       "      <td>chr6:42946947..42946965,-</td>\n",
       "      <td>protein_coding</td>\n",
       "      <td>0.442699</td>\n",
       "      <td>0.263772</td>\n",
       "      <td>1.942007</td>\n",
       "      <td>0.059955</td>\n",
       "      <td>chr6:42946923..42947037,-</td>\n",
       "      <td>chr6:42946947..42946965,-</td>\n",
       "    </tr>\n",
       "    <tr>\n",
       "      <th>1120</th>\n",
       "      <td>chr2</td>\n",
       "      <td>181988577</td>\n",
       "      <td>181988691</td>\n",
       "      <td>WILDTYPE__Lincrna.noflip.NA__chr2:181988577..1...</td>\n",
       "      <td>1</td>\n",
       "      <td>+</td>\n",
       "      <td>12</td>\n",
       "      <td>54</td>\n",
       "      <td>114</td>\n",
       "      <td>0.473684</td>\n",
       "      <td>...</td>\n",
       "      <td>4.007333</td>\n",
       "      <td>1.945910</td>\n",
       "      <td>chr2:181988620..181988686,+</td>\n",
       "      <td>intergenic</td>\n",
       "      <td>0.000000</td>\n",
       "      <td>NaN</td>\n",
       "      <td>-1.588242</td>\n",
       "      <td>0.160435</td>\n",
       "      <td>chr2:181988577..181988691,+</td>\n",
       "      <td>chr2:181988620..181988686,+</td>\n",
       "    </tr>\n",
       "    <tr>\n",
       "      <th>1727</th>\n",
       "      <td>chr7</td>\n",
       "      <td>105172602</td>\n",
       "      <td>105172716</td>\n",
       "      <td>WILDTYPE_BUT_HAS_SNP__mrna.noflip.NA__chr7:105...</td>\n",
       "      <td>1</td>\n",
       "      <td>+</td>\n",
       "      <td>16</td>\n",
       "      <td>50</td>\n",
       "      <td>114</td>\n",
       "      <td>0.438597</td>\n",
       "      <td>...</td>\n",
       "      <td>3.931826</td>\n",
       "      <td>1.945910</td>\n",
       "      <td>chr7:105172676..105172691,+</td>\n",
       "      <td>protein_coding</td>\n",
       "      <td>0.610084</td>\n",
       "      <td>0.126296</td>\n",
       "      <td>-1.652998</td>\n",
       "      <td>0.131904</td>\n",
       "      <td>chr7:105172602..105172716,+</td>\n",
       "      <td>chr7:105172676..105172691,+</td>\n",
       "    </tr>\n",
       "    <tr>\n",
       "      <th>1531</th>\n",
       "      <td>chr5</td>\n",
       "      <td>180618810</td>\n",
       "      <td>180618924</td>\n",
       "      <td>WILDTYPE_BUT_HAS_SNP__Antisense.noflip.NA__chr...</td>\n",
       "      <td>1</td>\n",
       "      <td>+</td>\n",
       "      <td>40</td>\n",
       "      <td>78</td>\n",
       "      <td>114</td>\n",
       "      <td>0.684210</td>\n",
       "      <td>...</td>\n",
       "      <td>4.369448</td>\n",
       "      <td>3.044522</td>\n",
       "      <td>chr5:180618862..180618907,+</td>\n",
       "      <td>intergenic</td>\n",
       "      <td>0.255147</td>\n",
       "      <td>0.195214</td>\n",
       "      <td>3.258531</td>\n",
       "      <td>0.083087</td>\n",
       "      <td>chr5:180618810..180618924,+</td>\n",
       "      <td>chr5:180618862..180618907,+</td>\n",
       "    </tr>\n",
       "  </tbody>\n",
       "</table>\n",
       "<p>5 rows × 22 columns</p>\n",
       "</div>"
      ],
      "text/plain": [
       "       chr      start        end  \\\n",
       "1316  chr3  156878514  156878628   \n",
       "1696  chr6   42946923   42947037   \n",
       "1120  chr2  181988577  181988691   \n",
       "1727  chr7  105172602  105172716   \n",
       "1531  chr5  180618810  180618924   \n",
       "\n",
       "                                              unique_id  score strand  \\\n",
       "1316  WILDTYPE_BUT_HAS_SNP__mrna.noflip.NA__chr3:156...      1      -   \n",
       "1696  WILDTYPE_BUT_HAS_SNP__mrna.noflip.NA__chr6:429...      1      -   \n",
       "1120  WILDTYPE__Lincrna.noflip.NA__chr2:181988577..1...      1      +   \n",
       "1727  WILDTYPE_BUT_HAS_SNP__mrna.noflip.NA__chr7:105...      1      +   \n",
       "1531  WILDTYPE_BUT_HAS_SNP__Antisense.noflip.NA__chr...      1      +   \n",
       "\n",
       "      n_motifs  n_bp_cov  seq_len  frac_bp_cov             ...               \\\n",
       "1316       103        86      114     0.754386             ...                \n",
       "1696       215        73      114     0.640351             ...                \n",
       "1120        12        54      114     0.473684             ...                \n",
       "1727        16        50      114     0.438597             ...                \n",
       "1531        40        78      114     0.684210             ...                \n",
       "\n",
       "      log_bp_cov  log_max_cov                      cage_id       PromType2  \\\n",
       "1316    4.465908     3.713572  chr3:156878540..156878560,-  protein_coding   \n",
       "1696    4.304065     4.744932    chr6:42946947..42946965,-  protein_coding   \n",
       "1120    4.007333     1.945910  chr2:181988620..181988686,+      intergenic   \n",
       "1727    3.931826     1.945910  chr7:105172676..105172691,+  protein_coding   \n",
       "1531    4.369448     3.044522  chr5:180618862..180618907,+      intergenic   \n",
       "\n",
       "     cage_activ   cage_ts  mpra_activ   mpra_ts                    oligo_reg  \\\n",
       "1316   0.046558  0.428005   -0.397789  0.088869  chr3:156878514..156878628,-   \n",
       "1696   0.442699  0.263772    1.942007  0.059955    chr6:42946923..42947037,-   \n",
       "1120   0.000000       NaN   -1.588242  0.160435  chr2:181988577..181988691,+   \n",
       "1727   0.610084  0.126296   -1.652998  0.131904  chr7:105172602..105172716,+   \n",
       "1531   0.255147  0.195214    3.258531  0.083087  chr5:180618810..180618924,+   \n",
       "\n",
       "                           TSS_id  \n",
       "1316  chr3:156878540..156878560,-  \n",
       "1696    chr6:42946947..42946965,-  \n",
       "1120  chr2:181988620..181988686,+  \n",
       "1727  chr7:105172676..105172691,+  \n",
       "1531  chr5:180618862..180618907,+  \n",
       "\n",
       "[5 rows x 22 columns]"
      ]
     },
     "execution_count": 42,
     "metadata": {},
     "output_type": "execute_result"
    }
   ],
   "source": [
    "pool1_fimo_cov = pool1_fimo_cov.merge(cage_v_mpra, on=\"unique_id\")\n",
    "pool1_fimo = pool1_fimo.merge(cage_v_mpra, on=\"unique_id\")\n",
    "pool1_fimo_cov[\"cage_id\"] = pool1_fimo_cov[\"TSS_id\"]\n",
    "pool1_fimo[\"cage_id\"] = pool1_fimo[\"TSS_id\"]\n",
    "all_cov_dfs[\"pool1_fimo\"] = pool1_fimo_cov\n",
    "all_motif_dfs[\"pool1_fimo\"] = pool1_fimo\n",
    "print(len(pool1_fimo_cov))\n",
    "pool1_fimo_cov.sample(5)"
   ]
  },
  {
   "cell_type": "code",
   "execution_count": 43,
   "metadata": {},
   "outputs": [
    {
     "name": "stdout",
     "output_type": "stream",
     "text": [
      "2078\n"
     ]
    }
   ],
   "source": [
    "pool1_fimo_chip_cov = pool1_fimo_chip_cov.merge(cage_v_mpra, on=\"unique_id\")\n",
    "\n",
    "# for old chip files:\n",
    "#pool1_fimo_chip = pool1_fimo_chip.drop(\"unique_id\", axis=1).merge(cage_v_mpra, left_on=\"cage_id\", right_on=\"TSS_id\")\n",
    "\n",
    "# for new chip files:\n",
    "pool1_fimo_chip = pool1_fimo_chip.merge(cage_v_mpra, on=\"unique_id\")\n",
    "\n",
    "pool1_fimo_chip_cov[\"cage_id\"] = pool1_fimo_chip_cov[\"TSS_id\"]\n",
    "pool1_fimo_chip[\"cage_id\"] = pool1_fimo_chip[\"TSS_id\"]\n",
    "all_cov_dfs[\"pool1_fimo_chip\"] = pool1_fimo_chip_cov\n",
    "all_motif_dfs[\"pool1_fimo_chip\"] = pool1_fimo_chip\n",
    "print(len(pool1_fimo_chip_cov))"
   ]
  },
  {
   "cell_type": "code",
   "execution_count": 44,
   "metadata": {},
   "outputs": [
    {
     "name": "stdout",
     "output_type": "stream",
     "text": [
      "2078\n"
     ]
    }
   ],
   "source": [
    "pool1_fimo_no_ets_cov = pool1_fimo_no_ets_cov.merge(cage_v_mpra, on=\"unique_id\")\n",
    "pool1_fimo_no_ets = pool1_fimo_no_ets.merge(cage_v_mpra, on=\"unique_id\")\n",
    "pool1_fimo_no_ets_cov[\"cage_id\"] = pool1_fimo_no_ets_cov[\"TSS_id\"]\n",
    "pool1_fimo_no_ets[\"cage_id\"] = pool1_fimo_no_ets[\"TSS_id\"]\n",
    "all_cov_dfs[\"pool1_fimo_no_ets\"] = pool1_fimo_no_ets_cov\n",
    "all_motif_dfs[\"pool1_fimo_no_ets\"] = pool1_fimo_no_ets\n",
    "print(len(pool1_fimo_no_ets_cov))"
   ]
  },
  {
   "cell_type": "code",
   "execution_count": 45,
   "metadata": {},
   "outputs": [
    {
     "name": "stdout",
     "output_type": "stream",
     "text": [
      "2078\n"
     ]
    }
   ],
   "source": [
    "pool1_fimo_no_ets_chip_cov = pool1_fimo_no_ets_chip_cov.merge(cage_v_mpra, on=\"unique_id\")\n",
    "\n",
    "# for old chip files:\n",
    "# pool1_fimo_no_ets_chip = pool1_fimo_no_ets_chip.drop(\"unique_id\", axis=1).merge(cage_v_mpra, left_on=\"cage_id\", \n",
    "#                                                                                 right_on=\"TSS_id\")\n",
    "\n",
    "# for new chip files:\n",
    "pool1_fimo_no_ets_chip = pool1_fimo_no_ets_chip.merge(cage_v_mpra, on=\"unique_id\")\n",
    "\n",
    "pool1_fimo_no_ets_chip_cov[\"cage_id\"] = pool1_fimo_no_ets_chip_cov[\"TSS_id\"]\n",
    "pool1_fimo_no_ets_chip[\"cage_id\"] = pool1_fimo_no_ets_chip[\"TSS_id\"]\n",
    "all_cov_dfs[\"pool1_fimo_no_ets_chip\"] = pool1_fimo_no_ets_chip_cov\n",
    "all_motif_dfs[\"pool1_fimo_no_ets_chip\"] = pool1_fimo_no_ets_chip\n",
    "print(len(pool1_fimo_no_ets_chip_cov))"
   ]
  },
  {
   "cell_type": "code",
   "execution_count": 46,
   "metadata": {},
   "outputs": [
    {
     "data": {
      "text/html": [
       "<div>\n",
       "<style>\n",
       "    .dataframe thead tr:only-child th {\n",
       "        text-align: right;\n",
       "    }\n",
       "\n",
       "    .dataframe thead th {\n",
       "        text-align: left;\n",
       "    }\n",
       "\n",
       "    .dataframe tbody tr th {\n",
       "        vertical-align: top;\n",
       "    }\n",
       "</style>\n",
       "<table border=\"1\" class=\"dataframe\">\n",
       "  <thead>\n",
       "    <tr style=\"text-align: right;\">\n",
       "      <th></th>\n",
       "      <th>motif_chr</th>\n",
       "      <th>motif_start</th>\n",
       "      <th>motif_end</th>\n",
       "      <th>unique_id</th>\n",
       "      <th>score</th>\n",
       "      <th>strand</th>\n",
       "      <th>chr</th>\n",
       "      <th>start</th>\n",
       "      <th>end</th>\n",
       "      <th>motif</th>\n",
       "      <th>motif_score</th>\n",
       "      <th>motif_strand</th>\n",
       "      <th>cage_id</th>\n",
       "      <th>PromType2</th>\n",
       "      <th>cage_activ</th>\n",
       "      <th>cage_ts</th>\n",
       "      <th>mpra_activ</th>\n",
       "      <th>mpra_ts</th>\n",
       "      <th>oligo_reg</th>\n",
       "      <th>TSS_id</th>\n",
       "    </tr>\n",
       "  </thead>\n",
       "  <tbody>\n",
       "    <tr>\n",
       "      <th>0</th>\n",
       "      <td>chr10</td>\n",
       "      <td>102133308</td>\n",
       "      <td>102133325</td>\n",
       "      <td>WILDTYPE_BUT_HAS_SNP__Lincrna.noflip.NA__chr10...</td>\n",
       "      <td>0</td>\n",
       "      <td>+</td>\n",
       "      <td>chr10</td>\n",
       "      <td>102133308</td>\n",
       "      <td>102133325</td>\n",
       "      <td>ESR1</td>\n",
       "      <td>1.12121</td>\n",
       "      <td>+</td>\n",
       "      <td>chr10:102133377..102133394,+</td>\n",
       "      <td>intergenic</td>\n",
       "      <td>0.572297</td>\n",
       "      <td>0.108096</td>\n",
       "      <td>-1.257574</td>\n",
       "      <td>0.401928</td>\n",
       "      <td>chr10:102133304..102133418,+</td>\n",
       "      <td>chr10:102133377..102133394,+</td>\n",
       "    </tr>\n",
       "    <tr>\n",
       "      <th>1</th>\n",
       "      <td>chr10</td>\n",
       "      <td>102133311</td>\n",
       "      <td>102133323</td>\n",
       "      <td>WILDTYPE_BUT_HAS_SNP__Lincrna.noflip.NA__chr10...</td>\n",
       "      <td>0</td>\n",
       "      <td>+</td>\n",
       "      <td>chr10</td>\n",
       "      <td>102133311</td>\n",
       "      <td>102133323</td>\n",
       "      <td>E2F8</td>\n",
       "      <td>3.19512</td>\n",
       "      <td>-</td>\n",
       "      <td>chr10:102133377..102133394,+</td>\n",
       "      <td>intergenic</td>\n",
       "      <td>0.572297</td>\n",
       "      <td>0.108096</td>\n",
       "      <td>-1.257574</td>\n",
       "      <td>0.401928</td>\n",
       "      <td>chr10:102133304..102133418,+</td>\n",
       "      <td>chr10:102133377..102133394,+</td>\n",
       "    </tr>\n",
       "    <tr>\n",
       "      <th>2</th>\n",
       "      <td>chr10</td>\n",
       "      <td>102133313</td>\n",
       "      <td>102133324</td>\n",
       "      <td>WILDTYPE_BUT_HAS_SNP__Lincrna.noflip.NA__chr10...</td>\n",
       "      <td>0</td>\n",
       "      <td>+</td>\n",
       "      <td>chr10</td>\n",
       "      <td>102133313</td>\n",
       "      <td>102133324</td>\n",
       "      <td>E2F6</td>\n",
       "      <td>11.27590</td>\n",
       "      <td>+</td>\n",
       "      <td>chr10:102133377..102133394,+</td>\n",
       "      <td>intergenic</td>\n",
       "      <td>0.572297</td>\n",
       "      <td>0.108096</td>\n",
       "      <td>-1.257574</td>\n",
       "      <td>0.401928</td>\n",
       "      <td>chr10:102133304..102133418,+</td>\n",
       "      <td>chr10:102133377..102133394,+</td>\n",
       "    </tr>\n",
       "    <tr>\n",
       "      <th>3</th>\n",
       "      <td>chr10</td>\n",
       "      <td>112631959</td>\n",
       "      <td>112631970</td>\n",
       "      <td>WILDTYPE__Antisense.noflip.NA__chr10:112631947...</td>\n",
       "      <td>0</td>\n",
       "      <td>-</td>\n",
       "      <td>chr10</td>\n",
       "      <td>112631959</td>\n",
       "      <td>112631970</td>\n",
       "      <td>SP1</td>\n",
       "      <td>10.38460</td>\n",
       "      <td>-</td>\n",
       "      <td>chr10:112631976..112632038,-</td>\n",
       "      <td>div_lnc</td>\n",
       "      <td>0.276165</td>\n",
       "      <td>0.423914</td>\n",
       "      <td>-0.026474</td>\n",
       "      <td>0.213527</td>\n",
       "      <td>chr10:112631947..112632061,-</td>\n",
       "      <td>chr10:112631976..112632038,-</td>\n",
       "    </tr>\n",
       "    <tr>\n",
       "      <th>4</th>\n",
       "      <td>chr10</td>\n",
       "      <td>112632039</td>\n",
       "      <td>112632058</td>\n",
       "      <td>WILDTYPE__Antisense.noflip.NA__chr10:112631947...</td>\n",
       "      <td>0</td>\n",
       "      <td>-</td>\n",
       "      <td>chr10</td>\n",
       "      <td>112632039</td>\n",
       "      <td>112632058</td>\n",
       "      <td>CTCF</td>\n",
       "      <td>10.93440</td>\n",
       "      <td>+</td>\n",
       "      <td>chr10:112631976..112632038,-</td>\n",
       "      <td>div_lnc</td>\n",
       "      <td>0.276165</td>\n",
       "      <td>0.423914</td>\n",
       "      <td>-0.026474</td>\n",
       "      <td>0.213527</td>\n",
       "      <td>chr10:112631947..112632061,-</td>\n",
       "      <td>chr10:112631976..112632038,-</td>\n",
       "    </tr>\n",
       "  </tbody>\n",
       "</table>\n",
       "</div>"
      ],
      "text/plain": [
       "  motif_chr  motif_start  motif_end  \\\n",
       "0     chr10    102133308  102133325   \n",
       "1     chr10    102133311  102133323   \n",
       "2     chr10    102133313  102133324   \n",
       "3     chr10    112631959  112631970   \n",
       "4     chr10    112632039  112632058   \n",
       "\n",
       "                                           unique_id  score strand    chr  \\\n",
       "0  WILDTYPE_BUT_HAS_SNP__Lincrna.noflip.NA__chr10...      0      +  chr10   \n",
       "1  WILDTYPE_BUT_HAS_SNP__Lincrna.noflip.NA__chr10...      0      +  chr10   \n",
       "2  WILDTYPE_BUT_HAS_SNP__Lincrna.noflip.NA__chr10...      0      +  chr10   \n",
       "3  WILDTYPE__Antisense.noflip.NA__chr10:112631947...      0      -  chr10   \n",
       "4  WILDTYPE__Antisense.noflip.NA__chr10:112631947...      0      -  chr10   \n",
       "\n",
       "       start        end motif  motif_score motif_strand  \\\n",
       "0  102133308  102133325  ESR1      1.12121            +   \n",
       "1  102133311  102133323  E2F8      3.19512            -   \n",
       "2  102133313  102133324  E2F6     11.27590            +   \n",
       "3  112631959  112631970   SP1     10.38460            -   \n",
       "4  112632039  112632058  CTCF     10.93440            +   \n",
       "\n",
       "                        cage_id   PromType2  cage_activ   cage_ts  mpra_activ  \\\n",
       "0  chr10:102133377..102133394,+  intergenic    0.572297  0.108096   -1.257574   \n",
       "1  chr10:102133377..102133394,+  intergenic    0.572297  0.108096   -1.257574   \n",
       "2  chr10:102133377..102133394,+  intergenic    0.572297  0.108096   -1.257574   \n",
       "3  chr10:112631976..112632038,-     div_lnc    0.276165  0.423914   -0.026474   \n",
       "4  chr10:112631976..112632038,-     div_lnc    0.276165  0.423914   -0.026474   \n",
       "\n",
       "    mpra_ts                     oligo_reg                        TSS_id  \n",
       "0  0.401928  chr10:102133304..102133418,+  chr10:102133377..102133394,+  \n",
       "1  0.401928  chr10:102133304..102133418,+  chr10:102133377..102133394,+  \n",
       "2  0.401928  chr10:102133304..102133418,+  chr10:102133377..102133394,+  \n",
       "3  0.213527  chr10:112631947..112632061,-  chr10:112631976..112632038,-  \n",
       "4  0.213527  chr10:112631947..112632061,-  chr10:112631976..112632038,-  "
      ]
     },
     "execution_count": 46,
     "metadata": {},
     "output_type": "execute_result"
    }
   ],
   "source": [
    "pool1_fimo_no_ets_chip.head()"
   ]
  },
  {
   "cell_type": "markdown",
   "metadata": {},
   "source": [
    "## 3. find avg TF/motif specificity per tile"
   ]
  },
  {
   "cell_type": "code",
   "execution_count": 47,
   "metadata": {},
   "outputs": [
    {
     "name": "stdout",
     "output_type": "stream",
     "text": [
      "fimo\n",
      "fimo_chip\n",
      "pool1_fimo\n",
      "pool1_fimo_chip\n",
      "pool1_fimo_no_ets\n",
      "pool1_fimo_no_ets_chip\n"
     ]
    },
    {
     "data": {
      "text/html": [
       "<div>\n",
       "<style>\n",
       "    .dataframe thead tr:only-child th {\n",
       "        text-align: right;\n",
       "    }\n",
       "\n",
       "    .dataframe thead th {\n",
       "        text-align: left;\n",
       "    }\n",
       "\n",
       "    .dataframe tbody tr th {\n",
       "        vertical-align: top;\n",
       "    }\n",
       "</style>\n",
       "<table border=\"1\" class=\"dataframe\">\n",
       "  <thead>\n",
       "    <tr style=\"text-align: right;\">\n",
       "      <th></th>\n",
       "      <th>cage_id</th>\n",
       "      <th>avg_tf_tissue_sp</th>\n",
       "      <th>log_avg_tf_tissue_sp</th>\n",
       "    </tr>\n",
       "  </thead>\n",
       "  <tbody>\n",
       "    <tr>\n",
       "      <th>5</th>\n",
       "      <td>chr10:42971050..42971098,+</td>\n",
       "      <td>0.666587</td>\n",
       "      <td>0.510778</td>\n",
       "    </tr>\n",
       "    <tr>\n",
       "      <th>9</th>\n",
       "      <td>chr10:89102091..89102112,-</td>\n",
       "      <td>0.658790</td>\n",
       "      <td>0.506088</td>\n",
       "    </tr>\n",
       "    <tr>\n",
       "      <th>181</th>\n",
       "      <td>chr6:24495067..24495096,+</td>\n",
       "      <td>0.500863</td>\n",
       "      <td>0.406040</td>\n",
       "    </tr>\n",
       "    <tr>\n",
       "      <th>76</th>\n",
       "      <td>chr19:4007713..4007759,+</td>\n",
       "      <td>0.332826</td>\n",
       "      <td>0.287301</td>\n",
       "    </tr>\n",
       "    <tr>\n",
       "      <th>197</th>\n",
       "      <td>chr6:86114496-86114829</td>\n",
       "      <td>0.114959</td>\n",
       "      <td>0.108818</td>\n",
       "    </tr>\n",
       "  </tbody>\n",
       "</table>\n",
       "</div>"
      ],
      "text/plain": [
       "                        cage_id  avg_tf_tissue_sp  log_avg_tf_tissue_sp\n",
       "5    chr10:42971050..42971098,+          0.666587              0.510778\n",
       "9    chr10:89102091..89102112,-          0.658790              0.506088\n",
       "181   chr6:24495067..24495096,+          0.500863              0.406040\n",
       "76     chr19:4007713..4007759,+          0.332826              0.287301\n",
       "197      chr6:86114496-86114829          0.114959              0.108818"
      ]
     },
     "execution_count": 47,
     "metadata": {},
     "output_type": "execute_result"
    }
   ],
   "source": [
    "all_spec_dfs = {}\n",
    "for key in all_motif_dfs.keys():\n",
    "    print(key)\n",
    "    df = all_motif_dfs[key]\n",
    "    df[\"motif\"] = df[\"motif\"].str.upper()\n",
    "    df = df.merge(tf_ts, left_on=\"motif\", right_on=\"tf\", how=\"left\")\n",
    "    df_nonan = df[~pd.isnull(df[\"tissue_sp_3\"])]\n",
    "    df_deduped = df_nonan.drop_duplicates(subset=[\"motif\", \"unique_id\"])\n",
    "    avg_sp = df_deduped.groupby([\"cage_id\"])[\"tissue_sp_3\"].agg(\"mean\").reset_index()\n",
    "    avg_sp.columns = [\"cage_id\", \"avg_tf_tissue_sp\"]\n",
    "    avg_sp[\"log_avg_tf_tissue_sp\"] = np.log(avg_sp[\"avg_tf_tissue_sp\"]+1)\n",
    "    all_spec_dfs[key] = avg_sp\n",
    "avg_sp.sample(5)"
   ]
  },
  {
   "cell_type": "markdown",
   "metadata": {},
   "source": [
    "## 4. merge and write coverage files"
   ]
  },
  {
   "cell_type": "code",
   "execution_count": 48,
   "metadata": {},
   "outputs": [
    {
     "name": "stdout",
     "output_type": "stream",
     "text": [
      "fimo\n",
      "fimo_chip\n",
      "fimo_clust\n",
      "fimo_no_ets\n",
      "fimo_no_ets_chip\n",
      "pool1_fimo\n",
      "pool1_fimo_chip\n",
      "pool1_fimo_no_ets\n",
      "pool1_fimo_no_ets_chip\n"
     ]
    }
   ],
   "source": [
    "file_prefixes = {\"fimo\": \"all_fimo_map\", \"fimo_chip\": \"all_fimo_map.chip_intersected\", \n",
    "                 \"fimo_clust\": \"all_fimo_map.bulyk_clusters\", \"fimo_no_ets\": \"all_fimo_map.no_ETS_motifs\",\n",
    "                 \"fimo_no_ets_chip\": \"all_fimo_map.chip_intersected.no_ETS_motifs\", \n",
    "                 \"pool1_fimo\": \"pool1_fimo_map\", \"pool1_fimo_chip\": \"pool1_fimo_map.chip_intersected\", \n",
    "                 \"pool1_fimo_no_ets\": \"pool1_fimo_map.no_ETS_motifs\", \n",
    "                 \"pool1_fimo_no_ets_chip\": \"pool1_fimo_map.chip_intersected.no_ETS_motifs\"}\n",
    "\n",
    "for key in all_cov_dfs.keys():\n",
    "    print(key)\n",
    "    name = file_prefixes[key]\n",
    "    cov_df = all_cov_dfs[key]\n",
    "    if key in all_spec_dfs.keys():\n",
    "        spec_df = all_spec_dfs[key]\n",
    "        merge_df = cov_df.merge(spec_df, on=\"cage_id\", how=\"left\")\n",
    "        merge_df = merge_df[[\"unique_id\", \"cage_id\", \"n_motifs\", \"n_bp_cov\", \"max_cov\", \"avg_tf_tissue_sp\", \n",
    "                             \"log_n_motifs\", \"log_bp_cov\", \"log_max_cov\", \"log_avg_tf_tissue_sp\"]].drop_duplicates()\n",
    "    else:\n",
    "        merge_df = cov_df[[\"unique_id\", \"cage_id\", \"n_motifs\", \"n_bp_cov\", \"max_cov\", \n",
    "                                 \"log_n_motifs\", \"log_bp_cov\", \"log_max_cov\"]].drop_duplicates()\n",
    "    \n",
    "    merge_df.to_csv(\"../../data/04__coverage/%s.all_cov.new.txt\" % name, sep=\"\\t\", index=False)\n",
    "    \n",
    "    if \"pool1\" in name:\n",
    "        merge_df = merge_df.merge(cage_v_mpra[[\"unique_id\", \"mpra_activ\", \"mpra_ts\"]], on=\"unique_id\")\n",
    "    all_cov_dfs[key] = merge_df"
   ]
  },
  {
   "cell_type": "markdown",
   "metadata": {},
   "source": [
    "## 5. plot correlations w/ MPRA data"
   ]
  },
  {
   "cell_type": "markdown",
   "metadata": {},
   "source": [
    "## tissue specificity"
   ]
  },
  {
   "cell_type": "markdown",
   "metadata": {},
   "source": [
    "#### fimo only"
   ]
  },
  {
   "cell_type": "code",
   "execution_count": 118,
   "metadata": {},
   "outputs": [
    {
     "data": {
      "text/html": [
       "<div>\n",
       "<style>\n",
       "    .dataframe thead tr:only-child th {\n",
       "        text-align: right;\n",
       "    }\n",
       "\n",
       "    .dataframe thead th {\n",
       "        text-align: left;\n",
       "    }\n",
       "\n",
       "    .dataframe tbody tr th {\n",
       "        vertical-align: top;\n",
       "    }\n",
       "</style>\n",
       "<table border=\"1\" class=\"dataframe\">\n",
       "  <thead>\n",
       "    <tr style=\"text-align: right;\">\n",
       "      <th></th>\n",
       "      <th>unique_id</th>\n",
       "      <th>cage_id</th>\n",
       "      <th>n_motifs</th>\n",
       "      <th>n_bp_cov</th>\n",
       "      <th>max_cov</th>\n",
       "      <th>avg_tf_tissue_sp</th>\n",
       "      <th>log_n_motifs</th>\n",
       "      <th>log_bp_cov</th>\n",
       "      <th>log_max_cov</th>\n",
       "      <th>log_avg_tf_tissue_sp</th>\n",
       "      <th>mpra_activ</th>\n",
       "      <th>mpra_ts</th>\n",
       "    </tr>\n",
       "  </thead>\n",
       "  <tbody>\n",
       "    <tr>\n",
       "      <th>0</th>\n",
       "      <td>WILDTYPE__mrna.noflip.NA__chr10:102046079..102...</td>\n",
       "      <td>chr10:102046098..102046122,-</td>\n",
       "      <td>13</td>\n",
       "      <td>39</td>\n",
       "      <td>11.0</td>\n",
       "      <td>0.417349</td>\n",
       "      <td>2.639057</td>\n",
       "      <td>3.688879</td>\n",
       "      <td>2.484907</td>\n",
       "      <td>0.348788</td>\n",
       "      <td>0.755234</td>\n",
       "      <td>0.339882</td>\n",
       "    </tr>\n",
       "    <tr>\n",
       "      <th>1</th>\n",
       "      <td>WILDTYPE_BUT_HAS_SNP__Lincrna.noflip.NA__chr10...</td>\n",
       "      <td>chr10:102133377..102133394,+</td>\n",
       "      <td>19</td>\n",
       "      <td>60</td>\n",
       "      <td>8.0</td>\n",
       "      <td>0.439100</td>\n",
       "      <td>2.995732</td>\n",
       "      <td>4.110874</td>\n",
       "      <td>2.197225</td>\n",
       "      <td>0.364018</td>\n",
       "      <td>-1.257574</td>\n",
       "      <td>0.401928</td>\n",
       "    </tr>\n",
       "    <tr>\n",
       "      <th>2</th>\n",
       "      <td>WILDTYPE_BUT_HAS_SNP__mrna.flip.sense__chr10:1...</td>\n",
       "      <td>chr10:1034365..1034411,+</td>\n",
       "      <td>32</td>\n",
       "      <td>74</td>\n",
       "      <td>12.0</td>\n",
       "      <td>0.427311</td>\n",
       "      <td>3.496508</td>\n",
       "      <td>4.317488</td>\n",
       "      <td>2.564949</td>\n",
       "      <td>0.355792</td>\n",
       "      <td>0.480824</td>\n",
       "      <td>0.144071</td>\n",
       "    </tr>\n",
       "    <tr>\n",
       "      <th>3</th>\n",
       "      <td>WILDTYPE_BUT_HAS_SNP__mrna.noflip.NA__chr10:10...</td>\n",
       "      <td>chr10:104597163..104597180,-</td>\n",
       "      <td>20</td>\n",
       "      <td>78</td>\n",
       "      <td>6.0</td>\n",
       "      <td>0.452162</td>\n",
       "      <td>3.044522</td>\n",
       "      <td>4.369448</td>\n",
       "      <td>1.945910</td>\n",
       "      <td>0.373054</td>\n",
       "      <td>-1.168195</td>\n",
       "      <td>0.270406</td>\n",
       "    </tr>\n",
       "    <tr>\n",
       "      <th>4</th>\n",
       "      <td>WILDTYPE__Lincrna.noflip.NA__chr10:106113294.....</td>\n",
       "      <td>chr10:106113320..106113338,-</td>\n",
       "      <td>24</td>\n",
       "      <td>63</td>\n",
       "      <td>13.0</td>\n",
       "      <td>0.408014</td>\n",
       "      <td>3.218876</td>\n",
       "      <td>4.158883</td>\n",
       "      <td>2.639057</td>\n",
       "      <td>0.342180</td>\n",
       "      <td>0.412117</td>\n",
       "      <td>0.107425</td>\n",
       "    </tr>\n",
       "  </tbody>\n",
       "</table>\n",
       "</div>"
      ],
      "text/plain": [
       "                                           unique_id  \\\n",
       "0  WILDTYPE__mrna.noflip.NA__chr10:102046079..102...   \n",
       "1  WILDTYPE_BUT_HAS_SNP__Lincrna.noflip.NA__chr10...   \n",
       "2  WILDTYPE_BUT_HAS_SNP__mrna.flip.sense__chr10:1...   \n",
       "3  WILDTYPE_BUT_HAS_SNP__mrna.noflip.NA__chr10:10...   \n",
       "4  WILDTYPE__Lincrna.noflip.NA__chr10:106113294.....   \n",
       "\n",
       "                        cage_id  n_motifs  n_bp_cov  max_cov  \\\n",
       "0  chr10:102046098..102046122,-        13        39     11.0   \n",
       "1  chr10:102133377..102133394,+        19        60      8.0   \n",
       "2      chr10:1034365..1034411,+        32        74     12.0   \n",
       "3  chr10:104597163..104597180,-        20        78      6.0   \n",
       "4  chr10:106113320..106113338,-        24        63     13.0   \n",
       "\n",
       "   avg_tf_tissue_sp  log_n_motifs  log_bp_cov  log_max_cov  \\\n",
       "0          0.417349      2.639057    3.688879     2.484907   \n",
       "1          0.439100      2.995732    4.110874     2.197225   \n",
       "2          0.427311      3.496508    4.317488     2.564949   \n",
       "3          0.452162      3.044522    4.369448     1.945910   \n",
       "4          0.408014      3.218876    4.158883     2.639057   \n",
       "\n",
       "   log_avg_tf_tissue_sp  mpra_activ   mpra_ts  \n",
       "0              0.348788    0.755234  0.339882  \n",
       "1              0.364018   -1.257574  0.401928  \n",
       "2              0.355792    0.480824  0.144071  \n",
       "3              0.373054   -1.168195  0.270406  \n",
       "4              0.342180    0.412117  0.107425  "
      ]
     },
     "execution_count": 118,
     "metadata": {},
     "output_type": "execute_result"
    }
   ],
   "source": [
    "df = all_cov_dfs[\"pool1_fimo\"]\n",
    "df.head()"
   ]
  },
  {
   "cell_type": "code",
   "execution_count": 119,
   "metadata": {
    "collapsed": true
   },
   "outputs": [],
   "source": [
    "#cmap = sns.light_palette(\"#8da0cb\", as_cmap=True)\n",
    "cmap = sns.light_palette(\"darkslategray\", as_cmap=True)"
   ]
  },
  {
   "cell_type": "code",
   "execution_count": 120,
   "metadata": {},
   "outputs": [
    {
     "data": {
      "text/plain": [
       "2043"
      ]
     },
     "execution_count": 120,
     "metadata": {},
     "output_type": "execute_result"
    }
   ],
   "source": [
    "no_nan = df[~pd.isnull(df[\"log_avg_tf_tissue_sp\"]) &\n",
    "            ~pd.isnull(df[\"mpra_activ\"])]\n",
    "len(no_nan)"
   ]
  },
  {
   "cell_type": "code",
   "execution_count": 128,
   "metadata": {},
   "outputs": [
    {
     "name": "stdout",
     "output_type": "stream",
     "text": [
      "r: -0.177680756913, spearman p: 5.93552353483e-16\n"
     ]
    },
    {
     "data": {
      "text/plain": [
       "<matplotlib.text.Annotation at 0x2b2400f895c0>"
      ]
     },
     "execution_count": 128,
     "metadata": {},
     "output_type": "execute_result"
    },
    {
     "data": {
      "image/png": "[encoded data removed]",
      "text/plain": [
       "<matplotlib.figure.Figure at 0x2b2400eaa6a0>"
      ]
     },
     "metadata": {},
     "output_type": "display_data"
    }
   ],
   "source": [
    "fig = plt.figure(figsize=(1.2, 1.2))\n",
    "ax = sns.kdeplot(no_nan[\"log_avg_tf_tissue_sp\"], no_nan[\"mpra_activ\"], cmap=cmap, \n",
    "                 shade=True, shade_lowest=False)\n",
    "ax.set_ylabel(\"mean MPRA activity\")\n",
    "ax.set_xlabel(\"log(mean TF tissue specificity)\")\n",
    "\n",
    "r, p = stats.spearmanr(no_nan[\"log_avg_tf_tissue_sp\"], no_nan[\"mpra_activ\"])\n",
    "print(\"r: %s, spearman p: %s\" % (r, p))\n",
    "ax.annotate(\"r = {:.2f}\".format(r), xy=(.05, .9), xycoords=ax.transAxes, fontsize=fontsize)\n",
    "\n",
    "# add n-value\n",
    "ax.annotate(\"n = %s\" % len(no_nan), ha=\"right\", xy=(.96, .9), xycoords=ax.transAxes, \n",
    "            fontsize=fontsize)\n",
    "#fig.savefig(\"Fig_2C_3.pdf\", bbox_inches=\"tight\", dpi=\"figure\")"
   ]
  },
  {
   "cell_type": "code",
   "execution_count": 129,
   "metadata": {},
   "outputs": [
    {
     "data": {
      "text/plain": [
       "1952"
      ]
     },
     "execution_count": 129,
     "metadata": {},
     "output_type": "execute_result"
    }
   ],
   "source": [
    "no_nan = df[~pd.isnull(df[\"log_avg_tf_tissue_sp\"]) &\n",
    "            ~pd.isnull(df[\"mpra_ts\"])]\n",
    "len(no_nan)"
   ]
  },
  {
   "cell_type": "code",
   "execution_count": 131,
   "metadata": {},
   "outputs": [
    {
     "name": "stdout",
     "output_type": "stream",
     "text": [
      "r: 0.163832529512, spearman p: 3.2652017962e-13\n"
     ]
    },
    {
     "data": {
      "text/plain": [
       "<matplotlib.text.Annotation at 0x2b24010cc6a0>"
      ]
     },
     "execution_count": 131,
     "metadata": {},
     "output_type": "execute_result"
    },
    {
     "data": {
      "image/png": "[encoded data removed]",
      "text/plain": [
       "<matplotlib.figure.Figure at 0x2b2400ff24a8>"
      ]
     },
     "metadata": {},
     "output_type": "display_data"
    }
   ],
   "source": [
    "fig = plt.figure(figsize=(1.2, 1.2))\n",
    "ax = sns.kdeplot(no_nan[\"log_avg_tf_tissue_sp\"], no_nan[\"mpra_ts\"], cmap=cmap, \n",
    "                 shade=True, shade_lowest=False)\n",
    "ax.set_ylabel(\"tissue specificity in MPRA\")\n",
    "ax.set_xlabel(\"log(mean TF tissue specificity)\")\n",
    "\n",
    "r, p = stats.spearmanr(no_nan[\"log_avg_tf_tissue_sp\"], no_nan[\"mpra_ts\"])\n",
    "print(\"r: %s, spearman p: %s\" % (r, p))\n",
    "ax.annotate(\"r = {:.2f}\".format(r), xy=(.05, .9), xycoords=ax.transAxes, fontsize=fontsize)\n",
    "\n",
    "# add n-value\n",
    "ax.annotate(\"n = %s\" % len(no_nan), ha=\"right\", xy=(.96, .9), xycoords=ax.transAxes, \n",
    "            fontsize=fontsize)\n",
    "#fig.savefig(\"Fig_2C_6.pdf\", bbox_inches=\"tight\", dpi=\"figure\")"
   ]
  },
  {
   "cell_type": "markdown",
   "metadata": {},
   "source": [
    "#### fimo intersected w/ chip"
   ]
  },
  {
   "cell_type": "code",
   "execution_count": 132,
   "metadata": {
    "collapsed": true
   },
   "outputs": [],
   "source": [
    "df = all_cov_dfs[\"pool1_fimo_chip\"]"
   ]
  },
  {
   "cell_type": "code",
   "execution_count": 133,
   "metadata": {},
   "outputs": [
    {
     "data": {
      "text/plain": [
       "296"
      ]
     },
     "execution_count": 133,
     "metadata": {},
     "output_type": "execute_result"
    }
   ],
   "source": [
    "no_nan = df[~pd.isnull(df[\"log_avg_tf_tissue_sp\"]) &\n",
    "            ~pd.isnull(df[\"mpra_activ\"])]\n",
    "len(no_nan)"
   ]
  },
  {
   "cell_type": "code",
   "execution_count": 134,
   "metadata": {},
   "outputs": [
    {
     "name": "stdout",
     "output_type": "stream",
     "text": [
      "r: -0.00787775567083, spearman p: 0.89264140067\n"
     ]
    },
    {
     "data": {
      "text/plain": [
       "<matplotlib.text.Annotation at 0x2b240116d320>"
      ]
     },
     "execution_count": 134,
     "metadata": {},
     "output_type": "execute_result"
    },
    {
     "data": {
      "image/png": "[encoded data removed]",
      "text/plain": [
       "<matplotlib.figure.Figure at 0x2b240108e4a8>"
      ]
     },
     "metadata": {},
     "output_type": "display_data"
    }
   ],
   "source": [
    "fig = plt.figure(figsize=(1.2, 1.2))\n",
    "ax = sns.kdeplot(no_nan[\"log_avg_tf_tissue_sp\"], no_nan[\"mpra_activ\"], cmap=cmap, \n",
    "                 shade=True, shade_lowest=False)\n",
    "ax.set_ylabel(\"mean MPRA activity\")\n",
    "ax.set_xlabel(\"log(mean TF tissue specificity)\")\n",
    "\n",
    "r, p = stats.spearmanr(no_nan[\"log_avg_tf_tissue_sp\"], no_nan[\"mpra_activ\"])\n",
    "print(\"r: %s, spearman p: %s\" % (r, p))\n",
    "ax.annotate(\"r = {:.2f}\".format(r), xy=(.05, .9), xycoords=ax.transAxes, fontsize=fontsize)\n",
    "\n",
    "# add n-value\n",
    "ax.annotate(\"n = %s\" % len(no_nan), ha=\"right\", xy=(.96, .9), xycoords=ax.transAxes, \n",
    "            fontsize=fontsize)"
   ]
  },
  {
   "cell_type": "code",
   "execution_count": 135,
   "metadata": {},
   "outputs": [
    {
     "data": {
      "text/plain": [
       "276"
      ]
     },
     "execution_count": 135,
     "metadata": {},
     "output_type": "execute_result"
    }
   ],
   "source": [
    "no_nan = df[~pd.isnull(df[\"log_avg_tf_tissue_sp\"]) &\n",
    "            ~pd.isnull(df[\"mpra_ts\"])]\n",
    "len(no_nan)"
   ]
  },
  {
   "cell_type": "code",
   "execution_count": 137,
   "metadata": {},
   "outputs": [
    {
     "name": "stdout",
     "output_type": "stream",
     "text": [
      "r: -0.00613140201289, spearman p: 0.91923201936\n"
     ]
    },
    {
     "data": {
      "text/plain": [
       "<matplotlib.text.Annotation at 0x2b2400a87da0>"
      ]
     },
     "execution_count": 137,
     "metadata": {},
     "output_type": "execute_result"
    },
    {
     "data": {
      "image/png": "[encoded data removed]",
      "text/plain": [
       "<matplotlib.figure.Figure at 0x2b24011e0ba8>"
      ]
     },
     "metadata": {},
     "output_type": "display_data"
    }
   ],
   "source": [
    "fig = plt.figure(figsize=(1.2, 1.2))\n",
    "ax = sns.kdeplot(no_nan[\"log_avg_tf_tissue_sp\"], no_nan[\"mpra_ts\"], cmap=cmap, \n",
    "                 shade=True, shade_lowest=False)\n",
    "ax.set_ylabel(\"tissue specificity in MPRA\")\n",
    "ax.set_xlabel(\"log(mean TF tissue specificity)\")\n",
    "\n",
    "r, p = stats.spearmanr(no_nan[\"log_avg_tf_tissue_sp\"], no_nan[\"mpra_ts\"])\n",
    "print(\"r: %s, spearman p: %s\" % (r, p))\n",
    "ax.annotate(\"r = {:.2f}\".format(r), xy=(.05, .9), xycoords=ax.transAxes, fontsize=fontsize)\n",
    "\n",
    "# add n-value\n",
    "ax.annotate(\"n = %s\" % len(no_nan), ha=\"right\", xy=(.96, .9), xycoords=ax.transAxes, \n",
    "            fontsize=fontsize)"
   ]
  },
  {
   "cell_type": "markdown",
   "metadata": {},
   "source": [
    "#### fimo only -- no ETS"
   ]
  },
  {
   "cell_type": "code",
   "execution_count": 138,
   "metadata": {
    "collapsed": true
   },
   "outputs": [],
   "source": [
    "df = all_cov_dfs[\"pool1_fimo_no_ets\"]"
   ]
  },
  {
   "cell_type": "code",
   "execution_count": 139,
   "metadata": {},
   "outputs": [
    {
     "data": {
      "text/plain": [
       "2040"
      ]
     },
     "execution_count": 139,
     "metadata": {},
     "output_type": "execute_result"
    }
   ],
   "source": [
    "no_nan = df[~pd.isnull(df[\"log_avg_tf_tissue_sp\"]) &\n",
    "            ~pd.isnull(df[\"mpra_activ\"])]\n",
    "len(no_nan)"
   ]
  },
  {
   "cell_type": "code",
   "execution_count": 140,
   "metadata": {},
   "outputs": [
    {
     "name": "stdout",
     "output_type": "stream",
     "text": [
      "r: -0.145169291138, spearman p: 4.46769814809e-11\n"
     ]
    },
    {
     "data": {
      "text/plain": [
       "<matplotlib.text.Annotation at 0x2b2400702518>"
      ]
     },
     "execution_count": 140,
     "metadata": {},
     "output_type": "execute_result"
    },
    {
     "data": {
      "image/png": "[encoded data removed]",
      "text/plain": [
       "<matplotlib.figure.Figure at 0x2b2400a4a860>"
      ]
     },
     "metadata": {},
     "output_type": "display_data"
    }
   ],
   "source": [
    "fig = plt.figure(figsize=(1.2, 1.2))\n",
    "ax = sns.kdeplot(no_nan[\"log_avg_tf_tissue_sp\"], no_nan[\"mpra_activ\"], cmap=cmap, \n",
    "                 shade=True, shade_lowest=False)\n",
    "ax.set_ylabel(\"mean MPRA activity\")\n",
    "ax.set_xlabel(\"log(mean TF tissue specificity)\")\n",
    "\n",
    "r, p = stats.spearmanr(no_nan[\"log_avg_tf_tissue_sp\"], no_nan[\"mpra_activ\"])\n",
    "print(\"r: %s, spearman p: %s\" % (r, p))\n",
    "ax.annotate(\"r = {:.2f}\".format(r), xy=(.05, .9), xycoords=ax.transAxes, fontsize=fontsize)\n",
    "\n",
    "# add n-value\n",
    "ax.annotate(\"n = %s\" % len(no_nan), ha=\"right\", xy=(.96, .9), xycoords=ax.transAxes, \n",
    "            fontsize=fontsize)\n",
    "\n",
    "#fig.savefig(\"Fig_2C_3.pdf\", bbox_inches=\"tight\", dpi=\"figure\")"
   ]
  },
  {
   "cell_type": "code",
   "execution_count": 141,
   "metadata": {},
   "outputs": [
    {
     "data": {
      "text/plain": [
       "1949"
      ]
     },
     "execution_count": 141,
     "metadata": {},
     "output_type": "execute_result"
    }
   ],
   "source": [
    "no_nan = df[~pd.isnull(df[\"log_avg_tf_tissue_sp\"]) &\n",
    "            ~pd.isnull(df[\"mpra_ts\"])]\n",
    "len(no_nan)"
   ]
  },
  {
   "cell_type": "code",
   "execution_count": 143,
   "metadata": {},
   "outputs": [
    {
     "name": "stdout",
     "output_type": "stream",
     "text": [
      "r: 0.13167131589, spearman p: 5.39045627494e-09\n"
     ]
    },
    {
     "data": {
      "text/plain": [
       "<matplotlib.text.Annotation at 0x2b2401441b38>"
      ]
     },
     "execution_count": 143,
     "metadata": {},
     "output_type": "execute_result"
    },
    {
     "data": {
      "image/png": "[encoded data removed]",
      "text/plain": [
       "<matplotlib.figure.Figure at 0x2b2401271358>"
      ]
     },
     "metadata": {},
     "output_type": "display_data"
    }
   ],
   "source": [
    "fig = plt.figure(figsize=(1.2, 1.2))\n",
    "ax = sns.kdeplot(no_nan[\"log_avg_tf_tissue_sp\"], no_nan[\"mpra_ts\"], cmap=cmap, \n",
    "                 shade=True, shade_lowest=False)\n",
    "ax.set_ylabel(\"tissue specificity in MPRA\")\n",
    "ax.set_xlabel(\"log(mean TF tissue specificity)\")\n",
    "\n",
    "r, p = stats.spearmanr(no_nan[\"log_avg_tf_tissue_sp\"], no_nan[\"mpra_ts\"])\n",
    "print(\"r: %s, spearman p: %s\" % (r, p))\n",
    "ax.annotate(\"r = {:.2f}\".format(r), xy=(.05, .9), xycoords=ax.transAxes, fontsize=fontsize)\n",
    "#fig.savefig(\"Fig_2C_6.pdf\", bbox_inches=\"tight\", dpi=\"figure\")\n",
    "\n",
    "# add n-value\n",
    "ax.annotate(\"n = %s\" % len(no_nan), ha=\"right\", xy=(.96, .9), xycoords=ax.transAxes, \n",
    "            fontsize=fontsize)"
   ]
  },
  {
   "cell_type": "markdown",
   "metadata": {},
   "source": [
    "#### fimo intersected w/ chip -- no ETS"
   ]
  },
  {
   "cell_type": "code",
   "execution_count": 144,
   "metadata": {
    "collapsed": true
   },
   "outputs": [],
   "source": [
    "df = all_cov_dfs[\"pool1_fimo_no_ets_chip\"]"
   ]
  },
  {
   "cell_type": "code",
   "execution_count": 145,
   "metadata": {},
   "outputs": [
    {
     "data": {
      "text/plain": [
       "278"
      ]
     },
     "execution_count": 145,
     "metadata": {},
     "output_type": "execute_result"
    }
   ],
   "source": [
    "no_nan = df[~pd.isnull(df[\"log_avg_tf_tissue_sp\"]) &\n",
    "            ~pd.isnull(df[\"mpra_activ\"])]\n",
    "len(no_nan)"
   ]
  },
  {
   "cell_type": "code",
   "execution_count": 146,
   "metadata": {},
   "outputs": [
    {
     "name": "stdout",
     "output_type": "stream",
     "text": [
      "r: -0.0259248909918, spearman p: 0.666919939277\n"
     ]
    },
    {
     "data": {
      "text/plain": [
       "<matplotlib.text.Annotation at 0x2b24014eb4a8>"
      ]
     },
     "execution_count": 146,
     "metadata": {},
     "output_type": "execute_result"
    },
    {
     "data": {
      "image/png": "[encoded data removed]",
      "text/plain": [
       "<matplotlib.figure.Figure at 0x2b240131c080>"
      ]
     },
     "metadata": {},
     "output_type": "display_data"
    }
   ],
   "source": [
    "fig = plt.figure(figsize=(1.2, 1.2))\n",
    "ax = sns.kdeplot(no_nan[\"log_avg_tf_tissue_sp\"], no_nan[\"mpra_activ\"], cmap=cmap, \n",
    "                 shade=True, shade_lowest=False)\n",
    "ax.set_ylabel(\"mean MPRA activity\")\n",
    "ax.set_xlabel(\"log(mean TF tissue specificity)\")\n",
    "\n",
    "r, p = stats.spearmanr(no_nan[\"log_avg_tf_tissue_sp\"], no_nan[\"mpra_activ\"])\n",
    "print(\"r: %s, spearman p: %s\" % (r, p))\n",
    "ax.annotate(\"r = {:.2f}\".format(r), xy=(.05, .9), xycoords=ax.transAxes, fontsize=fontsize)\n",
    "\n",
    "# add n-value\n",
    "ax.annotate(\"n = %s\" % len(no_nan), ha=\"right\", xy=(.96, .9), xycoords=ax.transAxes, \n",
    "            fontsize=fontsize)"
   ]
  },
  {
   "cell_type": "code",
   "execution_count": 147,
   "metadata": {},
   "outputs": [
    {
     "data": {
      "text/plain": [
       "258"
      ]
     },
     "execution_count": 147,
     "metadata": {},
     "output_type": "execute_result"
    }
   ],
   "source": [
    "no_nan = df[~pd.isnull(df[\"log_avg_tf_tissue_sp\"]) &\n",
    "            ~pd.isnull(df[\"mpra_ts\"])]\n",
    "len(no_nan)"
   ]
  },
  {
   "cell_type": "code",
   "execution_count": 150,
   "metadata": {},
   "outputs": [
    {
     "name": "stdout",
     "output_type": "stream",
     "text": [
      "r: -0.0248819169311, spearman p: 0.69078964757\n"
     ]
    },
    {
     "data": {
      "text/plain": [
       "<matplotlib.text.Annotation at 0x2b24016e20b8>"
      ]
     },
     "execution_count": 150,
     "metadata": {},
     "output_type": "execute_result"
    },
    {
     "data": {
      "image/png": "[encoded data removed]",
      "text/plain": [
       "<matplotlib.figure.Figure at 0x2b2401676710>"
      ]
     },
     "metadata": {},
     "output_type": "display_data"
    }
   ],
   "source": [
    "fig = plt.figure(figsize=(1.2, 1.2))\n",
    "ax = sns.kdeplot(no_nan[\"log_avg_tf_tissue_sp\"], no_nan[\"mpra_ts\"], cmap=cmap, \n",
    "                 shade=True, shade_lowest=False)\n",
    "ax.set_ylabel(\"tissue specificity in MPRA\")\n",
    "ax.set_xlabel(\"log(mean TF tissue specificity)\")\n",
    "\n",
    "r, p = stats.spearmanr(no_nan[\"log_avg_tf_tissue_sp\"], no_nan[\"mpra_ts\"])\n",
    "print(\"r: %s, spearman p: %s\" % (r, p))\n",
    "ax.annotate(\"r = {:.2f}\".format(r), xy=(.05, .9), xycoords=ax.transAxes, fontsize=fontsize)\n",
    "\n",
    "# add n-value\n",
    "ax.annotate(\"n = %s\" % len(no_nan), ha=\"right\", xy=(.96, .9), xycoords=ax.transAxes, \n",
    "            fontsize=fontsize)"
   ]
  },
  {
   "cell_type": "markdown",
   "metadata": {},
   "source": [
    "## number of bp covered"
   ]
  },
  {
   "cell_type": "markdown",
   "metadata": {},
   "source": [
    "#### fimo only"
   ]
  },
  {
   "cell_type": "code",
   "execution_count": 151,
   "metadata": {
    "collapsed": true
   },
   "outputs": [],
   "source": [
    "df = all_cov_dfs[\"pool1_fimo\"]"
   ]
  },
  {
   "cell_type": "code",
   "execution_count": 152,
   "metadata": {},
   "outputs": [
    {
     "data": {
      "text/plain": [
       "2050"
      ]
     },
     "execution_count": 152,
     "metadata": {},
     "output_type": "execute_result"
    }
   ],
   "source": [
    "no_nan = df[~pd.isnull(df[\"log_bp_cov\"]) &\n",
    "            ~pd.isnull(df[\"mpra_activ\"])]\n",
    "\n",
    "# for these, only look at those with >1 motif\n",
    "no_nan = no_nan[no_nan[\"n_motifs\"] > 0]\n",
    "len(no_nan)"
   ]
  },
  {
   "cell_type": "code",
   "execution_count": 153,
   "metadata": {},
   "outputs": [
    {
     "name": "stdout",
     "output_type": "stream",
     "text": [
      "r: 0.293447786408, spearman p: 5.38357076454e-42\n"
     ]
    },
    {
     "data": {
      "text/plain": [
       "<matplotlib.text.Annotation at 0x2b240169b908>"
      ]
     },
     "execution_count": 153,
     "metadata": {},
     "output_type": "execute_result"
    },
    {
     "data": {
      "image/png": "[encoded data removed]",
      "text/plain": [
       "<matplotlib.figure.Figure at 0x2b24016a50f0>"
      ]
     },
     "metadata": {},
     "output_type": "display_data"
    }
   ],
   "source": [
    "fig = plt.figure(figsize=(1.2, 1.2))\n",
    "ax = sns.kdeplot(no_nan[\"log_bp_cov\"], no_nan[\"mpra_activ\"], cmap=\"Blues\", \n",
    "                 shade=True, shade_lowest=False)\n",
    "ax.set_ylabel(\"mean MPRA activity\")\n",
    "ax.set_xlabel(\"log(number of bp covered by motif)\")\n",
    "ax.set_xlim((3,5))\n",
    "\n",
    "r, p = stats.spearmanr(no_nan[\"log_bp_cov\"], no_nan[\"mpra_activ\"])\n",
    "print(\"r: %s, spearman p: %s\" % (r, p))\n",
    "ax.annotate(\"r = {:.2f}\".format(r), xy=(.05, .9), xycoords=ax.transAxes, fontsize=fontsize)\n",
    "#fig.savefig(\"Fig_2C_1.pdf\", bbox_inches=\"tight\", dpi=\"figure\")\n",
    "\n",
    "# add n-value\n",
    "ax.annotate(\"n = %s\" % len(no_nan), ha=\"right\", xy=(.96, .9), xycoords=ax.transAxes, \n",
    "            fontsize=fontsize)"
   ]
  },
  {
   "cell_type": "code",
   "execution_count": 154,
   "metadata": {},
   "outputs": [
    {
     "data": {
      "text/plain": [
       "1959"
      ]
     },
     "execution_count": 154,
     "metadata": {},
     "output_type": "execute_result"
    }
   ],
   "source": [
    "no_nan = df[~pd.isnull(df[\"log_bp_cov\"]) &\n",
    "            ~pd.isnull(df[\"mpra_ts\"])]\n",
    "\n",
    "# for these, only look at those with >1 motif\n",
    "no_nan = no_nan[no_nan[\"n_motifs\"] > 0]\n",
    "len(no_nan)"
   ]
  },
  {
   "cell_type": "code",
   "execution_count": 157,
   "metadata": {},
   "outputs": [
    {
     "name": "stdout",
     "output_type": "stream",
     "text": [
      "r: -0.177387793684, spearman p: 2.59300744993e-15\n"
     ]
    },
    {
     "data": {
      "text/plain": [
       "<matplotlib.text.Annotation at 0x2b24018815c0>"
      ]
     },
     "execution_count": 157,
     "metadata": {},
     "output_type": "execute_result"
    },
    {
     "data": {
      "image/png": "[encoded data removed]",
      "text/plain": [
       "<matplotlib.figure.Figure at 0x2b2401894048>"
      ]
     },
     "metadata": {},
     "output_type": "display_data"
    }
   ],
   "source": [
    "fig = plt.figure(figsize=(1.2, 1.2))\n",
    "ax = sns.kdeplot(no_nan[\"log_bp_cov\"], no_nan[\"mpra_ts\"], cmap=\"Blues\", \n",
    "                 shade=True, shade_lowest=False)\n",
    "ax.set_ylabel(\"tissue specificity in MPRA\")\n",
    "ax.set_xlabel(\"log(number of bp covered by motif)\")\n",
    "ax.set_xlim((3, 5))\n",
    "\n",
    "r, p = stats.spearmanr(no_nan[\"log_bp_cov\"], no_nan[\"mpra_ts\"])\n",
    "print(\"r: %s, spearman p: %s\" % (r, p))\n",
    "ax.annotate(\"r = {:.2f}\".format(r), xy=(.05, .9), xycoords=ax.transAxes, fontsize=fontsize)\n",
    "#fig.savefig(\"Fig_2C_4.pdf\", bbox_inches=\"tight\", dpi=\"figure\")\n",
    "\n",
    "# add n-value\n",
    "ax.annotate(\"n = %s\" % len(no_nan), ha=\"right\", xy=(.96, .9), xycoords=ax.transAxes, \n",
    "            fontsize=fontsize)"
   ]
  },
  {
   "cell_type": "markdown",
   "metadata": {},
   "source": [
    "#### fimo intersected w/ chip"
   ]
  },
  {
   "cell_type": "code",
   "execution_count": 158,
   "metadata": {},
   "outputs": [
    {
     "data": {
      "text/html": [
       "<div>\n",
       "<style>\n",
       "    .dataframe thead tr:only-child th {\n",
       "        text-align: right;\n",
       "    }\n",
       "\n",
       "    .dataframe thead th {\n",
       "        text-align: left;\n",
       "    }\n",
       "\n",
       "    .dataframe tbody tr th {\n",
       "        vertical-align: top;\n",
       "    }\n",
       "</style>\n",
       "<table border=\"1\" class=\"dataframe\">\n",
       "  <thead>\n",
       "    <tr style=\"text-align: right;\">\n",
       "      <th></th>\n",
       "      <th>unique_id</th>\n",
       "      <th>cage_id</th>\n",
       "      <th>n_motifs</th>\n",
       "      <th>n_bp_cov</th>\n",
       "      <th>max_cov</th>\n",
       "      <th>avg_tf_tissue_sp</th>\n",
       "      <th>log_n_motifs</th>\n",
       "      <th>log_bp_cov</th>\n",
       "      <th>log_max_cov</th>\n",
       "      <th>log_avg_tf_tissue_sp</th>\n",
       "      <th>mpra_activ</th>\n",
       "      <th>mpra_ts</th>\n",
       "    </tr>\n",
       "  </thead>\n",
       "  <tbody>\n",
       "    <tr>\n",
       "      <th>0</th>\n",
       "      <td>WILDTYPE__mrna.noflip.NA__chr10:102046079..102...</td>\n",
       "      <td>chr10:102046098..102046122,-</td>\n",
       "      <td>0</td>\n",
       "      <td>0</td>\n",
       "      <td>0.0</td>\n",
       "      <td>NaN</td>\n",
       "      <td>0.00000</td>\n",
       "      <td>0.000000</td>\n",
       "      <td>0.00000</td>\n",
       "      <td>NaN</td>\n",
       "      <td>0.755234</td>\n",
       "      <td>0.339882</td>\n",
       "    </tr>\n",
       "    <tr>\n",
       "      <th>1</th>\n",
       "      <td>WILDTYPE_BUT_HAS_SNP__Lincrna.noflip.NA__chr10...</td>\n",
       "      <td>chr10:102133377..102133394,+</td>\n",
       "      <td>6</td>\n",
       "      <td>17</td>\n",
       "      <td>6.0</td>\n",
       "      <td>0.288011</td>\n",
       "      <td>1.94591</td>\n",
       "      <td>2.890372</td>\n",
       "      <td>1.94591</td>\n",
       "      <td>0.253099</td>\n",
       "      <td>-1.257574</td>\n",
       "      <td>0.401928</td>\n",
       "    </tr>\n",
       "    <tr>\n",
       "      <th>2</th>\n",
       "      <td>WILDTYPE_BUT_HAS_SNP__mrna.flip.sense__chr10:1...</td>\n",
       "      <td>chr10:1034365..1034411,+</td>\n",
       "      <td>0</td>\n",
       "      <td>0</td>\n",
       "      <td>0.0</td>\n",
       "      <td>NaN</td>\n",
       "      <td>0.00000</td>\n",
       "      <td>0.000000</td>\n",
       "      <td>0.00000</td>\n",
       "      <td>NaN</td>\n",
       "      <td>0.480824</td>\n",
       "      <td>0.144071</td>\n",
       "    </tr>\n",
       "    <tr>\n",
       "      <th>3</th>\n",
       "      <td>WILDTYPE_BUT_HAS_SNP__mrna.noflip.NA__chr10:10...</td>\n",
       "      <td>chr10:104597163..104597180,-</td>\n",
       "      <td>0</td>\n",
       "      <td>0</td>\n",
       "      <td>0.0</td>\n",
       "      <td>NaN</td>\n",
       "      <td>0.00000</td>\n",
       "      <td>0.000000</td>\n",
       "      <td>0.00000</td>\n",
       "      <td>NaN</td>\n",
       "      <td>-1.168195</td>\n",
       "      <td>0.270406</td>\n",
       "    </tr>\n",
       "    <tr>\n",
       "      <th>4</th>\n",
       "      <td>WILDTYPE__Lincrna.noflip.NA__chr10:106113294.....</td>\n",
       "      <td>chr10:106113320..106113338,-</td>\n",
       "      <td>0</td>\n",
       "      <td>0</td>\n",
       "      <td>0.0</td>\n",
       "      <td>NaN</td>\n",
       "      <td>0.00000</td>\n",
       "      <td>0.000000</td>\n",
       "      <td>0.00000</td>\n",
       "      <td>NaN</td>\n",
       "      <td>0.412117</td>\n",
       "      <td>0.107425</td>\n",
       "    </tr>\n",
       "  </tbody>\n",
       "</table>\n",
       "</div>"
      ],
      "text/plain": [
       "                                           unique_id  \\\n",
       "0  WILDTYPE__mrna.noflip.NA__chr10:102046079..102...   \n",
       "1  WILDTYPE_BUT_HAS_SNP__Lincrna.noflip.NA__chr10...   \n",
       "2  WILDTYPE_BUT_HAS_SNP__mrna.flip.sense__chr10:1...   \n",
       "3  WILDTYPE_BUT_HAS_SNP__mrna.noflip.NA__chr10:10...   \n",
       "4  WILDTYPE__Lincrna.noflip.NA__chr10:106113294.....   \n",
       "\n",
       "                        cage_id  n_motifs  n_bp_cov  max_cov  \\\n",
       "0  chr10:102046098..102046122,-         0         0      0.0   \n",
       "1  chr10:102133377..102133394,+         6        17      6.0   \n",
       "2      chr10:1034365..1034411,+         0         0      0.0   \n",
       "3  chr10:104597163..104597180,-         0         0      0.0   \n",
       "4  chr10:106113320..106113338,-         0         0      0.0   \n",
       "\n",
       "   avg_tf_tissue_sp  log_n_motifs  log_bp_cov  log_max_cov  \\\n",
       "0               NaN       0.00000    0.000000      0.00000   \n",
       "1          0.288011       1.94591    2.890372      1.94591   \n",
       "2               NaN       0.00000    0.000000      0.00000   \n",
       "3               NaN       0.00000    0.000000      0.00000   \n",
       "4               NaN       0.00000    0.000000      0.00000   \n",
       "\n",
       "   log_avg_tf_tissue_sp  mpra_activ   mpra_ts  \n",
       "0                   NaN    0.755234  0.339882  \n",
       "1              0.253099   -1.257574  0.401928  \n",
       "2                   NaN    0.480824  0.144071  \n",
       "3                   NaN   -1.168195  0.270406  \n",
       "4                   NaN    0.412117  0.107425  "
      ]
     },
     "execution_count": 158,
     "metadata": {},
     "output_type": "execute_result"
    }
   ],
   "source": [
    "df = all_cov_dfs[\"pool1_fimo_chip\"]\n",
    "df.head()"
   ]
  },
  {
   "cell_type": "code",
   "execution_count": 159,
   "metadata": {},
   "outputs": [
    {
     "data": {
      "text/plain": [
       "<seaborn.axisgrid.JointGrid at 0x2b23ffd51550>"
      ]
     },
     "execution_count": 159,
     "metadata": {},
     "output_type": "execute_result"
    },
    {
     "data": {
      "image/png": "[encoded data removed]",
      "text/plain": [
       "<matplotlib.figure.Figure at 0x2b24015bfe10>"
      ]
     },
     "metadata": {},
     "output_type": "display_data"
    }
   ],
   "source": [
    "df1 = all_cov_dfs[\"pool1_fimo_chip\"]\n",
    "df2 = all_cov_dfs[\"pool1_fimo\"]\n",
    "mrg = df1.merge(df2, on=\"unique_id\", suffixes=(\"_chip\", \"_fimo\"))\n",
    "sns.jointplot(data=mrg, x=\"n_bp_cov_chip\", y=\"n_bp_cov_fimo\")"
   ]
  },
  {
   "cell_type": "code",
   "execution_count": 160,
   "metadata": {},
   "outputs": [
    {
     "data": {
      "text/plain": [
       "337"
      ]
     },
     "execution_count": 160,
     "metadata": {},
     "output_type": "execute_result"
    }
   ],
   "source": [
    "len(df[df[\"n_motifs\"] > 0])"
   ]
  },
  {
   "cell_type": "code",
   "execution_count": 161,
   "metadata": {},
   "outputs": [
    {
     "data": {
      "text/plain": [
       "0"
      ]
     },
     "execution_count": 161,
     "metadata": {},
     "output_type": "execute_result"
    }
   ],
   "source": [
    "len(df[df[\"n_bp_cov\"] < 0])"
   ]
  },
  {
   "cell_type": "code",
   "execution_count": 162,
   "metadata": {},
   "outputs": [
    {
     "data": {
      "text/plain": [
       "330"
      ]
     },
     "execution_count": 162,
     "metadata": {},
     "output_type": "execute_result"
    }
   ],
   "source": [
    "no_nan = df[~pd.isnull(df[\"log_bp_cov\"]) &\n",
    "            ~pd.isnull(df[\"mpra_activ\"])]\n",
    "\n",
    "# for these, only look at those with >1 motif\n",
    "no_nan = no_nan[no_nan[\"n_motifs\"] > 0]\n",
    "len(no_nan)"
   ]
  },
  {
   "cell_type": "code",
   "execution_count": 163,
   "metadata": {},
   "outputs": [
    {
     "name": "stdout",
     "output_type": "stream",
     "text": [
      "r: 0.0171526752113, spearman p: 0.756230700481\n"
     ]
    },
    {
     "data": {
      "text/plain": [
       "<matplotlib.text.Annotation at 0x2b2401d14278>"
      ]
     },
     "execution_count": 163,
     "metadata": {},
     "output_type": "execute_result"
    },
    {
     "data": {
      "image/png": "[encoded data removed]",
      "text/plain": [
       "<matplotlib.figure.Figure at 0x2b2401b949e8>"
      ]
     },
     "metadata": {},
     "output_type": "display_data"
    }
   ],
   "source": [
    "fig = plt.figure(figsize=(1.2, 1.2))\n",
    "no_0 = no_nan[no_nan[\"n_bp_cov\"] > 0]\n",
    "all_0 = no_nan[no_nan[\"n_bp_cov\"] == 0]\n",
    "ax = sns.kdeplot(no_0[\"log_bp_cov\"], no_0[\"mpra_activ\"], cmap=\"Blues\", \n",
    "                 shade=True, shade_lowest=False)\n",
    "ax.set_ylabel(\"mean MPRA activity\")\n",
    "ax.set_xlabel(\"log(number of bp covered by motif)\")\n",
    "\n",
    "r, p = stats.spearmanr(no_nan[\"log_bp_cov\"], no_nan[\"mpra_activ\"])\n",
    "print(\"r: %s, spearman p: %s\" % (r, p))\n",
    "ax.annotate(\"r = {:.2f}\".format(r), xy=(.05, .9), xycoords=ax.transAxes, fontsize=fontsize)\n",
    "\n",
    "# add n-value\n",
    "ax.annotate(\"n = %s\" % len(no_nan), ha=\"right\", xy=(.96, .9), xycoords=ax.transAxes, \n",
    "            fontsize=fontsize)"
   ]
  },
  {
   "cell_type": "code",
   "execution_count": 164,
   "metadata": {},
   "outputs": [
    {
     "data": {
      "text/plain": [
       "307"
      ]
     },
     "execution_count": 164,
     "metadata": {},
     "output_type": "execute_result"
    }
   ],
   "source": [
    "no_nan = df[~pd.isnull(df[\"log_bp_cov\"]) &\n",
    "            ~pd.isnull(df[\"mpra_ts\"])]\n",
    "\n",
    "# for these, only look at those with >1 motif\n",
    "no_nan = no_nan[no_nan[\"n_motifs\"] > 0]\n",
    "len(no_nan)"
   ]
  },
  {
   "cell_type": "code",
   "execution_count": 165,
   "metadata": {},
   "outputs": [
    {
     "name": "stdout",
     "output_type": "stream",
     "text": [
      "r: 0.0504624100117, spearman p: 0.378248791539\n"
     ]
    },
    {
     "data": {
      "text/plain": [
       "<matplotlib.text.Annotation at 0x2b2401d95b38>"
      ]
     },
     "execution_count": 165,
     "metadata": {},
     "output_type": "execute_result"
    },
    {
     "data": {
      "image/png": "[encoded data removed]",
      "text/plain": [
       "<matplotlib.figure.Figure at 0x2b2401b71ba8>"
      ]
     },
     "metadata": {},
     "output_type": "display_data"
    }
   ],
   "source": [
    "fig = plt.figure(figsize=(1.2, 1.2))\n",
    "ax = sns.kdeplot(no_nan[\"log_bp_cov\"], no_nan[\"mpra_ts\"], cmap=\"Blues\", \n",
    "                 shade=True, shade_lowest=False)\n",
    "ax.set_ylabel(\"tissue specificity in MPRA\")\n",
    "ax.set_xlabel(\"log(number of bp covered by motif)\")\n",
    "\n",
    "r, p = stats.spearmanr(no_nan[\"log_bp_cov\"], no_nan[\"mpra_ts\"])\n",
    "print(\"r: %s, spearman p: %s\" % (r, p))\n",
    "ax.annotate(\"r = {:.2f}\".format(r), xy=(.05, .9), xycoords=ax.transAxes, fontsize=fontsize)\n",
    "\n",
    "# add n-value\n",
    "ax.annotate(\"n = %s\" % len(no_nan), ha=\"right\", xy=(.96, .9), xycoords=ax.transAxes, \n",
    "            fontsize=fontsize)"
   ]
  },
  {
   "cell_type": "markdown",
   "metadata": {},
   "source": [
    "#### fimo only -- no ETS motifs"
   ]
  },
  {
   "cell_type": "code",
   "execution_count": 166,
   "metadata": {
    "collapsed": true
   },
   "outputs": [],
   "source": [
    "df = all_cov_dfs[\"pool1_fimo_no_ets\"]"
   ]
  },
  {
   "cell_type": "code",
   "execution_count": 167,
   "metadata": {},
   "outputs": [
    {
     "data": {
      "text/plain": [
       "2050"
      ]
     },
     "execution_count": 167,
     "metadata": {},
     "output_type": "execute_result"
    }
   ],
   "source": [
    "no_nan = df[~pd.isnull(df[\"log_bp_cov\"]) &\n",
    "            ~pd.isnull(df[\"mpra_activ\"])]\n",
    "\n",
    "# for these, only look at those with >1 motif\n",
    "no_nan = no_nan[no_nan[\"n_motifs\"] > 0]\n",
    "len(no_nan)"
   ]
  },
  {
   "cell_type": "code",
   "execution_count": 168,
   "metadata": {},
   "outputs": [
    {
     "name": "stdout",
     "output_type": "stream",
     "text": [
      "r: 0.285541235968, spearman p: 9.22348142434e-40\n"
     ]
    },
    {
     "data": {
      "text/plain": [
       "<matplotlib.text.Annotation at 0x2b2401d51198>"
      ]
     },
     "execution_count": 168,
     "metadata": {},
     "output_type": "execute_result"
    },
    {
     "data": {
      "image/png": "[encoded data removed]",
      "text/plain": [
       "<matplotlib.figure.Figure at 0x2b2401d5d860>"
      ]
     },
     "metadata": {},
     "output_type": "display_data"
    }
   ],
   "source": [
    "fig = plt.figure(figsize=(1.2, 1.2))\n",
    "ax = sns.kdeplot(no_nan[\"log_bp_cov\"], no_nan[\"mpra_activ\"], cmap=\"Blues\", \n",
    "                 shade=True, shade_lowest=False)\n",
    "ax.set_ylabel(\"mean MPRA activity\")\n",
    "ax.set_xlabel(\"log(number of bp covered by motif)\")\n",
    "ax.set_xlim((3,5))\n",
    "\n",
    "r, p = stats.spearmanr(no_nan[\"log_bp_cov\"], no_nan[\"mpra_activ\"])\n",
    "print(\"r: %s, spearman p: %s\" % (r, p))\n",
    "ax.annotate(\"r = {:.2f}\".format(r), xy=(.05, .9), xycoords=ax.transAxes, fontsize=fontsize)\n",
    "\n",
    "# add n-value\n",
    "ax.annotate(\"n = %s\" % len(no_nan), ha=\"right\", xy=(.96, .9), xycoords=ax.transAxes, \n",
    "            fontsize=fontsize)\n",
    "#fig.savefig(\"Fig_2C_1.pdf\", bbox_inches=\"tight\", dpi=\"figure\")"
   ]
  },
  {
   "cell_type": "code",
   "execution_count": 169,
   "metadata": {},
   "outputs": [
    {
     "data": {
      "text/plain": [
       "1959"
      ]
     },
     "execution_count": 169,
     "metadata": {},
     "output_type": "execute_result"
    }
   ],
   "source": [
    "no_nan = pool1_fimo_no_ets_cov[~pd.isnull(pool1_fimo_no_ets_cov[\"log_bp_cov\"]) &\n",
    "                               ~pd.isnull(pool1_fimo_no_ets_cov[\"mpra_ts\"])]\n",
    "\n",
    "# for these, only look at those with >1 motif\n",
    "no_nan = no_nan[no_nan[\"n_motifs\"] > 0]\n",
    "len(no_nan)"
   ]
  },
  {
   "cell_type": "code",
   "execution_count": 170,
   "metadata": {},
   "outputs": [
    {
     "name": "stdout",
     "output_type": "stream",
     "text": [
      "r: -0.170848635114, spearman p: 2.67654287026e-14\n"
     ]
    },
    {
     "data": {
      "text/plain": [
       "<matplotlib.text.Annotation at 0x2b2401cc77f0>"
      ]
     },
     "execution_count": 170,
     "metadata": {},
     "output_type": "execute_result"
    },
    {
     "data": {
      "image/png": "[encoded data removed]",
      "text/plain": [
       "<matplotlib.figure.Figure at 0x2b2401df0e80>"
      ]
     },
     "metadata": {},
     "output_type": "display_data"
    }
   ],
   "source": [
    "fig = plt.figure(figsize=(1.2, 1.2))\n",
    "ax = sns.kdeplot(no_nan[\"log_bp_cov\"], no_nan[\"mpra_ts\"], cmap=\"Blues\", \n",
    "                 shade=True, shade_lowest=False)\n",
    "ax.set_ylabel(\"tissue specificity in MPRA\")\n",
    "ax.set_xlabel(\"log(number of bp covered by motif)\")\n",
    "ax.set_xlim((3, 5))\n",
    "\n",
    "r, p = stats.spearmanr(no_nan[\"log_bp_cov\"], no_nan[\"mpra_ts\"])\n",
    "print(\"r: %s, spearman p: %s\" % (r, p))\n",
    "ax.annotate(\"r = {:.2f}\".format(r), xy=(.05, .9), xycoords=ax.transAxes, fontsize=fontsize)\n",
    "\n",
    "# add n-value\n",
    "ax.annotate(\"n = %s\" % len(no_nan), ha=\"right\", xy=(.96, .9), xycoords=ax.transAxes, \n",
    "            fontsize=fontsize)\n",
    "#fig.savefig(\"Fig_2C_4.pdf\", bbox_inches=\"tight\", dpi=\"figure\")"
   ]
  },
  {
   "cell_type": "markdown",
   "metadata": {},
   "source": [
    "#### fimo intersected w/ chip -- no ETS motifs"
   ]
  },
  {
   "cell_type": "code",
   "execution_count": 171,
   "metadata": {
    "collapsed": true
   },
   "outputs": [],
   "source": [
    "df = all_cov_dfs[\"pool1_fimo_no_ets_chip\"]"
   ]
  },
  {
   "cell_type": "code",
   "execution_count": 172,
   "metadata": {},
   "outputs": [
    {
     "data": {
      "text/plain": [
       "313"
      ]
     },
     "execution_count": 172,
     "metadata": {},
     "output_type": "execute_result"
    }
   ],
   "source": [
    "no_nan = df[~pd.isnull(df[\"log_bp_cov\"]) &\n",
    "            ~pd.isnull(df[\"mpra_activ\"])]\n",
    "\n",
    "# for these, only look at those with >1 motif\n",
    "no_nan = no_nan[no_nan[\"n_motifs\"] > 0]\n",
    "len(no_nan)"
   ]
  },
  {
   "cell_type": "code",
   "execution_count": 173,
   "metadata": {},
   "outputs": [
    {
     "name": "stdout",
     "output_type": "stream",
     "text": [
      "r: 0.0494456318714, spearman p: 0.383308796968\n"
     ]
    },
    {
     "data": {
      "text/plain": [
       "<matplotlib.text.Annotation at 0x2b2401f846d8>"
      ]
     },
     "execution_count": 173,
     "metadata": {},
     "output_type": "execute_result"
    },
    {
     "data": {
      "image/png": "[encoded data removed]",
      "text/plain": [
       "<matplotlib.figure.Figure at 0x2b2401ccae80>"
      ]
     },
     "metadata": {},
     "output_type": "display_data"
    }
   ],
   "source": [
    "fig = plt.figure(figsize=(1.2, 1.2))\n",
    "ax = sns.kdeplot(no_nan[\"log_bp_cov\"], no_nan[\"mpra_activ\"], cmap=\"Blues\", \n",
    "                 shade=True, shade_lowest=False)\n",
    "ax.set_ylabel(\"mean MPRA activity\")\n",
    "ax.set_xlabel(\"log(number of bp covered by motif)\")\n",
    "\n",
    "r, p = stats.spearmanr(no_nan[\"log_bp_cov\"], no_nan[\"mpra_activ\"])\n",
    "print(\"r: %s, spearman p: %s\" % (r, p))\n",
    "ax.annotate(\"r = {:.2f}\".format(r), xy=(.05, .9), xycoords=ax.transAxes, fontsize=fontsize)\n",
    "\n",
    "# add n-value\n",
    "ax.annotate(\"n = %s\" % len(no_nan), ha=\"right\", xy=(.96, .9), xycoords=ax.transAxes, \n",
    "            fontsize=fontsize)"
   ]
  },
  {
   "cell_type": "code",
   "execution_count": 174,
   "metadata": {},
   "outputs": [
    {
     "data": {
      "text/plain": [
       "290"
      ]
     },
     "execution_count": 174,
     "metadata": {},
     "output_type": "execute_result"
    }
   ],
   "source": [
    "no_nan = df[~pd.isnull(df[\"log_bp_cov\"]) &\n",
    "            ~pd.isnull(df[\"mpra_ts\"])]\n",
    "\n",
    "# for these, only look at those with >1 motif\n",
    "no_nan = no_nan[no_nan[\"n_motifs\"] > 0]\n",
    "len(no_nan)"
   ]
  },
  {
   "cell_type": "code",
   "execution_count": 175,
   "metadata": {},
   "outputs": [
    {
     "name": "stdout",
     "output_type": "stream",
     "text": [
      "r: 0.0325204197799, spearman p: 0.581251987485\n"
     ]
    },
    {
     "data": {
      "text/plain": [
       "<matplotlib.text.Annotation at 0x2b2402026d30>"
      ]
     },
     "execution_count": 175,
     "metadata": {},
     "output_type": "execute_result"
    },
    {
     "data": {
      "image/png": "[encoded data removed]",
      "text/plain": [
       "<matplotlib.figure.Figure at 0x2b2401f458d0>"
      ]
     },
     "metadata": {},
     "output_type": "display_data"
    }
   ],
   "source": [
    "fig = plt.figure(figsize=(1.2, 1.2))\n",
    "ax = sns.kdeplot(no_nan[\"log_bp_cov\"], no_nan[\"mpra_ts\"], cmap=\"Blues\", \n",
    "                 shade=True, shade_lowest=False)\n",
    "ax.set_ylabel(\"tissue specificity in MPRA\")\n",
    "ax.set_xlabel(\"log(number of bp covered by motif)\")\n",
    "\n",
    "r, p = stats.spearmanr(no_nan[\"log_bp_cov\"], no_nan[\"mpra_ts\"])\n",
    "print(\"r: %s, spearman p: %s\" % (r, p))\n",
    "ax.annotate(\"r = {:.2f}\".format(r), xy=(.05, .9), xycoords=ax.transAxes, fontsize=fontsize)\n",
    "\n",
    "# add n-value\n",
    "ax.annotate(\"n = %s\" % len(no_nan), ha=\"right\", xy=(.96, .9), xycoords=ax.transAxes, \n",
    "            fontsize=fontsize)"
   ]
  },
  {
   "cell_type": "markdown",
   "metadata": {},
   "source": [
    "## max overlapping coverage"
   ]
  },
  {
   "cell_type": "markdown",
   "metadata": {},
   "source": [
    "#### fimo only"
   ]
  },
  {
   "cell_type": "code",
   "execution_count": 176,
   "metadata": {
    "collapsed": true
   },
   "outputs": [],
   "source": [
    "df = all_cov_dfs[\"pool1_fimo\"]"
   ]
  },
  {
   "cell_type": "code",
   "execution_count": 177,
   "metadata": {
    "collapsed": true
   },
   "outputs": [],
   "source": [
    "cmap = sns.light_palette(\"firebrick\", as_cmap=True)"
   ]
  },
  {
   "cell_type": "code",
   "execution_count": 178,
   "metadata": {},
   "outputs": [
    {
     "data": {
      "text/plain": [
       "2050"
      ]
     },
     "execution_count": 178,
     "metadata": {},
     "output_type": "execute_result"
    }
   ],
   "source": [
    "no_nan = df[~pd.isnull(df[\"log_max_cov\"]) &\n",
    "            ~pd.isnull(df[\"mpra_activ\"])]\n",
    "\n",
    "# for these, only look at those with >1 motif\n",
    "no_nan = no_nan[no_nan[\"n_motifs\"] > 0]\n",
    "len(no_nan)"
   ]
  },
  {
   "cell_type": "code",
   "execution_count": 179,
   "metadata": {},
   "outputs": [
    {
     "name": "stdout",
     "output_type": "stream",
     "text": [
      "r: 0.334608604319, spearman p: 8.19347416913e-55\n"
     ]
    },
    {
     "data": {
      "image/png": "[encoded data removed]",
      "text/plain": [
       "<matplotlib.figure.Figure at 0x2b2401fe9ef0>"
      ]
     },
     "metadata": {},
     "output_type": "display_data"
    }
   ],
   "source": [
    "fig = plt.figure(figsize=(1.2, 1.2))\n",
    "ax = sns.kdeplot(no_nan[\"log_max_cov\"], no_nan[\"mpra_activ\"], cmap=cmap, \n",
    "                 shade=True, shade_lowest=False)\n",
    "ax.set_ylabel(\"mean MPRA activity\")\n",
    "ax.set_xlabel(\"log(max overlapping motifs)\")\n",
    "\n",
    "r, p = stats.spearmanr(no_nan[\"log_max_cov\"], no_nan[\"mpra_activ\"])\n",
    "print(\"r: %s, spearman p: %s\" % (r, p))\n",
    "ax.annotate(\"r = {:.2f}\".format(r), xy=(.05, .9), xycoords=ax.transAxes, fontsize=fontsize)\n",
    "\n",
    "# add n-value\n",
    "ax.annotate(\"n = %s\" % len(no_nan), ha=\"right\", xy=(.96, .9), xycoords=ax.transAxes, \n",
    "            fontsize=fontsize)\n",
    "\n",
    "fig.savefig(\"Fig_2C_2.pdf\", bbox_inches=\"tight\", dpi=\"figure\")"
   ]
  },
  {
   "cell_type": "code",
   "execution_count": 180,
   "metadata": {},
   "outputs": [
    {
     "data": {
      "text/plain": [
       "1959"
      ]
     },
     "execution_count": 180,
     "metadata": {},
     "output_type": "execute_result"
    }
   ],
   "source": [
    "no_nan = df[~pd.isnull(df[\"log_max_cov\"]) &\n",
    "            ~pd.isnull(df[\"mpra_ts\"])]\n",
    "\n",
    "# for these, only look at those with >1 motif\n",
    "no_nan = no_nan[no_nan[\"n_motifs\"] > 0]\n",
    "len(no_nan)"
   ]
  },
  {
   "cell_type": "code",
   "execution_count": 181,
   "metadata": {},
   "outputs": [
    {
     "name": "stdout",
     "output_type": "stream",
     "text": [
      "r: -0.240123145127, spearman p: 4.31182823875e-27\n"
     ]
    },
    {
     "data": {
      "image/png": "[encoded data removed]",
      "text/plain": [
       "<matplotlib.figure.Figure at 0x2b2401f4a3c8>"
      ]
     },
     "metadata": {},
     "output_type": "display_data"
    }
   ],
   "source": [
    "fig = plt.figure(figsize=(1.2, 1.2))\n",
    "ax = sns.kdeplot(no_nan[\"log_max_cov\"], no_nan[\"mpra_ts\"], cmap=cmap, \n",
    "                 shade=True, shade_lowest=False)\n",
    "ax.set_ylabel(\"tissue specificity in MPRA\")\n",
    "ax.set_xlabel(\"log(max overlapping motifs)\")\n",
    "\n",
    "r, p = stats.spearmanr(no_nan[\"log_max_cov\"], no_nan[\"mpra_ts\"])\n",
    "print(\"r: %s, spearman p: %s\" % (r, p))\n",
    "ax.annotate(\"r = {:.2f}\".format(r), xy=(.05, .9), xycoords=ax.transAxes, fontsize=fontsize)\n",
    "\n",
    "# add n-value\n",
    "ax.annotate(\"n = %s\" % len(no_nan), ha=\"right\", xy=(.96, .9), xycoords=ax.transAxes, \n",
    "            fontsize=fontsize)\n",
    "\n",
    "fig.savefig(\"Fig_2C_5.pdf\", bbox_inches=\"tight\", dpi=\"figure\")"
   ]
  },
  {
   "cell_type": "markdown",
   "metadata": {},
   "source": [
    "#### fimo intersected w/ chip"
   ]
  },
  {
   "cell_type": "code",
   "execution_count": 182,
   "metadata": {
    "collapsed": true
   },
   "outputs": [],
   "source": [
    "df = all_cov_dfs[\"pool1_fimo_chip\"]"
   ]
  },
  {
   "cell_type": "code",
   "execution_count": 183,
   "metadata": {},
   "outputs": [
    {
     "data": {
      "text/plain": [
       "330"
      ]
     },
     "execution_count": 183,
     "metadata": {},
     "output_type": "execute_result"
    }
   ],
   "source": [
    "no_nan = df[~pd.isnull(df[\"log_max_cov\"]) &\n",
    "            ~pd.isnull(df[\"mpra_activ\"])]\n",
    "\n",
    "# for these, only look at those with >1 motif\n",
    "no_nan = no_nan[no_nan[\"n_motifs\"] > 0]\n",
    "len(no_nan)"
   ]
  },
  {
   "cell_type": "code",
   "execution_count": 184,
   "metadata": {},
   "outputs": [
    {
     "name": "stdout",
     "output_type": "stream",
     "text": [
      "r: 0.0413736163639, spearman p: 0.453822273566\n"
     ]
    },
    {
     "data": {
      "text/plain": [
       "<matplotlib.text.Annotation at 0x2b2402211470>"
      ]
     },
     "execution_count": 184,
     "metadata": {},
     "output_type": "execute_result"
    },
    {
     "data": {
      "image/png": "[encoded data removed]",
      "text/plain": [
       "<matplotlib.figure.Figure at 0x2b2401fb25c0>"
      ]
     },
     "metadata": {},
     "output_type": "display_data"
    }
   ],
   "source": [
    "fig = plt.figure(figsize=(1.2, 1.2))\n",
    "ax = sns.kdeplot(no_nan[\"log_max_cov\"], no_nan[\"mpra_activ\"], cmap=cmap, \n",
    "                 shade=True, shade_lowest=False)\n",
    "ax.set_ylabel(\"mean MPRA activity\")\n",
    "ax.set_xlabel(\"log(max overlapping motifs)\")\n",
    "\n",
    "r, p = stats.spearmanr(no_nan[\"log_max_cov\"], no_nan[\"mpra_activ\"])\n",
    "print(\"r: %s, spearman p: %s\" % (r, p))\n",
    "ax.annotate(\"r = {:.2f}\".format(r), xy=(.05, .9), xycoords=ax.transAxes, fontsize=fontsize)\n",
    "\n",
    "# add n-value\n",
    "ax.annotate(\"n = %s\" % len(no_nan), ha=\"right\", xy=(.96, .9), xycoords=ax.transAxes, \n",
    "            fontsize=fontsize)"
   ]
  },
  {
   "cell_type": "code",
   "execution_count": 185,
   "metadata": {},
   "outputs": [
    {
     "data": {
      "text/plain": [
       "307"
      ]
     },
     "execution_count": 185,
     "metadata": {},
     "output_type": "execute_result"
    }
   ],
   "source": [
    "no_nan = df[~pd.isnull(df[\"log_max_cov\"]) &\n",
    "            ~pd.isnull(df[\"mpra_ts\"])]\n",
    "\n",
    "# for these, only look at those with >1 motif\n",
    "no_nan = no_nan[no_nan[\"n_motifs\"] > 0]\n",
    "len(no_nan)"
   ]
  },
  {
   "cell_type": "code",
   "execution_count": 186,
   "metadata": {},
   "outputs": [
    {
     "name": "stdout",
     "output_type": "stream",
     "text": [
      "r: 0.0393878456306, spearman p: 0.491715781302\n"
     ]
    },
    {
     "data": {
      "text/plain": [
       "<matplotlib.text.Annotation at 0x2b24022b2940>"
      ]
     },
     "execution_count": 186,
     "metadata": {},
     "output_type": "execute_result"
    },
    {
     "data": {
      "image/png": "[encoded data removed]",
      "text/plain": [
       "<matplotlib.figure.Figure at 0x2b24021d63c8>"
      ]
     },
     "metadata": {},
     "output_type": "display_data"
    }
   ],
   "source": [
    "fig = plt.figure(figsize=(1.2, 1.2))\n",
    "ax = sns.kdeplot(no_nan[\"log_max_cov\"], no_nan[\"mpra_ts\"], cmap=cmap, \n",
    "                 shade=True, shade_lowest=False)\n",
    "ax.set_ylabel(\"tissue specificity in MPRA\")\n",
    "ax.set_xlabel(\"log(max overlapping motifs)\")\n",
    "\n",
    "r, p = stats.spearmanr(no_nan[\"log_max_cov\"], no_nan[\"mpra_ts\"])\n",
    "print(\"r: %s, spearman p: %s\" % (r, p))\n",
    "ax.annotate(\"r = {:.2f}\".format(r), xy=(.05, .9), xycoords=ax.transAxes, fontsize=fontsize)\n",
    "\n",
    "# add n-value\n",
    "ax.annotate(\"n = %s\" % len(no_nan), ha=\"right\", xy=(.96, .9), xycoords=ax.transAxes, \n",
    "            fontsize=fontsize)"
   ]
  },
  {
   "cell_type": "markdown",
   "metadata": {},
   "source": [
    "#### fimo only -- no ETS motifs"
   ]
  },
  {
   "cell_type": "code",
   "execution_count": 187,
   "metadata": {
    "collapsed": true
   },
   "outputs": [],
   "source": [
    "df = all_cov_dfs[\"pool1_fimo_no_ets\"]"
   ]
  },
  {
   "cell_type": "code",
   "execution_count": 188,
   "metadata": {},
   "outputs": [
    {
     "data": {
      "text/plain": [
       "2050"
      ]
     },
     "execution_count": 188,
     "metadata": {},
     "output_type": "execute_result"
    }
   ],
   "source": [
    "no_nan = df[~pd.isnull(df[\"log_max_cov\"]) &\n",
    "            ~pd.isnull(df[\"mpra_activ\"])]\n",
    "\n",
    "# for these, only look at those with >1 motif\n",
    "no_nan = no_nan[no_nan[\"n_motifs\"] > 0]\n",
    "len(no_nan)"
   ]
  },
  {
   "cell_type": "code",
   "execution_count": 189,
   "metadata": {},
   "outputs": [
    {
     "name": "stdout",
     "output_type": "stream",
     "text": [
      "r: 0.316965813331, spearman p: 4.53609668907e-49\n"
     ]
    },
    {
     "data": {
      "text/plain": [
       "<matplotlib.text.Annotation at 0x2b2402354470>"
      ]
     },
     "execution_count": 189,
     "metadata": {},
     "output_type": "execute_result"
    },
    {
     "data": {
      "image/png": "[encoded data removed]",
      "text/plain": [
       "<matplotlib.figure.Figure at 0x2b24022756d8>"
      ]
     },
     "metadata": {},
     "output_type": "display_data"
    }
   ],
   "source": [
    "fig = plt.figure(figsize=(1.2, 1.2))\n",
    "ax = sns.kdeplot(no_nan[\"log_max_cov\"], no_nan[\"mpra_activ\"], cmap=cmap, \n",
    "                 shade=True, shade_lowest=False)\n",
    "ax.set_ylabel(\"mean MPRA activity\")\n",
    "ax.set_xlabel(\"log(max overlapping motifs)\")\n",
    "\n",
    "r, p = stats.spearmanr(no_nan[\"log_max_cov\"], no_nan[\"mpra_activ\"])\n",
    "print(\"r: %s, spearman p: %s\" % (r, p))\n",
    "ax.annotate(\"r = {:.2f}\".format(r), xy=(.05, .9), xycoords=ax.transAxes, fontsize=fontsize)\n",
    "\n",
    "# add n-value\n",
    "ax.annotate(\"n = %s\" % len(no_nan), ha=\"right\", xy=(.96, .9), xycoords=ax.transAxes, \n",
    "            fontsize=fontsize)\n",
    "\n",
    "#fig.savefig(\"Fig_2C_2.pdf\", bbox_inches=\"tight\", dpi=\"figure\")"
   ]
  },
  {
   "cell_type": "code",
   "execution_count": 190,
   "metadata": {},
   "outputs": [
    {
     "data": {
      "text/plain": [
       "1959"
      ]
     },
     "execution_count": 190,
     "metadata": {},
     "output_type": "execute_result"
    }
   ],
   "source": [
    "no_nan = df[~pd.isnull(df[\"log_max_cov\"]) &\n",
    "            ~pd.isnull(df[\"mpra_ts\"])]\n",
    "\n",
    "# for these, only look at those with >1 motif\n",
    "no_nan = no_nan[no_nan[\"n_motifs\"] > 0]\n",
    "len(no_nan)"
   ]
  },
  {
   "cell_type": "code",
   "execution_count": 191,
   "metadata": {},
   "outputs": [
    {
     "name": "stdout",
     "output_type": "stream",
     "text": [
      "r: -0.22237239098, spearman p: 2.25726864451e-23\n"
     ]
    },
    {
     "data": {
      "text/plain": [
       "<matplotlib.text.Annotation at 0x2b24023f54e0>"
      ]
     },
     "execution_count": 191,
     "metadata": {},
     "output_type": "execute_result"
    },
    {
     "data": {
      "image/png": "[encoded data removed]",
      "text/plain": [
       "<matplotlib.figure.Figure at 0x2b2402316c18>"
      ]
     },
     "metadata": {},
     "output_type": "display_data"
    }
   ],
   "source": [
    "fig = plt.figure(figsize=(1.2, 1.2))\n",
    "ax = sns.kdeplot(no_nan[\"log_max_cov\"], no_nan[\"mpra_ts\"], cmap=cmap, \n",
    "                 shade=True, shade_lowest=False)\n",
    "ax.set_ylabel(\"tissue specificity in MPRA\")\n",
    "ax.set_xlabel(\"log(max overlapping motifs)\")\n",
    "\n",
    "r, p = stats.spearmanr(no_nan[\"log_max_cov\"], no_nan[\"mpra_ts\"])\n",
    "print(\"r: %s, spearman p: %s\" % (r, p))\n",
    "ax.annotate(\"r = {:.2f}\".format(r), xy=(.05, .9), xycoords=ax.transAxes, fontsize=fontsize)\n",
    "\n",
    "# add n-value\n",
    "ax.annotate(\"n = %s\" % len(no_nan), ha=\"right\", xy=(.96, .9), xycoords=ax.transAxes, \n",
    "            fontsize=fontsize)\n",
    "\n",
    "#fig.savefig(\"Fig_2C_5.pdf\", bbox_inches=\"tight\", dpi=\"figure\")"
   ]
  },
  {
   "cell_type": "markdown",
   "metadata": {},
   "source": [
    "#### fimo intersected w/ chip -- no ETS motifs"
   ]
  },
  {
   "cell_type": "code",
   "execution_count": 192,
   "metadata": {
    "collapsed": true
   },
   "outputs": [],
   "source": [
    "df = all_cov_dfs[\"pool1_fimo_no_ets_chip\"]"
   ]
  },
  {
   "cell_type": "code",
   "execution_count": 193,
   "metadata": {},
   "outputs": [
    {
     "data": {
      "text/plain": [
       "313"
      ]
     },
     "execution_count": 193,
     "metadata": {},
     "output_type": "execute_result"
    }
   ],
   "source": [
    "no_nan = df[~pd.isnull(df[\"log_max_cov\"]) &\n",
    "            ~pd.isnull(df[\"mpra_activ\"])]\n",
    "\n",
    "# for these, only look at those with >1 motif\n",
    "no_nan = no_nan[no_nan[\"n_motifs\"] > 0]\n",
    "len(no_nan)"
   ]
  },
  {
   "cell_type": "code",
   "execution_count": 194,
   "metadata": {},
   "outputs": [
    {
     "name": "stdout",
     "output_type": "stream",
     "text": [
      "r: 0.0281848189693, spearman p: 0.619369586613\n"
     ]
    },
    {
     "data": {
      "text/plain": [
       "<matplotlib.text.Annotation at 0x2b2402499160>"
      ]
     },
     "execution_count": 194,
     "metadata": {},
     "output_type": "execute_result"
    },
    {
     "data": {
      "image/png": "[encoded data removed]",
      "text/plain": [
       "<matplotlib.figure.Figure at 0x2b24023bb7f0>"
      ]
     },
     "metadata": {},
     "output_type": "display_data"
    }
   ],
   "source": [
    "fig = plt.figure(figsize=(1.2, 1.2))\n",
    "ax = sns.kdeplot(no_nan[\"log_max_cov\"], no_nan[\"mpra_activ\"], cmap=cmap, \n",
    "                 shade=True, shade_lowest=False)\n",
    "ax.set_ylabel(\"mean MPRA activity\")\n",
    "ax.set_xlabel(\"log(max overlapping motifs)\")\n",
    "\n",
    "r, p = stats.spearmanr(no_nan[\"log_max_cov\"], no_nan[\"mpra_activ\"])\n",
    "print(\"r: %s, spearman p: %s\" % (r, p))\n",
    "ax.annotate(\"r = {:.2f}\".format(r), xy=(.05, .9), xycoords=ax.transAxes, fontsize=fontsize)\n",
    "\n",
    "# add n-value\n",
    "ax.annotate(\"n = %s\" % len(no_nan), ha=\"right\", xy=(.96, .9), xycoords=ax.transAxes, \n",
    "            fontsize=fontsize)"
   ]
  },
  {
   "cell_type": "code",
   "execution_count": 195,
   "metadata": {},
   "outputs": [
    {
     "data": {
      "text/html": [
       "<div>\n",
       "<style>\n",
       "    .dataframe thead tr:only-child th {\n",
       "        text-align: right;\n",
       "    }\n",
       "\n",
       "    .dataframe thead th {\n",
       "        text-align: left;\n",
       "    }\n",
       "\n",
       "    .dataframe tbody tr th {\n",
       "        vertical-align: top;\n",
       "    }\n",
       "</style>\n",
       "<table border=\"1\" class=\"dataframe\">\n",
       "  <thead>\n",
       "    <tr style=\"text-align: right;\">\n",
       "      <th></th>\n",
       "      <th>unique_id</th>\n",
       "      <th>cage_id</th>\n",
       "      <th>n_motifs</th>\n",
       "      <th>n_bp_cov</th>\n",
       "      <th>max_cov</th>\n",
       "      <th>avg_tf_tissue_sp</th>\n",
       "      <th>log_n_motifs</th>\n",
       "      <th>log_bp_cov</th>\n",
       "      <th>log_max_cov</th>\n",
       "      <th>log_avg_tf_tissue_sp</th>\n",
       "      <th>mpra_activ</th>\n",
       "      <th>mpra_ts</th>\n",
       "    </tr>\n",
       "  </thead>\n",
       "  <tbody>\n",
       "    <tr>\n",
       "      <th>528</th>\n",
       "      <td>WILDTYPE__Lincrna.noflip.NA__chr13:30996348..3...</td>\n",
       "      <td>chr13:30996373..30996399,-</td>\n",
       "      <td>0</td>\n",
       "      <td>0</td>\n",
       "      <td>0.0</td>\n",
       "      <td>NaN</td>\n",
       "      <td>0.000000</td>\n",
       "      <td>0.000000</td>\n",
       "      <td>0.000000</td>\n",
       "      <td>NaN</td>\n",
       "      <td>-0.357592</td>\n",
       "      <td>0.110324</td>\n",
       "    </tr>\n",
       "    <tr>\n",
       "      <th>294</th>\n",
       "      <td>WILDTYPE__Enhancer.noflip.NA__chr11:72449313.....</td>\n",
       "      <td>chr11:72449101-72449742</td>\n",
       "      <td>1</td>\n",
       "      <td>19</td>\n",
       "      <td>1.0</td>\n",
       "      <td>0.135233</td>\n",
       "      <td>0.693147</td>\n",
       "      <td>2.995732</td>\n",
       "      <td>0.693147</td>\n",
       "      <td>0.126838</td>\n",
       "      <td>-0.352728</td>\n",
       "      <td>0.147530</td>\n",
       "    </tr>\n",
       "    <tr>\n",
       "      <th>1839</th>\n",
       "      <td>WILDTYPE__Antisense.noflip.NA__chr8:127570041....</td>\n",
       "      <td>chr8:127570114..127570143,+</td>\n",
       "      <td>1</td>\n",
       "      <td>10</td>\n",
       "      <td>1.0</td>\n",
       "      <td>0.658790</td>\n",
       "      <td>0.693147</td>\n",
       "      <td>2.397895</td>\n",
       "      <td>0.693147</td>\n",
       "      <td>0.506088</td>\n",
       "      <td>-2.192818</td>\n",
       "      <td>0.276334</td>\n",
       "    </tr>\n",
       "    <tr>\n",
       "      <th>946</th>\n",
       "      <td>WILDTYPE__Antisense.noflip.NA__chr19:56989446....</td>\n",
       "      <td>chr19:56989485..56989565,+</td>\n",
       "      <td>0</td>\n",
       "      <td>0</td>\n",
       "      <td>0.0</td>\n",
       "      <td>NaN</td>\n",
       "      <td>0.000000</td>\n",
       "      <td>0.000000</td>\n",
       "      <td>0.000000</td>\n",
       "      <td>NaN</td>\n",
       "      <td>2.838018</td>\n",
       "      <td>0.019674</td>\n",
       "    </tr>\n",
       "    <tr>\n",
       "      <th>560</th>\n",
       "      <td>WILDTYPE_BUT_HAS_SNP__mrna.noflip.NA__chr14:10...</td>\n",
       "      <td>chr14:100772796..100772826,-</td>\n",
       "      <td>0</td>\n",
       "      <td>0</td>\n",
       "      <td>0.0</td>\n",
       "      <td>NaN</td>\n",
       "      <td>0.000000</td>\n",
       "      <td>0.000000</td>\n",
       "      <td>0.000000</td>\n",
       "      <td>NaN</td>\n",
       "      <td>0.771852</td>\n",
       "      <td>NaN</td>\n",
       "    </tr>\n",
       "  </tbody>\n",
       "</table>\n",
       "</div>"
      ],
      "text/plain": [
       "                                              unique_id  \\\n",
       "528   WILDTYPE__Lincrna.noflip.NA__chr13:30996348..3...   \n",
       "294   WILDTYPE__Enhancer.noflip.NA__chr11:72449313.....   \n",
       "1839  WILDTYPE__Antisense.noflip.NA__chr8:127570041....   \n",
       "946   WILDTYPE__Antisense.noflip.NA__chr19:56989446....   \n",
       "560   WILDTYPE_BUT_HAS_SNP__mrna.noflip.NA__chr14:10...   \n",
       "\n",
       "                           cage_id  n_motifs  n_bp_cov  max_cov  \\\n",
       "528     chr13:30996373..30996399,-         0         0      0.0   \n",
       "294        chr11:72449101-72449742         1        19      1.0   \n",
       "1839   chr8:127570114..127570143,+         1        10      1.0   \n",
       "946     chr19:56989485..56989565,+         0         0      0.0   \n",
       "560   chr14:100772796..100772826,-         0         0      0.0   \n",
       "\n",
       "      avg_tf_tissue_sp  log_n_motifs  log_bp_cov  log_max_cov  \\\n",
       "528                NaN      0.000000    0.000000     0.000000   \n",
       "294           0.135233      0.693147    2.995732     0.693147   \n",
       "1839          0.658790      0.693147    2.397895     0.693147   \n",
       "946                NaN      0.000000    0.000000     0.000000   \n",
       "560                NaN      0.000000    0.000000     0.000000   \n",
       "\n",
       "      log_avg_tf_tissue_sp  mpra_activ   mpra_ts  \n",
       "528                    NaN   -0.357592  0.110324  \n",
       "294               0.126838   -0.352728  0.147530  \n",
       "1839              0.506088   -2.192818  0.276334  \n",
       "946                    NaN    2.838018  0.019674  \n",
       "560                    NaN    0.771852       NaN  "
      ]
     },
     "execution_count": 195,
     "metadata": {},
     "output_type": "execute_result"
    }
   ],
   "source": [
    "df.sample(5)"
   ]
  },
  {
   "cell_type": "code",
   "execution_count": 196,
   "metadata": {},
   "outputs": [
    {
     "data": {
      "text/plain": [
       "290"
      ]
     },
     "execution_count": 196,
     "metadata": {},
     "output_type": "execute_result"
    }
   ],
   "source": [
    "no_nan = df[~pd.isnull(df[\"log_max_cov\"]) &\n",
    "            ~pd.isnull(df[\"mpra_ts\"])]\n",
    "\n",
    "# for these, only look at those with >1 motif\n",
    "no_nan = no_nan[no_nan[\"n_motifs\"] > 0]\n",
    "len(no_nan)"
   ]
  },
  {
   "cell_type": "code",
   "execution_count": 197,
   "metadata": {},
   "outputs": [
    {
     "name": "stdout",
     "output_type": "stream",
     "text": [
      "r: 0.0632256325499, spearman p: 0.283218366511\n"
     ]
    },
    {
     "data": {
      "text/plain": [
       "<matplotlib.text.Annotation at 0x2b240253a0b8>"
      ]
     },
     "execution_count": 197,
     "metadata": {},
     "output_type": "execute_result"
    },
    {
     "data": {
      "image/png": "[encoded data removed]",
      "text/plain": [
       "<matplotlib.figure.Figure at 0x2b24024485c0>"
      ]
     },
     "metadata": {},
     "output_type": "display_data"
    }
   ],
   "source": [
    "fig = plt.figure(figsize=(1.2, 1.2))\n",
    "ax = sns.kdeplot(no_nan[\"log_max_cov\"], no_nan[\"mpra_ts\"], cmap=cmap, \n",
    "                 shade=True, shade_lowest=False)\n",
    "ax.set_ylabel(\"tissue specificity in MPRA\")\n",
    "ax.set_xlabel(\"log(max overlapping motifs)\")\n",
    "\n",
    "r, p = stats.spearmanr(no_nan[\"log_max_cov\"], no_nan[\"mpra_ts\"])\n",
    "print(\"r: %s, spearman p: %s\" % (r, p))\n",
    "ax.annotate(\"r = {:.2f}\".format(r), xy=(.05, .9), xycoords=ax.transAxes, fontsize=fontsize)\n",
    "\n",
    "# add n-value\n",
    "ax.annotate(\"n = %s\" % len(no_nan), ha=\"right\", xy=(.96, .9), xycoords=ax.transAxes, \n",
    "            fontsize=fontsize)"
   ]
  },
  {
   "cell_type": "code",
   "execution_count": 198,
   "metadata": {},
   "outputs": [
    {
     "data": {
      "text/plain": [
       "22.0"
      ]
     },
     "execution_count": 198,
     "metadata": {},
     "output_type": "execute_result"
    }
   ],
   "source": [
    "df.max_cov.max()"
   ]
  },
  {
   "cell_type": "code",
   "execution_count": 116,
   "metadata": {},
   "outputs": [
    {
     "data": {
      "text/plain": [
       "0.0     1758\n",
       "1.0      104\n",
       "2.0       85\n",
       "4.0       37\n",
       "3.0       22\n",
       "6.0       17\n",
       "5.0       15\n",
       "8.0        8\n",
       "10.0       8\n",
       "9.0        5\n",
       "7.0        4\n",
       "14.0       3\n",
       "12.0       3\n",
       "16.0       3\n",
       "22.0       2\n",
       "17.0       2\n",
       "15.0       1\n",
       "20.0       1\n",
       "Name: max_cov, dtype: int64"
      ]
     },
     "execution_count": 116,
     "metadata": {},
     "output_type": "execute_result"
    }
   ],
   "source": [
    "df.max_cov.value_counts()"
   ]
  },
  {
   "cell_type": "code",
   "execution_count": 117,
   "metadata": {},
   "outputs": [
    {
     "data": {
      "text/html": [
       "<div>\n",
       "<style>\n",
       "    .dataframe thead tr:only-child th {\n",
       "        text-align: right;\n",
       "    }\n",
       "\n",
       "    .dataframe thead th {\n",
       "        text-align: left;\n",
       "    }\n",
       "\n",
       "    .dataframe tbody tr th {\n",
       "        vertical-align: top;\n",
       "    }\n",
       "</style>\n",
       "<table border=\"1\" class=\"dataframe\">\n",
       "  <thead>\n",
       "    <tr style=\"text-align: right;\">\n",
       "      <th></th>\n",
       "      <th>unique_id</th>\n",
       "      <th>cage_id</th>\n",
       "      <th>n_motifs</th>\n",
       "      <th>n_bp_cov</th>\n",
       "      <th>max_cov</th>\n",
       "      <th>avg_tf_tissue_sp</th>\n",
       "      <th>log_n_motifs</th>\n",
       "      <th>log_bp_cov</th>\n",
       "      <th>log_max_cov</th>\n",
       "      <th>log_avg_tf_tissue_sp</th>\n",
       "      <th>mpra_activ</th>\n",
       "      <th>mpra_ts</th>\n",
       "    </tr>\n",
       "  </thead>\n",
       "  <tbody>\n",
       "    <tr>\n",
       "      <th>0</th>\n",
       "      <td>WILDTYPE__mrna.noflip.NA__chr10:102046079..102...</td>\n",
       "      <td>chr10:102046098..102046122,-</td>\n",
       "      <td>0</td>\n",
       "      <td>0</td>\n",
       "      <td>0.0</td>\n",
       "      <td>NaN</td>\n",
       "      <td>0.00000</td>\n",
       "      <td>0.000000</td>\n",
       "      <td>0.00000</td>\n",
       "      <td>NaN</td>\n",
       "      <td>0.755234</td>\n",
       "      <td>0.339882</td>\n",
       "    </tr>\n",
       "    <tr>\n",
       "      <th>1</th>\n",
       "      <td>WILDTYPE_BUT_HAS_SNP__Lincrna.noflip.NA__chr10...</td>\n",
       "      <td>chr10:102133377..102133394,+</td>\n",
       "      <td>6</td>\n",
       "      <td>17</td>\n",
       "      <td>6.0</td>\n",
       "      <td>0.288011</td>\n",
       "      <td>1.94591</td>\n",
       "      <td>2.890372</td>\n",
       "      <td>1.94591</td>\n",
       "      <td>0.253099</td>\n",
       "      <td>-1.257574</td>\n",
       "      <td>0.401928</td>\n",
       "    </tr>\n",
       "    <tr>\n",
       "      <th>2</th>\n",
       "      <td>WILDTYPE_BUT_HAS_SNP__mrna.flip.sense__chr10:1...</td>\n",
       "      <td>chr10:1034365..1034411,+</td>\n",
       "      <td>0</td>\n",
       "      <td>0</td>\n",
       "      <td>0.0</td>\n",
       "      <td>NaN</td>\n",
       "      <td>0.00000</td>\n",
       "      <td>0.000000</td>\n",
       "      <td>0.00000</td>\n",
       "      <td>NaN</td>\n",
       "      <td>0.480824</td>\n",
       "      <td>0.144071</td>\n",
       "    </tr>\n",
       "    <tr>\n",
       "      <th>3</th>\n",
       "      <td>WILDTYPE_BUT_HAS_SNP__mrna.noflip.NA__chr10:10...</td>\n",
       "      <td>chr10:104597163..104597180,-</td>\n",
       "      <td>0</td>\n",
       "      <td>0</td>\n",
       "      <td>0.0</td>\n",
       "      <td>NaN</td>\n",
       "      <td>0.00000</td>\n",
       "      <td>0.000000</td>\n",
       "      <td>0.00000</td>\n",
       "      <td>NaN</td>\n",
       "      <td>-1.168195</td>\n",
       "      <td>0.270406</td>\n",
       "    </tr>\n",
       "    <tr>\n",
       "      <th>4</th>\n",
       "      <td>WILDTYPE__Lincrna.noflip.NA__chr10:106113294.....</td>\n",
       "      <td>chr10:106113320..106113338,-</td>\n",
       "      <td>0</td>\n",
       "      <td>0</td>\n",
       "      <td>0.0</td>\n",
       "      <td>NaN</td>\n",
       "      <td>0.00000</td>\n",
       "      <td>0.000000</td>\n",
       "      <td>0.00000</td>\n",
       "      <td>NaN</td>\n",
       "      <td>0.412117</td>\n",
       "      <td>0.107425</td>\n",
       "    </tr>\n",
       "  </tbody>\n",
       "</table>\n",
       "</div>"
      ],
      "text/plain": [
       "                                           unique_id  \\\n",
       "0  WILDTYPE__mrna.noflip.NA__chr10:102046079..102...   \n",
       "1  WILDTYPE_BUT_HAS_SNP__Lincrna.noflip.NA__chr10...   \n",
       "2  WILDTYPE_BUT_HAS_SNP__mrna.flip.sense__chr10:1...   \n",
       "3  WILDTYPE_BUT_HAS_SNP__mrna.noflip.NA__chr10:10...   \n",
       "4  WILDTYPE__Lincrna.noflip.NA__chr10:106113294.....   \n",
       "\n",
       "                        cage_id  n_motifs  n_bp_cov  max_cov  \\\n",
       "0  chr10:102046098..102046122,-         0         0      0.0   \n",
       "1  chr10:102133377..102133394,+         6        17      6.0   \n",
       "2      chr10:1034365..1034411,+         0         0      0.0   \n",
       "3  chr10:104597163..104597180,-         0         0      0.0   \n",
       "4  chr10:106113320..106113338,-         0         0      0.0   \n",
       "\n",
       "   avg_tf_tissue_sp  log_n_motifs  log_bp_cov  log_max_cov  \\\n",
       "0               NaN       0.00000    0.000000      0.00000   \n",
       "1          0.288011       1.94591    2.890372      1.94591   \n",
       "2               NaN       0.00000    0.000000      0.00000   \n",
       "3               NaN       0.00000    0.000000      0.00000   \n",
       "4               NaN       0.00000    0.000000      0.00000   \n",
       "\n",
       "   log_avg_tf_tissue_sp  mpra_activ   mpra_ts  \n",
       "0                   NaN    0.755234  0.339882  \n",
       "1              0.253099   -1.257574  0.401928  \n",
       "2                   NaN    0.480824  0.144071  \n",
       "3                   NaN   -1.168195  0.270406  \n",
       "4                   NaN    0.412117  0.107425  "
      ]
     },
     "execution_count": 117,
     "metadata": {},
     "output_type": "execute_result"
    }
   ],
   "source": [
    "df = all_cov_dfs[\"pool1_fimo_chip\"]\n",
    "df.head()"
   ]
  },
  {
   "cell_type": "code",
   "execution_count": null,
   "metadata": {
    "collapsed": true
   },
   "outputs": [],
   "source": []
  }
 ],
 "metadata": {
  "kernelspec": {
   "display_name": "Python 3",
   "language": "python",
   "name": "python3"
  },
  "language_info": {
   "codemirror_mode": {
    "name": "ipython",
    "version": 3
   },
   "file_extension": ".py",
   "mimetype": "text/x-python",
   "name": "python",
   "nbconvert_exporter": "python",
   "pygments_lexer": "ipython3",
   "version": "3.6.2"
  }
 },
 "nbformat": 4,
 "nbformat_minor": 2
}
